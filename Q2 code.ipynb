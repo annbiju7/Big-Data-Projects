{
 "cells": [
  {
   "cell_type": "markdown",
   "metadata": {
    "application/vnd.databricks.v1+cell": {
     "cellMetadata": {},
     "inputWidgets": {},
     "nuid": "96816ed7-b08a-4ca3-abb9-f99880c3535d",
     "showTitle": false,
     "title": ""
    }
   },
   "source": [
    "Question 2 part a"
   ]
  },
  {
   "cell_type": "code",
   "execution_count": 0,
   "metadata": {
    "application/vnd.databricks.v1+cell": {
     "cellMetadata": {
      "byteLimit": 2048000,
      "rowLimit": 10000
     },
     "inputWidgets": {},
     "nuid": "6482be4c-f067-47c9-b0ac-35c938b94601",
     "showTitle": false,
     "title": ""
    }
   },
   "outputs": [
    {
     "output_type": "display_data",
     "data": {
      "text/html": [
       "<style scoped>\n",
       "  .table-result-container {\n",
       "    max-height: 300px;\n",
       "    overflow: auto;\n",
       "  }\n",
       "  table, th, td {\n",
       "    border: 1px solid black;\n",
       "    border-collapse: collapse;\n",
       "  }\n",
       "  th, td {\n",
       "    padding: 5px;\n",
       "  }\n",
       "  th {\n",
       "    text-align: left;\n",
       "  }\n",
       "</style><div class='table-result-container'><table class='table-result'><thead style='background-color: white'><tr><th>_1</th><th>_2</th></tr></thead><tbody><tr><td>Africa</td><td>53.54951656193528</td></tr><tr><td>Asia</td><td>62.56865184754641</td></tr><tr><td>Australia/South Pacific</td><td>61.180869127275976</td></tr><tr><td>Europe</td><td>46.69628524306878</td></tr><tr><td>Middle East</td><td>68.38455378399779</td></tr><tr><td>North America</td><td>55.300932625245935</td></tr><tr><td>South/Central America & Carribean</td><td>62.189438801074665</td></tr></tbody></table></div>"
      ]
     },
     "metadata": {
      "application/vnd.databricks.v1+output": {
       "addedWidgets": {},
       "aggData": [],
       "aggError": "",
       "aggOverflow": false,
       "aggSchema": [],
       "aggSeriesLimitReached": false,
       "aggType": "",
       "arguments": {},
       "columnCustomDisplayInfos": {},
       "data": [
        [
         "Africa",
         53.54951656193528
        ],
        [
         "Asia",
         62.56865184754641
        ],
        [
         "Australia/South Pacific",
         61.180869127275976
        ],
        [
         "Europe",
         46.69628524306878
        ],
        [
         "Middle East",
         68.38455378399779
        ],
        [
         "North America",
         55.300932625245935
        ],
        [
         "South/Central America & Carribean",
         62.189438801074665
        ]
       ],
       "datasetInfos": [],
       "dbfsResultPath": null,
       "isJsonSchema": true,
       "metadata": {},
       "overflow": false,
       "plotOptions": {
        "customPlotOptions": {},
        "displayType": "table",
        "pivotAggregation": null,
        "pivotColumns": null,
        "xColumns": null,
        "yColumns": null
       },
       "removedWidgets": [],
       "schema": [
        {
         "metadata": "{}",
         "name": "_1",
         "type": "\"string\""
        },
        {
         "metadata": "{}",
         "name": "_2",
         "type": "\"double\""
        }
       ],
       "type": "table"
      }
     },
     "output_type": "display_data"
    }
   ],
   "source": [
    "import re\n",
    "from operator import add\n",
    "from pyspark import SparkContext\n",
    "import numpy as np\n",
    "\n",
    "# File location and type\n",
    "file_location = \"/FileStore/tables/city_temperature.csv\"\n",
    "file_type = \"csv\"\n",
    "\n",
    "# loading input file into the RDD\n",
    "city_rdd = sc.textFile(\"/FileStore/tables/city_temperature.csv\")\n",
    "# city_rdd.collect()\n",
    "\n",
    "#PREPROCESSING\n",
    "\n",
    "# filter out the header\n",
    "head = city_rdd.first()\n",
    "rdd1 = city_rdd.filter(lambda x: x != head)\n",
    "#rdd1.collect()\n",
    "\n",
    "map_rdd = rdd1.map(lambda x:x.split(\",\")) \\\n",
    "              .map(lambda c: (c[0], float(c[7]))) #mapping key value pairs where Region = key and AvgTemp = value\n",
    "#map_rdd.collect()\n",
    "\n",
    "# getting temperatures of each region\n",
    "temps_rdd = map_rdd.reduceByKey(lambda x, y: x+y)\n",
    "#temps_rdd.collect()\n",
    "\n",
    "# get counts of regions\n",
    "counts = map_rdd.countByKey() #int dict\n",
    "\n",
    "temps_rdd1 = temps_rdd.sortByKey()\n",
    "\n",
    "#converting counts into an array\n",
    "counts_data = list(counts.items())\n",
    "counts_arr = np.array(counts_data)\n",
    "\n",
    "#convert counts_arr into an RDD\n",
    "counts_rdd = sc.parallelize(counts_arr)\n",
    "\n",
    "#joining the 2 rdds\n",
    "join_rdd = temps_rdd1.join(counts_rdd).sortByKey()\n",
    "#join_rdd.collect()\n",
    "\n",
    "#getting the avg temp of each region and displaying them\n",
    "display(join_rdd.mapValues(lambda x: float(x[0])/float(x[1])).collect())\n"
   ]
  },
  {
   "cell_type": "markdown",
   "metadata": {
    "application/vnd.databricks.v1+cell": {
     "cellMetadata": {},
     "inputWidgets": {},
     "nuid": "52eb6eb7-0cea-4b0e-b2de-ffceaf56afa6",
     "showTitle": false,
     "title": ""
    }
   },
   "source": [
    "Question 2 part b"
   ]
  },
  {
   "cell_type": "code",
   "execution_count": 0,
   "metadata": {
    "application/vnd.databricks.v1+cell": {
     "cellMetadata": {
      "byteLimit": 2048000,
      "rowLimit": 10000
     },
     "inputWidgets": {},
     "nuid": "38a8b26a-0d9d-4caa-b488-1396bda322b6",
     "showTitle": false,
     "title": ""
    }
   },
   "outputs": [
    {
     "output_type": "stream",
     "name": "stderr",
     "output_type": "stream",
     "text": [
      "<command-4322430461351686>:38: VisibleDeprecationWarning: Creating an ndarray from ragged nested sequences (which is a list-or-tuple of lists-or-tuples-or ndarrays with different lengths or shapes) is deprecated. If you meant to do this, you must specify 'dtype=object' when creating the ndarray.\n  counts_arr = np.array(counts_data)\n"
     ]
    },
    {
     "output_type": "display_data",
     "data": {
      "text/html": [
       "<style scoped>\n",
       "  .table-result-container {\n",
       "    max-height: 300px;\n",
       "    overflow: auto;\n",
       "  }\n",
       "  table, th, td {\n",
       "    border: 1px solid black;\n",
       "    border-collapse: collapse;\n",
       "  }\n",
       "  th, td {\n",
       "    padding: 5px;\n",
       "  }\n",
       "  th {\n",
       "    text-align: left;\n",
       "  }\n",
       "</style><div class='table-result-container'><table class='table-result'><thead style='background-color: white'><tr><th>_1</th><th>_2</th></tr></thead><tbody><tr><td>List(1995, Bangladesh)</td><td>42.21424657534248</td></tr><tr><td>List(1995, China)</td><td>59.772493150684916</td></tr><tr><td>List(1995, Hong Kong)</td><td>74.12</td></tr><tr><td>List(1995, India)</td><td>79.12102739726028</td></tr><tr><td>List(1995, Indonesia)</td><td>49.03205479452054</td></tr><tr><td>List(1995, Japan)</td><td>55.523652968036615</td></tr><tr><td>List(1995, Kazakhstan)</td><td>48.61095890410961</td></tr><tr><td>List(1995, Laos)</td><td>81.52958904109589</td></tr><tr><td>List(1995, Malaysia)</td><td>80.56465753424658</td></tr><tr><td>List(1995, Mongolia)</td><td>31.9356164383562</td></tr><tr><td>List(1995, Myanmar (Burma))</td><td>-99.0</td></tr><tr><td>List(1995, Nepal)</td><td>22.466758241758246</td></tr><tr><td>List(1995, North Korea)</td><td>51.12876712328768</td></tr><tr><td>List(1995, Pakistan)</td><td>74.79246575342472</td></tr><tr><td>List(1995, Philippines)</td><td>80.56739726027399</td></tr><tr><td>List(1995, Singapore)</td><td>81.75616438356167</td></tr><tr><td>List(1995, South Korea)</td><td>51.75342465753425</td></tr><tr><td>List(1995, Sri Lanka)</td><td>77.38821917808224</td></tr><tr><td>List(1995, Taiwan)</td><td>73.02356164383565</td></tr><tr><td>List(1995, Tajikistan)</td><td>-36.33616438356166</td></tr><tr><td>List(1995, Thailand)</td><td>-99.0</td></tr><tr><td>List(1995, Turkmenistan)</td><td>63.47095890410957</td></tr><tr><td>List(1995, Uzbekistan)</td><td>59.08301369863013</td></tr><tr><td>List(1995, Vietnam)</td><td>74.38904109589043</td></tr><tr><td>List(1996, Bangladesh)</td><td>38.938524590163944</td></tr><tr><td>List(1996, China)</td><td>59.08896174863387</td></tr><tr><td>List(1996, Hong Kong)</td><td>74.97103825136611</td></tr><tr><td>List(1996, India)</td><td>79.10840163934427</td></tr><tr><td>List(1996, Indonesia)</td><td>47.78852459016394</td></tr><tr><td>List(1996, Japan)</td><td>54.4428961748633</td></tr><tr><td>List(1996, Kazakhstan)</td><td>46.725683060109276</td></tr><tr><td>List(1996, Laos)</td><td>80.33251366120217</td></tr><tr><td>List(1996, Malaysia)</td><td>80.56939890710377</td></tr><tr><td>List(1996, Mongolia)</td><td>26.650546448087407</td></tr><tr><td>List(1996, Myanmar (Burma))</td><td>79.8439890710383</td></tr><tr><td>List(1996, Nepal)</td><td>40.13743169398907</td></tr><tr><td>List(1996, North Korea)</td><td>50.773224043715864</td></tr><tr><td>List(1996, Pakistan)</td><td>73.85136612021849</td></tr><tr><td>List(1996, Philippines)</td><td>81.3609289617486</td></tr><tr><td>List(1996, Singapore)</td><td>81.63715846994529</td></tr><tr><td>List(1996, South Korea)</td><td>51.634153005464505</td></tr><tr><td>List(1996, Sri Lanka)</td><td>72.322131147541</td></tr><tr><td>List(1996, Taiwan)</td><td>73.39945355191254</td></tr><tr><td>List(1996, Tajikistan)</td><td>-76.91803278688523</td></tr><tr><td>List(1996, Thailand)</td><td>84.32213114754093</td></tr><tr><td>List(1996, Turkmenistan)</td><td>61.064754098360616</td></tr><tr><td>List(1996, Uzbekistan)</td><td>57.18196721311473</td></tr><tr><td>List(1996, Vietnam)</td><td>74.32431693989066</td></tr><tr><td>List(1997, Bangladesh)</td><td>-18.885753424657537</td></tr><tr><td>List(1997, China)</td><td>58.28257534246572</td></tr><tr><td>List(1997, Hong Kong)</td><td>75.2531506849315</td></tr><tr><td>List(1997, India)</td><td>79.58924657534256</td></tr><tr><td>List(1997, Indonesia)</td><td>35.323287671232904</td></tr><tr><td>List(1997, Japan)</td><td>55.9392694063927</td></tr><tr><td>List(1997, Kazakhstan)</td><td>50.07945205479448</td></tr><tr><td>List(1997, Kyrgyzstan)</td><td>28.993548387096777</td></tr><tr><td>List(1997, Laos)</td><td>78.57041095890419</td></tr><tr><td>List(1997, Malaysia)</td><td>80.98027397260277</td></tr><tr><td>List(1997, Mongolia)</td><td>32.125479452054805</td></tr><tr><td>List(1997, Myanmar (Burma))</td><td>73.83178082191786</td></tr><tr><td>List(1997, Nepal)</td><td>14.667945205479445</td></tr><tr><td>List(1997, North Korea)</td><td>51.569315068493125</td></tr><tr><td>List(1997, Pakistan)</td><td>71.99972602739726</td></tr><tr><td>List(1997, Philippines)</td><td>81.78547945205473</td></tr><tr><td>List(1997, Singapore)</td><td>82.96082191780825</td></tr><tr><td>List(1997, South Korea)</td><td>52.60246575342461</td></tr><tr><td>List(1997, Sri Lanka)</td><td>35.03835616438354</td></tr><tr><td>List(1997, Taiwan)</td><td>73.14767123287673</td></tr><tr><td>List(1997, Tajikistan)</td><td>-23.921643835616432</td></tr><tr><td>List(1997, Thailand)</td><td>85.98931506849317</td></tr><tr><td>List(1997, Turkmenistan)</td><td>63.03835616438358</td></tr><tr><td>List(1997, Uzbekistan)</td><td>51.57232876712333</td></tr><tr><td>List(1997, Vietnam)</td><td>75.9180821917809</td></tr><tr><td>List(1998, Bangladesh)</td><td>-15.962191780821927</td></tr><tr><td>List(1998, China)</td><td>59.95024657534245</td></tr><tr><td>List(1998, Hong Kong)</td><td>74.32520547945212</td></tr><tr><td>List(1998, India)</td><td>78.21109589041097</td></tr><tr><td>List(1998, Indonesia)</td><td>25.726849315068502</td></tr><tr><td>List(1998, Japan)</td><td>55.24493150684933</td></tr><tr><td>List(1998, Kazakhstan)</td><td>47.20931506849311</td></tr><tr><td>List(1998, Kyrgyzstan)</td><td>21.77315068493151</td></tr><tr><td>List(1998, Laos)</td><td>78.63534246575344</td></tr><tr><td>List(1998, Malaysia)</td><td>16.265205479452035</td></tr><tr><td>List(1998, Mongolia)</td><td>31.159178082191783</td></tr><tr><td>List(1998, Myanmar (Burma))</td><td>66.12356164383563</td></tr><tr><td>List(1998, Nepal)</td><td>45.72630136986298</td></tr><tr><td>List(1998, North Korea)</td><td>50.40986301369858</td></tr><tr><td>List(1998, Pakistan)</td><td>72.72260273972607</td></tr><tr><td>List(1998, Philippines)</td><td>80.68383561643837</td></tr><tr><td>List(1998, Singapore)</td><td>81.12438356164375</td></tr><tr><td>List(1998, South Korea)</td><td>53.550958904109606</td></tr><tr><td>List(1998, Sri Lanka)</td><td>64.39041095890408</td></tr><tr><td>List(1998, Taiwan)</td><td>72.22767123287669</td></tr><tr><td>List(1998, Tajikistan)</td><td>-62.18794520547945</td></tr><tr><td>List(1998, Thailand)</td><td>81.83616438356165</td></tr><tr><td>List(1998, Turkmenistan)</td><td>32.66054794520548</td></tr><tr><td>List(1998, Uzbekistan)</td><td>36.63753424657538</td></tr><tr><td>List(1998, Vietnam)</td><td>74.6912328767123</td></tr><tr><td>List(1999, Bangladesh)</td><td>-35.31890410958904</td></tr><tr><td>List(1999, China)</td><td>60.312657534246604</td></tr><tr><td>List(1999, Hong Kong)</td><td>75.06027397260277</td></tr><tr><td>List(1999, India)</td><td>79.70102739726022</td></tr><tr><td>List(1999, Indonesia)</td><td>-1.5498630136986262</td></tr><tr><td>List(1999, Japan)</td><td>56.159999999999975</td></tr><tr><td>List(1999, Kazakhstan)</td><td>49.43698630136987</td></tr><tr><td>List(1999, Kyrgyzstan)</td><td>50.67205479452058</td></tr><tr><td>List(1999, Laos)</td><td>79.24082191780815</td></tr><tr><td>List(1999, Malaysia)</td><td>80.75095890410955</td></tr><tr><td>List(1999, Mongolia)</td><td>30.951780821917797</td></tr><tr><td>List(1999, Myanmar (Burma))</td><td>46.67095890410958</td></tr><tr><td>List(1999, Nepal)</td><td>41.64082191780826</td></tr><tr><td>List(1999, North Korea)</td><td>51.71424657534248</td></tr><tr><td>List(1999, Pakistan)</td><td>66.0846575342466</td></tr><tr><td>List(1999, Philippines)</td><td>80.45041095890417</td></tr><tr><td>List(1999, Singapore)</td><td>81.10849315068494</td></tr><tr><td>List(1999, South Korea)</td><td>53.36602739726034</td></tr><tr><td>List(1999, Sri Lanka)</td><td>44.08246575342467</td></tr><tr><td>List(1999, Taiwan)</td><td>10.913424657534229</td></tr><tr><td>List(1999, Tajikistan)</td><td>5.138904109589038</td></tr><tr><td>List(1999, Thailand)</td><td>81.21260273972604</td></tr><tr><td>List(1999, Turkmenistan)</td><td>63.958904109589</td></tr><tr><td>List(1999, Uzbekistan)</td><td>59.876712328767105</td></tr><tr><td>List(1999, Vietnam)</td><td>75.43534246575344</td></tr><tr><td>List(2000, Bangladesh)</td><td>1.7278688524590098</td></tr><tr><td>List(2000, China)</td><td>60.07841530054662</td></tr><tr><td>List(2000, Hong Kong)</td><td>75.23497267759564</td></tr><tr><td>List(2000, India)</td><td>79.84139344262289</td></tr><tr><td>List(2000, Indonesia)</td><td>-66.67267759562841</td></tr><tr><td>List(2000, Japan)</td><td>55.88114754098355</td></tr><tr><td>List(2000, Kazakhstan)</td><td>50.0172131147541</td></tr><tr><td>List(2000, Kyrgyzstan)</td><td>54.25683060109289</td></tr><tr><td>List(2000, Laos)</td><td>80.7754098360655</td></tr><tr><td>List(2000, Malaysia)</td><td>79.80136612021853</td></tr><tr><td>List(2000, Mongolia)</td><td>30.028688524590155</td></tr><tr><td>List(2000, Myanmar (Burma))</td><td>75.93169398907108</td></tr><tr><td>List(2000, Nepal)</td><td>38.75601092896174</td></tr><tr><td>List(2000, North Korea)</td><td>49.059016393442576</td></tr><tr><td>List(2000, Pakistan)</td><td>48.29248633879782</td></tr><tr><td>List(2000, Philippines)</td><td>81.9043715846994</td></tr><tr><td>List(2000, Singapore)</td><td>81.57404371584707</td></tr><tr><td>List(2000, South Korea)</td><td>52.37568306010932</td></tr><tr><td>List(2000, Sri Lanka)</td><td>36.260928961748654</td></tr><tr><td>List(2000, Taiwan)</td><td>36.049180327868854</td></tr><tr><td>List(2000, Tajikistan)</td><td>-28.606557377049175</td></tr><tr><td>List(2000, Thailand)</td><td>82.2975409836066</td></tr><tr><td>List(2000, Turkmenistan)</td><td>64.22377049180325</td></tr><tr><td>List(2000, Uzbekistan)</td><td>60.78633879781424</td></tr><tr><td>List(2000, Vietnam)</td><td>74.37814207650271</td></tr><tr><td>List(2001, Bangladesh)</td><td>34.58931506849317</td></tr><tr><td>List(2001, China)</td><td>60.30690410958908</td></tr><tr><td>List(2001, Hong Kong)</td><td>75.57452054794521</td></tr><tr><td>List(2001, India)</td><td>79.7114383561645</td></tr><tr><td>List(2001, Indonesia)</td><td>-75.10109589041096</td></tr><tr><td>List(2001, Japan)</td><td>54.89315068493149</td></tr><tr><td>List(2001, Kazakhstan)</td><td>49.96164383561642</td></tr><tr><td>List(2001, Kyrgyzstan)</td><td>53.37506849315075</td></tr><tr><td>List(2001, Laos)</td><td>76.42410958904114</td></tr><tr><td>List(2001, Malaysia)</td><td>81.98191780821918</td></tr><tr><td>List(2001, Mongolia)</td><td>29.4131506849315</td></tr><tr><td>List(2001, Myanmar (Burma))</td><td>81.20876712328769</td></tr><tr><td>List(2001, Nepal)</td><td>63.28356164383564</td></tr><tr><td>List(2001, North Korea)</td><td>51.050410958904145</td></tr><tr><td>List(2001, Pakistan)</td><td>76.02410958904122</td></tr><tr><td>List(2001, Philippines)</td><td>81.32794520547945</td></tr><tr><td>List(2001, Singapore)</td><td>81.70849315068493</td></tr><tr><td>List(2001, South Korea)</td><td>52.02684931506849</td></tr><tr><td>List(2001, Sri Lanka)</td><td>79.58986301369866</td></tr><tr><td>List(2001, Taiwan)</td><td>70.88767123287666</td></tr><tr><td>List(2001, Tajikistan)</td><td>13.010684931506848</td></tr><tr><td>List(2001, Thailand)</td><td>82.64876712328766</td></tr><tr><td>List(2001, Turkmenistan)</td><td>64.28739726027396</td></tr><tr><td>List(2001, Uzbekistan)</td><td>61.3172602739726</td></tr><tr><td>List(2001, Vietnam)</td><td>74.33890410958904</td></tr><tr><td>List(2002, Bangladesh)</td><td>7.574246575342467</td></tr><tr><td>List(2002, China)</td><td>58.87446575342458</td></tr><tr><td>List(2002, Hong Kong)</td><td>73.9512328767123</td></tr><tr><td>List(2002, India)</td><td>78.33986301369869</td></tr><tr><td>List(2002, Indonesia)</td><td>-77.773698630137</td></tr><tr><td>List(2002, Japan)</td><td>54.097260273972594</td></tr><tr><td>List(2002, Kazakhstan)</td><td>48.57863013698622</td></tr><tr><td>List(2002, Kyrgyzstan)</td><td>52.15205479452061</td></tr><tr><td>List(2002, Laos)</td><td>78.44328767123285</td></tr><tr><td>List(2002, Malaysia)</td><td>80.71863013698632</td></tr><tr><td>List(2002, Mongolia)</td><td>28.28876712328767</td></tr><tr><td>List(2002, Myanmar (Burma))</td><td>79.46904109589039</td></tr><tr><td>List(2002, Nepal)</td><td>58.15315068493153</td></tr><tr><td>List(2002, North Korea)</td><td>45.046575342465765</td></tr><tr><td>List(2002, Pakistan)</td><td>71.25356164383564</td></tr><tr><td>List(2002, Philippines)</td><td>79.57287671232876</td></tr><tr><td>List(2002, Singapore)</td><td>80.6153424657535</td></tr><tr><td>List(2002, South Korea)</td><td>51.413972602739754</td></tr><tr><td>List(2002, Sri Lanka)</td><td>78.40191780821922</td></tr><tr><td>List(2002, Taiwan)</td><td>73.09643835616444</td></tr><tr><td>List(2002, Tajikistan)</td><td>58.74082191780823</td></tr><tr><td>List(2002, Thailand)</td><td>82.7156164383562</td></tr><tr><td>List(2002, Turkmenistan)</td><td>61.51342465753431</td></tr><tr><td>List(2002, Uzbekistan)</td><td>59.10986301369866</td></tr><tr><td>List(2002, Vietnam)</td><td>73.17589041095886</td></tr><tr><td>List(2003, Bangladesh)</td><td>-1.0745205479452054</td></tr><tr><td>List(2003, China)</td><td>60.47682191780817</td></tr><tr><td>List(2003, Hong Kong)</td><td>75.74657534246582</td></tr><tr><td>List(2003, India)</td><td>80.01986301369863</td></tr><tr><td>List(2003, Indonesia)</td><td>-3.5054794520547845</td></tr><tr><td>List(2003, Japan)</td><td>55.19954337899547</td></tr><tr><td>List(2003, Kazakhstan)</td><td>48.06547945205484</td></tr><tr><td>List(2003, Kyrgyzstan)</td><td>52.842191780821885</td></tr><tr><td>List(2003, Laos)</td><td>80.24712328767123</td></tr><tr><td>List(2003, Malaysia)</td><td>82.15315068493148</td></tr><tr><td>List(2003, Mongolia)</td><td>29.238904109589047</td></tr><tr><td>List(2003, Myanmar (Burma))</td><td>81.22684931506843</td></tr><tr><td>List(2003, Nepal)</td><td>66.23890410958903</td></tr><tr><td>List(2003, North Korea)</td><td>50.75972602739723</td></tr><tr><td>List(2003, Pakistan)</td><td>75.68260273972602</td></tr><tr><td>List(2003, Philippines)</td><td>80.56575342465754</td></tr><tr><td>List(2003, Singapore)</td><td>81.58027397260271</td></tr><tr><td>List(2003, South Korea)</td><td>53.14328767123286</td></tr><tr><td>List(2003, Sri Lanka)</td><td>81.38547945205484</td></tr><tr><td>List(2003, Taiwan)</td><td>73.88328767123289</td></tr><tr><td>List(2003, Tajikistan)</td><td>59.30082191780823</td></tr><tr><td>List(2003, Thailand)</td><td>84.49232876712318</td></tr><tr><td>List(2003, Turkmenistan)</td><td>62.26657534246574</td></tr><tr><td>List(2003, Uzbekistan)</td><td>60.16767123287672</td></tr><tr><td>List(2003, Vietnam)</td><td>75.97945205479446</td></tr><tr><td>List(2004, Bangladesh)</td><td>-4.695355191256832</td></tr><tr><td>List(2004, China)</td><td>60.931803278688555</td></tr><tr><td>List(2004, Hong Kong)</td><td>75.33142076502732</td></tr><tr><td>List(2004, India)</td><td>80.20416666666657</td></tr><tr><td>List(2004, Indonesia)</td><td>-47.279234972677585</td></tr><tr><td>List(2004, Japan)</td><td>57.167395264116564</td></tr><tr><td>List(2004, Kazakhstan)</td><td>50.118852459016445</td></tr><tr><td>List(2004, Kyrgyzstan)</td><td>54.21612021857921</td></tr><tr><td>List(2004, Laos)</td><td>80.20819672131145</td></tr><tr><td>List(2004, Malaysia)</td><td>82.09262295081963</td></tr><tr><td>List(2004, Mongolia)</td><td>31.490710382513658</td></tr><tr><td>List(2004, Myanmar (Burma))</td><td>81.22841530054643</td></tr><tr><td>List(2004, Nepal)</td><td>63.85792349726778</td></tr><tr><td>List(2004, North Korea)</td><td>48.50928961748635</td></tr><tr><td>List(2004, Pakistan)</td><td>76.27267759562854</td></tr><tr><td>List(2004, Philippines)</td><td>82.05765027322398</td></tr><tr><td>List(2004, Singapore)</td><td>82.23989071038253</td></tr><tr><td>List(2004, South Korea)</td><td>54.84043715846998</td></tr><tr><td>List(2004, Sri Lanka)</td><td>81.03633879781414</td></tr><tr><td>List(2004, Taiwan)</td><td>73.47021857923505</td></tr><tr><td>List(2004, Tajikistan)</td><td>61.16092896174864</td></tr><tr><td>List(2004, Thailand)</td><td>84.70273224043717</td></tr><tr><td>List(2004, Turkmenistan)</td><td>63.78114754098358</td></tr><tr><td>List(2004, Uzbekistan)</td><td>61.92950819672129</td></tr><tr><td>List(2004, Vietnam)</td><td>73.64262295081969</td></tr><tr><td>List(2005, Bangladesh)</td><td>11.475068493150683</td></tr><tr><td>List(2005, China)</td><td>60.22076712328775</td></tr><tr><td>List(2005, Hong Kong)</td><td>75.07917808219182</td></tr><tr><td>List(2005, India)</td><td>79.9172602739726</td></tr><tr><td>List(2005, Indonesia)</td><td>-74.42219178082193</td></tr><tr><td>List(2005, Japan)</td><td>55.49168949771691</td></tr><tr><td>List(2005, Kazakhstan)</td><td>49.28794520547944</td></tr><tr><td>List(2005, Kyrgyzstan)</td><td>53.78958904109593</td></tr><tr><td>List(2005, Laos)</td><td>80.8813698630137</td></tr><tr><td>List(2005, Malaysia)</td><td>83.10027397260275</td></tr><tr><td>List(2005, Mongolia)</td><td>29.940547945205488</td></tr><tr><td>List(2005, Myanmar (Burma))</td><td>82.3841095890411</td></tr><tr><td>List(2005, Nepal)</td><td>62.23643835616437</td></tr><tr><td>List(2005, North Korea)</td><td>34.877808219178064</td></tr><tr><td>List(2005, Pakistan)</td><td>75.08972602739725</td></tr><tr><td>List(2005, Philippines)</td><td>82.17479452054793</td></tr><tr><td>List(2005, Singapore)</td><td>82.51369863013694</td></tr><tr><td>List(2005, South Korea)</td><td>52.293698630136966</td></tr><tr><td>List(2005, Sri Lanka)</td><td>81.1827397260274</td></tr><tr><td>List(2005, Taiwan)</td><td>73.62301369863015</td></tr><tr><td>List(2005, Tajikistan)</td><td>59.85506849315075</td></tr><tr><td>List(2005, Thailand)</td><td>85.05506849315066</td></tr><tr><td>List(2005, Turkmenistan)</td><td>64.3635616438356</td></tr><tr><td>List(2005, Uzbekistan)</td><td>61.095342465753426</td></tr><tr><td>List(2005, Vietnam)</td><td>74.3054794520548</td></tr><tr><td>List(2006, Bangladesh)</td><td>40.75260273972604</td></tr><tr><td>List(2006, China)</td><td>61.17567123287675</td></tr><tr><td>List(2006, Hong Kong)</td><td>75.89013698630137</td></tr><tr><td>List(2006, India)</td><td>80.50561643835623</td></tr><tr><td>List(2006, Indonesia)</td><td>30.722191780821923</td></tr><tr><td>List(2006, Japan)</td><td>56.2327853881278</td></tr><tr><td>List(2006, Kazakhstan)</td><td>50.30739726027397</td></tr><tr><td>List(2006, Kyrgyzstan)</td><td>54.153698630137</td></tr><tr><td>List(2006, Laos)</td><td>80.73643835616444</td></tr><tr><td>List(2006, Malaysia)</td><td>81.65917808219181</td></tr><tr><td>List(2006, Mongolia)</td><td>30.992328767123286</td></tr><tr><td>List(2006, Myanmar (Burma))</td><td>78.22684931506846</td></tr><tr><td>List(2006, Nepal)</td><td>-25.073150684931505</td></tr><tr><td>List(2006, North Korea)</td><td>34.47753424657533</td></tr><tr><td>List(2006, Pakistan)</td><td>76.03547945205473</td></tr><tr><td>List(2006, Philippines)</td><td>82.36082191780815</td></tr><tr><td>List(2006, Singapore)</td><td>82.0432876712329</td></tr><tr><td>List(2006, South Korea)</td><td>54.021917808219214</td></tr><tr><td>List(2006, Sri Lanka)</td><td>81.15287671232879</td></tr><tr><td>List(2006, Taiwan)</td><td>74.38821917808215</td></tr><tr><td>List(2006, Tajikistan)</td><td>61.33506849315064</td></tr><tr><td>List(2006, Thailand)</td><td>85.13972602739727</td></tr><tr><td>List(2006, Turkmenistan)</td><td>64.2076712328767</td></tr><tr><td>List(2006, Uzbekistan)</td><td>61.55726027397264</td></tr><tr><td>List(2006, Vietnam)</td><td>75.84904109589034</td></tr><tr><td>List(2007, Bangladesh)</td><td>-1.2486338797814207</td></tr><tr><td>List(2007, China)</td><td>61.01342465753427</td></tr><tr><td>List(2007, Hong Kong)</td><td>75.68575342465752</td></tr><tr><td>List(2007, India)</td><td>78.54630136986289</td></tr><tr><td>List(2007, Indonesia)</td><td>72.7731506849315</td></tr><tr><td>List(2007, Japan)</td><td>56.921461187214646</td></tr><tr><td>List(2007, Kazakhstan)</td><td>48.89835616438354</td></tr><tr><td>List(2007, Kyrgyzstan)</td><td>52.67232876712328</td></tr><tr><td>List(2007, Laos)</td><td>80.03205479452052</td></tr><tr><td>List(2007, Malaysia)</td><td>80.7882191780822</td></tr><tr><td>List(2007, Mongolia)</td><td>32.97506849315071</td></tr><tr><td>List(2007, Myanmar (Burma))</td><td>80.65561643835612</td></tr><tr><td>List(2007, Nepal)</td><td>-17.20684931506849</td></tr><tr><td>List(2007, North Korea)</td><td>28.719726027397282</td></tr><tr><td>List(2007, Pakistan)</td><td>75.72876712328778</td></tr><tr><td>List(2007, Philippines)</td><td>82.07013698630142</td></tr><tr><td>List(2007, Singapore)</td><td>81.16438356164382</td></tr><tr><td>List(2007, South Korea)</td><td>53.238356164383525</td></tr><tr><td>List(2007, Sri Lanka)</td><td>80.93013698630136</td></tr><tr><td>List(2007, Taiwan)</td><td>73.58082191780815</td></tr><tr><td>List(2007, Tajikistan)</td><td>59.983561643835515</td></tr><tr><td>List(2007, Thailand)</td><td>83.73452054794524</td></tr><tr><td>List(2007, Turkmenistan)</td><td>62.83835616438363</td></tr><tr><td>List(2007, Uzbekistan)</td><td>60.76410958904115</td></tr><tr><td>List(2007, Vietnam)</td><td>75.39369863013695</td></tr><tr><td>List(2008, Bangladesh)</td><td>-19.79098360655736</td></tr><tr><td>List(2008, China)</td><td>59.445245901639304</td></tr><tr><td>List(2008, Hong Kong)</td><td>73.85081967213114</td></tr><tr><td>List(2008, India)</td><td>79.19084699453552</td></tr><tr><td>List(2008, Indonesia)</td><td>73.18797814207655</td></tr><tr><td>List(2008, Japan)</td><td>55.973679417122035</td></tr><tr><td>List(2008, Kazakhstan)</td><td>49.211748633879765</td></tr><tr><td>List(2008, Kyrgyzstan)</td><td>53.404918032786846</td></tr><tr><td>List(2008, Laos)</td><td>78.01338797814199</td></tr><tr><td>List(2008, Malaysia)</td><td>80.42622950819667</td></tr><tr><td>List(2008, Mongolia)</td><td>31.381967213114788</td></tr><tr><td>List(2008, Myanmar (Burma))</td><td>80.34234972677595</td></tr><tr><td>List(2008, Nepal)</td><td>62.634972677595634</td></tr><tr><td>List(2008, North Korea)</td><td>51.5325136612022</td></tr><tr><td>List(2008, Pakistan)</td><td>74.81707650273223</td></tr><tr><td>List(2008, Philippines)</td><td>80.46530054644809</td></tr><tr><td>List(2008, Singapore)</td><td>81.06803278688527</td></tr><tr><td>List(2008, South Korea)</td><td>53.10218579234973</td></tr><tr><td>List(2008, Sri Lanka)</td><td>79.5385245901639</td></tr><tr><td>List(2008, Taiwan)</td><td>73.68497267759565</td></tr><tr><td>List(2008, Tajikistan)</td><td>59.66612021857923</td></tr><tr><td>List(2008, Thailand)</td><td>79.70710382513666</td></tr><tr><td>List(2008, Turkmenistan)</td><td>62.41994535519127</td></tr><tr><td>List(2008, Uzbekistan)</td><td>59.783879781420836</td></tr><tr><td>List(2008, Vietnam)</td><td>73.28005464480874</td></tr><tr><td>List(2009, Bangladesh)</td><td>38.05397260273975</td></tr><tr><td>List(2009, China)</td><td>60.039671232876685</td></tr><tr><td>List(2009, Hong Kong)</td><td>75.44904109589044</td></tr><tr><td>List(2009, India)</td><td>80.75979452054787</td></tr><tr><td>List(2009, Indonesia)</td><td>75.072602739726</td></tr><tr><td>List(2009, Japan)</td><td>56.47552511415524</td></tr><tr><td>List(2009, Kazakhstan)</td><td>48.66547945205482</td></tr><tr><td>List(2009, Kyrgyzstan)</td><td>52.65561643835621</td></tr><tr><td>List(2009, Laos)</td><td>80.38082191780818</td></tr><tr><td>List(2009, Malaysia)</td><td>81.41534246575337</td></tr><tr><td>List(2009, Mongolia)</td><td>29.862739726027403</td></tr><tr><td>List(2009, Myanmar (Burma))</td><td>81.72904109589038</td></tr><tr><td>List(2009, Nepal)</td><td>61.73671232876705</td></tr><tr><td>List(2009, North Korea)</td><td>47.916712328767126</td></tr><tr><td>List(2009, Pakistan)</td><td>75.57602739726025</td></tr><tr><td>List(2009, Philippines)</td><td>81.17041095890406</td></tr><tr><td>List(2009, Singapore)</td><td>81.88082191780819</td></tr><tr><td>List(2009, South Korea)</td><td>53.32712328767123</td></tr><tr><td>List(2009, Sri Lanka)</td><td>81.04630136986297</td></tr><tr><td>List(2009, Taiwan)</td><td>73.79424657534257</td></tr><tr><td>List(2009, Tajikistan)</td><td>59.632328767123234</td></tr><tr><td>List(2009, Thailand)</td><td>82.70739726027395</td></tr><tr><td>List(2009, Turkmenistan)</td><td>62.889041095890384</td></tr><tr><td>List(2009, Uzbekistan)</td><td>60.59068493150686</td></tr><tr><td>List(2009, Vietnam)</td><td>75.8783561643835</td></tr><tr><td>List(2010, Bangladesh)</td><td>47.048181818181774</td></tr><tr><td>List(2010, China)</td><td>59.66734246575344</td></tr><tr><td>List(2010, Hong Kong)</td><td>75.44547945205478</td></tr><tr><td>List(2010, India)</td><td>80.55897260273964</td></tr><tr><td>List(2010, Indonesia)</td><td>81.78410958904102</td></tr><tr><td>List(2010, Japan)</td><td>57.44100456621</td></tr><tr><td>List(2010, Kazakhstan)</td><td>49.124657534246595</td></tr><tr><td>List(2010, Kyrgyzstan)</td><td>54.137260273972586</td></tr><tr><td>List(2010, Laos)</td><td>81.95397260273981</td></tr><tr><td>List(2010, Malaysia)</td><td>83.42794520547947</td></tr><tr><td>List(2010, Mongolia)</td><td>28.467397260273962</td></tr><tr><td>List(2010, Myanmar (Burma))</td><td>83.26383561643833</td></tr><tr><td>List(2010, Nepal)</td><td>60.37890410958902</td></tr><tr><td>List(2010, North Korea)</td><td>50.29672131147539</td></tr><tr><td>List(2010, Pakistan)</td><td>76.61904109589027</td></tr><tr><td>List(2010, Philippines)</td><td>83.27972602739727</td></tr><tr><td>List(2010, Singapore)</td><td>82.67616438356166</td></tr><tr><td>List(2010, South Korea)</td><td>53.08575342465748</td></tr><tr><td>List(2010, Sri Lanka)</td><td>81.56219178082188</td></tr><tr><td>List(2010, Taiwan)</td><td>73.77342465753425</td></tr><tr><td>List(2010, Tajikistan)</td><td>61.10493150684931</td></tr><tr><td>List(2010, Thailand)</td><td>84.15232876712318</td></tr><tr><td>List(2010, Turkmenistan)</td><td>65.3802739726027</td></tr><tr><td>List(2010, Uzbekistan)</td><td>62.28465753424662</td></tr><tr><td>List(2010, Vietnam)</td><td>76.20794520547946</td></tr><tr><td>List(2011, China)</td><td>59.932986301369965</td></tr><tr><td>List(2011, Hong Kong)</td><td>74.71041095890412</td></tr><tr><td>List(2011, India)</td><td>79.6558904109588</td></tr><tr><td>List(2011, Indonesia)</td><td>83.06246575342472</td></tr><tr><td>List(2011, Japan)</td><td>56.59652968036533</td></tr><tr><td>List(2011, Kazakhstan)</td><td>48.47972602739725</td></tr><tr><td>List(2011, Kyrgyzstan)</td><td>52.423287671232856</td></tr><tr><td>List(2011, Laos)</td><td>79.9073972602739</td></tr><tr><td>List(2011, Malaysia)</td><td>83.06739726027394</td></tr><tr><td>List(2011, Mongolia)</td><td>27.858904109589027</td></tr><tr><td>List(2011, Myanmar (Burma))</td><td>81.07561643835614</td></tr><tr><td>List(2011, Nepal)</td><td>66.14575342465753</td></tr><tr><td>List(2011, North Korea)</td><td>49.57753424657534</td></tr><tr><td>List(2011, Pakistan)</td><td>75.77917808219175</td></tr><tr><td>List(2011, Philippines)</td><td>81.82931506849319</td></tr><tr><td>List(2011, Singapore)</td><td>81.75369863013697</td></tr><tr><td>List(2011, South Korea)</td><td>52.625205479452084</td></tr><tr><td>List(2011, Sri Lanka)</td><td>81.48438356164381</td></tr><tr><td>List(2011, Taiwan)</td><td>72.79397260273966</td></tr><tr><td>List(2011, Tajikistan)</td><td>60.701095890410954</td></tr><tr><td>List(2011, Thailand)</td><td>81.58815789473684</td></tr><tr><td>List(2011, Turkmenistan)</td><td>62.836438356164415</td></tr><tr><td>List(2011, Uzbekistan)</td><td>60.4649315068493</td></tr><tr><td>List(2011, Vietnam)</td><td>73.58739726027397</td></tr><tr><td>List(2012, China)</td><td>59.583989071038275</td></tr><tr><td>List(2012, Hong Kong)</td><td>75.60000000000002</td></tr><tr><td>List(2012, India)</td><td>80.66755464480866</td></tr><tr><td>List(2012, Indonesia)</td><td>82.16912568306019</td></tr><tr><td>List(2012, Japan)</td><td>56.15127504553733</td></tr><tr><td>List(2012, Kazakhstan)</td><td>47.86994535519126</td></tr><tr><td>List(2012, Kyrgyzstan)</td><td>52.36994535519127</td></tr><tr><td>List(2012, Laos)</td><td>82.05027322404366</td></tr><tr><td>List(2012, Malaysia)</td><td>82.97950819672128</td></tr><tr><td>List(2012, Mongolia)</td><td>26.251092896174864</td></tr><tr><td>List(2012, Myanmar (Burma))</td><td>82.24125683060112</td></tr><tr><td>List(2012, Nepal)</td><td>63.91693989071042</td></tr><tr><td>List(2012, North Korea)</td><td>50.684426229508226</td></tr><tr><td>List(2012, Pakistan)</td><td>75.67937158469948</td></tr><tr><td>List(2012, Philippines)</td><td>82.40983606557384</td></tr><tr><td>List(2012, Singapore)</td><td>81.70792349726776</td></tr><tr><td>List(2012, South Korea)</td><td>52.728142076502735</td></tr><tr><td>List(2012, Sri Lanka)</td><td>80.53661202185788</td></tr><tr><td>List(2012, Taiwan)</td><td>73.29535519125689</td></tr><tr><td>List(2012, Tajikistan)</td><td>58.573224043715896</td></tr><tr><td>List(2012, Turkmenistan)</td><td>63.44508196721313</td></tr><tr><td>List(2012, Uzbekistan)</td><td>58.93825136612021</td></tr><tr><td>List(2012, Vietnam)</td><td>75.25628415300542</td></tr><tr><td>List(2013, China)</td><td>60.763013698630054</td></tr><tr><td>List(2013, Hong Kong)</td><td>75.45397260273973</td></tr><tr><td>List(2013, India)</td><td>80.07671232876717</td></tr><tr><td>List(2013, Indonesia)</td><td>82.18986301369856</td></tr><tr><td>List(2013, Japan)</td><td>57.083287671232874</td></tr><tr><td>List(2013, Kazakhstan)</td><td>51.31808219178086</td></tr><tr><td>List(2013, Kyrgyzstan)</td><td>54.89643835616442</td></tr><tr><td>List(2013, Laos)</td><td>81.41479452054793</td></tr><tr><td>List(2013, Malaysia)</td><td>82.33534246575341</td></tr><tr><td>List(2013, Mongolia)</td><td>28.99890410958905</td></tr><tr><td>List(2013, Myanmar (Burma))</td><td>81.60958904109589</td></tr><tr><td>List(2013, Nepal)</td><td>61.436438356164395</td></tr><tr><td>List(2013, North Korea)</td><td>51.49534246575345</td></tr><tr><td>List(2013, Pakistan)</td><td>76.01465753424667</td></tr><tr><td>List(2013, Philippines)</td><td>82.26301369863006</td></tr><tr><td>List(2013, Singapore)</td><td>81.92273972602752</td></tr><tr><td>List(2013, South Korea)</td><td>53.1079452054794</td></tr><tr><td>List(2013, Sri Lanka)</td><td>75.8391780821918</td></tr><tr><td>List(2013, Taiwan)</td><td>73.75479452054797</td></tr><tr><td>List(2013, Tajikistan)</td><td>61.01013698630141</td></tr><tr><td>List(2013, Turkmenistan)</td><td>65.19150684931505</td></tr><tr><td>List(2013, Uzbekistan)</td><td>61.28410958904114</td></tr><tr><td>List(2013, Vietnam)</td><td>73.87232876712328</td></tr><tr><td>List(2014, China)</td><td>60.89808219178074</td></tr><tr><td>List(2014, Hong Kong)</td><td>75.64547945205479</td></tr><tr><td>List(2014, India)</td><td>80.24726027397261</td></tr><tr><td>List(2014, Indonesia)</td><td>82.46821917808208</td></tr><tr><td>List(2014, Japan)</td><td>56.16913242009124</td></tr><tr><td>List(2014, Kazakhstan)</td><td>49.114246575342506</td></tr><tr><td>List(2014, Kyrgyzstan)</td><td>51.06301369863013</td></tr><tr><td>List(2014, Laos)</td><td>80.51178082191778</td></tr><tr><td>List(2014, Malaysia)</td><td>81.93534246575337</td></tr><tr><td>List(2014, Mongolia)</td><td>30.123013698630157</td></tr><tr><td>List(2014, Myanmar (Burma))</td><td>81.15424657534237</td></tr><tr><td>List(2014, Nepal)</td><td>64.13123287671235</td></tr><tr><td>List(2014, North Korea)</td><td>52.3835616438356</td></tr><tr><td>List(2014, Pakistan)</td><td>74.94383561643842</td></tr><tr><td>List(2014, Philippines)</td><td>81.57479452054797</td></tr><tr><td>List(2014, Singapore)</td><td>81.86465753424655</td></tr><tr><td>List(2014, South Korea)</td><td>54.16904109589037</td></tr><tr><td>List(2014, Sri Lanka)</td><td>80.36191780821913</td></tr><tr><td>List(2014, Taiwan)</td><td>73.52630136986302</td></tr><tr><td>List(2014, Tajikistan)</td><td>58.881095890410926</td></tr><tr><td>List(2014, Turkmenistan)</td><td>63.486849315068504</td></tr><tr><td>List(2014, Uzbekistan)</td><td>58.438630136986326</td></tr><tr><td>List(2014, Vietnam)</td><td>75.07589041095896</td></tr><tr><td>List(2015, China)</td><td>60.81060109289617</td></tr><tr><td>List(2015, Hong Kong)</td><td>76.25382513661204</td></tr><tr><td>List(2015, India)</td><td>80.45334699453545</td></tr><tr><td>List(2015, Indonesia)</td><td>81.86502732240442</td></tr><tr><td>List(2015, Japan)</td><td>56.95455373406195</td></tr><tr><td>List(2015, Kazakhstan)</td><td>52.49016393442621</td></tr><tr><td>List(2015, Kyrgyzstan)</td><td>53.92595628415296</td></tr><tr><td>List(2015, Laos)</td><td>80.62158469945359</td></tr><tr><td>List(2015, Malaysia)</td><td>81.74617486338795</td></tr><tr><td>List(2015, Mongolia)</td><td>31.153005464480895</td></tr><tr><td>List(2015, Myanmar (Burma))</td><td>80.82540983606555</td></tr><tr><td>List(2015, Nepal)</td><td>63.6770491803279</td></tr><tr><td>List(2015, North Korea)</td><td>52.27677595628414</td></tr><tr><td>List(2015, Pakistan)</td><td>75.05068306010928</td></tr><tr><td>List(2015, Philippines)</td><td>82.02021857923489</td></tr><tr><td>List(2015, Singapore)</td><td>81.98032786885247</td></tr><tr><td>List(2015, South Korea)</td><td>54.34480874316938</td></tr><tr><td>List(2015, Sri Lanka)</td><td>80.61530054644804</td></tr><tr><td>List(2015, Taiwan)</td><td>73.63087431693987</td></tr><tr><td>List(2015, Tajikistan)</td><td>60.32786885245902</td></tr><tr><td>List(2015, Turkmenistan)</td><td>64.15874316939889</td></tr><tr><td>List(2015, Uzbekistan)</td><td>60.44617486338802</td></tr><tr><td>List(2015, Vietnam)</td><td>74.75519125683067</td></tr><tr><td>List(2016, China)</td><td>59.74983606557374</td></tr><tr><td>List(2016, Hong Kong)</td><td>74.26967213114756</td></tr><tr><td>List(2016, India)</td><td>80.8341530054644</td></tr><tr><td>List(2016, Indonesia)</td><td>81.08715846994536</td></tr><tr><td>List(2016, Japan)</td><td>55.752003642987304</td></tr><tr><td>List(2016, Kazakhstan)</td><td>50.59398907103824</td></tr><tr><td>List(2016, Kyrgyzstan)</td><td>52.73196721311477</td></tr><tr><td>List(2016, Laos)</td><td>79.58688524590168</td></tr><tr><td>List(2016, Malaysia)</td><td>81.46775956284155</td></tr><tr><td>List(2016, Mongolia)</td><td>27.95846994535519</td></tr><tr><td>List(2016, Myanmar (Burma))</td><td>80.9516393442623</td></tr><tr><td>List(2016, Nepal)</td><td>63.71366120218576</td></tr><tr><td>List(2016, North Korea)</td><td>50.95054644808742</td></tr><tr><td>List(2016, Pakistan)</td><td>75.51844262295084</td></tr><tr><td>List(2016, Philippines)</td><td>81.66202185792353</td></tr><tr><td>List(2016, Singapore)</td><td>81.30300546448089</td></tr><tr><td>List(2016, South Korea)</td><td>53.777049180327936</td></tr><tr><td>List(2016, Sri Lanka)</td><td>80.3959016393443</td></tr><tr><td>List(2016, Taiwan)</td><td>72.82431693989072</td></tr><tr><td>List(2016, Tajikistan)</td><td>61.19781420765029</td></tr><tr><td>List(2016, Turkmenistan)</td><td>63.02213114754095</td></tr><tr><td>List(2016, Uzbekistan)</td><td>60.38661202185796</td></tr><tr><td>List(2016, Vietnam)</td><td>75.24426229508201</td></tr><tr><td>List(2017, China)</td><td>62.01704109589035</td></tr><tr><td>List(2017, Hong Kong)</td><td>76.6339726027397</td></tr><tr><td>List(2017, India)</td><td>81.48239726027383</td></tr><tr><td>List(2017, Indonesia)</td><td>82.98575342465755</td></tr><tr><td>List(2017, Japan)</td><td>56.643105022831094</td></tr><tr><td>List(2017, Kazakhstan)</td><td>52.13232876712327</td></tr><tr><td>List(2017, Kyrgyzstan)</td><td>53.82767123287671</td></tr><tr><td>List(2017, Laos)</td><td>80.4443835616438</td></tr><tr><td>List(2017, Malaysia)</td><td>82.25808219178087</td></tr><tr><td>List(2017, Mongolia)</td><td>31.123561643835593</td></tr><tr><td>List(2017, Myanmar (Burma))</td><td>82.44876712328762</td></tr><tr><td>List(2017, Nepal)</td><td>65.55726027397262</td></tr><tr><td>List(2017, North Korea)</td><td>52.25452054794521</td></tr><tr><td>List(2017, Pakistan)</td><td>76.25219178082183</td></tr><tr><td>List(2017, Philippines)</td><td>83.10246575342462</td></tr><tr><td>List(2017, Singapore)</td><td>81.98821917808219</td></tr><tr><td>List(2017, South Korea)</td><td>54.13534246575351</td></tr><tr><td>List(2017, Sri Lanka)</td><td>81.67479452054798</td></tr><tr><td>List(2017, Taiwan)</td><td>75.04301369863013</td></tr><tr><td>List(2017, Tajikistan)</td><td>61.80191780821921</td></tr><tr><td>List(2017, Turkmenistan)</td><td>64.49753424657533</td></tr><tr><td>List(2017, Uzbekistan)</td><td>60.7260273972603</td></tr><tr><td>List(2017, Vietnam)</td><td>76.18383561643842</td></tr><tr><td>List(2018, China)</td><td>59.70624657534246</td></tr><tr><td>List(2018, Hong Kong)</td><td>74.25534246575347</td></tr><tr><td>List(2018, India)</td><td>79.8437671232878</td></tr><tr><td>List(2018, Indonesia)</td><td>80.56904109589043</td></tr><tr><td>List(2018, Japan)</td><td>56.095251141552446</td></tr><tr><td>List(2018, Kazakhstan)</td><td>48.4660273972603</td></tr><tr><td>List(2018, Kyrgyzstan)</td><td>50.33616438356167</td></tr><tr><td>List(2018, Laos)</td><td>78.41452054794519</td></tr><tr><td>List(2018, Malaysia)</td><td>79.53424657534245</td></tr><tr><td>List(2018, Mongolia)</td><td>29.2572602739726</td></tr><tr><td>List(2018, Myanmar (Burma))</td><td>80.46301369863009</td></tr><tr><td>List(2018, Nepal)</td><td>63.05643835616434</td></tr><tr><td>List(2018, North Korea)</td><td>49.63397260273972</td></tr><tr><td>List(2018, Pakistan)</td><td>75.04849315068493</td></tr><tr><td>List(2018, Philippines)</td><td>80.58191780821919</td></tr><tr><td>List(2018, Singapore)</td><td>80.34821917808218</td></tr><tr><td>List(2018, South Korea)</td><td>52.145205479452024</td></tr><tr><td>List(2018, Sri Lanka)</td><td>77.70164383561651</td></tr><tr><td>List(2018, Taiwan)</td><td>73.06767123287668</td></tr><tr><td>List(2018, Tajikistan)</td><td>60.77479452054794</td></tr><tr><td>List(2018, Turkmenistan)</td><td>63.19726027397266</td></tr><tr><td>List(2018, Uzbekistan)</td><td>59.08273972602739</td></tr><tr><td>List(2018, Vietnam)</td><td>74.40657534246577</td></tr><tr><td>List(2019, China)</td><td>59.34558904109593</td></tr><tr><td>List(2019, Hong Kong)</td><td>74.41369863013702</td></tr><tr><td>List(2019, India)</td><td>78.27410958904122</td></tr><tr><td>List(2019, Indonesia)</td><td>81.00931506849315</td></tr><tr><td>List(2019, Japan)</td><td>55.25077625570781</td></tr><tr><td>List(2019, Kazakhstan)</td><td>50.620000000000005</td></tr><tr><td>List(2019, Kyrgyzstan)</td><td>52.75506849315074</td></tr><tr><td>List(2019, Laos)</td><td>79.23698630136978</td></tr><tr><td>List(2019, Malaysia)</td><td>79.98109589041104</td></tr><tr><td>List(2019, Mongolia)</td><td>29.26383561643834</td></tr><tr><td>List(2019, Myanmar (Burma))</td><td>79.66821917808221</td></tr><tr><td>List(2019, Nepal)</td><td>62.71452054794521</td></tr><tr><td>List(2019, North Korea)</td><td>50.792602739726064</td></tr><tr><td>List(2019, Pakistan)</td><td>28.234246575342482</td></tr><tr><td>List(2019, Philippines)</td><td>80.48164383561645</td></tr><tr><td>List(2019, Singapore)</td><td>80.32438356164383</td></tr><tr><td>List(2019, South Korea)</td><td>52.56191780821919</td></tr><tr><td>List(2019, Sri Lanka)</td><td>78.87123287671236</td></tr><tr><td>List(2019, Taiwan)</td><td>72.7454794520548</td></tr><tr><td>List(2019, Tajikistan)</td><td>59.16986301369871</td></tr><tr><td>List(2019, Turkmenistan)</td><td>62.494794520547934</td></tr><tr><td>List(2019, Uzbekistan)</td><td>59.355068493150654</td></tr><tr><td>List(2019, Vietnam)</td><td>74.33342465753418</td></tr><tr><td>List(2020, China)</td><td>52.202391629297395</td></tr><tr><td>List(2020, Hong Kong)</td><td>70.60671641791042</td></tr><tr><td>List(2020, India)</td><td>77.56467289719627</td></tr><tr><td>List(2020, Indonesia)</td><td>83.18345864661653</td></tr><tr><td>List(2020, Japan)</td><td>46.46094527363186</td></tr><tr><td>List(2020, Kazakhstan)</td><td>42.75187969924813</td></tr><tr><td>List(2020, Kyrgyzstan)</td><td>44.90075187969924</td></tr><tr><td>List(2020, Laos)</td><td>81.5694029850746</td></tr><tr><td>List(2020, Malaysia)</td><td>83.80970149253731</td></tr><tr><td>List(2020, Mongolia)</td><td>17.42164179104478</td></tr><tr><td>List(2020, Myanmar (Burma))</td><td>82.54552238805971</td></tr><tr><td>List(2020, Nepal)</td><td>57.9686567164179</td></tr><tr><td>List(2020, North Korea)</td><td>40.838345864661655</td></tr><tr><td>List(2020, Pakistan)</td><td>65.9360902255639</td></tr><tr><td>List(2020, Philippines)</td><td>83.81567164179106</td></tr><tr><td>List(2020, Singapore)</td><td>83.0589552238806</td></tr><tr><td>List(2020, South Korea)</td><td>43.53805970149256</td></tr><tr><td>List(2020, Sri Lanka)</td><td>83.14925373134332</td></tr><tr><td>List(2020, Taiwan)</td><td>68.64328358208952</td></tr><tr><td>List(2020, Tajikistan)</td><td>50.42537313432833</td></tr><tr><td>List(2020, Turkmenistan)</td><td>52.586567164179094</td></tr><tr><td>List(2020, Uzbekistan)</td><td>51.388059701492544</td></tr><tr><td>List(2020, Vietnam)</td><td>70.75074626865674</td></tr></tbody></table></div>"
      ]
     },
     "metadata": {
      "application/vnd.databricks.v1+output": {
       "addedWidgets": {},
       "aggData": [],
       "aggError": "",
       "aggOverflow": false,
       "aggSchema": [],
       "aggSeriesLimitReached": false,
       "aggType": "",
       "arguments": {},
       "columnCustomDisplayInfos": {},
       "data": [
        [
         [
          "1995",
          "Bangladesh"
         ],
         42.21424657534248
        ],
        [
         [
          "1995",
          "China"
         ],
         59.772493150684916
        ],
        [
         [
          "1995",
          "Hong Kong"
         ],
         74.12
        ],
        [
         [
          "1995",
          "India"
         ],
         79.12102739726028
        ],
        [
         [
          "1995",
          "Indonesia"
         ],
         49.03205479452054
        ],
        [
         [
          "1995",
          "Japan"
         ],
         55.523652968036615
        ],
        [
         [
          "1995",
          "Kazakhstan"
         ],
         48.61095890410961
        ],
        [
         [
          "1995",
          "Laos"
         ],
         81.52958904109589
        ],
        [
         [
          "1995",
          "Malaysia"
         ],
         80.56465753424658
        ],
        [
         [
          "1995",
          "Mongolia"
         ],
         31.9356164383562
        ],
        [
         [
          "1995",
          "Myanmar (Burma)"
         ],
         -99.0
        ],
        [
         [
          "1995",
          "Nepal"
         ],
         22.466758241758246
        ],
        [
         [
          "1995",
          "North Korea"
         ],
         51.12876712328768
        ],
        [
         [
          "1995",
          "Pakistan"
         ],
         74.79246575342472
        ],
        [
         [
          "1995",
          "Philippines"
         ],
         80.56739726027399
        ],
        [
         [
          "1995",
          "Singapore"
         ],
         81.75616438356167
        ],
        [
         [
          "1995",
          "South Korea"
         ],
         51.75342465753425
        ],
        [
         [
          "1995",
          "Sri Lanka"
         ],
         77.38821917808224
        ],
        [
         [
          "1995",
          "Taiwan"
         ],
         73.02356164383565
        ],
        [
         [
          "1995",
          "Tajikistan"
         ],
         -36.33616438356166
        ],
        [
         [
          "1995",
          "Thailand"
         ],
         -99.0
        ],
        [
         [
          "1995",
          "Turkmenistan"
         ],
         63.47095890410957
        ],
        [
         [
          "1995",
          "Uzbekistan"
         ],
         59.08301369863013
        ],
        [
         [
          "1995",
          "Vietnam"
         ],
         74.38904109589043
        ],
        [
         [
          "1996",
          "Bangladesh"
         ],
         38.938524590163944
        ],
        [
         [
          "1996",
          "China"
         ],
         59.08896174863387
        ],
        [
         [
          "1996",
          "Hong Kong"
         ],
         74.97103825136611
        ],
        [
         [
          "1996",
          "India"
         ],
         79.10840163934427
        ],
        [
         [
          "1996",
          "Indonesia"
         ],
         47.78852459016394
        ],
        [
         [
          "1996",
          "Japan"
         ],
         54.4428961748633
        ],
        [
         [
          "1996",
          "Kazakhstan"
         ],
         46.725683060109276
        ],
        [
         [
          "1996",
          "Laos"
         ],
         80.33251366120217
        ],
        [
         [
          "1996",
          "Malaysia"
         ],
         80.56939890710377
        ],
        [
         [
          "1996",
          "Mongolia"
         ],
         26.650546448087407
        ],
        [
         [
          "1996",
          "Myanmar (Burma)"
         ],
         79.8439890710383
        ],
        [
         [
          "1996",
          "Nepal"
         ],
         40.13743169398907
        ],
        [
         [
          "1996",
          "North Korea"
         ],
         50.773224043715864
        ],
        [
         [
          "1996",
          "Pakistan"
         ],
         73.85136612021849
        ],
        [
         [
          "1996",
          "Philippines"
         ],
         81.3609289617486
        ],
        [
         [
          "1996",
          "Singapore"
         ],
         81.63715846994529
        ],
        [
         [
          "1996",
          "South Korea"
         ],
         51.634153005464505
        ],
        [
         [
          "1996",
          "Sri Lanka"
         ],
         72.322131147541
        ],
        [
         [
          "1996",
          "Taiwan"
         ],
         73.39945355191254
        ],
        [
         [
          "1996",
          "Tajikistan"
         ],
         -76.91803278688523
        ],
        [
         [
          "1996",
          "Thailand"
         ],
         84.32213114754093
        ],
        [
         [
          "1996",
          "Turkmenistan"
         ],
         61.064754098360616
        ],
        [
         [
          "1996",
          "Uzbekistan"
         ],
         57.18196721311473
        ],
        [
         [
          "1996",
          "Vietnam"
         ],
         74.32431693989066
        ],
        [
         [
          "1997",
          "Bangladesh"
         ],
         -18.885753424657537
        ],
        [
         [
          "1997",
          "China"
         ],
         58.28257534246572
        ],
        [
         [
          "1997",
          "Hong Kong"
         ],
         75.2531506849315
        ],
        [
         [
          "1997",
          "India"
         ],
         79.58924657534256
        ],
        [
         [
          "1997",
          "Indonesia"
         ],
         35.323287671232904
        ],
        [
         [
          "1997",
          "Japan"
         ],
         55.9392694063927
        ],
        [
         [
          "1997",
          "Kazakhstan"
         ],
         50.07945205479448
        ],
        [
         [
          "1997",
          "Kyrgyzstan"
         ],
         28.993548387096777
        ],
        [
         [
          "1997",
          "Laos"
         ],
         78.57041095890419
        ],
        [
         [
          "1997",
          "Malaysia"
         ],
         80.98027397260277
        ],
        [
         [
          "1997",
          "Mongolia"
         ],
         32.125479452054805
        ],
        [
         [
          "1997",
          "Myanmar (Burma)"
         ],
         73.83178082191786
        ],
        [
         [
          "1997",
          "Nepal"
         ],
         14.667945205479445
        ],
        [
         [
          "1997",
          "North Korea"
         ],
         51.569315068493125
        ],
        [
         [
          "1997",
          "Pakistan"
         ],
         71.99972602739726
        ],
        [
         [
          "1997",
          "Philippines"
         ],
         81.78547945205473
        ],
        [
         [
          "1997",
          "Singapore"
         ],
         82.96082191780825
        ],
        [
         [
          "1997",
          "South Korea"
         ],
         52.60246575342461
        ],
        [
         [
          "1997",
          "Sri Lanka"
         ],
         35.03835616438354
        ],
        [
         [
          "1997",
          "Taiwan"
         ],
         73.14767123287673
        ],
        [
         [
          "1997",
          "Tajikistan"
         ],
         -23.921643835616432
        ],
        [
         [
          "1997",
          "Thailand"
         ],
         85.98931506849317
        ],
        [
         [
          "1997",
          "Turkmenistan"
         ],
         63.03835616438358
        ],
        [
         [
          "1997",
          "Uzbekistan"
         ],
         51.57232876712333
        ],
        [
         [
          "1997",
          "Vietnam"
         ],
         75.9180821917809
        ],
        [
         [
          "1998",
          "Bangladesh"
         ],
         -15.962191780821927
        ],
        [
         [
          "1998",
          "China"
         ],
         59.95024657534245
        ],
        [
         [
          "1998",
          "Hong Kong"
         ],
         74.32520547945212
        ],
        [
         [
          "1998",
          "India"
         ],
         78.21109589041097
        ],
        [
         [
          "1998",
          "Indonesia"
         ],
         25.726849315068502
        ],
        [
         [
          "1998",
          "Japan"
         ],
         55.24493150684933
        ],
        [
         [
          "1998",
          "Kazakhstan"
         ],
         47.20931506849311
        ],
        [
         [
          "1998",
          "Kyrgyzstan"
         ],
         21.77315068493151
        ],
        [
         [
          "1998",
          "Laos"
         ],
         78.63534246575344
        ],
        [
         [
          "1998",
          "Malaysia"
         ],
         16.265205479452035
        ],
        [
         [
          "1998",
          "Mongolia"
         ],
         31.159178082191783
        ],
        [
         [
          "1998",
          "Myanmar (Burma)"
         ],
         66.12356164383563
        ],
        [
         [
          "1998",
          "Nepal"
         ],
         45.72630136986298
        ],
        [
         [
          "1998",
          "North Korea"
         ],
         50.40986301369858
        ],
        [
         [
          "1998",
          "Pakistan"
         ],
         72.72260273972607
        ],
        [
         [
          "1998",
          "Philippines"
         ],
         80.68383561643837
        ],
        [
         [
          "1998",
          "Singapore"
         ],
         81.12438356164375
        ],
        [
         [
          "1998",
          "South Korea"
         ],
         53.550958904109606
        ],
        [
         [
          "1998",
          "Sri Lanka"
         ],
         64.39041095890408
        ],
        [
         [
          "1998",
          "Taiwan"
         ],
         72.22767123287669
        ],
        [
         [
          "1998",
          "Tajikistan"
         ],
         -62.18794520547945
        ],
        [
         [
          "1998",
          "Thailand"
         ],
         81.83616438356165
        ],
        [
         [
          "1998",
          "Turkmenistan"
         ],
         32.66054794520548
        ],
        [
         [
          "1998",
          "Uzbekistan"
         ],
         36.63753424657538
        ],
        [
         [
          "1998",
          "Vietnam"
         ],
         74.6912328767123
        ],
        [
         [
          "1999",
          "Bangladesh"
         ],
         -35.31890410958904
        ],
        [
         [
          "1999",
          "China"
         ],
         60.312657534246604
        ],
        [
         [
          "1999",
          "Hong Kong"
         ],
         75.06027397260277
        ],
        [
         [
          "1999",
          "India"
         ],
         79.70102739726022
        ],
        [
         [
          "1999",
          "Indonesia"
         ],
         -1.5498630136986262
        ],
        [
         [
          "1999",
          "Japan"
         ],
         56.159999999999975
        ],
        [
         [
          "1999",
          "Kazakhstan"
         ],
         49.43698630136987
        ],
        [
         [
          "1999",
          "Kyrgyzstan"
         ],
         50.67205479452058
        ],
        [
         [
          "1999",
          "Laos"
         ],
         79.24082191780815
        ],
        [
         [
          "1999",
          "Malaysia"
         ],
         80.75095890410955
        ],
        [
         [
          "1999",
          "Mongolia"
         ],
         30.951780821917797
        ],
        [
         [
          "1999",
          "Myanmar (Burma)"
         ],
         46.67095890410958
        ],
        [
         [
          "1999",
          "Nepal"
         ],
         41.64082191780826
        ],
        [
         [
          "1999",
          "North Korea"
         ],
         51.71424657534248
        ],
        [
         [
          "1999",
          "Pakistan"
         ],
         66.0846575342466
        ],
        [
         [
          "1999",
          "Philippines"
         ],
         80.45041095890417
        ],
        [
         [
          "1999",
          "Singapore"
         ],
         81.10849315068494
        ],
        [
         [
          "1999",
          "South Korea"
         ],
         53.36602739726034
        ],
        [
         [
          "1999",
          "Sri Lanka"
         ],
         44.08246575342467
        ],
        [
         [
          "1999",
          "Taiwan"
         ],
         10.913424657534229
        ],
        [
         [
          "1999",
          "Tajikistan"
         ],
         5.138904109589038
        ],
        [
         [
          "1999",
          "Thailand"
         ],
         81.21260273972604
        ],
        [
         [
          "1999",
          "Turkmenistan"
         ],
         63.958904109589
        ],
        [
         [
          "1999",
          "Uzbekistan"
         ],
         59.876712328767105
        ],
        [
         [
          "1999",
          "Vietnam"
         ],
         75.43534246575344
        ],
        [
         [
          "2000",
          "Bangladesh"
         ],
         1.7278688524590098
        ],
        [
         [
          "2000",
          "China"
         ],
         60.07841530054662
        ],
        [
         [
          "2000",
          "Hong Kong"
         ],
         75.23497267759564
        ],
        [
         [
          "2000",
          "India"
         ],
         79.84139344262289
        ],
        [
         [
          "2000",
          "Indonesia"
         ],
         -66.67267759562841
        ],
        [
         [
          "2000",
          "Japan"
         ],
         55.88114754098355
        ],
        [
         [
          "2000",
          "Kazakhstan"
         ],
         50.0172131147541
        ],
        [
         [
          "2000",
          "Kyrgyzstan"
         ],
         54.25683060109289
        ],
        [
         [
          "2000",
          "Laos"
         ],
         80.7754098360655
        ],
        [
         [
          "2000",
          "Malaysia"
         ],
         79.80136612021853
        ],
        [
         [
          "2000",
          "Mongolia"
         ],
         30.028688524590155
        ],
        [
         [
          "2000",
          "Myanmar (Burma)"
         ],
         75.93169398907108
        ],
        [
         [
          "2000",
          "Nepal"
         ],
         38.75601092896174
        ],
        [
         [
          "2000",
          "North Korea"
         ],
         49.059016393442576
        ],
        [
         [
          "2000",
          "Pakistan"
         ],
         48.29248633879782
        ],
        [
         [
          "2000",
          "Philippines"
         ],
         81.9043715846994
        ],
        [
         [
          "2000",
          "Singapore"
         ],
         81.57404371584707
        ],
        [
         [
          "2000",
          "South Korea"
         ],
         52.37568306010932
        ],
        [
         [
          "2000",
          "Sri Lanka"
         ],
         36.260928961748654
        ],
        [
         [
          "2000",
          "Taiwan"
         ],
         36.049180327868854
        ],
        [
         [
          "2000",
          "Tajikistan"
         ],
         -28.606557377049175
        ],
        [
         [
          "2000",
          "Thailand"
         ],
         82.2975409836066
        ],
        [
         [
          "2000",
          "Turkmenistan"
         ],
         64.22377049180325
        ],
        [
         [
          "2000",
          "Uzbekistan"
         ],
         60.78633879781424
        ],
        [
         [
          "2000",
          "Vietnam"
         ],
         74.37814207650271
        ],
        [
         [
          "2001",
          "Bangladesh"
         ],
         34.58931506849317
        ],
        [
         [
          "2001",
          "China"
         ],
         60.30690410958908
        ],
        [
         [
          "2001",
          "Hong Kong"
         ],
         75.57452054794521
        ],
        [
         [
          "2001",
          "India"
         ],
         79.7114383561645
        ],
        [
         [
          "2001",
          "Indonesia"
         ],
         -75.10109589041096
        ],
        [
         [
          "2001",
          "Japan"
         ],
         54.89315068493149
        ],
        [
         [
          "2001",
          "Kazakhstan"
         ],
         49.96164383561642
        ],
        [
         [
          "2001",
          "Kyrgyzstan"
         ],
         53.37506849315075
        ],
        [
         [
          "2001",
          "Laos"
         ],
         76.42410958904114
        ],
        [
         [
          "2001",
          "Malaysia"
         ],
         81.98191780821918
        ],
        [
         [
          "2001",
          "Mongolia"
         ],
         29.4131506849315
        ],
        [
         [
          "2001",
          "Myanmar (Burma)"
         ],
         81.20876712328769
        ],
        [
         [
          "2001",
          "Nepal"
         ],
         63.28356164383564
        ],
        [
         [
          "2001",
          "North Korea"
         ],
         51.050410958904145
        ],
        [
         [
          "2001",
          "Pakistan"
         ],
         76.02410958904122
        ],
        [
         [
          "2001",
          "Philippines"
         ],
         81.32794520547945
        ],
        [
         [
          "2001",
          "Singapore"
         ],
         81.70849315068493
        ],
        [
         [
          "2001",
          "South Korea"
         ],
         52.02684931506849
        ],
        [
         [
          "2001",
          "Sri Lanka"
         ],
         79.58986301369866
        ],
        [
         [
          "2001",
          "Taiwan"
         ],
         70.88767123287666
        ],
        [
         [
          "2001",
          "Tajikistan"
         ],
         13.010684931506848
        ],
        [
         [
          "2001",
          "Thailand"
         ],
         82.64876712328766
        ],
        [
         [
          "2001",
          "Turkmenistan"
         ],
         64.28739726027396
        ],
        [
         [
          "2001",
          "Uzbekistan"
         ],
         61.3172602739726
        ],
        [
         [
          "2001",
          "Vietnam"
         ],
         74.33890410958904
        ],
        [
         [
          "2002",
          "Bangladesh"
         ],
         7.574246575342467
        ],
        [
         [
          "2002",
          "China"
         ],
         58.87446575342458
        ],
        [
         [
          "2002",
          "Hong Kong"
         ],
         73.9512328767123
        ],
        [
         [
          "2002",
          "India"
         ],
         78.33986301369869
        ],
        [
         [
          "2002",
          "Indonesia"
         ],
         -77.773698630137
        ],
        [
         [
          "2002",
          "Japan"
         ],
         54.097260273972594
        ],
        [
         [
          "2002",
          "Kazakhstan"
         ],
         48.57863013698622
        ],
        [
         [
          "2002",
          "Kyrgyzstan"
         ],
         52.15205479452061
        ],
        [
         [
          "2002",
          "Laos"
         ],
         78.44328767123285
        ],
        [
         [
          "2002",
          "Malaysia"
         ],
         80.71863013698632
        ],
        [
         [
          "2002",
          "Mongolia"
         ],
         28.28876712328767
        ],
        [
         [
          "2002",
          "Myanmar (Burma)"
         ],
         79.46904109589039
        ],
        [
         [
          "2002",
          "Nepal"
         ],
         58.15315068493153
        ],
        [
         [
          "2002",
          "North Korea"
         ],
         45.046575342465765
        ],
        [
         [
          "2002",
          "Pakistan"
         ],
         71.25356164383564
        ],
        [
         [
          "2002",
          "Philippines"
         ],
         79.57287671232876
        ],
        [
         [
          "2002",
          "Singapore"
         ],
         80.6153424657535
        ],
        [
         [
          "2002",
          "South Korea"
         ],
         51.413972602739754
        ],
        [
         [
          "2002",
          "Sri Lanka"
         ],
         78.40191780821922
        ],
        [
         [
          "2002",
          "Taiwan"
         ],
         73.09643835616444
        ],
        [
         [
          "2002",
          "Tajikistan"
         ],
         58.74082191780823
        ],
        [
         [
          "2002",
          "Thailand"
         ],
         82.7156164383562
        ],
        [
         [
          "2002",
          "Turkmenistan"
         ],
         61.51342465753431
        ],
        [
         [
          "2002",
          "Uzbekistan"
         ],
         59.10986301369866
        ],
        [
         [
          "2002",
          "Vietnam"
         ],
         73.17589041095886
        ],
        [
         [
          "2003",
          "Bangladesh"
         ],
         -1.0745205479452054
        ],
        [
         [
          "2003",
          "China"
         ],
         60.47682191780817
        ],
        [
         [
          "2003",
          "Hong Kong"
         ],
         75.74657534246582
        ],
        [
         [
          "2003",
          "India"
         ],
         80.01986301369863
        ],
        [
         [
          "2003",
          "Indonesia"
         ],
         -3.5054794520547845
        ],
        [
         [
          "2003",
          "Japan"
         ],
         55.19954337899547
        ],
        [
         [
          "2003",
          "Kazakhstan"
         ],
         48.06547945205484
        ],
        [
         [
          "2003",
          "Kyrgyzstan"
         ],
         52.842191780821885
        ],
        [
         [
          "2003",
          "Laos"
         ],
         80.24712328767123
        ],
        [
         [
          "2003",
          "Malaysia"
         ],
         82.15315068493148
        ],
        [
         [
          "2003",
          "Mongolia"
         ],
         29.238904109589047
        ],
        [
         [
          "2003",
          "Myanmar (Burma)"
         ],
         81.22684931506843
        ],
        [
         [
          "2003",
          "Nepal"
         ],
         66.23890410958903
        ],
        [
         [
          "2003",
          "North Korea"
         ],
         50.75972602739723
        ],
        [
         [
          "2003",
          "Pakistan"
         ],
         75.68260273972602
        ],
        [
         [
          "2003",
          "Philippines"
         ],
         80.56575342465754
        ],
        [
         [
          "2003",
          "Singapore"
         ],
         81.58027397260271
        ],
        [
         [
          "2003",
          "South Korea"
         ],
         53.14328767123286
        ],
        [
         [
          "2003",
          "Sri Lanka"
         ],
         81.38547945205484
        ],
        [
         [
          "2003",
          "Taiwan"
         ],
         73.88328767123289
        ],
        [
         [
          "2003",
          "Tajikistan"
         ],
         59.30082191780823
        ],
        [
         [
          "2003",
          "Thailand"
         ],
         84.49232876712318
        ],
        [
         [
          "2003",
          "Turkmenistan"
         ],
         62.26657534246574
        ],
        [
         [
          "2003",
          "Uzbekistan"
         ],
         60.16767123287672
        ],
        [
         [
          "2003",
          "Vietnam"
         ],
         75.97945205479446
        ],
        [
         [
          "2004",
          "Bangladesh"
         ],
         -4.695355191256832
        ],
        [
         [
          "2004",
          "China"
         ],
         60.931803278688555
        ],
        [
         [
          "2004",
          "Hong Kong"
         ],
         75.33142076502732
        ],
        [
         [
          "2004",
          "India"
         ],
         80.20416666666657
        ],
        [
         [
          "2004",
          "Indonesia"
         ],
         -47.279234972677585
        ],
        [
         [
          "2004",
          "Japan"
         ],
         57.167395264116564
        ],
        [
         [
          "2004",
          "Kazakhstan"
         ],
         50.118852459016445
        ],
        [
         [
          "2004",
          "Kyrgyzstan"
         ],
         54.21612021857921
        ],
        [
         [
          "2004",
          "Laos"
         ],
         80.20819672131145
        ],
        [
         [
          "2004",
          "Malaysia"
         ],
         82.09262295081963
        ],
        [
         [
          "2004",
          "Mongolia"
         ],
         31.490710382513658
        ],
        [
         [
          "2004",
          "Myanmar (Burma)"
         ],
         81.22841530054643
        ],
        [
         [
          "2004",
          "Nepal"
         ],
         63.85792349726778
        ],
        [
         [
          "2004",
          "North Korea"
         ],
         48.50928961748635
        ],
        [
         [
          "2004",
          "Pakistan"
         ],
         76.27267759562854
        ],
        [
         [
          "2004",
          "Philippines"
         ],
         82.05765027322398
        ],
        [
         [
          "2004",
          "Singapore"
         ],
         82.23989071038253
        ],
        [
         [
          "2004",
          "South Korea"
         ],
         54.84043715846998
        ],
        [
         [
          "2004",
          "Sri Lanka"
         ],
         81.03633879781414
        ],
        [
         [
          "2004",
          "Taiwan"
         ],
         73.47021857923505
        ],
        [
         [
          "2004",
          "Tajikistan"
         ],
         61.16092896174864
        ],
        [
         [
          "2004",
          "Thailand"
         ],
         84.70273224043717
        ],
        [
         [
          "2004",
          "Turkmenistan"
         ],
         63.78114754098358
        ],
        [
         [
          "2004",
          "Uzbekistan"
         ],
         61.92950819672129
        ],
        [
         [
          "2004",
          "Vietnam"
         ],
         73.64262295081969
        ],
        [
         [
          "2005",
          "Bangladesh"
         ],
         11.475068493150683
        ],
        [
         [
          "2005",
          "China"
         ],
         60.22076712328775
        ],
        [
         [
          "2005",
          "Hong Kong"
         ],
         75.07917808219182
        ],
        [
         [
          "2005",
          "India"
         ],
         79.9172602739726
        ],
        [
         [
          "2005",
          "Indonesia"
         ],
         -74.42219178082193
        ],
        [
         [
          "2005",
          "Japan"
         ],
         55.49168949771691
        ],
        [
         [
          "2005",
          "Kazakhstan"
         ],
         49.28794520547944
        ],
        [
         [
          "2005",
          "Kyrgyzstan"
         ],
         53.78958904109593
        ],
        [
         [
          "2005",
          "Laos"
         ],
         80.8813698630137
        ],
        [
         [
          "2005",
          "Malaysia"
         ],
         83.10027397260275
        ],
        [
         [
          "2005",
          "Mongolia"
         ],
         29.940547945205488
        ],
        [
         [
          "2005",
          "Myanmar (Burma)"
         ],
         82.3841095890411
        ],
        [
         [
          "2005",
          "Nepal"
         ],
         62.23643835616437
        ],
        [
         [
          "2005",
          "North Korea"
         ],
         34.877808219178064
        ],
        [
         [
          "2005",
          "Pakistan"
         ],
         75.08972602739725
        ],
        [
         [
          "2005",
          "Philippines"
         ],
         82.17479452054793
        ],
        [
         [
          "2005",
          "Singapore"
         ],
         82.51369863013694
        ],
        [
         [
          "2005",
          "South Korea"
         ],
         52.293698630136966
        ],
        [
         [
          "2005",
          "Sri Lanka"
         ],
         81.1827397260274
        ],
        [
         [
          "2005",
          "Taiwan"
         ],
         73.62301369863015
        ],
        [
         [
          "2005",
          "Tajikistan"
         ],
         59.85506849315075
        ],
        [
         [
          "2005",
          "Thailand"
         ],
         85.05506849315066
        ],
        [
         [
          "2005",
          "Turkmenistan"
         ],
         64.3635616438356
        ],
        [
         [
          "2005",
          "Uzbekistan"
         ],
         61.095342465753426
        ],
        [
         [
          "2005",
          "Vietnam"
         ],
         74.3054794520548
        ],
        [
         [
          "2006",
          "Bangladesh"
         ],
         40.75260273972604
        ],
        [
         [
          "2006",
          "China"
         ],
         61.17567123287675
        ],
        [
         [
          "2006",
          "Hong Kong"
         ],
         75.89013698630137
        ],
        [
         [
          "2006",
          "India"
         ],
         80.50561643835623
        ],
        [
         [
          "2006",
          "Indonesia"
         ],
         30.722191780821923
        ],
        [
         [
          "2006",
          "Japan"
         ],
         56.2327853881278
        ],
        [
         [
          "2006",
          "Kazakhstan"
         ],
         50.30739726027397
        ],
        [
         [
          "2006",
          "Kyrgyzstan"
         ],
         54.153698630137
        ],
        [
         [
          "2006",
          "Laos"
         ],
         80.73643835616444
        ],
        [
         [
          "2006",
          "Malaysia"
         ],
         81.65917808219181
        ],
        [
         [
          "2006",
          "Mongolia"
         ],
         30.992328767123286
        ],
        [
         [
          "2006",
          "Myanmar (Burma)"
         ],
         78.22684931506846
        ],
        [
         [
          "2006",
          "Nepal"
         ],
         -25.073150684931505
        ],
        [
         [
          "2006",
          "North Korea"
         ],
         34.47753424657533
        ],
        [
         [
          "2006",
          "Pakistan"
         ],
         76.03547945205473
        ],
        [
         [
          "2006",
          "Philippines"
         ],
         82.36082191780815
        ],
        [
         [
          "2006",
          "Singapore"
         ],
         82.0432876712329
        ],
        [
         [
          "2006",
          "South Korea"
         ],
         54.021917808219214
        ],
        [
         [
          "2006",
          "Sri Lanka"
         ],
         81.15287671232879
        ],
        [
         [
          "2006",
          "Taiwan"
         ],
         74.38821917808215
        ],
        [
         [
          "2006",
          "Tajikistan"
         ],
         61.33506849315064
        ],
        [
         [
          "2006",
          "Thailand"
         ],
         85.13972602739727
        ],
        [
         [
          "2006",
          "Turkmenistan"
         ],
         64.2076712328767
        ],
        [
         [
          "2006",
          "Uzbekistan"
         ],
         61.55726027397264
        ],
        [
         [
          "2006",
          "Vietnam"
         ],
         75.84904109589034
        ],
        [
         [
          "2007",
          "Bangladesh"
         ],
         -1.2486338797814207
        ],
        [
         [
          "2007",
          "China"
         ],
         61.01342465753427
        ],
        [
         [
          "2007",
          "Hong Kong"
         ],
         75.68575342465752
        ],
        [
         [
          "2007",
          "India"
         ],
         78.54630136986289
        ],
        [
         [
          "2007",
          "Indonesia"
         ],
         72.7731506849315
        ],
        [
         [
          "2007",
          "Japan"
         ],
         56.921461187214646
        ],
        [
         [
          "2007",
          "Kazakhstan"
         ],
         48.89835616438354
        ],
        [
         [
          "2007",
          "Kyrgyzstan"
         ],
         52.67232876712328
        ],
        [
         [
          "2007",
          "Laos"
         ],
         80.03205479452052
        ],
        [
         [
          "2007",
          "Malaysia"
         ],
         80.7882191780822
        ],
        [
         [
          "2007",
          "Mongolia"
         ],
         32.97506849315071
        ],
        [
         [
          "2007",
          "Myanmar (Burma)"
         ],
         80.65561643835612
        ],
        [
         [
          "2007",
          "Nepal"
         ],
         -17.20684931506849
        ],
        [
         [
          "2007",
          "North Korea"
         ],
         28.719726027397282
        ],
        [
         [
          "2007",
          "Pakistan"
         ],
         75.72876712328778
        ],
        [
         [
          "2007",
          "Philippines"
         ],
         82.07013698630142
        ],
        [
         [
          "2007",
          "Singapore"
         ],
         81.16438356164382
        ],
        [
         [
          "2007",
          "South Korea"
         ],
         53.238356164383525
        ],
        [
         [
          "2007",
          "Sri Lanka"
         ],
         80.93013698630136
        ],
        [
         [
          "2007",
          "Taiwan"
         ],
         73.58082191780815
        ],
        [
         [
          "2007",
          "Tajikistan"
         ],
         59.983561643835515
        ],
        [
         [
          "2007",
          "Thailand"
         ],
         83.73452054794524
        ],
        [
         [
          "2007",
          "Turkmenistan"
         ],
         62.83835616438363
        ],
        [
         [
          "2007",
          "Uzbekistan"
         ],
         60.76410958904115
        ],
        [
         [
          "2007",
          "Vietnam"
         ],
         75.39369863013695
        ],
        [
         [
          "2008",
          "Bangladesh"
         ],
         -19.79098360655736
        ],
        [
         [
          "2008",
          "China"
         ],
         59.445245901639304
        ],
        [
         [
          "2008",
          "Hong Kong"
         ],
         73.85081967213114
        ],
        [
         [
          "2008",
          "India"
         ],
         79.19084699453552
        ],
        [
         [
          "2008",
          "Indonesia"
         ],
         73.18797814207655
        ],
        [
         [
          "2008",
          "Japan"
         ],
         55.973679417122035
        ],
        [
         [
          "2008",
          "Kazakhstan"
         ],
         49.211748633879765
        ],
        [
         [
          "2008",
          "Kyrgyzstan"
         ],
         53.404918032786846
        ],
        [
         [
          "2008",
          "Laos"
         ],
         78.01338797814199
        ],
        [
         [
          "2008",
          "Malaysia"
         ],
         80.42622950819667
        ],
        [
         [
          "2008",
          "Mongolia"
         ],
         31.381967213114788
        ],
        [
         [
          "2008",
          "Myanmar (Burma)"
         ],
         80.34234972677595
        ],
        [
         [
          "2008",
          "Nepal"
         ],
         62.634972677595634
        ],
        [
         [
          "2008",
          "North Korea"
         ],
         51.5325136612022
        ],
        [
         [
          "2008",
          "Pakistan"
         ],
         74.81707650273223
        ],
        [
         [
          "2008",
          "Philippines"
         ],
         80.46530054644809
        ],
        [
         [
          "2008",
          "Singapore"
         ],
         81.06803278688527
        ],
        [
         [
          "2008",
          "South Korea"
         ],
         53.10218579234973
        ],
        [
         [
          "2008",
          "Sri Lanka"
         ],
         79.5385245901639
        ],
        [
         [
          "2008",
          "Taiwan"
         ],
         73.68497267759565
        ],
        [
         [
          "2008",
          "Tajikistan"
         ],
         59.66612021857923
        ],
        [
         [
          "2008",
          "Thailand"
         ],
         79.70710382513666
        ],
        [
         [
          "2008",
          "Turkmenistan"
         ],
         62.41994535519127
        ],
        [
         [
          "2008",
          "Uzbekistan"
         ],
         59.783879781420836
        ],
        [
         [
          "2008",
          "Vietnam"
         ],
         73.28005464480874
        ],
        [
         [
          "2009",
          "Bangladesh"
         ],
         38.05397260273975
        ],
        [
         [
          "2009",
          "China"
         ],
         60.039671232876685
        ],
        [
         [
          "2009",
          "Hong Kong"
         ],
         75.44904109589044
        ],
        [
         [
          "2009",
          "India"
         ],
         80.75979452054787
        ],
        [
         [
          "2009",
          "Indonesia"
         ],
         75.072602739726
        ],
        [
         [
          "2009",
          "Japan"
         ],
         56.47552511415524
        ],
        [
         [
          "2009",
          "Kazakhstan"
         ],
         48.66547945205482
        ],
        [
         [
          "2009",
          "Kyrgyzstan"
         ],
         52.65561643835621
        ],
        [
         [
          "2009",
          "Laos"
         ],
         80.38082191780818
        ],
        [
         [
          "2009",
          "Malaysia"
         ],
         81.41534246575337
        ],
        [
         [
          "2009",
          "Mongolia"
         ],
         29.862739726027403
        ],
        [
         [
          "2009",
          "Myanmar (Burma)"
         ],
         81.72904109589038
        ],
        [
         [
          "2009",
          "Nepal"
         ],
         61.73671232876705
        ],
        [
         [
          "2009",
          "North Korea"
         ],
         47.916712328767126
        ],
        [
         [
          "2009",
          "Pakistan"
         ],
         75.57602739726025
        ],
        [
         [
          "2009",
          "Philippines"
         ],
         81.17041095890406
        ],
        [
         [
          "2009",
          "Singapore"
         ],
         81.88082191780819
        ],
        [
         [
          "2009",
          "South Korea"
         ],
         53.32712328767123
        ],
        [
         [
          "2009",
          "Sri Lanka"
         ],
         81.04630136986297
        ],
        [
         [
          "2009",
          "Taiwan"
         ],
         73.79424657534257
        ],
        [
         [
          "2009",
          "Tajikistan"
         ],
         59.632328767123234
        ],
        [
         [
          "2009",
          "Thailand"
         ],
         82.70739726027395
        ],
        [
         [
          "2009",
          "Turkmenistan"
         ],
         62.889041095890384
        ],
        [
         [
          "2009",
          "Uzbekistan"
         ],
         60.59068493150686
        ],
        [
         [
          "2009",
          "Vietnam"
         ],
         75.8783561643835
        ],
        [
         [
          "2010",
          "Bangladesh"
         ],
         47.048181818181774
        ],
        [
         [
          "2010",
          "China"
         ],
         59.66734246575344
        ],
        [
         [
          "2010",
          "Hong Kong"
         ],
         75.44547945205478
        ],
        [
         [
          "2010",
          "India"
         ],
         80.55897260273964
        ],
        [
         [
          "2010",
          "Indonesia"
         ],
         81.78410958904102
        ],
        [
         [
          "2010",
          "Japan"
         ],
         57.44100456621
        ],
        [
         [
          "2010",
          "Kazakhstan"
         ],
         49.124657534246595
        ],
        [
         [
          "2010",
          "Kyrgyzstan"
         ],
         54.137260273972586
        ],
        [
         [
          "2010",
          "Laos"
         ],
         81.95397260273981
        ],
        [
         [
          "2010",
          "Malaysia"
         ],
         83.42794520547947
        ],
        [
         [
          "2010",
          "Mongolia"
         ],
         28.467397260273962
        ],
        [
         [
          "2010",
          "Myanmar (Burma)"
         ],
         83.26383561643833
        ],
        [
         [
          "2010",
          "Nepal"
         ],
         60.37890410958902
        ],
        [
         [
          "2010",
          "North Korea"
         ],
         50.29672131147539
        ],
        [
         [
          "2010",
          "Pakistan"
         ],
         76.61904109589027
        ],
        [
         [
          "2010",
          "Philippines"
         ],
         83.27972602739727
        ],
        [
         [
          "2010",
          "Singapore"
         ],
         82.67616438356166
        ],
        [
         [
          "2010",
          "South Korea"
         ],
         53.08575342465748
        ],
        [
         [
          "2010",
          "Sri Lanka"
         ],
         81.56219178082188
        ],
        [
         [
          "2010",
          "Taiwan"
         ],
         73.77342465753425
        ],
        [
         [
          "2010",
          "Tajikistan"
         ],
         61.10493150684931
        ],
        [
         [
          "2010",
          "Thailand"
         ],
         84.15232876712318
        ],
        [
         [
          "2010",
          "Turkmenistan"
         ],
         65.3802739726027
        ],
        [
         [
          "2010",
          "Uzbekistan"
         ],
         62.28465753424662
        ],
        [
         [
          "2010",
          "Vietnam"
         ],
         76.20794520547946
        ],
        [
         [
          "2011",
          "China"
         ],
         59.932986301369965
        ],
        [
         [
          "2011",
          "Hong Kong"
         ],
         74.71041095890412
        ],
        [
         [
          "2011",
          "India"
         ],
         79.6558904109588
        ],
        [
         [
          "2011",
          "Indonesia"
         ],
         83.06246575342472
        ],
        [
         [
          "2011",
          "Japan"
         ],
         56.59652968036533
        ],
        [
         [
          "2011",
          "Kazakhstan"
         ],
         48.47972602739725
        ],
        [
         [
          "2011",
          "Kyrgyzstan"
         ],
         52.423287671232856
        ],
        [
         [
          "2011",
          "Laos"
         ],
         79.9073972602739
        ],
        [
         [
          "2011",
          "Malaysia"
         ],
         83.06739726027394
        ],
        [
         [
          "2011",
          "Mongolia"
         ],
         27.858904109589027
        ],
        [
         [
          "2011",
          "Myanmar (Burma)"
         ],
         81.07561643835614
        ],
        [
         [
          "2011",
          "Nepal"
         ],
         66.14575342465753
        ],
        [
         [
          "2011",
          "North Korea"
         ],
         49.57753424657534
        ],
        [
         [
          "2011",
          "Pakistan"
         ],
         75.77917808219175
        ],
        [
         [
          "2011",
          "Philippines"
         ],
         81.82931506849319
        ],
        [
         [
          "2011",
          "Singapore"
         ],
         81.75369863013697
        ],
        [
         [
          "2011",
          "South Korea"
         ],
         52.625205479452084
        ],
        [
         [
          "2011",
          "Sri Lanka"
         ],
         81.48438356164381
        ],
        [
         [
          "2011",
          "Taiwan"
         ],
         72.79397260273966
        ],
        [
         [
          "2011",
          "Tajikistan"
         ],
         60.701095890410954
        ],
        [
         [
          "2011",
          "Thailand"
         ],
         81.58815789473684
        ],
        [
         [
          "2011",
          "Turkmenistan"
         ],
         62.836438356164415
        ],
        [
         [
          "2011",
          "Uzbekistan"
         ],
         60.4649315068493
        ],
        [
         [
          "2011",
          "Vietnam"
         ],
         73.58739726027397
        ],
        [
         [
          "2012",
          "China"
         ],
         59.583989071038275
        ],
        [
         [
          "2012",
          "Hong Kong"
         ],
         75.60000000000002
        ],
        [
         [
          "2012",
          "India"
         ],
         80.66755464480866
        ],
        [
         [
          "2012",
          "Indonesia"
         ],
         82.16912568306019
        ],
        [
         [
          "2012",
          "Japan"
         ],
         56.15127504553733
        ],
        [
         [
          "2012",
          "Kazakhstan"
         ],
         47.86994535519126
        ],
        [
         [
          "2012",
          "Kyrgyzstan"
         ],
         52.36994535519127
        ],
        [
         [
          "2012",
          "Laos"
         ],
         82.05027322404366
        ],
        [
         [
          "2012",
          "Malaysia"
         ],
         82.97950819672128
        ],
        [
         [
          "2012",
          "Mongolia"
         ],
         26.251092896174864
        ],
        [
         [
          "2012",
          "Myanmar (Burma)"
         ],
         82.24125683060112
        ],
        [
         [
          "2012",
          "Nepal"
         ],
         63.91693989071042
        ],
        [
         [
          "2012",
          "North Korea"
         ],
         50.684426229508226
        ],
        [
         [
          "2012",
          "Pakistan"
         ],
         75.67937158469948
        ],
        [
         [
          "2012",
          "Philippines"
         ],
         82.40983606557384
        ],
        [
         [
          "2012",
          "Singapore"
         ],
         81.70792349726776
        ],
        [
         [
          "2012",
          "South Korea"
         ],
         52.728142076502735
        ],
        [
         [
          "2012",
          "Sri Lanka"
         ],
         80.53661202185788
        ],
        [
         [
          "2012",
          "Taiwan"
         ],
         73.29535519125689
        ],
        [
         [
          "2012",
          "Tajikistan"
         ],
         58.573224043715896
        ],
        [
         [
          "2012",
          "Turkmenistan"
         ],
         63.44508196721313
        ],
        [
         [
          "2012",
          "Uzbekistan"
         ],
         58.93825136612021
        ],
        [
         [
          "2012",
          "Vietnam"
         ],
         75.25628415300542
        ],
        [
         [
          "2013",
          "China"
         ],
         60.763013698630054
        ],
        [
         [
          "2013",
          "Hong Kong"
         ],
         75.45397260273973
        ],
        [
         [
          "2013",
          "India"
         ],
         80.07671232876717
        ],
        [
         [
          "2013",
          "Indonesia"
         ],
         82.18986301369856
        ],
        [
         [
          "2013",
          "Japan"
         ],
         57.083287671232874
        ],
        [
         [
          "2013",
          "Kazakhstan"
         ],
         51.31808219178086
        ],
        [
         [
          "2013",
          "Kyrgyzstan"
         ],
         54.89643835616442
        ],
        [
         [
          "2013",
          "Laos"
         ],
         81.41479452054793
        ],
        [
         [
          "2013",
          "Malaysia"
         ],
         82.33534246575341
        ],
        [
         [
          "2013",
          "Mongolia"
         ],
         28.99890410958905
        ],
        [
         [
          "2013",
          "Myanmar (Burma)"
         ],
         81.60958904109589
        ],
        [
         [
          "2013",
          "Nepal"
         ],
         61.436438356164395
        ],
        [
         [
          "2013",
          "North Korea"
         ],
         51.49534246575345
        ],
        [
         [
          "2013",
          "Pakistan"
         ],
         76.01465753424667
        ],
        [
         [
          "2013",
          "Philippines"
         ],
         82.26301369863006
        ],
        [
         [
          "2013",
          "Singapore"
         ],
         81.92273972602752
        ],
        [
         [
          "2013",
          "South Korea"
         ],
         53.1079452054794
        ],
        [
         [
          "2013",
          "Sri Lanka"
         ],
         75.8391780821918
        ],
        [
         [
          "2013",
          "Taiwan"
         ],
         73.75479452054797
        ],
        [
         [
          "2013",
          "Tajikistan"
         ],
         61.01013698630141
        ],
        [
         [
          "2013",
          "Turkmenistan"
         ],
         65.19150684931505
        ],
        [
         [
          "2013",
          "Uzbekistan"
         ],
         61.28410958904114
        ],
        [
         [
          "2013",
          "Vietnam"
         ],
         73.87232876712328
        ],
        [
         [
          "2014",
          "China"
         ],
         60.89808219178074
        ],
        [
         [
          "2014",
          "Hong Kong"
         ],
         75.64547945205479
        ],
        [
         [
          "2014",
          "India"
         ],
         80.24726027397261
        ],
        [
         [
          "2014",
          "Indonesia"
         ],
         82.46821917808208
        ],
        [
         [
          "2014",
          "Japan"
         ],
         56.16913242009124
        ],
        [
         [
          "2014",
          "Kazakhstan"
         ],
         49.114246575342506
        ],
        [
         [
          "2014",
          "Kyrgyzstan"
         ],
         51.06301369863013
        ],
        [
         [
          "2014",
          "Laos"
         ],
         80.51178082191778
        ],
        [
         [
          "2014",
          "Malaysia"
         ],
         81.93534246575337
        ],
        [
         [
          "2014",
          "Mongolia"
         ],
         30.123013698630157
        ],
        [
         [
          "2014",
          "Myanmar (Burma)"
         ],
         81.15424657534237
        ],
        [
         [
          "2014",
          "Nepal"
         ],
         64.13123287671235
        ],
        [
         [
          "2014",
          "North Korea"
         ],
         52.3835616438356
        ],
        [
         [
          "2014",
          "Pakistan"
         ],
         74.94383561643842
        ],
        [
         [
          "2014",
          "Philippines"
         ],
         81.57479452054797
        ],
        [
         [
          "2014",
          "Singapore"
         ],
         81.86465753424655
        ],
        [
         [
          "2014",
          "South Korea"
         ],
         54.16904109589037
        ],
        [
         [
          "2014",
          "Sri Lanka"
         ],
         80.36191780821913
        ],
        [
         [
          "2014",
          "Taiwan"
         ],
         73.52630136986302
        ],
        [
         [
          "2014",
          "Tajikistan"
         ],
         58.881095890410926
        ],
        [
         [
          "2014",
          "Turkmenistan"
         ],
         63.486849315068504
        ],
        [
         [
          "2014",
          "Uzbekistan"
         ],
         58.438630136986326
        ],
        [
         [
          "2014",
          "Vietnam"
         ],
         75.07589041095896
        ],
        [
         [
          "2015",
          "China"
         ],
         60.81060109289617
        ],
        [
         [
          "2015",
          "Hong Kong"
         ],
         76.25382513661204
        ],
        [
         [
          "2015",
          "India"
         ],
         80.45334699453545
        ],
        [
         [
          "2015",
          "Indonesia"
         ],
         81.86502732240442
        ],
        [
         [
          "2015",
          "Japan"
         ],
         56.95455373406195
        ],
        [
         [
          "2015",
          "Kazakhstan"
         ],
         52.49016393442621
        ],
        [
         [
          "2015",
          "Kyrgyzstan"
         ],
         53.92595628415296
        ],
        [
         [
          "2015",
          "Laos"
         ],
         80.62158469945359
        ],
        [
         [
          "2015",
          "Malaysia"
         ],
         81.74617486338795
        ],
        [
         [
          "2015",
          "Mongolia"
         ],
         31.153005464480895
        ],
        [
         [
          "2015",
          "Myanmar (Burma)"
         ],
         80.82540983606555
        ],
        [
         [
          "2015",
          "Nepal"
         ],
         63.6770491803279
        ],
        [
         [
          "2015",
          "North Korea"
         ],
         52.27677595628414
        ],
        [
         [
          "2015",
          "Pakistan"
         ],
         75.05068306010928
        ],
        [
         [
          "2015",
          "Philippines"
         ],
         82.02021857923489
        ],
        [
         [
          "2015",
          "Singapore"
         ],
         81.98032786885247
        ],
        [
         [
          "2015",
          "South Korea"
         ],
         54.34480874316938
        ],
        [
         [
          "2015",
          "Sri Lanka"
         ],
         80.61530054644804
        ],
        [
         [
          "2015",
          "Taiwan"
         ],
         73.63087431693987
        ],
        [
         [
          "2015",
          "Tajikistan"
         ],
         60.32786885245902
        ],
        [
         [
          "2015",
          "Turkmenistan"
         ],
         64.15874316939889
        ],
        [
         [
          "2015",
          "Uzbekistan"
         ],
         60.44617486338802
        ],
        [
         [
          "2015",
          "Vietnam"
         ],
         74.75519125683067
        ],
        [
         [
          "2016",
          "China"
         ],
         59.74983606557374
        ],
        [
         [
          "2016",
          "Hong Kong"
         ],
         74.26967213114756
        ],
        [
         [
          "2016",
          "India"
         ],
         80.8341530054644
        ],
        [
         [
          "2016",
          "Indonesia"
         ],
         81.08715846994536
        ],
        [
         [
          "2016",
          "Japan"
         ],
         55.752003642987304
        ],
        [
         [
          "2016",
          "Kazakhstan"
         ],
         50.59398907103824
        ],
        [
         [
          "2016",
          "Kyrgyzstan"
         ],
         52.73196721311477
        ],
        [
         [
          "2016",
          "Laos"
         ],
         79.58688524590168
        ],
        [
         [
          "2016",
          "Malaysia"
         ],
         81.46775956284155
        ],
        [
         [
          "2016",
          "Mongolia"
         ],
         27.95846994535519
        ],
        [
         [
          "2016",
          "Myanmar (Burma)"
         ],
         80.9516393442623
        ],
        [
         [
          "2016",
          "Nepal"
         ],
         63.71366120218576
        ],
        [
         [
          "2016",
          "North Korea"
         ],
         50.95054644808742
        ],
        [
         [
          "2016",
          "Pakistan"
         ],
         75.51844262295084
        ],
        [
         [
          "2016",
          "Philippines"
         ],
         81.66202185792353
        ],
        [
         [
          "2016",
          "Singapore"
         ],
         81.30300546448089
        ],
        [
         [
          "2016",
          "South Korea"
         ],
         53.777049180327936
        ],
        [
         [
          "2016",
          "Sri Lanka"
         ],
         80.3959016393443
        ],
        [
         [
          "2016",
          "Taiwan"
         ],
         72.82431693989072
        ],
        [
         [
          "2016",
          "Tajikistan"
         ],
         61.19781420765029
        ],
        [
         [
          "2016",
          "Turkmenistan"
         ],
         63.02213114754095
        ],
        [
         [
          "2016",
          "Uzbekistan"
         ],
         60.38661202185796
        ],
        [
         [
          "2016",
          "Vietnam"
         ],
         75.24426229508201
        ],
        [
         [
          "2017",
          "China"
         ],
         62.01704109589035
        ],
        [
         [
          "2017",
          "Hong Kong"
         ],
         76.6339726027397
        ],
        [
         [
          "2017",
          "India"
         ],
         81.48239726027383
        ],
        [
         [
          "2017",
          "Indonesia"
         ],
         82.98575342465755
        ],
        [
         [
          "2017",
          "Japan"
         ],
         56.643105022831094
        ],
        [
         [
          "2017",
          "Kazakhstan"
         ],
         52.13232876712327
        ],
        [
         [
          "2017",
          "Kyrgyzstan"
         ],
         53.82767123287671
        ],
        [
         [
          "2017",
          "Laos"
         ],
         80.4443835616438
        ],
        [
         [
          "2017",
          "Malaysia"
         ],
         82.25808219178087
        ],
        [
         [
          "2017",
          "Mongolia"
         ],
         31.123561643835593
        ],
        [
         [
          "2017",
          "Myanmar (Burma)"
         ],
         82.44876712328762
        ],
        [
         [
          "2017",
          "Nepal"
         ],
         65.55726027397262
        ],
        [
         [
          "2017",
          "North Korea"
         ],
         52.25452054794521
        ],
        [
         [
          "2017",
          "Pakistan"
         ],
         76.25219178082183
        ],
        [
         [
          "2017",
          "Philippines"
         ],
         83.10246575342462
        ],
        [
         [
          "2017",
          "Singapore"
         ],
         81.98821917808219
        ],
        [
         [
          "2017",
          "South Korea"
         ],
         54.13534246575351
        ],
        [
         [
          "2017",
          "Sri Lanka"
         ],
         81.67479452054798
        ],
        [
         [
          "2017",
          "Taiwan"
         ],
         75.04301369863013
        ],
        [
         [
          "2017",
          "Tajikistan"
         ],
         61.80191780821921
        ],
        [
         [
          "2017",
          "Turkmenistan"
         ],
         64.49753424657533
        ],
        [
         [
          "2017",
          "Uzbekistan"
         ],
         60.7260273972603
        ],
        [
         [
          "2017",
          "Vietnam"
         ],
         76.18383561643842
        ],
        [
         [
          "2018",
          "China"
         ],
         59.70624657534246
        ],
        [
         [
          "2018",
          "Hong Kong"
         ],
         74.25534246575347
        ],
        [
         [
          "2018",
          "India"
         ],
         79.8437671232878
        ],
        [
         [
          "2018",
          "Indonesia"
         ],
         80.56904109589043
        ],
        [
         [
          "2018",
          "Japan"
         ],
         56.095251141552446
        ],
        [
         [
          "2018",
          "Kazakhstan"
         ],
         48.4660273972603
        ],
        [
         [
          "2018",
          "Kyrgyzstan"
         ],
         50.33616438356167
        ],
        [
         [
          "2018",
          "Laos"
         ],
         78.41452054794519
        ],
        [
         [
          "2018",
          "Malaysia"
         ],
         79.53424657534245
        ],
        [
         [
          "2018",
          "Mongolia"
         ],
         29.2572602739726
        ],
        [
         [
          "2018",
          "Myanmar (Burma)"
         ],
         80.46301369863009
        ],
        [
         [
          "2018",
          "Nepal"
         ],
         63.05643835616434
        ],
        [
         [
          "2018",
          "North Korea"
         ],
         49.63397260273972
        ],
        [
         [
          "2018",
          "Pakistan"
         ],
         75.04849315068493
        ],
        [
         [
          "2018",
          "Philippines"
         ],
         80.58191780821919
        ],
        [
         [
          "2018",
          "Singapore"
         ],
         80.34821917808218
        ],
        [
         [
          "2018",
          "South Korea"
         ],
         52.145205479452024
        ],
        [
         [
          "2018",
          "Sri Lanka"
         ],
         77.70164383561651
        ],
        [
         [
          "2018",
          "Taiwan"
         ],
         73.06767123287668
        ],
        [
         [
          "2018",
          "Tajikistan"
         ],
         60.77479452054794
        ],
        [
         [
          "2018",
          "Turkmenistan"
         ],
         63.19726027397266
        ],
        [
         [
          "2018",
          "Uzbekistan"
         ],
         59.08273972602739
        ],
        [
         [
          "2018",
          "Vietnam"
         ],
         74.40657534246577
        ],
        [
         [
          "2019",
          "China"
         ],
         59.34558904109593
        ],
        [
         [
          "2019",
          "Hong Kong"
         ],
         74.41369863013702
        ],
        [
         [
          "2019",
          "India"
         ],
         78.27410958904122
        ],
        [
         [
          "2019",
          "Indonesia"
         ],
         81.00931506849315
        ],
        [
         [
          "2019",
          "Japan"
         ],
         55.25077625570781
        ],
        [
         [
          "2019",
          "Kazakhstan"
         ],
         50.620000000000005
        ],
        [
         [
          "2019",
          "Kyrgyzstan"
         ],
         52.75506849315074
        ],
        [
         [
          "2019",
          "Laos"
         ],
         79.23698630136978
        ],
        [
         [
          "2019",
          "Malaysia"
         ],
         79.98109589041104
        ],
        [
         [
          "2019",
          "Mongolia"
         ],
         29.26383561643834
        ],
        [
         [
          "2019",
          "Myanmar (Burma)"
         ],
         79.66821917808221
        ],
        [
         [
          "2019",
          "Nepal"
         ],
         62.71452054794521
        ],
        [
         [
          "2019",
          "North Korea"
         ],
         50.792602739726064
        ],
        [
         [
          "2019",
          "Pakistan"
         ],
         28.234246575342482
        ],
        [
         [
          "2019",
          "Philippines"
         ],
         80.48164383561645
        ],
        [
         [
          "2019",
          "Singapore"
         ],
         80.32438356164383
        ],
        [
         [
          "2019",
          "South Korea"
         ],
         52.56191780821919
        ],
        [
         [
          "2019",
          "Sri Lanka"
         ],
         78.87123287671236
        ],
        [
         [
          "2019",
          "Taiwan"
         ],
         72.7454794520548
        ],
        [
         [
          "2019",
          "Tajikistan"
         ],
         59.16986301369871
        ],
        [
         [
          "2019",
          "Turkmenistan"
         ],
         62.494794520547934
        ],
        [
         [
          "2019",
          "Uzbekistan"
         ],
         59.355068493150654
        ],
        [
         [
          "2019",
          "Vietnam"
         ],
         74.33342465753418
        ],
        [
         [
          "2020",
          "China"
         ],
         52.202391629297395
        ],
        [
         [
          "2020",
          "Hong Kong"
         ],
         70.60671641791042
        ],
        [
         [
          "2020",
          "India"
         ],
         77.56467289719627
        ],
        [
         [
          "2020",
          "Indonesia"
         ],
         83.18345864661653
        ],
        [
         [
          "2020",
          "Japan"
         ],
         46.46094527363186
        ],
        [
         [
          "2020",
          "Kazakhstan"
         ],
         42.75187969924813
        ],
        [
         [
          "2020",
          "Kyrgyzstan"
         ],
         44.90075187969924
        ],
        [
         [
          "2020",
          "Laos"
         ],
         81.5694029850746
        ],
        [
         [
          "2020",
          "Malaysia"
         ],
         83.80970149253731
        ],
        [
         [
          "2020",
          "Mongolia"
         ],
         17.42164179104478
        ],
        [
         [
          "2020",
          "Myanmar (Burma)"
         ],
         82.54552238805971
        ],
        [
         [
          "2020",
          "Nepal"
         ],
         57.9686567164179
        ],
        [
         [
          "2020",
          "North Korea"
         ],
         40.838345864661655
        ],
        [
         [
          "2020",
          "Pakistan"
         ],
         65.9360902255639
        ],
        [
         [
          "2020",
          "Philippines"
         ],
         83.81567164179106
        ],
        [
         [
          "2020",
          "Singapore"
         ],
         83.0589552238806
        ],
        [
         [
          "2020",
          "South Korea"
         ],
         43.53805970149256
        ],
        [
         [
          "2020",
          "Sri Lanka"
         ],
         83.14925373134332
        ],
        [
         [
          "2020",
          "Taiwan"
         ],
         68.64328358208952
        ],
        [
         [
          "2020",
          "Tajikistan"
         ],
         50.42537313432833
        ],
        [
         [
          "2020",
          "Turkmenistan"
         ],
         52.586567164179094
        ],
        [
         [
          "2020",
          "Uzbekistan"
         ],
         51.388059701492544
        ],
        [
         [
          "2020",
          "Vietnam"
         ],
         70.75074626865674
        ]
       ],
       "datasetInfos": [],
       "dbfsResultPath": null,
       "isJsonSchema": true,
       "metadata": {},
       "overflow": false,
       "plotOptions": {
        "customPlotOptions": {},
        "displayType": "table",
        "pivotAggregation": null,
        "pivotColumns": null,
        "xColumns": null,
        "yColumns": null
       },
       "removedWidgets": [],
       "schema": [
        {
         "metadata": "{}",
         "name": "_1",
         "type": "{\"type\":\"struct\",\"fields\":[{\"name\":\"_1\",\"type\":\"string\",\"nullable\":true,\"metadata\":{}},{\"name\":\"_2\",\"type\":\"string\",\"nullable\":true,\"metadata\":{}}]}"
        },
        {
         "metadata": "{}",
         "name": "_2",
         "type": "\"double\""
        }
       ],
       "type": "table"
      }
     },
     "output_type": "display_data"
    }
   ],
   "source": [
    "import re\n",
    "from operator import add\n",
    "from pyspark import SparkContext\n",
    "import numpy as np\n",
    "\n",
    "# File location and type\n",
    "file_location = \"/FileStore/tables/city_temperature.csv\"\n",
    "file_type = \"csv\"\n",
    "\n",
    "# loading input file into the RDD\n",
    "city_rdd = sc.textFile(\"/FileStore/tables/city_temperature.csv\")\n",
    "# city_rdd.collect()\n",
    "\n",
    "#PREPROCESSING\n",
    "# filter out the header\n",
    "head = city_rdd.first()\n",
    "rdd1 = city_rdd.filter(lambda x: x != head)\n",
    "#rdd1.collect()\n",
    "\n",
    "#get rid of all regions that are not Asia\n",
    "asia_rdd = rdd1.filter(lambda x:x.split(\",\")[0] == \"Asia\")\n",
    "#asia_rdd.collect()\n",
    "\n",
    "# making key value pairs\n",
    "kv_rdd = asia_rdd.map(lambda x: x.split(\",\")) \\\n",
    "                 .map(lambda c: ((c[6], c[1]), float(c[7]))) # key = (year, countries) and values = avg temp\n",
    "#kv_rdd.collect()\n",
    "\n",
    "# add all the temps from the same year \n",
    "reduced_rdd = kv_rdd.reduceByKey(lambda a, b: (a+b))\n",
    "#reduced_rdd.collect()\n",
    "\n",
    "# get count of each year\n",
    "counts_by_key = kv_rdd.countByKey() # int dict that needs to be converted to rdd\n",
    "\n",
    "# converting counts into an array\n",
    "counts_data = list(counts_by_key.items())\n",
    "counts_arr = np.array(counts_data)\n",
    "\n",
    "# convert counts_arr into an RDD\n",
    "counts_rdd = sc.parallelize(counts_arr)\n",
    "#counts_rdd.collect()\n",
    "\n",
    "# joining the 2 rdds with aggregated temps and counts\n",
    "join_rdd = reduced_rdd.join(counts_rdd).sortByKey()\n",
    "#join_rdd.collect()\n",
    "\n",
    "# divide sum of temps by count of each year\n",
    "display(join_rdd.mapValues(lambda x: float(x[0])/float(x[1])).collect())\n"
   ]
  },
  {
   "cell_type": "markdown",
   "metadata": {
    "application/vnd.databricks.v1+cell": {
     "cellMetadata": {},
     "inputWidgets": {},
     "nuid": "ba887d51-4682-462e-a8fc-0c7b1f59e29e",
     "showTitle": false,
     "title": ""
    }
   },
   "source": [
    "Question 2 part c"
   ]
  },
  {
   "cell_type": "code",
   "execution_count": 0,
   "metadata": {
    "application/vnd.databricks.v1+cell": {
     "cellMetadata": {
      "byteLimit": 2048000,
      "rowLimit": 10000
     },
     "inputWidgets": {},
     "nuid": "8ad40400-86ef-469a-9249-a1f7d60f1cf1",
     "showTitle": false,
     "title": ""
    }
   },
   "outputs": [
    {
     "output_type": "display_data",
     "data": {
      "text/html": [
       "<style scoped>\n",
       "  .table-result-container {\n",
       "    max-height: 300px;\n",
       "    overflow: auto;\n",
       "  }\n",
       "  table, th, td {\n",
       "    border: 1px solid black;\n",
       "    border-collapse: collapse;\n",
       "  }\n",
       "  th, td {\n",
       "    padding: 5px;\n",
       "  }\n",
       "  th {\n",
       "    text-align: left;\n",
       "  }\n",
       "</style><div class='table-result-container'><table class='table-result'><thead style='background-color: white'><tr><th>_1</th><th>_2</th></tr></thead><tbody><tr><td>Barcelona</td><td>61.26926397582565</td></tr><tr><td>Bilbao</td><td>58.69515432764961</td></tr><tr><td>Madrid</td><td>58.4405352903085</td></tr></tbody></table></div>"
      ]
     },
     "metadata": {
      "application/vnd.databricks.v1+output": {
       "addedWidgets": {},
       "aggData": [],
       "aggError": "",
       "aggOverflow": false,
       "aggSchema": [],
       "aggSeriesLimitReached": false,
       "aggType": "",
       "arguments": {},
       "columnCustomDisplayInfos": {},
       "data": [
        [
         "Barcelona",
         61.26926397582565
        ],
        [
         "Bilbao",
         58.69515432764961
        ],
        [
         "Madrid",
         58.4405352903085
        ]
       ],
       "datasetInfos": [],
       "dbfsResultPath": null,
       "isJsonSchema": true,
       "metadata": {},
       "overflow": false,
       "plotOptions": {
        "customPlotOptions": {},
        "displayType": "table",
        "pivotAggregation": null,
        "pivotColumns": null,
        "xColumns": null,
        "yColumns": null
       },
       "removedWidgets": [],
       "schema": [
        {
         "metadata": "{}",
         "name": "_1",
         "type": "\"string\""
        },
        {
         "metadata": "{}",
         "name": "_2",
         "type": "\"double\""
        }
       ],
       "type": "table"
      }
     },
     "output_type": "display_data"
    }
   ],
   "source": [
    "import re\n",
    "from operator import add\n",
    "from pyspark import SparkContext\n",
    "import numpy as np\n",
    "\n",
    "# File location and type\n",
    "file_location = \"/FileStore/tables/city_temperature.csv\"\n",
    "file_type = \"csv\"\n",
    "\n",
    "# loading input file into the RDD\n",
    "city_rdd = sc.textFile(\"/FileStore/tables/city_temperature.csv\")\n",
    "# city_rdd.collect()\n",
    "\n",
    "#PREPROCESSING\n",
    "# filter out the header\n",
    "head = city_rdd.first()\n",
    "rdd1 = city_rdd.filter(lambda x: x != head)\n",
    "#rdd1.collect()\n",
    "\n",
    "#get rid of all regions that are not Asia\n",
    "spain_rdd = rdd1.filter(lambda x:x.split(\",\")[1] == \"Spain\")\n",
    "#spain_rdd.collect()\n",
    "\n",
    "# making key value pairs\n",
    "kv_rdd = spain_rdd.map(lambda x: x.split(\",\")) \\\n",
    "                 .map(lambda c: ((c[3]), float(c[7]))) # key = city and values = avg temp\n",
    "#kv_rdd.collect()\n",
    "\n",
    "# add all the temps from the same year \n",
    "reduced_rdd = kv_rdd.reduceByKey(lambda a, b: (a+b))\n",
    "# reduced_rdd.collect()\n",
    "\n",
    "# get count of each year\n",
    "counts_by_key = kv_rdd.countByKey() # int dict that needs to be converted to rdd\n",
    "\n",
    "# converting counts into an array\n",
    "counts_data = list(counts_by_key.items())\n",
    "counts_arr = np.array(counts_data)\n",
    "\n",
    "# convert counts_arr into an RDD\n",
    "counts_rdd = sc.parallelize(counts_arr)\n",
    "#counts_rdd.collect()\n",
    "\n",
    "# joining the 2 rdds with aggregated temps and counts\n",
    "join_rdd = reduced_rdd.join(counts_rdd).sortByKey()\n",
    "# join_rdd.collect()\n",
    "\n",
    "# divide sum of temps by count of each year\n",
    "display(join_rdd.mapValues(lambda x: float(x[0])/float(x[1])).collect())"
   ]
  },
  {
   "cell_type": "markdown",
   "metadata": {
    "application/vnd.databricks.v1+cell": {
     "cellMetadata": {},
     "inputWidgets": {},
     "nuid": "f504b25b-e612-4387-be70-ccc21066ce3a",
     "showTitle": false,
     "title": ""
    }
   },
   "source": [
    "Question 2 part d"
   ]
  },
  {
   "cell_type": "markdown",
   "metadata": {
    "application/vnd.databricks.v1+cell": {
     "cellMetadata": {},
     "inputWidgets": {},
     "nuid": "9f3807f3-8864-4fb2-ab5c-f23a21bfb45a",
     "showTitle": false,
     "title": ""
    }
   },
   "source": [
    "approach 3"
   ]
  },
  {
   "cell_type": "code",
   "execution_count": 0,
   "metadata": {
    "application/vnd.databricks.v1+cell": {
     "cellMetadata": {
      "byteLimit": 2048000,
      "rowLimit": 10000
     },
     "inputWidgets": {},
     "nuid": "2f07ce90-07a5-4cb8-b5dd-a686decaeff8",
     "showTitle": false,
     "title": ""
    }
   },
   "outputs": [
    {
     "output_type": "display_data",
     "data": {
      "text/html": [
       "<style scoped>\n",
       "  .table-result-container {\n",
       "    max-height: 300px;\n",
       "    overflow: auto;\n",
       "  }\n",
       "  table, th, td {\n",
       "    border: 1px solid black;\n",
       "    border-collapse: collapse;\n",
       "  }\n",
       "  th, td {\n",
       "    padding: 5px;\n",
       "  }\n",
       "  th {\n",
       "    text-align: left;\n",
       "  }\n",
       "</style><div class='table-result-container'><table class='table-result'><thead style='background-color: white'><tr><th>Country</th><th>Capital</th><th>avg(AvgTemperature)</th></tr></thead><tbody><tr><td>Benin</td><td>Porto-Novo</td><td>76.15212605223395</td></tr><tr><td>India</td><td>New Delhi</td><td>79.76246121468796</td></tr><tr><td>Namibia</td><td>Windhoek</td><td>57.990341031729066</td></tr><tr><td>China</td><td>Beijing</td><td>59.98367545166184</td></tr><tr><td>Nepal</td><td>Kathmandu</td><td>49.4923475445224</td></tr><tr><td>Kazakhstan</td><td>Astana</td><td>49.31983810037769</td></tr><tr><td>Tanzania</td><td>Dodoma</td><td>65.30484079173841</td></tr><tr><td>Mauritania</td><td>Nouakchott</td><td>73.41478705686403</td></tr><tr><td>Sierra Leone</td><td>Freetown</td><td>-9.820260911579975</td></tr><tr><td>Tunisia</td><td>Tunis</td><td>66.47864234837016</td></tr><tr><td>Central African Republic</td><td>Bangui</td><td>67.01951219512179</td></tr><tr><td>Madagascar</td><td>Antananarivo</td><td>63.445898985538584</td></tr><tr><td>Ethiopia</td><td>Addis Ababa</td><td>25.45525551371705</td></tr><tr><td>Uganda</td><td>Kampala</td><td>44.1425256341069</td></tr><tr><td>Guinea-Bissau</td><td>Bissau</td><td>2.3921217353767306</td></tr><tr><td>Egypt</td><td>Cairo</td><td>71.95347507014904</td></tr><tr><td>North Korea</td><td>Pyongyang</td><td>48.21019857543733</td></tr><tr><td>Algeria</td><td>Algiers</td><td>63.755439240232846</td></tr><tr><td>Morocco</td><td>Rabat</td><td>62.7334556442909</td></tr><tr><td>Senegal</td><td>Dakar</td><td>75.55507230736022</td></tr><tr><td>Kenya</td><td>Nairobi</td><td>23.452060975609776</td></tr><tr><td>Mongolia</td><td>Ulaanbaatar</td><td>29.6950787826463</td></tr><tr><td>Laos</td><td>Vientiane</td><td>79.96746168789109</td></tr><tr><td>Burundi</td><td>Bujumbura</td><td>-65.39713845476541</td></tr><tr><td>Malawi</td><td>Lilongwe</td><td>-20.585543650096596</td></tr><tr><td>Pakistan</td><td>Islamabad</td><td>71.65101457096628</td></tr><tr><td>Bangladesh</td><td>Dhaka</td><td>10.10987951807226</td></tr><tr><td>Japan</td><td>Tokyo</td><td>55.853471472768085</td></tr><tr><td>Malaysia</td><td>Kuala Lumpur</td><td>78.95312972156226</td></tr><tr><td>Guinea</td><td>Conakry</td><td>49.389391323116925</td></tr><tr><td>Nigeria</td><td>Abuja</td><td>61.991546259613045</td></tr><tr><td>Kyrgyzstan</td><td>Bishkek</td><td>51.37300000000035</td></tr><tr><td>Mozambique</td><td>Maputo</td><td>62.78318631669572</td></tr><tr><td>Togo</td><td>Lomé</td><td>71.56976041441825</td></tr><tr><td>Zambia</td><td>Lusaka</td><td>55.90346164895155</td></tr><tr><td>Gambia</td><td>Banjul</td><td>59.66582708528577</td></tr><tr><td>Gabon</td><td>Libreville</td><td>70.3977979274613</td></tr><tr><td>Indonesia</td><td>Jakarta</td><td>35.98840798704796</td></tr><tr><td>South Africa</td><td>Pretoria</td><td>61.94041657673188</td></tr><tr><td>Cyprus</td><td>Nicosia</td><td>23.777476999292325</td></tr><tr><td>Portugal</td><td>Lisbon</td><td>61.857770343189905</td></tr><tr><td>Croatia</td><td>Zagreb</td><td>46.928613059902794</td></tr><tr><td>Macedonia</td><td>Skopje</td><td>54.00780356179161</td></tr><tr><td>Russia</td><td>Moscow</td><td>44.96580211335265</td></tr><tr><td>Iceland</td><td>Reykjavík</td><td>41.082764947118285</td></tr><tr><td>Slovakia</td><td>Bratislava</td><td>51.44646017699109</td></tr><tr><td>Belgium</td><td>Brussels</td><td>51.057047269587684</td></tr><tr><td>Vietnam</td><td>Hanoi</td><td>74.7373192315993</td></tr><tr><td>Ireland</td><td>Dublin</td><td>49.06678178286205</td></tr><tr><td>Uzbekistan</td><td>Tashkent</td><td>58.806345780272224</td></tr><tr><td>South Korea</td><td>Seoul</td><td>52.87797323548456</td></tr><tr><td>Hungary</td><td>Budapest</td><td>51.099061083531026</td></tr><tr><td>Sri Lanka</td><td>Sri Jayawardenapura Kotte</td><td>74.24142024606091</td></tr><tr><td>Czech Republic</td><td>Prague</td><td>47.60325922728247</td></tr><tr><td>Philippines</td><td>Manila</td><td>81.54242391538949</td></tr><tr><td>Latvia</td><td>Riga</td><td>44.13642348370398</td></tr><tr><td>Bulgaria</td><td>Sofia</td><td>45.203345564429064</td></tr><tr><td>Georgia</td><td>Tbilisi</td><td>46.51603471904962</td></tr><tr><td>Thailand</td><td>Bangkok</td><td>72.46408588158758</td></tr><tr><td>Poland</td><td>Warsaw</td><td>47.77608461040342</td></tr><tr><td>Australia</td><td>Canberra</td><td>61.63429311461288</td></tr><tr><td>Denmark</td><td>Copenhagen</td><td>46.960446794733286</td></tr><tr><td>Germany</td><td>Berlin</td><td>6.421902994108638</td></tr><tr><td>Belarus</td><td>Minsk</td><td>41.82123272884281</td></tr><tr><td>Tajikistan</td><td>Dushanbe</td><td>35.15456507662436</td></tr><tr><td>Austria</td><td>Vienna</td><td>51.04722641916694</td></tr><tr><td>Greece</td><td>Athens</td><td>59.63387072243328</td></tr><tr><td>Romania</td><td>Bucharest</td><td>52.36450464062177</td></tr><tr><td>Albania</td><td>Tirana</td><td>33.172922512410985</td></tr><tr><td>New Zealand</td><td>Wellington</td><td>58.91374919058918</td></tr><tr><td>France</td><td>Paris</td><td>54.69657349449583</td></tr><tr><td>Italy</td><td>Rome</td><td>57.21037124973033</td></tr><tr><td>Turkmenistan</td><td>Ashgabat</td><td>62.04968702784363</td></tr><tr><td>Finland</td><td>Helsinki</td><td>42.24399956831414</td></tr><tr><td>Norway</td><td>Oslo</td><td>40.9233720447946</td></tr><tr><td>Singapore</td><td>Singapore</td><td>81.65440319447444</td></tr><tr><td>Switzerland</td><td>Bern</td><td>49.82939779840329</td></tr><tr><td>Bolivia</td><td>Sucre</td><td>44.86714871573494</td></tr><tr><td>Canada</td><td>Ottawa</td><td>42.0052474914135</td></tr><tr><td>Spain</td><td>Madrid</td><td>59.468317864594766</td></tr><tr><td>Saudi Arabia</td><td>Riyadh</td><td>79.15030218001293</td></tr><tr><td>Argentina</td><td>Buenos Aires</td><td>62.304899633067144</td></tr><tr><td>Bahrain</td><td>Manama</td><td>80.63559248866856</td></tr><tr><td>Turkey</td><td>Ankara</td><td>55.17841031728901</td></tr><tr><td>Lebanon</td><td>Beirut</td><td>69.39838117850216</td></tr><tr><td>Kuwait</td><td>Kuwait City</td><td>79.49446363047723</td></tr><tr><td>Mexico</td><td>Mexico City</td><td>47.61523672460232</td></tr><tr><td>United Arab Emirates</td><td>Abu Dhabi</td><td>82.5825652924671</td></tr><tr><td>Syria</td><td>Damascus</td><td>62.80611980572022</td></tr><tr><td>Belize</td><td>Belmopan</td><td>73.4780740580805</td></tr><tr><td>Barbados</td><td>Bridgetown</td><td>77.00251697494751</td></tr><tr><td>Oman</td><td>Muscat</td><td>21.888976113042418</td></tr><tr><td>Sweden</td><td>Stockholm</td><td>45.093503129721704</td></tr><tr><td>Ukraine</td><td>Kyiv</td><td>47.66315562270662</td></tr><tr><td>Qatar</td><td>Doha</td><td>82.2356248650983</td></tr><tr><td>Israel</td><td>Jerusalem</td><td>54.02044817927177</td></tr><tr><td>Bermuda</td><td>Hamilton</td><td>66.97127603710837</td></tr><tr><td>Bahamas</td><td>Nassau</td><td>76.57303831624395</td></tr><tr><td>Bolivia</td><td>La Paz</td><td>44.86714871573494</td></tr><tr><td>Jordan</td><td>Amman</td><td>64.16010144614734</td></tr><tr><td>Cuba</td><td>Havana</td><td>72.64080310880819</td></tr><tr><td>Suriname</td><td>Paramaribo</td><td>47.514911523521775</td></tr><tr><td>Haiti</td><td>Port-au-Prince</td><td>16.685196374622365</td></tr><tr><td>Peru</td><td>Lima</td><td>66.63344696473038</td></tr><tr><td>Guyana</td><td>Georgetown</td><td>-22.101520236920056</td></tr><tr><td>Venezuela</td><td>Caracas</td><td>78.326011872639</td></tr><tr><td>Costa Rica</td><td>San José</td><td>70.37572846967439</td></tr><tr><td>Colombia</td><td>Bogotá</td><td>55.24395639974073</td></tr><tr><td>Dominican Republic</td><td>Santo Domingo</td><td>65.21575822989762</td></tr><tr><td>Brazil</td><td>Brasília</td><td>70.1315249847107</td></tr><tr><td>Guatemala</td><td>Guatemala City</td><td>56.91135333477217</td></tr><tr><td>Panama</td><td>Panama City</td><td>79.57879343837669</td></tr><tr><td>Nicaragua</td><td>Managua</td><td>71.8512817739321</td></tr><tr><td>Uruguay</td><td>Montevideo</td><td>60.9748650982086</td></tr><tr><td>Honduras</td><td>Tegucigalpa</td><td>68.53149487317785</td></tr></tbody></table></div>"
      ]
     },
     "metadata": {
      "application/vnd.databricks.v1+output": {
       "addedWidgets": {},
       "aggData": [],
       "aggError": "",
       "aggOverflow": false,
       "aggSchema": [],
       "aggSeriesLimitReached": false,
       "aggType": "",
       "arguments": {},
       "columnCustomDisplayInfos": {},
       "data": [
        [
         "Benin",
         "Porto-Novo",
         76.15212605223395
        ],
        [
         "India",
         "New Delhi",
         79.76246121468796
        ],
        [
         "Namibia",
         "Windhoek",
         57.990341031729066
        ],
        [
         "China",
         "Beijing",
         59.98367545166184
        ],
        [
         "Nepal",
         "Kathmandu",
         49.4923475445224
        ],
        [
         "Kazakhstan",
         "Astana",
         49.31983810037769
        ],
        [
         "Tanzania",
         "Dodoma",
         65.30484079173841
        ],
        [
         "Mauritania",
         "Nouakchott",
         73.41478705686403
        ],
        [
         "Sierra Leone",
         "Freetown",
         -9.820260911579975
        ],
        [
         "Tunisia",
         "Tunis",
         66.47864234837016
        ],
        [
         "Central African Republic",
         "Bangui",
         67.01951219512179
        ],
        [
         "Madagascar",
         "Antananarivo",
         63.445898985538584
        ],
        [
         "Ethiopia",
         "Addis Ababa",
         25.45525551371705
        ],
        [
         "Uganda",
         "Kampala",
         44.1425256341069
        ],
        [
         "Guinea-Bissau",
         "Bissau",
         2.3921217353767306
        ],
        [
         "Egypt",
         "Cairo",
         71.95347507014904
        ],
        [
         "North Korea",
         "Pyongyang",
         48.21019857543733
        ],
        [
         "Algeria",
         "Algiers",
         63.755439240232846
        ],
        [
         "Morocco",
         "Rabat",
         62.7334556442909
        ],
        [
         "Senegal",
         "Dakar",
         75.55507230736022
        ],
        [
         "Kenya",
         "Nairobi",
         23.452060975609776
        ],
        [
         "Mongolia",
         "Ulaanbaatar",
         29.6950787826463
        ],
        [
         "Laos",
         "Vientiane",
         79.96746168789109
        ],
        [
         "Burundi",
         "Bujumbura",
         -65.39713845476541
        ],
        [
         "Malawi",
         "Lilongwe",
         -20.585543650096596
        ],
        [
         "Pakistan",
         "Islamabad",
         71.65101457096628
        ],
        [
         "Bangladesh",
         "Dhaka",
         10.10987951807226
        ],
        [
         "Japan",
         "Tokyo",
         55.853471472768085
        ],
        [
         "Malaysia",
         "Kuala Lumpur",
         78.95312972156226
        ],
        [
         "Guinea",
         "Conakry",
         49.389391323116925
        ],
        [
         "Nigeria",
         "Abuja",
         61.991546259613045
        ],
        [
         "Kyrgyzstan",
         "Bishkek",
         51.37300000000035
        ],
        [
         "Mozambique",
         "Maputo",
         62.78318631669572
        ],
        [
         "Togo",
         "Lomé",
         71.56976041441825
        ],
        [
         "Zambia",
         "Lusaka",
         55.90346164895155
        ],
        [
         "Gambia",
         "Banjul",
         59.66582708528577
        ],
        [
         "Gabon",
         "Libreville",
         70.3977979274613
        ],
        [
         "Indonesia",
         "Jakarta",
         35.98840798704796
        ],
        [
         "South Africa",
         "Pretoria",
         61.94041657673188
        ],
        [
         "Cyprus",
         "Nicosia",
         23.777476999292325
        ],
        [
         "Portugal",
         "Lisbon",
         61.857770343189905
        ],
        [
         "Croatia",
         "Zagreb",
         46.928613059902794
        ],
        [
         "Macedonia",
         "Skopje",
         54.00780356179161
        ],
        [
         "Russia",
         "Moscow",
         44.96580211335265
        ],
        [
         "Iceland",
         "Reykjavík",
         41.082764947118285
        ],
        [
         "Slovakia",
         "Bratislava",
         51.44646017699109
        ],
        [
         "Belgium",
         "Brussels",
         51.057047269587684
        ],
        [
         "Vietnam",
         "Hanoi",
         74.7373192315993
        ],
        [
         "Ireland",
         "Dublin",
         49.06678178286205
        ],
        [
         "Uzbekistan",
         "Tashkent",
         58.806345780272224
        ],
        [
         "South Korea",
         "Seoul",
         52.87797323548456
        ],
        [
         "Hungary",
         "Budapest",
         51.099061083531026
        ],
        [
         "Sri Lanka",
         "Sri Jayawardenapura Kotte",
         74.24142024606091
        ],
        [
         "Czech Republic",
         "Prague",
         47.60325922728247
        ],
        [
         "Philippines",
         "Manila",
         81.54242391538949
        ],
        [
         "Latvia",
         "Riga",
         44.13642348370398
        ],
        [
         "Bulgaria",
         "Sofia",
         45.203345564429064
        ],
        [
         "Georgia",
         "Tbilisi",
         46.51603471904962
        ],
        [
         "Thailand",
         "Bangkok",
         72.46408588158758
        ],
        [
         "Poland",
         "Warsaw",
         47.77608461040342
        ],
        [
         "Australia",
         "Canberra",
         61.63429311461288
        ],
        [
         "Denmark",
         "Copenhagen",
         46.960446794733286
        ],
        [
         "Germany",
         "Berlin",
         6.421902994108638
        ],
        [
         "Belarus",
         "Minsk",
         41.82123272884281
        ],
        [
         "Tajikistan",
         "Dushanbe",
         35.15456507662436
        ],
        [
         "Austria",
         "Vienna",
         51.04722641916694
        ],
        [
         "Greece",
         "Athens",
         59.63387072243328
        ],
        [
         "Romania",
         "Bucharest",
         52.36450464062177
        ],
        [
         "Albania",
         "Tirana",
         33.172922512410985
        ],
        [
         "New Zealand",
         "Wellington",
         58.91374919058918
        ],
        [
         "France",
         "Paris",
         54.69657349449583
        ],
        [
         "Italy",
         "Rome",
         57.21037124973033
        ],
        [
         "Turkmenistan",
         "Ashgabat",
         62.04968702784363
        ],
        [
         "Finland",
         "Helsinki",
         42.24399956831414
        ],
        [
         "Norway",
         "Oslo",
         40.9233720447946
        ],
        [
         "Singapore",
         "Singapore",
         81.65440319447444
        ],
        [
         "Switzerland",
         "Bern",
         49.82939779840329
        ],
        [
         "Bolivia",
         "Sucre",
         44.86714871573494
        ],
        [
         "Canada",
         "Ottawa",
         42.0052474914135
        ],
        [
         "Spain",
         "Madrid",
         59.468317864594766
        ],
        [
         "Saudi Arabia",
         "Riyadh",
         79.15030218001293
        ],
        [
         "Argentina",
         "Buenos Aires",
         62.304899633067144
        ],
        [
         "Bahrain",
         "Manama",
         80.63559248866856
        ],
        [
         "Turkey",
         "Ankara",
         55.17841031728901
        ],
        [
         "Lebanon",
         "Beirut",
         69.39838117850216
        ],
        [
         "Kuwait",
         "Kuwait City",
         79.49446363047723
        ],
        [
         "Mexico",
         "Mexico City",
         47.61523672460232
        ],
        [
         "United Arab Emirates",
         "Abu Dhabi",
         82.5825652924671
        ],
        [
         "Syria",
         "Damascus",
         62.80611980572022
        ],
        [
         "Belize",
         "Belmopan",
         73.4780740580805
        ],
        [
         "Barbados",
         "Bridgetown",
         77.00251697494751
        ],
        [
         "Oman",
         "Muscat",
         21.888976113042418
        ],
        [
         "Sweden",
         "Stockholm",
         45.093503129721704
        ],
        [
         "Ukraine",
         "Kyiv",
         47.66315562270662
        ],
        [
         "Qatar",
         "Doha",
         82.2356248650983
        ],
        [
         "Israel",
         "Jerusalem",
         54.02044817927177
        ],
        [
         "Bermuda",
         "Hamilton",
         66.97127603710837
        ],
        [
         "Bahamas",
         "Nassau",
         76.57303831624395
        ],
        [
         "Bolivia",
         "La Paz",
         44.86714871573494
        ],
        [
         "Jordan",
         "Amman",
         64.16010144614734
        ],
        [
         "Cuba",
         "Havana",
         72.64080310880819
        ],
        [
         "Suriname",
         "Paramaribo",
         47.514911523521775
        ],
        [
         "Haiti",
         "Port-au-Prince",
         16.685196374622365
        ],
        [
         "Peru",
         "Lima",
         66.63344696473038
        ],
        [
         "Guyana",
         "Georgetown",
         -22.101520236920056
        ],
        [
         "Venezuela",
         "Caracas",
         78.326011872639
        ],
        [
         "Costa Rica",
         "San José",
         70.37572846967439
        ],
        [
         "Colombia",
         "Bogotá",
         55.24395639974073
        ],
        [
         "Dominican Republic",
         "Santo Domingo",
         65.21575822989762
        ],
        [
         "Brazil",
         "Brasília",
         70.1315249847107
        ],
        [
         "Guatemala",
         "Guatemala City",
         56.91135333477217
        ],
        [
         "Panama",
         "Panama City",
         79.57879343837669
        ],
        [
         "Nicaragua",
         "Managua",
         71.8512817739321
        ],
        [
         "Uruguay",
         "Montevideo",
         60.9748650982086
        ],
        [
         "Honduras",
         "Tegucigalpa",
         68.53149487317785
        ]
       ],
       "datasetInfos": [],
       "dbfsResultPath": null,
       "isJsonSchema": true,
       "metadata": {},
       "overflow": false,
       "plotOptions": {
        "customPlotOptions": {},
        "displayType": "table",
        "pivotAggregation": null,
        "pivotColumns": null,
        "xColumns": null,
        "yColumns": null
       },
       "removedWidgets": [],
       "schema": [
        {
         "metadata": "{}",
         "name": "Country",
         "type": "\"string\""
        },
        {
         "metadata": "{}",
         "name": "Capital",
         "type": "\"string\""
        },
        {
         "metadata": "{}",
         "name": "avg(AvgTemperature)",
         "type": "\"double\""
        }
       ],
       "type": "table"
      }
     },
     "output_type": "display_data"
    }
   ],
   "source": [
    "import re\n",
    "from operator import add\n",
    "from pyspark import SparkContext\n",
    "import numpy as np\n",
    "from pyspark.sql.functions import *\n",
    "\n",
    "#reading in the files\n",
    "city_temp = spark.read.option(\"header\", \"true\").csv(\"/FileStore/tables/city_temperature.csv\")\n",
    "country_list = spark.read.option(\"header\", \"true\").csv(\"/FileStore/tables/country_list-2.csv\")\n",
    "\n",
    "# city_temp.collect()\n",
    "# country_list.collect()\n",
    "\n",
    "joined = city_temp.join(country_list, \"Country\", \"inner\")\n",
    "#joined.collect()\n",
    "\n",
    "#averaged all the avgtemps for each (country, capital) pair, then aggregating them\n",
    "result = joined.groupBy(\"Country\", \"Capital\").agg(avg(\"AvgTemperature\")) \n",
    "display(result)"
   ]
  }
 ],
 "metadata": {
  "application/vnd.databricks.v1+notebook": {
   "dashboards": [],
   "language": "python",
   "notebookMetadata": {
    "pythonIndentUnit": 4
   },
   "notebookName": "4371 HW 3 Q2",
   "widgets": {}
  }
 },
 "nbformat": 4,
 "nbformat_minor": 0
}
