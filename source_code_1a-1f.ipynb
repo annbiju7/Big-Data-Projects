{
 "cells": [
  {
   "cell_type": "markdown",
   "metadata": {
    "application/vnd.databricks.v1+cell": {
     "cellMetadata": {},
     "inputWidgets": {},
     "nuid": "aad0428c-8da7-435b-ba9d-3197bc5dfa88",
     "showTitle": false,
     "title": ""
    }
   },
   "source": [
    "part a"
   ]
  },
  {
   "cell_type": "code",
   "execution_count": 0,
   "metadata": {
    "application/vnd.databricks.v1+cell": {
     "cellMetadata": {
      "byteLimit": 2048000,
      "rowLimit": 10000
     },
     "inputWidgets": {},
     "nuid": "856409aa-04c1-4d1c-9705-fbf51905da70",
     "showTitle": false,
     "title": ""
    }
   },
   "outputs": [
    {
     "output_type": "display_data",
     "data": {
      "text/html": [
       "<style scoped>\n",
       "  .table-result-container {\n",
       "    max-height: 300px;\n",
       "    overflow: auto;\n",
       "  }\n",
       "  table, th, td {\n",
       "    border: 1px solid black;\n",
       "    border-collapse: collapse;\n",
       "  }\n",
       "  th, td {\n",
       "    padding: 5px;\n",
       "  }\n",
       "  th {\n",
       "    text-align: left;\n",
       "  }\n",
       "</style><div class='table-result-container'><table class='table-result'><thead style='background-color: white'><tr><th>Region</th><th>AvgTemperature</th></tr></thead><tbody><tr><td>Africa</td><td>53.54951656193528</td></tr><tr><td>Asia</td><td>62.56865184754707</td></tr><tr><td>Europe</td><td>46.69628524306841</td></tr><tr><td>Australia/South Pacific</td><td>61.180869127275976</td></tr><tr><td>North America</td><td>55.30093262524632</td></tr><tr><td>Middle East</td><td>68.38455378399779</td></tr><tr><td>South/Central America & Carribean</td><td>62.18943880107512</td></tr></tbody></table></div>"
      ]
     },
     "metadata": {
      "application/vnd.databricks.v1+output": {
       "addedWidgets": {},
       "aggData": [],
       "aggError": "",
       "aggOverflow": false,
       "aggSchema": [],
       "aggSeriesLimitReached": false,
       "aggType": "",
       "arguments": {},
       "columnCustomDisplayInfos": {},
       "data": [
        [
         "Africa",
         53.54951656193528
        ],
        [
         "Asia",
         62.56865184754707
        ],
        [
         "Europe",
         46.69628524306841
        ],
        [
         "Australia/South Pacific",
         61.180869127275976
        ],
        [
         "North America",
         55.30093262524632
        ],
        [
         "Middle East",
         68.38455378399779
        ],
        [
         "South/Central America & Carribean",
         62.18943880107512
        ]
       ],
       "datasetInfos": [],
       "dbfsResultPath": null,
       "isJsonSchema": true,
       "metadata": {},
       "overflow": false,
       "plotOptions": {
        "customPlotOptions": {},
        "displayType": "table",
        "pivotAggregation": null,
        "pivotColumns": null,
        "xColumns": null,
        "yColumns": null
       },
       "removedWidgets": [],
       "schema": [
        {
         "metadata": "{}",
         "name": "Region",
         "type": "\"string\""
        },
        {
         "metadata": "{}",
         "name": "AvgTemperature",
         "type": "\"double\""
        }
       ],
       "type": "table"
      }
     },
     "output_type": "display_data"
    }
   ],
   "source": [
    "from pyspark.sql import SparkSession\n",
    "from pyspark.sql.functions import col\n",
    "\n",
    "# Initialize Spark session\n",
    "spark = SparkSession.builder.appName(\"AvgTemperatureByRegion\").getOrCreate()\n",
    "\n",
    "# Load the CSV file into a Spark DataFrame\n",
    "file_path = \"/FileStore/tables/city_temperature.csv\"\n",
    "df = spark.read.csv(file_path, header=True, inferSchema=True)\n",
    "\n",
    "# using Spark DataFrame\n",
    "avg_temp_by_region_df = df.groupBy(\"Region\").agg({\"AvgTemperature\": \"avg\"}).withColumnRenamed(\"avg(AvgTemperature)\", \"AvgTemperature\")\n",
    "\n",
    "display(avg_temp_by_region_df)"
   ]
  },
  {
   "cell_type": "markdown",
   "metadata": {
    "application/vnd.databricks.v1+cell": {
     "cellMetadata": {},
     "inputWidgets": {},
     "nuid": "5c552735-ef91-40c7-8942-61dbbbb1212b",
     "showTitle": false,
     "title": ""
    }
   },
   "source": [
    "part b"
   ]
  },
  {
   "cell_type": "code",
   "execution_count": 0,
   "metadata": {
    "application/vnd.databricks.v1+cell": {
     "cellMetadata": {
      "byteLimit": 2048000,
      "rowLimit": 10000
     },
     "inputWidgets": {},
     "nuid": "20ca9661-e73a-4f74-9e38-de5b6deb85a6",
     "showTitle": false,
     "title": ""
    }
   },
   "outputs": [
    {
     "output_type": "display_data",
     "data": {
      "text/html": [
       "<style scoped>\n",
       "  .table-result-container {\n",
       "    max-height: 300px;\n",
       "    overflow: auto;\n",
       "  }\n",
       "  table, th, td {\n",
       "    border: 1px solid black;\n",
       "    border-collapse: collapse;\n",
       "  }\n",
       "  th, td {\n",
       "    padding: 5px;\n",
       "  }\n",
       "  th {\n",
       "    text-align: left;\n",
       "  }\n",
       "</style><div class='table-result-container'><table class='table-result'><thead style='background-color: white'><tr><th>Year</th><th>AvgTemperature</th></tr></thead><tbody><tr><td>2003</td><td>63.26089236790604</td></tr><tr><td>2007</td><td>62.56406543519104</td></tr><tr><td>2018</td><td>66.41154836031548</td></tr><tr><td>2015</td><td>67.69533035270744</td></tr><tr><td>2006</td><td>62.95917808219164</td></tr><tr><td>2013</td><td>67.47865504358647</td></tr><tr><td>1997</td><td>57.96391769150392</td></tr><tr><td>2014</td><td>67.26617683686162</td></tr><tr><td>2019</td><td>63.41934412619359</td></tr><tr><td>2004</td><td>62.38467603434807</td></tr><tr><td>1996</td><td>60.29322565091622</td></tr><tr><td>1998</td><td>53.73663405088072</td></tr><tr><td>2020</td><td>61.68570457634792</td></tr><tr><td>2012</td><td>67.0735138267924</td></tr><tr><td>2009</td><td>66.56202739726008</td></tr><tr><td>2016</td><td>67.07586520947173</td></tr><tr><td>1995</td><td>51.18468853251671</td></tr><tr><td>2001</td><td>60.57180430528384</td></tr><tr><td>2005</td><td>61.21485714285716</td></tr><tr><td>2000</td><td>54.11845433255273</td></tr><tr><td>2010</td><td>67.62557883996543</td></tr><tr><td>2011</td><td>67.44842497368201</td></tr><tr><td>2008</td><td>64.24162373145988</td></tr><tr><td>2017</td><td>68.40205894562072</td></tr><tr><td>1999</td><td>55.59514677103714</td></tr><tr><td>2002</td><td>59.585393346379604</td></tr></tbody></table></div>"
      ]
     },
     "metadata": {
      "application/vnd.databricks.v1+output": {
       "addedWidgets": {},
       "aggData": [],
       "aggError": "",
       "aggOverflow": false,
       "aggSchema": [],
       "aggSeriesLimitReached": false,
       "aggType": "",
       "arguments": {},
       "columnCustomDisplayInfos": {},
       "data": [
        [
         2003,
         63.26089236790604
        ],
        [
         2007,
         62.56406543519104
        ],
        [
         2018,
         66.41154836031548
        ],
        [
         2015,
         67.69533035270744
        ],
        [
         2006,
         62.95917808219164
        ],
        [
         2013,
         67.47865504358647
        ],
        [
         1997,
         57.96391769150392
        ],
        [
         2014,
         67.26617683686162
        ],
        [
         2019,
         63.41934412619359
        ],
        [
         2004,
         62.38467603434807
        ],
        [
         1996,
         60.29322565091622
        ],
        [
         1998,
         53.73663405088072
        ],
        [
         2020,
         61.68570457634792
        ],
        [
         2012,
         67.0735138267924
        ],
        [
         2009,
         66.56202739726008
        ],
        [
         2016,
         67.07586520947173
        ],
        [
         1995,
         51.18468853251671
        ],
        [
         2001,
         60.57180430528384
        ],
        [
         2005,
         61.21485714285716
        ],
        [
         2000,
         54.11845433255273
        ],
        [
         2010,
         67.62557883996543
        ],
        [
         2011,
         67.44842497368201
        ],
        [
         2008,
         64.24162373145988
        ],
        [
         2017,
         68.40205894562072
        ],
        [
         1999,
         55.59514677103714
        ],
        [
         2002,
         59.585393346379604
        ]
       ],
       "datasetInfos": [],
       "dbfsResultPath": null,
       "isJsonSchema": true,
       "metadata": {},
       "overflow": false,
       "plotOptions": {
        "customPlotOptions": {},
        "displayType": "table",
        "pivotAggregation": null,
        "pivotColumns": null,
        "xColumns": null,
        "yColumns": null
       },
       "removedWidgets": [],
       "schema": [
        {
         "metadata": "{}",
         "name": "Year",
         "type": "\"integer\""
        },
        {
         "metadata": "{}",
         "name": "AvgTemperature",
         "type": "\"double\""
        }
       ],
       "type": "table"
      }
     },
     "output_type": "display_data"
    }
   ],
   "source": [
    "# Load the CSV file into a Spark DataFrame\n",
    "file_path = \"/FileStore/tables/city_temperature.csv\"\n",
    "df = spark.read.csv(file_path, header=True, inferSchema=True)\n",
    "\n",
    "#getting a dataframe with just countries in Asia\n",
    "\n",
    "asia_df = df.filter(col(\"Region\") == \"Asia\")\n",
    "# display(asia_df)\n",
    "\n",
    "avgTempByYearAsia = asia_df.groupBy(\"Year\").agg({\"AvgTemperature\": \"avg\"}).withColumnRenamed(\"avg(AvgTemperature)\", \"AvgTemperature\")\n",
    "display(avgTempByYearAsia)"
   ]
  },
  {
   "cell_type": "markdown",
   "metadata": {
    "application/vnd.databricks.v1+cell": {
     "cellMetadata": {},
     "inputWidgets": {},
     "nuid": "7bc570aa-14f9-4925-abc0-219d85a22491",
     "showTitle": false,
     "title": ""
    }
   },
   "source": [
    "part c"
   ]
  },
  {
   "cell_type": "code",
   "execution_count": 0,
   "metadata": {
    "application/vnd.databricks.v1+cell": {
     "cellMetadata": {
      "byteLimit": 2048000,
      "rowLimit": 10000
     },
     "inputWidgets": {},
     "nuid": "e170e39f-1df1-48c4-9092-c38a2d3e668a",
     "showTitle": false,
     "title": ""
    }
   },
   "outputs": [
    {
     "output_type": "display_data",
     "data": {
      "text/html": [
       "<style scoped>\n",
       "  .table-result-container {\n",
       "    max-height: 300px;\n",
       "    overflow: auto;\n",
       "  }\n",
       "  table, th, td {\n",
       "    border: 1px solid black;\n",
       "    border-collapse: collapse;\n",
       "  }\n",
       "  th, td {\n",
       "    padding: 5px;\n",
       "  }\n",
       "  th {\n",
       "    text-align: left;\n",
       "  }\n",
       "</style><div class='table-result-container'><table class='table-result'><thead style='background-color: white'><tr><th>City</th><th>AvgTemperature</th></tr></thead><tbody><tr><td>Madrid</td><td>58.4405352903085</td></tr><tr><td>Bilbao</td><td>58.69515432764961</td></tr><tr><td>Barcelona</td><td>61.26926397582565</td></tr></tbody></table></div>"
      ]
     },
     "metadata": {
      "application/vnd.databricks.v1+output": {
       "addedWidgets": {},
       "aggData": [],
       "aggError": "",
       "aggOverflow": false,
       "aggSchema": [],
       "aggSeriesLimitReached": false,
       "aggType": "",
       "arguments": {},
       "columnCustomDisplayInfos": {},
       "data": [
        [
         "Madrid",
         58.4405352903085
        ],
        [
         "Bilbao",
         58.69515432764961
        ],
        [
         "Barcelona",
         61.26926397582565
        ]
       ],
       "datasetInfos": [],
       "dbfsResultPath": null,
       "isJsonSchema": true,
       "metadata": {},
       "overflow": false,
       "plotOptions": {
        "customPlotOptions": {},
        "displayType": "table",
        "pivotAggregation": null,
        "pivotColumns": null,
        "xColumns": null,
        "yColumns": null
       },
       "removedWidgets": [],
       "schema": [
        {
         "metadata": "{}",
         "name": "City",
         "type": "\"string\""
        },
        {
         "metadata": "{}",
         "name": "AvgTemperature",
         "type": "\"double\""
        }
       ],
       "type": "table"
      }
     },
     "output_type": "display_data"
    }
   ],
   "source": [
    "from pyspark.sql import SparkSession\n",
    "from pyspark.sql.functions import col\n",
    "\n",
    "# Initialize Spark session\n",
    "spark = SparkSession.builder.appName(\"AvgTemperatureByCitySpain\").getOrCreate()\n",
    "\n",
    "# Load the CSV file into a Spark DataFrame\n",
    "file_path = \"/FileStore/tables/city_temperature.csv\"\n",
    "df = spark.read.csv(file_path, header=True, inferSchema=True)\n",
    "\n",
    "# Filter data for cities in the Country \"Spain\"\n",
    "spain_df = df.filter(col(\"Country\") == \"Spain\")\n",
    "\n",
    "# Register the DataFrame as a temporary table to use Spark SQL\n",
    "spain_df.createOrReplaceTempView(\"spain_temperature_table\")\n",
    "\n",
    "# Using Spark SQL to find the average temperature by City for cities in Spain\n",
    "AvgTempCitySpain = spark.sql(\"SELECT City, AVG(AvgTemperature) AS AvgTemperature FROM spain_temperature_table GROUP BY City\")\n",
    "\n",
    "# Show the result\n",
    "display(AvgTempCitySpain)\n"
   ]
  },
  {
   "cell_type": "markdown",
   "metadata": {
    "application/vnd.databricks.v1+cell": {
     "cellMetadata": {},
     "inputWidgets": {},
     "nuid": "e685a564-a2da-4731-90c9-a5c9c6b21215",
     "showTitle": false,
     "title": ""
    }
   },
   "source": [
    "part d"
   ]
  },
  {
   "cell_type": "code",
   "execution_count": 0,
   "metadata": {
    "application/vnd.databricks.v1+cell": {
     "cellMetadata": {
      "byteLimit": 2048000,
      "rowLimit": 10000
     },
     "inputWidgets": {},
     "nuid": "bd2a58b2-05bf-4e4d-abeb-1c7ce594e40a",
     "showTitle": false,
     "title": ""
    }
   },
   "outputs": [
    {
     "output_type": "display_data",
     "data": {
      "text/html": [
       "<style scoped>\n",
       "  .table-result-container {\n",
       "    max-height: 300px;\n",
       "    overflow: auto;\n",
       "  }\n",
       "  table, th, td {\n",
       "    border: 1px solid black;\n",
       "    border-collapse: collapse;\n",
       "  }\n",
       "  th, td {\n",
       "    padding: 5px;\n",
       "  }\n",
       "  th {\n",
       "    text-align: left;\n",
       "  }\n",
       "</style><div class='table-result-container'><table class='table-result'><thead style='background-color: white'><tr><th>Country</th><th>Capital</th><th>AvgTemperature</th></tr></thead><tbody><tr><td>Namibia</td><td>Windhoek</td><td>57.990341031729066</td></tr><tr><td>China</td><td>Beijing</td><td>54.719976257284614</td></tr><tr><td>Mauritania</td><td>Nouakchott</td><td>73.41478705686403</td></tr><tr><td>Sierra Leone</td><td>Freetown</td><td>-9.820260911579975</td></tr><tr><td>Tunisia</td><td>Tunis</td><td>66.47864234837016</td></tr><tr><td>Central African Republic</td><td>Bangui</td><td>67.01951219512179</td></tr><tr><td>Madagascar</td><td>Antananarivo</td><td>63.445898985538584</td></tr><tr><td>Ethiopia</td><td>Addis Ababa</td><td>25.45525551371705</td></tr><tr><td>Uganda</td><td>Kampala</td><td>44.1425256341069</td></tr><tr><td>Guinea-Bissau</td><td>Bissau</td><td>2.3921217353767306</td></tr><tr><td>Egypt</td><td>Cairo</td><td>71.95347507014904</td></tr><tr><td>North Korea</td><td>Pyongyang</td><td>48.21019857543733</td></tr><tr><td>Algeria</td><td>Algiers</td><td>63.755439240232846</td></tr><tr><td>Morocco</td><td>Rabat</td><td>62.7334556442909</td></tr><tr><td>Senegal</td><td>Dakar</td><td>75.55507230736022</td></tr><tr><td>Kenya</td><td>Nairobi</td><td>23.452060975609776</td></tr><tr><td>Laos</td><td>Vientiane</td><td>79.96746168789109</td></tr><tr><td>Burundi</td><td>Bujumbura</td><td>-65.39713845476541</td></tr><tr><td>Malawi</td><td>Lilongwe</td><td>-20.585543650096596</td></tr><tr><td>Pakistan</td><td>Islamabad</td><td>65.36514840798696</td></tr><tr><td>Bangladesh</td><td>Dhaka</td><td>10.10987951807226</td></tr><tr><td>Japan</td><td>Tokyo</td><td>61.06350097129274</td></tr><tr><td>Malaysia</td><td>Kuala Lumpur</td><td>78.95312972156226</td></tr><tr><td>Guinea</td><td>Conakry</td><td>49.389391323116925</td></tr><tr><td>Kyrgyzstan</td><td>Bishkek</td><td>51.37300000000035</td></tr><tr><td>Mozambique</td><td>Maputo</td><td>62.78318631669572</td></tr><tr><td>Zambia</td><td>Lusaka</td><td>55.90346164895155</td></tr><tr><td>Gambia</td><td>Banjul</td><td>59.66582708528577</td></tr><tr><td>Gabon</td><td>Libreville</td><td>70.3977979274613</td></tr><tr><td>Indonesia</td><td>Jakarta</td><td>35.98840798704796</td></tr><tr><td>Cyprus</td><td>Nicosia</td><td>23.777476999292325</td></tr><tr><td>Portugal</td><td>Lisbon</td><td>61.857770343189905</td></tr><tr><td>Croatia</td><td>Zagreb</td><td>46.928613059902794</td></tr><tr><td>Macedonia</td><td>Skopje</td><td>54.00780356179161</td></tr><tr><td>Russia</td><td>Moscow</td><td>41.92599827325716</td></tr><tr><td>Slovakia</td><td>Bratislava</td><td>51.44646017699109</td></tr><tr><td>Belgium</td><td>Brussels</td><td>51.057047269587684</td></tr><tr><td>Vietnam</td><td>Hanoi</td><td>74.7373192315993</td></tr><tr><td>Ireland</td><td>Dublin</td><td>49.06678178286205</td></tr><tr><td>Uzbekistan</td><td>Tashkent</td><td>58.806345780272224</td></tr><tr><td>South Korea</td><td>Seoul</td><td>52.87797323548456</td></tr><tr><td>Hungary</td><td>Budapest</td><td>51.099061083531026</td></tr><tr><td>Czech Republic</td><td>Prague</td><td>47.60325922728247</td></tr><tr><td>Philippines</td><td>Manila</td><td>81.54242391538949</td></tr><tr><td>Latvia</td><td>Riga</td><td>44.13642348370398</td></tr><tr><td>Bulgaria</td><td>Sofia</td><td>45.203345564429064</td></tr><tr><td>Georgia</td><td>Tbilisi</td><td>46.51603471904962</td></tr><tr><td>Thailand</td><td>Bangkok</td><td>72.46408588158758</td></tr><tr><td>Poland</td><td>Warsaw</td><td>47.77608461040342</td></tr><tr><td>Australia</td><td>Canberra</td><td>55.57968918627248</td></tr><tr><td>Denmark</td><td>Copenhagen</td><td>46.960446794733286</td></tr><tr><td>Belarus</td><td>Minsk</td><td>41.82123272884281</td></tr><tr><td>Austria</td><td>Vienna</td><td>51.04722641916694</td></tr><tr><td>Greece</td><td>Athens</td><td>59.63387072243328</td></tr><tr><td>Romania</td><td>Bucharest</td><td>52.36450464062177</td></tr><tr><td>Albania</td><td>Tirana</td><td>33.172922512410985</td></tr><tr><td>France</td><td>Paris</td><td>52.94068638031512</td></tr><tr><td>Italy</td><td>Rome</td><td>60.22482192963531</td></tr><tr><td>Finland</td><td>Helsinki</td><td>42.24399956831414</td></tr><tr><td>Norway</td><td>Oslo</td><td>40.9233720447946</td></tr><tr><td>Singapore</td><td>Singapore</td><td>81.65440319447444</td></tr><tr><td>Switzerland</td><td>Bern</td><td>49.0322793006693</td></tr><tr><td>Canada</td><td>Ottawa</td><td>43.94288128432612</td></tr><tr><td>Spain</td><td>Madrid</td><td>58.4405352903085</td></tr><tr><td>Saudi Arabia</td><td>Riyadh</td><td>78.67092596589663</td></tr><tr><td>Argentina</td><td>Buenos Aires</td><td>62.304899633067144</td></tr><tr><td>Bahrain</td><td>Manama</td><td>80.63559248866856</td></tr><tr><td>Turkey</td><td>Ankara</td><td>50.90390675588181</td></tr><tr><td>Lebanon</td><td>Beirut</td><td>69.39838117850216</td></tr><tr><td>Mexico</td><td>Mexico City</td><td>62.05048030221261</td></tr><tr><td>United Arab Emirates</td><td>Abu Dhabi</td><td>82.19249946039282</td></tr><tr><td>Syria</td><td>Damascus</td><td>62.80611980572022</td></tr><tr><td>Barbados</td><td>Bridgetown</td><td>77.00251697494751</td></tr><tr><td>Oman</td><td>Muscat</td><td>21.888976113042418</td></tr><tr><td>Sweden</td><td>Stockholm</td><td>45.093503129721704</td></tr><tr><td>Qatar</td><td>Doha</td><td>82.2356248650983</td></tr><tr><td>Bermuda</td><td>Hamilton</td><td>66.97127603710837</td></tr><tr><td>Bahamas</td><td>Nassau</td><td>76.57303831624395</td></tr><tr><td>Bolivia</td><td>La Paz</td><td>44.86714871573494</td></tr><tr><td>Jordan</td><td>Amman</td><td>64.16010144614734</td></tr><tr><td>Cuba</td><td>Havana</td><td>72.64080310880819</td></tr><tr><td>Suriname</td><td>Paramaribo</td><td>47.514911523521775</td></tr><tr><td>Peru</td><td>Lima</td><td>66.63344696473038</td></tr><tr><td>Guyana</td><td>Georgetown</td><td>-22.101520236920056</td></tr><tr><td>Venezuela</td><td>Caracas</td><td>78.326011872639</td></tr><tr><td>Dominican Republic</td><td>Santo Domingo</td><td>65.21575822989762</td></tr><tr><td>Guatemala</td><td>Guatemala City</td><td>56.91135333477217</td></tr><tr><td>Panama</td><td>Panama City</td><td>79.57879343837669</td></tr><tr><td>Nicaragua</td><td>Managua</td><td>71.8512817739321</td></tr><tr><td>Honduras</td><td>Tegucigalpa</td><td>68.53149487317785</td></tr></tbody></table></div>"
      ]
     },
     "metadata": {
      "application/vnd.databricks.v1+output": {
       "addedWidgets": {},
       "aggData": [],
       "aggError": "",
       "aggOverflow": false,
       "aggSchema": [],
       "aggSeriesLimitReached": false,
       "aggType": "",
       "arguments": {},
       "columnCustomDisplayInfos": {},
       "data": [
        [
         "Namibia",
         "Windhoek",
         57.990341031729066
        ],
        [
         "China",
         "Beijing",
         54.719976257284614
        ],
        [
         "Mauritania",
         "Nouakchott",
         73.41478705686403
        ],
        [
         "Sierra Leone",
         "Freetown",
         -9.820260911579975
        ],
        [
         "Tunisia",
         "Tunis",
         66.47864234837016
        ],
        [
         "Central African Republic",
         "Bangui",
         67.01951219512179
        ],
        [
         "Madagascar",
         "Antananarivo",
         63.445898985538584
        ],
        [
         "Ethiopia",
         "Addis Ababa",
         25.45525551371705
        ],
        [
         "Uganda",
         "Kampala",
         44.1425256341069
        ],
        [
         "Guinea-Bissau",
         "Bissau",
         2.3921217353767306
        ],
        [
         "Egypt",
         "Cairo",
         71.95347507014904
        ],
        [
         "North Korea",
         "Pyongyang",
         48.21019857543733
        ],
        [
         "Algeria",
         "Algiers",
         63.755439240232846
        ],
        [
         "Morocco",
         "Rabat",
         62.7334556442909
        ],
        [
         "Senegal",
         "Dakar",
         75.55507230736022
        ],
        [
         "Kenya",
         "Nairobi",
         23.452060975609776
        ],
        [
         "Laos",
         "Vientiane",
         79.96746168789109
        ],
        [
         "Burundi",
         "Bujumbura",
         -65.39713845476541
        ],
        [
         "Malawi",
         "Lilongwe",
         -20.585543650096596
        ],
        [
         "Pakistan",
         "Islamabad",
         65.36514840798696
        ],
        [
         "Bangladesh",
         "Dhaka",
         10.10987951807226
        ],
        [
         "Japan",
         "Tokyo",
         61.06350097129274
        ],
        [
         "Malaysia",
         "Kuala Lumpur",
         78.95312972156226
        ],
        [
         "Guinea",
         "Conakry",
         49.389391323116925
        ],
        [
         "Kyrgyzstan",
         "Bishkek",
         51.37300000000035
        ],
        [
         "Mozambique",
         "Maputo",
         62.78318631669572
        ],
        [
         "Zambia",
         "Lusaka",
         55.90346164895155
        ],
        [
         "Gambia",
         "Banjul",
         59.66582708528577
        ],
        [
         "Gabon",
         "Libreville",
         70.3977979274613
        ],
        [
         "Indonesia",
         "Jakarta",
         35.98840798704796
        ],
        [
         "Cyprus",
         "Nicosia",
         23.777476999292325
        ],
        [
         "Portugal",
         "Lisbon",
         61.857770343189905
        ],
        [
         "Croatia",
         "Zagreb",
         46.928613059902794
        ],
        [
         "Macedonia",
         "Skopje",
         54.00780356179161
        ],
        [
         "Russia",
         "Moscow",
         41.92599827325716
        ],
        [
         "Slovakia",
         "Bratislava",
         51.44646017699109
        ],
        [
         "Belgium",
         "Brussels",
         51.057047269587684
        ],
        [
         "Vietnam",
         "Hanoi",
         74.7373192315993
        ],
        [
         "Ireland",
         "Dublin",
         49.06678178286205
        ],
        [
         "Uzbekistan",
         "Tashkent",
         58.806345780272224
        ],
        [
         "South Korea",
         "Seoul",
         52.87797323548456
        ],
        [
         "Hungary",
         "Budapest",
         51.099061083531026
        ],
        [
         "Czech Republic",
         "Prague",
         47.60325922728247
        ],
        [
         "Philippines",
         "Manila",
         81.54242391538949
        ],
        [
         "Latvia",
         "Riga",
         44.13642348370398
        ],
        [
         "Bulgaria",
         "Sofia",
         45.203345564429064
        ],
        [
         "Georgia",
         "Tbilisi",
         46.51603471904962
        ],
        [
         "Thailand",
         "Bangkok",
         72.46408588158758
        ],
        [
         "Poland",
         "Warsaw",
         47.77608461040342
        ],
        [
         "Australia",
         "Canberra",
         55.57968918627248
        ],
        [
         "Denmark",
         "Copenhagen",
         46.960446794733286
        ],
        [
         "Belarus",
         "Minsk",
         41.82123272884281
        ],
        [
         "Austria",
         "Vienna",
         51.04722641916694
        ],
        [
         "Greece",
         "Athens",
         59.63387072243328
        ],
        [
         "Romania",
         "Bucharest",
         52.36450464062177
        ],
        [
         "Albania",
         "Tirana",
         33.172922512410985
        ],
        [
         "France",
         "Paris",
         52.94068638031512
        ],
        [
         "Italy",
         "Rome",
         60.22482192963531
        ],
        [
         "Finland",
         "Helsinki",
         42.24399956831414
        ],
        [
         "Norway",
         "Oslo",
         40.9233720447946
        ],
        [
         "Singapore",
         "Singapore",
         81.65440319447444
        ],
        [
         "Switzerland",
         "Bern",
         49.0322793006693
        ],
        [
         "Canada",
         "Ottawa",
         43.94288128432612
        ],
        [
         "Spain",
         "Madrid",
         58.4405352903085
        ],
        [
         "Saudi Arabia",
         "Riyadh",
         78.67092596589663
        ],
        [
         "Argentina",
         "Buenos Aires",
         62.304899633067144
        ],
        [
         "Bahrain",
         "Manama",
         80.63559248866856
        ],
        [
         "Turkey",
         "Ankara",
         50.90390675588181
        ],
        [
         "Lebanon",
         "Beirut",
         69.39838117850216
        ],
        [
         "Mexico",
         "Mexico City",
         62.05048030221261
        ],
        [
         "United Arab Emirates",
         "Abu Dhabi",
         82.19249946039282
        ],
        [
         "Syria",
         "Damascus",
         62.80611980572022
        ],
        [
         "Barbados",
         "Bridgetown",
         77.00251697494751
        ],
        [
         "Oman",
         "Muscat",
         21.888976113042418
        ],
        [
         "Sweden",
         "Stockholm",
         45.093503129721704
        ],
        [
         "Qatar",
         "Doha",
         82.2356248650983
        ],
        [
         "Bermuda",
         "Hamilton",
         66.97127603710837
        ],
        [
         "Bahamas",
         "Nassau",
         76.57303831624395
        ],
        [
         "Bolivia",
         "La Paz",
         44.86714871573494
        ],
        [
         "Jordan",
         "Amman",
         64.16010144614734
        ],
        [
         "Cuba",
         "Havana",
         72.64080310880819
        ],
        [
         "Suriname",
         "Paramaribo",
         47.514911523521775
        ],
        [
         "Peru",
         "Lima",
         66.63344696473038
        ],
        [
         "Guyana",
         "Georgetown",
         -22.101520236920056
        ],
        [
         "Venezuela",
         "Caracas",
         78.326011872639
        ],
        [
         "Dominican Republic",
         "Santo Domingo",
         65.21575822989762
        ],
        [
         "Guatemala",
         "Guatemala City",
         56.91135333477217
        ],
        [
         "Panama",
         "Panama City",
         79.57879343837669
        ],
        [
         "Nicaragua",
         "Managua",
         71.8512817739321
        ],
        [
         "Honduras",
         "Tegucigalpa",
         68.53149487317785
        ]
       ],
       "datasetInfos": [],
       "dbfsResultPath": null,
       "isJsonSchema": true,
       "metadata": {},
       "overflow": false,
       "plotOptions": {
        "customPlotOptions": {},
        "displayType": "table",
        "pivotAggregation": null,
        "pivotColumns": null,
        "xColumns": null,
        "yColumns": null
       },
       "removedWidgets": [],
       "schema": [
        {
         "metadata": "{}",
         "name": "Country",
         "type": "\"string\""
        },
        {
         "metadata": "{}",
         "name": "Capital",
         "type": "\"string\""
        },
        {
         "metadata": "{}",
         "name": "AvgTemperature",
         "type": "\"double\""
        }
       ],
       "type": "table"
      }
     },
     "output_type": "display_data"
    }
   ],
   "source": [
    "from pyspark.sql import SparkSession\n",
    "from pyspark.sql.functions import col\n",
    "\n",
    "# Initialize Spark session\n",
    "spark = SparkSession.builder.appName(\"AvgTemperatureByCountry\").getOrCreate()\n",
    "\n",
    "# Load city temperature data\n",
    "temperature_file_path = \"/FileStore/tables/city_temperature.csv\"\n",
    "temperature_df = spark.read.csv(temperature_file_path, header=True, inferSchema=True)\n",
    "\n",
    "# Load country capitals data\n",
    "capitals_file_path = \"/FileStore/tables/country_list-2.csv\"\n",
    "capitals_df = spark.read.csv(capitals_file_path, header=True, inferSchema=True)\n",
    "\n",
    "# Join the temperature data with the country capitals data\n",
    "joined_df = temperature_df.join(capitals_df, on=\"Country\")\n",
    "\n",
    "# table\n",
    "joined_df.createOrReplaceTempView(\"joined_table\")\n",
    "\n",
    "# find the capital and average temperature for each country\n",
    "avgTempCountry = spark.sql(\n",
    "    \"SELECT Country, Capital, AVG(AvgTemperature) AS AvgTemperature \"\n",
    "    \"FROM joined_table \"\n",
    "    \"WHERE City = Capital \"\n",
    "    \"GROUP BY Country, Capital\"\n",
    ")\n",
    "\n",
    "# Show the result\n",
    "display(avgTempCountry)\n"
   ]
  },
  {
   "cell_type": "markdown",
   "metadata": {
    "application/vnd.databricks.v1+cell": {
     "cellMetadata": {},
     "inputWidgets": {},
     "nuid": "e3af0417-3702-408e-8021-d57229d012b1",
     "showTitle": false,
     "title": ""
    }
   },
   "source": [
    "part e"
   ]
  },
  {
   "cell_type": "code",
   "execution_count": 0,
   "metadata": {
    "application/vnd.databricks.v1+cell": {
     "cellMetadata": {
      "byteLimit": 2048000,
      "rowLimit": 10000
     },
     "inputWidgets": {},
     "nuid": "b704c384-6d13-4c78-9073-8483f1ed132c",
     "showTitle": false,
     "title": ""
    }
   },
   "outputs": [
    {
     "output_type": "display_data",
     "data": {
      "text/html": [
       "<style scoped>\n",
       "  .table-result-container {\n",
       "    max-height: 300px;\n",
       "    overflow: auto;\n",
       "  }\n",
       "  table, th, td {\n",
       "    border: 1px solid black;\n",
       "    border-collapse: collapse;\n",
       "  }\n",
       "  th, td {\n",
       "    padding: 5px;\n",
       "  }\n",
       "  th {\n",
       "    text-align: left;\n",
       "  }\n",
       "</style><div class='table-result-container'><table class='table-result'><thead style='background-color: white'><tr><th>Country</th><th>Capital</th><th>AvgTemperature</th></tr></thead><tbody><tr><td>Namibia</td><td>Windhoek</td><td>57.990341031729066</td></tr><tr><td>China</td><td>Beijing</td><td>54.719976257284614</td></tr><tr><td>Mauritania</td><td>Nouakchott</td><td>73.41478705686403</td></tr><tr><td>Sierra Leone</td><td>Freetown</td><td>-9.820260911579975</td></tr><tr><td>Tunisia</td><td>Tunis</td><td>66.47864234837016</td></tr><tr><td>Central African Republic</td><td>Bangui</td><td>67.01951219512179</td></tr><tr><td>Madagascar</td><td>Antananarivo</td><td>63.445898985538584</td></tr><tr><td>Ethiopia</td><td>Addis Ababa</td><td>25.45525551371705</td></tr><tr><td>Uganda</td><td>Kampala</td><td>44.1425256341069</td></tr><tr><td>Guinea-Bissau</td><td>Bissau</td><td>2.3921217353767306</td></tr><tr><td>Egypt</td><td>Cairo</td><td>71.95347507014904</td></tr><tr><td>North Korea</td><td>Pyongyang</td><td>48.21019857543733</td></tr><tr><td>Algeria</td><td>Algiers</td><td>63.755439240232846</td></tr><tr><td>Morocco</td><td>Rabat</td><td>62.7334556442909</td></tr><tr><td>Senegal</td><td>Dakar</td><td>75.55507230736022</td></tr><tr><td>Kenya</td><td>Nairobi</td><td>23.452060975609776</td></tr><tr><td>Laos</td><td>Vientiane</td><td>79.96746168789109</td></tr><tr><td>Burundi</td><td>Bujumbura</td><td>-65.39713845476541</td></tr><tr><td>Malawi</td><td>Lilongwe</td><td>-20.585543650096596</td></tr><tr><td>Pakistan</td><td>Islamabad</td><td>65.36514840798696</td></tr><tr><td>Bangladesh</td><td>Dhaka</td><td>10.10987951807226</td></tr><tr><td>Japan</td><td>Tokyo</td><td>61.06350097129274</td></tr><tr><td>Malaysia</td><td>Kuala Lumpur</td><td>78.95312972156226</td></tr><tr><td>Guinea</td><td>Conakry</td><td>49.389391323116925</td></tr><tr><td>Kyrgyzstan</td><td>Bishkek</td><td>51.37300000000035</td></tr><tr><td>Mozambique</td><td>Maputo</td><td>62.78318631669572</td></tr><tr><td>Zambia</td><td>Lusaka</td><td>55.90346164895155</td></tr><tr><td>Gambia</td><td>Banjul</td><td>59.66582708528577</td></tr><tr><td>Gabon</td><td>Libreville</td><td>70.3977979274613</td></tr><tr><td>Indonesia</td><td>Jakarta</td><td>35.98840798704796</td></tr><tr><td>Cyprus</td><td>Nicosia</td><td>23.777476999292325</td></tr><tr><td>Portugal</td><td>Lisbon</td><td>61.857770343189905</td></tr><tr><td>Croatia</td><td>Zagreb</td><td>46.928613059902794</td></tr><tr><td>Macedonia</td><td>Skopje</td><td>54.00780356179161</td></tr><tr><td>Russia</td><td>Moscow</td><td>41.92599827325716</td></tr><tr><td>Slovakia</td><td>Bratislava</td><td>51.44646017699109</td></tr><tr><td>Belgium</td><td>Brussels</td><td>51.057047269587684</td></tr><tr><td>Vietnam</td><td>Hanoi</td><td>74.7373192315993</td></tr><tr><td>Ireland</td><td>Dublin</td><td>49.06678178286205</td></tr><tr><td>Uzbekistan</td><td>Tashkent</td><td>58.806345780272224</td></tr><tr><td>South Korea</td><td>Seoul</td><td>52.87797323548456</td></tr><tr><td>Hungary</td><td>Budapest</td><td>51.099061083531026</td></tr><tr><td>Czech Republic</td><td>Prague</td><td>47.60325922728247</td></tr><tr><td>Philippines</td><td>Manila</td><td>81.54242391538949</td></tr><tr><td>Latvia</td><td>Riga</td><td>44.13642348370398</td></tr><tr><td>Bulgaria</td><td>Sofia</td><td>45.203345564429064</td></tr><tr><td>Georgia</td><td>Tbilisi</td><td>46.51603471904962</td></tr><tr><td>Thailand</td><td>Bangkok</td><td>72.46408588158758</td></tr><tr><td>Poland</td><td>Warsaw</td><td>47.77608461040342</td></tr><tr><td>Australia</td><td>Canberra</td><td>55.57968918627248</td></tr><tr><td>Denmark</td><td>Copenhagen</td><td>46.960446794733286</td></tr><tr><td>Belarus</td><td>Minsk</td><td>41.82123272884281</td></tr><tr><td>Austria</td><td>Vienna</td><td>51.04722641916694</td></tr><tr><td>Greece</td><td>Athens</td><td>59.63387072243328</td></tr><tr><td>Romania</td><td>Bucharest</td><td>52.36450464062177</td></tr><tr><td>Albania</td><td>Tirana</td><td>33.172922512410985</td></tr><tr><td>France</td><td>Paris</td><td>52.94068638031512</td></tr><tr><td>Italy</td><td>Rome</td><td>60.22482192963531</td></tr><tr><td>Finland</td><td>Helsinki</td><td>42.24399956831414</td></tr><tr><td>Norway</td><td>Oslo</td><td>40.9233720447946</td></tr><tr><td>Singapore</td><td>Singapore</td><td>81.65440319447444</td></tr><tr><td>Switzerland</td><td>Bern</td><td>49.0322793006693</td></tr><tr><td>Canada</td><td>Ottawa</td><td>43.94288128432612</td></tr><tr><td>Spain</td><td>Madrid</td><td>58.4405352903085</td></tr><tr><td>Saudi Arabia</td><td>Riyadh</td><td>78.67092596589663</td></tr><tr><td>Argentina</td><td>Buenos Aires</td><td>62.304899633067144</td></tr><tr><td>Bahrain</td><td>Manama</td><td>80.63559248866856</td></tr><tr><td>Turkey</td><td>Ankara</td><td>50.90390675588181</td></tr><tr><td>Lebanon</td><td>Beirut</td><td>69.39838117850216</td></tr><tr><td>Mexico</td><td>Mexico City</td><td>62.05048030221261</td></tr><tr><td>United Arab Emirates</td><td>Abu Dhabi</td><td>82.19249946039282</td></tr><tr><td>Syria</td><td>Damascus</td><td>62.80611980572022</td></tr><tr><td>Barbados</td><td>Bridgetown</td><td>77.00251697494751</td></tr><tr><td>Oman</td><td>Muscat</td><td>21.888976113042418</td></tr><tr><td>Sweden</td><td>Stockholm</td><td>45.093503129721704</td></tr><tr><td>Qatar</td><td>Doha</td><td>82.2356248650983</td></tr><tr><td>Bermuda</td><td>Hamilton</td><td>66.97127603710837</td></tr><tr><td>Bahamas</td><td>Nassau</td><td>76.57303831624395</td></tr><tr><td>Bolivia</td><td>La Paz</td><td>44.86714871573494</td></tr><tr><td>Jordan</td><td>Amman</td><td>64.16010144614734</td></tr><tr><td>Cuba</td><td>Havana</td><td>72.64080310880819</td></tr><tr><td>Suriname</td><td>Paramaribo</td><td>47.514911523521775</td></tr><tr><td>Peru</td><td>Lima</td><td>66.63344696473038</td></tr><tr><td>Guyana</td><td>Georgetown</td><td>-22.101520236920056</td></tr><tr><td>Venezuela</td><td>Caracas</td><td>78.326011872639</td></tr><tr><td>Dominican Republic</td><td>Santo Domingo</td><td>65.21575822989762</td></tr><tr><td>Guatemala</td><td>Guatemala City</td><td>56.91135333477217</td></tr><tr><td>Panama</td><td>Panama City</td><td>79.57879343837669</td></tr><tr><td>Nicaragua</td><td>Managua</td><td>71.8512817739321</td></tr><tr><td>Honduras</td><td>Tegucigalpa</td><td>68.53149487317785</td></tr></tbody></table></div>"
      ]
     },
     "metadata": {
      "application/vnd.databricks.v1+output": {
       "addedWidgets": {},
       "aggData": [],
       "aggError": "",
       "aggOverflow": false,
       "aggSchema": [],
       "aggSeriesLimitReached": false,
       "aggType": "",
       "arguments": {},
       "columnCustomDisplayInfos": {},
       "data": [
        [
         "Namibia",
         "Windhoek",
         57.990341031729066
        ],
        [
         "China",
         "Beijing",
         54.719976257284614
        ],
        [
         "Mauritania",
         "Nouakchott",
         73.41478705686403
        ],
        [
         "Sierra Leone",
         "Freetown",
         -9.820260911579975
        ],
        [
         "Tunisia",
         "Tunis",
         66.47864234837016
        ],
        [
         "Central African Republic",
         "Bangui",
         67.01951219512179
        ],
        [
         "Madagascar",
         "Antananarivo",
         63.445898985538584
        ],
        [
         "Ethiopia",
         "Addis Ababa",
         25.45525551371705
        ],
        [
         "Uganda",
         "Kampala",
         44.1425256341069
        ],
        [
         "Guinea-Bissau",
         "Bissau",
         2.3921217353767306
        ],
        [
         "Egypt",
         "Cairo",
         71.95347507014904
        ],
        [
         "North Korea",
         "Pyongyang",
         48.21019857543733
        ],
        [
         "Algeria",
         "Algiers",
         63.755439240232846
        ],
        [
         "Morocco",
         "Rabat",
         62.7334556442909
        ],
        [
         "Senegal",
         "Dakar",
         75.55507230736022
        ],
        [
         "Kenya",
         "Nairobi",
         23.452060975609776
        ],
        [
         "Laos",
         "Vientiane",
         79.96746168789109
        ],
        [
         "Burundi",
         "Bujumbura",
         -65.39713845476541
        ],
        [
         "Malawi",
         "Lilongwe",
         -20.585543650096596
        ],
        [
         "Pakistan",
         "Islamabad",
         65.36514840798696
        ],
        [
         "Bangladesh",
         "Dhaka",
         10.10987951807226
        ],
        [
         "Japan",
         "Tokyo",
         61.06350097129274
        ],
        [
         "Malaysia",
         "Kuala Lumpur",
         78.95312972156226
        ],
        [
         "Guinea",
         "Conakry",
         49.389391323116925
        ],
        [
         "Kyrgyzstan",
         "Bishkek",
         51.37300000000035
        ],
        [
         "Mozambique",
         "Maputo",
         62.78318631669572
        ],
        [
         "Zambia",
         "Lusaka",
         55.90346164895155
        ],
        [
         "Gambia",
         "Banjul",
         59.66582708528577
        ],
        [
         "Gabon",
         "Libreville",
         70.3977979274613
        ],
        [
         "Indonesia",
         "Jakarta",
         35.98840798704796
        ],
        [
         "Cyprus",
         "Nicosia",
         23.777476999292325
        ],
        [
         "Portugal",
         "Lisbon",
         61.857770343189905
        ],
        [
         "Croatia",
         "Zagreb",
         46.928613059902794
        ],
        [
         "Macedonia",
         "Skopje",
         54.00780356179161
        ],
        [
         "Russia",
         "Moscow",
         41.92599827325716
        ],
        [
         "Slovakia",
         "Bratislava",
         51.44646017699109
        ],
        [
         "Belgium",
         "Brussels",
         51.057047269587684
        ],
        [
         "Vietnam",
         "Hanoi",
         74.7373192315993
        ],
        [
         "Ireland",
         "Dublin",
         49.06678178286205
        ],
        [
         "Uzbekistan",
         "Tashkent",
         58.806345780272224
        ],
        [
         "South Korea",
         "Seoul",
         52.87797323548456
        ],
        [
         "Hungary",
         "Budapest",
         51.099061083531026
        ],
        [
         "Czech Republic",
         "Prague",
         47.60325922728247
        ],
        [
         "Philippines",
         "Manila",
         81.54242391538949
        ],
        [
         "Latvia",
         "Riga",
         44.13642348370398
        ],
        [
         "Bulgaria",
         "Sofia",
         45.203345564429064
        ],
        [
         "Georgia",
         "Tbilisi",
         46.51603471904962
        ],
        [
         "Thailand",
         "Bangkok",
         72.46408588158758
        ],
        [
         "Poland",
         "Warsaw",
         47.77608461040342
        ],
        [
         "Australia",
         "Canberra",
         55.57968918627248
        ],
        [
         "Denmark",
         "Copenhagen",
         46.960446794733286
        ],
        [
         "Belarus",
         "Minsk",
         41.82123272884281
        ],
        [
         "Austria",
         "Vienna",
         51.04722641916694
        ],
        [
         "Greece",
         "Athens",
         59.63387072243328
        ],
        [
         "Romania",
         "Bucharest",
         52.36450464062177
        ],
        [
         "Albania",
         "Tirana",
         33.172922512410985
        ],
        [
         "France",
         "Paris",
         52.94068638031512
        ],
        [
         "Italy",
         "Rome",
         60.22482192963531
        ],
        [
         "Finland",
         "Helsinki",
         42.24399956831414
        ],
        [
         "Norway",
         "Oslo",
         40.9233720447946
        ],
        [
         "Singapore",
         "Singapore",
         81.65440319447444
        ],
        [
         "Switzerland",
         "Bern",
         49.0322793006693
        ],
        [
         "Canada",
         "Ottawa",
         43.94288128432612
        ],
        [
         "Spain",
         "Madrid",
         58.4405352903085
        ],
        [
         "Saudi Arabia",
         "Riyadh",
         78.67092596589663
        ],
        [
         "Argentina",
         "Buenos Aires",
         62.304899633067144
        ],
        [
         "Bahrain",
         "Manama",
         80.63559248866856
        ],
        [
         "Turkey",
         "Ankara",
         50.90390675588181
        ],
        [
         "Lebanon",
         "Beirut",
         69.39838117850216
        ],
        [
         "Mexico",
         "Mexico City",
         62.05048030221261
        ],
        [
         "United Arab Emirates",
         "Abu Dhabi",
         82.19249946039282
        ],
        [
         "Syria",
         "Damascus",
         62.80611980572022
        ],
        [
         "Barbados",
         "Bridgetown",
         77.00251697494751
        ],
        [
         "Oman",
         "Muscat",
         21.888976113042418
        ],
        [
         "Sweden",
         "Stockholm",
         45.093503129721704
        ],
        [
         "Qatar",
         "Doha",
         82.2356248650983
        ],
        [
         "Bermuda",
         "Hamilton",
         66.97127603710837
        ],
        [
         "Bahamas",
         "Nassau",
         76.57303831624395
        ],
        [
         "Bolivia",
         "La Paz",
         44.86714871573494
        ],
        [
         "Jordan",
         "Amman",
         64.16010144614734
        ],
        [
         "Cuba",
         "Havana",
         72.64080310880819
        ],
        [
         "Suriname",
         "Paramaribo",
         47.514911523521775
        ],
        [
         "Peru",
         "Lima",
         66.63344696473038
        ],
        [
         "Guyana",
         "Georgetown",
         -22.101520236920056
        ],
        [
         "Venezuela",
         "Caracas",
         78.326011872639
        ],
        [
         "Dominican Republic",
         "Santo Domingo",
         65.21575822989762
        ],
        [
         "Guatemala",
         "Guatemala City",
         56.91135333477217
        ],
        [
         "Panama",
         "Panama City",
         79.57879343837669
        ],
        [
         "Nicaragua",
         "Managua",
         71.8512817739321
        ],
        [
         "Honduras",
         "Tegucigalpa",
         68.53149487317785
        ]
       ],
       "datasetInfos": [],
       "dbfsResultPath": null,
       "isJsonSchema": true,
       "metadata": {},
       "overflow": false,
       "plotOptions": {
        "customPlotOptions": {},
        "displayType": "table",
        "pivotAggregation": null,
        "pivotColumns": null,
        "xColumns": null,
        "yColumns": null
       },
       "removedWidgets": [],
       "schema": [
        {
         "metadata": "{}",
         "name": "Country",
         "type": "\"string\""
        },
        {
         "metadata": "{}",
         "name": "Capital",
         "type": "\"string\""
        },
        {
         "metadata": "{}",
         "name": "AvgTemperature",
         "type": "\"double\""
        }
       ],
       "type": "table"
      }
     },
     "output_type": "display_data"
    }
   ],
   "source": [
    "from pyspark.sql.functions import broadcast\n",
    "\n",
    "# same as part d, except use a broadcast variable\n",
    "\n",
    "broadcast_capitals = broadcast(capitals_df)\n",
    "\n",
    "# Join the temperature data with the broadcasted country capitals data\n",
    "joined_df = temperature_df.join(broadcast_capitals, on=\"Country\")\n",
    "\n",
    "# table\n",
    "joined_df.createOrReplaceTempView(\"joined_temperature_table\")\n",
    "\n",
    "avgTempCountry = spark.sql(\n",
    "    \"SELECT Country, Capital, AVG(AvgTemperature) AS AvgTemperature \"\n",
    "    \"FROM joined_temperature_table \"\n",
    "    \"WHERE City = Capital \"\n",
    "    \"GROUP BY Country, Capital\"\n",
    ")\n",
    "\n",
    "display(avgTempCountry)"
   ]
  },
  {
   "cell_type": "markdown",
   "metadata": {
    "application/vnd.databricks.v1+cell": {
     "cellMetadata": {},
     "inputWidgets": {},
     "nuid": "49169bd7-8193-48ee-a183-43dc9905ab97",
     "showTitle": false,
     "title": ""
    }
   },
   "source": [
    "1fi"
   ]
  },
  {
   "cell_type": "code",
   "execution_count": 0,
   "metadata": {
    "application/vnd.databricks.v1+cell": {
     "cellMetadata": {
      "byteLimit": 2048000,
      "rowLimit": 10000
     },
     "inputWidgets": {},
     "nuid": "d960e6ca-2d31-430a-af02-fa7db9733354",
     "showTitle": false,
     "title": ""
    }
   },
   "outputs": [
    {
     "output_type": "display_data",
     "data": {
      "text/html": [
       "<style scoped>\n",
       "  .table-result-container {\n",
       "    max-height: 300px;\n",
       "    overflow: auto;\n",
       "  }\n",
       "  table, th, td {\n",
       "    border: 1px solid black;\n",
       "    border-collapse: collapse;\n",
       "  }\n",
       "  th, td {\n",
       "    padding: 5px;\n",
       "  }\n",
       "  th {\n",
       "    text-align: left;\n",
       "  }\n",
       "</style><div class='table-result-container'><table class='table-result'><thead style='background-color: white'><tr><th>Country</th><th>Capital</th><th>FilteredYear</th><th>AvgTemperature</th></tr></thead><tbody><tr><td>Egypt</td><td>Cairo</td><td>2003</td><td>71.87999999999997</td></tr><tr><td>Laos</td><td>Vientiane</td><td>2017</td><td>80.4443835616438</td></tr><tr><td>Mauritania</td><td>Nouakchott</td><td>2015</td><td>77.83442622950817</td></tr><tr><td>Senegal</td><td>Dakar</td><td>2003</td><td>75.94383561643835</td></tr><tr><td>North Korea</td><td>Pyongyang</td><td>2008</td><td>51.5325136612022</td></tr><tr><td>Kenya</td><td>Nairobi</td><td>2015</td><td>55.10081967213115</td></tr><tr><td>Sierra Leone</td><td>Freetown</td><td>2011</td><td>3.239726027397261</td></tr><tr><td>Mauritania</td><td>Nouakchott</td><td>2001</td><td>74.31452054794518</td></tr><tr><td>China</td><td>Beijing</td><td>2012</td><td>53.6983606557377</td></tr><tr><td>Guinea-Bissau</td><td>Bissau</td><td>2013</td><td>73.53205479452053</td></tr><tr><td>Mozambique</td><td>Maputo</td><td>2006</td><td>69.2454794520549</td></tr><tr><td>Kenya</td><td>Nairobi</td><td>2002</td><td>8.015890410958905</td></tr><tr><td>Mauritania</td><td>Nouakchott</td><td>2010</td><td>78.93315068493155</td></tr><tr><td>Laos</td><td>Vientiane</td><td>2016</td><td>79.58688524590168</td></tr><tr><td>Kenya</td><td>Nairobi</td><td>2005</td><td>54.132602739726025</td></tr><tr><td>Kenya</td><td>Nairobi</td><td>2006</td><td>-42.434699453551914</td></tr><tr><td>Malawi</td><td>Lilongwe</td><td>2002</td><td>-39.43863013698636</td></tr><tr><td>Namibia</td><td>Windhoek</td><td>2010</td><td>64.91041095890408</td></tr><tr><td>Senegal</td><td>Dakar</td><td>2004</td><td>76.17431693989074</td></tr><tr><td>Guinea-Bissau</td><td>Bissau</td><td>2010</td><td>77.74794520547954</td></tr><tr><td>Namibia</td><td>Windhoek</td><td>2003</td><td>42.141917808219155</td></tr><tr><td>Mozambique</td><td>Maputo</td><td>2013</td><td>69.7419178082192</td></tr><tr><td>Algeria</td><td>Algiers</td><td>2002</td><td>62.347671232876685</td></tr><tr><td>Gabon</td><td>Libreville</td><td>2012</td><td>78.33251366120213</td></tr><tr><td>Mozambique</td><td>Maputo</td><td>2000</td><td>46.265846994535444</td></tr><tr><td>Laos</td><td>Vientiane</td><td>2015</td><td>80.62158469945359</td></tr><tr><td>Senegal</td><td>Dakar</td><td>2011</td><td>76.56438356164385</td></tr><tr><td>Madagascar</td><td>Antananarivo</td><td>2014</td><td>65.8358904109589</td></tr><tr><td>Namibia</td><td>Windhoek</td><td>2016</td><td>64.85327868852458</td></tr><tr><td>Senegal</td><td>Dakar</td><td>2012</td><td>76.36202185792351</td></tr><tr><td>Zambia</td><td>Lusaka</td><td>2010</td><td>66.27178082191777</td></tr><tr><td>Japan</td><td>Tokyo</td><td>2004</td><td>62.665846994535464</td></tr><tr><td>Algeria</td><td>Algiers</td><td>2004</td><td>64.08743169398907</td></tr><tr><td>Ethiopia</td><td>Addis Ababa</td><td>2006</td><td>23.27698630136985</td></tr><tr><td>Kenya</td><td>Nairobi</td><td>2013</td><td>51.21287671232875</td></tr><tr><td>China</td><td>Beijing</td><td>2005</td><td>55.310136986301345</td></tr><tr><td>Guinea-Bissau</td><td>Bissau</td><td>2015</td><td>71.698087431694</td></tr><tr><td>Tunisia</td><td>Tunis</td><td>2002</td><td>65.05178082191782</td></tr><tr><td>Tunisia</td><td>Tunis</td><td>2015</td><td>66.50846994535519</td></tr><tr><td>Algeria</td><td>Algiers</td><td>2017</td><td>64.99589041095896</td></tr><tr><td>Madagascar</td><td>Antananarivo</td><td>2010</td><td>66.6101369863014</td></tr><tr><td>Japan</td><td>Tokyo</td><td>2005</td><td>60.659726027397205</td></tr><tr><td>Malawi</td><td>Lilongwe</td><td>2005</td><td>-99.0</td></tr><tr><td>Bangladesh</td><td>Dhaka</td><td>2001</td><td>34.58931506849317</td></tr><tr><td>Japan</td><td>Tokyo</td><td>2015</td><td>61.57704918032787</td></tr><tr><td>North Korea</td><td>Pyongyang</td><td>2014</td><td>52.3835616438356</td></tr><tr><td>Guinea</td><td>Conakry</td><td>2013</td><td>78.4320547945206</td></tr><tr><td>Gabon</td><td>Libreville</td><td>2010</td><td>80.13753424657536</td></tr><tr><td>Gabon</td><td>Libreville</td><td>2018</td><td>78.26301369863017</td></tr><tr><td>Guinea-Bissau</td><td>Bissau</td><td>2001</td><td>-99.0</td></tr><tr><td>Namibia</td><td>Windhoek</td><td>2017</td><td>66.76794520547948</td></tr><tr><td>Gambia</td><td>Banjul</td><td>2012</td><td>78.99808743169402</td></tr><tr><td>Mauritania</td><td>Nouakchott</td><td>2003</td><td>74.12520547945205</td></tr><tr><td>Malaysia</td><td>Kuala Lumpur</td><td>2000</td><td>79.80136612021853</td></tr><tr><td>Malaysia</td><td>Kuala Lumpur</td><td>2001</td><td>81.98191780821918</td></tr><tr><td>Egypt</td><td>Cairo</td><td>2018</td><td>73.32191780821915</td></tr><tr><td>Kenya</td><td>Nairobi</td><td>2020</td><td>67.72089552238808</td></tr><tr><td>Uganda</td><td>Kampala</td><td>2005</td><td>30.586575342465775</td></tr><tr><td>Bangladesh</td><td>Dhaka</td><td>2006</td><td>40.75260273972604</td></tr><tr><td>Central African Republic</td><td>Bangui</td><td>2016</td><td>77.34016393442619</td></tr><tr><td>Uganda</td><td>Kampala</td><td>2017</td><td>72.87808219178083</td></tr><tr><td>Algeria</td><td>Algiers</td><td>2018</td><td>62.18082191780824</td></tr><tr><td>Kenya</td><td>Nairobi</td><td>2003</td><td>43.98</td></tr><tr><td>Namibia</td><td>Windhoek</td><td>2013</td><td>68.68493150684928</td></tr><tr><td>Uganda</td><td>Kampala</td><td>2013</td><td>39.948493150684946</td></tr><tr><td>Zambia</td><td>Lusaka</td><td>2004</td><td>65.01174863387982</td></tr><tr><td>Malaysia</td><td>Kuala Lumpur</td><td>2013</td><td>82.33534246575341</td></tr><tr><td>Ethiopia</td><td>Addis Ababa</td><td>2019</td><td>55.12410958904113</td></tr><tr><td>Tunisia</td><td>Tunis</td><td>2009</td><td>66.82876712328766</td></tr><tr><td>Central African Republic</td><td>Bangui</td><td>2018</td><td>76.05178082191783</td></tr><tr><td>Egypt</td><td>Cairo</td><td>2002</td><td>70.63095890410956</td></tr><tr><td>Mauritania</td><td>Nouakchott</td><td>2000</td><td>74.6877049180328</td></tr><tr><td>Bangladesh</td><td>Dhaka</td><td>2008</td><td>-19.79098360655736</td></tr><tr><td>Japan</td><td>Tokyo</td><td>2007</td><td>61.625205479452035</td></tr><tr><td>Algeria</td><td>Algiers</td><td>2019</td><td>62.29698630136982</td></tr><tr><td>Central African Republic</td><td>Bangui</td><td>2019</td><td>62.85260273972601</td></tr><tr><td>Gabon</td><td>Libreville</td><td>2004</td><td>63.71092896174868</td></tr><tr><td>Madagascar</td><td>Antananarivo</td><td>2001</td><td>66.20657534246575</td></tr><tr><td>Namibia</td><td>Windhoek</td><td>2008</td><td>64.47459016393441</td></tr><tr><td>Laos</td><td>Vientiane</td><td>2006</td><td>80.73643835616444</td></tr><tr><td>Gabon</td><td>Libreville</td><td>2015</td><td>78.99672131147537</td></tr><tr><td>Namibia</td><td>Windhoek</td><td>2012</td><td>66.9254098360656</td></tr><tr><td>Guinea</td><td>Conakry</td><td>2015</td><td>63.526229508196714</td></tr><tr><td>Namibia</td><td>Windhoek</td><td>2006</td><td>62.9731506849315</td></tr><tr><td>Senegal</td><td>Dakar</td><td>2013</td><td>76.58082191780818</td></tr><tr><td>Tunisia</td><td>Tunis</td><td>2006</td><td>67.49260273972604</td></tr><tr><td>Indonesia</td><td>Jakarta</td><td>2000</td><td>-66.67267759562841</td></tr><tr><td>Japan</td><td>Tokyo</td><td>2018</td><td>61.79917808219173</td></tr><tr><td>North Korea</td><td>Pyongyang</td><td>2006</td><td>34.47753424657533</td></tr><tr><td>Gambia</td><td>Banjul</td><td>2020</td><td>79.41716417910446</td></tr><tr><td>Uganda</td><td>Kampala</td><td>2018</td><td>69.8309589041096</td></tr><tr><td>Burundi</td><td>Bujumbura</td><td>2004</td><td>-77.40819672131148</td></tr><tr><td>Ethiopia</td><td>Addis Ababa</td><td>2002</td><td>-48.32219178082191</td></tr><tr><td>Gambia</td><td>Banjul</td><td>2014</td><td>77.82191780821923</td></tr><tr><td>Kyrgyzstan</td><td>Bishkek</td><td>2006</td><td>54.153698630137</td></tr><tr><td>Central African Republic</td><td>Bangui</td><td>2020</td><td>81.41343283582091</td></tr><tr><td>Gambia</td><td>Banjul</td><td>2004</td><td>63.83196721311479</td></tr><tr><td>Uganda</td><td>Kampala</td><td>2011</td><td>64.34821917808216</td></tr><tr><td>Uganda</td><td>Kampala</td><td>2012</td><td>54.38497267759564</td></tr><tr><td>Algeria</td><td>Algiers</td><td>2013</td><td>63.70465753424658</td></tr><tr><td>Egypt</td><td>Cairo</td><td>2010</td><td>75.51150684931515</td></tr><tr><td>Tunisia</td><td>Tunis</td><td>2013</td><td>67.30219178082193</td></tr><tr><td>Ethiopia</td><td>Addis Ababa</td><td>2008</td><td>-1.9795081967213164</td></tr><tr><td>Tunisia</td><td>Tunis</td><td>2014</td><td>67.81671232876712</td></tr><tr><td>Morocco</td><td>Rabat</td><td>2005</td><td>62.972602739726085</td></tr><tr><td>Japan</td><td>Tokyo</td><td>2011</td><td>61.61452054794516</td></tr><tr><td>Malaysia</td><td>Kuala Lumpur</td><td>2007</td><td>80.7882191780822</td></tr><tr><td>Malawi</td><td>Lilongwe</td><td>2011</td><td>51.22136986301373</td></tr><tr><td>Indonesia</td><td>Jakarta</td><td>2020</td><td>83.18345864661653</td></tr><tr><td>Burundi</td><td>Bujumbura</td><td>2000</td><td>-99.0</td></tr><tr><td>Morocco</td><td>Rabat</td><td>2017</td><td>64.20931506849317</td></tr><tr><td>Sierra Leone</td><td>Freetown</td><td>2001</td><td>-99.0</td></tr><tr><td>Uganda</td><td>Kampala</td><td>2015</td><td>70.86475409836069</td></tr><tr><td>China</td><td>Beijing</td><td>2018</td><td>54.14356164383562</td></tr><tr><td>Malaysia</td><td>Kuala Lumpur</td><td>2012</td><td>82.97950819672128</td></tr><tr><td>Ethiopia</td><td>Addis Ababa</td><td>2012</td><td>58.07568306010927</td></tr><tr><td>Mozambique</td><td>Maputo</td><td>2016</td><td>72.91147540983607</td></tr><tr><td>Zambia</td><td>Lusaka</td><td>2002</td><td>65.45260273972602</td></tr><tr><td>Zambia</td><td>Lusaka</td><td>2008</td><td>62.68224043715847</td></tr><tr><td>Namibia</td><td>Windhoek</td><td>2015</td><td>64.60983606557375</td></tr><tr><td>Egypt</td><td>Cairo</td><td>2011</td><td>71.86027397260276</td></tr><tr><td>Mauritania</td><td>Nouakchott</td><td>2007</td><td>76.85890410958905</td></tr><tr><td>Bangladesh</td><td>Dhaka</td><td>2004</td><td>-4.695355191256832</td></tr><tr><td>Zambia</td><td>Lusaka</td><td>2000</td><td>55.88579234972675</td></tr><tr><td>Malaysia</td><td>Kuala Lumpur</td><td>2018</td><td>79.53424657534245</td></tr><tr><td>Gabon</td><td>Libreville</td><td>2017</td><td>80.36630136986297</td></tr><tr><td>Tunisia</td><td>Tunis</td><td>2011</td><td>67.13698630136986</td></tr><tr><td>Tunisia</td><td>Tunis</td><td>2012</td><td>67.28879781420764</td></tr><tr><td>Namibia</td><td>Windhoek</td><td>2020</td><td>72.19850746268656</td></tr><tr><td>Zambia</td><td>Lusaka</td><td>2005</td><td>68.27424657534249</td></tr><tr><td>Kenya</td><td>Nairobi</td><td>2017</td><td>60.38246575342463</td></tr><tr><td>Mozambique</td><td>Maputo</td><td>2014</td><td>69.38602739726025</td></tr><tr><td>Bangladesh</td><td>Dhaka</td><td>2010</td><td>47.048181818181774</td></tr><tr><td>Kyrgyzstan</td><td>Bishkek</td><td>2012</td><td>52.36994535519127</td></tr><tr><td>Malaysia</td><td>Kuala Lumpur</td><td>2010</td><td>83.42794520547947</td></tr><tr><td>Burundi</td><td>Bujumbura</td><td>2007</td><td>-8.80250000000001</td></tr><tr><td>Algeria</td><td>Algiers</td><td>2016</td><td>63.51612021857921</td></tr><tr><td>Senegal</td><td>Dakar</td><td>2014</td><td>75.57397260273967</td></tr><tr><td>China</td><td>Beijing</td><td>2007</td><td>56.32438356164386</td></tr><tr><td>Gambia</td><td>Banjul</td><td>2011</td><td>78.74191780821917</td></tr><tr><td>Guinea</td><td>Conakry</td><td>2020</td><td>82.5105263157895</td></tr><tr><td>Kenya</td><td>Nairobi</td><td>2016</td><td>54.690958904109564</td></tr><tr><td>Mozambique</td><td>Maputo</td><td>2004</td><td>65.21967213114756</td></tr><tr><td>Uganda</td><td>Kampala</td><td>2016</td><td>72.39043715846994</td></tr><tr><td>Malaysia</td><td>Kuala Lumpur</td><td>2015</td><td>81.74617486338795</td></tr><tr><td>Gabon</td><td>Libreville</td><td>2005</td><td>77.6709589041096</td></tr><tr><td>Madagascar</td><td>Antananarivo</td><td>2017</td><td>66.2049315068493</td></tr><tr><td>Gambia</td><td>Banjul</td><td>2007</td><td>58.57841530054645</td></tr><tr><td>Mozambique</td><td>Maputo</td><td>2005</td><td>64.54684931506848</td></tr><tr><td>Uganda</td><td>Kampala</td><td>2004</td><td>-45.04180327868849</td></tr><tr><td>Kyrgyzstan</td><td>Bishkek</td><td>2009</td><td>52.65561643835621</td></tr><tr><td>Malaysia</td><td>Kuala Lumpur</td><td>2016</td><td>81.46775956284155</td></tr><tr><td>Burundi</td><td>Bujumbura</td><td>2006</td><td>-50.64876712328761</td></tr><tr><td>Guinea</td><td>Conakry</td><td>2012</td><td>38.73497267759564</td></tr><tr><td>Tunisia</td><td>Tunis</td><td>2001</td><td>67.51260273972602</td></tr><tr><td>China</td><td>Beijing</td><td>2006</td><td>55.92027397260275</td></tr><tr><td>Central African Republic</td><td>Bangui</td><td>2017</td><td>79.36164383561645</td></tr><tr><td>Uganda</td><td>Kampala</td><td>2000</td><td>35.456010928961746</td></tr><tr><td>Egypt</td><td>Cairo</td><td>2013</td><td>72.58520547945211</td></tr><tr><td>Japan</td><td>Tokyo</td><td>2009</td><td>61.12383561643826</td></tr><tr><td>Malaysia</td><td>Kuala Lumpur</td><td>2008</td><td>80.42622950819667</td></tr><tr><td>North Korea</td><td>Pyongyang</td><td>2018</td><td>49.63397260273972</td></tr><tr><td>Malawi</td><td>Lilongwe</td><td>2004</td><td>-99.0</td></tr><tr><td>Kyrgyzstan</td><td>Bishkek</td><td>2017</td><td>53.82767123287671</td></tr><tr><td>Mozambique</td><td>Maputo</td><td>2010</td><td>57.940000000000005</td></tr><tr><td>Laos</td><td>Vientiane</td><td>2018</td><td>78.41452054794519</td></tr><tr><td>Central African Republic</td><td>Bangui</td><td>2010</td><td>68.13808219178084</td></tr><tr><td>Tunisia</td><td>Tunis</td><td>2004</td><td>66.46721311475405</td></tr><tr><td>Central African Republic</td><td>Bangui</td><td>2014</td><td>75.35698630136991</td></tr><tr><td>Egypt</td><td>Cairo</td><td>2009</td><td>73.64739726027393</td></tr><tr><td>Kyrgyzstan</td><td>Bishkek</td><td>2013</td><td>54.89643835616442</td></tr><tr><td>North Korea</td><td>Pyongyang</td><td>2017</td><td>52.25452054794521</td></tr><tr><td>Central African Republic</td><td>Bangui</td><td>2000</td><td>68.64672131147542</td></tr><tr><td>Mauritania</td><td>Nouakchott</td><td>2002</td><td>72.43616438356169</td></tr><tr><td>Mozambique</td><td>Maputo</td><td>2002</td><td>73.01616438356163</td></tr><tr><td>Senegal</td><td>Dakar</td><td>2009</td><td>75.17671232876705</td></tr><tr><td>Japan</td><td>Tokyo</td><td>2002</td><td>59.35369863013701</td></tr><tr><td>Laos</td><td>Vientiane</td><td>2000</td><td>80.7754098360655</td></tr><tr><td>Malawi</td><td>Lilongwe</td><td>2003</td><td>-87.35808219178082</td></tr><tr><td>Mozambique</td><td>Maputo</td><td>2011</td><td>-23.073698630137006</td></tr><tr><td>Mozambique</td><td>Maputo</td><td>2020</td><td>77.71865671641794</td></tr><tr><td>Morocco</td><td>Rabat</td><td>2008</td><td>61.643989071038284</td></tr><tr><td>Mozambique</td><td>Maputo</td><td>2015</td><td>73.71393442622957</td></tr><tr><td>Sierra Leone</td><td>Freetown</td><td>2007</td><td>41.46273972602741</td></tr><tr><td>North Korea</td><td>Pyongyang</td><td>2016</td><td>50.95054644808742</td></tr><tr><td>Burundi</td><td>Bujumbura</td><td>2003</td><td>-98.50602739726027</td></tr><tr><td>China</td><td>Beijing</td><td>2014</td><td>56.39753424657534</td></tr><tr><td>Indonesia</td><td>Jakarta</td><td>2017</td><td>82.98575342465755</td></tr><tr><td>Central African Republic</td><td>Bangui</td><td>2004</td><td>74.44207650273223</td></tr><tr><td>Morocco</td><td>Rabat</td><td>2006</td><td>64.0693150684932</td></tr><tr><td>China</td><td>Beijing</td><td>2020</td><td>44.68358208955224</td></tr><tr><td>Gabon</td><td>Libreville</td><td>2003</td><td>75.94438356164382</td></tr><tr><td>Gambia</td><td>Banjul</td><td>2002</td><td>59.051506849315004</td></tr><tr><td>Senegal</td><td>Dakar</td><td>2001</td><td>76.93041095890412</td></tr><tr><td>Laos</td><td>Vientiane</td><td>2003</td><td>80.24712328767123</td></tr><tr><td>Bangladesh</td><td>Dhaka</td><td>2003</td><td>-1.0745205479452054</td></tr><tr><td>Indonesia</td><td>Jakarta</td><td>2011</td><td>83.06246575342472</td></tr><tr><td>North Korea</td><td>Pyongyang</td><td>2005</td><td>34.877808219178064</td></tr><tr><td>Egypt</td><td>Cairo</td><td>2012</td><td>72.6803278688525</td></tr><tr><td>Egypt</td><td>Cairo</td><td>2016</td><td>72.03142076502735</td></tr><tr><td>Ethiopia</td><td>Addis Ababa</td><td>2015</td><td>50.28142076502729</td></tr><tr><td>Sierra Leone</td><td>Freetown</td><td>2000</td><td>-99.0</td></tr><tr><td>Tunisia</td><td>Tunis</td><td>2010</td><td>67.15178082191777</td></tr><tr><td>Kyrgyzstan</td><td>Bishkek</td><td>2005</td><td>53.78958904109593</td></tr><tr><td>North Korea</td><td>Pyongyang</td><td>2001</td><td>51.050410958904145</td></tr><tr><td>Madagascar</td><td>Antananarivo</td><td>2020</td><td>69.439552238806</td></tr><tr><td>Senegal</td><td>Dakar</td><td>2000</td><td>74.16065573770499</td></tr><tr><td>Egypt</td><td>Cairo</td><td>2017</td><td>74.0241095890411</td></tr><tr><td>Guinea</td><td>Conakry</td><td>2010</td><td>55.4178082191781</td></tr><tr><td>Mozambique</td><td>Maputo</td><td>2019</td><td>72.40630136986302</td></tr><tr><td>Kyrgyzstan</td><td>Bishkek</td><td>2004</td><td>54.21612021857921</td></tr><tr><td>Zambia</td><td>Lusaka</td><td>2001</td><td>64.2517808219178</td></tr><tr><td>Central African Republic</td><td>Bangui</td><td>2009</td><td>70.40027397260276</td></tr><tr><td>Gambia</td><td>Banjul</td><td>2000</td><td>41.95437158469942</td></tr><tr><td>Japan</td><td>Tokyo</td><td>2020</td><td>52.78955223880599</td></tr><tr><td>North Korea</td><td>Pyongyang</td><td>2002</td><td>45.046575342465765</td></tr><tr><td>Algeria</td><td>Algiers</td><td>2003</td><td>65.04273972602736</td></tr><tr><td>Morocco</td><td>Rabat</td><td>2004</td><td>63.39672131147545</td></tr><tr><td>Laos</td><td>Vientiane</td><td>2002</td><td>78.44328767123285</td></tr><tr><td>Burundi</td><td>Bujumbura</td><td>2001</td><td>-99.0</td></tr><tr><td>Senegal</td><td>Dakar</td><td>2015</td><td>75.64316939890706</td></tr><tr><td>Kyrgyzstan</td><td>Bishkek</td><td>2015</td><td>53.92595628415296</td></tr><tr><td>Algeria</td><td>Algiers</td><td>2001</td><td>64.66986301369867</td></tr><tr><td>Senegal</td><td>Dakar</td><td>2002</td><td>72.58328767123291</td></tr><tr><td>Ethiopia</td><td>Addis Ababa</td><td>2004</td><td>-76.80819672131149</td></tr><tr><td>China</td><td>Beijing</td><td>2016</td><td>54.234426229508166</td></tr><tr><td>Indonesia</td><td>Jakarta</td><td>2006</td><td>30.722191780821923</td></tr><tr><td>Japan</td><td>Tokyo</td><td>2013</td><td>62.229041095890445</td></tr><tr><td>Malaysia</td><td>Kuala Lumpur</td><td>2006</td><td>81.65917808219181</td></tr><tr><td>Central African Republic</td><td>Bangui</td><td>2002</td><td>73.27890410958905</td></tr><tr><td>Ethiopia</td><td>Addis Ababa</td><td>2009</td><td>-12.593424657534227</td></tr><tr><td>Sierra Leone</td><td>Freetown</td><td>2003</td><td>67.88191780821923</td></tr><tr><td>China</td><td>Beijing</td><td>2002</td><td>53.4665753424658</td></tr><tr><td>Indonesia</td><td>Jakarta</td><td>2005</td><td>-74.42219178082193</td></tr><tr><td>Mozambique</td><td>Maputo</td><td>2003</td><td>66.59972602739724</td></tr><tr><td>Namibia</td><td>Windhoek</td><td>2004</td><td>48.36010928961748</td></tr><tr><td>Laos</td><td>Vientiane</td><td>2008</td><td>78.01338797814199</td></tr><tr><td>Egypt</td><td>Cairo</td><td>2014</td><td>72.6860273972603</td></tr><tr><td>Gabon</td><td>Libreville</td><td>2011</td><td>79.34520547945203</td></tr><tr><td>Guinea-Bissau</td><td>Bissau</td><td>2009</td><td>75.62931506849316</td></tr><tr><td>Morocco</td><td>Rabat</td><td>2002</td><td>61.527397260274036</td></tr><tr><td>Indonesia</td><td>Jakarta</td><td>2008</td><td>73.18797814207655</td></tr><tr><td>Algeria</td><td>Algiers</td><td>2012</td><td>64.29043715846997</td></tr><tr><td>Mauritania</td><td>Nouakchott</td><td>2014</td><td>77.13972602739732</td></tr><tr><td>Tunisia</td><td>Tunis</td><td>2005</td><td>66.2350684931507</td></tr><tr><td>China</td><td>Beijing</td><td>2017</td><td>56.563287671232885</td></tr><tr><td>Algeria</td><td>Algiers</td><td>2009</td><td>64.25972602739726</td></tr><tr><td>Algeria</td><td>Algiers</td><td>2011</td><td>64.96082191780816</td></tr><tr><td>Guinea</td><td>Conakry</td><td>2009</td><td>77.63780821917813</td></tr><tr><td>China</td><td>Beijing</td><td>2000</td><td>54.77431693989073</td></tr><tr><td>China</td><td>Beijing</td><td>2013</td><td>54.46</td></tr><tr><td>Kyrgyzstan</td><td>Bishkek</td><td>2010</td><td>54.137260273972586</td></tr><tr><td>Central African Republic</td><td>Bangui</td><td>2005</td><td>70.75917808219178</td></tr><tr><td>Guinea</td><td>Conakry</td><td>2000</td><td>-11.979508196721325</td></tr><tr><td>Zambia</td><td>Lusaka</td><td>2012</td><td>68.36448087431695</td></tr><tr><td>Egypt</td><td>Cairo</td><td>2000</td><td>70.77185792349732</td></tr><tr><td>Guinea-Bissau</td><td>Bissau</td><td>2002</td><td>-99.0</td></tr><tr><td>China</td><td>Beijing</td><td>2011</td><td>54.78465753424655</td></tr><tr><td>Central African Republic</td><td>Bangui</td><td>2003</td><td>71.9717808219178</td></tr><tr><td>Tunisia</td><td>Tunis</td><td>2003</td><td>66.88109589041098</td></tr><tr><td>Indonesia</td><td>Jakarta</td><td>2007</td><td>72.7731506849315</td></tr><tr><td>Madagascar</td><td>Antananarivo</td><td>2007</td><td>64.19808219178086</td></tr><tr><td>Central African Republic</td><td>Bangui</td><td>2006</td><td>72.6843835616438</td></tr><tr><td>Guinea-Bissau</td><td>Bissau</td><td>2018</td><td>78.57095890410957</td></tr><tr><td>Guinea</td><td>Conakry</td><td>2005</td><td>78.57369863013702</td></tr><tr><td>Morocco</td><td>Rabat</td><td>2016</td><td>62.86092896174871</td></tr><tr><td>Tunisia</td><td>Tunis</td><td>2017</td><td>67.02301369863012</td></tr><tr><td>Egypt</td><td>Cairo</td><td>2001</td><td>72.73726027397261</td></tr><tr><td>Ethiopia</td><td>Addis Ababa</td><td>2010</td><td>11.768493150684929</td></tr><tr><td>Guinea</td><td>Conakry</td><td>2007</td><td>48.03315068493151</td></tr><tr><td>Namibia</td><td>Windhoek</td><td>2002</td><td>-0.03424657534246852</td></tr><tr><td>Uganda</td><td>Kampala</td><td>2008</td><td>66.57650273224047</td></tr><tr><td>Laos</td><td>Vientiane</td><td>2005</td><td>80.8813698630137</td></tr><tr><td>Malaysia</td><td>Kuala Lumpur</td><td>2002</td><td>80.71863013698632</td></tr><tr><td>Malaysia</td><td>Kuala Lumpur</td><td>2003</td><td>82.15315068493148</td></tr><tr><td>Mozambique</td><td>Maputo</td><td>2012</td><td>59.325956284153065</td></tr><tr><td>Sierra Leone</td><td>Freetown</td><td>2006</td><td>60.1109589041096</td></tr><tr><td>Guinea</td><td>Conakry</td><td>2014</td><td>77.74602739726033</td></tr><tr><td>Uganda</td><td>Kampala</td><td>2003</td><td>-34.60767123287671</td></tr><tr><td>Zambia</td><td>Lusaka</td><td>2009</td><td>65.98191780821918</td></tr><tr><td>Japan</td><td>Tokyo</td><td>2010</td><td>62.22493150684935</td></tr><tr><td>Gambia</td><td>Banjul</td><td>2016</td><td>76.90519125683056</td></tr><tr><td>Guinea-Bissau</td><td>Bissau</td><td>2012</td><td>76.09234972677598</td></tr><tr><td>Laos</td><td>Vientiane</td><td>2011</td><td>79.9073972602739</td></tr><tr><td>Burundi</td><td>Bujumbura</td><td>2002</td><td>-99.0</td></tr><tr><td>Egypt</td><td>Cairo</td><td>2015</td><td>71.77978142076502</td></tr><tr><td>Guinea</td><td>Conakry</td><td>2016</td><td>69.25136612021856</td></tr><tr><td>Madagascar</td><td>Antananarivo</td><td>2004</td><td>65.35382513661202</td></tr><tr><td>Namibia</td><td>Windhoek</td><td>2000</td><td>62.10327868852457</td></tr><tr><td>Bangladesh</td><td>Dhaka</td><td>2009</td><td>38.05397260273975</td></tr><tr><td>North Korea</td><td>Pyongyang</td><td>2009</td><td>47.916712328767126</td></tr><tr><td>Guinea-Bissau</td><td>Bissau</td><td>2004</td><td>-99.0</td></tr><tr><td>Zambia</td><td>Lusaka</td><td>2011</td><td>62.46876712328768</td></tr><tr><td>Ethiopia</td><td>Addis Ababa</td><td>2003</td><td>-98.10602739726026</td></tr><tr><td>Malawi</td><td>Lilongwe</td><td>2006</td><td>-98.53852459016393</td></tr><tr><td>China</td><td>Beijing</td><td>2001</td><td>54.889863013698616</td></tr><tr><td>Namibia</td><td>Windhoek</td><td>2014</td><td>63.000821917808196</td></tr><tr><td>Ethiopia</td><td>Addis Ababa</td><td>2000</td><td>19.28387978142077</td></tr><tr><td>Senegal</td><td>Dakar</td><td>2018</td><td>71.65452054794521</td></tr><tr><td>Algeria</td><td>Algiers</td><td>2006</td><td>64.93041095890408</td></tr><tr><td>Gambia</td><td>Banjul</td><td>2001</td><td>57.77835616438358</td></tr><tr><td>Mauritania</td><td>Nouakchott</td><td>2018</td><td>70.25</td></tr><tr><td>China</td><td>Beijing</td><td>2019</td><td>53.943561643835594</td></tr><tr><td>Japan</td><td>Tokyo</td><td>2001</td><td>60.55452054794516</td></tr><tr><td>Japan</td><td>Tokyo</td><td>2014</td><td>61.19999999999999</td></tr><tr><td>Algeria</td><td>Algiers</td><td>2000</td><td>64.18278688524586</td></tr><tr><td>Gambia</td><td>Banjul</td><td>2019</td><td>75.35780821917805</td></tr><tr><td>Uganda</td><td>Kampala</td><td>2007</td><td>71.88328767123284</td></tr><tr><td>Zambia</td><td>Lusaka</td><td>2013</td><td>31.056164383561633</td></tr><tr><td>Indonesia</td><td>Jakarta</td><td>2003</td><td>-3.5054794520547845</td></tr><tr><td>Indonesia</td><td>Jakarta</td><td>2013</td><td>82.18986301369856</td></tr><tr><td>Guinea-Bissau</td><td>Bissau</td><td>2020</td><td>81.46015037593988</td></tr><tr><td>North Korea</td><td>Pyongyang</td><td>2003</td><td>50.75972602739723</td></tr><tr><td>Central African Republic</td><td>Bangui</td><td>2012</td><td>79.10054644808746</td></tr><tr><td>Madagascar</td><td>Antananarivo</td><td>2015</td><td>65.31584699453546</td></tr><tr><td>Mauritania</td><td>Nouakchott</td><td>2004</td><td>75.68661202185791</td></tr><tr><td>Morocco</td><td>Rabat</td><td>2012</td><td>62.62868852459014</td></tr><tr><td>Namibia</td><td>Windhoek</td><td>2005</td><td>66.27205479452056</td></tr><tr><td>Gabon</td><td>Libreville</td><td>2016</td><td>79.01010928961749</td></tr><tr><td>Egypt</td><td>Cairo</td><td>2019</td><td>70.9928767123288</td></tr><tr><td>Guinea-Bissau</td><td>Bissau</td><td>2006</td><td>-38.47459016393442</td></tr><tr><td>Mozambique</td><td>Maputo</td><td>2008</td><td>73.80655737704916</td></tr><tr><td>Indonesia</td><td>Jakarta</td><td>2002</td><td>-77.773698630137</td></tr><tr><td>Guinea</td><td>Conakry</td><td>2017</td><td>73.52493150684933</td></tr><tr><td>Namibia</td><td>Windhoek</td><td>2009</td><td>62.47671232876711</td></tr><tr><td>Kyrgyzstan</td><td>Bishkek</td><td>2014</td><td>51.06301369863013</td></tr><tr><td>Guinea</td><td>Conakry</td><td>2018</td><td>69.18493150684931</td></tr><tr><td>Ethiopia</td><td>Addis Ababa</td><td>2016</td><td>60.44508196721313</td></tr><tr><td>Senegal</td><td>Dakar</td><td>2006</td><td>76.30136986301369</td></tr><tr><td>Gambia</td><td>Banjul</td><td>2015</td><td>77.41530054644808</td></tr><tr><td>Indonesia</td><td>Jakarta</td><td>2001</td><td>-75.10109589041096</td></tr><tr><td>Laos</td><td>Vientiane</td><td>2010</td><td>81.95397260273981</td></tr><tr><td>Uganda</td><td>Kampala</td><td>2014</td><td>60.3953424657534</td></tr><tr><td>Ethiopia</td><td>Addis Ababa</td><td>2020</td><td>65.17819548872181</td></tr><tr><td>Morocco</td><td>Rabat</td><td>2013</td><td>62.47287671232877</td></tr><tr><td>Sierra Leone</td><td>Freetown</td><td>2004</td><td>71.48114754098364</td></tr><tr><td>Senegal</td><td>Dakar</td><td>2005</td><td>77.35369863013693</td></tr><tr><td>Gabon</td><td>Libreville</td><td>2013</td><td>79.62493150684925</td></tr><tr><td>Mauritania</td><td>Nouakchott</td><td>2008</td><td>75.77103825136605</td></tr><tr><td>Indonesia</td><td>Jakarta</td><td>2014</td><td>82.46821917808208</td></tr><tr><td>Guinea</td><td>Conakry</td><td>2011</td><td>47.75534246575343</td></tr><tr><td>Kenya</td><td>Nairobi</td><td>2014</td><td>42.251639344262315</td></tr><tr><td>Tunisia</td><td>Tunis</td><td>2007</td><td>66.71643835616442</td></tr><tr><td>Egypt</td><td>Cairo</td><td>2005</td><td>72.03780821917809</td></tr><tr><td>Indonesia</td><td>Jakarta</td><td>2018</td><td>80.56904109589043</td></tr><tr><td>Kenya</td><td>Nairobi</td><td>2000</td><td>-92.23934426229506</td></tr><tr><td>Morocco</td><td>Rabat</td><td>2014</td><td>63.08958904109587</td></tr><tr><td>Senegal</td><td>Dakar</td><td>2010</td><td>77.87232876712325</td></tr><tr><td>Kyrgyzstan</td><td>Bishkek</td><td>2000</td><td>54.25683060109289</td></tr><tr><td>Kyrgyzstan</td><td>Bishkek</td><td>2007</td><td>52.67232876712328</td></tr><tr><td>Senegal</td><td>Dakar</td><td>2008</td><td>76.18032786885246</td></tr><tr><td>Egypt</td><td>Cairo</td><td>2004</td><td>72.27021857923499</td></tr><tr><td>Guinea</td><td>Conakry</td><td>2003</td><td>73.592602739726</td></tr><tr><td>Guinea-Bissau</td><td>Bissau</td><td>2014</td><td>73.87397260273968</td></tr><tr><td>Kenya</td><td>Nairobi</td><td>2012</td><td>67.12328767123283</td></tr><tr><td>Morocco</td><td>Rabat</td><td>2019</td><td>59.73150684931507</td></tr><tr><td>Senegal</td><td>Dakar</td><td>2007</td><td>75.7887671232876</td></tr><tr><td>China</td><td>Beijing</td><td>2009</td><td>54.263287671232874</td></tr><tr><td>Kyrgyzstan</td><td>Bishkek</td><td>2016</td><td>52.73196721311477</td></tr><tr><td>Algeria</td><td>Algiers</td><td>2014</td><td>65.19589041095887</td></tr><tr><td>Kyrgyzstan</td><td>Bishkek</td><td>2020</td><td>44.90075187969924</td></tr><tr><td>Ethiopia</td><td>Addis Ababa</td><td>2001</td><td>-6.162465753424657</td></tr><tr><td>Gambia</td><td>Banjul</td><td>2003</td><td>-18.72246575342466</td></tr><tr><td>Kenya</td><td>Nairobi</td><td>2011</td><td>0.9000000000000009</td></tr><tr><td>Kyrgyzstan</td><td>Bishkek</td><td>2002</td><td>52.15205479452061</td></tr><tr><td>Laos</td><td>Vientiane</td><td>2001</td><td>76.42410958904114</td></tr><tr><td>Central African Republic</td><td>Bangui</td><td>2011</td><td>79.23917808219181</td></tr><tr><td>China</td><td>Beijing</td><td>2008</td><td>54.449999999999974</td></tr><tr><td>Mozambique</td><td>Maputo</td><td>2001</td><td>69.03808219178086</td></tr><tr><td>Tunisia</td><td>Tunis</td><td>2016</td><td>65.85601092896175</td></tr><tr><td>Indonesia</td><td>Jakarta</td><td>2004</td><td>-47.279234972677585</td></tr><tr><td>Kyrgyzstan</td><td>Bishkek</td><td>2011</td><td>52.423287671232856</td></tr><tr><td>North Korea</td><td>Pyongyang</td><td>2010</td><td>50.29672131147539</td></tr><tr><td>Madagascar</td><td>Antananarivo</td><td>2005</td><td>65.53671232876721</td></tr><tr><td>Madagascar</td><td>Antananarivo</td><td>2006</td><td>65.42794520547946</td></tr><tr><td>North Korea</td><td>Pyongyang</td><td>2007</td><td>28.719726027397282</td></tr><tr><td>Morocco</td><td>Rabat</td><td>2003</td><td>63.36931506849315</td></tr><tr><td>Namibia</td><td>Windhoek</td><td>2011</td><td>48.0358904109589</td></tr><tr><td>Tunisia</td><td>Tunis</td><td>2018</td><td>65.46136986301373</td></tr><tr><td>Uganda</td><td>Kampala</td><td>2001</td><td>67.06191780821916</td></tr><tr><td>China</td><td>Beijing</td><td>2010</td><td>53.15698630136992</td></tr><tr><td>Central African Republic</td><td>Bangui</td><td>2013</td><td>78.27808219178088</td></tr><tr><td>Madagascar</td><td>Antananarivo</td><td>2002</td><td>64.12273972602746</td></tr><tr><td>Madagascar</td><td>Antananarivo</td><td>2009</td><td>65.4249315068493</td></tr><tr><td>Tunisia</td><td>Tunis</td><td>2019</td><td>64.67041095890413</td></tr><tr><td>Gabon</td><td>Libreville</td><td>2009</td><td>79.43397260273974</td></tr><tr><td>Guinea-Bissau</td><td>Bissau</td><td>2019</td><td>77.52958904109589</td></tr><tr><td>Namibia</td><td>Windhoek</td><td>2018</td><td>49.45068493150687</td></tr><tr><td>Kenya</td><td>Nairobi</td><td>2018</td><td>63.225205479452086</td></tr><tr><td>Namibia</td><td>Windhoek</td><td>2007</td><td>58.9964383561644</td></tr><tr><td>Indonesia</td><td>Jakarta</td><td>2016</td><td>81.08715846994536</td></tr><tr><td>Japan</td><td>Tokyo</td><td>2019</td><td>60.187945205479465</td></tr><tr><td>Tunisia</td><td>Tunis</td><td>2020</td><td>59.53208955223882</td></tr><tr><td>Burundi</td><td>Bujumbura</td><td>2005</td><td>-74.82027397260273</td></tr><tr><td>North Korea</td><td>Pyongyang</td><td>2020</td><td>40.838345864661655</td></tr><tr><td>Ethiopia</td><td>Addis Ababa</td><td>2005</td><td>38.248219178082216</td></tr><tr><td>Mozambique</td><td>Maputo</td><td>2018</td><td>69.53452054794518</td></tr><tr><td>Japan</td><td>Tokyo</td><td>2017</td><td>61.645205479452045</td></tr><tr><td>North Korea</td><td>Pyongyang</td><td>2011</td><td>49.57753424657534</td></tr><tr><td>Gabon</td><td>Libreville</td><td>2006</td><td>79.66821917808224</td></tr><tr><td>Guinea</td><td>Conakry</td><td>2004</td><td>81.92786885245899</td></tr><tr><td>Senegal</td><td>Dakar</td><td>2017</td><td>77.29178082191781</td></tr><tr><td>Kyrgyzstan</td><td>Bishkek</td><td>2019</td><td>52.75506849315074</td></tr><tr><td>Ethiopia</td><td>Addis Ababa</td><td>2011</td><td>57.472328767123344</td></tr><tr><td>Guinea-Bissau</td><td>Bissau</td><td>2003</td><td>-99.0</td></tr><tr><td>Kenya</td><td>Nairobi</td><td>2001</td><td>-24.772054794520557</td></tr><tr><td>Madagascar</td><td>Antananarivo</td><td>2018</td><td>64.63506849315067</td></tr><tr><td>Mauritania</td><td>Nouakchott</td><td>2006</td><td>76.81315068493157</td></tr><tr><td>Zambia</td><td>Lusaka</td><td>2003</td><td>59.502739726027436</td></tr><tr><td>Algeria</td><td>Algiers</td><td>2020</td><td>58.034328358208924</td></tr><tr><td>Morocco</td><td>Rabat</td><td>2010</td><td>63.16986301369864</td></tr><tr><td>Madagascar</td><td>Antananarivo</td><td>2019</td><td>64.46657534246579</td></tr><tr><td>Uganda</td><td>Kampala</td><td>2010</td><td>39.52767123287667</td></tr><tr><td>Morocco</td><td>Rabat</td><td>2018</td><td>61.195342465753384</td></tr><tr><td>China</td><td>Beijing</td><td>2004</td><td>55.58306010928962</td></tr><tr><td>Senegal</td><td>Dakar</td><td>2016</td><td>74.88715846994529</td></tr><tr><td>Uganda</td><td>Kampala</td><td>2006</td><td>70.49150684931506</td></tr><tr><td>Madagascar</td><td>Antananarivo</td><td>2016</td><td>63.85956284152999</td></tr><tr><td>Algeria</td><td>Algiers</td><td>2008</td><td>63.53224043715848</td></tr><tr><td>Kyrgyzstan</td><td>Bishkek</td><td>2001</td><td>53.37506849315075</td></tr><tr><td>Malaysia</td><td>Kuala Lumpur</td><td>2004</td><td>82.09262295081963</td></tr><tr><td>China</td><td>Beijing</td><td>2003</td><td>54.906301369862994</td></tr><tr><td>Egypt</td><td>Cairo</td><td>2008</td><td>71.97978142076502</td></tr><tr><td>Kyrgyzstan</td><td>Bishkek</td><td>2008</td><td>53.404918032786846</td></tr><tr><td>Ethiopia</td><td>Addis Ababa</td><td>2017</td><td>60.24109589041093</td></tr><tr><td>Gambia</td><td>Banjul</td><td>2017</td><td>68.56082191780816</td></tr><tr><td>Japan</td><td>Tokyo</td><td>2012</td><td>60.821857923497305</td></tr><tr><td>Malaysia</td><td>Kuala Lumpur</td><td>2020</td><td>83.80970149253731</td></tr><tr><td>Guinea</td><td>Conakry</td><td>2019</td><td>62.41530054644809</td></tr><tr><td>Mauritania</td><td>Nouakchott</td><td>2011</td><td>77.21315068493152</td></tr><tr><td>Gambia</td><td>Banjul</td><td>2005</td><td>23.682739726027393</td></tr><tr><td>Gambia</td><td>Banjul</td><td>2010</td><td>78.44191780821923</td></tr><tr><td>Uganda</td><td>Kampala</td><td>2009</td><td>62.42273972602744</td></tr><tr><td>North Korea</td><td>Pyongyang</td><td>2015</td><td>52.27677595628414</td></tr><tr><td>Madagascar</td><td>Antananarivo</td><td>2012</td><td>54.404098360655574</td></tr><tr><td>Gambia</td><td>Banjul</td><td>2013</td><td>78.90739726027397</td></tr><tr><td>Malaysia</td><td>Kuala Lumpur</td><td>2019</td><td>79.98109589041104</td></tr><tr><td>Gabon</td><td>Libreville</td><td>2002</td><td>77.28383561643834</td></tr><tr><td>Mauritania</td><td>Nouakchott</td><td>2017</td><td>67.12164383561647</td></tr><tr><td>Malawi</td><td>Lilongwe</td><td>2001</td><td>-30.364931506849306</td></tr><tr><td>Indonesia</td><td>Jakarta</td><td>2019</td><td>81.00931506849315</td></tr><tr><td>Japan</td><td>Tokyo</td><td>2008</td><td>60.29726775956285</td></tr><tr><td>Laos</td><td>Vientiane</td><td>2012</td><td>82.05027322404366</td></tr><tr><td>Algeria</td><td>Algiers</td><td>2010</td><td>64.26821917808216</td></tr><tr><td>Ethiopia</td><td>Addis Ababa</td><td>2014</td><td>53.857650273224024</td></tr><tr><td>Mozambique</td><td>Maputo</td><td>2009</td><td>71.17534246575342</td></tr><tr><td>Laos</td><td>Vientiane</td><td>2004</td><td>80.20819672131145</td></tr><tr><td>Morocco</td><td>Rabat</td><td>2000</td><td>63.35245901639344</td></tr><tr><td>Guinea</td><td>Conakry</td><td>2006</td><td>75.43095890410957</td></tr><tr><td>Mauritania</td><td>Nouakchott</td><td>2012</td><td>77.89508196721309</td></tr><tr><td>Mozambique</td><td>Maputo</td><td>2017</td><td>73.00464480874317</td></tr><tr><td>Uganda</td><td>Kampala</td><td>2002</td><td>48.56301369863016</td></tr><tr><td>Ethiopia</td><td>Addis Ababa</td><td>2013</td><td>60.764657534246574</td></tr><tr><td>Gabon</td><td>Libreville</td><td>2020</td><td>82.79253731343283</td></tr><tr><td>Sierra Leone</td><td>Freetown</td><td>2005</td><td>54.27726027397257</td></tr><tr><td>Senegal</td><td>Dakar</td><td>2019</td><td>73.56301369863013</td></tr><tr><td>Tunisia</td><td>Tunis</td><td>2008</td><td>66.44071038251361</td></tr><tr><td>Guinea-Bissau</td><td>Bissau</td><td>2005</td><td>-99.0</td></tr><tr><td>Guinea-Bissau</td><td>Bissau</td><td>2007</td><td>55.911780821917795</td></tr><tr><td>Madagascar</td><td>Antananarivo</td><td>2000</td><td>54.80081967213114</td></tr><tr><td>Kyrgyzstan</td><td>Bishkek</td><td>2003</td><td>52.842191780821885</td></tr><tr><td>Madagascar</td><td>Antananarivo</td><td>2011</td><td>66.65999999999994</td></tr><tr><td>Indonesia</td><td>Jakarta</td><td>2012</td><td>82.16912568306019</td></tr><tr><td>Laos</td><td>Vientiane</td><td>2007</td><td>80.03205479452052</td></tr><tr><td>Malaysia</td><td>Kuala Lumpur</td><td>2009</td><td>81.41534246575337</td></tr><tr><td>Gabon</td><td>Libreville</td><td>2019</td><td>77.58684931506855</td></tr><tr><td>Kenya</td><td>Nairobi</td><td>2010</td><td>-57.93306010928962</td></tr><tr><td>Mauritania</td><td>Nouakchott</td><td>2016</td><td>60.956830601092946</td></tr><tr><td>Malaysia</td><td>Kuala Lumpur</td><td>2005</td><td>83.10027397260275</td></tr><tr><td>Malawi</td><td>Lilongwe</td><td>2013</td><td>60.234905660377336</td></tr><tr><td>Mozambique</td><td>Maputo</td><td>2007</td><td>71.29150684931516</td></tr><tr><td>Japan</td><td>Tokyo</td><td>2003</td><td>60.314246575342516</td></tr><tr><td>Gabon</td><td>Libreville</td><td>2007</td><td>79.26082191780824</td></tr><tr><td>Morocco</td><td>Rabat</td><td>2001</td><td>63.956164383561706</td></tr><tr><td>Morocco</td><td>Rabat</td><td>2007</td><td>62.07534246575344</td></tr><tr><td>Sierra Leone</td><td>Freetown</td><td>2009</td><td>55.84849315068492</td></tr><tr><td>Indonesia</td><td>Jakarta</td><td>2015</td><td>81.86502732240442</td></tr><tr><td>Morocco</td><td>Rabat</td><td>2015</td><td>62.81666666666663</td></tr><tr><td>Madagascar</td><td>Antananarivo</td><td>2008</td><td>64.73387978142074</td></tr><tr><td>Central African Republic</td><td>Bangui</td><td>2001</td><td>75.0632876712329</td></tr><tr><td>Gambia</td><td>Banjul</td><td>2018</td><td>73.47917808219175</td></tr><tr><td>Guinea-Bissau</td><td>Bissau</td><td>2017</td><td>81.90383561643836</td></tr><tr><td>Sierra Leone</td><td>Freetown</td><td>2008</td><td>48.33879781420764</td></tr><tr><td>Bangladesh</td><td>Dhaka</td><td>2007</td><td>-1.2486338797814207</td></tr><tr><td>Japan</td><td>Tokyo</td><td>2006</td><td>60.912876712328796</td></tr><tr><td>North Korea</td><td>Pyongyang</td><td>2000</td><td>49.059016393442576</td></tr><tr><td>Malaysia</td><td>Kuala Lumpur</td><td>2011</td><td>83.06739726027394</td></tr><tr><td>Madagascar</td><td>Antananarivo</td><td>2013</td><td>64.36465753424662</td></tr><tr><td>Bangladesh</td><td>Dhaka</td><td>2000</td><td>1.7278688524590098</td></tr><tr><td>Gambia</td><td>Banjul</td><td>2006</td><td>8.26602739726028</td></tr><tr><td>Guinea-Bissau</td><td>Bissau</td><td>2016</td><td>79.44016393442628</td></tr><tr><td>Morocco</td><td>Rabat</td><td>2020</td><td>57.94253731343289</td></tr><tr><td>Sierra Leone</td><td>Freetown</td><td>2002</td><td>-93.54876712328762</td></tr><tr><td>Uganda</td><td>Kampala</td><td>2020</td><td>71.4578947368421</td></tr><tr><td>Algeria</td><td>Algiers</td><td>2005</td><td>62.91342465753426</td></tr><tr><td>Guinea-Bissau</td><td>Bissau</td><td>2008</td><td>15.906557377049173</td></tr><tr><td>Malawi</td><td>Lilongwe</td><td>2000</td><td>23.962841530054675</td></tr><tr><td>Malawi</td><td>Lilongwe</td><td>2012</td><td>45.104098360655726</td></tr><tr><td>Laos</td><td>Vientiane</td><td>2020</td><td>81.5694029850746</td></tr><tr><td>Ethiopia</td><td>Addis Ababa</td><td>2007</td><td>38.22657534246578</td></tr><tr><td>Guinea-Bissau</td><td>Bissau</td><td>2000</td><td>-99.0</td></tr><tr><td>Zambia</td><td>Lusaka</td><td>2006</td><td>67.90219178082191</td></tr><tr><td>Kenya</td><td>Nairobi</td><td>2004</td><td>56.633333333333404</td></tr><tr><td>Mauritania</td><td>Nouakchott</td><td>2009</td><td>76.70739726027398</td></tr><tr><td>Japan</td><td>Tokyo</td><td>2016</td><td>60.87158469945352</td></tr><tr><td>Gabon</td><td>Libreville</td><td>2000</td><td>71.46284153005458</td></tr><tr><td>Guinea</td><td>Conakry</td><td>2001</td><td>61.13068493150687</td></tr><tr><td>China</td><td>Beijing</td><td>2015</td><td>55.21748633879779</td></tr><tr><td>Gabon</td><td>Libreville</td><td>2001</td><td>78.31698630136988</td></tr><tr><td>Guinea</td><td>Conakry</td><td>2002</td><td>61.438904109589025</td></tr><tr><td>Egypt</td><td>Cairo</td><td>2007</td><td>72.32876712328766</td></tr><tr><td>Gabon</td><td>Libreville</td><td>2014</td><td>74.39315068493151</td></tr><tr><td>Japan</td><td>Tokyo</td><td>2000</td><td>61.44535519125674</td></tr><tr><td>Senegal</td><td>Dakar</td><td>2020</td><td>73.61268656716415</td></tr><tr><td>Sierra Leone</td><td>Freetown</td><td>2010</td><td>26.315342465753425</td></tr><tr><td>North Korea</td><td>Pyongyang</td><td>2012</td><td>50.684426229508226</td></tr><tr><td>North Korea</td><td>Pyongyang</td><td>2019</td><td>50.792602739726064</td></tr><tr><td>Central African Republic</td><td>Bangui</td><td>2015</td><td>73.24153005464478</td></tr><tr><td>Gabon</td><td>Libreville</td><td>2008</td><td>77.9691256830601</td></tr><tr><td>Mauritania</td><td>Nouakchott</td><td>2013</td><td>78.57698630136989</td></tr><tr><td>Mauritania</td><td>Nouakchott</td><td>2005</td><td>75.6254794520548</td></tr><tr><td>Uganda</td><td>Kampala</td><td>2019</td><td>66.44246575342464</td></tr><tr><td>Bangladesh</td><td>Dhaka</td><td>2005</td><td>11.475068493150683</td></tr><tr><td>Kyrgyzstan</td><td>Bishkek</td><td>2018</td><td>50.33616438356167</td></tr><tr><td>Laos</td><td>Vientiane</td><td>2009</td><td>80.38082191780818</td></tr><tr><td>Malaysia</td><td>Kuala Lumpur</td><td>2017</td><td>82.25808219178087</td></tr><tr><td>North Korea</td><td>Pyongyang</td><td>2004</td><td>48.50928961748635</td></tr><tr><td>Egypt</td><td>Cairo</td><td>2006</td><td>72.10767123287673</td></tr><tr><td>Indonesia</td><td>Jakarta</td><td>2009</td><td>75.072602739726</td></tr><tr><td>Indonesia</td><td>Jakarta</td><td>2010</td><td>81.78410958904102</td></tr><tr><td>Guinea-Bissau</td><td>Bissau</td><td>2011</td><td>64.4841095890411</td></tr><tr><td>Zambia</td><td>Lusaka</td><td>2014</td><td>56.945454545454545</td></tr><tr><td>Bangladesh</td><td>Dhaka</td><td>2002</td><td>7.574246575342467</td></tr><tr><td>Algeria</td><td>Algiers</td><td>2015</td><td>64.04781420765025</td></tr><tr><td>Zambia</td><td>Lusaka</td><td>2007</td><td>64.6709589041096</td></tr><tr><td>Malaysia</td><td>Kuala Lumpur</td><td>2014</td><td>81.93534246575337</td></tr><tr><td>Algeria</td><td>Algiers</td><td>2007</td><td>63.166849315068504</td></tr><tr><td>Laos</td><td>Vientiane</td><td>2013</td><td>81.41479452054793</td></tr><tr><td>Central African Republic</td><td>Bangui</td><td>2008</td><td>77.2196721311476</td></tr><tr><td>Morocco</td><td>Rabat</td><td>2011</td><td>63.72383561643836</td></tr><tr><td>Namibia</td><td>Windhoek</td><td>2019</td><td>65.51780821917806</td></tr><tr><td>Tunisia</td><td>Tunis</td><td>2000</td><td>67.11967213114758</td></tr><tr><td>Central African Republic</td><td>Bangui</td><td>2007</td><td>73.26438356164387</td></tr><tr><td>Egypt</td><td>Cairo</td><td>2020</td><td>63.63880597014926</td></tr><tr><td>Kenya</td><td>Nairobi</td><td>2019</td><td>64.67561643835617</td></tr><tr><td>Laos</td><td>Vientiane</td><td>2014</td><td>80.51178082191778</td></tr><tr><td>Morocco</td><td>Rabat</td><td>2009</td><td>61.42301369863015</td></tr><tr><td>North Korea</td><td>Pyongyang</td><td>2013</td><td>51.49534246575345</td></tr><tr><td>Guinea</td><td>Conakry</td><td>2008</td><td>60.45136612021861</td></tr><tr><td>Madagascar</td><td>Antananarivo</td><td>2003</td><td>65.41150684931506</td></tr><tr><td>Malawi</td><td>Lilongwe</td><td>2010</td><td>23.09153005464481</td></tr><tr><td>Ethiopia</td><td>Addis Ababa</td><td>2018</td><td>30.338356164383573</td></tr><tr><td>Namibia</td><td>Windhoek</td><td>2001</td><td>19.304109589041097</td></tr><tr><td>Laos</td><td>Vientiane</td><td>2019</td><td>79.23698630136978</td></tr><tr><td>Vietnam</td><td>Hanoi</td><td>2012</td><td>75.25628415300542</td></tr><tr><td>France</td><td>Paris</td><td>2004</td><td>53.58524590163939</td></tr><tr><td>Poland</td><td>Warsaw</td><td>2014</td><td>49.20547945205477</td></tr><tr><td>Finland</td><td>Helsinki</td><td>2019</td><td>41.52849315068495</td></tr><tr><td>Norway</td><td>Oslo</td><td>2013</td><td>41.175890410958914</td></tr><tr><td>Romania</td><td>Bucharest</td><td>2002</td><td>51.17424657534248</td></tr><tr><td>Slovakia</td><td>Bratislava</td><td>2002</td><td>50.71945205479452</td></tr><tr><td>Thailand</td><td>Bangkok</td><td>2001</td><td>82.64876712328766</td></tr><tr><td>Ireland</td><td>Dublin</td><td>2011</td><td>50.11863013698632</td></tr><tr><td>Ireland</td><td>Dublin</td><td>2016</td><td>48.16830601092896</td></tr><tr><td>Romania</td><td>Bucharest</td><td>2008</td><td>52.781967213114775</td></tr><tr><td>Macedonia</td><td>Skopje</td><td>2008</td><td>55.03743169398911</td></tr><tr><td>Belarus</td><td>Minsk</td><td>2019</td><td>11.465479452054783</td></tr><tr><td>Czech Republic</td><td>Prague</td><td>2002</td><td>46.626301369862986</td></tr><tr><td>Portugal</td><td>Lisbon</td><td>2016</td><td>60.471311475409784</td></tr><tr><td>Philippines</td><td>Manila</td><td>2010</td><td>83.27972602739727</td></tr><tr><td>Austria</td><td>Vienna</td><td>2014</td><td>52.93561643835609</td></tr><tr><td>Bulgaria</td><td>Sofia</td><td>2006</td><td>50.41808219178082</td></tr><tr><td>Pakistan</td><td>Islamabad</td><td>2015</td><td>70.36885245901635</td></tr><tr><td>Belarus</td><td>Minsk</td><td>2009</td><td>44.62219178082191</td></tr><tr><td>Belgium</td><td>Brussels</td><td>2020</td><td>46.91567164179104</td></tr><tr><td>Denmark</td><td>Copenhagen</td><td>2017</td><td>47.95479452054794</td></tr><tr><td>Norway</td><td>Oslo</td><td>2000</td><td>43.63415300546447</td></tr><tr><td>Poland</td><td>Warsaw</td><td>2011</td><td>48.36821917808219</td></tr><tr><td>Russia</td><td>Moscow</td><td>2003</td><td>41.05643835616438</td></tr><tr><td>Uzbekistan</td><td>Tashkent</td><td>2020</td><td>51.388059701492544</td></tr><tr><td>Albania</td><td>Tirana</td><td>2010</td><td>60.56876712328763</td></tr><tr><td>Belarus</td><td>Minsk</td><td>2004</td><td>44.71994535519125</td></tr><tr><td>Belarus</td><td>Minsk</td><td>2013</td><td>46.319999999999965</td></tr><tr><td>Singapore</td><td>Singapore</td><td>2014</td><td>81.86465753424655</td></tr><tr><td>South Korea</td><td>Seoul</td><td>2000</td><td>52.37568306010932</td></tr><tr><td>Austria</td><td>Vienna</td><td>2011</td><td>51.27945205479456</td></tr><tr><td>France</td><td>Paris</td><td>2005</td><td>53.40767123287677</td></tr><tr><td>Latvia</td><td>Riga</td><td>2001</td><td>45.970958904109594</td></tr><tr><td>Romania</td><td>Bucharest</td><td>2012</td><td>53.758469945355216</td></tr><tr><td>Denmark</td><td>Copenhagen</td><td>2008</td><td>48.409289617486294</td></tr><tr><td>Norway</td><td>Oslo</td><td>2007</td><td>41.73972602739725</td></tr><tr><td>Russia</td><td>Moscow</td><td>2017</td><td>42.47068493150683</td></tr><tr><td>Georgia</td><td>Tbilisi</td><td>2000</td><td>57.17896174863391</td></tr><tr><td>Hungary</td><td>Budapest</td><td>2006</td><td>50.0315068493151</td></tr><tr><td>South Korea</td><td>Seoul</td><td>2018</td><td>52.145205479452024</td></tr><tr><td>Vietnam</td><td>Hanoi</td><td>2002</td><td>73.17589041095886</td></tr><tr><td>Vietnam</td><td>Hanoi</td><td>2007</td><td>75.39369863013695</td></tr><tr><td>Croatia</td><td>Zagreb</td><td>2009</td><td>54.82438356164386</td></tr><tr><td>Poland</td><td>Warsaw</td><td>2002</td><td>46.95315068493153</td></tr><tr><td>Pakistan</td><td>Islamabad</td><td>2013</td><td>72.15863013698633</td></tr><tr><td>Italy</td><td>Rome</td><td>2010</td><td>60.28109589041099</td></tr><tr><td>Portugal</td><td>Lisbon</td><td>2018</td><td>59.58876712328772</td></tr><tr><td>Czech Republic</td><td>Prague</td><td>2004</td><td>47.369945355191284</td></tr><tr><td>Czech Republic</td><td>Prague</td><td>2008</td><td>48.05683060109288</td></tr><tr><td>Denmark</td><td>Copenhagen</td><td>2015</td><td>47.56939890710384</td></tr><tr><td>Finland</td><td>Helsinki</td><td>2010</td><td>40.110410958904076</td></tr><tr><td>France</td><td>Paris</td><td>2018</td><td>45.7731506849315</td></tr><tr><td>France</td><td>Paris</td><td>2020</td><td>49.32014925373133</td></tr><tr><td>Latvia</td><td>Riga</td><td>2012</td><td>43.52923497267759</td></tr><tr><td>South Korea</td><td>Seoul</td><td>2017</td><td>54.13534246575351</td></tr><tr><td>Croatia</td><td>Zagreb</td><td>2018</td><td>53.93671232876703</td></tr><tr><td>Greece</td><td>Athens</td><td>2012</td><td>-29.856284153005458</td></tr><tr><td>Ireland</td><td>Dublin</td><td>2001</td><td>48.88657534246575</td></tr><tr><td>Austria</td><td>Vienna</td><td>2016</td><td>50.869672131147546</td></tr><tr><td>Belgium</td><td>Brussels</td><td>2011</td><td>52.475616438356184</td></tr><tr><td>Latvia</td><td>Riga</td><td>2014</td><td>45.72219178082192</td></tr><tr><td>Portugal</td><td>Lisbon</td><td>2019</td><td>59.29452054794525</td></tr><tr><td>France</td><td>Paris</td><td>2002</td><td>52.743013698630136</td></tr><tr><td>France</td><td>Paris</td><td>2008</td><td>52.38169398907109</td></tr><tr><td>Romania</td><td>Bucharest</td><td>2000</td><td>53.82759562841522</td></tr><tr><td>South Korea</td><td>Seoul</td><td>2009</td><td>53.32712328767123</td></tr><tr><td>Thailand</td><td>Bangkok</td><td>2007</td><td>83.73452054794524</td></tr><tr><td>Austria</td><td>Vienna</td><td>2004</td><td>50.603005464480894</td></tr><tr><td>Belarus</td><td>Minsk</td><td>2014</td><td>46.42109589041094</td></tr><tr><td>Latvia</td><td>Riga</td><td>2020</td><td>39.82686567164178</td></tr><tr><td>Poland</td><td>Warsaw</td><td>2006</td><td>48.2827397260274</td></tr><tr><td>Denmark</td><td>Copenhagen</td><td>2019</td><td>46.86493150684927</td></tr><tr><td>Czech Republic</td><td>Prague</td><td>2016</td><td>47.43879781420764</td></tr><tr><td>France</td><td>Paris</td><td>2011</td><td>55.00191780821926</td></tr><tr><td>Thailand</td><td>Bangkok</td><td>2000</td><td>82.2975409836066</td></tr><tr><td>Bulgaria</td><td>Sofia</td><td>2011</td><td>51.455616438356145</td></tr><tr><td>Croatia</td><td>Zagreb</td><td>2002</td><td>52.64849315068494</td></tr><tr><td>Denmark</td><td>Copenhagen</td><td>2014</td><td>49.47369863013699</td></tr><tr><td>Georgia</td><td>Tbilisi</td><td>2002</td><td>54.58383561643839</td></tr><tr><td>Norway</td><td>Oslo</td><td>2015</td><td>42.338251366120204</td></tr><tr><td>South Korea</td><td>Seoul</td><td>2002</td><td>51.413972602739754</td></tr><tr><td>Australia</td><td>Canberra</td><td>2015</td><td>55.04890710382511</td></tr><tr><td>Czech Republic</td><td>Prague</td><td>2017</td><td>48.76465753424658</td></tr><tr><td>Finland</td><td>Helsinki</td><td>2000</td><td>44.53606557377052</td></tr><tr><td>Norway</td><td>Oslo</td><td>2014</td><td>43.8512328767123</td></tr><tr><td>South Korea</td><td>Seoul</td><td>2012</td><td>52.728142076502735</td></tr><tr><td>Uzbekistan</td><td>Tashkent</td><td>2000</td><td>60.78633879781424</td></tr><tr><td>Bulgaria</td><td>Sofia</td><td>2010</td><td>52.861095890410965</td></tr><tr><td>Ireland</td><td>Dublin</td><td>2010</td><td>47.27205479452054</td></tr><tr><td>Finland</td><td>Helsinki</td><td>2017</td><td>42.81698630136985</td></tr><tr><td>Hungary</td><td>Budapest</td><td>2019</td><td>51.51945205479453</td></tr><tr><td>Portugal</td><td>Lisbon</td><td>2011</td><td>62.88849315068494</td></tr><tr><td>Belgium</td><td>Brussels</td><td>2010</td><td>48.835616438356155</td></tr><tr><td>Hungary</td><td>Budapest</td><td>2010</td><td>50.0997260273972</td></tr><tr><td>Italy</td><td>Rome</td><td>2001</td><td>60.5652054794521</td></tr><tr><td>Norway</td><td>Oslo</td><td>2020</td><td>37.045522388059716</td></tr><tr><td>Albania</td><td>Tirana</td><td>2005</td><td>59.935616438356156</td></tr><tr><td>Belarus</td><td>Minsk</td><td>2001</td><td>45.367123287671234</td></tr><tr><td>Uzbekistan</td><td>Tashkent</td><td>2014</td><td>58.438630136986326</td></tr><tr><td>Macedonia</td><td>Skopje</td><td>2005</td><td>53.053698630136985</td></tr><tr><td>Austria</td><td>Vienna</td><td>2000</td><td>52.75956284153006</td></tr><tr><td>Czech Republic</td><td>Prague</td><td>2000</td><td>49.08196721311477</td></tr><tr><td>Italy</td><td>Rome</td><td>2017</td><td>61.3778082191781</td></tr><tr><td>Romania</td><td>Bucharest</td><td>2018</td><td>53.27095890410961</td></tr><tr><td>Romania</td><td>Bucharest</td><td>2020</td><td>45.7410447761194</td></tr><tr><td>Uzbekistan</td><td>Tashkent</td><td>2018</td><td>59.08273972602739</td></tr><tr><td>Australia</td><td>Canberra</td><td>2003</td><td>55.90986301369865</td></tr><tr><td>Croatia</td><td>Zagreb</td><td>2005</td><td>52.23835616438351</td></tr><tr><td>Croatia</td><td>Zagreb</td><td>2017</td><td>55.572054794520554</td></tr><tr><td>Denmark</td><td>Copenhagen</td><td>2004</td><td>47.066939890710415</td></tr><tr><td>Romania</td><td>Bucharest</td><td>2010</td><td>52.78547945205481</td></tr><tr><td>Australia</td><td>Canberra</td><td>2010</td><td>55.98465753424661</td></tr><tr><td>Albania</td><td>Tirana</td><td>2013</td><td>60.413150684931466</td></tr><tr><td>Belgium</td><td>Brussels</td><td>2005</td><td>52.140273972602735</td></tr><tr><td>Belgium</td><td>Brussels</td><td>2018</td><td>51.39095890410961</td></tr><tr><td>Czech Republic</td><td>Prague</td><td>2009</td><td>48.05013698630136</td></tr><tr><td>Poland</td><td>Warsaw</td><td>2020</td><td>42.59776119402985</td></tr><tr><td>Uzbekistan</td><td>Tashkent</td><td>2001</td><td>61.3172602739726</td></tr><tr><td>Italy</td><td>Rome</td><td>2000</td><td>60.301366120218574</td></tr><tr><td>Italy</td><td>Rome</td><td>2016</td><td>61.185245901639334</td></tr><tr><td>Portugal</td><td>Lisbon</td><td>2002</td><td>60.55287671232883</td></tr><tr><td>Portugal</td><td>Lisbon</td><td>2006</td><td>63.052328767123285</td></tr><tr><td>Slovakia</td><td>Bratislava</td><td>2005</td><td>50.69424657534244</td></tr><tr><td>South Korea</td><td>Seoul</td><td>2013</td><td>53.1079452054794</td></tr><tr><td>Albania</td><td>Tirana</td><td>2007</td><td>60.89013698630136</td></tr><tr><td>Russia</td><td>Moscow</td><td>2005</td><td>42.09369863013696</td></tr><tr><td>Philippines</td><td>Manila</td><td>2011</td><td>81.82931506849319</td></tr><tr><td>Latvia</td><td>Riga</td><td>2005</td><td>45.1082191780822</td></tr><tr><td>Philippines</td><td>Manila</td><td>2004</td><td>82.05765027322398</td></tr><tr><td>Albania</td><td>Tirana</td><td>2015</td><td>60.09016393442632</td></tr><tr><td>Cyprus</td><td>Nicosia</td><td>2005</td><td>66.42958904109585</td></tr><tr><td>Portugal</td><td>Lisbon</td><td>2001</td><td>62.21917808219184</td></tr><tr><td>Slovakia</td><td>Bratislava</td><td>2006</td><td>51.80767123287674</td></tr><tr><td>Albania</td><td>Tirana</td><td>2001</td><td>10.75041095890412</td></tr><tr><td>Finland</td><td>Helsinki</td><td>2004</td><td>41.710655737704904</td></tr><tr><td>Latvia</td><td>Riga</td><td>2008</td><td>45.72732240437155</td></tr><tr><td>Latvia</td><td>Riga</td><td>2017</td><td>45.16054794520549</td></tr><tr><td>Pakistan</td><td>Islamabad</td><td>2012</td><td>72.28770491803276</td></tr><tr><td>Philippines</td><td>Manila</td><td>2001</td><td>81.32794520547945</td></tr><tr><td>Singapore</td><td>Singapore</td><td>2019</td><td>80.32438356164383</td></tr><tr><td>Vietnam</td><td>Hanoi</td><td>2020</td><td>70.75074626865674</td></tr><tr><td>Philippines</td><td>Manila</td><td>2020</td><td>83.81567164179106</td></tr><tr><td>Georgia</td><td>Tbilisi</td><td>2001</td><td>55.818356164383566</td></tr><tr><td>Bulgaria</td><td>Sofia</td><td>2017</td><td>52.65397260273972</td></tr><tr><td>Croatia</td><td>Zagreb</td><td>2003</td><td>54.45945205479454</td></tr><tr><td>Italy</td><td>Rome</td><td>2005</td><td>59.00958904109588</td></tr><tr><td>Macedonia</td><td>Skopje</td><td>2016</td><td>53.228415300546445</td></tr><tr><td>South Korea</td><td>Seoul</td><td>2020</td><td>43.53805970149256</td></tr><tr><td>Bulgaria</td><td>Sofia</td><td>2013</td><td>53.48493150684929</td></tr><tr><td>Cyprus</td><td>Nicosia</td><td>2001</td><td>67.96958904109584</td></tr><tr><td>Cyprus</td><td>Nicosia</td><td>2009</td><td>18.527049180327854</td></tr><tr><td>Portugal</td><td>Lisbon</td><td>2017</td><td>62.83068493150683</td></tr><tr><td>Belarus</td><td>Minsk</td><td>2010</td><td>44.88657534246575</td></tr><tr><td>Macedonia</td><td>Skopje</td><td>2017</td><td>54.86904109589045</td></tr><tr><td>Pakistan</td><td>Islamabad</td><td>2016</td><td>72.41666666666667</td></tr><tr><td>South Korea</td><td>Seoul</td><td>2008</td><td>53.10218579234973</td></tr><tr><td>Thailand</td><td>Bangkok</td><td>2008</td><td>79.70710382513666</td></tr><tr><td>Belarus</td><td>Minsk</td><td>2005</td><td>45.14493150684931</td></tr><tr><td>Belarus</td><td>Minsk</td><td>2015</td><td>47.444808743169396</td></tr><tr><td>Bulgaria</td><td>Sofia</td><td>2002</td><td>48.79643835616437</td></tr><tr><td>Portugal</td><td>Lisbon</td><td>2009</td><td>63.633698630136976</td></tr><tr><td>Vietnam</td><td>Hanoi</td><td>2009</td><td>75.8783561643835</td></tr><tr><td>Vietnam</td><td>Hanoi</td><td>2018</td><td>74.40657534246577</td></tr><tr><td>Pakistan</td><td>Islamabad</td><td>2019</td><td>-21.031232876712334</td></tr><tr><td>Belarus</td><td>Minsk</td><td>2018</td><td>15.344109589041109</td></tr><tr><td>Macedonia</td><td>Skopje</td><td>2018</td><td>54.31506849315065</td></tr><tr><td>Belgium</td><td>Brussels</td><td>2002</td><td>50.675068493150675</td></tr><tr><td>Czech Republic</td><td>Prague</td><td>2005</td><td>47.35424657534247</td></tr><tr><td>Poland</td><td>Warsaw</td><td>2012</td><td>47.6601092896175</td></tr><tr><td>Russia</td><td>Moscow</td><td>2001</td><td>41.36821917808219</td></tr><tr><td>Uzbekistan</td><td>Tashkent</td><td>2010</td><td>62.28465753424662</td></tr><tr><td>Belgium</td><td>Brussels</td><td>2013</td><td>49.85534246575341</td></tr><tr><td>Philippines</td><td>Manila</td><td>2002</td><td>79.57287671232876</td></tr><tr><td>Finland</td><td>Helsinki</td><td>2009</td><td>41.65917808219178</td></tr><tr><td>Greece</td><td>Athens</td><td>2000</td><td>65.80218579234972</td></tr><tr><td>Slovakia</td><td>Bratislava</td><td>2004</td><td>50.97459016393443</td></tr><tr><td>Vietnam</td><td>Hanoi</td><td>2001</td><td>74.33890410958904</td></tr><tr><td>Pakistan</td><td>Islamabad</td><td>2002</td><td>64.16136986301379</td></tr><tr><td>Austria</td><td>Vienna</td><td>2005</td><td>50.302191780821964</td></tr><tr><td>Georgia</td><td>Tbilisi</td><td>2006</td><td>-55.93388888888888</td></tr><tr><td>Vietnam</td><td>Hanoi</td><td>2000</td><td>74.37814207650271</td></tr><tr><td>Australia</td><td>Canberra</td><td>2012</td><td>54.41885245901637</td></tr><tr><td>Russia</td><td>Moscow</td><td>2006</td><td>40.98301369863015</td></tr><tr><td>Australia</td><td>Canberra</td><td>2011</td><td>55.107945205479425</td></tr><tr><td>Australia</td><td>Canberra</td><td>2013</td><td>56.023287671232865</td></tr><tr><td>Finland</td><td>Helsinki</td><td>2005</td><td>42.68356164383561</td></tr><tr><td>Hungary</td><td>Budapest</td><td>2017</td><td>52.22164383561643</td></tr><tr><td>Hungary</td><td>Budapest</td><td>2020</td><td>43.4082089552239</td></tr><tr><td>Ireland</td><td>Dublin</td><td>2012</td><td>49.004644808743144</td></tr><tr><td>Belgium</td><td>Brussels</td><td>2004</td><td>51.62978142076503</td></tr><tr><td>Finland</td><td>Helsinki</td><td>2016</td><td>41.353278688524625</td></tr><tr><td>France</td><td>Paris</td><td>2019</td><td>52.20821917808223</td></tr><tr><td>Greece</td><td>Athens</td><td>2002</td><td>63.395890410958934</td></tr><tr><td>Greece</td><td>Athens</td><td>2004</td><td>64.65491803278688</td></tr><tr><td>Hungary</td><td>Budapest</td><td>2001</td><td>51.44027397260275</td></tr><tr><td>Cyprus</td><td>Nicosia</td><td>2002</td><td>28.196712328767138</td></tr><tr><td>Finland</td><td>Helsinki</td><td>2013</td><td>43.63972602739723</td></tr><tr><td>Portugal</td><td>Lisbon</td><td>2013</td><td>60.51232876712328</td></tr><tr><td>Ireland</td><td>Dublin</td><td>2017</td><td>50.20904109589038</td></tr><tr><td>Latvia</td><td>Riga</td><td>2013</td><td>45.147397260274</td></tr><tr><td>Portugal</td><td>Lisbon</td><td>2005</td><td>62.293424657534246</td></tr><tr><td>Pakistan</td><td>Islamabad</td><td>2009</td><td>71.2038356164384</td></tr><tr><td>Singapore</td><td>Singapore</td><td>2002</td><td>80.6153424657535</td></tr><tr><td>Austria</td><td>Vienna</td><td>2006</td><td>51.23534246575341</td></tr><tr><td>Croatia</td><td>Zagreb</td><td>2016</td><td>52.730601092896165</td></tr><tr><td>Uzbekistan</td><td>Tashkent</td><td>2002</td><td>59.10986301369866</td></tr><tr><td>Belgium</td><td>Brussels</td><td>2016</td><td>49.9155737704918</td></tr><tr><td>Italy</td><td>Rome</td><td>2018</td><td>60.82136986301364</td></tr><tr><td>Romania</td><td>Bucharest</td><td>2011</td><td>52.03041095890415</td></tr><tr><td>Australia</td><td>Canberra</td><td>2018</td><td>55.79616438356163</td></tr><tr><td>Albania</td><td>Tirana</td><td>2011</td><td>59.91863013698633</td></tr><tr><td>Belarus</td><td>Minsk</td><td>2016</td><td>44.822950819672144</td></tr><tr><td>Russia</td><td>Moscow</td><td>2014</td><td>43.31835616438356</td></tr><tr><td>Uzbekistan</td><td>Tashkent</td><td>2019</td><td>59.355068493150654</td></tr><tr><td>Poland</td><td>Warsaw</td><td>2010</td><td>46.33561643835618</td></tr><tr><td>Albania</td><td>Tirana</td><td>2016</td><td>58.98688524590167</td></tr><tr><td>Hungary</td><td>Budapest</td><td>2002</td><td>51.13232876712327</td></tr><tr><td>Pakistan</td><td>Islamabad</td><td>2018</td><td>71.14575342465758</td></tr><tr><td>Vietnam</td><td>Hanoi</td><td>2004</td><td>73.64262295081969</td></tr><tr><td>Philippines</td><td>Manila</td><td>2000</td><td>81.9043715846994</td></tr><tr><td>Uzbekistan</td><td>Tashkent</td><td>2011</td><td>60.4649315068493</td></tr><tr><td>Albania</td><td>Tirana</td><td>2014</td><td>60.21561643835616</td></tr><tr><td>France</td><td>Paris</td><td>2000</td><td>54.33770491803271</td></tr><tr><td>Greece</td><td>Athens</td><td>2008</td><td>64.99808743169399</td></tr><tr><td>Philippines</td><td>Manila</td><td>2013</td><td>82.26301369863006</td></tr><tr><td>Thailand</td><td>Bangkok</td><td>2009</td><td>82.70739726027395</td></tr><tr><td>Uzbekistan</td><td>Tashkent</td><td>2016</td><td>60.38661202185796</td></tr><tr><td>Austria</td><td>Vienna</td><td>2013</td><td>51.42630136986303</td></tr><tr><td>Bulgaria</td><td>Sofia</td><td>2003</td><td>50.17205479452053</td></tr><tr><td>Croatia</td><td>Zagreb</td><td>2008</td><td>54.37786885245895</td></tr><tr><td>Latvia</td><td>Riga</td><td>2010</td><td>42.66</td></tr><tr><td>Poland</td><td>Warsaw</td><td>2003</td><td>47.0682191780822</td></tr><tr><td>Singapore</td><td>Singapore</td><td>2000</td><td>81.57404371584707</td></tr><tr><td>Uzbekistan</td><td>Tashkent</td><td>2006</td><td>61.55726027397264</td></tr><tr><td>Croatia</td><td>Zagreb</td><td>2010</td><td>53.21671232876718</td></tr><tr><td>Croatia</td><td>Zagreb</td><td>2020</td><td>47.549624060150386</td></tr><tr><td>Hungary</td><td>Budapest</td><td>2004</td><td>48.69672131147543</td></tr><tr><td>Poland</td><td>Warsaw</td><td>2009</td><td>47.43780821917806</td></tr><tr><td>Singapore</td><td>Singapore</td><td>2004</td><td>82.23989071038253</td></tr><tr><td>Thailand</td><td>Bangkok</td><td>2003</td><td>84.49232876712318</td></tr><tr><td>France</td><td>Paris</td><td>2015</td><td>53.43497267759561</td></tr><tr><td>Hungary</td><td>Budapest</td><td>2000</td><td>53.127049180327866</td></tr><tr><td>Latvia</td><td>Riga</td><td>2006</td><td>45.66986301369866</td></tr><tr><td>Poland</td><td>Warsaw</td><td>2015</td><td>50.17622950819669</td></tr><tr><td>Russia</td><td>Moscow</td><td>2019</td><td>42.826301369863</td></tr><tr><td>Belarus</td><td>Minsk</td><td>2008</td><td>46.17513661202185</td></tr><tr><td>Hungary</td><td>Budapest</td><td>2009</td><td>52.08410958904109</td></tr><tr><td>Uzbekistan</td><td>Tashkent</td><td>2017</td><td>60.7260273972603</td></tr><tr><td>Ireland</td><td>Dublin</td><td>2015</td><td>48.41120218579234</td></tr><tr><td>Romania</td><td>Bucharest</td><td>2006</td><td>52.44986301369866</td></tr><tr><td>Philippines</td><td>Manila</td><td>2009</td><td>81.17041095890406</td></tr><tr><td>Belgium</td><td>Brussels</td><td>2003</td><td>52.32383561643834</td></tr><tr><td>France</td><td>Paris</td><td>2001</td><td>53.94493150684927</td></tr><tr><td>Hungary</td><td>Budapest</td><td>2007</td><td>52.86904109589036</td></tr><tr><td>Vietnam</td><td>Hanoi</td><td>2003</td><td>75.97945205479446</td></tr><tr><td>Belarus</td><td>Minsk</td><td>2003</td><td>44.60410958904108</td></tr><tr><td>Czech Republic</td><td>Prague</td><td>2013</td><td>46.99369863013692</td></tr><tr><td>Singapore</td><td>Singapore</td><td>2017</td><td>81.98821917808219</td></tr><tr><td>Czech Republic</td><td>Prague</td><td>2019</td><td>47.93561643835614</td></tr><tr><td>Denmark</td><td>Copenhagen</td><td>2006</td><td>48.22684931506845</td></tr><tr><td>France</td><td>Paris</td><td>2012</td><td>53.256557377049155</td></tr><tr><td>Ireland</td><td>Dublin</td><td>2014</td><td>49.83945205479451</td></tr><tr><td>Thailand</td><td>Bangkok</td><td>2004</td><td>84.70273224043717</td></tr><tr><td>Austria</td><td>Vienna</td><td>2010</td><td>49.25068493150686</td></tr><tr><td>Ireland</td><td>Dublin</td><td>2020</td><td>44.664179104477604</td></tr><tr><td>Singapore</td><td>Singapore</td><td>2003</td><td>81.58027397260271</td></tr><tr><td>France</td><td>Paris</td><td>2010</td><td>51.64821917808218</td></tr><tr><td>Latvia</td><td>Riga</td><td>2004</td><td>45.17295081967211</td></tr><tr><td>Macedonia</td><td>Skopje</td><td>2001</td><td>54.41178082191789</td></tr><tr><td>Australia</td><td>Canberra</td><td>2006</td><td>57.12246575342469</td></tr><tr><td>Singapore</td><td>Singapore</td><td>2016</td><td>81.30300546448089</td></tr><tr><td>South Korea</td><td>Seoul</td><td>2006</td><td>54.021917808219214</td></tr><tr><td>Belarus</td><td>Minsk</td><td>2011</td><td>46.51178082191784</td></tr><tr><td>Belgium</td><td>Brussels</td><td>2019</td><td>50.01342465753426</td></tr><tr><td>Russia</td><td>Moscow</td><td>2009</td><td>42.130958904109576</td></tr><tr><td>Georgia</td><td>Tbilisi</td><td>2005</td><td>51.16767123287672</td></tr><tr><td>Poland</td><td>Warsaw</td><td>2019</td><td>49.36575342465753</td></tr><tr><td>Belarus</td><td>Minsk</td><td>2006</td><td>45.16767123287672</td></tr><tr><td>Czech Republic</td><td>Prague</td><td>2001</td><td>46.970136986301355</td></tr><tr><td>Ireland</td><td>Dublin</td><td>2002</td><td>48.324931506849325</td></tr><tr><td>Bulgaria</td><td>Sofia</td><td>2004</td><td>50.53961748633877</td></tr><tr><td>Croatia</td><td>Zagreb</td><td>2001</td><td>54.16164383561641</td></tr><tr><td>Poland</td><td>Warsaw</td><td>2007</td><td>49.12</td></tr><tr><td>Russia</td><td>Moscow</td><td>2000</td><td>42.58852459016393</td></tr><tr><td>Vietnam</td><td>Hanoi</td><td>2017</td><td>76.18383561643842</td></tr><tr><td>Denmark</td><td>Copenhagen</td><td>2016</td><td>46.4803278688525</td></tr><tr><td>Greece</td><td>Athens</td><td>2011</td><td>66.22191780821923</td></tr><tr><td>Italy</td><td>Rome</td><td>2002</td><td>58.55150684931504</td></tr><tr><td>Latvia</td><td>Riga</td><td>2007</td><td>45.69178082191779</td></tr><tr><td>Latvia</td><td>Riga</td><td>2011</td><td>45.48109589041091</td></tr><tr><td>Norway</td><td>Oslo</td><td>2010</td><td>37.09999999999997</td></tr><tr><td>Singapore</td><td>Singapore</td><td>2011</td><td>81.75369863013697</td></tr><tr><td>Albania</td><td>Tirana</td><td>2003</td><td>61.87232876712332</td></tr><tr><td>Austria</td><td>Vienna</td><td>2007</td><td>52.59260273972602</td></tr><tr><td>Cyprus</td><td>Nicosia</td><td>2004</td><td>11.40683060109287</td></tr><tr><td>Czech Republic</td><td>Prague</td><td>2007</td><td>49.4019178082192</td></tr><tr><td>Italy</td><td>Rome</td><td>2019</td><td>59.215068493150675</td></tr><tr><td>Norway</td><td>Oslo</td><td>2003</td><td>41.80301369863012</td></tr><tr><td>Uzbekistan</td><td>Tashkent</td><td>2005</td><td>61.095342465753426</td></tr><tr><td>Latvia</td><td>Riga</td><td>2018</td><td>45.46931506849313</td></tr><tr><td>Macedonia</td><td>Skopje</td><td>2002</td><td>52.05835616438356</td></tr><tr><td>Norway</td><td>Oslo</td><td>2018</td><td>41.73342465753427</td></tr><tr><td>Philippines</td><td>Manila</td><td>2019</td><td>80.48164383561645</td></tr><tr><td>Thailand</td><td>Bangkok</td><td>2006</td><td>85.13972602739727</td></tr><tr><td>Denmark</td><td>Copenhagen</td><td>2013</td><td>46.90164383561643</td></tr><tr><td>Norway</td><td>Oslo</td><td>2002</td><td>39.71616438356164</td></tr><tr><td>Russia</td><td>Moscow</td><td>2010</td><td>43.459452054794546</td></tr><tr><td>South Korea</td><td>Seoul</td><td>2014</td><td>54.16904109589037</td></tr><tr><td>Uzbekistan</td><td>Tashkent</td><td>2007</td><td>60.76410958904115</td></tr><tr><td>Macedonia</td><td>Skopje</td><td>2013</td><td>55.56575342465754</td></tr><tr><td>Portugal</td><td>Lisbon</td><td>2014</td><td>61.34054794520546</td></tr><tr><td>Croatia</td><td>Zagreb</td><td>2014</td><td>55.79561643835618</td></tr><tr><td>Denmark</td><td>Copenhagen</td><td>2003</td><td>47.11150684931507</td></tr><tr><td>Denmark</td><td>Copenhagen</td><td>2009</td><td>47.11232876712333</td></tr><tr><td>Hungary</td><td>Budapest</td><td>2012</td><td>52.56174863387979</td></tr><tr><td>Italy</td><td>Rome</td><td>2014</td><td>61.882465753424654</td></tr><tr><td>Denmark</td><td>Copenhagen</td><td>2018</td><td>47.833150684931525</td></tr><tr><td>Russia</td><td>Moscow</td><td>2011</td><td>43.42219178082191</td></tr><tr><td>Pakistan</td><td>Islamabad</td><td>2001</td><td>71.08931506849315</td></tr><tr><td>Philippines</td><td>Manila</td><td>2017</td><td>83.10246575342462</td></tr><tr><td>South Korea</td><td>Seoul</td><td>2001</td><td>52.02684931506849</td></tr><tr><td>Thailand</td><td>Bangkok</td><td>2011</td><td>81.58815789473684</td></tr><tr><td>Russia</td><td>Moscow</td><td>2004</td><td>41.48934426229506</td></tr><tr><td>Uzbekistan</td><td>Tashkent</td><td>2015</td><td>60.44617486338802</td></tr><tr><td>Belarus</td><td>Minsk</td><td>2012</td><td>45.111748633879756</td></tr><tr><td>Finland</td><td>Helsinki</td><td>2014</td><td>43.711780821917806</td></tr><tr><td>Pakistan</td><td>Islamabad</td><td>2005</td><td>70.02575342465755</td></tr><tr><td>Belgium</td><td>Brussels</td><td>2017</td><td>52.132328767123305</td></tr><tr><td>Croatia</td><td>Zagreb</td><td>2004</td><td>53.04726775956282</td></tr><tr><td>Bulgaria</td><td>Sofia</td><td>2012</td><td>53.203551912568265</td></tr><tr><td>Belgium</td><td>Brussels</td><td>2006</td><td>52.05589041095888</td></tr><tr><td>Bulgaria</td><td>Sofia</td><td>2015</td><td>52.537431693989085</td></tr><tr><td>Cyprus</td><td>Nicosia</td><td>2003</td><td>-86.94684931506849</td></tr><tr><td>Czech Republic</td><td>Prague</td><td>2011</td><td>48.665753424657524</td></tr><tr><td>Italy</td><td>Rome</td><td>2011</td><td>60.90219178082182</td></tr><tr><td>Poland</td><td>Warsaw</td><td>2005</td><td>47.60136986301368</td></tr><tr><td>Pakistan</td><td>Islamabad</td><td>2006</td><td>71.36438356164382</td></tr><tr><td>Singapore</td><td>Singapore</td><td>2020</td><td>83.0589552238806</td></tr><tr><td>South Korea</td><td>Seoul</td><td>2011</td><td>52.625205479452084</td></tr><tr><td>Uzbekistan</td><td>Tashkent</td><td>2012</td><td>58.93825136612021</td></tr><tr><td>Bulgaria</td><td>Sofia</td><td>2014</td><td>52.71917808219179</td></tr><tr><td>Belgium</td><td>Brussels</td><td>2008</td><td>51.06994535519125</td></tr><tr><td>Russia</td><td>Moscow</td><td>2016</td><td>41.583060109289605</td></tr><tr><td>Latvia</td><td>Riga</td><td>2003</td><td>45.67205479452051</td></tr><tr><td>Portugal</td><td>Lisbon</td><td>2004</td><td>62.213934426229464</td></tr><tr><td>Romania</td><td>Bucharest</td><td>2019</td><td>53.04383561643838</td></tr><tr><td>Latvia</td><td>Riga</td><td>2015</td><td>46.08606557377049</td></tr><tr><td>Norway</td><td>Oslo</td><td>2011</td><td>42.47315068493148</td></tr><tr><td>Poland</td><td>Warsaw</td><td>2008</td><td>48.90136612021858</td></tr><tr><td>Ireland</td><td>Dublin</td><td>2013</td><td>49.204109589041146</td></tr><tr><td>Macedonia</td><td>Skopje</td><td>2007</td><td>55.26383561643837</td></tr><tr><td>South Korea</td><td>Seoul</td><td>2007</td><td>53.238356164383525</td></tr><tr><td>Vietnam</td><td>Hanoi</td><td>2016</td><td>75.24426229508201</td></tr><tr><td>Austria</td><td>Vienna</td><td>2001</td><td>50.82301369863017</td></tr><tr><td>Ireland</td><td>Dublin</td><td>2004</td><td>49.88196721311479</td></tr><tr><td>Ireland</td><td>Dublin</td><td>2019</td><td>47.38602739726026</td></tr><tr><td>Romania</td><td>Bucharest</td><td>2017</td><td>53.39972602739727</td></tr><tr><td>Uzbekistan</td><td>Tashkent</td><td>2009</td><td>60.59068493150686</td></tr><tr><td>Australia</td><td>Canberra</td><td>2000</td><td>55.44945355191257</td></tr><tr><td>Austria</td><td>Vienna</td><td>2003</td><td>51.49506849315072</td></tr><tr><td>Finland</td><td>Helsinki</td><td>2001</td><td>42.01205479452054</td></tr><tr><td>Macedonia</td><td>Skopje</td><td>2006</td><td>53.416164383561586</td></tr><tr><td>Portugal</td><td>Lisbon</td><td>2003</td><td>63.05835616438352</td></tr><tr><td>Philippines</td><td>Manila</td><td>2003</td><td>80.56575342465754</td></tr><tr><td>Belgium</td><td>Brussels</td><td>2012</td><td>50.75737704918034</td></tr><tr><td>Denmark</td><td>Copenhagen</td><td>2005</td><td>47.11561643835618</td></tr><tr><td>Macedonia</td><td>Skopje</td><td>2011</td><td>53.74986301369865</td></tr><tr><td>Vietnam</td><td>Hanoi</td><td>2015</td><td>74.75519125683067</td></tr><tr><td>Latvia</td><td>Riga</td><td>2000</td><td>47.236338797814206</td></tr><tr><td>Latvia</td><td>Riga</td><td>2002</td><td>45.11150684931506</td></tr><tr><td>Latvia</td><td>Riga</td><td>2019</td><td>44.94547945205482</td></tr><tr><td>Norway</td><td>Oslo</td><td>2017</td><td>41.874520547945195</td></tr><tr><td>Pakistan</td><td>Islamabad</td><td>2010</td><td>72.78849315068486</td></tr><tr><td>Uzbekistan</td><td>Tashkent</td><td>2004</td><td>61.92950819672129</td></tr><tr><td>Russia</td><td>Moscow</td><td>2020</td><td>36.78283582089553</td></tr><tr><td>Slovakia</td><td>Bratislava</td><td>2003</td><td>51.43643835616442</td></tr><tr><td>Pakistan</td><td>Islamabad</td><td>2017</td><td>72.48520547945206</td></tr><tr><td>Uzbekistan</td><td>Tashkent</td><td>2008</td><td>59.783879781420836</td></tr><tr><td>Belarus</td><td>Minsk</td><td>2007</td><td>45.9564383561644</td></tr><tr><td>Denmark</td><td>Copenhagen</td><td>2002</td><td>46.36273972602738</td></tr><tr><td>Romania</td><td>Bucharest</td><td>2005</td><td>51.490958904109604</td></tr><tr><td>Singapore</td><td>Singapore</td><td>2013</td><td>81.92273972602752</td></tr><tr><td>Vietnam</td><td>Hanoi</td><td>2005</td><td>74.3054794520548</td></tr><tr><td>Australia</td><td>Canberra</td><td>2002</td><td>54.83863013698636</td></tr><tr><td>Greece</td><td>Athens</td><td>2005</td><td>64.27342465753425</td></tr><tr><td>Russia</td><td>Moscow</td><td>2012</td><td>41.6275956284153</td></tr><tr><td>Pakistan</td><td>Islamabad</td><td>2000</td><td>43.55491803278686</td></tr><tr><td>Finland</td><td>Helsinki</td><td>2020</td><td>36.508955223880605</td></tr><tr><td>Ireland</td><td>Dublin</td><td>2008</td><td>48.77322404371586</td></tr><tr><td>Italy</td><td>Rome</td><td>2003</td><td>61.05999999999997</td></tr><tr><td>Macedonia</td><td>Skopje</td><td>2019</td><td>54.24739726027397</td></tr><tr><td>Philippines</td><td>Manila</td><td>2005</td><td>82.17479452054793</td></tr><tr><td>Bulgaria</td><td>Sofia</td><td>2000</td><td>51.72759562841535</td></tr><tr><td>Portugal</td><td>Lisbon</td><td>2010</td><td>63.18027397260279</td></tr><tr><td>Portugal</td><td>Lisbon</td><td>2020</td><td>55.2902985074627</td></tr><tr><td>Romania</td><td>Bucharest</td><td>2007</td><td>54.30273972602739</td></tr><tr><td>Philippines</td><td>Manila</td><td>2008</td><td>80.46530054644809</td></tr><tr><td>Singapore</td><td>Singapore</td><td>2012</td><td>81.70792349726776</td></tr><tr><td>Italy</td><td>Rome</td><td>2006</td><td>60.395890410958906</td></tr><tr><td>Italy</td><td>Rome</td><td>2015</td><td>60.57213114754101</td></tr><tr><td>Slovakia</td><td>Bratislava</td><td>2001</td><td>51.12</td></tr><tr><td>South Korea</td><td>Seoul</td><td>2005</td><td>52.293698630136966</td></tr><tr><td>Italy</td><td>Rome</td><td>2004</td><td>59.942896174863485</td></tr><tr><td>France</td><td>Paris</td><td>2017</td><td>54.36794520547941</td></tr><tr><td>Norway</td><td>Oslo</td><td>2008</td><td>43.43239831697054</td></tr><tr><td>Singapore</td><td>Singapore</td><td>2015</td><td>81.98032786885247</td></tr><tr><td>Czech Republic</td><td>Prague</td><td>2012</td><td>48.32240437158474</td></tr><tr><td>Albania</td><td>Tirana</td><td>2008</td><td>59.790710382513666</td></tr><tr><td>Finland</td><td>Helsinki</td><td>2003</td><td>41.38876712328768</td></tr><tr><td>Finland</td><td>Helsinki</td><td>2012</td><td>41.507650273224066</td></tr><tr><td>Ireland</td><td>Dublin</td><td>2003</td><td>49.970684931506845</td></tr><tr><td>Pakistan</td><td>Islamabad</td><td>2003</td><td>70.81232876712333</td></tr><tr><td>Denmark</td><td>Copenhagen</td><td>2010</td><td>44.386575342465754</td></tr><tr><td>Albania</td><td>Tirana</td><td>2020</td><td>51.1597014925373</td></tr><tr><td>Cyprus</td><td>Nicosia</td><td>2010</td><td>-97.90058139534885</td></tr><tr><td>Macedonia</td><td>Skopje</td><td>2015</td><td>54.46857923497271</td></tr><tr><td>South Korea</td><td>Seoul</td><td>2010</td><td>53.08575342465748</td></tr><tr><td>Greece</td><td>Athens</td><td>2007</td><td>63.9602739726027</td></tr><tr><td>Romania</td><td>Bucharest</td><td>2004</td><td>51.918032786885306</td></tr><tr><td>Australia</td><td>Canberra</td><td>2005</td><td>56.650958904109544</td></tr><tr><td>Bulgaria</td><td>Sofia</td><td>2001</td><td>50.724109589041085</td></tr><tr><td>Finland</td><td>Helsinki</td><td>2002</td><td>40.78164383561643</td></tr><tr><td>Macedonia</td><td>Skopje</td><td>2010</td><td>55.22301369863019</td></tr><tr><td>Norway</td><td>Oslo</td><td>2001</td><td>40.435616438356156</td></tr><tr><td>Hungary</td><td>Budapest</td><td>2014</td><td>53.27315068493153</td></tr><tr><td>Belarus</td><td>Minsk</td><td>2002</td><td>44.93890410958903</td></tr><tr><td>Hungary</td><td>Budapest</td><td>2008</td><td>52.225683060109276</td></tr><tr><td>Russia</td><td>Moscow</td><td>2013</td><td>43.32602739726026</td></tr><tr><td>Russia</td><td>Moscow</td><td>2018</td><td>41.14219178082195</td></tr><tr><td>Croatia</td><td>Zagreb</td><td>2012</td><td>55.56366120218577</td></tr><tr><td>Greece</td><td>Athens</td><td>2001</td><td>66.14054794520544</td></tr><tr><td>Poland</td><td>Warsaw</td><td>2000</td><td>49.37295081967212</td></tr><tr><td>Russia</td><td>Moscow</td><td>2007</td><td>43.50493150684934</td></tr><tr><td>Albania</td><td>Tirana</td><td>2017</td><td>60.38465753424662</td></tr><tr><td>Portugal</td><td>Lisbon</td><td>2000</td><td>62.27650273224043</td></tr><tr><td>Bulgaria</td><td>Sofia</td><td>2019</td><td>50.73369863013699</td></tr><tr><td>Finland</td><td>Helsinki</td><td>2007</td><td>43.187397260274</td></tr><tr><td>Albania</td><td>Tirana</td><td>2019</td><td>59.467123287671185</td></tr><tr><td>Denmark</td><td>Copenhagen</td><td>2020</td><td>42.32761194029851</td></tr><tr><td>Romania</td><td>Bucharest</td><td>2013</td><td>53.59835616438359</td></tr><tr><td>Vietnam</td><td>Hanoi</td><td>2006</td><td>75.84904109589034</td></tr><tr><td>Australia</td><td>Canberra</td><td>2020</td><td>63.372388059701514</td></tr><tr><td>Georgia</td><td>Tbilisi</td><td>2003</td><td>55.84465753424652</td></tr><tr><td>Italy</td><td>Rome</td><td>2012</td><td>61.075136612021915</td></tr><tr><td>Pakistan</td><td>Islamabad</td><td>2008</td><td>70.75546448087434</td></tr><tr><td>Romania</td><td>Bucharest</td><td>2003</td><td>51.52630136986301</td></tr><tr><td>Australia</td><td>Canberra</td><td>2009</td><td>57.22602739726028</td></tr><tr><td>Albania</td><td>Tirana</td><td>2006</td><td>58.56904109589039</td></tr><tr><td>Bulgaria</td><td>Sofia</td><td>2007</td><td>53.12602739726023</td></tr><tr><td>Poland</td><td>Warsaw</td><td>2013</td><td>48.01205479452053</td></tr><tr><td>Singapore</td><td>Singapore</td><td>2018</td><td>80.34821917808218</td></tr><tr><td>Bulgaria</td><td>Sofia</td><td>2016</td><td>51.70765027322405</td></tr><tr><td>Croatia</td><td>Zagreb</td><td>2019</td><td>54.00000000000003</td></tr><tr><td>Norway</td><td>Oslo</td><td>2006</td><td>43.17397260273973</td></tr><tr><td>Russia</td><td>Moscow</td><td>2002</td><td>40.29041095890409</td></tr><tr><td>Singapore</td><td>Singapore</td><td>2005</td><td>82.51369863013694</td></tr><tr><td>Austria</td><td>Vienna</td><td>2002</td><td>50.21561643835616</td></tr><tr><td>Belgium</td><td>Brussels</td><td>2001</td><td>51.58739726027402</td></tr><tr><td>Latvia</td><td>Riga</td><td>2016</td><td>44.59535519125679</td></tr><tr><td>Romania</td><td>Bucharest</td><td>2014</td><td>52.81123287671232</td></tr><tr><td>Vietnam</td><td>Hanoi</td><td>2014</td><td>75.07589041095896</td></tr><tr><td>Czech Republic</td><td>Prague</td><td>2018</td><td>49.36356164383561</td></tr><tr><td>Macedonia</td><td>Skopje</td><td>2004</td><td>54.07978142076503</td></tr><tr><td>Vietnam</td><td>Hanoi</td><td>2019</td><td>74.33342465753418</td></tr><tr><td>Albania</td><td>Tirana</td><td>2000</td><td>54.7579234972678</td></tr><tr><td>South Korea</td><td>Seoul</td><td>2015</td><td>54.34480874316938</td></tr><tr><td>South Korea</td><td>Seoul</td><td>2016</td><td>53.777049180327936</td></tr><tr><td>Denmark</td><td>Copenhagen</td><td>2011</td><td>47.742739726027395</td></tr><tr><td>Slovakia</td><td>Bratislava</td><td>2000</td><td>53.20191256830598</td></tr><tr><td>Albania</td><td>Tirana</td><td>2012</td><td>59.88442622950815</td></tr><tr><td>Vietnam</td><td>Hanoi</td><td>2008</td><td>73.28005464480874</td></tr><tr><td>Albania</td><td>Tirana</td><td>2004</td><td>61.0852459016393</td></tr><tr><td>Hungary</td><td>Budapest</td><td>2018</td><td>52.36054794520547</td></tr><tr><td>Austria</td><td>Vienna</td><td>2018</td><td>52.533150684931506</td></tr><tr><td>Philippines</td><td>Manila</td><td>2015</td><td>82.02021857923489</td></tr><tr><td>Bulgaria</td><td>Sofia</td><td>2009</td><td>52.239452054794555</td></tr><tr><td>Cyprus</td><td>Nicosia</td><td>2007</td><td>63.99452054794519</td></tr><tr><td>Finland</td><td>Helsinki</td><td>2006</td><td>43.189589041095886</td></tr><tr><td>Australia</td><td>Canberra</td><td>2007</td><td>57.30794520547943</td></tr><tr><td>Denmark</td><td>Copenhagen</td><td>2007</td><td>48.188767123287654</td></tr><tr><td>Austria</td><td>Vienna</td><td>2017</td><td>52.35150684931506</td></tr><tr><td>Poland</td><td>Warsaw</td><td>2004</td><td>47.23825136612019</td></tr><tr><td>South Korea</td><td>Seoul</td><td>2003</td><td>53.14328767123286</td></tr><tr><td>Uzbekistan</td><td>Tashkent</td><td>2013</td><td>61.28410958904114</td></tr><tr><td>Croatia</td><td>Zagreb</td><td>2007</td><td>52.39041095890409</td></tr><tr><td>Czech Republic</td><td>Prague</td><td>2020</td><td>42.094029850746274</td></tr><tr><td>France</td><td>Paris</td><td>2016</td><td>51.122950819672184</td></tr><tr><td>Ireland</td><td>Dublin</td><td>2018</td><td>48.69315068493149</td></tr><tr><td>Macedonia</td><td>Skopje</td><td>2003</td><td>54.23753424657536</td></tr><tr><td>Philippines</td><td>Manila</td><td>2014</td><td>81.57479452054797</td></tr><tr><td>Albania</td><td>Tirana</td><td>2018</td><td>59.88931506849319</td></tr><tr><td>Belarus</td><td>Minsk</td><td>2017</td><td>32.97753424657535</td></tr><tr><td>Croatia</td><td>Zagreb</td><td>2006</td><td>54.22054794520546</td></tr><tr><td>Austria</td><td>Vienna</td><td>2020</td><td>44.924626865671655</td></tr><tr><td>Belgium</td><td>Brussels</td><td>2007</td><td>51.73095890410962</td></tr><tr><td>Italy</td><td>Rome</td><td>2009</td><td>61.091506849315024</td></tr><tr><td>Macedonia</td><td>Skopje</td><td>2009</td><td>54.202191780821934</td></tr><tr><td>France</td><td>Paris</td><td>2007</td><td>53.57205479452048</td></tr><tr><td>Norway</td><td>Oslo</td><td>2005</td><td>42.87999999999999</td></tr><tr><td>Norway</td><td>Oslo</td><td>2019</td><td>39.80958904109592</td></tr><tr><td>Poland</td><td>Warsaw</td><td>2001</td><td>47.099178082191784</td></tr><tr><td>Cyprus</td><td>Nicosia</td><td>2000</td><td>31.49754098360656</td></tr><tr><td>Hungary</td><td>Budapest</td><td>2013</td><td>52.29726027397263</td></tr><tr><td>Philippines</td><td>Manila</td><td>2012</td><td>82.40983606557384</td></tr><tr><td>Vietnam</td><td>Hanoi</td><td>2010</td><td>76.20794520547946</td></tr><tr><td>Czech Republic</td><td>Prague</td><td>2015</td><td>49.546721311475416</td></tr><tr><td>France</td><td>Paris</td><td>2014</td><td>53.65041095890415</td></tr><tr><td>Singapore</td><td>Singapore</td><td>2008</td><td>81.06803278688527</td></tr><tr><td>Uzbekistan</td><td>Tashkent</td><td>2003</td><td>60.16767123287672</td></tr><tr><td>Belgium</td><td>Brussels</td><td>2015</td><td>51.101366120218614</td></tr><tr><td>Finland</td><td>Helsinki</td><td>2018</td><td>42.44684931506848</td></tr><tr><td>Ireland</td><td>Dublin</td><td>2009</td><td>48.91369863013695</td></tr><tr><td>Romania</td><td>Bucharest</td><td>2001</td><td>52.98794520547949</td></tr><tr><td>Pakistan</td><td>Islamabad</td><td>2004</td><td>71.66584699453553</td></tr><tr><td>Pakistan</td><td>Islamabad</td><td>2007</td><td>70.98328767123292</td></tr><tr><td>Finland</td><td>Helsinki</td><td>2011</td><td>44.211780821917806</td></tr><tr><td>Poland</td><td>Warsaw</td><td>2016</td><td>48.23852459016394</td></tr><tr><td>Philippines</td><td>Manila</td><td>2006</td><td>82.36082191780815</td></tr><tr><td>Norway</td><td>Oslo</td><td>2009</td><td>40.830684931506816</td></tr><tr><td>Denmark</td><td>Copenhagen</td><td>2012</td><td>46.79535519125686</td></tr><tr><td>Georgia</td><td>Tbilisi</td><td>2004</td><td>56.671311475409816</td></tr><tr><td>Greece</td><td>Athens</td><td>2010</td><td>67.12876712328763</td></tr><tr><td>Poland</td><td>Warsaw</td><td>2017</td><td>49.20657534246575</td></tr><tr><td>Portugal</td><td>Lisbon</td><td>2008</td><td>61.88306010928965</td></tr><tr><td>Singapore</td><td>Singapore</td><td>2006</td><td>82.0432876712329</td></tr><tr><td>Belgium</td><td>Brussels</td><td>2009</td><td>50.849589041095875</td></tr><tr><td>Czech Republic</td><td>Prague</td><td>2010</td><td>45.986301369862986</td></tr><tr><td>France</td><td>Paris</td><td>2006</td><td>54.19972602739725</td></tr><tr><td>Albania</td><td>Tirana</td><td>2002</td><td>41.51287671232874</td></tr><tr><td>Ireland</td><td>Dublin</td><td>2006</td><td>50.48904109589042</td></tr><tr><td>Philippines</td><td>Manila</td><td>2018</td><td>80.58191780821919</td></tr><tr><td>Belgium</td><td>Brussels</td><td>2000</td><td>52.31502732240441</td></tr><tr><td>Croatia</td><td>Zagreb</td><td>2000</td><td>55.007923497267775</td></tr><tr><td>Denmark</td><td>Copenhagen</td><td>2000</td><td>48.314754098360645</td></tr><tr><td>Thailand</td><td>Bangkok</td><td>2010</td><td>84.15232876712318</td></tr><tr><td>Hungary</td><td>Budapest</td><td>2015</td><td>52.768306010928974</td></tr><tr><td>Portugal</td><td>Lisbon</td><td>2012</td><td>60.611748633879735</td></tr><tr><td>Singapore</td><td>Singapore</td><td>2009</td><td>81.88082191780819</td></tr><tr><td>Macedonia</td><td>Skopje</td><td>2020</td><td>44.533582089552255</td></tr><tr><td>France</td><td>Paris</td><td>2013</td><td>52.08849315068489</td></tr><tr><td>Italy</td><td>Rome</td><td>2013</td><td>61.049315068493144</td></tr><tr><td>Singapore</td><td>Singapore</td><td>2007</td><td>81.16438356164382</td></tr><tr><td>Bulgaria</td><td>Sofia</td><td>2018</td><td>51.37616438356167</td></tr><tr><td>Cyprus</td><td>Nicosia</td><td>2006</td><td>66.32821917808215</td></tr><tr><td>Macedonia</td><td>Skopje</td><td>2014</td><td>55.32821917808217</td></tr><tr><td>Philippines</td><td>Manila</td><td>2016</td><td>81.66202185792353</td></tr><tr><td>Greece</td><td>Athens</td><td>2003</td><td>64.91863013698631</td></tr><tr><td>Vietnam</td><td>Hanoi</td><td>2011</td><td>73.58739726027397</td></tr><tr><td>Austria</td><td>Vienna</td><td>2008</td><td>52.17704918032788</td></tr><tr><td>Russia</td><td>Moscow</td><td>2008</td><td>43.39590163934426</td></tr><tr><td>Australia</td><td>Canberra</td><td>2017</td><td>56.417534246575364</td></tr><tr><td>Czech Republic</td><td>Prague</td><td>2014</td><td>49.51863013698624</td></tr><tr><td>Hungary</td><td>Budapest</td><td>2005</td><td>48.35178082191782</td></tr><tr><td>Norway</td><td>Oslo</td><td>2012</td><td>40.830601092896174</td></tr><tr><td>Belarus</td><td>Minsk</td><td>2000</td><td>46.96120218579237</td></tr><tr><td>Australia</td><td>Canberra</td><td>2019</td><td>55.262465753424635</td></tr><tr><td>Ireland</td><td>Dublin</td><td>2005</td><td>50.24684931506849</td></tr><tr><td>Macedonia</td><td>Skopje</td><td>2012</td><td>55.05081967213109</td></tr><tr><td>Norway</td><td>Oslo</td><td>2016</td><td>40.95491803278688</td></tr><tr><td>Romania</td><td>Bucharest</td><td>2015</td><td>53.6918032786885</td></tr><tr><td>Vietnam</td><td>Hanoi</td><td>2013</td><td>73.87232876712328</td></tr><tr><td>Australia</td><td>Canberra</td><td>2014</td><td>56.1983561643836</td></tr><tr><td>Belarus</td><td>Minsk</td><td>2020</td><td>24.514393939393926</td></tr><tr><td>Czech Republic</td><td>Prague</td><td>2003</td><td>48.11260273972602</td></tr><tr><td>Finland</td><td>Helsinki</td><td>2008</td><td>44.62295081967211</td></tr><tr><td>Hungary</td><td>Budapest</td><td>2003</td><td>51.323287671232876</td></tr><tr><td>Portugal</td><td>Lisbon</td><td>2007</td><td>61.11726027397258</td></tr><tr><td>Australia</td><td>Canberra</td><td>2016</td><td>55.479508196721305</td></tr><tr><td>Cyprus</td><td>Nicosia</td><td>2008</td><td>67.59890710382518</td></tr><tr><td>Hungary</td><td>Budapest</td><td>2016</td><td>50.56229508196717</td></tr><tr><td>Philippines</td><td>Manila</td><td>2007</td><td>82.07013698630142</td></tr><tr><td>Singapore</td><td>Singapore</td><td>2001</td><td>81.70849315068493</td></tr><tr><td>Singapore</td><td>Singapore</td><td>2010</td><td>82.67616438356166</td></tr><tr><td>Denmark</td><td>Copenhagen</td><td>2001</td><td>46.6764383561644</td></tr><tr><td>Italy</td><td>Rome</td><td>2020</td><td>52.67611940298508</td></tr><tr><td>Pakistan</td><td>Islamabad</td><td>2014</td><td>70.62356164383566</td></tr><tr><td>Australia</td><td>Canberra</td><td>2004</td><td>56.841530054644856</td></tr><tr><td>Ireland</td><td>Dublin</td><td>2007</td><td>49.6386301369863</td></tr><tr><td>Italy</td><td>Rome</td><td>2007</td><td>60.57671232876712</td></tr><tr><td>South Korea</td><td>Seoul</td><td>2004</td><td>54.84043715846998</td></tr><tr><td>Thailand</td><td>Bangkok</td><td>2005</td><td>85.05506849315066</td></tr><tr><td>Austria</td><td>Vienna</td><td>2019</td><td>51.817534246575406</td></tr><tr><td>Croatia</td><td>Zagreb</td><td>2015</td><td>54.85956284153007</td></tr><tr><td>Thailand</td><td>Bangkok</td><td>2002</td><td>82.7156164383562</td></tr><tr><td>Austria</td><td>Vienna</td><td>2009</td><td>51.36082191780821</td></tr><tr><td>Austria</td><td>Vienna</td><td>2012</td><td>51.911475409836065</td></tr><tr><td>Belgium</td><td>Brussels</td><td>2014</td><td>52.709315068493176</td></tr><tr><td>Ireland</td><td>Dublin</td><td>2000</td><td>48.94180327868844</td></tr><tr><td>Romania</td><td>Bucharest</td><td>2016</td><td>52.033606557377006</td></tr><tr><td>Albania</td><td>Tirana</td><td>2009</td><td>59.40109589041092</td></tr><tr><td>Bulgaria</td><td>Sofia</td><td>2008</td><td>52.9792349726776</td></tr><tr><td>France</td><td>Paris</td><td>2003</td><td>54.56219178082192</td></tr><tr><td>France</td><td>Paris</td><td>2009</td><td>53.061095890410954</td></tr><tr><td>Pakistan</td><td>Islamabad</td><td>2020</td><td>55.41654135338347</td></tr><tr><td>Austria</td><td>Vienna</td><td>2015</td><td>52.63961748633882</td></tr><tr><td>Greece</td><td>Athens</td><td>2009</td><td>64.84465753424652</td></tr><tr><td>Latvia</td><td>Riga</td><td>2009</td><td>44.24739726027398</td></tr><tr><td>Norway</td><td>Oslo</td><td>2004</td><td>42.11994535519124</td></tr><tr><td>Czech Republic</td><td>Prague</td><td>2006</td><td>48.335616438356155</td></tr><tr><td>Finland</td><td>Helsinki</td><td>2015</td><td>44.13387978142078</td></tr><tr><td>Greece</td><td>Athens</td><td>2006</td><td>63.27726027397264</td></tr><tr><td>Italy</td><td>Rome</td><td>2008</td><td>60.20819672131149</td></tr><tr><td>Portugal</td><td>Lisbon</td><td>2015</td><td>60.799180327868854</td></tr><tr><td>Macedonia</td><td>Skopje</td><td>2000</td><td>54.17185792349724</td></tr><tr><td>Pakistan</td><td>Islamabad</td><td>2011</td><td>72.0797260273972</td></tr><tr><td>Australia</td><td>Canberra</td><td>2008</td><td>55.24289617486339</td></tr><tr><td>Bulgaria</td><td>Sofia</td><td>2020</td><td>42.10820895522389</td></tr><tr><td>Russia</td><td>Moscow</td><td>2015</td><td>43.86092896174861</td></tr><tr><td>Croatia</td><td>Zagreb</td><td>2011</td><td>54.72739726027395</td></tr><tr><td>Croatia</td><td>Zagreb</td><td>2013</td><td>54.370136986301326</td></tr><tr><td>Hungary</td><td>Budapest</td><td>2011</td><td>51.536164383561626</td></tr><tr><td>Australia</td><td>Canberra</td><td>2001</td><td>55.715616438356165</td></tr><tr><td>South Korea</td><td>Seoul</td><td>2019</td><td>52.56191780821919</td></tr><tr><td>Bulgaria</td><td>Sofia</td><td>2005</td><td>49.13972602739721</td></tr><tr><td>Poland</td><td>Warsaw</td><td>2018</td><td>49.650410958904146</td></tr><tr><td>Romania</td><td>Bucharest</td><td>2009</td><td>53.35589041095888</td></tr><tr><td>Slovakia</td><td>Bratislava</td><td>2015</td><td>52.81775956284158</td></tr><tr><td>Switzerland</td><td>Bern</td><td>2012</td><td>48.887978142076534</td></tr><tr><td>Jordan</td><td>Amman</td><td>2010</td><td>68.17808219178085</td></tr><tr><td>Slovakia</td><td>Bratislava</td><td>2010</td><td>50.053424657534194</td></tr><tr><td>Turkey</td><td>Ankara</td><td>2011</td><td>49.66328767123287</td></tr><tr><td>Bahamas</td><td>Nassau</td><td>2001</td><td>76.98438356164384</td></tr><tr><td>Bahamas</td><td>Nassau</td><td>2019</td><td>76.20986301369854</td></tr><tr><td>Spain</td><td>Madrid</td><td>2011</td><td>60.0972602739726</td></tr><tr><td>Barbados</td><td>Bridgetown</td><td>2015</td><td>80.4469945355191</td></tr><tr><td>United Arab Emirates</td><td>Abu Dhabi</td><td>2012</td><td>83.29289617486346</td></tr><tr><td>Bolivia</td><td>La Paz</td><td>2006</td><td>44.65698630136985</td></tr><tr><td>Barbados</td><td>Bridgetown</td><td>2009</td><td>80.62931506849316</td></tr><tr><td>Jordan</td><td>Amman</td><td>2001</td><td>65.14986301369862</td></tr><tr><td>Lebanon</td><td>Beirut</td><td>2002</td><td>68.42438356164384</td></tr><tr><td>Canada</td><td>Ottawa</td><td>2006</td><td>45.97726027397255</td></tr><tr><td>Barbados</td><td>Bridgetown</td><td>2010</td><td>82.04273972602735</td></tr><tr><td>Spain</td><td>Madrid</td><td>2004</td><td>57.572677595628384</td></tr><tr><td>Switzerland</td><td>Bern</td><td>2015</td><td>49.14972677595629</td></tr><tr><td>Mexico</td><td>Mexico City</td><td>2010</td><td>62.73698630136983</td></tr><tr><td>Lebanon</td><td>Beirut</td><td>2000</td><td>69.42349726775956</td></tr><tr><td>Mexico</td><td>Mexico City</td><td>2020</td><td>65.18270676691732</td></tr><tr><td>Sweden</td><td>Stockholm</td><td>2000</td><td>47.27868852459015</td></tr><tr><td>Sweden</td><td>Stockholm</td><td>2017</td><td>45.47041095890408</td></tr><tr><td>Saudi Arabia</td><td>Riyadh</td><td>2009</td><td>79.09589041095893</td></tr><tr><td>Slovakia</td><td>Bratislava</td><td>2009</td><td>51.81315068493151</td></tr><tr><td>Syria</td><td>Damascus</td><td>2000</td><td>63.09836065573772</td></tr><tr><td>Syria</td><td>Damascus</td><td>2013</td><td>64.05150684931503</td></tr><tr><td>Bolivia</td><td>La Paz</td><td>2018</td><td>43.446301369863015</td></tr><tr><td>Bahrain</td><td>Manama</td><td>2003</td><td>80.97643835616437</td></tr><tr><td>Oman</td><td>Muscat</td><td>2015</td><td>69.45054644808745</td></tr><tr><td>Bahamas</td><td>Nassau</td><td>2002</td><td>76.5254794520548</td></tr><tr><td>Barbados</td><td>Bridgetown</td><td>2013</td><td>80.76575342465755</td></tr><tr><td>Bahrain</td><td>Manama</td><td>2008</td><td>79.51229508196724</td></tr><tr><td>Qatar</td><td>Doha</td><td>2017</td><td>84.36876712328761</td></tr><tr><td>Saudi Arabia</td><td>Riyadh</td><td>2007</td><td>78.77643835616443</td></tr><tr><td>Bahrain</td><td>Manama</td><td>2006</td><td>81.00547945205477</td></tr><tr><td>Oman</td><td>Muscat</td><td>2005</td><td>81.19616438356167</td></tr><tr><td>Argentina</td><td>Buenos Aires</td><td>2019</td><td>60.40712328767126</td></tr><tr><td>Slovakia</td><td>Bratislava</td><td>2014</td><td>53.53342465753425</td></tr><tr><td>Bolivia</td><td>La Paz</td><td>2010</td><td>46.15369863013698</td></tr><tr><td>Lebanon</td><td>Beirut</td><td>2011</td><td>70.00301369863013</td></tr><tr><td>Qatar</td><td>Doha</td><td>2013</td><td>83.26739726027397</td></tr><tr><td>Sweden</td><td>Stockholm</td><td>2001</td><td>45.733424657534236</td></tr><tr><td>Jordan</td><td>Amman</td><td>2020</td><td>54.119402985074615</td></tr><tr><td>Mexico</td><td>Mexico City</td><td>2005</td><td>63.14958904109591</td></tr><tr><td>Canada</td><td>Ottawa</td><td>2001</td><td>45.93205479452053</td></tr><tr><td>Oman</td><td>Muscat</td><td>2014</td><td>47.72547945205477</td></tr><tr><td>United Arab Emirates</td><td>Abu Dhabi</td><td>2009</td><td>82.07123287671237</td></tr><tr><td>Barbados</td><td>Bridgetown</td><td>2016</td><td>79.60136612021856</td></tr><tr><td>Jordan</td><td>Amman</td><td>2009</td><td>64.59397260273968</td></tr><tr><td>Mexico</td><td>Mexico City</td><td>2007</td><td>61.59123287671232</td></tr><tr><td>Switzerland</td><td>Bern</td><td>2009</td><td>50.86438356164383</td></tr><tr><td>Bolivia</td><td>La Paz</td><td>2020</td><td>48.049253731343285</td></tr><tr><td>Bahamas</td><td>Nassau</td><td>2000</td><td>76.41530054644808</td></tr><tr><td>Spain</td><td>Madrid</td><td>2013</td><td>58.5898630136986</td></tr><tr><td>Barbados</td><td>Bridgetown</td><td>2003</td><td>70.4334246575342</td></tr><tr><td>Bolivia</td><td>La Paz</td><td>2017</td><td>46.22876712328765</td></tr><tr><td>Oman</td><td>Muscat</td><td>2011</td><td>55.286849315068494</td></tr><tr><td>Mexico</td><td>Mexico City</td><td>2016</td><td>61.398360655737704</td></tr><tr><td>Mexico</td><td>Mexico City</td><td>2008</td><td>60.504918032786904</td></tr><tr><td>Argentina</td><td>Buenos Aires</td><td>2012</td><td>63.725136612021885</td></tr><tr><td>Bolivia</td><td>La Paz</td><td>2014</td><td>45.066301369863034</td></tr><tr><td>Switzerland</td><td>Bern</td><td>2017</td><td>49.494520547945214</td></tr><tr><td>Saudi Arabia</td><td>Riyadh</td><td>2006</td><td>78.97972602739729</td></tr><tr><td>Sweden</td><td>Stockholm</td><td>2002</td><td>44.596986301369824</td></tr><tr><td>Saudi Arabia</td><td>Riyadh</td><td>2008</td><td>77.66284153005466</td></tr><tr><td>Canada</td><td>Ottawa</td><td>2004</td><td>42.688797814207646</td></tr><tr><td>Barbados</td><td>Bridgetown</td><td>2007</td><td>78.61013698630136</td></tr><tr><td>Turkey</td><td>Ankara</td><td>2007</td><td>52.276438356164356</td></tr><tr><td>Canada</td><td>Ottawa</td><td>2010</td><td>46.545479452054764</td></tr><tr><td>Mexico</td><td>Mexico City</td><td>2003</td><td>62.124657534246616</td></tr><tr><td>Sweden</td><td>Stockholm</td><td>2005</td><td>45.6309589041096</td></tr><tr><td>Jordan</td><td>Amman</td><td>2008</td><td>64.76284153005467</td></tr><tr><td>Jordan</td><td>Amman</td><td>2014</td><td>65.00356164383561</td></tr><tr><td>Spain</td><td>Madrid</td><td>2017</td><td>60.827123287671206</td></tr><tr><td>Jordan</td><td>Amman</td><td>2007</td><td>64.19232876712329</td></tr><tr><td>United Arab Emirates</td><td>Abu Dhabi</td><td>2020</td><td>71.61940298507461</td></tr><tr><td>Canada</td><td>Ottawa</td><td>2003</td><td>42.80082191780823</td></tr><tr><td>Bolivia</td><td>La Paz</td><td>2016</td><td>45.314754098360595</td></tr><tr><td>Sweden</td><td>Stockholm</td><td>2013</td><td>45.18109589041101</td></tr><tr><td>Saudi Arabia</td><td>Riyadh</td><td>2018</td><td>78.52767123287671</td></tr><tr><td>Qatar</td><td>Doha</td><td>2015</td><td>82.30792349726771</td></tr><tr><td>United Arab Emirates</td><td>Abu Dhabi</td><td>2002</td><td>80.87041095890409</td></tr><tr><td>United Arab Emirates</td><td>Abu Dhabi</td><td>2016</td><td>81.84016393442622</td></tr><tr><td>Bahamas</td><td>Nassau</td><td>2016</td><td>76.4174863387978</td></tr><tr><td>United Arab Emirates</td><td>Abu Dhabi</td><td>2004</td><td>83.03688524590164</td></tr><tr><td>Bermuda</td><td>Hamilton</td><td>2002</td><td>69.79863013698635</td></tr><tr><td>Bahrain</td><td>Manama</td><td>2004</td><td>80.7784153005464</td></tr><tr><td>Lebanon</td><td>Beirut</td><td>2001</td><td>70.93205479452057</td></tr><tr><td>Saudi Arabia</td><td>Riyadh</td><td>2013</td><td>78.99287671232877</td></tr><tr><td>Bahamas</td><td>Nassau</td><td>2018</td><td>76.63041095890406</td></tr><tr><td>Syria</td><td>Damascus</td><td>2020</td><td>50.68582089552241</td></tr><tr><td>United Arab Emirates</td><td>Abu Dhabi</td><td>2005</td><td>82.35835616438357</td></tr><tr><td>Sweden</td><td>Stockholm</td><td>2010</td><td>42.040547945205475</td></tr><tr><td>Oman</td><td>Muscat</td><td>2019</td><td>63.02416107382553</td></tr><tr><td>Saudi Arabia</td><td>Riyadh</td><td>2004</td><td>78.81120218579235</td></tr><tr><td>Jordan</td><td>Amman</td><td>2013</td><td>63.92712328767123</td></tr><tr><td>Oman</td><td>Muscat</td><td>2002</td><td>75.59041095890412</td></tr><tr><td>Spain</td><td>Madrid</td><td>2005</td><td>58.578630136986256</td></tr><tr><td>Switzerland</td><td>Bern</td><td>2003</td><td>50.58054794520548</td></tr><tr><td>Saudi Arabia</td><td>Riyadh</td><td>2010</td><td>80.5328767123287</td></tr><tr><td>Saudi Arabia</td><td>Riyadh</td><td>2014</td><td>79.14547945205483</td></tr><tr><td>Bolivia</td><td>La Paz</td><td>2002</td><td>43.7627397260274</td></tr><tr><td>Bahrain</td><td>Manama</td><td>2018</td><td>81.3008219178082</td></tr><tr><td>Saudi Arabia</td><td>Riyadh</td><td>2002</td><td>76.98410958904108</td></tr><tr><td>Syria</td><td>Damascus</td><td>2010</td><td>66.69726027397256</td></tr><tr><td>Bermuda</td><td>Hamilton</td><td>2007</td><td>70.3835616438356</td></tr><tr><td>Spain</td><td>Madrid</td><td>2000</td><td>57.804371584699425</td></tr><tr><td>Argentina</td><td>Buenos Aires</td><td>2017</td><td>64.13780821917805</td></tr><tr><td>Qatar</td><td>Doha</td><td>2020</td><td>73.62014925373134</td></tr><tr><td>Syria</td><td>Damascus</td><td>2011</td><td>62.442191780821915</td></tr><tr><td>Canada</td><td>Ottawa</td><td>2011</td><td>45.86109589041093</td></tr><tr><td>Bermuda</td><td>Hamilton</td><td>2008</td><td>68.89098360655738</td></tr><tr><td>Lebanon</td><td>Beirut</td><td>2008</td><td>69.52868852459011</td></tr><tr><td>United Arab Emirates</td><td>Abu Dhabi</td><td>2018</td><td>82.95452054794525</td></tr><tr><td>Lebanon</td><td>Beirut</td><td>2012</td><td>70.87076502732238</td></tr><tr><td>Turkey</td><td>Ankara</td><td>2000</td><td>49.04918032786888</td></tr><tr><td>Mexico</td><td>Mexico City</td><td>2019</td><td>61.955342465753425</td></tr><tr><td>Bolivia</td><td>La Paz</td><td>2007</td><td>44.46054794520548</td></tr><tr><td>Spain</td><td>Madrid</td><td>2014</td><td>60.00684931506852</td></tr><tr><td>Qatar</td><td>Doha</td><td>2006</td><td>82.7961643835616</td></tr><tr><td>Bahrain</td><td>Manama</td><td>2012</td><td>81.68415300546445</td></tr><tr><td>Qatar</td><td>Doha</td><td>2001</td><td>82.98684931506853</td></tr><tr><td>Bahamas</td><td>Nassau</td><td>2005</td><td>75.13643835616439</td></tr><tr><td>Slovakia</td><td>Bratislava</td><td>2018</td><td>52.57232876712324</td></tr><tr><td>Sweden</td><td>Stockholm</td><td>2015</td><td>45.77704918032782</td></tr><tr><td>Qatar</td><td>Doha</td><td>2012</td><td>83.7991803278688</td></tr><tr><td>Mexico</td><td>Mexico City</td><td>2009</td><td>62.89479452054798</td></tr><tr><td>Syria</td><td>Damascus</td><td>2012</td><td>63.731693989071054</td></tr><tr><td>Slovakia</td><td>Bratislava</td><td>2011</td><td>51.98986301369862</td></tr><tr><td>Bahrain</td><td>Manama</td><td>2015</td><td>81.6229508196721</td></tr><tr><td>Qatar</td><td>Doha</td><td>2014</td><td>83.50630136986298</td></tr><tr><td>Bahamas</td><td>Nassau</td><td>2014</td><td>78.12246575342462</td></tr><tr><td>Oman</td><td>Muscat</td><td>2016</td><td>62.08142076502731</td></tr><tr><td>Turkey</td><td>Ankara</td><td>2006</td><td>50.71287671232876</td></tr><tr><td>Sweden</td><td>Stockholm</td><td>2019</td><td>44.179999999999986</td></tr><tr><td>United Arab Emirates</td><td>Abu Dhabi</td><td>2011</td><td>83.32712328767126</td></tr><tr><td>Jordan</td><td>Amman</td><td>2000</td><td>63.86256830601093</td></tr><tr><td>Argentina</td><td>Buenos Aires</td><td>2010</td><td>63.006301369863024</td></tr><tr><td>Spain</td><td>Madrid</td><td>2008</td><td>56.802459016393456</td></tr><tr><td>Switzerland</td><td>Bern</td><td>2001</td><td>49.69068493150682</td></tr><tr><td>Qatar</td><td>Doha</td><td>2010</td><td>84.45260273972603</td></tr><tr><td>Bolivia</td><td>La Paz</td><td>2013</td><td>45.21917808219179</td></tr><tr><td>Bahrain</td><td>Manama</td><td>2001</td><td>81.3230136986302</td></tr><tr><td>United Arab Emirates</td><td>Abu Dhabi</td><td>2017</td><td>84.86273972602733</td></tr><tr><td>Syria</td><td>Damascus</td><td>2009</td><td>63.218904109589054</td></tr><tr><td>Bermuda</td><td>Hamilton</td><td>2009</td><td>71.6079452054795</td></tr><tr><td>Barbados</td><td>Bridgetown</td><td>2012</td><td>80.63524590163935</td></tr><tr><td>Canada</td><td>Ottawa</td><td>2013</td><td>43.55643835616436</td></tr><tr><td>Bahrain</td><td>Manama</td><td>2017</td><td>82.63589041095887</td></tr><tr><td>Lebanon</td><td>Beirut</td><td>2004</td><td>69.7379781420765</td></tr><tr><td>Spain</td><td>Madrid</td><td>2007</td><td>56.18767123287673</td></tr><tr><td>Saudi Arabia</td><td>Riyadh</td><td>2019</td><td>77.71561643835615</td></tr><tr><td>Turkey</td><td>Ankara</td><td>2020</td><td>41.731343283582106</td></tr><tr><td>Barbados</td><td>Bridgetown</td><td>2005</td><td>82.06191780821915</td></tr><tr><td>Bahrain</td><td>Manama</td><td>2010</td><td>82.92684931506848</td></tr><tr><td>Argentina</td><td>Buenos Aires</td><td>2007</td><td>60.88219178082192</td></tr><tr><td>Syria</td><td>Damascus</td><td>2014</td><td>63.983561643835564</td></tr><tr><td>Mexico</td><td>Mexico City</td><td>2012</td><td>62.83907103825142</td></tr><tr><td>Bolivia</td><td>La Paz</td><td>2015</td><td>45.327595628415295</td></tr><tr><td>Jordan</td><td>Amman</td><td>2006</td><td>64.27178082191782</td></tr><tr><td>Bolivia</td><td>La Paz</td><td>2004</td><td>45.88087431693987</td></tr><tr><td>Syria</td><td>Damascus</td><td>2018</td><td>64.52054794520545</td></tr><tr><td>Argentina</td><td>Buenos Aires</td><td>2018</td><td>61.24904109589046</td></tr><tr><td>Turkey</td><td>Ankara</td><td>2017</td><td>51.78547945205478</td></tr><tr><td>Argentina</td><td>Buenos Aires</td><td>2005</td><td>62.31150684931508</td></tr><tr><td>Bahamas</td><td>Nassau</td><td>2020</td><td>75.5894736842105</td></tr><tr><td>Sweden</td><td>Stockholm</td><td>2012</td><td>44.27431693989073</td></tr><tr><td>Saudi Arabia</td><td>Riyadh</td><td>2000</td><td>79.53579234972678</td></tr><tr><td>Turkey</td><td>Ankara</td><td>2003</td><td>51.418904109589086</td></tr><tr><td>Spain</td><td>Madrid</td><td>2009</td><td>59.486849315068476</td></tr><tr><td>Bahrain</td><td>Manama</td><td>2019</td><td>79.97232876712333</td></tr><tr><td>Qatar</td><td>Doha</td><td>2007</td><td>82.41890410958908</td></tr><tr><td>Bahamas</td><td>Nassau</td><td>2009</td><td>78.88356164383559</td></tr><tr><td>Jordan</td><td>Amman</td><td>2017</td><td>65.7386301369863</td></tr><tr><td>United Arab Emirates</td><td>Abu Dhabi</td><td>2000</td><td>82.62240437158466</td></tr><tr><td>Bermuda</td><td>Hamilton</td><td>2010</td><td>69.89743589743593</td></tr><tr><td>Oman</td><td>Muscat</td><td>2012</td><td>-6.6767759562841595</td></tr><tr><td>Syria</td><td>Damascus</td><td>2004</td><td>63.36557377049187</td></tr><tr><td>Bahamas</td><td>Nassau</td><td>2011</td><td>79.85095890410959</td></tr><tr><td>Barbados</td><td>Bridgetown</td><td>2004</td><td>77.39480874316943</td></tr><tr><td>Turkey</td><td>Ankara</td><td>2009</td><td>51.34438356164382</td></tr><tr><td>Spain</td><td>Madrid</td><td>2003</td><td>58.95178082191778</td></tr><tr><td>Canada</td><td>Ottawa</td><td>2005</td><td>44.84684931506851</td></tr><tr><td>Mexico</td><td>Mexico City</td><td>2014</td><td>62.386849315068524</td></tr><tr><td>Lebanon</td><td>Beirut</td><td>2015</td><td>70.04781420765026</td></tr><tr><td>Lebanon</td><td>Beirut</td><td>2016</td><td>69.54535519125686</td></tr><tr><td>Sweden</td><td>Stockholm</td><td>2009</td><td>44.8241095890411</td></tr><tr><td>Switzerland</td><td>Bern</td><td>2006</td><td>50.6715068493151</td></tr><tr><td>Syria</td><td>Damascus</td><td>2003</td><td>63.43013698630139</td></tr><tr><td>Argentina</td><td>Buenos Aires</td><td>2004</td><td>62.62595628415302</td></tr><tr><td>Sweden</td><td>Stockholm</td><td>2020</td><td>39.836567164179115</td></tr><tr><td>Syria</td><td>Damascus</td><td>2001</td><td>64.82520547945198</td></tr><tr><td>Turkey</td><td>Ankara</td><td>2018</td><td>53.08602739726031</td></tr><tr><td>Argentina</td><td>Buenos Aires</td><td>2020</td><td>69.98432835820897</td></tr><tr><td>Spain</td><td>Madrid</td><td>2010</td><td>58.35260273972605</td></tr><tr><td>United Arab Emirates</td><td>Abu Dhabi</td><td>2001</td><td>82.40219178082195</td></tr><tr><td>Argentina</td><td>Buenos Aires</td><td>2014</td><td>63.61369863013696</td></tr><tr><td>Bahrain</td><td>Manama</td><td>2011</td><td>80.92</td></tr><tr><td>Argentina</td><td>Buenos Aires</td><td>2001</td><td>62.895068493150724</td></tr><tr><td>Barbados</td><td>Bridgetown</td><td>2014</td><td>80.16657534246578</td></tr><tr><td>Oman</td><td>Muscat</td><td>2018</td><td>75.06958904109587</td></tr><tr><td>Oman</td><td>Muscat</td><td>2013</td><td>80.63890410958902</td></tr><tr><td>Saudi Arabia</td><td>Riyadh</td><td>2003</td><td>79.14630136986307</td></tr><tr><td>Argentina</td><td>Buenos Aires</td><td>2009</td><td>62.57095890410963</td></tr><tr><td>Bolivia</td><td>La Paz</td><td>2005</td><td>45.67205479452055</td></tr><tr><td>Barbados</td><td>Bridgetown</td><td>2002</td><td>78.76000000000002</td></tr><tr><td>Slovakia</td><td>Bratislava</td><td>2016</td><td>50.702459016393426</td></tr><tr><td>Bahamas</td><td>Nassau</td><td>2004</td><td>68.0939890710383</td></tr><tr><td>Sweden</td><td>Stockholm</td><td>2018</td><td>45.467123287671235</td></tr><tr><td>Oman</td><td>Muscat</td><td>2007</td><td>23.960273972602735</td></tr><tr><td>Bahamas</td><td>Nassau</td><td>2006</td><td>76.33835616438353</td></tr><tr><td>Switzerland</td><td>Bern</td><td>2014</td><td>49.841095890411</td></tr><tr><td>Jordan</td><td>Amman</td><td>2005</td><td>64.39123287671234</td></tr><tr><td>Argentina</td><td>Buenos Aires</td><td>2006</td><td>62.68794520547938</td></tr><tr><td>Slovakia</td><td>Bratislava</td><td>2017</td><td>52.71945205479454</td></tr><tr><td>Bahamas</td><td>Nassau</td><td>2008</td><td>78.0674863387978</td></tr><tr><td>Oman</td><td>Muscat</td><td>2000</td><td>-99.0</td></tr><tr><td>Qatar</td><td>Doha</td><td>2019</td><td>81.38575342465751</td></tr><tr><td>Syria</td><td>Damascus</td><td>2005</td><td>63.0106849315069</td></tr><tr><td>United Arab Emirates</td><td>Abu Dhabi</td><td>2007</td><td>81.84301369863017</td></tr><tr><td>Spain</td><td>Madrid</td><td>2016</td><td>58.30437158469944</td></tr><tr><td>Turkey</td><td>Ankara</td><td>2002</td><td>48.33671232876715</td></tr><tr><td>Sweden</td><td>Stockholm</td><td>2004</td><td>45.04726775956285</td></tr><tr><td>Oman</td><td>Muscat</td><td>2004</td><td>76.20928961748632</td></tr><tr><td>Oman</td><td>Muscat</td><td>2009</td><td>69.05342465753422</td></tr><tr><td>Oman</td><td>Muscat</td><td>2017</td><td>22.001095890410955</td></tr><tr><td>Saudi Arabia</td><td>Riyadh</td><td>2015</td><td>79.82950819672126</td></tr><tr><td>Syria</td><td>Damascus</td><td>2016</td><td>58.06639344262294</td></tr><tr><td>United Arab Emirates</td><td>Abu Dhabi</td><td>2015</td><td>83.77978142076499</td></tr><tr><td>Spain</td><td>Madrid</td><td>2006</td><td>59.54575342465752</td></tr><tr><td>Turkey</td><td>Ankara</td><td>2019</td><td>50.32931506849315</td></tr><tr><td>Syria</td><td>Damascus</td><td>2017</td><td>62.10191780821915</td></tr><tr><td>Bahrain</td><td>Manama</td><td>2002</td><td>78.89479452054795</td></tr><tr><td>Bahrain</td><td>Manama</td><td>2016</td><td>80.14836065573775</td></tr><tr><td>Jordan</td><td>Amman</td><td>2003</td><td>63.46136986301374</td></tr><tr><td>Jordan</td><td>Amman</td><td>2015</td><td>64.34945355191262</td></tr><tr><td>Bahamas</td><td>Nassau</td><td>2003</td><td>79.17753424657536</td></tr><tr><td>Jordan</td><td>Amman</td><td>2016</td><td>64.18333333333328</td></tr><tr><td>Lebanon</td><td>Beirut</td><td>2020</td><td>61.464179104477616</td></tr><tr><td>Saudi Arabia</td><td>Riyadh</td><td>2001</td><td>79.5904109589041</td></tr><tr><td>Bahamas</td><td>Nassau</td><td>2012</td><td>78.61584699453556</td></tr><tr><td>Spain</td><td>Madrid</td><td>2002</td><td>56.16986301369865</td></tr><tr><td>Saudi Arabia</td><td>Riyadh</td><td>2011</td><td>78.19698630136983</td></tr><tr><td>Canada</td><td>Ottawa</td><td>2000</td><td>42.62950819672128</td></tr><tr><td>Switzerland</td><td>Bern</td><td>2011</td><td>49.79863013698628</td></tr><tr><td>Slovakia</td><td>Bratislava</td><td>2019</td><td>51.73479452054798</td></tr><tr><td>Sweden</td><td>Stockholm</td><td>2016</td><td>44.293169398907104</td></tr><tr><td>Oman</td><td>Muscat</td><td>2003</td><td>80.27506849315068</td></tr><tr><td>Bolivia</td><td>La Paz</td><td>2009</td><td>44.73945205479452</td></tr><tr><td>Oman</td><td>Muscat</td><td>2010</td><td>68.4887978142076</td></tr><tr><td>Barbados</td><td>Bridgetown</td><td>2017</td><td>19.64520547945204</td></tr><tr><td>Bahamas</td><td>Nassau</td><td>2010</td><td>78.25205479452055</td></tr><tr><td>Qatar</td><td>Doha</td><td>2000</td><td>82.26885245901634</td></tr><tr><td>Sweden</td><td>Stockholm</td><td>2014</td><td>46.66164383561644</td></tr><tr><td>Bahrain</td><td>Manama</td><td>2000</td><td>80.60601092896171</td></tr><tr><td>Lebanon</td><td>Beirut</td><td>2005</td><td>69.6526027397261</td></tr><tr><td>Oman</td><td>Muscat</td><td>2008</td><td>76.71912568306013</td></tr><tr><td>Syria</td><td>Damascus</td><td>2015</td><td>62.95054644808744</td></tr><tr><td>Turkey</td><td>Ankara</td><td>2012</td><td>51.49398907103823</td></tr><tr><td>Qatar</td><td>Doha</td><td>2004</td><td>82.71475409836069</td></tr><tr><td>Saudi Arabia</td><td>Riyadh</td><td>2020</td><td>70.73432835820897</td></tr><tr><td>Bolivia</td><td>La Paz</td><td>2003</td><td>44.564383561643865</td></tr><tr><td>Bermuda</td><td>Hamilton</td><td>2001</td><td>70.64164383561648</td></tr><tr><td>Switzerland</td><td>Bern</td><td>2018</td><td>49.133698630137</td></tr><tr><td>Spain</td><td>Madrid</td><td>2020</td><td>50.94477611940298</td></tr><tr><td>Syria</td><td>Damascus</td><td>2019</td><td>61.511780821917796</td></tr><tr><td>Canada</td><td>Ottawa</td><td>2014</td><td>31.720496894409948</td></tr><tr><td>Argentina</td><td>Buenos Aires</td><td>2002</td><td>60.787397260274005</td></tr><tr><td>Sweden</td><td>Stockholm</td><td>2003</td><td>45.28547945205478</td></tr><tr><td>Turkey</td><td>Ankara</td><td>2010</td><td>54.42575342465758</td></tr><tr><td>Barbados</td><td>Bridgetown</td><td>2001</td><td>79.21835616438358</td></tr><tr><td>Barbados</td><td>Bridgetown</td><td>2011</td><td>81.38575342465757</td></tr><tr><td>Qatar</td><td>Doha</td><td>2011</td><td>83.32575342465758</td></tr><tr><td>Canada</td><td>Ottawa</td><td>2009</td><td>42.91342465753423</td></tr><tr><td>Bahamas</td><td>Nassau</td><td>2017</td><td>80.40767123287678</td></tr><tr><td>Lebanon</td><td>Beirut</td><td>2006</td><td>64.13315068493152</td></tr><tr><td>United Arab Emirates</td><td>Abu Dhabi</td><td>2006</td><td>81.53917808219177</td></tr><tr><td>United Arab Emirates</td><td>Abu Dhabi</td><td>2019</td><td>81.13890410958906</td></tr><tr><td>Bahrain</td><td>Manama</td><td>2005</td><td>80.20931506849313</td></tr><tr><td>Jordan</td><td>Amman</td><td>2019</td><td>62.505479452054814</td></tr><tr><td>United Arab Emirates</td><td>Abu Dhabi</td><td>2010</td><td>83.80438356164385</td></tr><tr><td>Bermuda</td><td>Hamilton</td><td>2004</td><td>71.33661202185796</td></tr><tr><td>Bolivia</td><td>La Paz</td><td>2000</td><td>43.89699453551912</td></tr><tr><td>Jordan</td><td>Amman</td><td>2018</td><td>64.8131506849315</td></tr><tr><td>Turkey</td><td>Ankara</td><td>2004</td><td>50.2456284153006</td></tr><tr><td>Mexico</td><td>Mexico City</td><td>2018</td><td>61.016438356164414</td></tr><tr><td>Bolivia</td><td>La Paz</td><td>2001</td><td>44.4164383561644</td></tr><tr><td>Switzerland</td><td>Bern</td><td>2019</td><td>47.72493150684932</td></tr><tr><td>Syria</td><td>Damascus</td><td>2006</td><td>62.87424657534244</td></tr><tr><td>Syria</td><td>Damascus</td><td>2008</td><td>63.475956284152915</td></tr><tr><td>United Arab Emirates</td><td>Abu Dhabi</td><td>2014</td><td>82.42767123287672</td></tr><tr><td>Qatar</td><td>Doha</td><td>2016</td><td>82.03060109289612</td></tr><tr><td>Bahrain</td><td>Manama</td><td>2009</td><td>80.91013698630132</td></tr><tr><td>Argentina</td><td>Buenos Aires</td><td>2008</td><td>62.46857923497266</td></tr><tr><td>Bolivia</td><td>La Paz</td><td>2008</td><td>43.08306010928958</td></tr><tr><td>Sweden</td><td>Stockholm</td><td>2008</td><td>46.46967213114755</td></tr><tr><td>Mexico</td><td>Mexico City</td><td>2013</td><td>63.39315068493148</td></tr><tr><td>Turkey</td><td>Ankara</td><td>2016</td><td>50.608469945355175</td></tr><tr><td>Mexico</td><td>Mexico City</td><td>2002</td><td>60.25397260273973</td></tr><tr><td>Switzerland</td><td>Bern</td><td>2005</td><td>48.663835616438355</td></tr><tr><td>Lebanon</td><td>Beirut</td><td>2013</td><td>70.90547945205483</td></tr><tr><td>Mexico</td><td>Mexico City</td><td>2006</td><td>61.8819178082192</td></tr><tr><td>Lebanon</td><td>Beirut</td><td>2003</td><td>70.11972602739726</td></tr><tr><td>Lebanon</td><td>Beirut</td><td>2010</td><td>72.6569863013698</td></tr><tr><td>Bolivia</td><td>La Paz</td><td>2019</td><td>44.131232876712325</td></tr><tr><td>Spain</td><td>Madrid</td><td>2018</td><td>57.8893150684931</td></tr><tr><td>Oman</td><td>Muscat</td><td>2001</td><td>75.34438356164384</td></tr><tr><td>Bahrain</td><td>Manama</td><td>2007</td><td>80.48849315068492</td></tr><tr><td>Spain</td><td>Madrid</td><td>2015</td><td>59.7360655737705</td></tr><tr><td>Mexico</td><td>Mexico City</td><td>2001</td><td>60.88630136986301</td></tr><tr><td>Mexico</td><td>Mexico City</td><td>2000</td><td>61.2450819672131</td></tr><tr><td>Bahrain</td><td>Manama</td><td>2014</td><td>81.57780821917805</td></tr><tr><td>Lebanon</td><td>Beirut</td><td>2014</td><td>70.7506849315069</td></tr><tr><td>Argentina</td><td>Buenos Aires</td><td>2011</td><td>63.23534246575342</td></tr><tr><td>Bahamas</td><td>Nassau</td><td>2015</td><td>78.4292349726776</td></tr><tr><td>Qatar</td><td>Doha</td><td>2002</td><td>80.70191780821911</td></tr><tr><td>Qatar</td><td>Doha</td><td>2018</td><td>82.39972602739734</td></tr><tr><td>Bolivia</td><td>La Paz</td><td>2011</td><td>45.04684931506849</td></tr><tr><td>Bahrain</td><td>Manama</td><td>2013</td><td>81.20438356164384</td></tr><tr><td>Bahamas</td><td>Nassau</td><td>2007</td><td>71.53287671232877</td></tr><tr><td>Sweden</td><td>Stockholm</td><td>2007</td><td>45.89616438356161</td></tr><tr><td>Switzerland</td><td>Bern</td><td>2002</td><td>47.98410958904105</td></tr><tr><td>Turkey</td><td>Ankara</td><td>2015</td><td>51.20191256830599</td></tr><tr><td>Argentina</td><td>Buenos Aires</td><td>2016</td><td>60.87267759562841</td></tr><tr><td>Saudi Arabia</td><td>Riyadh</td><td>2016</td><td>77.8743169398907</td></tr><tr><td>Turkey</td><td>Ankara</td><td>2013</td><td>52.020821917808256</td></tr><tr><td>Mexico</td><td>Mexico City</td><td>2011</td><td>63.53890410958908</td></tr><tr><td>Switzerland</td><td>Bern</td><td>2020</td><td>43.40000000000001</td></tr><tr><td>Jordan</td><td>Amman</td><td>2011</td><td>63.7961643835617</td></tr><tr><td>Switzerland</td><td>Bern</td><td>2004</td><td>48.33442622950818</td></tr><tr><td>Lebanon</td><td>Beirut</td><td>2018</td><td>67.4265753424657</td></tr><tr><td>United Arab Emirates</td><td>Abu Dhabi</td><td>2008</td><td>80.50027322404367</td></tr><tr><td>Bermuda</td><td>Hamilton</td><td>2005</td><td>71.23424657534245</td></tr><tr><td>Slovakia</td><td>Bratislava</td><td>2013</td><td>52.181095890410944</td></tr><tr><td>Jordan</td><td>Amman</td><td>2002</td><td>62.16273972602745</td></tr><tr><td>Canada</td><td>Ottawa</td><td>2012</td><td>46.35437158469948</td></tr><tr><td>United Arab Emirates</td><td>Abu Dhabi</td><td>2013</td><td>82.68410958904114</td></tr><tr><td>Argentina</td><td>Buenos Aires</td><td>2003</td><td>61.04246575342465</td></tr><tr><td>Canada</td><td>Ottawa</td><td>2002</td><td>43.05726027397256</td></tr><tr><td>Barbados</td><td>Bridgetown</td><td>2008</td><td>78.32540983606557</td></tr><tr><td>Spain</td><td>Madrid</td><td>2012</td><td>59.22103825136618</td></tr><tr><td>Switzerland</td><td>Bern</td><td>2010</td><td>49.200821917808234</td></tr><tr><td>Saudi Arabia</td><td>Riyadh</td><td>2005</td><td>79.18493150684931</td></tr><tr><td>Argentina</td><td>Buenos Aires</td><td>2000</td><td>61.95519125683062</td></tr><tr><td>Lebanon</td><td>Beirut</td><td>2017</td><td>70.0112328767123</td></tr><tr><td>Argentina</td><td>Buenos Aires</td><td>2013</td><td>62.88054794520547</td></tr><tr><td>Saudi Arabia</td><td>Riyadh</td><td>2012</td><td>79.4467213114754</td></tr><tr><td>Bolivia</td><td>La Paz</td><td>2012</td><td>45.306557377049174</td></tr><tr><td>Switzerland</td><td>Bern</td><td>2008</td><td>50.486065573770524</td></tr><tr><td>Bahamas</td><td>Nassau</td><td>2013</td><td>78.17452054794518</td></tr><tr><td>Turkey</td><td>Ankara</td><td>2008</td><td>50.17950819672125</td></tr><tr><td>Saudi Arabia</td><td>Riyadh</td><td>2017</td><td>80.35041095890412</td></tr><tr><td>Argentina</td><td>Buenos Aires</td><td>2015</td><td>62.935792349726825</td></tr><tr><td>Switzerland</td><td>Bern</td><td>2007</td><td>50.8882191780822</td></tr><tr><td>Jordan</td><td>Amman</td><td>2012</td><td>65.63524590163934</td></tr><tr><td>Lebanon</td><td>Beirut</td><td>2019</td><td>67.85972602739727</td></tr><tr><td>United Arab Emirates</td><td>Abu Dhabi</td><td>2003</td><td>83.34246575342463</td></tr><tr><td>Mexico</td><td>Mexico City</td><td>2004</td><td>61.80846994535516</td></tr><tr><td>Oman</td><td>Muscat</td><td>2006</td><td>68.1232876712329</td></tr><tr><td>Qatar</td><td>Doha</td><td>2009</td><td>82.75452054794529</td></tr><tr><td>Bermuda</td><td>Hamilton</td><td>2003</td><td>71.09178082191781</td></tr><tr><td>Barbados</td><td>Bridgetown</td><td>2000</td><td>79.73606557377052</td></tr><tr><td>Lebanon</td><td>Beirut</td><td>2009</td><td>70.27123287671228</td></tr><tr><td>Qatar</td><td>Doha</td><td>2005</td><td>82.35698630136989</td></tr><tr><td>Turkey</td><td>Ankara</td><td>2001</td><td>52.77095890410957</td></tr><tr><td>Mexico</td><td>Mexico City</td><td>2015</td><td>62.285792349726805</td></tr><tr><td>Mexico</td><td>Mexico City</td><td>2017</td><td>63.30383561643839</td></tr><tr><td>Slovakia</td><td>Bratislava</td><td>2020</td><td>44.66940298507463</td></tr><tr><td>Switzerland</td><td>Bern</td><td>2000</td><td>50.42295081967218</td></tr><tr><td>Bahrain</td><td>Manama</td><td>2020</td><td>72.23880597014929</td></tr><tr><td>Turkey</td><td>Ankara</td><td>2014</td><td>53.39643835616435</td></tr><tr><td>Bermuda</td><td>Hamilton</td><td>2000</td><td>71.13661202185796</td></tr><tr><td>Qatar</td><td>Doha</td><td>2003</td><td>82.76958904109587</td></tr><tr><td>Sweden</td><td>Stockholm</td><td>2006</td><td>46.569041095890405</td></tr><tr><td>Lebanon</td><td>Beirut</td><td>2007</td><td>69.76054794520545</td></tr><tr><td>Sweden</td><td>Stockholm</td><td>2011</td><td>46.610958904109566</td></tr><tr><td>Switzerland</td><td>Bern</td><td>2016</td><td>47.51666666666663</td></tr><tr><td>Barbados</td><td>Bridgetown</td><td>2006</td><td>81.66904109589044</td></tr><tr><td>Slovakia</td><td>Bratislava</td><td>2008</td><td>52.688251366120205</td></tr><tr><td>Slovakia</td><td>Bratislava</td><td>2012</td><td>52.88387978142072</td></tr><tr><td>Spain</td><td>Madrid</td><td>2019</td><td>58.01808219178085</td></tr><tr><td>Jordan</td><td>Amman</td><td>2004</td><td>64.25956284153001</td></tr><tr><td>Syria</td><td>Damascus</td><td>2007</td><td>63.26657534246577</td></tr><tr><td>Slovakia</td><td>Bratislava</td><td>2007</td><td>53.0627397260274</td></tr><tr><td>Turkey</td><td>Ankara</td><td>2005</td><td>50.87178082191779</td></tr><tr><td>Canada</td><td>Ottawa</td><td>2007</td><td>43.6482191780822</td></tr><tr><td>Bermuda</td><td>Hamilton</td><td>2006</td><td>70.91534246575345</td></tr><tr><td>Spain</td><td>Madrid</td><td>2001</td><td>57.30356164383564</td></tr><tr><td>Qatar</td><td>Doha</td><td>2008</td><td>81.5371584699453</td></tr><tr><td>Syria</td><td>Damascus</td><td>2002</td><td>62.03068493150682</td></tr><tr><td>Canada</td><td>Ottawa</td><td>2008</td><td>42.84234972677597</td></tr><tr><td>Switzerland</td><td>Bern</td><td>2013</td><td>47.89287671232874</td></tr><tr><td>Guatemala</td><td>Guatemala City</td><td>2004</td><td>64.03224043715848</td></tr><tr><td>Panama</td><td>Panama City</td><td>2002</td><td>79.69561643835618</td></tr><tr><td>Suriname</td><td>Paramaribo</td><td>2000</td><td>-5.2237704918032675</td></tr><tr><td>Venezuela</td><td>Caracas</td><td>2006</td><td>80.76849315068492</td></tr><tr><td>Guyana</td><td>Georgetown</td><td>2004</td><td>-35.47814207650273</td></tr><tr><td>Peru</td><td>Lima</td><td>2009</td><td>67.28904109589038</td></tr><tr><td>Venezuela</td><td>Caracas</td><td>2020</td><td>80.26165413533833</td></tr><tr><td>Suriname</td><td>Paramaribo</td><td>2019</td><td>76.9043835616438</td></tr><tr><td>Suriname</td><td>Paramaribo</td><td>2015</td><td>78.56557377049178</td></tr><tr><td>Guatemala</td><td>Guatemala City</td><td>2017</td><td>66.8315068493151</td></tr><tr><td>Peru</td><td>Lima</td><td>2011</td><td>66.97726027397253</td></tr><tr><td>Dominican Republic</td><td>Santo Domingo</td><td>2011</td><td>78.98164383561655</td></tr><tr><td>Peru</td><td>Lima</td><td>2001</td><td>64.26958904109591</td></tr><tr><td>Suriname</td><td>Paramaribo</td><td>2012</td><td>79.42404371584702</td></tr><tr><td>Suriname</td><td>Paramaribo</td><td>2007</td><td>62.43114754098359</td></tr><tr><td>Suriname</td><td>Paramaribo</td><td>2017</td><td>79.08876712328768</td></tr><tr><td>Guatemala</td><td>Guatemala City</td><td>2001</td><td>62.17123287671231</td></tr><tr><td>Guatemala</td><td>Guatemala City</td><td>2010</td><td>66.59068493150683</td></tr><tr><td>Nicaragua</td><td>Managua</td><td>2008</td><td>77.2352459016393</td></tr><tr><td>Nicaragua</td><td>Managua</td><td>2017</td><td>81.49041095890406</td></tr><tr><td>Panama</td><td>Panama City</td><td>2009</td><td>80.72438356164385</td></tr><tr><td>Cuba</td><td>Havana</td><td>2008</td><td>70.8046448087431</td></tr><tr><td>Nicaragua</td><td>Managua</td><td>2000</td><td>78.46666666666665</td></tr><tr><td>Cuba</td><td>Havana</td><td>2014</td><td>74.90246575342462</td></tr><tr><td>Dominican Republic</td><td>Santo Domingo</td><td>2014</td><td>47.827671232876746</td></tr><tr><td>Honduras</td><td>Tegucigalpa</td><td>2010</td><td>69.90958904109588</td></tr><tr><td>Guatemala</td><td>Guatemala City</td><td>2006</td><td>66.11479452054786</td></tr><tr><td>Venezuela</td><td>Caracas</td><td>2017</td><td>70.88767123287674</td></tr><tr><td>Cuba</td><td>Havana</td><td>2003</td><td>75.31397260273974</td></tr><tr><td>Panama</td><td>Panama City</td><td>2012</td><td>80.93251366120218</td></tr><tr><td>Guatemala</td><td>Guatemala City</td><td>2000</td><td>64.94945355191254</td></tr><tr><td>Honduras</td><td>Tegucigalpa</td><td>2013</td><td>71.63123287671232</td></tr><tr><td>Guyana</td><td>Georgetown</td><td>2010</td><td>-84.93315068493152</td></tr><tr><td>Panama</td><td>Panama City</td><td>2011</td><td>80.13342465753426</td></tr><tr><td>Suriname</td><td>Paramaribo</td><td>2010</td><td>72.1890410958904</td></tr><tr><td>Honduras</td><td>Tegucigalpa</td><td>2020</td><td>58.478195488721816</td></tr><tr><td>Panama</td><td>Panama City</td><td>2017</td><td>79.29260273972601</td></tr><tr><td>Honduras</td><td>Tegucigalpa</td><td>2016</td><td>70.88114754098362</td></tr><tr><td>Nicaragua</td><td>Managua</td><td>2016</td><td>81.20218579234968</td></tr><tr><td>Panama</td><td>Panama City</td><td>2019</td><td>77.65315068493152</td></tr><tr><td>Panama</td><td>Panama City</td><td>2005</td><td>80.40739726027392</td></tr><tr><td>Peru</td><td>Lima</td><td>2002</td><td>63.96027397260273</td></tr><tr><td>Suriname</td><td>Paramaribo</td><td>2008</td><td>40.08283378746594</td></tr><tr><td>Panama</td><td>Panama City</td><td>2015</td><td>79.94398907103825</td></tr><tr><td>Dominican Republic</td><td>Santo Domingo</td><td>2012</td><td>68.78169398907102</td></tr><tr><td>Honduras</td><td>Tegucigalpa</td><td>2006</td><td>66.10876712328765</td></tr><tr><td>Peru</td><td>Lima</td><td>2006</td><td>67.40219178082191</td></tr><tr><td>Nicaragua</td><td>Managua</td><td>2004</td><td>78.56967213114753</td></tr><tr><td>Honduras</td><td>Tegucigalpa</td><td>2019</td><td>68.82767123287668</td></tr><tr><td>Nicaragua</td><td>Managua</td><td>2009</td><td>81.4213698630137</td></tr><tr><td>Venezuela</td><td>Caracas</td><td>2008</td><td>80.75136612021853</td></tr><tr><td>Venezuela</td><td>Caracas</td><td>2005</td><td>82.28082191780815</td></tr><tr><td>Honduras</td><td>Tegucigalpa</td><td>2008</td><td>67.7478142076503</td></tr><tr><td>Dominican Republic</td><td>Santo Domingo</td><td>2020</td><td>66.12631578947365</td></tr><tr><td>Cuba</td><td>Havana</td><td>2015</td><td>75.81803278688521</td></tr><tr><td>Suriname</td><td>Paramaribo</td><td>2006</td><td>34.62164383561646</td></tr><tr><td>Venezuela</td><td>Caracas</td><td>2016</td><td>61.95765027322411</td></tr><tr><td>Cuba</td><td>Havana</td><td>2017</td><td>75.82876712328765</td></tr><tr><td>Guyana</td><td>Georgetown</td><td>2005</td><td>28.39616438356166</td></tr><tr><td>Cuba</td><td>Havana</td><td>2005</td><td>75.96767123287678</td></tr><tr><td>Dominican Republic</td><td>Santo Domingo</td><td>2010</td><td>80.13123287671242</td></tr><tr><td>Peru</td><td>Lima</td><td>2000</td><td>65.25191256830598</td></tr><tr><td>Suriname</td><td>Paramaribo</td><td>2020</td><td>79.22985074626867</td></tr><tr><td>Guyana</td><td>Georgetown</td><td>2000</td><td>27.54999999999998</td></tr><tr><td>Venezuela</td><td>Caracas</td><td>2009</td><td>82.32821917808208</td></tr><tr><td>Guatemala</td><td>Guatemala City</td><td>2013</td><td>66.83205479452054</td></tr><tr><td>Guatemala</td><td>Guatemala City</td><td>2019</td><td>64.95780821917808</td></tr><tr><td>Guatemala</td><td>Guatemala City</td><td>2007</td><td>66.50876712328767</td></tr><tr><td>Venezuela</td><td>Caracas</td><td>2012</td><td>81.45327868852459</td></tr><tr><td>Cuba</td><td>Havana</td><td>2011</td><td>75.34219178082188</td></tr><tr><td>Guatemala</td><td>Guatemala City</td><td>2018</td><td>64.16657534246578</td></tr><tr><td>Venezuela</td><td>Caracas</td><td>2013</td><td>80.91506849315064</td></tr><tr><td>Guatemala</td><td>Guatemala City</td><td>2002</td><td>63.49917808219171</td></tr><tr><td>Dominican Republic</td><td>Santo Domingo</td><td>2000</td><td>73.00710382513658</td></tr><tr><td>Guatemala</td><td>Guatemala City</td><td>2008</td><td>63.0795081967213</td></tr><tr><td>Panama</td><td>Panama City</td><td>2004</td><td>78.35655737704921</td></tr><tr><td>Panama</td><td>Panama City</td><td>2008</td><td>76.54672131147547</td></tr><tr><td>Nicaragua</td><td>Managua</td><td>2007</td><td>81.22849315068493</td></tr><tr><td>Cuba</td><td>Havana</td><td>2018</td><td>73.50164383561642</td></tr><tr><td>Dominican Republic</td><td>Santo Domingo</td><td>2019</td><td>75.61808219178084</td></tr><tr><td>Cuba</td><td>Havana</td><td>2013</td><td>75.91671232876712</td></tr><tr><td>Panama</td><td>Panama City</td><td>2006</td><td>78.47232876712329</td></tr><tr><td>Suriname</td><td>Paramaribo</td><td>2014</td><td>78.49589041095889</td></tr><tr><td>Nicaragua</td><td>Managua</td><td>2002</td><td>79.66767123287673</td></tr><tr><td>Cuba</td><td>Havana</td><td>2019</td><td>73.86191780821919</td></tr><tr><td>Honduras</td><td>Tegucigalpa</td><td>2000</td><td>67.41010928961754</td></tr><tr><td>Peru</td><td>Lima</td><td>2010</td><td>66.65917808219174</td></tr><tr><td>Suriname</td><td>Paramaribo</td><td>2002</td><td>-15.690410958904119</td></tr><tr><td>Dominican Republic</td><td>Santo Domingo</td><td>2006</td><td>69.78219178082192</td></tr><tr><td>Suriname</td><td>Paramaribo</td><td>2011</td><td>72.61863013698634</td></tr><tr><td>Suriname</td><td>Paramaribo</td><td>2016</td><td>65.8997267759563</td></tr><tr><td>Panama</td><td>Panama City</td><td>2014</td><td>80.56630136986304</td></tr><tr><td>Guyana</td><td>Georgetown</td><td>2002</td><td>35.87369863013699</td></tr><tr><td>Cuba</td><td>Havana</td><td>2004</td><td>73.35109289617489</td></tr><tr><td>Honduras</td><td>Tegucigalpa</td><td>2005</td><td>67.19123287671233</td></tr><tr><td>Nicaragua</td><td>Managua</td><td>2001</td><td>81.57616438356169</td></tr><tr><td>Panama</td><td>Panama City</td><td>2007</td><td>78.43643835616442</td></tr><tr><td>Nicaragua</td><td>Managua</td><td>2015</td><td>80.62923497267761</td></tr><tr><td>Venezuela</td><td>Caracas</td><td>2001</td><td>79.80164383561649</td></tr><tr><td>Honduras</td><td>Tegucigalpa</td><td>2003</td><td>70.82</td></tr><tr><td>Guyana</td><td>Georgetown</td><td>2006</td><td>-3.4051912568305993</td></tr><tr><td>Cuba</td><td>Havana</td><td>2009</td><td>74.11726027397262</td></tr><tr><td>Guyana</td><td>Georgetown</td><td>2011</td><td>-13.730063291139249</td></tr><tr><td>Honduras</td><td>Tegucigalpa</td><td>2012</td><td>71.0155737704918</td></tr><tr><td>Panama</td><td>Panama City</td><td>2013</td><td>79.86767123287666</td></tr><tr><td>Cuba</td><td>Havana</td><td>2002</td><td>74.03890410958903</td></tr><tr><td>Cuba</td><td>Havana</td><td>2001</td><td>70.97232876712332</td></tr><tr><td>Guatemala</td><td>Guatemala City</td><td>2005</td><td>66.458904109589</td></tr><tr><td>Nicaragua</td><td>Managua</td><td>2011</td><td>80.69835616438363</td></tr><tr><td>Nicaragua</td><td>Managua</td><td>2005</td><td>80.59013698630125</td></tr><tr><td>Nicaragua</td><td>Managua</td><td>2020</td><td>82.916814159292</td></tr><tr><td>Dominican Republic</td><td>Santo Domingo</td><td>2005</td><td>77.32109589041089</td></tr><tr><td>Barbados</td><td>Bridgetown</td><td>2018</td><td>77.8857142857143</td></tr><tr><td>Guatemala</td><td>Guatemala City</td><td>2011</td><td>66.50109589041092</td></tr><tr><td>Panama</td><td>Panama City</td><td>2003</td><td>80.11835616438357</td></tr><tr><td>Peru</td><td>Lima</td><td>2015</td><td>69.61708074534167</td></tr><tr><td>Suriname</td><td>Paramaribo</td><td>2013</td><td>79.11671232876714</td></tr><tr><td>Dominican Republic</td><td>Santo Domingo</td><td>2016</td><td>74.74071038251367</td></tr><tr><td>Guatemala</td><td>Guatemala City</td><td>2009</td><td>65.33424657534246</td></tr><tr><td>Suriname</td><td>Paramaribo</td><td>2001</td><td>58.50520547945205</td></tr><tr><td>Nicaragua</td><td>Managua</td><td>2010</td><td>79.43945205479454</td></tr><tr><td>Venezuela</td><td>Caracas</td><td>2002</td><td>79.40876712328765</td></tr><tr><td>Cuba</td><td>Havana</td><td>2000</td><td>67.05983606557378</td></tr><tr><td>Peru</td><td>Lima</td><td>2005</td><td>66.30794520547947</td></tr><tr><td>Dominican Republic</td><td>Santo Domingo</td><td>2008</td><td>70.38360655737701</td></tr><tr><td>Dominican Republic</td><td>Santo Domingo</td><td>2013</td><td>22.55561643835617</td></tr><tr><td>Honduras</td><td>Tegucigalpa</td><td>2009</td><td>64.81780821917802</td></tr><tr><td>Panama</td><td>Panama City</td><td>2018</td><td>76.95479452054798</td></tr><tr><td>Suriname</td><td>Paramaribo</td><td>2018</td><td>73.36273972602744</td></tr><tr><td>Venezuela</td><td>Caracas</td><td>2014</td><td>80.14794520547945</td></tr><tr><td>Suriname</td><td>Paramaribo</td><td>2004</td><td>-23.654644808743182</td></tr><tr><td>Venezuela</td><td>Caracas</td><td>2010</td><td>82.11205479452057</td></tr><tr><td>Honduras</td><td>Tegucigalpa</td><td>2007</td><td>70.26657534246573</td></tr><tr><td>Panama</td><td>Panama City</td><td>2000</td><td>81.26038251366126</td></tr><tr><td>Dominican Republic</td><td>Santo Domingo</td><td>2004</td><td>71.74808743169397</td></tr><tr><td>Nicaragua</td><td>Managua</td><td>2006</td><td>80.81726027397266</td></tr><tr><td>Nicaragua</td><td>Managua</td><td>2019</td><td>79.15835616438358</td></tr><tr><td>Panama</td><td>Panama City</td><td>2001</td><td>79.37232876712329</td></tr><tr><td>Panama</td><td>Panama City</td><td>2016</td><td>78.06092896174863</td></tr><tr><td>Honduras</td><td>Tegucigalpa</td><td>2004</td><td>63.99999999999996</td></tr><tr><td>Guatemala</td><td>Guatemala City</td><td>2020</td><td>68.16417910447763</td></tr><tr><td>Dominican Republic</td><td>Santo Domingo</td><td>2001</td><td>74.39369863013694</td></tr><tr><td>Panama</td><td>Panama City</td><td>2020</td><td>81.89402985074626</td></tr><tr><td>Dominican Republic</td><td>Santo Domingo</td><td>2018</td><td>74.76054794520547</td></tr><tr><td>Honduras</td><td>Tegucigalpa</td><td>2018</td><td>67.97753424657537</td></tr><tr><td>Peru</td><td>Lima</td><td>2012</td><td>68.47295081967206</td></tr><tr><td>Cuba</td><td>Havana</td><td>2010</td><td>74.42739726027399</td></tr><tr><td>Honduras</td><td>Tegucigalpa</td><td>2015</td><td>72.16393442622949</td></tr><tr><td>Cuba</td><td>Havana</td><td>2007</td><td>75.60356164383565</td></tr><tr><td>Peru</td><td>Lima</td><td>2004</td><td>66.5786885245902</td></tr><tr><td>Venezuela</td><td>Caracas</td><td>2004</td><td>81.48087431693988</td></tr><tr><td>Venezuela</td><td>Caracas</td><td>2019</td><td>70.99835616438355</td></tr><tr><td>Cuba</td><td>Havana</td><td>2012</td><td>75.05109289617485</td></tr><tr><td>Dominican Republic</td><td>Santo Domingo</td><td>2015</td><td>74.73551912568307</td></tr><tr><td>Peru</td><td>Lima</td><td>2007</td><td>64.98273972602735</td></tr><tr><td>Guatemala</td><td>Guatemala City</td><td>2015</td><td>65.6978142076502</td></tr><tr><td>Guyana</td><td>Georgetown</td><td>2001</td><td>46.002191780821896</td></tr><tr><td>Honduras</td><td>Tegucigalpa</td><td>2002</td><td>66.59315068493147</td></tr><tr><td>Peru</td><td>Lima</td><td>2014</td><td>67.07890410958902</td></tr><tr><td>Venezuela</td><td>Caracas</td><td>2018</td><td>72.614794520548</td></tr><tr><td>Peru</td><td>Lima</td><td>2013</td><td>66.15643835616444</td></tr><tr><td>Suriname</td><td>Paramaribo</td><td>2003</td><td>-19.69835616438356</td></tr><tr><td>Guatemala</td><td>Guatemala City</td><td>2012</td><td>66.37103825136612</td></tr><tr><td>Honduras</td><td>Tegucigalpa</td><td>2001</td><td>69.7810958904109</td></tr><tr><td>Panama</td><td>Panama City</td><td>2010</td><td>80.17260273972605</td></tr><tr><td>Peru</td><td>Lima</td><td>2003</td><td>64.37726027397258</td></tr><tr><td>Honduras</td><td>Tegucigalpa</td><td>2011</td><td>71.04328767123289</td></tr><tr><td>Peru</td><td>Lima</td><td>2008</td><td>66.56803278688523</td></tr><tr><td>Venezuela</td><td>Caracas</td><td>2003</td><td>81.12684931506847</td></tr><tr><td>Dominican Republic</td><td>Santo Domingo</td><td>2007</td><td>72.76684931506846</td></tr><tr><td>Guatemala</td><td>Guatemala City</td><td>2003</td><td>63.587671232876744</td></tr><tr><td>Dominican Republic</td><td>Santo Domingo</td><td>2017</td><td>79.12876712328769</td></tr><tr><td>Suriname</td><td>Paramaribo</td><td>2005</td><td>75.21315068493152</td></tr><tr><td>Guatemala</td><td>Guatemala City</td><td>2014</td><td>65.89315068493154</td></tr><tr><td>Guyana</td><td>Georgetown</td><td>2003</td><td>13.200547945205484</td></tr><tr><td>Cuba</td><td>Havana</td><td>2020</td><td>75.2390977443609</td></tr><tr><td>Nicaragua</td><td>Managua</td><td>2003</td><td>80.41917808219182</td></tr><tr><td>Venezuela</td><td>Caracas</td><td>2007</td><td>81.23780821917806</td></tr><tr><td>Dominican Republic</td><td>Santo Domingo</td><td>2009</td><td>77.94821917808216</td></tr><tr><td>Honduras</td><td>Tegucigalpa</td><td>2017</td><td>71.36986301369873</td></tr><tr><td>Cuba</td><td>Havana</td><td>2016</td><td>74.04590163934421</td></tr><tr><td>Venezuela</td><td>Caracas</td><td>2000</td><td>78.7229508196721</td></tr><tr><td>Nicaragua</td><td>Managua</td><td>2013</td><td>81.91863013698625</td></tr><tr><td>Venezuela</td><td>Caracas</td><td>2011</td><td>77.98136986301365</td></tr><tr><td>Venezuela</td><td>Caracas</td><td>2015</td><td>79.98224043715857</td></tr><tr><td>Honduras</td><td>Tegucigalpa</td><td>2014</td><td>71.54630136986297</td></tr><tr><td>Nicaragua</td><td>Managua</td><td>2018</td><td>78.81589041095884</td></tr><tr><td>Nicaragua</td><td>Managua</td><td>2014</td><td>81.55452054794524</td></tr><tr><td>Dominican Republic</td><td>Santo Domingo</td><td>2002</td><td>76.71506849315071</td></tr><tr><td>Dominican Republic</td><td>Santo Domingo</td><td>2003</td><td>76.83945205479452</td></tr><tr><td>Nicaragua</td><td>Managua</td><td>2012</td><td>80.73961748633879</td></tr><tr><td>Cuba</td><td>Havana</td><td>2006</td><td>75.97205479452047</td></tr><tr><td>Guatemala</td><td>Guatemala City</td><td>2016</td><td>65.66939890710377</td></tr><tr><td>Suriname</td><td>Paramaribo</td><td>2009</td><td>27.72082191780822</td></tr></tbody></table></div>"
      ]
     },
     "metadata": {
      "application/vnd.databricks.v1+output": {
       "addedWidgets": {},
       "aggData": [],
       "aggError": "",
       "aggOverflow": false,
       "aggSchema": [],
       "aggSeriesLimitReached": false,
       "aggType": "",
       "arguments": {},
       "columnCustomDisplayInfos": {},
       "data": [
        [
         "Egypt",
         "Cairo",
         2003,
         71.87999999999997
        ],
        [
         "Laos",
         "Vientiane",
         2017,
         80.4443835616438
        ],
        [
         "Mauritania",
         "Nouakchott",
         2015,
         77.83442622950817
        ],
        [
         "Senegal",
         "Dakar",
         2003,
         75.94383561643835
        ],
        [
         "North Korea",
         "Pyongyang",
         2008,
         51.5325136612022
        ],
        [
         "Kenya",
         "Nairobi",
         2015,
         55.10081967213115
        ],
        [
         "Sierra Leone",
         "Freetown",
         2011,
         3.239726027397261
        ],
        [
         "Mauritania",
         "Nouakchott",
         2001,
         74.31452054794518
        ],
        [
         "China",
         "Beijing",
         2012,
         53.6983606557377
        ],
        [
         "Guinea-Bissau",
         "Bissau",
         2013,
         73.53205479452053
        ],
        [
         "Mozambique",
         "Maputo",
         2006,
         69.2454794520549
        ],
        [
         "Kenya",
         "Nairobi",
         2002,
         8.015890410958905
        ],
        [
         "Mauritania",
         "Nouakchott",
         2010,
         78.93315068493155
        ],
        [
         "Laos",
         "Vientiane",
         2016,
         79.58688524590168
        ],
        [
         "Kenya",
         "Nairobi",
         2005,
         54.132602739726025
        ],
        [
         "Kenya",
         "Nairobi",
         2006,
         -42.434699453551914
        ],
        [
         "Malawi",
         "Lilongwe",
         2002,
         -39.43863013698636
        ],
        [
         "Namibia",
         "Windhoek",
         2010,
         64.91041095890408
        ],
        [
         "Senegal",
         "Dakar",
         2004,
         76.17431693989074
        ],
        [
         "Guinea-Bissau",
         "Bissau",
         2010,
         77.74794520547954
        ],
        [
         "Namibia",
         "Windhoek",
         2003,
         42.141917808219155
        ],
        [
         "Mozambique",
         "Maputo",
         2013,
         69.7419178082192
        ],
        [
         "Algeria",
         "Algiers",
         2002,
         62.347671232876685
        ],
        [
         "Gabon",
         "Libreville",
         2012,
         78.33251366120213
        ],
        [
         "Mozambique",
         "Maputo",
         2000,
         46.265846994535444
        ],
        [
         "Laos",
         "Vientiane",
         2015,
         80.62158469945359
        ],
        [
         "Senegal",
         "Dakar",
         2011,
         76.56438356164385
        ],
        [
         "Madagascar",
         "Antananarivo",
         2014,
         65.8358904109589
        ],
        [
         "Namibia",
         "Windhoek",
         2016,
         64.85327868852458
        ],
        [
         "Senegal",
         "Dakar",
         2012,
         76.36202185792351
        ],
        [
         "Zambia",
         "Lusaka",
         2010,
         66.27178082191777
        ],
        [
         "Japan",
         "Tokyo",
         2004,
         62.665846994535464
        ],
        [
         "Algeria",
         "Algiers",
         2004,
         64.08743169398907
        ],
        [
         "Ethiopia",
         "Addis Ababa",
         2006,
         23.27698630136985
        ],
        [
         "Kenya",
         "Nairobi",
         2013,
         51.21287671232875
        ],
        [
         "China",
         "Beijing",
         2005,
         55.310136986301345
        ],
        [
         "Guinea-Bissau",
         "Bissau",
         2015,
         71.698087431694
        ],
        [
         "Tunisia",
         "Tunis",
         2002,
         65.05178082191782
        ],
        [
         "Tunisia",
         "Tunis",
         2015,
         66.50846994535519
        ],
        [
         "Algeria",
         "Algiers",
         2017,
         64.99589041095896
        ],
        [
         "Madagascar",
         "Antananarivo",
         2010,
         66.6101369863014
        ],
        [
         "Japan",
         "Tokyo",
         2005,
         60.659726027397205
        ],
        [
         "Malawi",
         "Lilongwe",
         2005,
         -99.0
        ],
        [
         "Bangladesh",
         "Dhaka",
         2001,
         34.58931506849317
        ],
        [
         "Japan",
         "Tokyo",
         2015,
         61.57704918032787
        ],
        [
         "North Korea",
         "Pyongyang",
         2014,
         52.3835616438356
        ],
        [
         "Guinea",
         "Conakry",
         2013,
         78.4320547945206
        ],
        [
         "Gabon",
         "Libreville",
         2010,
         80.13753424657536
        ],
        [
         "Gabon",
         "Libreville",
         2018,
         78.26301369863017
        ],
        [
         "Guinea-Bissau",
         "Bissau",
         2001,
         -99.0
        ],
        [
         "Namibia",
         "Windhoek",
         2017,
         66.76794520547948
        ],
        [
         "Gambia",
         "Banjul",
         2012,
         78.99808743169402
        ],
        [
         "Mauritania",
         "Nouakchott",
         2003,
         74.12520547945205
        ],
        [
         "Malaysia",
         "Kuala Lumpur",
         2000,
         79.80136612021853
        ],
        [
         "Malaysia",
         "Kuala Lumpur",
         2001,
         81.98191780821918
        ],
        [
         "Egypt",
         "Cairo",
         2018,
         73.32191780821915
        ],
        [
         "Kenya",
         "Nairobi",
         2020,
         67.72089552238808
        ],
        [
         "Uganda",
         "Kampala",
         2005,
         30.586575342465775
        ],
        [
         "Bangladesh",
         "Dhaka",
         2006,
         40.75260273972604
        ],
        [
         "Central African Republic",
         "Bangui",
         2016,
         77.34016393442619
        ],
        [
         "Uganda",
         "Kampala",
         2017,
         72.87808219178083
        ],
        [
         "Algeria",
         "Algiers",
         2018,
         62.18082191780824
        ],
        [
         "Kenya",
         "Nairobi",
         2003,
         43.98
        ],
        [
         "Namibia",
         "Windhoek",
         2013,
         68.68493150684928
        ],
        [
         "Uganda",
         "Kampala",
         2013,
         39.948493150684946
        ],
        [
         "Zambia",
         "Lusaka",
         2004,
         65.01174863387982
        ],
        [
         "Malaysia",
         "Kuala Lumpur",
         2013,
         82.33534246575341
        ],
        [
         "Ethiopia",
         "Addis Ababa",
         2019,
         55.12410958904113
        ],
        [
         "Tunisia",
         "Tunis",
         2009,
         66.82876712328766
        ],
        [
         "Central African Republic",
         "Bangui",
         2018,
         76.05178082191783
        ],
        [
         "Egypt",
         "Cairo",
         2002,
         70.63095890410956
        ],
        [
         "Mauritania",
         "Nouakchott",
         2000,
         74.6877049180328
        ],
        [
         "Bangladesh",
         "Dhaka",
         2008,
         -19.79098360655736
        ],
        [
         "Japan",
         "Tokyo",
         2007,
         61.625205479452035
        ],
        [
         "Algeria",
         "Algiers",
         2019,
         62.29698630136982
        ],
        [
         "Central African Republic",
         "Bangui",
         2019,
         62.85260273972601
        ],
        [
         "Gabon",
         "Libreville",
         2004,
         63.71092896174868
        ],
        [
         "Madagascar",
         "Antananarivo",
         2001,
         66.20657534246575
        ],
        [
         "Namibia",
         "Windhoek",
         2008,
         64.47459016393441
        ],
        [
         "Laos",
         "Vientiane",
         2006,
         80.73643835616444
        ],
        [
         "Gabon",
         "Libreville",
         2015,
         78.99672131147537
        ],
        [
         "Namibia",
         "Windhoek",
         2012,
         66.9254098360656
        ],
        [
         "Guinea",
         "Conakry",
         2015,
         63.526229508196714
        ],
        [
         "Namibia",
         "Windhoek",
         2006,
         62.9731506849315
        ],
        [
         "Senegal",
         "Dakar",
         2013,
         76.58082191780818
        ],
        [
         "Tunisia",
         "Tunis",
         2006,
         67.49260273972604
        ],
        [
         "Indonesia",
         "Jakarta",
         2000,
         -66.67267759562841
        ],
        [
         "Japan",
         "Tokyo",
         2018,
         61.79917808219173
        ],
        [
         "North Korea",
         "Pyongyang",
         2006,
         34.47753424657533
        ],
        [
         "Gambia",
         "Banjul",
         2020,
         79.41716417910446
        ],
        [
         "Uganda",
         "Kampala",
         2018,
         69.8309589041096
        ],
        [
         "Burundi",
         "Bujumbura",
         2004,
         -77.40819672131148
        ],
        [
         "Ethiopia",
         "Addis Ababa",
         2002,
         -48.32219178082191
        ],
        [
         "Gambia",
         "Banjul",
         2014,
         77.82191780821923
        ],
        [
         "Kyrgyzstan",
         "Bishkek",
         2006,
         54.153698630137
        ],
        [
         "Central African Republic",
         "Bangui",
         2020,
         81.41343283582091
        ],
        [
         "Gambia",
         "Banjul",
         2004,
         63.83196721311479
        ],
        [
         "Uganda",
         "Kampala",
         2011,
         64.34821917808216
        ],
        [
         "Uganda",
         "Kampala",
         2012,
         54.38497267759564
        ],
        [
         "Algeria",
         "Algiers",
         2013,
         63.70465753424658
        ],
        [
         "Egypt",
         "Cairo",
         2010,
         75.51150684931515
        ],
        [
         "Tunisia",
         "Tunis",
         2013,
         67.30219178082193
        ],
        [
         "Ethiopia",
         "Addis Ababa",
         2008,
         -1.9795081967213164
        ],
        [
         "Tunisia",
         "Tunis",
         2014,
         67.81671232876712
        ],
        [
         "Morocco",
         "Rabat",
         2005,
         62.972602739726085
        ],
        [
         "Japan",
         "Tokyo",
         2011,
         61.61452054794516
        ],
        [
         "Malaysia",
         "Kuala Lumpur",
         2007,
         80.7882191780822
        ],
        [
         "Malawi",
         "Lilongwe",
         2011,
         51.22136986301373
        ],
        [
         "Indonesia",
         "Jakarta",
         2020,
         83.18345864661653
        ],
        [
         "Burundi",
         "Bujumbura",
         2000,
         -99.0
        ],
        [
         "Morocco",
         "Rabat",
         2017,
         64.20931506849317
        ],
        [
         "Sierra Leone",
         "Freetown",
         2001,
         -99.0
        ],
        [
         "Uganda",
         "Kampala",
         2015,
         70.86475409836069
        ],
        [
         "China",
         "Beijing",
         2018,
         54.14356164383562
        ],
        [
         "Malaysia",
         "Kuala Lumpur",
         2012,
         82.97950819672128
        ],
        [
         "Ethiopia",
         "Addis Ababa",
         2012,
         58.07568306010927
        ],
        [
         "Mozambique",
         "Maputo",
         2016,
         72.91147540983607
        ],
        [
         "Zambia",
         "Lusaka",
         2002,
         65.45260273972602
        ],
        [
         "Zambia",
         "Lusaka",
         2008,
         62.68224043715847
        ],
        [
         "Namibia",
         "Windhoek",
         2015,
         64.60983606557375
        ],
        [
         "Egypt",
         "Cairo",
         2011,
         71.86027397260276
        ],
        [
         "Mauritania",
         "Nouakchott",
         2007,
         76.85890410958905
        ],
        [
         "Bangladesh",
         "Dhaka",
         2004,
         -4.695355191256832
        ],
        [
         "Zambia",
         "Lusaka",
         2000,
         55.88579234972675
        ],
        [
         "Malaysia",
         "Kuala Lumpur",
         2018,
         79.53424657534245
        ],
        [
         "Gabon",
         "Libreville",
         2017,
         80.36630136986297
        ],
        [
         "Tunisia",
         "Tunis",
         2011,
         67.13698630136986
        ],
        [
         "Tunisia",
         "Tunis",
         2012,
         67.28879781420764
        ],
        [
         "Namibia",
         "Windhoek",
         2020,
         72.19850746268656
        ],
        [
         "Zambia",
         "Lusaka",
         2005,
         68.27424657534249
        ],
        [
         "Kenya",
         "Nairobi",
         2017,
         60.38246575342463
        ],
        [
         "Mozambique",
         "Maputo",
         2014,
         69.38602739726025
        ],
        [
         "Bangladesh",
         "Dhaka",
         2010,
         47.048181818181774
        ],
        [
         "Kyrgyzstan",
         "Bishkek",
         2012,
         52.36994535519127
        ],
        [
         "Malaysia",
         "Kuala Lumpur",
         2010,
         83.42794520547947
        ],
        [
         "Burundi",
         "Bujumbura",
         2007,
         -8.80250000000001
        ],
        [
         "Algeria",
         "Algiers",
         2016,
         63.51612021857921
        ],
        [
         "Senegal",
         "Dakar",
         2014,
         75.57397260273967
        ],
        [
         "China",
         "Beijing",
         2007,
         56.32438356164386
        ],
        [
         "Gambia",
         "Banjul",
         2011,
         78.74191780821917
        ],
        [
         "Guinea",
         "Conakry",
         2020,
         82.5105263157895
        ],
        [
         "Kenya",
         "Nairobi",
         2016,
         54.690958904109564
        ],
        [
         "Mozambique",
         "Maputo",
         2004,
         65.21967213114756
        ],
        [
         "Uganda",
         "Kampala",
         2016,
         72.39043715846994
        ],
        [
         "Malaysia",
         "Kuala Lumpur",
         2015,
         81.74617486338795
        ],
        [
         "Gabon",
         "Libreville",
         2005,
         77.6709589041096
        ],
        [
         "Madagascar",
         "Antananarivo",
         2017,
         66.2049315068493
        ],
        [
         "Gambia",
         "Banjul",
         2007,
         58.57841530054645
        ],
        [
         "Mozambique",
         "Maputo",
         2005,
         64.54684931506848
        ],
        [
         "Uganda",
         "Kampala",
         2004,
         -45.04180327868849
        ],
        [
         "Kyrgyzstan",
         "Bishkek",
         2009,
         52.65561643835621
        ],
        [
         "Malaysia",
         "Kuala Lumpur",
         2016,
         81.46775956284155
        ],
        [
         "Burundi",
         "Bujumbura",
         2006,
         -50.64876712328761
        ],
        [
         "Guinea",
         "Conakry",
         2012,
         38.73497267759564
        ],
        [
         "Tunisia",
         "Tunis",
         2001,
         67.51260273972602
        ],
        [
         "China",
         "Beijing",
         2006,
         55.92027397260275
        ],
        [
         "Central African Republic",
         "Bangui",
         2017,
         79.36164383561645
        ],
        [
         "Uganda",
         "Kampala",
         2000,
         35.456010928961746
        ],
        [
         "Egypt",
         "Cairo",
         2013,
         72.58520547945211
        ],
        [
         "Japan",
         "Tokyo",
         2009,
         61.12383561643826
        ],
        [
         "Malaysia",
         "Kuala Lumpur",
         2008,
         80.42622950819667
        ],
        [
         "North Korea",
         "Pyongyang",
         2018,
         49.63397260273972
        ],
        [
         "Malawi",
         "Lilongwe",
         2004,
         -99.0
        ],
        [
         "Kyrgyzstan",
         "Bishkek",
         2017,
         53.82767123287671
        ],
        [
         "Mozambique",
         "Maputo",
         2010,
         57.940000000000005
        ],
        [
         "Laos",
         "Vientiane",
         2018,
         78.41452054794519
        ],
        [
         "Central African Republic",
         "Bangui",
         2010,
         68.13808219178084
        ],
        [
         "Tunisia",
         "Tunis",
         2004,
         66.46721311475405
        ],
        [
         "Central African Republic",
         "Bangui",
         2014,
         75.35698630136991
        ],
        [
         "Egypt",
         "Cairo",
         2009,
         73.64739726027393
        ],
        [
         "Kyrgyzstan",
         "Bishkek",
         2013,
         54.89643835616442
        ],
        [
         "North Korea",
         "Pyongyang",
         2017,
         52.25452054794521
        ],
        [
         "Central African Republic",
         "Bangui",
         2000,
         68.64672131147542
        ],
        [
         "Mauritania",
         "Nouakchott",
         2002,
         72.43616438356169
        ],
        [
         "Mozambique",
         "Maputo",
         2002,
         73.01616438356163
        ],
        [
         "Senegal",
         "Dakar",
         2009,
         75.17671232876705
        ],
        [
         "Japan",
         "Tokyo",
         2002,
         59.35369863013701
        ],
        [
         "Laos",
         "Vientiane",
         2000,
         80.7754098360655
        ],
        [
         "Malawi",
         "Lilongwe",
         2003,
         -87.35808219178082
        ],
        [
         "Mozambique",
         "Maputo",
         2011,
         -23.073698630137006
        ],
        [
         "Mozambique",
         "Maputo",
         2020,
         77.71865671641794
        ],
        [
         "Morocco",
         "Rabat",
         2008,
         61.643989071038284
        ],
        [
         "Mozambique",
         "Maputo",
         2015,
         73.71393442622957
        ],
        [
         "Sierra Leone",
         "Freetown",
         2007,
         41.46273972602741
        ],
        [
         "North Korea",
         "Pyongyang",
         2016,
         50.95054644808742
        ],
        [
         "Burundi",
         "Bujumbura",
         2003,
         -98.50602739726027
        ],
        [
         "China",
         "Beijing",
         2014,
         56.39753424657534
        ],
        [
         "Indonesia",
         "Jakarta",
         2017,
         82.98575342465755
        ],
        [
         "Central African Republic",
         "Bangui",
         2004,
         74.44207650273223
        ],
        [
         "Morocco",
         "Rabat",
         2006,
         64.0693150684932
        ],
        [
         "China",
         "Beijing",
         2020,
         44.68358208955224
        ],
        [
         "Gabon",
         "Libreville",
         2003,
         75.94438356164382
        ],
        [
         "Gambia",
         "Banjul",
         2002,
         59.051506849315004
        ],
        [
         "Senegal",
         "Dakar",
         2001,
         76.93041095890412
        ],
        [
         "Laos",
         "Vientiane",
         2003,
         80.24712328767123
        ],
        [
         "Bangladesh",
         "Dhaka",
         2003,
         -1.0745205479452054
        ],
        [
         "Indonesia",
         "Jakarta",
         2011,
         83.06246575342472
        ],
        [
         "North Korea",
         "Pyongyang",
         2005,
         34.877808219178064
        ],
        [
         "Egypt",
         "Cairo",
         2012,
         72.6803278688525
        ],
        [
         "Egypt",
         "Cairo",
         2016,
         72.03142076502735
        ],
        [
         "Ethiopia",
         "Addis Ababa",
         2015,
         50.28142076502729
        ],
        [
         "Sierra Leone",
         "Freetown",
         2000,
         -99.0
        ],
        [
         "Tunisia",
         "Tunis",
         2010,
         67.15178082191777
        ],
        [
         "Kyrgyzstan",
         "Bishkek",
         2005,
         53.78958904109593
        ],
        [
         "North Korea",
         "Pyongyang",
         2001,
         51.050410958904145
        ],
        [
         "Madagascar",
         "Antananarivo",
         2020,
         69.439552238806
        ],
        [
         "Senegal",
         "Dakar",
         2000,
         74.16065573770499
        ],
        [
         "Egypt",
         "Cairo",
         2017,
         74.0241095890411
        ],
        [
         "Guinea",
         "Conakry",
         2010,
         55.4178082191781
        ],
        [
         "Mozambique",
         "Maputo",
         2019,
         72.40630136986302
        ],
        [
         "Kyrgyzstan",
         "Bishkek",
         2004,
         54.21612021857921
        ],
        [
         "Zambia",
         "Lusaka",
         2001,
         64.2517808219178
        ],
        [
         "Central African Republic",
         "Bangui",
         2009,
         70.40027397260276
        ],
        [
         "Gambia",
         "Banjul",
         2000,
         41.95437158469942
        ],
        [
         "Japan",
         "Tokyo",
         2020,
         52.78955223880599
        ],
        [
         "North Korea",
         "Pyongyang",
         2002,
         45.046575342465765
        ],
        [
         "Algeria",
         "Algiers",
         2003,
         65.04273972602736
        ],
        [
         "Morocco",
         "Rabat",
         2004,
         63.39672131147545
        ],
        [
         "Laos",
         "Vientiane",
         2002,
         78.44328767123285
        ],
        [
         "Burundi",
         "Bujumbura",
         2001,
         -99.0
        ],
        [
         "Senegal",
         "Dakar",
         2015,
         75.64316939890706
        ],
        [
         "Kyrgyzstan",
         "Bishkek",
         2015,
         53.92595628415296
        ],
        [
         "Algeria",
         "Algiers",
         2001,
         64.66986301369867
        ],
        [
         "Senegal",
         "Dakar",
         2002,
         72.58328767123291
        ],
        [
         "Ethiopia",
         "Addis Ababa",
         2004,
         -76.80819672131149
        ],
        [
         "China",
         "Beijing",
         2016,
         54.234426229508166
        ],
        [
         "Indonesia",
         "Jakarta",
         2006,
         30.722191780821923
        ],
        [
         "Japan",
         "Tokyo",
         2013,
         62.229041095890445
        ],
        [
         "Malaysia",
         "Kuala Lumpur",
         2006,
         81.65917808219181
        ],
        [
         "Central African Republic",
         "Bangui",
         2002,
         73.27890410958905
        ],
        [
         "Ethiopia",
         "Addis Ababa",
         2009,
         -12.593424657534227
        ],
        [
         "Sierra Leone",
         "Freetown",
         2003,
         67.88191780821923
        ],
        [
         "China",
         "Beijing",
         2002,
         53.4665753424658
        ],
        [
         "Indonesia",
         "Jakarta",
         2005,
         -74.42219178082193
        ],
        [
         "Mozambique",
         "Maputo",
         2003,
         66.59972602739724
        ],
        [
         "Namibia",
         "Windhoek",
         2004,
         48.36010928961748
        ],
        [
         "Laos",
         "Vientiane",
         2008,
         78.01338797814199
        ],
        [
         "Egypt",
         "Cairo",
         2014,
         72.6860273972603
        ],
        [
         "Gabon",
         "Libreville",
         2011,
         79.34520547945203
        ],
        [
         "Guinea-Bissau",
         "Bissau",
         2009,
         75.62931506849316
        ],
        [
         "Morocco",
         "Rabat",
         2002,
         61.527397260274036
        ],
        [
         "Indonesia",
         "Jakarta",
         2008,
         73.18797814207655
        ],
        [
         "Algeria",
         "Algiers",
         2012,
         64.29043715846997
        ],
        [
         "Mauritania",
         "Nouakchott",
         2014,
         77.13972602739732
        ],
        [
         "Tunisia",
         "Tunis",
         2005,
         66.2350684931507
        ],
        [
         "China",
         "Beijing",
         2017,
         56.563287671232885
        ],
        [
         "Algeria",
         "Algiers",
         2009,
         64.25972602739726
        ],
        [
         "Algeria",
         "Algiers",
         2011,
         64.96082191780816
        ],
        [
         "Guinea",
         "Conakry",
         2009,
         77.63780821917813
        ],
        [
         "China",
         "Beijing",
         2000,
         54.77431693989073
        ],
        [
         "China",
         "Beijing",
         2013,
         54.46
        ],
        [
         "Kyrgyzstan",
         "Bishkek",
         2010,
         54.137260273972586
        ],
        [
         "Central African Republic",
         "Bangui",
         2005,
         70.75917808219178
        ],
        [
         "Guinea",
         "Conakry",
         2000,
         -11.979508196721325
        ],
        [
         "Zambia",
         "Lusaka",
         2012,
         68.36448087431695
        ],
        [
         "Egypt",
         "Cairo",
         2000,
         70.77185792349732
        ],
        [
         "Guinea-Bissau",
         "Bissau",
         2002,
         -99.0
        ],
        [
         "China",
         "Beijing",
         2011,
         54.78465753424655
        ],
        [
         "Central African Republic",
         "Bangui",
         2003,
         71.9717808219178
        ],
        [
         "Tunisia",
         "Tunis",
         2003,
         66.88109589041098
        ],
        [
         "Indonesia",
         "Jakarta",
         2007,
         72.7731506849315
        ],
        [
         "Madagascar",
         "Antananarivo",
         2007,
         64.19808219178086
        ],
        [
         "Central African Republic",
         "Bangui",
         2006,
         72.6843835616438
        ],
        [
         "Guinea-Bissau",
         "Bissau",
         2018,
         78.57095890410957
        ],
        [
         "Guinea",
         "Conakry",
         2005,
         78.57369863013702
        ],
        [
         "Morocco",
         "Rabat",
         2016,
         62.86092896174871
        ],
        [
         "Tunisia",
         "Tunis",
         2017,
         67.02301369863012
        ],
        [
         "Egypt",
         "Cairo",
         2001,
         72.73726027397261
        ],
        [
         "Ethiopia",
         "Addis Ababa",
         2010,
         11.768493150684929
        ],
        [
         "Guinea",
         "Conakry",
         2007,
         48.03315068493151
        ],
        [
         "Namibia",
         "Windhoek",
         2002,
         -0.03424657534246852
        ],
        [
         "Uganda",
         "Kampala",
         2008,
         66.57650273224047
        ],
        [
         "Laos",
         "Vientiane",
         2005,
         80.8813698630137
        ],
        [
         "Malaysia",
         "Kuala Lumpur",
         2002,
         80.71863013698632
        ],
        [
         "Malaysia",
         "Kuala Lumpur",
         2003,
         82.15315068493148
        ],
        [
         "Mozambique",
         "Maputo",
         2012,
         59.325956284153065
        ],
        [
         "Sierra Leone",
         "Freetown",
         2006,
         60.1109589041096
        ],
        [
         "Guinea",
         "Conakry",
         2014,
         77.74602739726033
        ],
        [
         "Uganda",
         "Kampala",
         2003,
         -34.60767123287671
        ],
        [
         "Zambia",
         "Lusaka",
         2009,
         65.98191780821918
        ],
        [
         "Japan",
         "Tokyo",
         2010,
         62.22493150684935
        ],
        [
         "Gambia",
         "Banjul",
         2016,
         76.90519125683056
        ],
        [
         "Guinea-Bissau",
         "Bissau",
         2012,
         76.09234972677598
        ],
        [
         "Laos",
         "Vientiane",
         2011,
         79.9073972602739
        ],
        [
         "Burundi",
         "Bujumbura",
         2002,
         -99.0
        ],
        [
         "Egypt",
         "Cairo",
         2015,
         71.77978142076502
        ],
        [
         "Guinea",
         "Conakry",
         2016,
         69.25136612021856
        ],
        [
         "Madagascar",
         "Antananarivo",
         2004,
         65.35382513661202
        ],
        [
         "Namibia",
         "Windhoek",
         2000,
         62.10327868852457
        ],
        [
         "Bangladesh",
         "Dhaka",
         2009,
         38.05397260273975
        ],
        [
         "North Korea",
         "Pyongyang",
         2009,
         47.916712328767126
        ],
        [
         "Guinea-Bissau",
         "Bissau",
         2004,
         -99.0
        ],
        [
         "Zambia",
         "Lusaka",
         2011,
         62.46876712328768
        ],
        [
         "Ethiopia",
         "Addis Ababa",
         2003,
         -98.10602739726026
        ],
        [
         "Malawi",
         "Lilongwe",
         2006,
         -98.53852459016393
        ],
        [
         "China",
         "Beijing",
         2001,
         54.889863013698616
        ],
        [
         "Namibia",
         "Windhoek",
         2014,
         63.000821917808196
        ],
        [
         "Ethiopia",
         "Addis Ababa",
         2000,
         19.28387978142077
        ],
        [
         "Senegal",
         "Dakar",
         2018,
         71.65452054794521
        ],
        [
         "Algeria",
         "Algiers",
         2006,
         64.93041095890408
        ],
        [
         "Gambia",
         "Banjul",
         2001,
         57.77835616438358
        ],
        [
         "Mauritania",
         "Nouakchott",
         2018,
         70.25
        ],
        [
         "China",
         "Beijing",
         2019,
         53.943561643835594
        ],
        [
         "Japan",
         "Tokyo",
         2001,
         60.55452054794516
        ],
        [
         "Japan",
         "Tokyo",
         2014,
         61.19999999999999
        ],
        [
         "Algeria",
         "Algiers",
         2000,
         64.18278688524586
        ],
        [
         "Gambia",
         "Banjul",
         2019,
         75.35780821917805
        ],
        [
         "Uganda",
         "Kampala",
         2007,
         71.88328767123284
        ],
        [
         "Zambia",
         "Lusaka",
         2013,
         31.056164383561633
        ],
        [
         "Indonesia",
         "Jakarta",
         2003,
         -3.5054794520547845
        ],
        [
         "Indonesia",
         "Jakarta",
         2013,
         82.18986301369856
        ],
        [
         "Guinea-Bissau",
         "Bissau",
         2020,
         81.46015037593988
        ],
        [
         "North Korea",
         "Pyongyang",
         2003,
         50.75972602739723
        ],
        [
         "Central African Republic",
         "Bangui",
         2012,
         79.10054644808746
        ],
        [
         "Madagascar",
         "Antananarivo",
         2015,
         65.31584699453546
        ],
        [
         "Mauritania",
         "Nouakchott",
         2004,
         75.68661202185791
        ],
        [
         "Morocco",
         "Rabat",
         2012,
         62.62868852459014
        ],
        [
         "Namibia",
         "Windhoek",
         2005,
         66.27205479452056
        ],
        [
         "Gabon",
         "Libreville",
         2016,
         79.01010928961749
        ],
        [
         "Egypt",
         "Cairo",
         2019,
         70.9928767123288
        ],
        [
         "Guinea-Bissau",
         "Bissau",
         2006,
         -38.47459016393442
        ],
        [
         "Mozambique",
         "Maputo",
         2008,
         73.80655737704916
        ],
        [
         "Indonesia",
         "Jakarta",
         2002,
         -77.773698630137
        ],
        [
         "Guinea",
         "Conakry",
         2017,
         73.52493150684933
        ],
        [
         "Namibia",
         "Windhoek",
         2009,
         62.47671232876711
        ],
        [
         "Kyrgyzstan",
         "Bishkek",
         2014,
         51.06301369863013
        ],
        [
         "Guinea",
         "Conakry",
         2018,
         69.18493150684931
        ],
        [
         "Ethiopia",
         "Addis Ababa",
         2016,
         60.44508196721313
        ],
        [
         "Senegal",
         "Dakar",
         2006,
         76.30136986301369
        ],
        [
         "Gambia",
         "Banjul",
         2015,
         77.41530054644808
        ],
        [
         "Indonesia",
         "Jakarta",
         2001,
         -75.10109589041096
        ],
        [
         "Laos",
         "Vientiane",
         2010,
         81.95397260273981
        ],
        [
         "Uganda",
         "Kampala",
         2014,
         60.3953424657534
        ],
        [
         "Ethiopia",
         "Addis Ababa",
         2020,
         65.17819548872181
        ],
        [
         "Morocco",
         "Rabat",
         2013,
         62.47287671232877
        ],
        [
         "Sierra Leone",
         "Freetown",
         2004,
         71.48114754098364
        ],
        [
         "Senegal",
         "Dakar",
         2005,
         77.35369863013693
        ],
        [
         "Gabon",
         "Libreville",
         2013,
         79.62493150684925
        ],
        [
         "Mauritania",
         "Nouakchott",
         2008,
         75.77103825136605
        ],
        [
         "Indonesia",
         "Jakarta",
         2014,
         82.46821917808208
        ],
        [
         "Guinea",
         "Conakry",
         2011,
         47.75534246575343
        ],
        [
         "Kenya",
         "Nairobi",
         2014,
         42.251639344262315
        ],
        [
         "Tunisia",
         "Tunis",
         2007,
         66.71643835616442
        ],
        [
         "Egypt",
         "Cairo",
         2005,
         72.03780821917809
        ],
        [
         "Indonesia",
         "Jakarta",
         2018,
         80.56904109589043
        ],
        [
         "Kenya",
         "Nairobi",
         2000,
         -92.23934426229506
        ],
        [
         "Morocco",
         "Rabat",
         2014,
         63.08958904109587
        ],
        [
         "Senegal",
         "Dakar",
         2010,
         77.87232876712325
        ],
        [
         "Kyrgyzstan",
         "Bishkek",
         2000,
         54.25683060109289
        ],
        [
         "Kyrgyzstan",
         "Bishkek",
         2007,
         52.67232876712328
        ],
        [
         "Senegal",
         "Dakar",
         2008,
         76.18032786885246
        ],
        [
         "Egypt",
         "Cairo",
         2004,
         72.27021857923499
        ],
        [
         "Guinea",
         "Conakry",
         2003,
         73.592602739726
        ],
        [
         "Guinea-Bissau",
         "Bissau",
         2014,
         73.87397260273968
        ],
        [
         "Kenya",
         "Nairobi",
         2012,
         67.12328767123283
        ],
        [
         "Morocco",
         "Rabat",
         2019,
         59.73150684931507
        ],
        [
         "Senegal",
         "Dakar",
         2007,
         75.7887671232876
        ],
        [
         "China",
         "Beijing",
         2009,
         54.263287671232874
        ],
        [
         "Kyrgyzstan",
         "Bishkek",
         2016,
         52.73196721311477
        ],
        [
         "Algeria",
         "Algiers",
         2014,
         65.19589041095887
        ],
        [
         "Kyrgyzstan",
         "Bishkek",
         2020,
         44.90075187969924
        ],
        [
         "Ethiopia",
         "Addis Ababa",
         2001,
         -6.162465753424657
        ],
        [
         "Gambia",
         "Banjul",
         2003,
         -18.72246575342466
        ],
        [
         "Kenya",
         "Nairobi",
         2011,
         0.9000000000000009
        ],
        [
         "Kyrgyzstan",
         "Bishkek",
         2002,
         52.15205479452061
        ],
        [
         "Laos",
         "Vientiane",
         2001,
         76.42410958904114
        ],
        [
         "Central African Republic",
         "Bangui",
         2011,
         79.23917808219181
        ],
        [
         "China",
         "Beijing",
         2008,
         54.449999999999974
        ],
        [
         "Mozambique",
         "Maputo",
         2001,
         69.03808219178086
        ],
        [
         "Tunisia",
         "Tunis",
         2016,
         65.85601092896175
        ],
        [
         "Indonesia",
         "Jakarta",
         2004,
         -47.279234972677585
        ],
        [
         "Kyrgyzstan",
         "Bishkek",
         2011,
         52.423287671232856
        ],
        [
         "North Korea",
         "Pyongyang",
         2010,
         50.29672131147539
        ],
        [
         "Madagascar",
         "Antananarivo",
         2005,
         65.53671232876721
        ],
        [
         "Madagascar",
         "Antananarivo",
         2006,
         65.42794520547946
        ],
        [
         "North Korea",
         "Pyongyang",
         2007,
         28.719726027397282
        ],
        [
         "Morocco",
         "Rabat",
         2003,
         63.36931506849315
        ],
        [
         "Namibia",
         "Windhoek",
         2011,
         48.0358904109589
        ],
        [
         "Tunisia",
         "Tunis",
         2018,
         65.46136986301373
        ],
        [
         "Uganda",
         "Kampala",
         2001,
         67.06191780821916
        ],
        [
         "China",
         "Beijing",
         2010,
         53.15698630136992
        ],
        [
         "Central African Republic",
         "Bangui",
         2013,
         78.27808219178088
        ],
        [
         "Madagascar",
         "Antananarivo",
         2002,
         64.12273972602746
        ],
        [
         "Madagascar",
         "Antananarivo",
         2009,
         65.4249315068493
        ],
        [
         "Tunisia",
         "Tunis",
         2019,
         64.67041095890413
        ],
        [
         "Gabon",
         "Libreville",
         2009,
         79.43397260273974
        ],
        [
         "Guinea-Bissau",
         "Bissau",
         2019,
         77.52958904109589
        ],
        [
         "Namibia",
         "Windhoek",
         2018,
         49.45068493150687
        ],
        [
         "Kenya",
         "Nairobi",
         2018,
         63.225205479452086
        ],
        [
         "Namibia",
         "Windhoek",
         2007,
         58.9964383561644
        ],
        [
         "Indonesia",
         "Jakarta",
         2016,
         81.08715846994536
        ],
        [
         "Japan",
         "Tokyo",
         2019,
         60.187945205479465
        ],
        [
         "Tunisia",
         "Tunis",
         2020,
         59.53208955223882
        ],
        [
         "Burundi",
         "Bujumbura",
         2005,
         -74.82027397260273
        ],
        [
         "North Korea",
         "Pyongyang",
         2020,
         40.838345864661655
        ],
        [
         "Ethiopia",
         "Addis Ababa",
         2005,
         38.248219178082216
        ],
        [
         "Mozambique",
         "Maputo",
         2018,
         69.53452054794518
        ],
        [
         "Japan",
         "Tokyo",
         2017,
         61.645205479452045
        ],
        [
         "North Korea",
         "Pyongyang",
         2011,
         49.57753424657534
        ],
        [
         "Gabon",
         "Libreville",
         2006,
         79.66821917808224
        ],
        [
         "Guinea",
         "Conakry",
         2004,
         81.92786885245899
        ],
        [
         "Senegal",
         "Dakar",
         2017,
         77.29178082191781
        ],
        [
         "Kyrgyzstan",
         "Bishkek",
         2019,
         52.75506849315074
        ],
        [
         "Ethiopia",
         "Addis Ababa",
         2011,
         57.472328767123344
        ],
        [
         "Guinea-Bissau",
         "Bissau",
         2003,
         -99.0
        ],
        [
         "Kenya",
         "Nairobi",
         2001,
         -24.772054794520557
        ],
        [
         "Madagascar",
         "Antananarivo",
         2018,
         64.63506849315067
        ],
        [
         "Mauritania",
         "Nouakchott",
         2006,
         76.81315068493157
        ],
        [
         "Zambia",
         "Lusaka",
         2003,
         59.502739726027436
        ],
        [
         "Algeria",
         "Algiers",
         2020,
         58.034328358208924
        ],
        [
         "Morocco",
         "Rabat",
         2010,
         63.16986301369864
        ],
        [
         "Madagascar",
         "Antananarivo",
         2019,
         64.46657534246579
        ],
        [
         "Uganda",
         "Kampala",
         2010,
         39.52767123287667
        ],
        [
         "Morocco",
         "Rabat",
         2018,
         61.195342465753384
        ],
        [
         "China",
         "Beijing",
         2004,
         55.58306010928962
        ],
        [
         "Senegal",
         "Dakar",
         2016,
         74.88715846994529
        ],
        [
         "Uganda",
         "Kampala",
         2006,
         70.49150684931506
        ],
        [
         "Madagascar",
         "Antananarivo",
         2016,
         63.85956284152999
        ],
        [
         "Algeria",
         "Algiers",
         2008,
         63.53224043715848
        ],
        [
         "Kyrgyzstan",
         "Bishkek",
         2001,
         53.37506849315075
        ],
        [
         "Malaysia",
         "Kuala Lumpur",
         2004,
         82.09262295081963
        ],
        [
         "China",
         "Beijing",
         2003,
         54.906301369862994
        ],
        [
         "Egypt",
         "Cairo",
         2008,
         71.97978142076502
        ],
        [
         "Kyrgyzstan",
         "Bishkek",
         2008,
         53.404918032786846
        ],
        [
         "Ethiopia",
         "Addis Ababa",
         2017,
         60.24109589041093
        ],
        [
         "Gambia",
         "Banjul",
         2017,
         68.56082191780816
        ],
        [
         "Japan",
         "Tokyo",
         2012,
         60.821857923497305
        ],
        [
         "Malaysia",
         "Kuala Lumpur",
         2020,
         83.80970149253731
        ],
        [
         "Guinea",
         "Conakry",
         2019,
         62.41530054644809
        ],
        [
         "Mauritania",
         "Nouakchott",
         2011,
         77.21315068493152
        ],
        [
         "Gambia",
         "Banjul",
         2005,
         23.682739726027393
        ],
        [
         "Gambia",
         "Banjul",
         2010,
         78.44191780821923
        ],
        [
         "Uganda",
         "Kampala",
         2009,
         62.42273972602744
        ],
        [
         "North Korea",
         "Pyongyang",
         2015,
         52.27677595628414
        ],
        [
         "Madagascar",
         "Antananarivo",
         2012,
         54.404098360655574
        ],
        [
         "Gambia",
         "Banjul",
         2013,
         78.90739726027397
        ],
        [
         "Malaysia",
         "Kuala Lumpur",
         2019,
         79.98109589041104
        ],
        [
         "Gabon",
         "Libreville",
         2002,
         77.28383561643834
        ],
        [
         "Mauritania",
         "Nouakchott",
         2017,
         67.12164383561647
        ],
        [
         "Malawi",
         "Lilongwe",
         2001,
         -30.364931506849306
        ],
        [
         "Indonesia",
         "Jakarta",
         2019,
         81.00931506849315
        ],
        [
         "Japan",
         "Tokyo",
         2008,
         60.29726775956285
        ],
        [
         "Laos",
         "Vientiane",
         2012,
         82.05027322404366
        ],
        [
         "Algeria",
         "Algiers",
         2010,
         64.26821917808216
        ],
        [
         "Ethiopia",
         "Addis Ababa",
         2014,
         53.857650273224024
        ],
        [
         "Mozambique",
         "Maputo",
         2009,
         71.17534246575342
        ],
        [
         "Laos",
         "Vientiane",
         2004,
         80.20819672131145
        ],
        [
         "Morocco",
         "Rabat",
         2000,
         63.35245901639344
        ],
        [
         "Guinea",
         "Conakry",
         2006,
         75.43095890410957
        ],
        [
         "Mauritania",
         "Nouakchott",
         2012,
         77.89508196721309
        ],
        [
         "Mozambique",
         "Maputo",
         2017,
         73.00464480874317
        ],
        [
         "Uganda",
         "Kampala",
         2002,
         48.56301369863016
        ],
        [
         "Ethiopia",
         "Addis Ababa",
         2013,
         60.764657534246574
        ],
        [
         "Gabon",
         "Libreville",
         2020,
         82.79253731343283
        ],
        [
         "Sierra Leone",
         "Freetown",
         2005,
         54.27726027397257
        ],
        [
         "Senegal",
         "Dakar",
         2019,
         73.56301369863013
        ],
        [
         "Tunisia",
         "Tunis",
         2008,
         66.44071038251361
        ],
        [
         "Guinea-Bissau",
         "Bissau",
         2005,
         -99.0
        ],
        [
         "Guinea-Bissau",
         "Bissau",
         2007,
         55.911780821917795
        ],
        [
         "Madagascar",
         "Antananarivo",
         2000,
         54.80081967213114
        ],
        [
         "Kyrgyzstan",
         "Bishkek",
         2003,
         52.842191780821885
        ],
        [
         "Madagascar",
         "Antananarivo",
         2011,
         66.65999999999994
        ],
        [
         "Indonesia",
         "Jakarta",
         2012,
         82.16912568306019
        ],
        [
         "Laos",
         "Vientiane",
         2007,
         80.03205479452052
        ],
        [
         "Malaysia",
         "Kuala Lumpur",
         2009,
         81.41534246575337
        ],
        [
         "Gabon",
         "Libreville",
         2019,
         77.58684931506855
        ],
        [
         "Kenya",
         "Nairobi",
         2010,
         -57.93306010928962
        ],
        [
         "Mauritania",
         "Nouakchott",
         2016,
         60.956830601092946
        ],
        [
         "Malaysia",
         "Kuala Lumpur",
         2005,
         83.10027397260275
        ],
        [
         "Malawi",
         "Lilongwe",
         2013,
         60.234905660377336
        ],
        [
         "Mozambique",
         "Maputo",
         2007,
         71.29150684931516
        ],
        [
         "Japan",
         "Tokyo",
         2003,
         60.314246575342516
        ],
        [
         "Gabon",
         "Libreville",
         2007,
         79.26082191780824
        ],
        [
         "Morocco",
         "Rabat",
         2001,
         63.956164383561706
        ],
        [
         "Morocco",
         "Rabat",
         2007,
         62.07534246575344
        ],
        [
         "Sierra Leone",
         "Freetown",
         2009,
         55.84849315068492
        ],
        [
         "Indonesia",
         "Jakarta",
         2015,
         81.86502732240442
        ],
        [
         "Morocco",
         "Rabat",
         2015,
         62.81666666666663
        ],
        [
         "Madagascar",
         "Antananarivo",
         2008,
         64.73387978142074
        ],
        [
         "Central African Republic",
         "Bangui",
         2001,
         75.0632876712329
        ],
        [
         "Gambia",
         "Banjul",
         2018,
         73.47917808219175
        ],
        [
         "Guinea-Bissau",
         "Bissau",
         2017,
         81.90383561643836
        ],
        [
         "Sierra Leone",
         "Freetown",
         2008,
         48.33879781420764
        ],
        [
         "Bangladesh",
         "Dhaka",
         2007,
         -1.2486338797814207
        ],
        [
         "Japan",
         "Tokyo",
         2006,
         60.912876712328796
        ],
        [
         "North Korea",
         "Pyongyang",
         2000,
         49.059016393442576
        ],
        [
         "Malaysia",
         "Kuala Lumpur",
         2011,
         83.06739726027394
        ],
        [
         "Madagascar",
         "Antananarivo",
         2013,
         64.36465753424662
        ],
        [
         "Bangladesh",
         "Dhaka",
         2000,
         1.7278688524590098
        ],
        [
         "Gambia",
         "Banjul",
         2006,
         8.26602739726028
        ],
        [
         "Guinea-Bissau",
         "Bissau",
         2016,
         79.44016393442628
        ],
        [
         "Morocco",
         "Rabat",
         2020,
         57.94253731343289
        ],
        [
         "Sierra Leone",
         "Freetown",
         2002,
         -93.54876712328762
        ],
        [
         "Uganda",
         "Kampala",
         2020,
         71.4578947368421
        ],
        [
         "Algeria",
         "Algiers",
         2005,
         62.91342465753426
        ],
        [
         "Guinea-Bissau",
         "Bissau",
         2008,
         15.906557377049173
        ],
        [
         "Malawi",
         "Lilongwe",
         2000,
         23.962841530054675
        ],
        [
         "Malawi",
         "Lilongwe",
         2012,
         45.104098360655726
        ],
        [
         "Laos",
         "Vientiane",
         2020,
         81.5694029850746
        ],
        [
         "Ethiopia",
         "Addis Ababa",
         2007,
         38.22657534246578
        ],
        [
         "Guinea-Bissau",
         "Bissau",
         2000,
         -99.0
        ],
        [
         "Zambia",
         "Lusaka",
         2006,
         67.90219178082191
        ],
        [
         "Kenya",
         "Nairobi",
         2004,
         56.633333333333404
        ],
        [
         "Mauritania",
         "Nouakchott",
         2009,
         76.70739726027398
        ],
        [
         "Japan",
         "Tokyo",
         2016,
         60.87158469945352
        ],
        [
         "Gabon",
         "Libreville",
         2000,
         71.46284153005458
        ],
        [
         "Guinea",
         "Conakry",
         2001,
         61.13068493150687
        ],
        [
         "China",
         "Beijing",
         2015,
         55.21748633879779
        ],
        [
         "Gabon",
         "Libreville",
         2001,
         78.31698630136988
        ],
        [
         "Guinea",
         "Conakry",
         2002,
         61.438904109589025
        ],
        [
         "Egypt",
         "Cairo",
         2007,
         72.32876712328766
        ],
        [
         "Gabon",
         "Libreville",
         2014,
         74.39315068493151
        ],
        [
         "Japan",
         "Tokyo",
         2000,
         61.44535519125674
        ],
        [
         "Senegal",
         "Dakar",
         2020,
         73.61268656716415
        ],
        [
         "Sierra Leone",
         "Freetown",
         2010,
         26.315342465753425
        ],
        [
         "North Korea",
         "Pyongyang",
         2012,
         50.684426229508226
        ],
        [
         "North Korea",
         "Pyongyang",
         2019,
         50.792602739726064
        ],
        [
         "Central African Republic",
         "Bangui",
         2015,
         73.24153005464478
        ],
        [
         "Gabon",
         "Libreville",
         2008,
         77.9691256830601
        ],
        [
         "Mauritania",
         "Nouakchott",
         2013,
         78.57698630136989
        ],
        [
         "Mauritania",
         "Nouakchott",
         2005,
         75.6254794520548
        ],
        [
         "Uganda",
         "Kampala",
         2019,
         66.44246575342464
        ],
        [
         "Bangladesh",
         "Dhaka",
         2005,
         11.475068493150683
        ],
        [
         "Kyrgyzstan",
         "Bishkek",
         2018,
         50.33616438356167
        ],
        [
         "Laos",
         "Vientiane",
         2009,
         80.38082191780818
        ],
        [
         "Malaysia",
         "Kuala Lumpur",
         2017,
         82.25808219178087
        ],
        [
         "North Korea",
         "Pyongyang",
         2004,
         48.50928961748635
        ],
        [
         "Egypt",
         "Cairo",
         2006,
         72.10767123287673
        ],
        [
         "Indonesia",
         "Jakarta",
         2009,
         75.072602739726
        ],
        [
         "Indonesia",
         "Jakarta",
         2010,
         81.78410958904102
        ],
        [
         "Guinea-Bissau",
         "Bissau",
         2011,
         64.4841095890411
        ],
        [
         "Zambia",
         "Lusaka",
         2014,
         56.945454545454545
        ],
        [
         "Bangladesh",
         "Dhaka",
         2002,
         7.574246575342467
        ],
        [
         "Algeria",
         "Algiers",
         2015,
         64.04781420765025
        ],
        [
         "Zambia",
         "Lusaka",
         2007,
         64.6709589041096
        ],
        [
         "Malaysia",
         "Kuala Lumpur",
         2014,
         81.93534246575337
        ],
        [
         "Algeria",
         "Algiers",
         2007,
         63.166849315068504
        ],
        [
         "Laos",
         "Vientiane",
         2013,
         81.41479452054793
        ],
        [
         "Central African Republic",
         "Bangui",
         2008,
         77.2196721311476
        ],
        [
         "Morocco",
         "Rabat",
         2011,
         63.72383561643836
        ],
        [
         "Namibia",
         "Windhoek",
         2019,
         65.51780821917806
        ],
        [
         "Tunisia",
         "Tunis",
         2000,
         67.11967213114758
        ],
        [
         "Central African Republic",
         "Bangui",
         2007,
         73.26438356164387
        ],
        [
         "Egypt",
         "Cairo",
         2020,
         63.63880597014926
        ],
        [
         "Kenya",
         "Nairobi",
         2019,
         64.67561643835617
        ],
        [
         "Laos",
         "Vientiane",
         2014,
         80.51178082191778
        ],
        [
         "Morocco",
         "Rabat",
         2009,
         61.42301369863015
        ],
        [
         "North Korea",
         "Pyongyang",
         2013,
         51.49534246575345
        ],
        [
         "Guinea",
         "Conakry",
         2008,
         60.45136612021861
        ],
        [
         "Madagascar",
         "Antananarivo",
         2003,
         65.41150684931506
        ],
        [
         "Malawi",
         "Lilongwe",
         2010,
         23.09153005464481
        ],
        [
         "Ethiopia",
         "Addis Ababa",
         2018,
         30.338356164383573
        ],
        [
         "Namibia",
         "Windhoek",
         2001,
         19.304109589041097
        ],
        [
         "Laos",
         "Vientiane",
         2019,
         79.23698630136978
        ],
        [
         "Vietnam",
         "Hanoi",
         2012,
         75.25628415300542
        ],
        [
         "France",
         "Paris",
         2004,
         53.58524590163939
        ],
        [
         "Poland",
         "Warsaw",
         2014,
         49.20547945205477
        ],
        [
         "Finland",
         "Helsinki",
         2019,
         41.52849315068495
        ],
        [
         "Norway",
         "Oslo",
         2013,
         41.175890410958914
        ],
        [
         "Romania",
         "Bucharest",
         2002,
         51.17424657534248
        ],
        [
         "Slovakia",
         "Bratislava",
         2002,
         50.71945205479452
        ],
        [
         "Thailand",
         "Bangkok",
         2001,
         82.64876712328766
        ],
        [
         "Ireland",
         "Dublin",
         2011,
         50.11863013698632
        ],
        [
         "Ireland",
         "Dublin",
         2016,
         48.16830601092896
        ],
        [
         "Romania",
         "Bucharest",
         2008,
         52.781967213114775
        ],
        [
         "Macedonia",
         "Skopje",
         2008,
         55.03743169398911
        ],
        [
         "Belarus",
         "Minsk",
         2019,
         11.465479452054783
        ],
        [
         "Czech Republic",
         "Prague",
         2002,
         46.626301369862986
        ],
        [
         "Portugal",
         "Lisbon",
         2016,
         60.471311475409784
        ],
        [
         "Philippines",
         "Manila",
         2010,
         83.27972602739727
        ],
        [
         "Austria",
         "Vienna",
         2014,
         52.93561643835609
        ],
        [
         "Bulgaria",
         "Sofia",
         2006,
         50.41808219178082
        ],
        [
         "Pakistan",
         "Islamabad",
         2015,
         70.36885245901635
        ],
        [
         "Belarus",
         "Minsk",
         2009,
         44.62219178082191
        ],
        [
         "Belgium",
         "Brussels",
         2020,
         46.91567164179104
        ],
        [
         "Denmark",
         "Copenhagen",
         2017,
         47.95479452054794
        ],
        [
         "Norway",
         "Oslo",
         2000,
         43.63415300546447
        ],
        [
         "Poland",
         "Warsaw",
         2011,
         48.36821917808219
        ],
        [
         "Russia",
         "Moscow",
         2003,
         41.05643835616438
        ],
        [
         "Uzbekistan",
         "Tashkent",
         2020,
         51.388059701492544
        ],
        [
         "Albania",
         "Tirana",
         2010,
         60.56876712328763
        ],
        [
         "Belarus",
         "Minsk",
         2004,
         44.71994535519125
        ],
        [
         "Belarus",
         "Minsk",
         2013,
         46.319999999999965
        ],
        [
         "Singapore",
         "Singapore",
         2014,
         81.86465753424655
        ],
        [
         "South Korea",
         "Seoul",
         2000,
         52.37568306010932
        ],
        [
         "Austria",
         "Vienna",
         2011,
         51.27945205479456
        ],
        [
         "France",
         "Paris",
         2005,
         53.40767123287677
        ],
        [
         "Latvia",
         "Riga",
         2001,
         45.970958904109594
        ],
        [
         "Romania",
         "Bucharest",
         2012,
         53.758469945355216
        ],
        [
         "Denmark",
         "Copenhagen",
         2008,
         48.409289617486294
        ],
        [
         "Norway",
         "Oslo",
         2007,
         41.73972602739725
        ],
        [
         "Russia",
         "Moscow",
         2017,
         42.47068493150683
        ],
        [
         "Georgia",
         "Tbilisi",
         2000,
         57.17896174863391
        ],
        [
         "Hungary",
         "Budapest",
         2006,
         50.0315068493151
        ],
        [
         "South Korea",
         "Seoul",
         2018,
         52.145205479452024
        ],
        [
         "Vietnam",
         "Hanoi",
         2002,
         73.17589041095886
        ],
        [
         "Vietnam",
         "Hanoi",
         2007,
         75.39369863013695
        ],
        [
         "Croatia",
         "Zagreb",
         2009,
         54.82438356164386
        ],
        [
         "Poland",
         "Warsaw",
         2002,
         46.95315068493153
        ],
        [
         "Pakistan",
         "Islamabad",
         2013,
         72.15863013698633
        ],
        [
         "Italy",
         "Rome",
         2010,
         60.28109589041099
        ],
        [
         "Portugal",
         "Lisbon",
         2018,
         59.58876712328772
        ],
        [
         "Czech Republic",
         "Prague",
         2004,
         47.369945355191284
        ],
        [
         "Czech Republic",
         "Prague",
         2008,
         48.05683060109288
        ],
        [
         "Denmark",
         "Copenhagen",
         2015,
         47.56939890710384
        ],
        [
         "Finland",
         "Helsinki",
         2010,
         40.110410958904076
        ],
        [
         "France",
         "Paris",
         2018,
         45.7731506849315
        ],
        [
         "France",
         "Paris",
         2020,
         49.32014925373133
        ],
        [
         "Latvia",
         "Riga",
         2012,
         43.52923497267759
        ],
        [
         "South Korea",
         "Seoul",
         2017,
         54.13534246575351
        ],
        [
         "Croatia",
         "Zagreb",
         2018,
         53.93671232876703
        ],
        [
         "Greece",
         "Athens",
         2012,
         -29.856284153005458
        ],
        [
         "Ireland",
         "Dublin",
         2001,
         48.88657534246575
        ],
        [
         "Austria",
         "Vienna",
         2016,
         50.869672131147546
        ],
        [
         "Belgium",
         "Brussels",
         2011,
         52.475616438356184
        ],
        [
         "Latvia",
         "Riga",
         2014,
         45.72219178082192
        ],
        [
         "Portugal",
         "Lisbon",
         2019,
         59.29452054794525
        ],
        [
         "France",
         "Paris",
         2002,
         52.743013698630136
        ],
        [
         "France",
         "Paris",
         2008,
         52.38169398907109
        ],
        [
         "Romania",
         "Bucharest",
         2000,
         53.82759562841522
        ],
        [
         "South Korea",
         "Seoul",
         2009,
         53.32712328767123
        ],
        [
         "Thailand",
         "Bangkok",
         2007,
         83.73452054794524
        ],
        [
         "Austria",
         "Vienna",
         2004,
         50.603005464480894
        ],
        [
         "Belarus",
         "Minsk",
         2014,
         46.42109589041094
        ],
        [
         "Latvia",
         "Riga",
         2020,
         39.82686567164178
        ],
        [
         "Poland",
         "Warsaw",
         2006,
         48.2827397260274
        ],
        [
         "Denmark",
         "Copenhagen",
         2019,
         46.86493150684927
        ],
        [
         "Czech Republic",
         "Prague",
         2016,
         47.43879781420764
        ],
        [
         "France",
         "Paris",
         2011,
         55.00191780821926
        ],
        [
         "Thailand",
         "Bangkok",
         2000,
         82.2975409836066
        ],
        [
         "Bulgaria",
         "Sofia",
         2011,
         51.455616438356145
        ],
        [
         "Croatia",
         "Zagreb",
         2002,
         52.64849315068494
        ],
        [
         "Denmark",
         "Copenhagen",
         2014,
         49.47369863013699
        ],
        [
         "Georgia",
         "Tbilisi",
         2002,
         54.58383561643839
        ],
        [
         "Norway",
         "Oslo",
         2015,
         42.338251366120204
        ],
        [
         "South Korea",
         "Seoul",
         2002,
         51.413972602739754
        ],
        [
         "Australia",
         "Canberra",
         2015,
         55.04890710382511
        ],
        [
         "Czech Republic",
         "Prague",
         2017,
         48.76465753424658
        ],
        [
         "Finland",
         "Helsinki",
         2000,
         44.53606557377052
        ],
        [
         "Norway",
         "Oslo",
         2014,
         43.8512328767123
        ],
        [
         "South Korea",
         "Seoul",
         2012,
         52.728142076502735
        ],
        [
         "Uzbekistan",
         "Tashkent",
         2000,
         60.78633879781424
        ],
        [
         "Bulgaria",
         "Sofia",
         2010,
         52.861095890410965
        ],
        [
         "Ireland",
         "Dublin",
         2010,
         47.27205479452054
        ],
        [
         "Finland",
         "Helsinki",
         2017,
         42.81698630136985
        ],
        [
         "Hungary",
         "Budapest",
         2019,
         51.51945205479453
        ],
        [
         "Portugal",
         "Lisbon",
         2011,
         62.88849315068494
        ],
        [
         "Belgium",
         "Brussels",
         2010,
         48.835616438356155
        ],
        [
         "Hungary",
         "Budapest",
         2010,
         50.0997260273972
        ],
        [
         "Italy",
         "Rome",
         2001,
         60.5652054794521
        ],
        [
         "Norway",
         "Oslo",
         2020,
         37.045522388059716
        ],
        [
         "Albania",
         "Tirana",
         2005,
         59.935616438356156
        ],
        [
         "Belarus",
         "Minsk",
         2001,
         45.367123287671234
        ],
        [
         "Uzbekistan",
         "Tashkent",
         2014,
         58.438630136986326
        ],
        [
         "Macedonia",
         "Skopje",
         2005,
         53.053698630136985
        ],
        [
         "Austria",
         "Vienna",
         2000,
         52.75956284153006
        ],
        [
         "Czech Republic",
         "Prague",
         2000,
         49.08196721311477
        ],
        [
         "Italy",
         "Rome",
         2017,
         61.3778082191781
        ],
        [
         "Romania",
         "Bucharest",
         2018,
         53.27095890410961
        ],
        [
         "Romania",
         "Bucharest",
         2020,
         45.7410447761194
        ],
        [
         "Uzbekistan",
         "Tashkent",
         2018,
         59.08273972602739
        ],
        [
         "Australia",
         "Canberra",
         2003,
         55.90986301369865
        ],
        [
         "Croatia",
         "Zagreb",
         2005,
         52.23835616438351
        ],
        [
         "Croatia",
         "Zagreb",
         2017,
         55.572054794520554
        ],
        [
         "Denmark",
         "Copenhagen",
         2004,
         47.066939890710415
        ],
        [
         "Romania",
         "Bucharest",
         2010,
         52.78547945205481
        ],
        [
         "Australia",
         "Canberra",
         2010,
         55.98465753424661
        ],
        [
         "Albania",
         "Tirana",
         2013,
         60.413150684931466
        ],
        [
         "Belgium",
         "Brussels",
         2005,
         52.140273972602735
        ],
        [
         "Belgium",
         "Brussels",
         2018,
         51.39095890410961
        ],
        [
         "Czech Republic",
         "Prague",
         2009,
         48.05013698630136
        ],
        [
         "Poland",
         "Warsaw",
         2020,
         42.59776119402985
        ],
        [
         "Uzbekistan",
         "Tashkent",
         2001,
         61.3172602739726
        ],
        [
         "Italy",
         "Rome",
         2000,
         60.301366120218574
        ],
        [
         "Italy",
         "Rome",
         2016,
         61.185245901639334
        ],
        [
         "Portugal",
         "Lisbon",
         2002,
         60.55287671232883
        ],
        [
         "Portugal",
         "Lisbon",
         2006,
         63.052328767123285
        ],
        [
         "Slovakia",
         "Bratislava",
         2005,
         50.69424657534244
        ],
        [
         "South Korea",
         "Seoul",
         2013,
         53.1079452054794
        ],
        [
         "Albania",
         "Tirana",
         2007,
         60.89013698630136
        ],
        [
         "Russia",
         "Moscow",
         2005,
         42.09369863013696
        ],
        [
         "Philippines",
         "Manila",
         2011,
         81.82931506849319
        ],
        [
         "Latvia",
         "Riga",
         2005,
         45.1082191780822
        ],
        [
         "Philippines",
         "Manila",
         2004,
         82.05765027322398
        ],
        [
         "Albania",
         "Tirana",
         2015,
         60.09016393442632
        ],
        [
         "Cyprus",
         "Nicosia",
         2005,
         66.42958904109585
        ],
        [
         "Portugal",
         "Lisbon",
         2001,
         62.21917808219184
        ],
        [
         "Slovakia",
         "Bratislava",
         2006,
         51.80767123287674
        ],
        [
         "Albania",
         "Tirana",
         2001,
         10.75041095890412
        ],
        [
         "Finland",
         "Helsinki",
         2004,
         41.710655737704904
        ],
        [
         "Latvia",
         "Riga",
         2008,
         45.72732240437155
        ],
        [
         "Latvia",
         "Riga",
         2017,
         45.16054794520549
        ],
        [
         "Pakistan",
         "Islamabad",
         2012,
         72.28770491803276
        ],
        [
         "Philippines",
         "Manila",
         2001,
         81.32794520547945
        ],
        [
         "Singapore",
         "Singapore",
         2019,
         80.32438356164383
        ],
        [
         "Vietnam",
         "Hanoi",
         2020,
         70.75074626865674
        ],
        [
         "Philippines",
         "Manila",
         2020,
         83.81567164179106
        ],
        [
         "Georgia",
         "Tbilisi",
         2001,
         55.818356164383566
        ],
        [
         "Bulgaria",
         "Sofia",
         2017,
         52.65397260273972
        ],
        [
         "Croatia",
         "Zagreb",
         2003,
         54.45945205479454
        ],
        [
         "Italy",
         "Rome",
         2005,
         59.00958904109588
        ],
        [
         "Macedonia",
         "Skopje",
         2016,
         53.228415300546445
        ],
        [
         "South Korea",
         "Seoul",
         2020,
         43.53805970149256
        ],
        [
         "Bulgaria",
         "Sofia",
         2013,
         53.48493150684929
        ],
        [
         "Cyprus",
         "Nicosia",
         2001,
         67.96958904109584
        ],
        [
         "Cyprus",
         "Nicosia",
         2009,
         18.527049180327854
        ],
        [
         "Portugal",
         "Lisbon",
         2017,
         62.83068493150683
        ],
        [
         "Belarus",
         "Minsk",
         2010,
         44.88657534246575
        ],
        [
         "Macedonia",
         "Skopje",
         2017,
         54.86904109589045
        ],
        [
         "Pakistan",
         "Islamabad",
         2016,
         72.41666666666667
        ],
        [
         "South Korea",
         "Seoul",
         2008,
         53.10218579234973
        ],
        [
         "Thailand",
         "Bangkok",
         2008,
         79.70710382513666
        ],
        [
         "Belarus",
         "Minsk",
         2005,
         45.14493150684931
        ],
        [
         "Belarus",
         "Minsk",
         2015,
         47.444808743169396
        ],
        [
         "Bulgaria",
         "Sofia",
         2002,
         48.79643835616437
        ],
        [
         "Portugal",
         "Lisbon",
         2009,
         63.633698630136976
        ],
        [
         "Vietnam",
         "Hanoi",
         2009,
         75.8783561643835
        ],
        [
         "Vietnam",
         "Hanoi",
         2018,
         74.40657534246577
        ],
        [
         "Pakistan",
         "Islamabad",
         2019,
         -21.031232876712334
        ],
        [
         "Belarus",
         "Minsk",
         2018,
         15.344109589041109
        ],
        [
         "Macedonia",
         "Skopje",
         2018,
         54.31506849315065
        ],
        [
         "Belgium",
         "Brussels",
         2002,
         50.675068493150675
        ],
        [
         "Czech Republic",
         "Prague",
         2005,
         47.35424657534247
        ],
        [
         "Poland",
         "Warsaw",
         2012,
         47.6601092896175
        ],
        [
         "Russia",
         "Moscow",
         2001,
         41.36821917808219
        ],
        [
         "Uzbekistan",
         "Tashkent",
         2010,
         62.28465753424662
        ],
        [
         "Belgium",
         "Brussels",
         2013,
         49.85534246575341
        ],
        [
         "Philippines",
         "Manila",
         2002,
         79.57287671232876
        ],
        [
         "Finland",
         "Helsinki",
         2009,
         41.65917808219178
        ],
        [
         "Greece",
         "Athens",
         2000,
         65.80218579234972
        ],
        [
         "Slovakia",
         "Bratislava",
         2004,
         50.97459016393443
        ],
        [
         "Vietnam",
         "Hanoi",
         2001,
         74.33890410958904
        ],
        [
         "Pakistan",
         "Islamabad",
         2002,
         64.16136986301379
        ],
        [
         "Austria",
         "Vienna",
         2005,
         50.302191780821964
        ],
        [
         "Georgia",
         "Tbilisi",
         2006,
         -55.93388888888888
        ],
        [
         "Vietnam",
         "Hanoi",
         2000,
         74.37814207650271
        ],
        [
         "Australia",
         "Canberra",
         2012,
         54.41885245901637
        ],
        [
         "Russia",
         "Moscow",
         2006,
         40.98301369863015
        ],
        [
         "Australia",
         "Canberra",
         2011,
         55.107945205479425
        ],
        [
         "Australia",
         "Canberra",
         2013,
         56.023287671232865
        ],
        [
         "Finland",
         "Helsinki",
         2005,
         42.68356164383561
        ],
        [
         "Hungary",
         "Budapest",
         2017,
         52.22164383561643
        ],
        [
         "Hungary",
         "Budapest",
         2020,
         43.4082089552239
        ],
        [
         "Ireland",
         "Dublin",
         2012,
         49.004644808743144
        ],
        [
         "Belgium",
         "Brussels",
         2004,
         51.62978142076503
        ],
        [
         "Finland",
         "Helsinki",
         2016,
         41.353278688524625
        ],
        [
         "France",
         "Paris",
         2019,
         52.20821917808223
        ],
        [
         "Greece",
         "Athens",
         2002,
         63.395890410958934
        ],
        [
         "Greece",
         "Athens",
         2004,
         64.65491803278688
        ],
        [
         "Hungary",
         "Budapest",
         2001,
         51.44027397260275
        ],
        [
         "Cyprus",
         "Nicosia",
         2002,
         28.196712328767138
        ],
        [
         "Finland",
         "Helsinki",
         2013,
         43.63972602739723
        ],
        [
         "Portugal",
         "Lisbon",
         2013,
         60.51232876712328
        ],
        [
         "Ireland",
         "Dublin",
         2017,
         50.20904109589038
        ],
        [
         "Latvia",
         "Riga",
         2013,
         45.147397260274
        ],
        [
         "Portugal",
         "Lisbon",
         2005,
         62.293424657534246
        ],
        [
         "Pakistan",
         "Islamabad",
         2009,
         71.2038356164384
        ],
        [
         "Singapore",
         "Singapore",
         2002,
         80.6153424657535
        ],
        [
         "Austria",
         "Vienna",
         2006,
         51.23534246575341
        ],
        [
         "Croatia",
         "Zagreb",
         2016,
         52.730601092896165
        ],
        [
         "Uzbekistan",
         "Tashkent",
         2002,
         59.10986301369866
        ],
        [
         "Belgium",
         "Brussels",
         2016,
         49.9155737704918
        ],
        [
         "Italy",
         "Rome",
         2018,
         60.82136986301364
        ],
        [
         "Romania",
         "Bucharest",
         2011,
         52.03041095890415
        ],
        [
         "Australia",
         "Canberra",
         2018,
         55.79616438356163
        ],
        [
         "Albania",
         "Tirana",
         2011,
         59.91863013698633
        ],
        [
         "Belarus",
         "Minsk",
         2016,
         44.822950819672144
        ],
        [
         "Russia",
         "Moscow",
         2014,
         43.31835616438356
        ],
        [
         "Uzbekistan",
         "Tashkent",
         2019,
         59.355068493150654
        ],
        [
         "Poland",
         "Warsaw",
         2010,
         46.33561643835618
        ],
        [
         "Albania",
         "Tirana",
         2016,
         58.98688524590167
        ],
        [
         "Hungary",
         "Budapest",
         2002,
         51.13232876712327
        ],
        [
         "Pakistan",
         "Islamabad",
         2018,
         71.14575342465758
        ],
        [
         "Vietnam",
         "Hanoi",
         2004,
         73.64262295081969
        ],
        [
         "Philippines",
         "Manila",
         2000,
         81.9043715846994
        ],
        [
         "Uzbekistan",
         "Tashkent",
         2011,
         60.4649315068493
        ],
        [
         "Albania",
         "Tirana",
         2014,
         60.21561643835616
        ],
        [
         "France",
         "Paris",
         2000,
         54.33770491803271
        ],
        [
         "Greece",
         "Athens",
         2008,
         64.99808743169399
        ],
        [
         "Philippines",
         "Manila",
         2013,
         82.26301369863006
        ],
        [
         "Thailand",
         "Bangkok",
         2009,
         82.70739726027395
        ],
        [
         "Uzbekistan",
         "Tashkent",
         2016,
         60.38661202185796
        ],
        [
         "Austria",
         "Vienna",
         2013,
         51.42630136986303
        ],
        [
         "Bulgaria",
         "Sofia",
         2003,
         50.17205479452053
        ],
        [
         "Croatia",
         "Zagreb",
         2008,
         54.37786885245895
        ],
        [
         "Latvia",
         "Riga",
         2010,
         42.66
        ],
        [
         "Poland",
         "Warsaw",
         2003,
         47.0682191780822
        ],
        [
         "Singapore",
         "Singapore",
         2000,
         81.57404371584707
        ],
        [
         "Uzbekistan",
         "Tashkent",
         2006,
         61.55726027397264
        ],
        [
         "Croatia",
         "Zagreb",
         2010,
         53.21671232876718
        ],
        [
         "Croatia",
         "Zagreb",
         2020,
         47.549624060150386
        ],
        [
         "Hungary",
         "Budapest",
         2004,
         48.69672131147543
        ],
        [
         "Poland",
         "Warsaw",
         2009,
         47.43780821917806
        ],
        [
         "Singapore",
         "Singapore",
         2004,
         82.23989071038253
        ],
        [
         "Thailand",
         "Bangkok",
         2003,
         84.49232876712318
        ],
        [
         "France",
         "Paris",
         2015,
         53.43497267759561
        ],
        [
         "Hungary",
         "Budapest",
         2000,
         53.127049180327866
        ],
        [
         "Latvia",
         "Riga",
         2006,
         45.66986301369866
        ],
        [
         "Poland",
         "Warsaw",
         2015,
         50.17622950819669
        ],
        [
         "Russia",
         "Moscow",
         2019,
         42.826301369863
        ],
        [
         "Belarus",
         "Minsk",
         2008,
         46.17513661202185
        ],
        [
         "Hungary",
         "Budapest",
         2009,
         52.08410958904109
        ],
        [
         "Uzbekistan",
         "Tashkent",
         2017,
         60.7260273972603
        ],
        [
         "Ireland",
         "Dublin",
         2015,
         48.41120218579234
        ],
        [
         "Romania",
         "Bucharest",
         2006,
         52.44986301369866
        ],
        [
         "Philippines",
         "Manila",
         2009,
         81.17041095890406
        ],
        [
         "Belgium",
         "Brussels",
         2003,
         52.32383561643834
        ],
        [
         "France",
         "Paris",
         2001,
         53.94493150684927
        ],
        [
         "Hungary",
         "Budapest",
         2007,
         52.86904109589036
        ],
        [
         "Vietnam",
         "Hanoi",
         2003,
         75.97945205479446
        ],
        [
         "Belarus",
         "Minsk",
         2003,
         44.60410958904108
        ],
        [
         "Czech Republic",
         "Prague",
         2013,
         46.99369863013692
        ],
        [
         "Singapore",
         "Singapore",
         2017,
         81.98821917808219
        ],
        [
         "Czech Republic",
         "Prague",
         2019,
         47.93561643835614
        ],
        [
         "Denmark",
         "Copenhagen",
         2006,
         48.22684931506845
        ],
        [
         "France",
         "Paris",
         2012,
         53.256557377049155
        ],
        [
         "Ireland",
         "Dublin",
         2014,
         49.83945205479451
        ],
        [
         "Thailand",
         "Bangkok",
         2004,
         84.70273224043717
        ],
        [
         "Austria",
         "Vienna",
         2010,
         49.25068493150686
        ],
        [
         "Ireland",
         "Dublin",
         2020,
         44.664179104477604
        ],
        [
         "Singapore",
         "Singapore",
         2003,
         81.58027397260271
        ],
        [
         "France",
         "Paris",
         2010,
         51.64821917808218
        ],
        [
         "Latvia",
         "Riga",
         2004,
         45.17295081967211
        ],
        [
         "Macedonia",
         "Skopje",
         2001,
         54.41178082191789
        ],
        [
         "Australia",
         "Canberra",
         2006,
         57.12246575342469
        ],
        [
         "Singapore",
         "Singapore",
         2016,
         81.30300546448089
        ],
        [
         "South Korea",
         "Seoul",
         2006,
         54.021917808219214
        ],
        [
         "Belarus",
         "Minsk",
         2011,
         46.51178082191784
        ],
        [
         "Belgium",
         "Brussels",
         2019,
         50.01342465753426
        ],
        [
         "Russia",
         "Moscow",
         2009,
         42.130958904109576
        ],
        [
         "Georgia",
         "Tbilisi",
         2005,
         51.16767123287672
        ],
        [
         "Poland",
         "Warsaw",
         2019,
         49.36575342465753
        ],
        [
         "Belarus",
         "Minsk",
         2006,
         45.16767123287672
        ],
        [
         "Czech Republic",
         "Prague",
         2001,
         46.970136986301355
        ],
        [
         "Ireland",
         "Dublin",
         2002,
         48.324931506849325
        ],
        [
         "Bulgaria",
         "Sofia",
         2004,
         50.53961748633877
        ],
        [
         "Croatia",
         "Zagreb",
         2001,
         54.16164383561641
        ],
        [
         "Poland",
         "Warsaw",
         2007,
         49.12
        ],
        [
         "Russia",
         "Moscow",
         2000,
         42.58852459016393
        ],
        [
         "Vietnam",
         "Hanoi",
         2017,
         76.18383561643842
        ],
        [
         "Denmark",
         "Copenhagen",
         2016,
         46.4803278688525
        ],
        [
         "Greece",
         "Athens",
         2011,
         66.22191780821923
        ],
        [
         "Italy",
         "Rome",
         2002,
         58.55150684931504
        ],
        [
         "Latvia",
         "Riga",
         2007,
         45.69178082191779
        ],
        [
         "Latvia",
         "Riga",
         2011,
         45.48109589041091
        ],
        [
         "Norway",
         "Oslo",
         2010,
         37.09999999999997
        ],
        [
         "Singapore",
         "Singapore",
         2011,
         81.75369863013697
        ],
        [
         "Albania",
         "Tirana",
         2003,
         61.87232876712332
        ],
        [
         "Austria",
         "Vienna",
         2007,
         52.59260273972602
        ],
        [
         "Cyprus",
         "Nicosia",
         2004,
         11.40683060109287
        ],
        [
         "Czech Republic",
         "Prague",
         2007,
         49.4019178082192
        ],
        [
         "Italy",
         "Rome",
         2019,
         59.215068493150675
        ],
        [
         "Norway",
         "Oslo",
         2003,
         41.80301369863012
        ],
        [
         "Uzbekistan",
         "Tashkent",
         2005,
         61.095342465753426
        ],
        [
         "Latvia",
         "Riga",
         2018,
         45.46931506849313
        ],
        [
         "Macedonia",
         "Skopje",
         2002,
         52.05835616438356
        ],
        [
         "Norway",
         "Oslo",
         2018,
         41.73342465753427
        ],
        [
         "Philippines",
         "Manila",
         2019,
         80.48164383561645
        ],
        [
         "Thailand",
         "Bangkok",
         2006,
         85.13972602739727
        ],
        [
         "Denmark",
         "Copenhagen",
         2013,
         46.90164383561643
        ],
        [
         "Norway",
         "Oslo",
         2002,
         39.71616438356164
        ],
        [
         "Russia",
         "Moscow",
         2010,
         43.459452054794546
        ],
        [
         "South Korea",
         "Seoul",
         2014,
         54.16904109589037
        ],
        [
         "Uzbekistan",
         "Tashkent",
         2007,
         60.76410958904115
        ],
        [
         "Macedonia",
         "Skopje",
         2013,
         55.56575342465754
        ],
        [
         "Portugal",
         "Lisbon",
         2014,
         61.34054794520546
        ],
        [
         "Croatia",
         "Zagreb",
         2014,
         55.79561643835618
        ],
        [
         "Denmark",
         "Copenhagen",
         2003,
         47.11150684931507
        ],
        [
         "Denmark",
         "Copenhagen",
         2009,
         47.11232876712333
        ],
        [
         "Hungary",
         "Budapest",
         2012,
         52.56174863387979
        ],
        [
         "Italy",
         "Rome",
         2014,
         61.882465753424654
        ],
        [
         "Denmark",
         "Copenhagen",
         2018,
         47.833150684931525
        ],
        [
         "Russia",
         "Moscow",
         2011,
         43.42219178082191
        ],
        [
         "Pakistan",
         "Islamabad",
         2001,
         71.08931506849315
        ],
        [
         "Philippines",
         "Manila",
         2017,
         83.10246575342462
        ],
        [
         "South Korea",
         "Seoul",
         2001,
         52.02684931506849
        ],
        [
         "Thailand",
         "Bangkok",
         2011,
         81.58815789473684
        ],
        [
         "Russia",
         "Moscow",
         2004,
         41.48934426229506
        ],
        [
         "Uzbekistan",
         "Tashkent",
         2015,
         60.44617486338802
        ],
        [
         "Belarus",
         "Minsk",
         2012,
         45.111748633879756
        ],
        [
         "Finland",
         "Helsinki",
         2014,
         43.711780821917806
        ],
        [
         "Pakistan",
         "Islamabad",
         2005,
         70.02575342465755
        ],
        [
         "Belgium",
         "Brussels",
         2017,
         52.132328767123305
        ],
        [
         "Croatia",
         "Zagreb",
         2004,
         53.04726775956282
        ],
        [
         "Bulgaria",
         "Sofia",
         2012,
         53.203551912568265
        ],
        [
         "Belgium",
         "Brussels",
         2006,
         52.05589041095888
        ],
        [
         "Bulgaria",
         "Sofia",
         2015,
         52.537431693989085
        ],
        [
         "Cyprus",
         "Nicosia",
         2003,
         -86.94684931506849
        ],
        [
         "Czech Republic",
         "Prague",
         2011,
         48.665753424657524
        ],
        [
         "Italy",
         "Rome",
         2011,
         60.90219178082182
        ],
        [
         "Poland",
         "Warsaw",
         2005,
         47.60136986301368
        ],
        [
         "Pakistan",
         "Islamabad",
         2006,
         71.36438356164382
        ],
        [
         "Singapore",
         "Singapore",
         2020,
         83.0589552238806
        ],
        [
         "South Korea",
         "Seoul",
         2011,
         52.625205479452084
        ],
        [
         "Uzbekistan",
         "Tashkent",
         2012,
         58.93825136612021
        ],
        [
         "Bulgaria",
         "Sofia",
         2014,
         52.71917808219179
        ],
        [
         "Belgium",
         "Brussels",
         2008,
         51.06994535519125
        ],
        [
         "Russia",
         "Moscow",
         2016,
         41.583060109289605
        ],
        [
         "Latvia",
         "Riga",
         2003,
         45.67205479452051
        ],
        [
         "Portugal",
         "Lisbon",
         2004,
         62.213934426229464
        ],
        [
         "Romania",
         "Bucharest",
         2019,
         53.04383561643838
        ],
        [
         "Latvia",
         "Riga",
         2015,
         46.08606557377049
        ],
        [
         "Norway",
         "Oslo",
         2011,
         42.47315068493148
        ],
        [
         "Poland",
         "Warsaw",
         2008,
         48.90136612021858
        ],
        [
         "Ireland",
         "Dublin",
         2013,
         49.204109589041146
        ],
        [
         "Macedonia",
         "Skopje",
         2007,
         55.26383561643837
        ],
        [
         "South Korea",
         "Seoul",
         2007,
         53.238356164383525
        ],
        [
         "Vietnam",
         "Hanoi",
         2016,
         75.24426229508201
        ],
        [
         "Austria",
         "Vienna",
         2001,
         50.82301369863017
        ],
        [
         "Ireland",
         "Dublin",
         2004,
         49.88196721311479
        ],
        [
         "Ireland",
         "Dublin",
         2019,
         47.38602739726026
        ],
        [
         "Romania",
         "Bucharest",
         2017,
         53.39972602739727
        ],
        [
         "Uzbekistan",
         "Tashkent",
         2009,
         60.59068493150686
        ],
        [
         "Australia",
         "Canberra",
         2000,
         55.44945355191257
        ],
        [
         "Austria",
         "Vienna",
         2003,
         51.49506849315072
        ],
        [
         "Finland",
         "Helsinki",
         2001,
         42.01205479452054
        ],
        [
         "Macedonia",
         "Skopje",
         2006,
         53.416164383561586
        ],
        [
         "Portugal",
         "Lisbon",
         2003,
         63.05835616438352
        ],
        [
         "Philippines",
         "Manila",
         2003,
         80.56575342465754
        ],
        [
         "Belgium",
         "Brussels",
         2012,
         50.75737704918034
        ],
        [
         "Denmark",
         "Copenhagen",
         2005,
         47.11561643835618
        ],
        [
         "Macedonia",
         "Skopje",
         2011,
         53.74986301369865
        ],
        [
         "Vietnam",
         "Hanoi",
         2015,
         74.75519125683067
        ],
        [
         "Latvia",
         "Riga",
         2000,
         47.236338797814206
        ],
        [
         "Latvia",
         "Riga",
         2002,
         45.11150684931506
        ],
        [
         "Latvia",
         "Riga",
         2019,
         44.94547945205482
        ],
        [
         "Norway",
         "Oslo",
         2017,
         41.874520547945195
        ],
        [
         "Pakistan",
         "Islamabad",
         2010,
         72.78849315068486
        ],
        [
         "Uzbekistan",
         "Tashkent",
         2004,
         61.92950819672129
        ],
        [
         "Russia",
         "Moscow",
         2020,
         36.78283582089553
        ],
        [
         "Slovakia",
         "Bratislava",
         2003,
         51.43643835616442
        ],
        [
         "Pakistan",
         "Islamabad",
         2017,
         72.48520547945206
        ],
        [
         "Uzbekistan",
         "Tashkent",
         2008,
         59.783879781420836
        ],
        [
         "Belarus",
         "Minsk",
         2007,
         45.9564383561644
        ],
        [
         "Denmark",
         "Copenhagen",
         2002,
         46.36273972602738
        ],
        [
         "Romania",
         "Bucharest",
         2005,
         51.490958904109604
        ],
        [
         "Singapore",
         "Singapore",
         2013,
         81.92273972602752
        ],
        [
         "Vietnam",
         "Hanoi",
         2005,
         74.3054794520548
        ],
        [
         "Australia",
         "Canberra",
         2002,
         54.83863013698636
        ],
        [
         "Greece",
         "Athens",
         2005,
         64.27342465753425
        ],
        [
         "Russia",
         "Moscow",
         2012,
         41.6275956284153
        ],
        [
         "Pakistan",
         "Islamabad",
         2000,
         43.55491803278686
        ],
        [
         "Finland",
         "Helsinki",
         2020,
         36.508955223880605
        ],
        [
         "Ireland",
         "Dublin",
         2008,
         48.77322404371586
        ],
        [
         "Italy",
         "Rome",
         2003,
         61.05999999999997
        ],
        [
         "Macedonia",
         "Skopje",
         2019,
         54.24739726027397
        ],
        [
         "Philippines",
         "Manila",
         2005,
         82.17479452054793
        ],
        [
         "Bulgaria",
         "Sofia",
         2000,
         51.72759562841535
        ],
        [
         "Portugal",
         "Lisbon",
         2010,
         63.18027397260279
        ],
        [
         "Portugal",
         "Lisbon",
         2020,
         55.2902985074627
        ],
        [
         "Romania",
         "Bucharest",
         2007,
         54.30273972602739
        ],
        [
         "Philippines",
         "Manila",
         2008,
         80.46530054644809
        ],
        [
         "Singapore",
         "Singapore",
         2012,
         81.70792349726776
        ],
        [
         "Italy",
         "Rome",
         2006,
         60.395890410958906
        ],
        [
         "Italy",
         "Rome",
         2015,
         60.57213114754101
        ],
        [
         "Slovakia",
         "Bratislava",
         2001,
         51.12
        ],
        [
         "South Korea",
         "Seoul",
         2005,
         52.293698630136966
        ],
        [
         "Italy",
         "Rome",
         2004,
         59.942896174863485
        ],
        [
         "France",
         "Paris",
         2017,
         54.36794520547941
        ],
        [
         "Norway",
         "Oslo",
         2008,
         43.43239831697054
        ],
        [
         "Singapore",
         "Singapore",
         2015,
         81.98032786885247
        ],
        [
         "Czech Republic",
         "Prague",
         2012,
         48.32240437158474
        ],
        [
         "Albania",
         "Tirana",
         2008,
         59.790710382513666
        ],
        [
         "Finland",
         "Helsinki",
         2003,
         41.38876712328768
        ],
        [
         "Finland",
         "Helsinki",
         2012,
         41.507650273224066
        ],
        [
         "Ireland",
         "Dublin",
         2003,
         49.970684931506845
        ],
        [
         "Pakistan",
         "Islamabad",
         2003,
         70.81232876712333
        ],
        [
         "Denmark",
         "Copenhagen",
         2010,
         44.386575342465754
        ],
        [
         "Albania",
         "Tirana",
         2020,
         51.1597014925373
        ],
        [
         "Cyprus",
         "Nicosia",
         2010,
         -97.90058139534885
        ],
        [
         "Macedonia",
         "Skopje",
         2015,
         54.46857923497271
        ],
        [
         "South Korea",
         "Seoul",
         2010,
         53.08575342465748
        ],
        [
         "Greece",
         "Athens",
         2007,
         63.9602739726027
        ],
        [
         "Romania",
         "Bucharest",
         2004,
         51.918032786885306
        ],
        [
         "Australia",
         "Canberra",
         2005,
         56.650958904109544
        ],
        [
         "Bulgaria",
         "Sofia",
         2001,
         50.724109589041085
        ],
        [
         "Finland",
         "Helsinki",
         2002,
         40.78164383561643
        ],
        [
         "Macedonia",
         "Skopje",
         2010,
         55.22301369863019
        ],
        [
         "Norway",
         "Oslo",
         2001,
         40.435616438356156
        ],
        [
         "Hungary",
         "Budapest",
         2014,
         53.27315068493153
        ],
        [
         "Belarus",
         "Minsk",
         2002,
         44.93890410958903
        ],
        [
         "Hungary",
         "Budapest",
         2008,
         52.225683060109276
        ],
        [
         "Russia",
         "Moscow",
         2013,
         43.32602739726026
        ],
        [
         "Russia",
         "Moscow",
         2018,
         41.14219178082195
        ],
        [
         "Croatia",
         "Zagreb",
         2012,
         55.56366120218577
        ],
        [
         "Greece",
         "Athens",
         2001,
         66.14054794520544
        ],
        [
         "Poland",
         "Warsaw",
         2000,
         49.37295081967212
        ],
        [
         "Russia",
         "Moscow",
         2007,
         43.50493150684934
        ],
        [
         "Albania",
         "Tirana",
         2017,
         60.38465753424662
        ],
        [
         "Portugal",
         "Lisbon",
         2000,
         62.27650273224043
        ],
        [
         "Bulgaria",
         "Sofia",
         2019,
         50.73369863013699
        ],
        [
         "Finland",
         "Helsinki",
         2007,
         43.187397260274
        ],
        [
         "Albania",
         "Tirana",
         2019,
         59.467123287671185
        ],
        [
         "Denmark",
         "Copenhagen",
         2020,
         42.32761194029851
        ],
        [
         "Romania",
         "Bucharest",
         2013,
         53.59835616438359
        ],
        [
         "Vietnam",
         "Hanoi",
         2006,
         75.84904109589034
        ],
        [
         "Australia",
         "Canberra",
         2020,
         63.372388059701514
        ],
        [
         "Georgia",
         "Tbilisi",
         2003,
         55.84465753424652
        ],
        [
         "Italy",
         "Rome",
         2012,
         61.075136612021915
        ],
        [
         "Pakistan",
         "Islamabad",
         2008,
         70.75546448087434
        ],
        [
         "Romania",
         "Bucharest",
         2003,
         51.52630136986301
        ],
        [
         "Australia",
         "Canberra",
         2009,
         57.22602739726028
        ],
        [
         "Albania",
         "Tirana",
         2006,
         58.56904109589039
        ],
        [
         "Bulgaria",
         "Sofia",
         2007,
         53.12602739726023
        ],
        [
         "Poland",
         "Warsaw",
         2013,
         48.01205479452053
        ],
        [
         "Singapore",
         "Singapore",
         2018,
         80.34821917808218
        ],
        [
         "Bulgaria",
         "Sofia",
         2016,
         51.70765027322405
        ],
        [
         "Croatia",
         "Zagreb",
         2019,
         54.00000000000003
        ],
        [
         "Norway",
         "Oslo",
         2006,
         43.17397260273973
        ],
        [
         "Russia",
         "Moscow",
         2002,
         40.29041095890409
        ],
        [
         "Singapore",
         "Singapore",
         2005,
         82.51369863013694
        ],
        [
         "Austria",
         "Vienna",
         2002,
         50.21561643835616
        ],
        [
         "Belgium",
         "Brussels",
         2001,
         51.58739726027402
        ],
        [
         "Latvia",
         "Riga",
         2016,
         44.59535519125679
        ],
        [
         "Romania",
         "Bucharest",
         2014,
         52.81123287671232
        ],
        [
         "Vietnam",
         "Hanoi",
         2014,
         75.07589041095896
        ],
        [
         "Czech Republic",
         "Prague",
         2018,
         49.36356164383561
        ],
        [
         "Macedonia",
         "Skopje",
         2004,
         54.07978142076503
        ],
        [
         "Vietnam",
         "Hanoi",
         2019,
         74.33342465753418
        ],
        [
         "Albania",
         "Tirana",
         2000,
         54.7579234972678
        ],
        [
         "South Korea",
         "Seoul",
         2015,
         54.34480874316938
        ],
        [
         "South Korea",
         "Seoul",
         2016,
         53.777049180327936
        ],
        [
         "Denmark",
         "Copenhagen",
         2011,
         47.742739726027395
        ],
        [
         "Slovakia",
         "Bratislava",
         2000,
         53.20191256830598
        ],
        [
         "Albania",
         "Tirana",
         2012,
         59.88442622950815
        ],
        [
         "Vietnam",
         "Hanoi",
         2008,
         73.28005464480874
        ],
        [
         "Albania",
         "Tirana",
         2004,
         61.0852459016393
        ],
        [
         "Hungary",
         "Budapest",
         2018,
         52.36054794520547
        ],
        [
         "Austria",
         "Vienna",
         2018,
         52.533150684931506
        ],
        [
         "Philippines",
         "Manila",
         2015,
         82.02021857923489
        ],
        [
         "Bulgaria",
         "Sofia",
         2009,
         52.239452054794555
        ],
        [
         "Cyprus",
         "Nicosia",
         2007,
         63.99452054794519
        ],
        [
         "Finland",
         "Helsinki",
         2006,
         43.189589041095886
        ],
        [
         "Australia",
         "Canberra",
         2007,
         57.30794520547943
        ],
        [
         "Denmark",
         "Copenhagen",
         2007,
         48.188767123287654
        ],
        [
         "Austria",
         "Vienna",
         2017,
         52.35150684931506
        ],
        [
         "Poland",
         "Warsaw",
         2004,
         47.23825136612019
        ],
        [
         "South Korea",
         "Seoul",
         2003,
         53.14328767123286
        ],
        [
         "Uzbekistan",
         "Tashkent",
         2013,
         61.28410958904114
        ],
        [
         "Croatia",
         "Zagreb",
         2007,
         52.39041095890409
        ],
        [
         "Czech Republic",
         "Prague",
         2020,
         42.094029850746274
        ],
        [
         "France",
         "Paris",
         2016,
         51.122950819672184
        ],
        [
         "Ireland",
         "Dublin",
         2018,
         48.69315068493149
        ],
        [
         "Macedonia",
         "Skopje",
         2003,
         54.23753424657536
        ],
        [
         "Philippines",
         "Manila",
         2014,
         81.57479452054797
        ],
        [
         "Albania",
         "Tirana",
         2018,
         59.88931506849319
        ],
        [
         "Belarus",
         "Minsk",
         2017,
         32.97753424657535
        ],
        [
         "Croatia",
         "Zagreb",
         2006,
         54.22054794520546
        ],
        [
         "Austria",
         "Vienna",
         2020,
         44.924626865671655
        ],
        [
         "Belgium",
         "Brussels",
         2007,
         51.73095890410962
        ],
        [
         "Italy",
         "Rome",
         2009,
         61.091506849315024
        ],
        [
         "Macedonia",
         "Skopje",
         2009,
         54.202191780821934
        ],
        [
         "France",
         "Paris",
         2007,
         53.57205479452048
        ],
        [
         "Norway",
         "Oslo",
         2005,
         42.87999999999999
        ],
        [
         "Norway",
         "Oslo",
         2019,
         39.80958904109592
        ],
        [
         "Poland",
         "Warsaw",
         2001,
         47.099178082191784
        ],
        [
         "Cyprus",
         "Nicosia",
         2000,
         31.49754098360656
        ],
        [
         "Hungary",
         "Budapest",
         2013,
         52.29726027397263
        ],
        [
         "Philippines",
         "Manila",
         2012,
         82.40983606557384
        ],
        [
         "Vietnam",
         "Hanoi",
         2010,
         76.20794520547946
        ],
        [
         "Czech Republic",
         "Prague",
         2015,
         49.546721311475416
        ],
        [
         "France",
         "Paris",
         2014,
         53.65041095890415
        ],
        [
         "Singapore",
         "Singapore",
         2008,
         81.06803278688527
        ],
        [
         "Uzbekistan",
         "Tashkent",
         2003,
         60.16767123287672
        ],
        [
         "Belgium",
         "Brussels",
         2015,
         51.101366120218614
        ],
        [
         "Finland",
         "Helsinki",
         2018,
         42.44684931506848
        ],
        [
         "Ireland",
         "Dublin",
         2009,
         48.91369863013695
        ],
        [
         "Romania",
         "Bucharest",
         2001,
         52.98794520547949
        ],
        [
         "Pakistan",
         "Islamabad",
         2004,
         71.66584699453553
        ],
        [
         "Pakistan",
         "Islamabad",
         2007,
         70.98328767123292
        ],
        [
         "Finland",
         "Helsinki",
         2011,
         44.211780821917806
        ],
        [
         "Poland",
         "Warsaw",
         2016,
         48.23852459016394
        ],
        [
         "Philippines",
         "Manila",
         2006,
         82.36082191780815
        ],
        [
         "Norway",
         "Oslo",
         2009,
         40.830684931506816
        ],
        [
         "Denmark",
         "Copenhagen",
         2012,
         46.79535519125686
        ],
        [
         "Georgia",
         "Tbilisi",
         2004,
         56.671311475409816
        ],
        [
         "Greece",
         "Athens",
         2010,
         67.12876712328763
        ],
        [
         "Poland",
         "Warsaw",
         2017,
         49.20657534246575
        ],
        [
         "Portugal",
         "Lisbon",
         2008,
         61.88306010928965
        ],
        [
         "Singapore",
         "Singapore",
         2006,
         82.0432876712329
        ],
        [
         "Belgium",
         "Brussels",
         2009,
         50.849589041095875
        ],
        [
         "Czech Republic",
         "Prague",
         2010,
         45.986301369862986
        ],
        [
         "France",
         "Paris",
         2006,
         54.19972602739725
        ],
        [
         "Albania",
         "Tirana",
         2002,
         41.51287671232874
        ],
        [
         "Ireland",
         "Dublin",
         2006,
         50.48904109589042
        ],
        [
         "Philippines",
         "Manila",
         2018,
         80.58191780821919
        ],
        [
         "Belgium",
         "Brussels",
         2000,
         52.31502732240441
        ],
        [
         "Croatia",
         "Zagreb",
         2000,
         55.007923497267775
        ],
        [
         "Denmark",
         "Copenhagen",
         2000,
         48.314754098360645
        ],
        [
         "Thailand",
         "Bangkok",
         2010,
         84.15232876712318
        ],
        [
         "Hungary",
         "Budapest",
         2015,
         52.768306010928974
        ],
        [
         "Portugal",
         "Lisbon",
         2012,
         60.611748633879735
        ],
        [
         "Singapore",
         "Singapore",
         2009,
         81.88082191780819
        ],
        [
         "Macedonia",
         "Skopje",
         2020,
         44.533582089552255
        ],
        [
         "France",
         "Paris",
         2013,
         52.08849315068489
        ],
        [
         "Italy",
         "Rome",
         2013,
         61.049315068493144
        ],
        [
         "Singapore",
         "Singapore",
         2007,
         81.16438356164382
        ],
        [
         "Bulgaria",
         "Sofia",
         2018,
         51.37616438356167
        ],
        [
         "Cyprus",
         "Nicosia",
         2006,
         66.32821917808215
        ],
        [
         "Macedonia",
         "Skopje",
         2014,
         55.32821917808217
        ],
        [
         "Philippines",
         "Manila",
         2016,
         81.66202185792353
        ],
        [
         "Greece",
         "Athens",
         2003,
         64.91863013698631
        ],
        [
         "Vietnam",
         "Hanoi",
         2011,
         73.58739726027397
        ],
        [
         "Austria",
         "Vienna",
         2008,
         52.17704918032788
        ],
        [
         "Russia",
         "Moscow",
         2008,
         43.39590163934426
        ],
        [
         "Australia",
         "Canberra",
         2017,
         56.417534246575364
        ],
        [
         "Czech Republic",
         "Prague",
         2014,
         49.51863013698624
        ],
        [
         "Hungary",
         "Budapest",
         2005,
         48.35178082191782
        ],
        [
         "Norway",
         "Oslo",
         2012,
         40.830601092896174
        ],
        [
         "Belarus",
         "Minsk",
         2000,
         46.96120218579237
        ],
        [
         "Australia",
         "Canberra",
         2019,
         55.262465753424635
        ],
        [
         "Ireland",
         "Dublin",
         2005,
         50.24684931506849
        ],
        [
         "Macedonia",
         "Skopje",
         2012,
         55.05081967213109
        ],
        [
         "Norway",
         "Oslo",
         2016,
         40.95491803278688
        ],
        [
         "Romania",
         "Bucharest",
         2015,
         53.6918032786885
        ],
        [
         "Vietnam",
         "Hanoi",
         2013,
         73.87232876712328
        ],
        [
         "Australia",
         "Canberra",
         2014,
         56.1983561643836
        ],
        [
         "Belarus",
         "Minsk",
         2020,
         24.514393939393926
        ],
        [
         "Czech Republic",
         "Prague",
         2003,
         48.11260273972602
        ],
        [
         "Finland",
         "Helsinki",
         2008,
         44.62295081967211
        ],
        [
         "Hungary",
         "Budapest",
         2003,
         51.323287671232876
        ],
        [
         "Portugal",
         "Lisbon",
         2007,
         61.11726027397258
        ],
        [
         "Australia",
         "Canberra",
         2016,
         55.479508196721305
        ],
        [
         "Cyprus",
         "Nicosia",
         2008,
         67.59890710382518
        ],
        [
         "Hungary",
         "Budapest",
         2016,
         50.56229508196717
        ],
        [
         "Philippines",
         "Manila",
         2007,
         82.07013698630142
        ],
        [
         "Singapore",
         "Singapore",
         2001,
         81.70849315068493
        ],
        [
         "Singapore",
         "Singapore",
         2010,
         82.67616438356166
        ],
        [
         "Denmark",
         "Copenhagen",
         2001,
         46.6764383561644
        ],
        [
         "Italy",
         "Rome",
         2020,
         52.67611940298508
        ],
        [
         "Pakistan",
         "Islamabad",
         2014,
         70.62356164383566
        ],
        [
         "Australia",
         "Canberra",
         2004,
         56.841530054644856
        ],
        [
         "Ireland",
         "Dublin",
         2007,
         49.6386301369863
        ],
        [
         "Italy",
         "Rome",
         2007,
         60.57671232876712
        ],
        [
         "South Korea",
         "Seoul",
         2004,
         54.84043715846998
        ],
        [
         "Thailand",
         "Bangkok",
         2005,
         85.05506849315066
        ],
        [
         "Austria",
         "Vienna",
         2019,
         51.817534246575406
        ],
        [
         "Croatia",
         "Zagreb",
         2015,
         54.85956284153007
        ],
        [
         "Thailand",
         "Bangkok",
         2002,
         82.7156164383562
        ],
        [
         "Austria",
         "Vienna",
         2009,
         51.36082191780821
        ],
        [
         "Austria",
         "Vienna",
         2012,
         51.911475409836065
        ],
        [
         "Belgium",
         "Brussels",
         2014,
         52.709315068493176
        ],
        [
         "Ireland",
         "Dublin",
         2000,
         48.94180327868844
        ],
        [
         "Romania",
         "Bucharest",
         2016,
         52.033606557377006
        ],
        [
         "Albania",
         "Tirana",
         2009,
         59.40109589041092
        ],
        [
         "Bulgaria",
         "Sofia",
         2008,
         52.9792349726776
        ],
        [
         "France",
         "Paris",
         2003,
         54.56219178082192
        ],
        [
         "France",
         "Paris",
         2009,
         53.061095890410954
        ],
        [
         "Pakistan",
         "Islamabad",
         2020,
         55.41654135338347
        ],
        [
         "Austria",
         "Vienna",
         2015,
         52.63961748633882
        ],
        [
         "Greece",
         "Athens",
         2009,
         64.84465753424652
        ],
        [
         "Latvia",
         "Riga",
         2009,
         44.24739726027398
        ],
        [
         "Norway",
         "Oslo",
         2004,
         42.11994535519124
        ],
        [
         "Czech Republic",
         "Prague",
         2006,
         48.335616438356155
        ],
        [
         "Finland",
         "Helsinki",
         2015,
         44.13387978142078
        ],
        [
         "Greece",
         "Athens",
         2006,
         63.27726027397264
        ],
        [
         "Italy",
         "Rome",
         2008,
         60.20819672131149
        ],
        [
         "Portugal",
         "Lisbon",
         2015,
         60.799180327868854
        ],
        [
         "Macedonia",
         "Skopje",
         2000,
         54.17185792349724
        ],
        [
         "Pakistan",
         "Islamabad",
         2011,
         72.0797260273972
        ],
        [
         "Australia",
         "Canberra",
         2008,
         55.24289617486339
        ],
        [
         "Bulgaria",
         "Sofia",
         2020,
         42.10820895522389
        ],
        [
         "Russia",
         "Moscow",
         2015,
         43.86092896174861
        ],
        [
         "Croatia",
         "Zagreb",
         2011,
         54.72739726027395
        ],
        [
         "Croatia",
         "Zagreb",
         2013,
         54.370136986301326
        ],
        [
         "Hungary",
         "Budapest",
         2011,
         51.536164383561626
        ],
        [
         "Australia",
         "Canberra",
         2001,
         55.715616438356165
        ],
        [
         "South Korea",
         "Seoul",
         2019,
         52.56191780821919
        ],
        [
         "Bulgaria",
         "Sofia",
         2005,
         49.13972602739721
        ],
        [
         "Poland",
         "Warsaw",
         2018,
         49.650410958904146
        ],
        [
         "Romania",
         "Bucharest",
         2009,
         53.35589041095888
        ],
        [
         "Slovakia",
         "Bratislava",
         2015,
         52.81775956284158
        ],
        [
         "Switzerland",
         "Bern",
         2012,
         48.887978142076534
        ],
        [
         "Jordan",
         "Amman",
         2010,
         68.17808219178085
        ],
        [
         "Slovakia",
         "Bratislava",
         2010,
         50.053424657534194
        ],
        [
         "Turkey",
         "Ankara",
         2011,
         49.66328767123287
        ],
        [
         "Bahamas",
         "Nassau",
         2001,
         76.98438356164384
        ],
        [
         "Bahamas",
         "Nassau",
         2019,
         76.20986301369854
        ],
        [
         "Spain",
         "Madrid",
         2011,
         60.0972602739726
        ],
        [
         "Barbados",
         "Bridgetown",
         2015,
         80.4469945355191
        ],
        [
         "United Arab Emirates",
         "Abu Dhabi",
         2012,
         83.29289617486346
        ],
        [
         "Bolivia",
         "La Paz",
         2006,
         44.65698630136985
        ],
        [
         "Barbados",
         "Bridgetown",
         2009,
         80.62931506849316
        ],
        [
         "Jordan",
         "Amman",
         2001,
         65.14986301369862
        ],
        [
         "Lebanon",
         "Beirut",
         2002,
         68.42438356164384
        ],
        [
         "Canada",
         "Ottawa",
         2006,
         45.97726027397255
        ],
        [
         "Barbados",
         "Bridgetown",
         2010,
         82.04273972602735
        ],
        [
         "Spain",
         "Madrid",
         2004,
         57.572677595628384
        ],
        [
         "Switzerland",
         "Bern",
         2015,
         49.14972677595629
        ],
        [
         "Mexico",
         "Mexico City",
         2010,
         62.73698630136983
        ],
        [
         "Lebanon",
         "Beirut",
         2000,
         69.42349726775956
        ],
        [
         "Mexico",
         "Mexico City",
         2020,
         65.18270676691732
        ],
        [
         "Sweden",
         "Stockholm",
         2000,
         47.27868852459015
        ],
        [
         "Sweden",
         "Stockholm",
         2017,
         45.47041095890408
        ],
        [
         "Saudi Arabia",
         "Riyadh",
         2009,
         79.09589041095893
        ],
        [
         "Slovakia",
         "Bratislava",
         2009,
         51.81315068493151
        ],
        [
         "Syria",
         "Damascus",
         2000,
         63.09836065573772
        ],
        [
         "Syria",
         "Damascus",
         2013,
         64.05150684931503
        ],
        [
         "Bolivia",
         "La Paz",
         2018,
         43.446301369863015
        ],
        [
         "Bahrain",
         "Manama",
         2003,
         80.97643835616437
        ],
        [
         "Oman",
         "Muscat",
         2015,
         69.45054644808745
        ],
        [
         "Bahamas",
         "Nassau",
         2002,
         76.5254794520548
        ],
        [
         "Barbados",
         "Bridgetown",
         2013,
         80.76575342465755
        ],
        [
         "Bahrain",
         "Manama",
         2008,
         79.51229508196724
        ],
        [
         "Qatar",
         "Doha",
         2017,
         84.36876712328761
        ],
        [
         "Saudi Arabia",
         "Riyadh",
         2007,
         78.77643835616443
        ],
        [
         "Bahrain",
         "Manama",
         2006,
         81.00547945205477
        ],
        [
         "Oman",
         "Muscat",
         2005,
         81.19616438356167
        ],
        [
         "Argentina",
         "Buenos Aires",
         2019,
         60.40712328767126
        ],
        [
         "Slovakia",
         "Bratislava",
         2014,
         53.53342465753425
        ],
        [
         "Bolivia",
         "La Paz",
         2010,
         46.15369863013698
        ],
        [
         "Lebanon",
         "Beirut",
         2011,
         70.00301369863013
        ],
        [
         "Qatar",
         "Doha",
         2013,
         83.26739726027397
        ],
        [
         "Sweden",
         "Stockholm",
         2001,
         45.733424657534236
        ],
        [
         "Jordan",
         "Amman",
         2020,
         54.119402985074615
        ],
        [
         "Mexico",
         "Mexico City",
         2005,
         63.14958904109591
        ],
        [
         "Canada",
         "Ottawa",
         2001,
         45.93205479452053
        ],
        [
         "Oman",
         "Muscat",
         2014,
         47.72547945205477
        ],
        [
         "United Arab Emirates",
         "Abu Dhabi",
         2009,
         82.07123287671237
        ],
        [
         "Barbados",
         "Bridgetown",
         2016,
         79.60136612021856
        ],
        [
         "Jordan",
         "Amman",
         2009,
         64.59397260273968
        ],
        [
         "Mexico",
         "Mexico City",
         2007,
         61.59123287671232
        ],
        [
         "Switzerland",
         "Bern",
         2009,
         50.86438356164383
        ],
        [
         "Bolivia",
         "La Paz",
         2020,
         48.049253731343285
        ],
        [
         "Bahamas",
         "Nassau",
         2000,
         76.41530054644808
        ],
        [
         "Spain",
         "Madrid",
         2013,
         58.5898630136986
        ],
        [
         "Barbados",
         "Bridgetown",
         2003,
         70.4334246575342
        ],
        [
         "Bolivia",
         "La Paz",
         2017,
         46.22876712328765
        ],
        [
         "Oman",
         "Muscat",
         2011,
         55.286849315068494
        ],
        [
         "Mexico",
         "Mexico City",
         2016,
         61.398360655737704
        ],
        [
         "Mexico",
         "Mexico City",
         2008,
         60.504918032786904
        ],
        [
         "Argentina",
         "Buenos Aires",
         2012,
         63.725136612021885
        ],
        [
         "Bolivia",
         "La Paz",
         2014,
         45.066301369863034
        ],
        [
         "Switzerland",
         "Bern",
         2017,
         49.494520547945214
        ],
        [
         "Saudi Arabia",
         "Riyadh",
         2006,
         78.97972602739729
        ],
        [
         "Sweden",
         "Stockholm",
         2002,
         44.596986301369824
        ],
        [
         "Saudi Arabia",
         "Riyadh",
         2008,
         77.66284153005466
        ],
        [
         "Canada",
         "Ottawa",
         2004,
         42.688797814207646
        ],
        [
         "Barbados",
         "Bridgetown",
         2007,
         78.61013698630136
        ],
        [
         "Turkey",
         "Ankara",
         2007,
         52.276438356164356
        ],
        [
         "Canada",
         "Ottawa",
         2010,
         46.545479452054764
        ],
        [
         "Mexico",
         "Mexico City",
         2003,
         62.124657534246616
        ],
        [
         "Sweden",
         "Stockholm",
         2005,
         45.6309589041096
        ],
        [
         "Jordan",
         "Amman",
         2008,
         64.76284153005467
        ],
        [
         "Jordan",
         "Amman",
         2014,
         65.00356164383561
        ],
        [
         "Spain",
         "Madrid",
         2017,
         60.827123287671206
        ],
        [
         "Jordan",
         "Amman",
         2007,
         64.19232876712329
        ],
        [
         "United Arab Emirates",
         "Abu Dhabi",
         2020,
         71.61940298507461
        ],
        [
         "Canada",
         "Ottawa",
         2003,
         42.80082191780823
        ],
        [
         "Bolivia",
         "La Paz",
         2016,
         45.314754098360595
        ],
        [
         "Sweden",
         "Stockholm",
         2013,
         45.18109589041101
        ],
        [
         "Saudi Arabia",
         "Riyadh",
         2018,
         78.52767123287671
        ],
        [
         "Qatar",
         "Doha",
         2015,
         82.30792349726771
        ],
        [
         "United Arab Emirates",
         "Abu Dhabi",
         2002,
         80.87041095890409
        ],
        [
         "United Arab Emirates",
         "Abu Dhabi",
         2016,
         81.84016393442622
        ],
        [
         "Bahamas",
         "Nassau",
         2016,
         76.4174863387978
        ],
        [
         "United Arab Emirates",
         "Abu Dhabi",
         2004,
         83.03688524590164
        ],
        [
         "Bermuda",
         "Hamilton",
         2002,
         69.79863013698635
        ],
        [
         "Bahrain",
         "Manama",
         2004,
         80.7784153005464
        ],
        [
         "Lebanon",
         "Beirut",
         2001,
         70.93205479452057
        ],
        [
         "Saudi Arabia",
         "Riyadh",
         2013,
         78.99287671232877
        ],
        [
         "Bahamas",
         "Nassau",
         2018,
         76.63041095890406
        ],
        [
         "Syria",
         "Damascus",
         2020,
         50.68582089552241
        ],
        [
         "United Arab Emirates",
         "Abu Dhabi",
         2005,
         82.35835616438357
        ],
        [
         "Sweden",
         "Stockholm",
         2010,
         42.040547945205475
        ],
        [
         "Oman",
         "Muscat",
         2019,
         63.02416107382553
        ],
        [
         "Saudi Arabia",
         "Riyadh",
         2004,
         78.81120218579235
        ],
        [
         "Jordan",
         "Amman",
         2013,
         63.92712328767123
        ],
        [
         "Oman",
         "Muscat",
         2002,
         75.59041095890412
        ],
        [
         "Spain",
         "Madrid",
         2005,
         58.578630136986256
        ],
        [
         "Switzerland",
         "Bern",
         2003,
         50.58054794520548
        ],
        [
         "Saudi Arabia",
         "Riyadh",
         2010,
         80.5328767123287
        ],
        [
         "Saudi Arabia",
         "Riyadh",
         2014,
         79.14547945205483
        ],
        [
         "Bolivia",
         "La Paz",
         2002,
         43.7627397260274
        ],
        [
         "Bahrain",
         "Manama",
         2018,
         81.3008219178082
        ],
        [
         "Saudi Arabia",
         "Riyadh",
         2002,
         76.98410958904108
        ],
        [
         "Syria",
         "Damascus",
         2010,
         66.69726027397256
        ],
        [
         "Bermuda",
         "Hamilton",
         2007,
         70.3835616438356
        ],
        [
         "Spain",
         "Madrid",
         2000,
         57.804371584699425
        ],
        [
         "Argentina",
         "Buenos Aires",
         2017,
         64.13780821917805
        ],
        [
         "Qatar",
         "Doha",
         2020,
         73.62014925373134
        ],
        [
         "Syria",
         "Damascus",
         2011,
         62.442191780821915
        ],
        [
         "Canada",
         "Ottawa",
         2011,
         45.86109589041093
        ],
        [
         "Bermuda",
         "Hamilton",
         2008,
         68.89098360655738
        ],
        [
         "Lebanon",
         "Beirut",
         2008,
         69.52868852459011
        ],
        [
         "United Arab Emirates",
         "Abu Dhabi",
         2018,
         82.95452054794525
        ],
        [
         "Lebanon",
         "Beirut",
         2012,
         70.87076502732238
        ],
        [
         "Turkey",
         "Ankara",
         2000,
         49.04918032786888
        ],
        [
         "Mexico",
         "Mexico City",
         2019,
         61.955342465753425
        ],
        [
         "Bolivia",
         "La Paz",
         2007,
         44.46054794520548
        ],
        [
         "Spain",
         "Madrid",
         2014,
         60.00684931506852
        ],
        [
         "Qatar",
         "Doha",
         2006,
         82.7961643835616
        ],
        [
         "Bahrain",
         "Manama",
         2012,
         81.68415300546445
        ],
        [
         "Qatar",
         "Doha",
         2001,
         82.98684931506853
        ],
        [
         "Bahamas",
         "Nassau",
         2005,
         75.13643835616439
        ],
        [
         "Slovakia",
         "Bratislava",
         2018,
         52.57232876712324
        ],
        [
         "Sweden",
         "Stockholm",
         2015,
         45.77704918032782
        ],
        [
         "Qatar",
         "Doha",
         2012,
         83.7991803278688
        ],
        [
         "Mexico",
         "Mexico City",
         2009,
         62.89479452054798
        ],
        [
         "Syria",
         "Damascus",
         2012,
         63.731693989071054
        ],
        [
         "Slovakia",
         "Bratislava",
         2011,
         51.98986301369862
        ],
        [
         "Bahrain",
         "Manama",
         2015,
         81.6229508196721
        ],
        [
         "Qatar",
         "Doha",
         2014,
         83.50630136986298
        ],
        [
         "Bahamas",
         "Nassau",
         2014,
         78.12246575342462
        ],
        [
         "Oman",
         "Muscat",
         2016,
         62.08142076502731
        ],
        [
         "Turkey",
         "Ankara",
         2006,
         50.71287671232876
        ],
        [
         "Sweden",
         "Stockholm",
         2019,
         44.179999999999986
        ],
        [
         "United Arab Emirates",
         "Abu Dhabi",
         2011,
         83.32712328767126
        ],
        [
         "Jordan",
         "Amman",
         2000,
         63.86256830601093
        ],
        [
         "Argentina",
         "Buenos Aires",
         2010,
         63.006301369863024
        ],
        [
         "Spain",
         "Madrid",
         2008,
         56.802459016393456
        ],
        [
         "Switzerland",
         "Bern",
         2001,
         49.69068493150682
        ],
        [
         "Qatar",
         "Doha",
         2010,
         84.45260273972603
        ],
        [
         "Bolivia",
         "La Paz",
         2013,
         45.21917808219179
        ],
        [
         "Bahrain",
         "Manama",
         2001,
         81.3230136986302
        ],
        [
         "United Arab Emirates",
         "Abu Dhabi",
         2017,
         84.86273972602733
        ],
        [
         "Syria",
         "Damascus",
         2009,
         63.218904109589054
        ],
        [
         "Bermuda",
         "Hamilton",
         2009,
         71.6079452054795
        ],
        [
         "Barbados",
         "Bridgetown",
         2012,
         80.63524590163935
        ],
        [
         "Canada",
         "Ottawa",
         2013,
         43.55643835616436
        ],
        [
         "Bahrain",
         "Manama",
         2017,
         82.63589041095887
        ],
        [
         "Lebanon",
         "Beirut",
         2004,
         69.7379781420765
        ],
        [
         "Spain",
         "Madrid",
         2007,
         56.18767123287673
        ],
        [
         "Saudi Arabia",
         "Riyadh",
         2019,
         77.71561643835615
        ],
        [
         "Turkey",
         "Ankara",
         2020,
         41.731343283582106
        ],
        [
         "Barbados",
         "Bridgetown",
         2005,
         82.06191780821915
        ],
        [
         "Bahrain",
         "Manama",
         2010,
         82.92684931506848
        ],
        [
         "Argentina",
         "Buenos Aires",
         2007,
         60.88219178082192
        ],
        [
         "Syria",
         "Damascus",
         2014,
         63.983561643835564
        ],
        [
         "Mexico",
         "Mexico City",
         2012,
         62.83907103825142
        ],
        [
         "Bolivia",
         "La Paz",
         2015,
         45.327595628415295
        ],
        [
         "Jordan",
         "Amman",
         2006,
         64.27178082191782
        ],
        [
         "Bolivia",
         "La Paz",
         2004,
         45.88087431693987
        ],
        [
         "Syria",
         "Damascus",
         2018,
         64.52054794520545
        ],
        [
         "Argentina",
         "Buenos Aires",
         2018,
         61.24904109589046
        ],
        [
         "Turkey",
         "Ankara",
         2017,
         51.78547945205478
        ],
        [
         "Argentina",
         "Buenos Aires",
         2005,
         62.31150684931508
        ],
        [
         "Bahamas",
         "Nassau",
         2020,
         75.5894736842105
        ],
        [
         "Sweden",
         "Stockholm",
         2012,
         44.27431693989073
        ],
        [
         "Saudi Arabia",
         "Riyadh",
         2000,
         79.53579234972678
        ],
        [
         "Turkey",
         "Ankara",
         2003,
         51.418904109589086
        ],
        [
         "Spain",
         "Madrid",
         2009,
         59.486849315068476
        ],
        [
         "Bahrain",
         "Manama",
         2019,
         79.97232876712333
        ],
        [
         "Qatar",
         "Doha",
         2007,
         82.41890410958908
        ],
        [
         "Bahamas",
         "Nassau",
         2009,
         78.88356164383559
        ],
        [
         "Jordan",
         "Amman",
         2017,
         65.7386301369863
        ],
        [
         "United Arab Emirates",
         "Abu Dhabi",
         2000,
         82.62240437158466
        ],
        [
         "Bermuda",
         "Hamilton",
         2010,
         69.89743589743593
        ],
        [
         "Oman",
         "Muscat",
         2012,
         -6.6767759562841595
        ],
        [
         "Syria",
         "Damascus",
         2004,
         63.36557377049187
        ],
        [
         "Bahamas",
         "Nassau",
         2011,
         79.85095890410959
        ],
        [
         "Barbados",
         "Bridgetown",
         2004,
         77.39480874316943
        ],
        [
         "Turkey",
         "Ankara",
         2009,
         51.34438356164382
        ],
        [
         "Spain",
         "Madrid",
         2003,
         58.95178082191778
        ],
        [
         "Canada",
         "Ottawa",
         2005,
         44.84684931506851
        ],
        [
         "Mexico",
         "Mexico City",
         2014,
         62.386849315068524
        ],
        [
         "Lebanon",
         "Beirut",
         2015,
         70.04781420765026
        ],
        [
         "Lebanon",
         "Beirut",
         2016,
         69.54535519125686
        ],
        [
         "Sweden",
         "Stockholm",
         2009,
         44.8241095890411
        ],
        [
         "Switzerland",
         "Bern",
         2006,
         50.6715068493151
        ],
        [
         "Syria",
         "Damascus",
         2003,
         63.43013698630139
        ],
        [
         "Argentina",
         "Buenos Aires",
         2004,
         62.62595628415302
        ],
        [
         "Sweden",
         "Stockholm",
         2020,
         39.836567164179115
        ],
        [
         "Syria",
         "Damascus",
         2001,
         64.82520547945198
        ],
        [
         "Turkey",
         "Ankara",
         2018,
         53.08602739726031
        ],
        [
         "Argentina",
         "Buenos Aires",
         2020,
         69.98432835820897
        ],
        [
         "Spain",
         "Madrid",
         2010,
         58.35260273972605
        ],
        [
         "United Arab Emirates",
         "Abu Dhabi",
         2001,
         82.40219178082195
        ],
        [
         "Argentina",
         "Buenos Aires",
         2014,
         63.61369863013696
        ],
        [
         "Bahrain",
         "Manama",
         2011,
         80.92
        ],
        [
         "Argentina",
         "Buenos Aires",
         2001,
         62.895068493150724
        ],
        [
         "Barbados",
         "Bridgetown",
         2014,
         80.16657534246578
        ],
        [
         "Oman",
         "Muscat",
         2018,
         75.06958904109587
        ],
        [
         "Oman",
         "Muscat",
         2013,
         80.63890410958902
        ],
        [
         "Saudi Arabia",
         "Riyadh",
         2003,
         79.14630136986307
        ],
        [
         "Argentina",
         "Buenos Aires",
         2009,
         62.57095890410963
        ],
        [
         "Bolivia",
         "La Paz",
         2005,
         45.67205479452055
        ],
        [
         "Barbados",
         "Bridgetown",
         2002,
         78.76000000000002
        ],
        [
         "Slovakia",
         "Bratislava",
         2016,
         50.702459016393426
        ],
        [
         "Bahamas",
         "Nassau",
         2004,
         68.0939890710383
        ],
        [
         "Sweden",
         "Stockholm",
         2018,
         45.467123287671235
        ],
        [
         "Oman",
         "Muscat",
         2007,
         23.960273972602735
        ],
        [
         "Bahamas",
         "Nassau",
         2006,
         76.33835616438353
        ],
        [
         "Switzerland",
         "Bern",
         2014,
         49.841095890411
        ],
        [
         "Jordan",
         "Amman",
         2005,
         64.39123287671234
        ],
        [
         "Argentina",
         "Buenos Aires",
         2006,
         62.68794520547938
        ],
        [
         "Slovakia",
         "Bratislava",
         2017,
         52.71945205479454
        ],
        [
         "Bahamas",
         "Nassau",
         2008,
         78.0674863387978
        ],
        [
         "Oman",
         "Muscat",
         2000,
         -99.0
        ],
        [
         "Qatar",
         "Doha",
         2019,
         81.38575342465751
        ],
        [
         "Syria",
         "Damascus",
         2005,
         63.0106849315069
        ],
        [
         "United Arab Emirates",
         "Abu Dhabi",
         2007,
         81.84301369863017
        ],
        [
         "Spain",
         "Madrid",
         2016,
         58.30437158469944
        ],
        [
         "Turkey",
         "Ankara",
         2002,
         48.33671232876715
        ],
        [
         "Sweden",
         "Stockholm",
         2004,
         45.04726775956285
        ],
        [
         "Oman",
         "Muscat",
         2004,
         76.20928961748632
        ],
        [
         "Oman",
         "Muscat",
         2009,
         69.05342465753422
        ],
        [
         "Oman",
         "Muscat",
         2017,
         22.001095890410955
        ],
        [
         "Saudi Arabia",
         "Riyadh",
         2015,
         79.82950819672126
        ],
        [
         "Syria",
         "Damascus",
         2016,
         58.06639344262294
        ],
        [
         "United Arab Emirates",
         "Abu Dhabi",
         2015,
         83.77978142076499
        ],
        [
         "Spain",
         "Madrid",
         2006,
         59.54575342465752
        ],
        [
         "Turkey",
         "Ankara",
         2019,
         50.32931506849315
        ],
        [
         "Syria",
         "Damascus",
         2017,
         62.10191780821915
        ],
        [
         "Bahrain",
         "Manama",
         2002,
         78.89479452054795
        ],
        [
         "Bahrain",
         "Manama",
         2016,
         80.14836065573775
        ],
        [
         "Jordan",
         "Amman",
         2003,
         63.46136986301374
        ],
        [
         "Jordan",
         "Amman",
         2015,
         64.34945355191262
        ],
        [
         "Bahamas",
         "Nassau",
         2003,
         79.17753424657536
        ],
        [
         "Jordan",
         "Amman",
         2016,
         64.18333333333328
        ],
        [
         "Lebanon",
         "Beirut",
         2020,
         61.464179104477616
        ],
        [
         "Saudi Arabia",
         "Riyadh",
         2001,
         79.5904109589041
        ],
        [
         "Bahamas",
         "Nassau",
         2012,
         78.61584699453556
        ],
        [
         "Spain",
         "Madrid",
         2002,
         56.16986301369865
        ],
        [
         "Saudi Arabia",
         "Riyadh",
         2011,
         78.19698630136983
        ],
        [
         "Canada",
         "Ottawa",
         2000,
         42.62950819672128
        ],
        [
         "Switzerland",
         "Bern",
         2011,
         49.79863013698628
        ],
        [
         "Slovakia",
         "Bratislava",
         2019,
         51.73479452054798
        ],
        [
         "Sweden",
         "Stockholm",
         2016,
         44.293169398907104
        ],
        [
         "Oman",
         "Muscat",
         2003,
         80.27506849315068
        ],
        [
         "Bolivia",
         "La Paz",
         2009,
         44.73945205479452
        ],
        [
         "Oman",
         "Muscat",
         2010,
         68.4887978142076
        ],
        [
         "Barbados",
         "Bridgetown",
         2017,
         19.64520547945204
        ],
        [
         "Bahamas",
         "Nassau",
         2010,
         78.25205479452055
        ],
        [
         "Qatar",
         "Doha",
         2000,
         82.26885245901634
        ],
        [
         "Sweden",
         "Stockholm",
         2014,
         46.66164383561644
        ],
        [
         "Bahrain",
         "Manama",
         2000,
         80.60601092896171
        ],
        [
         "Lebanon",
         "Beirut",
         2005,
         69.6526027397261
        ],
        [
         "Oman",
         "Muscat",
         2008,
         76.71912568306013
        ],
        [
         "Syria",
         "Damascus",
         2015,
         62.95054644808744
        ],
        [
         "Turkey",
         "Ankara",
         2012,
         51.49398907103823
        ],
        [
         "Qatar",
         "Doha",
         2004,
         82.71475409836069
        ],
        [
         "Saudi Arabia",
         "Riyadh",
         2020,
         70.73432835820897
        ],
        [
         "Bolivia",
         "La Paz",
         2003,
         44.564383561643865
        ],
        [
         "Bermuda",
         "Hamilton",
         2001,
         70.64164383561648
        ],
        [
         "Switzerland",
         "Bern",
         2018,
         49.133698630137
        ],
        [
         "Spain",
         "Madrid",
         2020,
         50.94477611940298
        ],
        [
         "Syria",
         "Damascus",
         2019,
         61.511780821917796
        ],
        [
         "Canada",
         "Ottawa",
         2014,
         31.720496894409948
        ],
        [
         "Argentina",
         "Buenos Aires",
         2002,
         60.787397260274005
        ],
        [
         "Sweden",
         "Stockholm",
         2003,
         45.28547945205478
        ],
        [
         "Turkey",
         "Ankara",
         2010,
         54.42575342465758
        ],
        [
         "Barbados",
         "Bridgetown",
         2001,
         79.21835616438358
        ],
        [
         "Barbados",
         "Bridgetown",
         2011,
         81.38575342465757
        ],
        [
         "Qatar",
         "Doha",
         2011,
         83.32575342465758
        ],
        [
         "Canada",
         "Ottawa",
         2009,
         42.91342465753423
        ],
        [
         "Bahamas",
         "Nassau",
         2017,
         80.40767123287678
        ],
        [
         "Lebanon",
         "Beirut",
         2006,
         64.13315068493152
        ],
        [
         "United Arab Emirates",
         "Abu Dhabi",
         2006,
         81.53917808219177
        ],
        [
         "United Arab Emirates",
         "Abu Dhabi",
         2019,
         81.13890410958906
        ],
        [
         "Bahrain",
         "Manama",
         2005,
         80.20931506849313
        ],
        [
         "Jordan",
         "Amman",
         2019,
         62.505479452054814
        ],
        [
         "United Arab Emirates",
         "Abu Dhabi",
         2010,
         83.80438356164385
        ],
        [
         "Bermuda",
         "Hamilton",
         2004,
         71.33661202185796
        ],
        [
         "Bolivia",
         "La Paz",
         2000,
         43.89699453551912
        ],
        [
         "Jordan",
         "Amman",
         2018,
         64.8131506849315
        ],
        [
         "Turkey",
         "Ankara",
         2004,
         50.2456284153006
        ],
        [
         "Mexico",
         "Mexico City",
         2018,
         61.016438356164414
        ],
        [
         "Bolivia",
         "La Paz",
         2001,
         44.4164383561644
        ],
        [
         "Switzerland",
         "Bern",
         2019,
         47.72493150684932
        ],
        [
         "Syria",
         "Damascus",
         2006,
         62.87424657534244
        ],
        [
         "Syria",
         "Damascus",
         2008,
         63.475956284152915
        ],
        [
         "United Arab Emirates",
         "Abu Dhabi",
         2014,
         82.42767123287672
        ],
        [
         "Qatar",
         "Doha",
         2016,
         82.03060109289612
        ],
        [
         "Bahrain",
         "Manama",
         2009,
         80.91013698630132
        ],
        [
         "Argentina",
         "Buenos Aires",
         2008,
         62.46857923497266
        ],
        [
         "Bolivia",
         "La Paz",
         2008,
         43.08306010928958
        ],
        [
         "Sweden",
         "Stockholm",
         2008,
         46.46967213114755
        ],
        [
         "Mexico",
         "Mexico City",
         2013,
         63.39315068493148
        ],
        [
         "Turkey",
         "Ankara",
         2016,
         50.608469945355175
        ],
        [
         "Mexico",
         "Mexico City",
         2002,
         60.25397260273973
        ],
        [
         "Switzerland",
         "Bern",
         2005,
         48.663835616438355
        ],
        [
         "Lebanon",
         "Beirut",
         2013,
         70.90547945205483
        ],
        [
         "Mexico",
         "Mexico City",
         2006,
         61.8819178082192
        ],
        [
         "Lebanon",
         "Beirut",
         2003,
         70.11972602739726
        ],
        [
         "Lebanon",
         "Beirut",
         2010,
         72.6569863013698
        ],
        [
         "Bolivia",
         "La Paz",
         2019,
         44.131232876712325
        ],
        [
         "Spain",
         "Madrid",
         2018,
         57.8893150684931
        ],
        [
         "Oman",
         "Muscat",
         2001,
         75.34438356164384
        ],
        [
         "Bahrain",
         "Manama",
         2007,
         80.48849315068492
        ],
        [
         "Spain",
         "Madrid",
         2015,
         59.7360655737705
        ],
        [
         "Mexico",
         "Mexico City",
         2001,
         60.88630136986301
        ],
        [
         "Mexico",
         "Mexico City",
         2000,
         61.2450819672131
        ],
        [
         "Bahrain",
         "Manama",
         2014,
         81.57780821917805
        ],
        [
         "Lebanon",
         "Beirut",
         2014,
         70.7506849315069
        ],
        [
         "Argentina",
         "Buenos Aires",
         2011,
         63.23534246575342
        ],
        [
         "Bahamas",
         "Nassau",
         2015,
         78.4292349726776
        ],
        [
         "Qatar",
         "Doha",
         2002,
         80.70191780821911
        ],
        [
         "Qatar",
         "Doha",
         2018,
         82.39972602739734
        ],
        [
         "Bolivia",
         "La Paz",
         2011,
         45.04684931506849
        ],
        [
         "Bahrain",
         "Manama",
         2013,
         81.20438356164384
        ],
        [
         "Bahamas",
         "Nassau",
         2007,
         71.53287671232877
        ],
        [
         "Sweden",
         "Stockholm",
         2007,
         45.89616438356161
        ],
        [
         "Switzerland",
         "Bern",
         2002,
         47.98410958904105
        ],
        [
         "Turkey",
         "Ankara",
         2015,
         51.20191256830599
        ],
        [
         "Argentina",
         "Buenos Aires",
         2016,
         60.87267759562841
        ],
        [
         "Saudi Arabia",
         "Riyadh",
         2016,
         77.8743169398907
        ],
        [
         "Turkey",
         "Ankara",
         2013,
         52.020821917808256
        ],
        [
         "Mexico",
         "Mexico City",
         2011,
         63.53890410958908
        ],
        [
         "Switzerland",
         "Bern",
         2020,
         43.40000000000001
        ],
        [
         "Jordan",
         "Amman",
         2011,
         63.7961643835617
        ],
        [
         "Switzerland",
         "Bern",
         2004,
         48.33442622950818
        ],
        [
         "Lebanon",
         "Beirut",
         2018,
         67.4265753424657
        ],
        [
         "United Arab Emirates",
         "Abu Dhabi",
         2008,
         80.50027322404367
        ],
        [
         "Bermuda",
         "Hamilton",
         2005,
         71.23424657534245
        ],
        [
         "Slovakia",
         "Bratislava",
         2013,
         52.181095890410944
        ],
        [
         "Jordan",
         "Amman",
         2002,
         62.16273972602745
        ],
        [
         "Canada",
         "Ottawa",
         2012,
         46.35437158469948
        ],
        [
         "United Arab Emirates",
         "Abu Dhabi",
         2013,
         82.68410958904114
        ],
        [
         "Argentina",
         "Buenos Aires",
         2003,
         61.04246575342465
        ],
        [
         "Canada",
         "Ottawa",
         2002,
         43.05726027397256
        ],
        [
         "Barbados",
         "Bridgetown",
         2008,
         78.32540983606557
        ],
        [
         "Spain",
         "Madrid",
         2012,
         59.22103825136618
        ],
        [
         "Switzerland",
         "Bern",
         2010,
         49.200821917808234
        ],
        [
         "Saudi Arabia",
         "Riyadh",
         2005,
         79.18493150684931
        ],
        [
         "Argentina",
         "Buenos Aires",
         2000,
         61.95519125683062
        ],
        [
         "Lebanon",
         "Beirut",
         2017,
         70.0112328767123
        ],
        [
         "Argentina",
         "Buenos Aires",
         2013,
         62.88054794520547
        ],
        [
         "Saudi Arabia",
         "Riyadh",
         2012,
         79.4467213114754
        ],
        [
         "Bolivia",
         "La Paz",
         2012,
         45.306557377049174
        ],
        [
         "Switzerland",
         "Bern",
         2008,
         50.486065573770524
        ],
        [
         "Bahamas",
         "Nassau",
         2013,
         78.17452054794518
        ],
        [
         "Turkey",
         "Ankara",
         2008,
         50.17950819672125
        ],
        [
         "Saudi Arabia",
         "Riyadh",
         2017,
         80.35041095890412
        ],
        [
         "Argentina",
         "Buenos Aires",
         2015,
         62.935792349726825
        ],
        [
         "Switzerland",
         "Bern",
         2007,
         50.8882191780822
        ],
        [
         "Jordan",
         "Amman",
         2012,
         65.63524590163934
        ],
        [
         "Lebanon",
         "Beirut",
         2019,
         67.85972602739727
        ],
        [
         "United Arab Emirates",
         "Abu Dhabi",
         2003,
         83.34246575342463
        ],
        [
         "Mexico",
         "Mexico City",
         2004,
         61.80846994535516
        ],
        [
         "Oman",
         "Muscat",
         2006,
         68.1232876712329
        ],
        [
         "Qatar",
         "Doha",
         2009,
         82.75452054794529
        ],
        [
         "Bermuda",
         "Hamilton",
         2003,
         71.09178082191781
        ],
        [
         "Barbados",
         "Bridgetown",
         2000,
         79.73606557377052
        ],
        [
         "Lebanon",
         "Beirut",
         2009,
         70.27123287671228
        ],
        [
         "Qatar",
         "Doha",
         2005,
         82.35698630136989
        ],
        [
         "Turkey",
         "Ankara",
         2001,
         52.77095890410957
        ],
        [
         "Mexico",
         "Mexico City",
         2015,
         62.285792349726805
        ],
        [
         "Mexico",
         "Mexico City",
         2017,
         63.30383561643839
        ],
        [
         "Slovakia",
         "Bratislava",
         2020,
         44.66940298507463
        ],
        [
         "Switzerland",
         "Bern",
         2000,
         50.42295081967218
        ],
        [
         "Bahrain",
         "Manama",
         2020,
         72.23880597014929
        ],
        [
         "Turkey",
         "Ankara",
         2014,
         53.39643835616435
        ],
        [
         "Bermuda",
         "Hamilton",
         2000,
         71.13661202185796
        ],
        [
         "Qatar",
         "Doha",
         2003,
         82.76958904109587
        ],
        [
         "Sweden",
         "Stockholm",
         2006,
         46.569041095890405
        ],
        [
         "Lebanon",
         "Beirut",
         2007,
         69.76054794520545
        ],
        [
         "Sweden",
         "Stockholm",
         2011,
         46.610958904109566
        ],
        [
         "Switzerland",
         "Bern",
         2016,
         47.51666666666663
        ],
        [
         "Barbados",
         "Bridgetown",
         2006,
         81.66904109589044
        ],
        [
         "Slovakia",
         "Bratislava",
         2008,
         52.688251366120205
        ],
        [
         "Slovakia",
         "Bratislava",
         2012,
         52.88387978142072
        ],
        [
         "Spain",
         "Madrid",
         2019,
         58.01808219178085
        ],
        [
         "Jordan",
         "Amman",
         2004,
         64.25956284153001
        ],
        [
         "Syria",
         "Damascus",
         2007,
         63.26657534246577
        ],
        [
         "Slovakia",
         "Bratislava",
         2007,
         53.0627397260274
        ],
        [
         "Turkey",
         "Ankara",
         2005,
         50.87178082191779
        ],
        [
         "Canada",
         "Ottawa",
         2007,
         43.6482191780822
        ],
        [
         "Bermuda",
         "Hamilton",
         2006,
         70.91534246575345
        ],
        [
         "Spain",
         "Madrid",
         2001,
         57.30356164383564
        ],
        [
         "Qatar",
         "Doha",
         2008,
         81.5371584699453
        ],
        [
         "Syria",
         "Damascus",
         2002,
         62.03068493150682
        ],
        [
         "Canada",
         "Ottawa",
         2008,
         42.84234972677597
        ],
        [
         "Switzerland",
         "Bern",
         2013,
         47.89287671232874
        ],
        [
         "Guatemala",
         "Guatemala City",
         2004,
         64.03224043715848
        ],
        [
         "Panama",
         "Panama City",
         2002,
         79.69561643835618
        ],
        [
         "Suriname",
         "Paramaribo",
         2000,
         -5.2237704918032675
        ],
        [
         "Venezuela",
         "Caracas",
         2006,
         80.76849315068492
        ],
        [
         "Guyana",
         "Georgetown",
         2004,
         -35.47814207650273
        ],
        [
         "Peru",
         "Lima",
         2009,
         67.28904109589038
        ],
        [
         "Venezuela",
         "Caracas",
         2020,
         80.26165413533833
        ],
        [
         "Suriname",
         "Paramaribo",
         2019,
         76.9043835616438
        ],
        [
         "Suriname",
         "Paramaribo",
         2015,
         78.56557377049178
        ],
        [
         "Guatemala",
         "Guatemala City",
         2017,
         66.8315068493151
        ],
        [
         "Peru",
         "Lima",
         2011,
         66.97726027397253
        ],
        [
         "Dominican Republic",
         "Santo Domingo",
         2011,
         78.98164383561655
        ],
        [
         "Peru",
         "Lima",
         2001,
         64.26958904109591
        ],
        [
         "Suriname",
         "Paramaribo",
         2012,
         79.42404371584702
        ],
        [
         "Suriname",
         "Paramaribo",
         2007,
         62.43114754098359
        ],
        [
         "Suriname",
         "Paramaribo",
         2017,
         79.08876712328768
        ],
        [
         "Guatemala",
         "Guatemala City",
         2001,
         62.17123287671231
        ],
        [
         "Guatemala",
         "Guatemala City",
         2010,
         66.59068493150683
        ],
        [
         "Nicaragua",
         "Managua",
         2008,
         77.2352459016393
        ],
        [
         "Nicaragua",
         "Managua",
         2017,
         81.49041095890406
        ],
        [
         "Panama",
         "Panama City",
         2009,
         80.72438356164385
        ],
        [
         "Cuba",
         "Havana",
         2008,
         70.8046448087431
        ],
        [
         "Nicaragua",
         "Managua",
         2000,
         78.46666666666665
        ],
        [
         "Cuba",
         "Havana",
         2014,
         74.90246575342462
        ],
        [
         "Dominican Republic",
         "Santo Domingo",
         2014,
         47.827671232876746
        ],
        [
         "Honduras",
         "Tegucigalpa",
         2010,
         69.90958904109588
        ],
        [
         "Guatemala",
         "Guatemala City",
         2006,
         66.11479452054786
        ],
        [
         "Venezuela",
         "Caracas",
         2017,
         70.88767123287674
        ],
        [
         "Cuba",
         "Havana",
         2003,
         75.31397260273974
        ],
        [
         "Panama",
         "Panama City",
         2012,
         80.93251366120218
        ],
        [
         "Guatemala",
         "Guatemala City",
         2000,
         64.94945355191254
        ],
        [
         "Honduras",
         "Tegucigalpa",
         2013,
         71.63123287671232
        ],
        [
         "Guyana",
         "Georgetown",
         2010,
         -84.93315068493152
        ],
        [
         "Panama",
         "Panama City",
         2011,
         80.13342465753426
        ],
        [
         "Suriname",
         "Paramaribo",
         2010,
         72.1890410958904
        ],
        [
         "Honduras",
         "Tegucigalpa",
         2020,
         58.478195488721816
        ],
        [
         "Panama",
         "Panama City",
         2017,
         79.29260273972601
        ],
        [
         "Honduras",
         "Tegucigalpa",
         2016,
         70.88114754098362
        ],
        [
         "Nicaragua",
         "Managua",
         2016,
         81.20218579234968
        ],
        [
         "Panama",
         "Panama City",
         2019,
         77.65315068493152
        ],
        [
         "Panama",
         "Panama City",
         2005,
         80.40739726027392
        ],
        [
         "Peru",
         "Lima",
         2002,
         63.96027397260273
        ],
        [
         "Suriname",
         "Paramaribo",
         2008,
         40.08283378746594
        ],
        [
         "Panama",
         "Panama City",
         2015,
         79.94398907103825
        ],
        [
         "Dominican Republic",
         "Santo Domingo",
         2012,
         68.78169398907102
        ],
        [
         "Honduras",
         "Tegucigalpa",
         2006,
         66.10876712328765
        ],
        [
         "Peru",
         "Lima",
         2006,
         67.40219178082191
        ],
        [
         "Nicaragua",
         "Managua",
         2004,
         78.56967213114753
        ],
        [
         "Honduras",
         "Tegucigalpa",
         2019,
         68.82767123287668
        ],
        [
         "Nicaragua",
         "Managua",
         2009,
         81.4213698630137
        ],
        [
         "Venezuela",
         "Caracas",
         2008,
         80.75136612021853
        ],
        [
         "Venezuela",
         "Caracas",
         2005,
         82.28082191780815
        ],
        [
         "Honduras",
         "Tegucigalpa",
         2008,
         67.7478142076503
        ],
        [
         "Dominican Republic",
         "Santo Domingo",
         2020,
         66.12631578947365
        ],
        [
         "Cuba",
         "Havana",
         2015,
         75.81803278688521
        ],
        [
         "Suriname",
         "Paramaribo",
         2006,
         34.62164383561646
        ],
        [
         "Venezuela",
         "Caracas",
         2016,
         61.95765027322411
        ],
        [
         "Cuba",
         "Havana",
         2017,
         75.82876712328765
        ],
        [
         "Guyana",
         "Georgetown",
         2005,
         28.39616438356166
        ],
        [
         "Cuba",
         "Havana",
         2005,
         75.96767123287678
        ],
        [
         "Dominican Republic",
         "Santo Domingo",
         2010,
         80.13123287671242
        ],
        [
         "Peru",
         "Lima",
         2000,
         65.25191256830598
        ],
        [
         "Suriname",
         "Paramaribo",
         2020,
         79.22985074626867
        ],
        [
         "Guyana",
         "Georgetown",
         2000,
         27.54999999999998
        ],
        [
         "Venezuela",
         "Caracas",
         2009,
         82.32821917808208
        ],
        [
         "Guatemala",
         "Guatemala City",
         2013,
         66.83205479452054
        ],
        [
         "Guatemala",
         "Guatemala City",
         2019,
         64.95780821917808
        ],
        [
         "Guatemala",
         "Guatemala City",
         2007,
         66.50876712328767
        ],
        [
         "Venezuela",
         "Caracas",
         2012,
         81.45327868852459
        ],
        [
         "Cuba",
         "Havana",
         2011,
         75.34219178082188
        ],
        [
         "Guatemala",
         "Guatemala City",
         2018,
         64.16657534246578
        ],
        [
         "Venezuela",
         "Caracas",
         2013,
         80.91506849315064
        ],
        [
         "Guatemala",
         "Guatemala City",
         2002,
         63.49917808219171
        ],
        [
         "Dominican Republic",
         "Santo Domingo",
         2000,
         73.00710382513658
        ],
        [
         "Guatemala",
         "Guatemala City",
         2008,
         63.0795081967213
        ],
        [
         "Panama",
         "Panama City",
         2004,
         78.35655737704921
        ],
        [
         "Panama",
         "Panama City",
         2008,
         76.54672131147547
        ],
        [
         "Nicaragua",
         "Managua",
         2007,
         81.22849315068493
        ],
        [
         "Cuba",
         "Havana",
         2018,
         73.50164383561642
        ],
        [
         "Dominican Republic",
         "Santo Domingo",
         2019,
         75.61808219178084
        ],
        [
         "Cuba",
         "Havana",
         2013,
         75.91671232876712
        ],
        [
         "Panama",
         "Panama City",
         2006,
         78.47232876712329
        ],
        [
         "Suriname",
         "Paramaribo",
         2014,
         78.49589041095889
        ],
        [
         "Nicaragua",
         "Managua",
         2002,
         79.66767123287673
        ],
        [
         "Cuba",
         "Havana",
         2019,
         73.86191780821919
        ],
        [
         "Honduras",
         "Tegucigalpa",
         2000,
         67.41010928961754
        ],
        [
         "Peru",
         "Lima",
         2010,
         66.65917808219174
        ],
        [
         "Suriname",
         "Paramaribo",
         2002,
         -15.690410958904119
        ],
        [
         "Dominican Republic",
         "Santo Domingo",
         2006,
         69.78219178082192
        ],
        [
         "Suriname",
         "Paramaribo",
         2011,
         72.61863013698634
        ],
        [
         "Suriname",
         "Paramaribo",
         2016,
         65.8997267759563
        ],
        [
         "Panama",
         "Panama City",
         2014,
         80.56630136986304
        ],
        [
         "Guyana",
         "Georgetown",
         2002,
         35.87369863013699
        ],
        [
         "Cuba",
         "Havana",
         2004,
         73.35109289617489
        ],
        [
         "Honduras",
         "Tegucigalpa",
         2005,
         67.19123287671233
        ],
        [
         "Nicaragua",
         "Managua",
         2001,
         81.57616438356169
        ],
        [
         "Panama",
         "Panama City",
         2007,
         78.43643835616442
        ],
        [
         "Nicaragua",
         "Managua",
         2015,
         80.62923497267761
        ],
        [
         "Venezuela",
         "Caracas",
         2001,
         79.80164383561649
        ],
        [
         "Honduras",
         "Tegucigalpa",
         2003,
         70.82
        ],
        [
         "Guyana",
         "Georgetown",
         2006,
         -3.4051912568305993
        ],
        [
         "Cuba",
         "Havana",
         2009,
         74.11726027397262
        ],
        [
         "Guyana",
         "Georgetown",
         2011,
         -13.730063291139249
        ],
        [
         "Honduras",
         "Tegucigalpa",
         2012,
         71.0155737704918
        ],
        [
         "Panama",
         "Panama City",
         2013,
         79.86767123287666
        ],
        [
         "Cuba",
         "Havana",
         2002,
         74.03890410958903
        ],
        [
         "Cuba",
         "Havana",
         2001,
         70.97232876712332
        ],
        [
         "Guatemala",
         "Guatemala City",
         2005,
         66.458904109589
        ],
        [
         "Nicaragua",
         "Managua",
         2011,
         80.69835616438363
        ],
        [
         "Nicaragua",
         "Managua",
         2005,
         80.59013698630125
        ],
        [
         "Nicaragua",
         "Managua",
         2020,
         82.916814159292
        ],
        [
         "Dominican Republic",
         "Santo Domingo",
         2005,
         77.32109589041089
        ],
        [
         "Barbados",
         "Bridgetown",
         2018,
         77.8857142857143
        ],
        [
         "Guatemala",
         "Guatemala City",
         2011,
         66.50109589041092
        ],
        [
         "Panama",
         "Panama City",
         2003,
         80.11835616438357
        ],
        [
         "Peru",
         "Lima",
         2015,
         69.61708074534167
        ],
        [
         "Suriname",
         "Paramaribo",
         2013,
         79.11671232876714
        ],
        [
         "Dominican Republic",
         "Santo Domingo",
         2016,
         74.74071038251367
        ],
        [
         "Guatemala",
         "Guatemala City",
         2009,
         65.33424657534246
        ],
        [
         "Suriname",
         "Paramaribo",
         2001,
         58.50520547945205
        ],
        [
         "Nicaragua",
         "Managua",
         2010,
         79.43945205479454
        ],
        [
         "Venezuela",
         "Caracas",
         2002,
         79.40876712328765
        ],
        [
         "Cuba",
         "Havana",
         2000,
         67.05983606557378
        ],
        [
         "Peru",
         "Lima",
         2005,
         66.30794520547947
        ],
        [
         "Dominican Republic",
         "Santo Domingo",
         2008,
         70.38360655737701
        ],
        [
         "Dominican Republic",
         "Santo Domingo",
         2013,
         22.55561643835617
        ],
        [
         "Honduras",
         "Tegucigalpa",
         2009,
         64.81780821917802
        ],
        [
         "Panama",
         "Panama City",
         2018,
         76.95479452054798
        ],
        [
         "Suriname",
         "Paramaribo",
         2018,
         73.36273972602744
        ],
        [
         "Venezuela",
         "Caracas",
         2014,
         80.14794520547945
        ],
        [
         "Suriname",
         "Paramaribo",
         2004,
         -23.654644808743182
        ],
        [
         "Venezuela",
         "Caracas",
         2010,
         82.11205479452057
        ],
        [
         "Honduras",
         "Tegucigalpa",
         2007,
         70.26657534246573
        ],
        [
         "Panama",
         "Panama City",
         2000,
         81.26038251366126
        ],
        [
         "Dominican Republic",
         "Santo Domingo",
         2004,
         71.74808743169397
        ],
        [
         "Nicaragua",
         "Managua",
         2006,
         80.81726027397266
        ],
        [
         "Nicaragua",
         "Managua",
         2019,
         79.15835616438358
        ],
        [
         "Panama",
         "Panama City",
         2001,
         79.37232876712329
        ],
        [
         "Panama",
         "Panama City",
         2016,
         78.06092896174863
        ],
        [
         "Honduras",
         "Tegucigalpa",
         2004,
         63.99999999999996
        ],
        [
         "Guatemala",
         "Guatemala City",
         2020,
         68.16417910447763
        ],
        [
         "Dominican Republic",
         "Santo Domingo",
         2001,
         74.39369863013694
        ],
        [
         "Panama",
         "Panama City",
         2020,
         81.89402985074626
        ],
        [
         "Dominican Republic",
         "Santo Domingo",
         2018,
         74.76054794520547
        ],
        [
         "Honduras",
         "Tegucigalpa",
         2018,
         67.97753424657537
        ],
        [
         "Peru",
         "Lima",
         2012,
         68.47295081967206
        ],
        [
         "Cuba",
         "Havana",
         2010,
         74.42739726027399
        ],
        [
         "Honduras",
         "Tegucigalpa",
         2015,
         72.16393442622949
        ],
        [
         "Cuba",
         "Havana",
         2007,
         75.60356164383565
        ],
        [
         "Peru",
         "Lima",
         2004,
         66.5786885245902
        ],
        [
         "Venezuela",
         "Caracas",
         2004,
         81.48087431693988
        ],
        [
         "Venezuela",
         "Caracas",
         2019,
         70.99835616438355
        ],
        [
         "Cuba",
         "Havana",
         2012,
         75.05109289617485
        ],
        [
         "Dominican Republic",
         "Santo Domingo",
         2015,
         74.73551912568307
        ],
        [
         "Peru",
         "Lima",
         2007,
         64.98273972602735
        ],
        [
         "Guatemala",
         "Guatemala City",
         2015,
         65.6978142076502
        ],
        [
         "Guyana",
         "Georgetown",
         2001,
         46.002191780821896
        ],
        [
         "Honduras",
         "Tegucigalpa",
         2002,
         66.59315068493147
        ],
        [
         "Peru",
         "Lima",
         2014,
         67.07890410958902
        ],
        [
         "Venezuela",
         "Caracas",
         2018,
         72.614794520548
        ],
        [
         "Peru",
         "Lima",
         2013,
         66.15643835616444
        ],
        [
         "Suriname",
         "Paramaribo",
         2003,
         -19.69835616438356
        ],
        [
         "Guatemala",
         "Guatemala City",
         2012,
         66.37103825136612
        ],
        [
         "Honduras",
         "Tegucigalpa",
         2001,
         69.7810958904109
        ],
        [
         "Panama",
         "Panama City",
         2010,
         80.17260273972605
        ],
        [
         "Peru",
         "Lima",
         2003,
         64.37726027397258
        ],
        [
         "Honduras",
         "Tegucigalpa",
         2011,
         71.04328767123289
        ],
        [
         "Peru",
         "Lima",
         2008,
         66.56803278688523
        ],
        [
         "Venezuela",
         "Caracas",
         2003,
         81.12684931506847
        ],
        [
         "Dominican Republic",
         "Santo Domingo",
         2007,
         72.76684931506846
        ],
        [
         "Guatemala",
         "Guatemala City",
         2003,
         63.587671232876744
        ],
        [
         "Dominican Republic",
         "Santo Domingo",
         2017,
         79.12876712328769
        ],
        [
         "Suriname",
         "Paramaribo",
         2005,
         75.21315068493152
        ],
        [
         "Guatemala",
         "Guatemala City",
         2014,
         65.89315068493154
        ],
        [
         "Guyana",
         "Georgetown",
         2003,
         13.200547945205484
        ],
        [
         "Cuba",
         "Havana",
         2020,
         75.2390977443609
        ],
        [
         "Nicaragua",
         "Managua",
         2003,
         80.41917808219182
        ],
        [
         "Venezuela",
         "Caracas",
         2007,
         81.23780821917806
        ],
        [
         "Dominican Republic",
         "Santo Domingo",
         2009,
         77.94821917808216
        ],
        [
         "Honduras",
         "Tegucigalpa",
         2017,
         71.36986301369873
        ],
        [
         "Cuba",
         "Havana",
         2016,
         74.04590163934421
        ],
        [
         "Venezuela",
         "Caracas",
         2000,
         78.7229508196721
        ],
        [
         "Nicaragua",
         "Managua",
         2013,
         81.91863013698625
        ],
        [
         "Venezuela",
         "Caracas",
         2011,
         77.98136986301365
        ],
        [
         "Venezuela",
         "Caracas",
         2015,
         79.98224043715857
        ],
        [
         "Honduras",
         "Tegucigalpa",
         2014,
         71.54630136986297
        ],
        [
         "Nicaragua",
         "Managua",
         2018,
         78.81589041095884
        ],
        [
         "Nicaragua",
         "Managua",
         2014,
         81.55452054794524
        ],
        [
         "Dominican Republic",
         "Santo Domingo",
         2002,
         76.71506849315071
        ],
        [
         "Dominican Republic",
         "Santo Domingo",
         2003,
         76.83945205479452
        ],
        [
         "Nicaragua",
         "Managua",
         2012,
         80.73961748633879
        ],
        [
         "Cuba",
         "Havana",
         2006,
         75.97205479452047
        ],
        [
         "Guatemala",
         "Guatemala City",
         2016,
         65.66939890710377
        ],
        [
         "Suriname",
         "Paramaribo",
         2009,
         27.72082191780822
        ]
       ],
       "datasetInfos": [],
       "dbfsResultPath": null,
       "isJsonSchema": true,
       "metadata": {},
       "overflow": false,
       "plotOptions": {
        "customPlotOptions": {},
        "displayType": "table",
        "pivotAggregation": null,
        "pivotColumns": null,
        "xColumns": null,
        "yColumns": null
       },
       "removedWidgets": [],
       "schema": [
        {
         "metadata": "{}",
         "name": "Country",
         "type": "\"string\""
        },
        {
         "metadata": "{}",
         "name": "Capital",
         "type": "\"string\""
        },
        {
         "metadata": "{}",
         "name": "FilteredYear",
         "type": "\"integer\""
        },
        {
         "metadata": "{}",
         "name": "AvgTemperature",
         "type": "\"double\""
        }
       ],
       "type": "table"
      }
     },
     "output_type": "display_data"
    }
   ],
   "source": [
    "from pyspark.sql import SparkSession\n",
    "from pyspark.sql.functions import col, udf\n",
    "from pyspark.sql.types import IntegerType\n",
    "from pyspark.sql.functions import broadcast\n",
    "\n",
    "# Initialize Spark session\n",
    "spark = SparkSession.builder.appName(\"AvgTemperatureByCountryUDF\").getOrCreate()\n",
    "\n",
    "# Load city temperature data\n",
    "temperature_file_path = \"/FileStore/tables/city_temperature.csv\"\n",
    "temperature_df = spark.read.csv(temperature_file_path, header=True, inferSchema=True)\n",
    "\n",
    "# Load country capitals data\n",
    "capitals_file_path = \"/FileStore/tables/country_list-2.csv\"\n",
    "capitals_df = spark.read.csv(capitals_file_path, header=True, inferSchema=True)\n",
    "\n",
    "# UDF to filter years (Year >= 2000)\n",
    "filter_year_udf = udf(lambda year: year if year >= 2000 else None, IntegerType())\n",
    "\n",
    "# Apply UDF to create a new column \"FilteredYear\"\n",
    "temperature_df = temperature_df.withColumn(\"FilteredYear\", filter_year_udf(\"Year\"))\n",
    "\n",
    "# Broadcast the capitals data\n",
    "broadcast_capitals = broadcast(capitals_df)\n",
    "\n",
    "# Join the temperature data with the broadcasted country capitals data\n",
    "joined_df = temperature_df.join(broadcast_capitals, on=\"Country\")\n",
    "\n",
    "# Register the joined DataFrame as a temporary table to use Spark SQL\n",
    "joined_df.createOrReplaceTempView(\"joined_temperature_table\")\n",
    "\n",
    "# Use Spark SQL to find the capital, filtered year, and average temperature for each country\n",
    "avg_temp_by_country = spark.sql(\n",
    "    \"SELECT Country, Capital, FilteredYear, AVG(AvgTemperature) AS AvgTemperature \"\n",
    "    \"FROM joined_temperature_table \"\n",
    "    \"WHERE City = Capital AND FilteredYear IS NOT NULL \"\n",
    "    \"GROUP BY Country, Capital, FilteredYear\"\n",
    ")\n",
    "\n",
    "# Show the result\n",
    "display(avg_temp_by_country)\n"
   ]
  },
  {
   "cell_type": "markdown",
   "metadata": {
    "application/vnd.databricks.v1+cell": {
     "cellMetadata": {},
     "inputWidgets": {},
     "nuid": "d3a42602-db2d-451a-980b-a64c1d129c3c",
     "showTitle": false,
     "title": ""
    }
   },
   "source": [
    "1F ii"
   ]
  },
  {
   "cell_type": "code",
   "execution_count": 0,
   "metadata": {
    "application/vnd.databricks.v1+cell": {
     "cellMetadata": {
      "byteLimit": 2048000,
      "rowLimit": 10000
     },
     "inputWidgets": {},
     "nuid": "98a326bf-69ac-40e1-9f79-6759dd025b93",
     "showTitle": false,
     "title": ""
    }
   },
   "outputs": [
    {
     "output_type": "display_data",
     "data": {
      "text/html": [
       "<style scoped>\n",
       "  .table-result-container {\n",
       "    max-height: 300px;\n",
       "    overflow: auto;\n",
       "  }\n",
       "  table, th, td {\n",
       "    border: 1px solid black;\n",
       "    border-collapse: collapse;\n",
       "  }\n",
       "  th, td {\n",
       "    padding: 5px;\n",
       "  }\n",
       "  th {\n",
       "    text-align: left;\n",
       "  }\n",
       "</style><div class='table-result-container'><table class='table-result'><thead style='background-color: white'><tr><th>Output</th></tr></thead><tbody><tr><td>Cairo is the capital of Egypt and its average temperature is 71.87999999999997</td></tr><tr><td>Vientiane is the capital of Laos and its average temperature is 80.4443835616438</td></tr><tr><td>Nouakchott is the capital of Mauritania and its average temperature is 77.83442622950817</td></tr><tr><td>Dakar is the capital of Senegal and its average temperature is 75.94383561643835</td></tr><tr><td>Pyongyang is the capital of North Korea and its average temperature is 51.5325136612022</td></tr><tr><td>Nairobi is the capital of Kenya and its average temperature is 55.10081967213115</td></tr><tr><td>Freetown is the capital of Sierra Leone and its average temperature is 3.239726027397261</td></tr><tr><td>Nouakchott is the capital of Mauritania and its average temperature is 74.31452054794518</td></tr><tr><td>Beijing is the capital of China and its average temperature is 53.6983606557377</td></tr><tr><td>Bissau is the capital of Guinea-Bissau and its average temperature is 73.53205479452053</td></tr><tr><td>Maputo is the capital of Mozambique and its average temperature is 69.2454794520549</td></tr><tr><td>Nairobi is the capital of Kenya and its average temperature is 8.015890410958905</td></tr><tr><td>Nouakchott is the capital of Mauritania and its average temperature is 78.93315068493155</td></tr><tr><td>Vientiane is the capital of Laos and its average temperature is 79.58688524590168</td></tr><tr><td>Nairobi is the capital of Kenya and its average temperature is 54.132602739726025</td></tr><tr><td>Nairobi is the capital of Kenya and its average temperature is -42.434699453551914</td></tr><tr><td>Lilongwe is the capital of Malawi and its average temperature is -39.43863013698636</td></tr><tr><td>Windhoek is the capital of Namibia and its average temperature is 64.91041095890408</td></tr><tr><td>Dakar is the capital of Senegal and its average temperature is 76.17431693989074</td></tr><tr><td>Bissau is the capital of Guinea-Bissau and its average temperature is 77.74794520547954</td></tr><tr><td>Windhoek is the capital of Namibia and its average temperature is 42.141917808219155</td></tr><tr><td>Maputo is the capital of Mozambique and its average temperature is 69.7419178082192</td></tr><tr><td>Algiers is the capital of Algeria and its average temperature is 62.347671232876685</td></tr><tr><td>Libreville is the capital of Gabon and its average temperature is 78.33251366120213</td></tr><tr><td>Maputo is the capital of Mozambique and its average temperature is 46.265846994535444</td></tr><tr><td>Vientiane is the capital of Laos and its average temperature is 80.62158469945359</td></tr><tr><td>Dakar is the capital of Senegal and its average temperature is 76.56438356164385</td></tr><tr><td>Antananarivo is the capital of Madagascar and its average temperature is 65.8358904109589</td></tr><tr><td>Windhoek is the capital of Namibia and its average temperature is 64.85327868852458</td></tr><tr><td>Dakar is the capital of Senegal and its average temperature is 76.36202185792351</td></tr><tr><td>Lusaka is the capital of Zambia and its average temperature is 66.27178082191777</td></tr><tr><td>Tokyo is the capital of Japan and its average temperature is 62.665846994535464</td></tr><tr><td>Algiers is the capital of Algeria and its average temperature is 64.08743169398907</td></tr><tr><td>Addis Ababa is the capital of Ethiopia and its average temperature is 23.27698630136985</td></tr><tr><td>Nairobi is the capital of Kenya and its average temperature is 51.21287671232875</td></tr><tr><td>Beijing is the capital of China and its average temperature is 55.310136986301345</td></tr><tr><td>Bissau is the capital of Guinea-Bissau and its average temperature is 71.698087431694</td></tr><tr><td>Tunis is the capital of Tunisia and its average temperature is 65.05178082191782</td></tr><tr><td>Tunis is the capital of Tunisia and its average temperature is 66.50846994535519</td></tr><tr><td>Algiers is the capital of Algeria and its average temperature is 64.99589041095896</td></tr><tr><td>Antananarivo is the capital of Madagascar and its average temperature is 66.6101369863014</td></tr><tr><td>Tokyo is the capital of Japan and its average temperature is 60.659726027397205</td></tr><tr><td>Lilongwe is the capital of Malawi and its average temperature is -99.0</td></tr><tr><td>Dhaka is the capital of Bangladesh and its average temperature is 34.58931506849317</td></tr><tr><td>Tokyo is the capital of Japan and its average temperature is 61.57704918032787</td></tr><tr><td>Pyongyang is the capital of North Korea and its average temperature is 52.3835616438356</td></tr><tr><td>Conakry is the capital of Guinea and its average temperature is 78.4320547945206</td></tr><tr><td>Libreville is the capital of Gabon and its average temperature is 80.13753424657536</td></tr><tr><td>Libreville is the capital of Gabon and its average temperature is 78.26301369863017</td></tr><tr><td>Bissau is the capital of Guinea-Bissau and its average temperature is -99.0</td></tr><tr><td>Windhoek is the capital of Namibia and its average temperature is 66.76794520547948</td></tr><tr><td>Banjul is the capital of Gambia and its average temperature is 78.99808743169402</td></tr><tr><td>Nouakchott is the capital of Mauritania and its average temperature is 74.12520547945205</td></tr><tr><td>Kuala Lumpur is the capital of Malaysia and its average temperature is 79.80136612021853</td></tr><tr><td>Kuala Lumpur is the capital of Malaysia and its average temperature is 81.98191780821918</td></tr><tr><td>Cairo is the capital of Egypt and its average temperature is 73.32191780821915</td></tr><tr><td>Nairobi is the capital of Kenya and its average temperature is 67.72089552238808</td></tr><tr><td>Kampala is the capital of Uganda and its average temperature is 30.586575342465775</td></tr><tr><td>Dhaka is the capital of Bangladesh and its average temperature is 40.75260273972604</td></tr><tr><td>Bangui is the capital of Central African Republic and its average temperature is 77.34016393442619</td></tr><tr><td>Kampala is the capital of Uganda and its average temperature is 72.87808219178083</td></tr><tr><td>Algiers is the capital of Algeria and its average temperature is 62.18082191780824</td></tr><tr><td>Nairobi is the capital of Kenya and its average temperature is 43.98</td></tr><tr><td>Windhoek is the capital of Namibia and its average temperature is 68.68493150684928</td></tr><tr><td>Kampala is the capital of Uganda and its average temperature is 39.948493150684946</td></tr><tr><td>Lusaka is the capital of Zambia and its average temperature is 65.01174863387982</td></tr><tr><td>Kuala Lumpur is the capital of Malaysia and its average temperature is 82.33534246575341</td></tr><tr><td>Addis Ababa is the capital of Ethiopia and its average temperature is 55.12410958904113</td></tr><tr><td>Tunis is the capital of Tunisia and its average temperature is 66.82876712328766</td></tr><tr><td>Bangui is the capital of Central African Republic and its average temperature is 76.05178082191783</td></tr><tr><td>Cairo is the capital of Egypt and its average temperature is 70.63095890410956</td></tr><tr><td>Nouakchott is the capital of Mauritania and its average temperature is 74.6877049180328</td></tr><tr><td>Dhaka is the capital of Bangladesh and its average temperature is -19.79098360655736</td></tr><tr><td>Tokyo is the capital of Japan and its average temperature is 61.625205479452035</td></tr><tr><td>Algiers is the capital of Algeria and its average temperature is 62.29698630136982</td></tr><tr><td>Bangui is the capital of Central African Republic and its average temperature is 62.85260273972601</td></tr><tr><td>Libreville is the capital of Gabon and its average temperature is 63.71092896174868</td></tr><tr><td>Antananarivo is the capital of Madagascar and its average temperature is 66.20657534246575</td></tr><tr><td>Windhoek is the capital of Namibia and its average temperature is 64.47459016393441</td></tr><tr><td>Vientiane is the capital of Laos and its average temperature is 80.73643835616444</td></tr><tr><td>Libreville is the capital of Gabon and its average temperature is 78.99672131147537</td></tr><tr><td>Windhoek is the capital of Namibia and its average temperature is 66.9254098360656</td></tr><tr><td>Conakry is the capital of Guinea and its average temperature is 63.526229508196714</td></tr><tr><td>Windhoek is the capital of Namibia and its average temperature is 62.9731506849315</td></tr><tr><td>Dakar is the capital of Senegal and its average temperature is 76.58082191780818</td></tr><tr><td>Tunis is the capital of Tunisia and its average temperature is 67.49260273972604</td></tr><tr><td>Jakarta is the capital of Indonesia and its average temperature is -66.67267759562841</td></tr><tr><td>Tokyo is the capital of Japan and its average temperature is 61.79917808219173</td></tr><tr><td>Pyongyang is the capital of North Korea and its average temperature is 34.47753424657533</td></tr><tr><td>Banjul is the capital of Gambia and its average temperature is 79.41716417910446</td></tr><tr><td>Kampala is the capital of Uganda and its average temperature is 69.8309589041096</td></tr><tr><td>Bujumbura is the capital of Burundi and its average temperature is -77.40819672131148</td></tr><tr><td>Addis Ababa is the capital of Ethiopia and its average temperature is -48.32219178082191</td></tr><tr><td>Banjul is the capital of Gambia and its average temperature is 77.82191780821923</td></tr><tr><td>Bishkek is the capital of Kyrgyzstan and its average temperature is 54.153698630137</td></tr><tr><td>Bangui is the capital of Central African Republic and its average temperature is 81.41343283582091</td></tr><tr><td>Banjul is the capital of Gambia and its average temperature is 63.83196721311479</td></tr><tr><td>Kampala is the capital of Uganda and its average temperature is 64.34821917808216</td></tr><tr><td>Kampala is the capital of Uganda and its average temperature is 54.38497267759564</td></tr><tr><td>Algiers is the capital of Algeria and its average temperature is 63.70465753424658</td></tr><tr><td>Cairo is the capital of Egypt and its average temperature is 75.51150684931515</td></tr><tr><td>Tunis is the capital of Tunisia and its average temperature is 67.30219178082193</td></tr><tr><td>Addis Ababa is the capital of Ethiopia and its average temperature is -1.9795081967213164</td></tr><tr><td>Tunis is the capital of Tunisia and its average temperature is 67.81671232876712</td></tr><tr><td>Rabat is the capital of Morocco and its average temperature is 62.972602739726085</td></tr><tr><td>Tokyo is the capital of Japan and its average temperature is 61.61452054794516</td></tr><tr><td>Kuala Lumpur is the capital of Malaysia and its average temperature is 80.7882191780822</td></tr><tr><td>Lilongwe is the capital of Malawi and its average temperature is 51.22136986301373</td></tr><tr><td>Jakarta is the capital of Indonesia and its average temperature is 83.18345864661653</td></tr><tr><td>Bujumbura is the capital of Burundi and its average temperature is -99.0</td></tr><tr><td>Rabat is the capital of Morocco and its average temperature is 64.20931506849317</td></tr><tr><td>Freetown is the capital of Sierra Leone and its average temperature is -99.0</td></tr><tr><td>Kampala is the capital of Uganda and its average temperature is 70.86475409836069</td></tr><tr><td>Beijing is the capital of China and its average temperature is 54.14356164383562</td></tr><tr><td>Kuala Lumpur is the capital of Malaysia and its average temperature is 82.97950819672128</td></tr><tr><td>Addis Ababa is the capital of Ethiopia and its average temperature is 58.07568306010927</td></tr><tr><td>Maputo is the capital of Mozambique and its average temperature is 72.91147540983607</td></tr><tr><td>Lusaka is the capital of Zambia and its average temperature is 65.45260273972602</td></tr><tr><td>Lusaka is the capital of Zambia and its average temperature is 62.68224043715847</td></tr><tr><td>Windhoek is the capital of Namibia and its average temperature is 64.60983606557375</td></tr><tr><td>Cairo is the capital of Egypt and its average temperature is 71.86027397260276</td></tr><tr><td>Nouakchott is the capital of Mauritania and its average temperature is 76.85890410958905</td></tr><tr><td>Dhaka is the capital of Bangladesh and its average temperature is -4.695355191256832</td></tr><tr><td>Lusaka is the capital of Zambia and its average temperature is 55.88579234972675</td></tr><tr><td>Kuala Lumpur is the capital of Malaysia and its average temperature is 79.53424657534245</td></tr><tr><td>Libreville is the capital of Gabon and its average temperature is 80.36630136986297</td></tr><tr><td>Tunis is the capital of Tunisia and its average temperature is 67.13698630136986</td></tr><tr><td>Tunis is the capital of Tunisia and its average temperature is 67.28879781420764</td></tr><tr><td>Windhoek is the capital of Namibia and its average temperature is 72.19850746268656</td></tr><tr><td>Lusaka is the capital of Zambia and its average temperature is 68.27424657534249</td></tr><tr><td>Nairobi is the capital of Kenya and its average temperature is 60.38246575342463</td></tr><tr><td>Maputo is the capital of Mozambique and its average temperature is 69.38602739726025</td></tr><tr><td>Dhaka is the capital of Bangladesh and its average temperature is 47.048181818181774</td></tr><tr><td>Bishkek is the capital of Kyrgyzstan and its average temperature is 52.36994535519127</td></tr><tr><td>Kuala Lumpur is the capital of Malaysia and its average temperature is 83.42794520547947</td></tr><tr><td>Bujumbura is the capital of Burundi and its average temperature is -8.80250000000001</td></tr><tr><td>Algiers is the capital of Algeria and its average temperature is 63.51612021857921</td></tr><tr><td>Dakar is the capital of Senegal and its average temperature is 75.57397260273967</td></tr><tr><td>Beijing is the capital of China and its average temperature is 56.32438356164386</td></tr><tr><td>Banjul is the capital of Gambia and its average temperature is 78.74191780821917</td></tr><tr><td>Conakry is the capital of Guinea and its average temperature is 82.5105263157895</td></tr><tr><td>Nairobi is the capital of Kenya and its average temperature is 54.690958904109564</td></tr><tr><td>Maputo is the capital of Mozambique and its average temperature is 65.21967213114756</td></tr><tr><td>Kampala is the capital of Uganda and its average temperature is 72.39043715846994</td></tr><tr><td>Kuala Lumpur is the capital of Malaysia and its average temperature is 81.74617486338795</td></tr><tr><td>Libreville is the capital of Gabon and its average temperature is 77.6709589041096</td></tr><tr><td>Antananarivo is the capital of Madagascar and its average temperature is 66.2049315068493</td></tr><tr><td>Banjul is the capital of Gambia and its average temperature is 58.57841530054645</td></tr><tr><td>Maputo is the capital of Mozambique and its average temperature is 64.54684931506848</td></tr><tr><td>Kampala is the capital of Uganda and its average temperature is -45.04180327868849</td></tr><tr><td>Bishkek is the capital of Kyrgyzstan and its average temperature is 52.65561643835621</td></tr><tr><td>Kuala Lumpur is the capital of Malaysia and its average temperature is 81.46775956284155</td></tr><tr><td>Bujumbura is the capital of Burundi and its average temperature is -50.64876712328761</td></tr><tr><td>Conakry is the capital of Guinea and its average temperature is 38.73497267759564</td></tr><tr><td>Tunis is the capital of Tunisia and its average temperature is 67.51260273972602</td></tr><tr><td>Beijing is the capital of China and its average temperature is 55.92027397260275</td></tr><tr><td>Bangui is the capital of Central African Republic and its average temperature is 79.36164383561645</td></tr><tr><td>Kampala is the capital of Uganda and its average temperature is 35.456010928961746</td></tr><tr><td>Cairo is the capital of Egypt and its average temperature is 72.58520547945211</td></tr><tr><td>Tokyo is the capital of Japan and its average temperature is 61.12383561643826</td></tr><tr><td>Kuala Lumpur is the capital of Malaysia and its average temperature is 80.42622950819667</td></tr><tr><td>Pyongyang is the capital of North Korea and its average temperature is 49.63397260273972</td></tr><tr><td>Lilongwe is the capital of Malawi and its average temperature is -99.0</td></tr><tr><td>Bishkek is the capital of Kyrgyzstan and its average temperature is 53.82767123287671</td></tr><tr><td>Maputo is the capital of Mozambique and its average temperature is 57.940000000000005</td></tr><tr><td>Vientiane is the capital of Laos and its average temperature is 78.41452054794519</td></tr><tr><td>Bangui is the capital of Central African Republic and its average temperature is 68.13808219178084</td></tr><tr><td>Tunis is the capital of Tunisia and its average temperature is 66.46721311475405</td></tr><tr><td>Bangui is the capital of Central African Republic and its average temperature is 75.35698630136991</td></tr><tr><td>Cairo is the capital of Egypt and its average temperature is 73.64739726027393</td></tr><tr><td>Bishkek is the capital of Kyrgyzstan and its average temperature is 54.89643835616442</td></tr><tr><td>Pyongyang is the capital of North Korea and its average temperature is 52.25452054794521</td></tr><tr><td>Bangui is the capital of Central African Republic and its average temperature is 68.64672131147542</td></tr><tr><td>Nouakchott is the capital of Mauritania and its average temperature is 72.43616438356169</td></tr><tr><td>Maputo is the capital of Mozambique and its average temperature is 73.01616438356163</td></tr><tr><td>Dakar is the capital of Senegal and its average temperature is 75.17671232876705</td></tr><tr><td>Tokyo is the capital of Japan and its average temperature is 59.35369863013701</td></tr><tr><td>Vientiane is the capital of Laos and its average temperature is 80.7754098360655</td></tr><tr><td>Lilongwe is the capital of Malawi and its average temperature is -87.35808219178082</td></tr><tr><td>Maputo is the capital of Mozambique and its average temperature is -23.073698630137006</td></tr><tr><td>Maputo is the capital of Mozambique and its average temperature is 77.71865671641794</td></tr><tr><td>Rabat is the capital of Morocco and its average temperature is 61.643989071038284</td></tr><tr><td>Maputo is the capital of Mozambique and its average temperature is 73.71393442622957</td></tr><tr><td>Freetown is the capital of Sierra Leone and its average temperature is 41.46273972602741</td></tr><tr><td>Pyongyang is the capital of North Korea and its average temperature is 50.95054644808742</td></tr><tr><td>Bujumbura is the capital of Burundi and its average temperature is -98.50602739726027</td></tr><tr><td>Beijing is the capital of China and its average temperature is 56.39753424657534</td></tr><tr><td>Jakarta is the capital of Indonesia and its average temperature is 82.98575342465755</td></tr><tr><td>Bangui is the capital of Central African Republic and its average temperature is 74.44207650273223</td></tr><tr><td>Rabat is the capital of Morocco and its average temperature is 64.0693150684932</td></tr><tr><td>Beijing is the capital of China and its average temperature is 44.68358208955224</td></tr><tr><td>Libreville is the capital of Gabon and its average temperature is 75.94438356164382</td></tr><tr><td>Banjul is the capital of Gambia and its average temperature is 59.051506849315004</td></tr><tr><td>Dakar is the capital of Senegal and its average temperature is 76.93041095890412</td></tr><tr><td>Vientiane is the capital of Laos and its average temperature is 80.24712328767123</td></tr><tr><td>Dhaka is the capital of Bangladesh and its average temperature is -1.0745205479452054</td></tr><tr><td>Jakarta is the capital of Indonesia and its average temperature is 83.06246575342472</td></tr><tr><td>Pyongyang is the capital of North Korea and its average temperature is 34.877808219178064</td></tr><tr><td>Cairo is the capital of Egypt and its average temperature is 72.6803278688525</td></tr><tr><td>Cairo is the capital of Egypt and its average temperature is 72.03142076502735</td></tr><tr><td>Addis Ababa is the capital of Ethiopia and its average temperature is 50.28142076502729</td></tr><tr><td>Freetown is the capital of Sierra Leone and its average temperature is -99.0</td></tr><tr><td>Tunis is the capital of Tunisia and its average temperature is 67.15178082191777</td></tr><tr><td>Bishkek is the capital of Kyrgyzstan and its average temperature is 53.78958904109593</td></tr><tr><td>Pyongyang is the capital of North Korea and its average temperature is 51.050410958904145</td></tr><tr><td>Antananarivo is the capital of Madagascar and its average temperature is 69.439552238806</td></tr><tr><td>Dakar is the capital of Senegal and its average temperature is 74.16065573770499</td></tr><tr><td>Cairo is the capital of Egypt and its average temperature is 74.0241095890411</td></tr><tr><td>Conakry is the capital of Guinea and its average temperature is 55.4178082191781</td></tr><tr><td>Maputo is the capital of Mozambique and its average temperature is 72.40630136986302</td></tr><tr><td>Bishkek is the capital of Kyrgyzstan and its average temperature is 54.21612021857921</td></tr><tr><td>Lusaka is the capital of Zambia and its average temperature is 64.2517808219178</td></tr><tr><td>Bangui is the capital of Central African Republic and its average temperature is 70.40027397260276</td></tr><tr><td>Banjul is the capital of Gambia and its average temperature is 41.95437158469942</td></tr><tr><td>Tokyo is the capital of Japan and its average temperature is 52.78955223880599</td></tr><tr><td>Pyongyang is the capital of North Korea and its average temperature is 45.046575342465765</td></tr><tr><td>Algiers is the capital of Algeria and its average temperature is 65.04273972602736</td></tr><tr><td>Rabat is the capital of Morocco and its average temperature is 63.39672131147545</td></tr><tr><td>Vientiane is the capital of Laos and its average temperature is 78.44328767123285</td></tr><tr><td>Bujumbura is the capital of Burundi and its average temperature is -99.0</td></tr><tr><td>Dakar is the capital of Senegal and its average temperature is 75.64316939890706</td></tr><tr><td>Bishkek is the capital of Kyrgyzstan and its average temperature is 53.92595628415296</td></tr><tr><td>Algiers is the capital of Algeria and its average temperature is 64.66986301369867</td></tr><tr><td>Dakar is the capital of Senegal and its average temperature is 72.58328767123291</td></tr><tr><td>Addis Ababa is the capital of Ethiopia and its average temperature is -76.80819672131149</td></tr><tr><td>Beijing is the capital of China and its average temperature is 54.234426229508166</td></tr><tr><td>Jakarta is the capital of Indonesia and its average temperature is 30.722191780821923</td></tr><tr><td>Tokyo is the capital of Japan and its average temperature is 62.229041095890445</td></tr><tr><td>Kuala Lumpur is the capital of Malaysia and its average temperature is 81.65917808219181</td></tr><tr><td>Bangui is the capital of Central African Republic and its average temperature is 73.27890410958905</td></tr><tr><td>Addis Ababa is the capital of Ethiopia and its average temperature is -12.593424657534227</td></tr><tr><td>Freetown is the capital of Sierra Leone and its average temperature is 67.88191780821923</td></tr><tr><td>Beijing is the capital of China and its average temperature is 53.4665753424658</td></tr><tr><td>Jakarta is the capital of Indonesia and its average temperature is -74.42219178082193</td></tr><tr><td>Maputo is the capital of Mozambique and its average temperature is 66.59972602739724</td></tr><tr><td>Windhoek is the capital of Namibia and its average temperature is 48.36010928961748</td></tr><tr><td>Vientiane is the capital of Laos and its average temperature is 78.01338797814199</td></tr><tr><td>Cairo is the capital of Egypt and its average temperature is 72.6860273972603</td></tr><tr><td>Libreville is the capital of Gabon and its average temperature is 79.34520547945203</td></tr><tr><td>Bissau is the capital of Guinea-Bissau and its average temperature is 75.62931506849316</td></tr><tr><td>Rabat is the capital of Morocco and its average temperature is 61.527397260274036</td></tr><tr><td>Jakarta is the capital of Indonesia and its average temperature is 73.18797814207655</td></tr><tr><td>Algiers is the capital of Algeria and its average temperature is 64.29043715846997</td></tr><tr><td>Nouakchott is the capital of Mauritania and its average temperature is 77.13972602739732</td></tr><tr><td>Tunis is the capital of Tunisia and its average temperature is 66.2350684931507</td></tr><tr><td>Beijing is the capital of China and its average temperature is 56.563287671232885</td></tr><tr><td>Algiers is the capital of Algeria and its average temperature is 64.25972602739726</td></tr><tr><td>Algiers is the capital of Algeria and its average temperature is 64.96082191780816</td></tr><tr><td>Conakry is the capital of Guinea and its average temperature is 77.63780821917813</td></tr><tr><td>Beijing is the capital of China and its average temperature is 54.77431693989073</td></tr><tr><td>Beijing is the capital of China and its average temperature is 54.46</td></tr><tr><td>Bishkek is the capital of Kyrgyzstan and its average temperature is 54.137260273972586</td></tr><tr><td>Bangui is the capital of Central African Republic and its average temperature is 70.75917808219178</td></tr><tr><td>Conakry is the capital of Guinea and its average temperature is -11.979508196721325</td></tr><tr><td>Lusaka is the capital of Zambia and its average temperature is 68.36448087431695</td></tr><tr><td>Cairo is the capital of Egypt and its average temperature is 70.77185792349732</td></tr><tr><td>Bissau is the capital of Guinea-Bissau and its average temperature is -99.0</td></tr><tr><td>Beijing is the capital of China and its average temperature is 54.78465753424655</td></tr><tr><td>Bangui is the capital of Central African Republic and its average temperature is 71.9717808219178</td></tr><tr><td>Tunis is the capital of Tunisia and its average temperature is 66.88109589041098</td></tr><tr><td>Jakarta is the capital of Indonesia and its average temperature is 72.7731506849315</td></tr><tr><td>Antananarivo is the capital of Madagascar and its average temperature is 64.19808219178086</td></tr><tr><td>Bangui is the capital of Central African Republic and its average temperature is 72.6843835616438</td></tr><tr><td>Bissau is the capital of Guinea-Bissau and its average temperature is 78.57095890410957</td></tr><tr><td>Conakry is the capital of Guinea and its average temperature is 78.57369863013702</td></tr><tr><td>Rabat is the capital of Morocco and its average temperature is 62.86092896174871</td></tr><tr><td>Tunis is the capital of Tunisia and its average temperature is 67.02301369863012</td></tr><tr><td>Cairo is the capital of Egypt and its average temperature is 72.73726027397261</td></tr><tr><td>Addis Ababa is the capital of Ethiopia and its average temperature is 11.768493150684929</td></tr><tr><td>Conakry is the capital of Guinea and its average temperature is 48.03315068493151</td></tr><tr><td>Windhoek is the capital of Namibia and its average temperature is -0.03424657534246852</td></tr><tr><td>Kampala is the capital of Uganda and its average temperature is 66.57650273224047</td></tr><tr><td>Vientiane is the capital of Laos and its average temperature is 80.8813698630137</td></tr><tr><td>Kuala Lumpur is the capital of Malaysia and its average temperature is 80.71863013698632</td></tr><tr><td>Kuala Lumpur is the capital of Malaysia and its average temperature is 82.15315068493148</td></tr><tr><td>Maputo is the capital of Mozambique and its average temperature is 59.325956284153065</td></tr><tr><td>Freetown is the capital of Sierra Leone and its average temperature is 60.1109589041096</td></tr><tr><td>Conakry is the capital of Guinea and its average temperature is 77.74602739726033</td></tr><tr><td>Kampala is the capital of Uganda and its average temperature is -34.60767123287671</td></tr><tr><td>Lusaka is the capital of Zambia and its average temperature is 65.98191780821918</td></tr><tr><td>Tokyo is the capital of Japan and its average temperature is 62.22493150684935</td></tr><tr><td>Banjul is the capital of Gambia and its average temperature is 76.90519125683056</td></tr><tr><td>Bissau is the capital of Guinea-Bissau and its average temperature is 76.09234972677598</td></tr><tr><td>Vientiane is the capital of Laos and its average temperature is 79.9073972602739</td></tr><tr><td>Bujumbura is the capital of Burundi and its average temperature is -99.0</td></tr><tr><td>Cairo is the capital of Egypt and its average temperature is 71.77978142076502</td></tr><tr><td>Conakry is the capital of Guinea and its average temperature is 69.25136612021856</td></tr><tr><td>Antananarivo is the capital of Madagascar and its average temperature is 65.35382513661202</td></tr><tr><td>Windhoek is the capital of Namibia and its average temperature is 62.10327868852457</td></tr><tr><td>Dhaka is the capital of Bangladesh and its average temperature is 38.05397260273975</td></tr><tr><td>Pyongyang is the capital of North Korea and its average temperature is 47.916712328767126</td></tr><tr><td>Bissau is the capital of Guinea-Bissau and its average temperature is -99.0</td></tr><tr><td>Lusaka is the capital of Zambia and its average temperature is 62.46876712328768</td></tr><tr><td>Addis Ababa is the capital of Ethiopia and its average temperature is -98.10602739726026</td></tr><tr><td>Lilongwe is the capital of Malawi and its average temperature is -98.53852459016393</td></tr><tr><td>Beijing is the capital of China and its average temperature is 54.889863013698616</td></tr><tr><td>Windhoek is the capital of Namibia and its average temperature is 63.000821917808196</td></tr><tr><td>Addis Ababa is the capital of Ethiopia and its average temperature is 19.28387978142077</td></tr><tr><td>Dakar is the capital of Senegal and its average temperature is 71.65452054794521</td></tr><tr><td>Algiers is the capital of Algeria and its average temperature is 64.93041095890408</td></tr><tr><td>Banjul is the capital of Gambia and its average temperature is 57.77835616438358</td></tr><tr><td>Nouakchott is the capital of Mauritania and its average temperature is 70.25</td></tr><tr><td>Beijing is the capital of China and its average temperature is 53.943561643835594</td></tr><tr><td>Tokyo is the capital of Japan and its average temperature is 60.55452054794516</td></tr><tr><td>Tokyo is the capital of Japan and its average temperature is 61.19999999999999</td></tr><tr><td>Algiers is the capital of Algeria and its average temperature is 64.18278688524586</td></tr><tr><td>Banjul is the capital of Gambia and its average temperature is 75.35780821917805</td></tr><tr><td>Kampala is the capital of Uganda and its average temperature is 71.88328767123284</td></tr><tr><td>Lusaka is the capital of Zambia and its average temperature is 31.056164383561633</td></tr><tr><td>Jakarta is the capital of Indonesia and its average temperature is -3.5054794520547845</td></tr><tr><td>Jakarta is the capital of Indonesia and its average temperature is 82.18986301369856</td></tr><tr><td>Bissau is the capital of Guinea-Bissau and its average temperature is 81.46015037593988</td></tr><tr><td>Pyongyang is the capital of North Korea and its average temperature is 50.75972602739723</td></tr><tr><td>Bangui is the capital of Central African Republic and its average temperature is 79.10054644808746</td></tr><tr><td>Antananarivo is the capital of Madagascar and its average temperature is 65.31584699453546</td></tr><tr><td>Nouakchott is the capital of Mauritania and its average temperature is 75.68661202185791</td></tr><tr><td>Rabat is the capital of Morocco and its average temperature is 62.62868852459014</td></tr><tr><td>Windhoek is the capital of Namibia and its average temperature is 66.27205479452056</td></tr><tr><td>Libreville is the capital of Gabon and its average temperature is 79.01010928961749</td></tr><tr><td>Cairo is the capital of Egypt and its average temperature is 70.9928767123288</td></tr><tr><td>Bissau is the capital of Guinea-Bissau and its average temperature is -38.47459016393442</td></tr><tr><td>Maputo is the capital of Mozambique and its average temperature is 73.80655737704916</td></tr><tr><td>Jakarta is the capital of Indonesia and its average temperature is -77.773698630137</td></tr><tr><td>Conakry is the capital of Guinea and its average temperature is 73.52493150684933</td></tr><tr><td>Windhoek is the capital of Namibia and its average temperature is 62.47671232876711</td></tr><tr><td>Bishkek is the capital of Kyrgyzstan and its average temperature is 51.06301369863013</td></tr><tr><td>Conakry is the capital of Guinea and its average temperature is 69.18493150684931</td></tr><tr><td>Addis Ababa is the capital of Ethiopia and its average temperature is 60.44508196721313</td></tr><tr><td>Dakar is the capital of Senegal and its average temperature is 76.30136986301369</td></tr><tr><td>Banjul is the capital of Gambia and its average temperature is 77.41530054644808</td></tr><tr><td>Jakarta is the capital of Indonesia and its average temperature is -75.10109589041096</td></tr><tr><td>Vientiane is the capital of Laos and its average temperature is 81.95397260273981</td></tr><tr><td>Kampala is the capital of Uganda and its average temperature is 60.3953424657534</td></tr><tr><td>Addis Ababa is the capital of Ethiopia and its average temperature is 65.17819548872181</td></tr><tr><td>Rabat is the capital of Morocco and its average temperature is 62.47287671232877</td></tr><tr><td>Freetown is the capital of Sierra Leone and its average temperature is 71.48114754098364</td></tr><tr><td>Dakar is the capital of Senegal and its average temperature is 77.35369863013693</td></tr><tr><td>Libreville is the capital of Gabon and its average temperature is 79.62493150684925</td></tr><tr><td>Nouakchott is the capital of Mauritania and its average temperature is 75.77103825136605</td></tr><tr><td>Jakarta is the capital of Indonesia and its average temperature is 82.46821917808208</td></tr><tr><td>Conakry is the capital of Guinea and its average temperature is 47.75534246575343</td></tr><tr><td>Nairobi is the capital of Kenya and its average temperature is 42.251639344262315</td></tr><tr><td>Tunis is the capital of Tunisia and its average temperature is 66.71643835616442</td></tr><tr><td>Cairo is the capital of Egypt and its average temperature is 72.03780821917809</td></tr><tr><td>Jakarta is the capital of Indonesia and its average temperature is 80.56904109589043</td></tr><tr><td>Nairobi is the capital of Kenya and its average temperature is -92.23934426229506</td></tr><tr><td>Rabat is the capital of Morocco and its average temperature is 63.08958904109587</td></tr><tr><td>Dakar is the capital of Senegal and its average temperature is 77.87232876712325</td></tr><tr><td>Bishkek is the capital of Kyrgyzstan and its average temperature is 54.25683060109289</td></tr><tr><td>Bishkek is the capital of Kyrgyzstan and its average temperature is 52.67232876712328</td></tr><tr><td>Dakar is the capital of Senegal and its average temperature is 76.18032786885246</td></tr><tr><td>Cairo is the capital of Egypt and its average temperature is 72.27021857923499</td></tr><tr><td>Conakry is the capital of Guinea and its average temperature is 73.592602739726</td></tr><tr><td>Bissau is the capital of Guinea-Bissau and its average temperature is 73.87397260273968</td></tr><tr><td>Nairobi is the capital of Kenya and its average temperature is 67.12328767123283</td></tr><tr><td>Rabat is the capital of Morocco and its average temperature is 59.73150684931507</td></tr><tr><td>Dakar is the capital of Senegal and its average temperature is 75.7887671232876</td></tr><tr><td>Beijing is the capital of China and its average temperature is 54.263287671232874</td></tr><tr><td>Bishkek is the capital of Kyrgyzstan and its average temperature is 52.73196721311477</td></tr><tr><td>Algiers is the capital of Algeria and its average temperature is 65.19589041095887</td></tr><tr><td>Bishkek is the capital of Kyrgyzstan and its average temperature is 44.90075187969924</td></tr><tr><td>Addis Ababa is the capital of Ethiopia and its average temperature is -6.162465753424657</td></tr><tr><td>Banjul is the capital of Gambia and its average temperature is -18.72246575342466</td></tr><tr><td>Nairobi is the capital of Kenya and its average temperature is 0.9000000000000009</td></tr><tr><td>Bishkek is the capital of Kyrgyzstan and its average temperature is 52.15205479452061</td></tr><tr><td>Vientiane is the capital of Laos and its average temperature is 76.42410958904114</td></tr><tr><td>Bangui is the capital of Central African Republic and its average temperature is 79.23917808219181</td></tr><tr><td>Beijing is the capital of China and its average temperature is 54.449999999999974</td></tr><tr><td>Maputo is the capital of Mozambique and its average temperature is 69.03808219178086</td></tr><tr><td>Tunis is the capital of Tunisia and its average temperature is 65.85601092896175</td></tr><tr><td>Jakarta is the capital of Indonesia and its average temperature is -47.279234972677585</td></tr><tr><td>Bishkek is the capital of Kyrgyzstan and its average temperature is 52.423287671232856</td></tr><tr><td>Pyongyang is the capital of North Korea and its average temperature is 50.29672131147539</td></tr><tr><td>Antananarivo is the capital of Madagascar and its average temperature is 65.53671232876721</td></tr><tr><td>Antananarivo is the capital of Madagascar and its average temperature is 65.42794520547946</td></tr><tr><td>Pyongyang is the capital of North Korea and its average temperature is 28.719726027397282</td></tr><tr><td>Rabat is the capital of Morocco and its average temperature is 63.36931506849315</td></tr><tr><td>Windhoek is the capital of Namibia and its average temperature is 48.0358904109589</td></tr><tr><td>Tunis is the capital of Tunisia and its average temperature is 65.46136986301373</td></tr><tr><td>Kampala is the capital of Uganda and its average temperature is 67.06191780821916</td></tr><tr><td>Beijing is the capital of China and its average temperature is 53.15698630136992</td></tr><tr><td>Bangui is the capital of Central African Republic and its average temperature is 78.27808219178088</td></tr><tr><td>Antananarivo is the capital of Madagascar and its average temperature is 64.12273972602746</td></tr><tr><td>Antananarivo is the capital of Madagascar and its average temperature is 65.4249315068493</td></tr><tr><td>Tunis is the capital of Tunisia and its average temperature is 64.67041095890413</td></tr><tr><td>Libreville is the capital of Gabon and its average temperature is 79.43397260273974</td></tr><tr><td>Bissau is the capital of Guinea-Bissau and its average temperature is 77.52958904109589</td></tr><tr><td>Windhoek is the capital of Namibia and its average temperature is 49.45068493150687</td></tr><tr><td>Nairobi is the capital of Kenya and its average temperature is 63.225205479452086</td></tr><tr><td>Windhoek is the capital of Namibia and its average temperature is 58.9964383561644</td></tr><tr><td>Jakarta is the capital of Indonesia and its average temperature is 81.08715846994536</td></tr><tr><td>Tokyo is the capital of Japan and its average temperature is 60.187945205479465</td></tr><tr><td>Tunis is the capital of Tunisia and its average temperature is 59.53208955223882</td></tr><tr><td>Bujumbura is the capital of Burundi and its average temperature is -74.82027397260273</td></tr><tr><td>Pyongyang is the capital of North Korea and its average temperature is 40.838345864661655</td></tr><tr><td>Addis Ababa is the capital of Ethiopia and its average temperature is 38.248219178082216</td></tr><tr><td>Maputo is the capital of Mozambique and its average temperature is 69.53452054794518</td></tr><tr><td>Tokyo is the capital of Japan and its average temperature is 61.645205479452045</td></tr><tr><td>Pyongyang is the capital of North Korea and its average temperature is 49.57753424657534</td></tr><tr><td>Libreville is the capital of Gabon and its average temperature is 79.66821917808224</td></tr><tr><td>Conakry is the capital of Guinea and its average temperature is 81.92786885245899</td></tr><tr><td>Dakar is the capital of Senegal and its average temperature is 77.29178082191781</td></tr><tr><td>Bishkek is the capital of Kyrgyzstan and its average temperature is 52.75506849315074</td></tr><tr><td>Addis Ababa is the capital of Ethiopia and its average temperature is 57.472328767123344</td></tr><tr><td>Bissau is the capital of Guinea-Bissau and its average temperature is -99.0</td></tr><tr><td>Nairobi is the capital of Kenya and its average temperature is -24.772054794520557</td></tr><tr><td>Antananarivo is the capital of Madagascar and its average temperature is 64.63506849315067</td></tr><tr><td>Nouakchott is the capital of Mauritania and its average temperature is 76.81315068493157</td></tr><tr><td>Lusaka is the capital of Zambia and its average temperature is 59.502739726027436</td></tr><tr><td>Algiers is the capital of Algeria and its average temperature is 58.034328358208924</td></tr><tr><td>Rabat is the capital of Morocco and its average temperature is 63.16986301369864</td></tr><tr><td>Antananarivo is the capital of Madagascar and its average temperature is 64.46657534246579</td></tr><tr><td>Kampala is the capital of Uganda and its average temperature is 39.52767123287667</td></tr><tr><td>Rabat is the capital of Morocco and its average temperature is 61.195342465753384</td></tr><tr><td>Beijing is the capital of China and its average temperature is 55.58306010928962</td></tr><tr><td>Dakar is the capital of Senegal and its average temperature is 74.88715846994529</td></tr><tr><td>Kampala is the capital of Uganda and its average temperature is 70.49150684931506</td></tr><tr><td>Antananarivo is the capital of Madagascar and its average temperature is 63.85956284152999</td></tr><tr><td>Algiers is the capital of Algeria and its average temperature is 63.53224043715848</td></tr><tr><td>Bishkek is the capital of Kyrgyzstan and its average temperature is 53.37506849315075</td></tr><tr><td>Kuala Lumpur is the capital of Malaysia and its average temperature is 82.09262295081963</td></tr><tr><td>Beijing is the capital of China and its average temperature is 54.906301369862994</td></tr><tr><td>Cairo is the capital of Egypt and its average temperature is 71.97978142076502</td></tr><tr><td>Bishkek is the capital of Kyrgyzstan and its average temperature is 53.404918032786846</td></tr><tr><td>Addis Ababa is the capital of Ethiopia and its average temperature is 60.24109589041093</td></tr><tr><td>Banjul is the capital of Gambia and its average temperature is 68.56082191780816</td></tr><tr><td>Tokyo is the capital of Japan and its average temperature is 60.821857923497305</td></tr><tr><td>Kuala Lumpur is the capital of Malaysia and its average temperature is 83.80970149253731</td></tr><tr><td>Conakry is the capital of Guinea and its average temperature is 62.41530054644809</td></tr><tr><td>Nouakchott is the capital of Mauritania and its average temperature is 77.21315068493152</td></tr><tr><td>Banjul is the capital of Gambia and its average temperature is 23.682739726027393</td></tr><tr><td>Banjul is the capital of Gambia and its average temperature is 78.44191780821923</td></tr><tr><td>Kampala is the capital of Uganda and its average temperature is 62.42273972602744</td></tr><tr><td>Pyongyang is the capital of North Korea and its average temperature is 52.27677595628414</td></tr><tr><td>Antananarivo is the capital of Madagascar and its average temperature is 54.404098360655574</td></tr><tr><td>Banjul is the capital of Gambia and its average temperature is 78.90739726027397</td></tr><tr><td>Kuala Lumpur is the capital of Malaysia and its average temperature is 79.98109589041104</td></tr><tr><td>Libreville is the capital of Gabon and its average temperature is 77.28383561643834</td></tr><tr><td>Nouakchott is the capital of Mauritania and its average temperature is 67.12164383561647</td></tr><tr><td>Lilongwe is the capital of Malawi and its average temperature is -30.364931506849306</td></tr><tr><td>Jakarta is the capital of Indonesia and its average temperature is 81.00931506849315</td></tr><tr><td>Tokyo is the capital of Japan and its average temperature is 60.29726775956285</td></tr><tr><td>Vientiane is the capital of Laos and its average temperature is 82.05027322404366</td></tr><tr><td>Algiers is the capital of Algeria and its average temperature is 64.26821917808216</td></tr><tr><td>Addis Ababa is the capital of Ethiopia and its average temperature is 53.857650273224024</td></tr><tr><td>Maputo is the capital of Mozambique and its average temperature is 71.17534246575342</td></tr><tr><td>Vientiane is the capital of Laos and its average temperature is 80.20819672131145</td></tr><tr><td>Rabat is the capital of Morocco and its average temperature is 63.35245901639344</td></tr><tr><td>Conakry is the capital of Guinea and its average temperature is 75.43095890410957</td></tr><tr><td>Nouakchott is the capital of Mauritania and its average temperature is 77.89508196721309</td></tr><tr><td>Maputo is the capital of Mozambique and its average temperature is 73.00464480874317</td></tr><tr><td>Kampala is the capital of Uganda and its average temperature is 48.56301369863016</td></tr><tr><td>Addis Ababa is the capital of Ethiopia and its average temperature is 60.764657534246574</td></tr><tr><td>Libreville is the capital of Gabon and its average temperature is 82.79253731343283</td></tr><tr><td>Freetown is the capital of Sierra Leone and its average temperature is 54.27726027397257</td></tr><tr><td>Dakar is the capital of Senegal and its average temperature is 73.56301369863013</td></tr><tr><td>Tunis is the capital of Tunisia and its average temperature is 66.44071038251361</td></tr><tr><td>Bissau is the capital of Guinea-Bissau and its average temperature is -99.0</td></tr><tr><td>Bissau is the capital of Guinea-Bissau and its average temperature is 55.911780821917795</td></tr><tr><td>Antananarivo is the capital of Madagascar and its average temperature is 54.80081967213114</td></tr><tr><td>Bishkek is the capital of Kyrgyzstan and its average temperature is 52.842191780821885</td></tr><tr><td>Antananarivo is the capital of Madagascar and its average temperature is 66.65999999999994</td></tr><tr><td>Jakarta is the capital of Indonesia and its average temperature is 82.16912568306019</td></tr><tr><td>Vientiane is the capital of Laos and its average temperature is 80.03205479452052</td></tr><tr><td>Kuala Lumpur is the capital of Malaysia and its average temperature is 81.41534246575337</td></tr><tr><td>Libreville is the capital of Gabon and its average temperature is 77.58684931506855</td></tr><tr><td>Nairobi is the capital of Kenya and its average temperature is -57.93306010928962</td></tr><tr><td>Nouakchott is the capital of Mauritania and its average temperature is 60.956830601092946</td></tr><tr><td>Kuala Lumpur is the capital of Malaysia and its average temperature is 83.10027397260275</td></tr><tr><td>Lilongwe is the capital of Malawi and its average temperature is 60.234905660377336</td></tr><tr><td>Maputo is the capital of Mozambique and its average temperature is 71.29150684931516</td></tr><tr><td>Tokyo is the capital of Japan and its average temperature is 60.314246575342516</td></tr><tr><td>Libreville is the capital of Gabon and its average temperature is 79.26082191780824</td></tr><tr><td>Rabat is the capital of Morocco and its average temperature is 63.956164383561706</td></tr><tr><td>Rabat is the capital of Morocco and its average temperature is 62.07534246575344</td></tr><tr><td>Freetown is the capital of Sierra Leone and its average temperature is 55.84849315068492</td></tr><tr><td>Jakarta is the capital of Indonesia and its average temperature is 81.86502732240442</td></tr><tr><td>Rabat is the capital of Morocco and its average temperature is 62.81666666666663</td></tr><tr><td>Antananarivo is the capital of Madagascar and its average temperature is 64.73387978142074</td></tr><tr><td>Bangui is the capital of Central African Republic and its average temperature is 75.0632876712329</td></tr><tr><td>Banjul is the capital of Gambia and its average temperature is 73.47917808219175</td></tr><tr><td>Bissau is the capital of Guinea-Bissau and its average temperature is 81.90383561643836</td></tr><tr><td>Freetown is the capital of Sierra Leone and its average temperature is 48.33879781420764</td></tr><tr><td>Dhaka is the capital of Bangladesh and its average temperature is -1.2486338797814207</td></tr><tr><td>Tokyo is the capital of Japan and its average temperature is 60.912876712328796</td></tr><tr><td>Pyongyang is the capital of North Korea and its average temperature is 49.059016393442576</td></tr><tr><td>Kuala Lumpur is the capital of Malaysia and its average temperature is 83.06739726027394</td></tr><tr><td>Antananarivo is the capital of Madagascar and its average temperature is 64.36465753424662</td></tr><tr><td>Dhaka is the capital of Bangladesh and its average temperature is 1.7278688524590098</td></tr><tr><td>Banjul is the capital of Gambia and its average temperature is 8.26602739726028</td></tr><tr><td>Bissau is the capital of Guinea-Bissau and its average temperature is 79.44016393442628</td></tr><tr><td>Rabat is the capital of Morocco and its average temperature is 57.94253731343289</td></tr><tr><td>Freetown is the capital of Sierra Leone and its average temperature is -93.54876712328762</td></tr><tr><td>Kampala is the capital of Uganda and its average temperature is 71.4578947368421</td></tr><tr><td>Algiers is the capital of Algeria and its average temperature is 62.91342465753426</td></tr><tr><td>Bissau is the capital of Guinea-Bissau and its average temperature is 15.906557377049173</td></tr><tr><td>Lilongwe is the capital of Malawi and its average temperature is 23.962841530054675</td></tr><tr><td>Lilongwe is the capital of Malawi and its average temperature is 45.104098360655726</td></tr><tr><td>Vientiane is the capital of Laos and its average temperature is 81.5694029850746</td></tr><tr><td>Addis Ababa is the capital of Ethiopia and its average temperature is 38.22657534246578</td></tr><tr><td>Bissau is the capital of Guinea-Bissau and its average temperature is -99.0</td></tr><tr><td>Lusaka is the capital of Zambia and its average temperature is 67.90219178082191</td></tr><tr><td>Nairobi is the capital of Kenya and its average temperature is 56.633333333333404</td></tr><tr><td>Nouakchott is the capital of Mauritania and its average temperature is 76.70739726027398</td></tr><tr><td>Tokyo is the capital of Japan and its average temperature is 60.87158469945352</td></tr><tr><td>Libreville is the capital of Gabon and its average temperature is 71.46284153005458</td></tr><tr><td>Conakry is the capital of Guinea and its average temperature is 61.13068493150687</td></tr><tr><td>Beijing is the capital of China and its average temperature is 55.21748633879779</td></tr><tr><td>Libreville is the capital of Gabon and its average temperature is 78.31698630136988</td></tr><tr><td>Conakry is the capital of Guinea and its average temperature is 61.438904109589025</td></tr><tr><td>Cairo is the capital of Egypt and its average temperature is 72.32876712328766</td></tr><tr><td>Libreville is the capital of Gabon and its average temperature is 74.39315068493151</td></tr><tr><td>Tokyo is the capital of Japan and its average temperature is 61.44535519125674</td></tr><tr><td>Dakar is the capital of Senegal and its average temperature is 73.61268656716415</td></tr><tr><td>Freetown is the capital of Sierra Leone and its average temperature is 26.315342465753425</td></tr><tr><td>Pyongyang is the capital of North Korea and its average temperature is 50.684426229508226</td></tr><tr><td>Pyongyang is the capital of North Korea and its average temperature is 50.792602739726064</td></tr><tr><td>Bangui is the capital of Central African Republic and its average temperature is 73.24153005464478</td></tr><tr><td>Libreville is the capital of Gabon and its average temperature is 77.9691256830601</td></tr><tr><td>Nouakchott is the capital of Mauritania and its average temperature is 78.57698630136989</td></tr><tr><td>Nouakchott is the capital of Mauritania and its average temperature is 75.6254794520548</td></tr><tr><td>Kampala is the capital of Uganda and its average temperature is 66.44246575342464</td></tr><tr><td>Dhaka is the capital of Bangladesh and its average temperature is 11.475068493150683</td></tr><tr><td>Bishkek is the capital of Kyrgyzstan and its average temperature is 50.33616438356167</td></tr><tr><td>Vientiane is the capital of Laos and its average temperature is 80.38082191780818</td></tr><tr><td>Kuala Lumpur is the capital of Malaysia and its average temperature is 82.25808219178087</td></tr><tr><td>Pyongyang is the capital of North Korea and its average temperature is 48.50928961748635</td></tr><tr><td>Cairo is the capital of Egypt and its average temperature is 72.10767123287673</td></tr><tr><td>Jakarta is the capital of Indonesia and its average temperature is 75.072602739726</td></tr><tr><td>Jakarta is the capital of Indonesia and its average temperature is 81.78410958904102</td></tr><tr><td>Bissau is the capital of Guinea-Bissau and its average temperature is 64.4841095890411</td></tr><tr><td>Lusaka is the capital of Zambia and its average temperature is 56.945454545454545</td></tr><tr><td>Dhaka is the capital of Bangladesh and its average temperature is 7.574246575342467</td></tr><tr><td>Algiers is the capital of Algeria and its average temperature is 64.04781420765025</td></tr><tr><td>Lusaka is the capital of Zambia and its average temperature is 64.6709589041096</td></tr><tr><td>Kuala Lumpur is the capital of Malaysia and its average temperature is 81.93534246575337</td></tr><tr><td>Algiers is the capital of Algeria and its average temperature is 63.166849315068504</td></tr><tr><td>Vientiane is the capital of Laos and its average temperature is 81.41479452054793</td></tr><tr><td>Bangui is the capital of Central African Republic and its average temperature is 77.2196721311476</td></tr><tr><td>Rabat is the capital of Morocco and its average temperature is 63.72383561643836</td></tr><tr><td>Windhoek is the capital of Namibia and its average temperature is 65.51780821917806</td></tr><tr><td>Tunis is the capital of Tunisia and its average temperature is 67.11967213114758</td></tr><tr><td>Bangui is the capital of Central African Republic and its average temperature is 73.26438356164387</td></tr><tr><td>Cairo is the capital of Egypt and its average temperature is 63.63880597014926</td></tr><tr><td>Nairobi is the capital of Kenya and its average temperature is 64.67561643835617</td></tr><tr><td>Vientiane is the capital of Laos and its average temperature is 80.51178082191778</td></tr><tr><td>Rabat is the capital of Morocco and its average temperature is 61.42301369863015</td></tr><tr><td>Pyongyang is the capital of North Korea and its average temperature is 51.49534246575345</td></tr><tr><td>Conakry is the capital of Guinea and its average temperature is 60.45136612021861</td></tr><tr><td>Antananarivo is the capital of Madagascar and its average temperature is 65.41150684931506</td></tr><tr><td>Lilongwe is the capital of Malawi and its average temperature is 23.09153005464481</td></tr><tr><td>Addis Ababa is the capital of Ethiopia and its average temperature is 30.338356164383573</td></tr><tr><td>Windhoek is the capital of Namibia and its average temperature is 19.304109589041097</td></tr><tr><td>Vientiane is the capital of Laos and its average temperature is 79.23698630136978</td></tr><tr><td>Hanoi is the capital of Vietnam and its average temperature is 75.25628415300542</td></tr><tr><td>Paris is the capital of France and its average temperature is 53.58524590163939</td></tr><tr><td>Warsaw is the capital of Poland and its average temperature is 49.20547945205477</td></tr><tr><td>Helsinki is the capital of Finland and its average temperature is 41.52849315068495</td></tr><tr><td>Oslo is the capital of Norway and its average temperature is 41.175890410958914</td></tr><tr><td>Bucharest is the capital of Romania and its average temperature is 51.17424657534248</td></tr><tr><td>Bratislava is the capital of Slovakia and its average temperature is 50.71945205479452</td></tr><tr><td>Bangkok is the capital of Thailand and its average temperature is 82.64876712328766</td></tr><tr><td>Dublin is the capital of Ireland and its average temperature is 50.11863013698632</td></tr><tr><td>Dublin is the capital of Ireland and its average temperature is 48.16830601092896</td></tr><tr><td>Bucharest is the capital of Romania and its average temperature is 52.781967213114775</td></tr><tr><td>Skopje is the capital of Macedonia and its average temperature is 55.03743169398911</td></tr><tr><td>Minsk is the capital of Belarus and its average temperature is 11.465479452054783</td></tr><tr><td>Prague is the capital of Czech Republic and its average temperature is 46.626301369862986</td></tr><tr><td>Lisbon is the capital of Portugal and its average temperature is 60.471311475409784</td></tr><tr><td>Manila is the capital of Philippines and its average temperature is 83.27972602739727</td></tr><tr><td>Vienna is the capital of Austria and its average temperature is 52.93561643835609</td></tr><tr><td>Sofia is the capital of Bulgaria and its average temperature is 50.41808219178082</td></tr><tr><td>Islamabad is the capital of Pakistan and its average temperature is 70.36885245901635</td></tr><tr><td>Minsk is the capital of Belarus and its average temperature is 44.62219178082191</td></tr><tr><td>Brussels is the capital of Belgium and its average temperature is 46.91567164179104</td></tr><tr><td>Copenhagen is the capital of Denmark and its average temperature is 47.95479452054794</td></tr><tr><td>Oslo is the capital of Norway and its average temperature is 43.63415300546447</td></tr><tr><td>Warsaw is the capital of Poland and its average temperature is 48.36821917808219</td></tr><tr><td>Moscow is the capital of Russia and its average temperature is 41.05643835616438</td></tr><tr><td>Tashkent is the capital of Uzbekistan and its average temperature is 51.388059701492544</td></tr><tr><td>Tirana is the capital of Albania and its average temperature is 60.56876712328763</td></tr><tr><td>Minsk is the capital of Belarus and its average temperature is 44.71994535519125</td></tr><tr><td>Minsk is the capital of Belarus and its average temperature is 46.319999999999965</td></tr><tr><td>Singapore is the capital of Singapore and its average temperature is 81.86465753424655</td></tr><tr><td>Seoul is the capital of South Korea and its average temperature is 52.37568306010932</td></tr><tr><td>Vienna is the capital of Austria and its average temperature is 51.27945205479456</td></tr><tr><td>Paris is the capital of France and its average temperature is 53.40767123287677</td></tr><tr><td>Riga is the capital of Latvia and its average temperature is 45.970958904109594</td></tr><tr><td>Bucharest is the capital of Romania and its average temperature is 53.758469945355216</td></tr><tr><td>Copenhagen is the capital of Denmark and its average temperature is 48.409289617486294</td></tr><tr><td>Oslo is the capital of Norway and its average temperature is 41.73972602739725</td></tr><tr><td>Moscow is the capital of Russia and its average temperature is 42.47068493150683</td></tr><tr><td>Tbilisi is the capital of Georgia and its average temperature is 57.17896174863391</td></tr><tr><td>Budapest is the capital of Hungary and its average temperature is 50.0315068493151</td></tr><tr><td>Seoul is the capital of South Korea and its average temperature is 52.145205479452024</td></tr><tr><td>Hanoi is the capital of Vietnam and its average temperature is 73.17589041095886</td></tr><tr><td>Hanoi is the capital of Vietnam and its average temperature is 75.39369863013695</td></tr><tr><td>Zagreb is the capital of Croatia and its average temperature is 54.82438356164386</td></tr><tr><td>Warsaw is the capital of Poland and its average temperature is 46.95315068493153</td></tr><tr><td>Islamabad is the capital of Pakistan and its average temperature is 72.15863013698633</td></tr><tr><td>Rome is the capital of Italy and its average temperature is 60.28109589041099</td></tr><tr><td>Lisbon is the capital of Portugal and its average temperature is 59.58876712328772</td></tr><tr><td>Prague is the capital of Czech Republic and its average temperature is 47.369945355191284</td></tr><tr><td>Prague is the capital of Czech Republic and its average temperature is 48.05683060109288</td></tr><tr><td>Copenhagen is the capital of Denmark and its average temperature is 47.56939890710384</td></tr><tr><td>Helsinki is the capital of Finland and its average temperature is 40.110410958904076</td></tr><tr><td>Paris is the capital of France and its average temperature is 45.7731506849315</td></tr><tr><td>Paris is the capital of France and its average temperature is 49.32014925373133</td></tr><tr><td>Riga is the capital of Latvia and its average temperature is 43.52923497267759</td></tr><tr><td>Seoul is the capital of South Korea and its average temperature is 54.13534246575351</td></tr><tr><td>Zagreb is the capital of Croatia and its average temperature is 53.93671232876703</td></tr><tr><td>Athens is the capital of Greece and its average temperature is -29.856284153005458</td></tr><tr><td>Dublin is the capital of Ireland and its average temperature is 48.88657534246575</td></tr><tr><td>Vienna is the capital of Austria and its average temperature is 50.869672131147546</td></tr><tr><td>Brussels is the capital of Belgium and its average temperature is 52.475616438356184</td></tr><tr><td>Riga is the capital of Latvia and its average temperature is 45.72219178082192</td></tr><tr><td>Lisbon is the capital of Portugal and its average temperature is 59.29452054794525</td></tr><tr><td>Paris is the capital of France and its average temperature is 52.743013698630136</td></tr><tr><td>Paris is the capital of France and its average temperature is 52.38169398907109</td></tr><tr><td>Bucharest is the capital of Romania and its average temperature is 53.82759562841522</td></tr><tr><td>Seoul is the capital of South Korea and its average temperature is 53.32712328767123</td></tr><tr><td>Bangkok is the capital of Thailand and its average temperature is 83.73452054794524</td></tr><tr><td>Vienna is the capital of Austria and its average temperature is 50.603005464480894</td></tr><tr><td>Minsk is the capital of Belarus and its average temperature is 46.42109589041094</td></tr><tr><td>Riga is the capital of Latvia and its average temperature is 39.82686567164178</td></tr><tr><td>Warsaw is the capital of Poland and its average temperature is 48.2827397260274</td></tr><tr><td>Copenhagen is the capital of Denmark and its average temperature is 46.86493150684927</td></tr><tr><td>Prague is the capital of Czech Republic and its average temperature is 47.43879781420764</td></tr><tr><td>Paris is the capital of France and its average temperature is 55.00191780821926</td></tr><tr><td>Bangkok is the capital of Thailand and its average temperature is 82.2975409836066</td></tr><tr><td>Sofia is the capital of Bulgaria and its average temperature is 51.455616438356145</td></tr><tr><td>Zagreb is the capital of Croatia and its average temperature is 52.64849315068494</td></tr><tr><td>Copenhagen is the capital of Denmark and its average temperature is 49.47369863013699</td></tr><tr><td>Tbilisi is the capital of Georgia and its average temperature is 54.58383561643839</td></tr><tr><td>Oslo is the capital of Norway and its average temperature is 42.338251366120204</td></tr><tr><td>Seoul is the capital of South Korea and its average temperature is 51.413972602739754</td></tr><tr><td>Canberra is the capital of Australia and its average temperature is 55.04890710382511</td></tr><tr><td>Prague is the capital of Czech Republic and its average temperature is 48.76465753424658</td></tr><tr><td>Helsinki is the capital of Finland and its average temperature is 44.53606557377052</td></tr><tr><td>Oslo is the capital of Norway and its average temperature is 43.8512328767123</td></tr><tr><td>Seoul is the capital of South Korea and its average temperature is 52.728142076502735</td></tr><tr><td>Tashkent is the capital of Uzbekistan and its average temperature is 60.78633879781424</td></tr><tr><td>Sofia is the capital of Bulgaria and its average temperature is 52.861095890410965</td></tr><tr><td>Dublin is the capital of Ireland and its average temperature is 47.27205479452054</td></tr><tr><td>Helsinki is the capital of Finland and its average temperature is 42.81698630136985</td></tr><tr><td>Budapest is the capital of Hungary and its average temperature is 51.51945205479453</td></tr><tr><td>Lisbon is the capital of Portugal and its average temperature is 62.88849315068494</td></tr><tr><td>Brussels is the capital of Belgium and its average temperature is 48.835616438356155</td></tr><tr><td>Budapest is the capital of Hungary and its average temperature is 50.0997260273972</td></tr><tr><td>Rome is the capital of Italy and its average temperature is 60.5652054794521</td></tr><tr><td>Oslo is the capital of Norway and its average temperature is 37.045522388059716</td></tr><tr><td>Tirana is the capital of Albania and its average temperature is 59.935616438356156</td></tr><tr><td>Minsk is the capital of Belarus and its average temperature is 45.367123287671234</td></tr><tr><td>Tashkent is the capital of Uzbekistan and its average temperature is 58.438630136986326</td></tr><tr><td>Skopje is the capital of Macedonia and its average temperature is 53.053698630136985</td></tr><tr><td>Vienna is the capital of Austria and its average temperature is 52.75956284153006</td></tr><tr><td>Prague is the capital of Czech Republic and its average temperature is 49.08196721311477</td></tr><tr><td>Rome is the capital of Italy and its average temperature is 61.3778082191781</td></tr><tr><td>Bucharest is the capital of Romania and its average temperature is 53.27095890410961</td></tr><tr><td>Bucharest is the capital of Romania and its average temperature is 45.7410447761194</td></tr><tr><td>Tashkent is the capital of Uzbekistan and its average temperature is 59.08273972602739</td></tr><tr><td>Canberra is the capital of Australia and its average temperature is 55.90986301369865</td></tr><tr><td>Zagreb is the capital of Croatia and its average temperature is 52.23835616438351</td></tr><tr><td>Zagreb is the capital of Croatia and its average temperature is 55.572054794520554</td></tr><tr><td>Copenhagen is the capital of Denmark and its average temperature is 47.066939890710415</td></tr><tr><td>Bucharest is the capital of Romania and its average temperature is 52.78547945205481</td></tr><tr><td>Canberra is the capital of Australia and its average temperature is 55.98465753424661</td></tr><tr><td>Tirana is the capital of Albania and its average temperature is 60.413150684931466</td></tr><tr><td>Brussels is the capital of Belgium and its average temperature is 52.140273972602735</td></tr><tr><td>Brussels is the capital of Belgium and its average temperature is 51.39095890410961</td></tr><tr><td>Prague is the capital of Czech Republic and its average temperature is 48.05013698630136</td></tr><tr><td>Warsaw is the capital of Poland and its average temperature is 42.59776119402985</td></tr><tr><td>Tashkent is the capital of Uzbekistan and its average temperature is 61.3172602739726</td></tr><tr><td>Rome is the capital of Italy and its average temperature is 60.301366120218574</td></tr><tr><td>Rome is the capital of Italy and its average temperature is 61.185245901639334</td></tr><tr><td>Lisbon is the capital of Portugal and its average temperature is 60.55287671232883</td></tr><tr><td>Lisbon is the capital of Portugal and its average temperature is 63.052328767123285</td></tr><tr><td>Bratislava is the capital of Slovakia and its average temperature is 50.69424657534244</td></tr><tr><td>Seoul is the capital of South Korea and its average temperature is 53.1079452054794</td></tr><tr><td>Tirana is the capital of Albania and its average temperature is 60.89013698630136</td></tr><tr><td>Moscow is the capital of Russia and its average temperature is 42.09369863013696</td></tr><tr><td>Manila is the capital of Philippines and its average temperature is 81.82931506849319</td></tr><tr><td>Riga is the capital of Latvia and its average temperature is 45.1082191780822</td></tr><tr><td>Manila is the capital of Philippines and its average temperature is 82.05765027322398</td></tr><tr><td>Tirana is the capital of Albania and its average temperature is 60.09016393442632</td></tr><tr><td>Nicosia is the capital of Cyprus and its average temperature is 66.42958904109585</td></tr><tr><td>Lisbon is the capital of Portugal and its average temperature is 62.21917808219184</td></tr><tr><td>Bratislava is the capital of Slovakia and its average temperature is 51.80767123287674</td></tr><tr><td>Tirana is the capital of Albania and its average temperature is 10.75041095890412</td></tr><tr><td>Helsinki is the capital of Finland and its average temperature is 41.710655737704904</td></tr><tr><td>Riga is the capital of Latvia and its average temperature is 45.72732240437155</td></tr><tr><td>Riga is the capital of Latvia and its average temperature is 45.16054794520549</td></tr><tr><td>Islamabad is the capital of Pakistan and its average temperature is 72.28770491803276</td></tr><tr><td>Manila is the capital of Philippines and its average temperature is 81.32794520547945</td></tr><tr><td>Singapore is the capital of Singapore and its average temperature is 80.32438356164383</td></tr><tr><td>Hanoi is the capital of Vietnam and its average temperature is 70.75074626865674</td></tr><tr><td>Manila is the capital of Philippines and its average temperature is 83.81567164179106</td></tr><tr><td>Tbilisi is the capital of Georgia and its average temperature is 55.818356164383566</td></tr><tr><td>Sofia is the capital of Bulgaria and its average temperature is 52.65397260273972</td></tr><tr><td>Zagreb is the capital of Croatia and its average temperature is 54.45945205479454</td></tr><tr><td>Rome is the capital of Italy and its average temperature is 59.00958904109588</td></tr><tr><td>Skopje is the capital of Macedonia and its average temperature is 53.228415300546445</td></tr><tr><td>Seoul is the capital of South Korea and its average temperature is 43.53805970149256</td></tr><tr><td>Sofia is the capital of Bulgaria and its average temperature is 53.48493150684929</td></tr><tr><td>Nicosia is the capital of Cyprus and its average temperature is 67.96958904109584</td></tr><tr><td>Nicosia is the capital of Cyprus and its average temperature is 18.527049180327854</td></tr><tr><td>Lisbon is the capital of Portugal and its average temperature is 62.83068493150683</td></tr><tr><td>Minsk is the capital of Belarus and its average temperature is 44.88657534246575</td></tr><tr><td>Skopje is the capital of Macedonia and its average temperature is 54.86904109589045</td></tr><tr><td>Islamabad is the capital of Pakistan and its average temperature is 72.41666666666667</td></tr><tr><td>Seoul is the capital of South Korea and its average temperature is 53.10218579234973</td></tr><tr><td>Bangkok is the capital of Thailand and its average temperature is 79.70710382513666</td></tr><tr><td>Minsk is the capital of Belarus and its average temperature is 45.14493150684931</td></tr><tr><td>Minsk is the capital of Belarus and its average temperature is 47.444808743169396</td></tr><tr><td>Sofia is the capital of Bulgaria and its average temperature is 48.79643835616437</td></tr><tr><td>Lisbon is the capital of Portugal and its average temperature is 63.633698630136976</td></tr><tr><td>Hanoi is the capital of Vietnam and its average temperature is 75.8783561643835</td></tr><tr><td>Hanoi is the capital of Vietnam and its average temperature is 74.40657534246577</td></tr><tr><td>Islamabad is the capital of Pakistan and its average temperature is -21.031232876712334</td></tr><tr><td>Minsk is the capital of Belarus and its average temperature is 15.344109589041109</td></tr><tr><td>Skopje is the capital of Macedonia and its average temperature is 54.31506849315065</td></tr><tr><td>Brussels is the capital of Belgium and its average temperature is 50.675068493150675</td></tr><tr><td>Prague is the capital of Czech Republic and its average temperature is 47.35424657534247</td></tr><tr><td>Warsaw is the capital of Poland and its average temperature is 47.6601092896175</td></tr><tr><td>Moscow is the capital of Russia and its average temperature is 41.36821917808219</td></tr><tr><td>Tashkent is the capital of Uzbekistan and its average temperature is 62.28465753424662</td></tr><tr><td>Brussels is the capital of Belgium and its average temperature is 49.85534246575341</td></tr><tr><td>Manila is the capital of Philippines and its average temperature is 79.57287671232876</td></tr><tr><td>Helsinki is the capital of Finland and its average temperature is 41.65917808219178</td></tr><tr><td>Athens is the capital of Greece and its average temperature is 65.80218579234972</td></tr><tr><td>Bratislava is the capital of Slovakia and its average temperature is 50.97459016393443</td></tr><tr><td>Hanoi is the capital of Vietnam and its average temperature is 74.33890410958904</td></tr><tr><td>Islamabad is the capital of Pakistan and its average temperature is 64.16136986301379</td></tr><tr><td>Vienna is the capital of Austria and its average temperature is 50.302191780821964</td></tr><tr><td>Tbilisi is the capital of Georgia and its average temperature is -55.93388888888888</td></tr><tr><td>Hanoi is the capital of Vietnam and its average temperature is 74.37814207650271</td></tr><tr><td>Canberra is the capital of Australia and its average temperature is 54.41885245901637</td></tr><tr><td>Moscow is the capital of Russia and its average temperature is 40.98301369863015</td></tr><tr><td>Canberra is the capital of Australia and its average temperature is 55.107945205479425</td></tr><tr><td>Canberra is the capital of Australia and its average temperature is 56.023287671232865</td></tr><tr><td>Helsinki is the capital of Finland and its average temperature is 42.68356164383561</td></tr><tr><td>Budapest is the capital of Hungary and its average temperature is 52.22164383561643</td></tr><tr><td>Budapest is the capital of Hungary and its average temperature is 43.4082089552239</td></tr><tr><td>Dublin is the capital of Ireland and its average temperature is 49.004644808743144</td></tr><tr><td>Brussels is the capital of Belgium and its average temperature is 51.62978142076503</td></tr><tr><td>Helsinki is the capital of Finland and its average temperature is 41.353278688524625</td></tr><tr><td>Paris is the capital of France and its average temperature is 52.20821917808223</td></tr><tr><td>Athens is the capital of Greece and its average temperature is 63.395890410958934</td></tr><tr><td>Athens is the capital of Greece and its average temperature is 64.65491803278688</td></tr><tr><td>Budapest is the capital of Hungary and its average temperature is 51.44027397260275</td></tr><tr><td>Nicosia is the capital of Cyprus and its average temperature is 28.196712328767138</td></tr><tr><td>Helsinki is the capital of Finland and its average temperature is 43.63972602739723</td></tr><tr><td>Lisbon is the capital of Portugal and its average temperature is 60.51232876712328</td></tr><tr><td>Dublin is the capital of Ireland and its average temperature is 50.20904109589038</td></tr><tr><td>Riga is the capital of Latvia and its average temperature is 45.147397260274</td></tr><tr><td>Lisbon is the capital of Portugal and its average temperature is 62.293424657534246</td></tr><tr><td>Islamabad is the capital of Pakistan and its average temperature is 71.2038356164384</td></tr><tr><td>Singapore is the capital of Singapore and its average temperature is 80.6153424657535</td></tr><tr><td>Vienna is the capital of Austria and its average temperature is 51.23534246575341</td></tr><tr><td>Zagreb is the capital of Croatia and its average temperature is 52.730601092896165</td></tr><tr><td>Tashkent is the capital of Uzbekistan and its average temperature is 59.10986301369866</td></tr><tr><td>Brussels is the capital of Belgium and its average temperature is 49.9155737704918</td></tr><tr><td>Rome is the capital of Italy and its average temperature is 60.82136986301364</td></tr><tr><td>Bucharest is the capital of Romania and its average temperature is 52.03041095890415</td></tr><tr><td>Canberra is the capital of Australia and its average temperature is 55.79616438356163</td></tr><tr><td>Tirana is the capital of Albania and its average temperature is 59.91863013698633</td></tr><tr><td>Minsk is the capital of Belarus and its average temperature is 44.822950819672144</td></tr><tr><td>Moscow is the capital of Russia and its average temperature is 43.31835616438356</td></tr><tr><td>Tashkent is the capital of Uzbekistan and its average temperature is 59.355068493150654</td></tr><tr><td>Warsaw is the capital of Poland and its average temperature is 46.33561643835618</td></tr><tr><td>Tirana is the capital of Albania and its average temperature is 58.98688524590167</td></tr><tr><td>Budapest is the capital of Hungary and its average temperature is 51.13232876712327</td></tr><tr><td>Islamabad is the capital of Pakistan and its average temperature is 71.14575342465758</td></tr><tr><td>Hanoi is the capital of Vietnam and its average temperature is 73.64262295081969</td></tr><tr><td>Manila is the capital of Philippines and its average temperature is 81.9043715846994</td></tr><tr><td>Tashkent is the capital of Uzbekistan and its average temperature is 60.4649315068493</td></tr><tr><td>Tirana is the capital of Albania and its average temperature is 60.21561643835616</td></tr><tr><td>Paris is the capital of France and its average temperature is 54.33770491803271</td></tr><tr><td>Athens is the capital of Greece and its average temperature is 64.99808743169399</td></tr><tr><td>Manila is the capital of Philippines and its average temperature is 82.26301369863006</td></tr><tr><td>Bangkok is the capital of Thailand and its average temperature is 82.70739726027395</td></tr><tr><td>Tashkent is the capital of Uzbekistan and its average temperature is 60.38661202185796</td></tr><tr><td>Vienna is the capital of Austria and its average temperature is 51.42630136986303</td></tr><tr><td>Sofia is the capital of Bulgaria and its average temperature is 50.17205479452053</td></tr><tr><td>Zagreb is the capital of Croatia and its average temperature is 54.37786885245895</td></tr><tr><td>Riga is the capital of Latvia and its average temperature is 42.66</td></tr><tr><td>Warsaw is the capital of Poland and its average temperature is 47.0682191780822</td></tr><tr><td>Singapore is the capital of Singapore and its average temperature is 81.57404371584707</td></tr><tr><td>Tashkent is the capital of Uzbekistan and its average temperature is 61.55726027397264</td></tr><tr><td>Zagreb is the capital of Croatia and its average temperature is 53.21671232876718</td></tr><tr><td>Zagreb is the capital of Croatia and its average temperature is 47.549624060150386</td></tr><tr><td>Budapest is the capital of Hungary and its average temperature is 48.69672131147543</td></tr><tr><td>Warsaw is the capital of Poland and its average temperature is 47.43780821917806</td></tr><tr><td>Singapore is the capital of Singapore and its average temperature is 82.23989071038253</td></tr><tr><td>Bangkok is the capital of Thailand and its average temperature is 84.49232876712318</td></tr><tr><td>Paris is the capital of France and its average temperature is 53.43497267759561</td></tr><tr><td>Budapest is the capital of Hungary and its average temperature is 53.127049180327866</td></tr><tr><td>Riga is the capital of Latvia and its average temperature is 45.66986301369866</td></tr><tr><td>Warsaw is the capital of Poland and its average temperature is 50.17622950819669</td></tr><tr><td>Moscow is the capital of Russia and its average temperature is 42.826301369863</td></tr><tr><td>Minsk is the capital of Belarus and its average temperature is 46.17513661202185</td></tr><tr><td>Budapest is the capital of Hungary and its average temperature is 52.08410958904109</td></tr><tr><td>Tashkent is the capital of Uzbekistan and its average temperature is 60.7260273972603</td></tr><tr><td>Dublin is the capital of Ireland and its average temperature is 48.41120218579234</td></tr><tr><td>Bucharest is the capital of Romania and its average temperature is 52.44986301369866</td></tr><tr><td>Manila is the capital of Philippines and its average temperature is 81.17041095890406</td></tr><tr><td>Brussels is the capital of Belgium and its average temperature is 52.32383561643834</td></tr><tr><td>Paris is the capital of France and its average temperature is 53.94493150684927</td></tr><tr><td>Budapest is the capital of Hungary and its average temperature is 52.86904109589036</td></tr><tr><td>Hanoi is the capital of Vietnam and its average temperature is 75.97945205479446</td></tr><tr><td>Minsk is the capital of Belarus and its average temperature is 44.60410958904108</td></tr><tr><td>Prague is the capital of Czech Republic and its average temperature is 46.99369863013692</td></tr><tr><td>Singapore is the capital of Singapore and its average temperature is 81.98821917808219</td></tr><tr><td>Prague is the capital of Czech Republic and its average temperature is 47.93561643835614</td></tr><tr><td>Copenhagen is the capital of Denmark and its average temperature is 48.22684931506845</td></tr><tr><td>Paris is the capital of France and its average temperature is 53.256557377049155</td></tr><tr><td>Dublin is the capital of Ireland and its average temperature is 49.83945205479451</td></tr><tr><td>Bangkok is the capital of Thailand and its average temperature is 84.70273224043717</td></tr><tr><td>Vienna is the capital of Austria and its average temperature is 49.25068493150686</td></tr><tr><td>Dublin is the capital of Ireland and its average temperature is 44.664179104477604</td></tr><tr><td>Singapore is the capital of Singapore and its average temperature is 81.58027397260271</td></tr><tr><td>Paris is the capital of France and its average temperature is 51.64821917808218</td></tr><tr><td>Riga is the capital of Latvia and its average temperature is 45.17295081967211</td></tr><tr><td>Skopje is the capital of Macedonia and its average temperature is 54.41178082191789</td></tr><tr><td>Canberra is the capital of Australia and its average temperature is 57.12246575342469</td></tr><tr><td>Singapore is the capital of Singapore and its average temperature is 81.30300546448089</td></tr><tr><td>Seoul is the capital of South Korea and its average temperature is 54.021917808219214</td></tr><tr><td>Minsk is the capital of Belarus and its average temperature is 46.51178082191784</td></tr><tr><td>Brussels is the capital of Belgium and its average temperature is 50.01342465753426</td></tr><tr><td>Moscow is the capital of Russia and its average temperature is 42.130958904109576</td></tr><tr><td>Tbilisi is the capital of Georgia and its average temperature is 51.16767123287672</td></tr><tr><td>Warsaw is the capital of Poland and its average temperature is 49.36575342465753</td></tr><tr><td>Minsk is the capital of Belarus and its average temperature is 45.16767123287672</td></tr><tr><td>Prague is the capital of Czech Republic and its average temperature is 46.970136986301355</td></tr><tr><td>Dublin is the capital of Ireland and its average temperature is 48.324931506849325</td></tr><tr><td>Sofia is the capital of Bulgaria and its average temperature is 50.53961748633877</td></tr><tr><td>Zagreb is the capital of Croatia and its average temperature is 54.16164383561641</td></tr><tr><td>Warsaw is the capital of Poland and its average temperature is 49.12</td></tr><tr><td>Moscow is the capital of Russia and its average temperature is 42.58852459016393</td></tr><tr><td>Hanoi is the capital of Vietnam and its average temperature is 76.18383561643842</td></tr><tr><td>Copenhagen is the capital of Denmark and its average temperature is 46.4803278688525</td></tr><tr><td>Athens is the capital of Greece and its average temperature is 66.22191780821923</td></tr><tr><td>Rome is the capital of Italy and its average temperature is 58.55150684931504</td></tr><tr><td>Riga is the capital of Latvia and its average temperature is 45.69178082191779</td></tr><tr><td>Riga is the capital of Latvia and its average temperature is 45.48109589041091</td></tr><tr><td>Oslo is the capital of Norway and its average temperature is 37.09999999999997</td></tr><tr><td>Singapore is the capital of Singapore and its average temperature is 81.75369863013697</td></tr><tr><td>Tirana is the capital of Albania and its average temperature is 61.87232876712332</td></tr><tr><td>Vienna is the capital of Austria and its average temperature is 52.59260273972602</td></tr><tr><td>Nicosia is the capital of Cyprus and its average temperature is 11.40683060109287</td></tr><tr><td>Prague is the capital of Czech Republic and its average temperature is 49.4019178082192</td></tr><tr><td>Rome is the capital of Italy and its average temperature is 59.215068493150675</td></tr><tr><td>Oslo is the capital of Norway and its average temperature is 41.80301369863012</td></tr><tr><td>Tashkent is the capital of Uzbekistan and its average temperature is 61.095342465753426</td></tr><tr><td>Riga is the capital of Latvia and its average temperature is 45.46931506849313</td></tr><tr><td>Skopje is the capital of Macedonia and its average temperature is 52.05835616438356</td></tr><tr><td>Oslo is the capital of Norway and its average temperature is 41.73342465753427</td></tr><tr><td>Manila is the capital of Philippines and its average temperature is 80.48164383561645</td></tr><tr><td>Bangkok is the capital of Thailand and its average temperature is 85.13972602739727</td></tr><tr><td>Copenhagen is the capital of Denmark and its average temperature is 46.90164383561643</td></tr><tr><td>Oslo is the capital of Norway and its average temperature is 39.71616438356164</td></tr><tr><td>Moscow is the capital of Russia and its average temperature is 43.459452054794546</td></tr><tr><td>Seoul is the capital of South Korea and its average temperature is 54.16904109589037</td></tr><tr><td>Tashkent is the capital of Uzbekistan and its average temperature is 60.76410958904115</td></tr><tr><td>Skopje is the capital of Macedonia and its average temperature is 55.56575342465754</td></tr><tr><td>Lisbon is the capital of Portugal and its average temperature is 61.34054794520546</td></tr><tr><td>Zagreb is the capital of Croatia and its average temperature is 55.79561643835618</td></tr><tr><td>Copenhagen is the capital of Denmark and its average temperature is 47.11150684931507</td></tr><tr><td>Copenhagen is the capital of Denmark and its average temperature is 47.11232876712333</td></tr><tr><td>Budapest is the capital of Hungary and its average temperature is 52.56174863387979</td></tr><tr><td>Rome is the capital of Italy and its average temperature is 61.882465753424654</td></tr><tr><td>Copenhagen is the capital of Denmark and its average temperature is 47.833150684931525</td></tr><tr><td>Moscow is the capital of Russia and its average temperature is 43.42219178082191</td></tr><tr><td>Islamabad is the capital of Pakistan and its average temperature is 71.08931506849315</td></tr><tr><td>Manila is the capital of Philippines and its average temperature is 83.10246575342462</td></tr><tr><td>Seoul is the capital of South Korea and its average temperature is 52.02684931506849</td></tr><tr><td>Bangkok is the capital of Thailand and its average temperature is 81.58815789473684</td></tr><tr><td>Moscow is the capital of Russia and its average temperature is 41.48934426229506</td></tr><tr><td>Tashkent is the capital of Uzbekistan and its average temperature is 60.44617486338802</td></tr><tr><td>Minsk is the capital of Belarus and its average temperature is 45.111748633879756</td></tr><tr><td>Helsinki is the capital of Finland and its average temperature is 43.711780821917806</td></tr><tr><td>Islamabad is the capital of Pakistan and its average temperature is 70.02575342465755</td></tr><tr><td>Brussels is the capital of Belgium and its average temperature is 52.132328767123305</td></tr><tr><td>Zagreb is the capital of Croatia and its average temperature is 53.04726775956282</td></tr><tr><td>Sofia is the capital of Bulgaria and its average temperature is 53.203551912568265</td></tr><tr><td>Brussels is the capital of Belgium and its average temperature is 52.05589041095888</td></tr><tr><td>Sofia is the capital of Bulgaria and its average temperature is 52.537431693989085</td></tr><tr><td>Nicosia is the capital of Cyprus and its average temperature is -86.94684931506849</td></tr><tr><td>Prague is the capital of Czech Republic and its average temperature is 48.665753424657524</td></tr><tr><td>Rome is the capital of Italy and its average temperature is 60.90219178082182</td></tr><tr><td>Warsaw is the capital of Poland and its average temperature is 47.60136986301368</td></tr><tr><td>Islamabad is the capital of Pakistan and its average temperature is 71.36438356164382</td></tr><tr><td>Singapore is the capital of Singapore and its average temperature is 83.0589552238806</td></tr><tr><td>Seoul is the capital of South Korea and its average temperature is 52.625205479452084</td></tr><tr><td>Tashkent is the capital of Uzbekistan and its average temperature is 58.93825136612021</td></tr><tr><td>Sofia is the capital of Bulgaria and its average temperature is 52.71917808219179</td></tr><tr><td>Brussels is the capital of Belgium and its average temperature is 51.06994535519125</td></tr><tr><td>Moscow is the capital of Russia and its average temperature is 41.583060109289605</td></tr><tr><td>Riga is the capital of Latvia and its average temperature is 45.67205479452051</td></tr><tr><td>Lisbon is the capital of Portugal and its average temperature is 62.213934426229464</td></tr><tr><td>Bucharest is the capital of Romania and its average temperature is 53.04383561643838</td></tr><tr><td>Riga is the capital of Latvia and its average temperature is 46.08606557377049</td></tr><tr><td>Oslo is the capital of Norway and its average temperature is 42.47315068493148</td></tr><tr><td>Warsaw is the capital of Poland and its average temperature is 48.90136612021858</td></tr><tr><td>Dublin is the capital of Ireland and its average temperature is 49.204109589041146</td></tr><tr><td>Skopje is the capital of Macedonia and its average temperature is 55.26383561643837</td></tr><tr><td>Seoul is the capital of South Korea and its average temperature is 53.238356164383525</td></tr><tr><td>Hanoi is the capital of Vietnam and its average temperature is 75.24426229508201</td></tr><tr><td>Vienna is the capital of Austria and its average temperature is 50.82301369863017</td></tr><tr><td>Dublin is the capital of Ireland and its average temperature is 49.88196721311479</td></tr><tr><td>Dublin is the capital of Ireland and its average temperature is 47.38602739726026</td></tr><tr><td>Bucharest is the capital of Romania and its average temperature is 53.39972602739727</td></tr><tr><td>Tashkent is the capital of Uzbekistan and its average temperature is 60.59068493150686</td></tr><tr><td>Canberra is the capital of Australia and its average temperature is 55.44945355191257</td></tr><tr><td>Vienna is the capital of Austria and its average temperature is 51.49506849315072</td></tr><tr><td>Helsinki is the capital of Finland and its average temperature is 42.01205479452054</td></tr><tr><td>Skopje is the capital of Macedonia and its average temperature is 53.416164383561586</td></tr><tr><td>Lisbon is the capital of Portugal and its average temperature is 63.05835616438352</td></tr><tr><td>Manila is the capital of Philippines and its average temperature is 80.56575342465754</td></tr><tr><td>Brussels is the capital of Belgium and its average temperature is 50.75737704918034</td></tr><tr><td>Copenhagen is the capital of Denmark and its average temperature is 47.11561643835618</td></tr><tr><td>Skopje is the capital of Macedonia and its average temperature is 53.74986301369865</td></tr><tr><td>Hanoi is the capital of Vietnam and its average temperature is 74.75519125683067</td></tr><tr><td>Riga is the capital of Latvia and its average temperature is 47.236338797814206</td></tr><tr><td>Riga is the capital of Latvia and its average temperature is 45.11150684931506</td></tr><tr><td>Riga is the capital of Latvia and its average temperature is 44.94547945205482</td></tr><tr><td>Oslo is the capital of Norway and its average temperature is 41.874520547945195</td></tr><tr><td>Islamabad is the capital of Pakistan and its average temperature is 72.78849315068486</td></tr><tr><td>Tashkent is the capital of Uzbekistan and its average temperature is 61.92950819672129</td></tr><tr><td>Moscow is the capital of Russia and its average temperature is 36.78283582089553</td></tr><tr><td>Bratislava is the capital of Slovakia and its average temperature is 51.43643835616442</td></tr><tr><td>Islamabad is the capital of Pakistan and its average temperature is 72.48520547945206</td></tr><tr><td>Tashkent is the capital of Uzbekistan and its average temperature is 59.783879781420836</td></tr><tr><td>Minsk is the capital of Belarus and its average temperature is 45.9564383561644</td></tr><tr><td>Copenhagen is the capital of Denmark and its average temperature is 46.36273972602738</td></tr><tr><td>Bucharest is the capital of Romania and its average temperature is 51.490958904109604</td></tr><tr><td>Singapore is the capital of Singapore and its average temperature is 81.92273972602752</td></tr><tr><td>Hanoi is the capital of Vietnam and its average temperature is 74.3054794520548</td></tr><tr><td>Canberra is the capital of Australia and its average temperature is 54.83863013698636</td></tr><tr><td>Athens is the capital of Greece and its average temperature is 64.27342465753425</td></tr><tr><td>Moscow is the capital of Russia and its average temperature is 41.6275956284153</td></tr><tr><td>Islamabad is the capital of Pakistan and its average temperature is 43.55491803278686</td></tr><tr><td>Helsinki is the capital of Finland and its average temperature is 36.508955223880605</td></tr><tr><td>Dublin is the capital of Ireland and its average temperature is 48.77322404371586</td></tr><tr><td>Rome is the capital of Italy and its average temperature is 61.05999999999997</td></tr><tr><td>Skopje is the capital of Macedonia and its average temperature is 54.24739726027397</td></tr><tr><td>Manila is the capital of Philippines and its average temperature is 82.17479452054793</td></tr><tr><td>Sofia is the capital of Bulgaria and its average temperature is 51.72759562841535</td></tr><tr><td>Lisbon is the capital of Portugal and its average temperature is 63.18027397260279</td></tr><tr><td>Lisbon is the capital of Portugal and its average temperature is 55.2902985074627</td></tr><tr><td>Bucharest is the capital of Romania and its average temperature is 54.30273972602739</td></tr><tr><td>Manila is the capital of Philippines and its average temperature is 80.46530054644809</td></tr><tr><td>Singapore is the capital of Singapore and its average temperature is 81.70792349726776</td></tr><tr><td>Rome is the capital of Italy and its average temperature is 60.395890410958906</td></tr><tr><td>Rome is the capital of Italy and its average temperature is 60.57213114754101</td></tr><tr><td>Bratislava is the capital of Slovakia and its average temperature is 51.12</td></tr><tr><td>Seoul is the capital of South Korea and its average temperature is 52.293698630136966</td></tr><tr><td>Rome is the capital of Italy and its average temperature is 59.942896174863485</td></tr><tr><td>Paris is the capital of France and its average temperature is 54.36794520547941</td></tr><tr><td>Oslo is the capital of Norway and its average temperature is 43.43239831697054</td></tr><tr><td>Singapore is the capital of Singapore and its average temperature is 81.98032786885247</td></tr><tr><td>Prague is the capital of Czech Republic and its average temperature is 48.32240437158474</td></tr><tr><td>Tirana is the capital of Albania and its average temperature is 59.790710382513666</td></tr><tr><td>Helsinki is the capital of Finland and its average temperature is 41.38876712328768</td></tr><tr><td>Helsinki is the capital of Finland and its average temperature is 41.507650273224066</td></tr><tr><td>Dublin is the capital of Ireland and its average temperature is 49.970684931506845</td></tr><tr><td>Islamabad is the capital of Pakistan and its average temperature is 70.81232876712333</td></tr><tr><td>Copenhagen is the capital of Denmark and its average temperature is 44.386575342465754</td></tr><tr><td>Tirana is the capital of Albania and its average temperature is 51.1597014925373</td></tr><tr><td>Nicosia is the capital of Cyprus and its average temperature is -97.90058139534885</td></tr><tr><td>Skopje is the capital of Macedonia and its average temperature is 54.46857923497271</td></tr><tr><td>Seoul is the capital of South Korea and its average temperature is 53.08575342465748</td></tr><tr><td>Athens is the capital of Greece and its average temperature is 63.9602739726027</td></tr><tr><td>Bucharest is the capital of Romania and its average temperature is 51.918032786885306</td></tr><tr><td>Canberra is the capital of Australia and its average temperature is 56.650958904109544</td></tr><tr><td>Sofia is the capital of Bulgaria and its average temperature is 50.724109589041085</td></tr><tr><td>Helsinki is the capital of Finland and its average temperature is 40.78164383561643</td></tr><tr><td>Skopje is the capital of Macedonia and its average temperature is 55.22301369863019</td></tr><tr><td>Oslo is the capital of Norway and its average temperature is 40.435616438356156</td></tr><tr><td>Budapest is the capital of Hungary and its average temperature is 53.27315068493153</td></tr><tr><td>Minsk is the capital of Belarus and its average temperature is 44.93890410958903</td></tr><tr><td>Budapest is the capital of Hungary and its average temperature is 52.225683060109276</td></tr><tr><td>Moscow is the capital of Russia and its average temperature is 43.32602739726026</td></tr><tr><td>Moscow is the capital of Russia and its average temperature is 41.14219178082195</td></tr><tr><td>Zagreb is the capital of Croatia and its average temperature is 55.56366120218577</td></tr><tr><td>Athens is the capital of Greece and its average temperature is 66.14054794520544</td></tr><tr><td>Warsaw is the capital of Poland and its average temperature is 49.37295081967212</td></tr><tr><td>Moscow is the capital of Russia and its average temperature is 43.50493150684934</td></tr><tr><td>Tirana is the capital of Albania and its average temperature is 60.38465753424662</td></tr><tr><td>Lisbon is the capital of Portugal and its average temperature is 62.27650273224043</td></tr><tr><td>Sofia is the capital of Bulgaria and its average temperature is 50.73369863013699</td></tr><tr><td>Helsinki is the capital of Finland and its average temperature is 43.187397260274</td></tr><tr><td>Tirana is the capital of Albania and its average temperature is 59.467123287671185</td></tr><tr><td>Copenhagen is the capital of Denmark and its average temperature is 42.32761194029851</td></tr><tr><td>Bucharest is the capital of Romania and its average temperature is 53.59835616438359</td></tr><tr><td>Hanoi is the capital of Vietnam and its average temperature is 75.84904109589034</td></tr><tr><td>Canberra is the capital of Australia and its average temperature is 63.372388059701514</td></tr><tr><td>Tbilisi is the capital of Georgia and its average temperature is 55.84465753424652</td></tr><tr><td>Rome is the capital of Italy and its average temperature is 61.075136612021915</td></tr><tr><td>Islamabad is the capital of Pakistan and its average temperature is 70.75546448087434</td></tr><tr><td>Bucharest is the capital of Romania and its average temperature is 51.52630136986301</td></tr><tr><td>Canberra is the capital of Australia and its average temperature is 57.22602739726028</td></tr><tr><td>Tirana is the capital of Albania and its average temperature is 58.56904109589039</td></tr><tr><td>Sofia is the capital of Bulgaria and its average temperature is 53.12602739726023</td></tr><tr><td>Warsaw is the capital of Poland and its average temperature is 48.01205479452053</td></tr><tr><td>Singapore is the capital of Singapore and its average temperature is 80.34821917808218</td></tr><tr><td>Sofia is the capital of Bulgaria and its average temperature is 51.70765027322405</td></tr><tr><td>Zagreb is the capital of Croatia and its average temperature is 54.00000000000003</td></tr><tr><td>Oslo is the capital of Norway and its average temperature is 43.17397260273973</td></tr><tr><td>Moscow is the capital of Russia and its average temperature is 40.29041095890409</td></tr><tr><td>Singapore is the capital of Singapore and its average temperature is 82.51369863013694</td></tr><tr><td>Vienna is the capital of Austria and its average temperature is 50.21561643835616</td></tr><tr><td>Brussels is the capital of Belgium and its average temperature is 51.58739726027402</td></tr><tr><td>Riga is the capital of Latvia and its average temperature is 44.59535519125679</td></tr><tr><td>Bucharest is the capital of Romania and its average temperature is 52.81123287671232</td></tr><tr><td>Hanoi is the capital of Vietnam and its average temperature is 75.07589041095896</td></tr><tr><td>Prague is the capital of Czech Republic and its average temperature is 49.36356164383561</td></tr><tr><td>Skopje is the capital of Macedonia and its average temperature is 54.07978142076503</td></tr><tr><td>Hanoi is the capital of Vietnam and its average temperature is 74.33342465753418</td></tr><tr><td>Tirana is the capital of Albania and its average temperature is 54.7579234972678</td></tr><tr><td>Seoul is the capital of South Korea and its average temperature is 54.34480874316938</td></tr><tr><td>Seoul is the capital of South Korea and its average temperature is 53.777049180327936</td></tr><tr><td>Copenhagen is the capital of Denmark and its average temperature is 47.742739726027395</td></tr><tr><td>Bratislava is the capital of Slovakia and its average temperature is 53.20191256830598</td></tr><tr><td>Tirana is the capital of Albania and its average temperature is 59.88442622950815</td></tr><tr><td>Hanoi is the capital of Vietnam and its average temperature is 73.28005464480874</td></tr><tr><td>Tirana is the capital of Albania and its average temperature is 61.0852459016393</td></tr><tr><td>Budapest is the capital of Hungary and its average temperature is 52.36054794520547</td></tr><tr><td>Vienna is the capital of Austria and its average temperature is 52.533150684931506</td></tr><tr><td>Manila is the capital of Philippines and its average temperature is 82.02021857923489</td></tr><tr><td>Sofia is the capital of Bulgaria and its average temperature is 52.239452054794555</td></tr><tr><td>Nicosia is the capital of Cyprus and its average temperature is 63.99452054794519</td></tr><tr><td>Helsinki is the capital of Finland and its average temperature is 43.189589041095886</td></tr><tr><td>Canberra is the capital of Australia and its average temperature is 57.30794520547943</td></tr><tr><td>Copenhagen is the capital of Denmark and its average temperature is 48.188767123287654</td></tr><tr><td>Vienna is the capital of Austria and its average temperature is 52.35150684931506</td></tr><tr><td>Warsaw is the capital of Poland and its average temperature is 47.23825136612019</td></tr><tr><td>Seoul is the capital of South Korea and its average temperature is 53.14328767123286</td></tr><tr><td>Tashkent is the capital of Uzbekistan and its average temperature is 61.28410958904114</td></tr><tr><td>Zagreb is the capital of Croatia and its average temperature is 52.39041095890409</td></tr><tr><td>Prague is the capital of Czech Republic and its average temperature is 42.094029850746274</td></tr><tr><td>Paris is the capital of France and its average temperature is 51.122950819672184</td></tr><tr><td>Dublin is the capital of Ireland and its average temperature is 48.69315068493149</td></tr><tr><td>Skopje is the capital of Macedonia and its average temperature is 54.23753424657536</td></tr><tr><td>Manila is the capital of Philippines and its average temperature is 81.57479452054797</td></tr><tr><td>Tirana is the capital of Albania and its average temperature is 59.88931506849319</td></tr><tr><td>Minsk is the capital of Belarus and its average temperature is 32.97753424657535</td></tr><tr><td>Zagreb is the capital of Croatia and its average temperature is 54.22054794520546</td></tr><tr><td>Vienna is the capital of Austria and its average temperature is 44.924626865671655</td></tr><tr><td>Brussels is the capital of Belgium and its average temperature is 51.73095890410962</td></tr><tr><td>Rome is the capital of Italy and its average temperature is 61.091506849315024</td></tr><tr><td>Skopje is the capital of Macedonia and its average temperature is 54.202191780821934</td></tr><tr><td>Paris is the capital of France and its average temperature is 53.57205479452048</td></tr><tr><td>Oslo is the capital of Norway and its average temperature is 42.87999999999999</td></tr><tr><td>Oslo is the capital of Norway and its average temperature is 39.80958904109592</td></tr><tr><td>Warsaw is the capital of Poland and its average temperature is 47.099178082191784</td></tr><tr><td>Nicosia is the capital of Cyprus and its average temperature is 31.49754098360656</td></tr><tr><td>Budapest is the capital of Hungary and its average temperature is 52.29726027397263</td></tr><tr><td>Manila is the capital of Philippines and its average temperature is 82.40983606557384</td></tr><tr><td>Hanoi is the capital of Vietnam and its average temperature is 76.20794520547946</td></tr><tr><td>Prague is the capital of Czech Republic and its average temperature is 49.546721311475416</td></tr><tr><td>Paris is the capital of France and its average temperature is 53.65041095890415</td></tr><tr><td>Singapore is the capital of Singapore and its average temperature is 81.06803278688527</td></tr><tr><td>Tashkent is the capital of Uzbekistan and its average temperature is 60.16767123287672</td></tr><tr><td>Brussels is the capital of Belgium and its average temperature is 51.101366120218614</td></tr><tr><td>Helsinki is the capital of Finland and its average temperature is 42.44684931506848</td></tr><tr><td>Dublin is the capital of Ireland and its average temperature is 48.91369863013695</td></tr><tr><td>Bucharest is the capital of Romania and its average temperature is 52.98794520547949</td></tr><tr><td>Islamabad is the capital of Pakistan and its average temperature is 71.66584699453553</td></tr><tr><td>Islamabad is the capital of Pakistan and its average temperature is 70.98328767123292</td></tr><tr><td>Helsinki is the capital of Finland and its average temperature is 44.211780821917806</td></tr><tr><td>Warsaw is the capital of Poland and its average temperature is 48.23852459016394</td></tr><tr><td>Manila is the capital of Philippines and its average temperature is 82.36082191780815</td></tr><tr><td>Oslo is the capital of Norway and its average temperature is 40.830684931506816</td></tr><tr><td>Copenhagen is the capital of Denmark and its average temperature is 46.79535519125686</td></tr><tr><td>Tbilisi is the capital of Georgia and its average temperature is 56.671311475409816</td></tr><tr><td>Athens is the capital of Greece and its average temperature is 67.12876712328763</td></tr><tr><td>Warsaw is the capital of Poland and its average temperature is 49.20657534246575</td></tr><tr><td>Lisbon is the capital of Portugal and its average temperature is 61.88306010928965</td></tr><tr><td>Singapore is the capital of Singapore and its average temperature is 82.0432876712329</td></tr><tr><td>Brussels is the capital of Belgium and its average temperature is 50.849589041095875</td></tr><tr><td>Prague is the capital of Czech Republic and its average temperature is 45.986301369862986</td></tr><tr><td>Paris is the capital of France and its average temperature is 54.19972602739725</td></tr><tr><td>Tirana is the capital of Albania and its average temperature is 41.51287671232874</td></tr><tr><td>Dublin is the capital of Ireland and its average temperature is 50.48904109589042</td></tr><tr><td>Manila is the capital of Philippines and its average temperature is 80.58191780821919</td></tr><tr><td>Brussels is the capital of Belgium and its average temperature is 52.31502732240441</td></tr><tr><td>Zagreb is the capital of Croatia and its average temperature is 55.007923497267775</td></tr><tr><td>Copenhagen is the capital of Denmark and its average temperature is 48.314754098360645</td></tr><tr><td>Bangkok is the capital of Thailand and its average temperature is 84.15232876712318</td></tr><tr><td>Budapest is the capital of Hungary and its average temperature is 52.768306010928974</td></tr><tr><td>Lisbon is the capital of Portugal and its average temperature is 60.611748633879735</td></tr><tr><td>Singapore is the capital of Singapore and its average temperature is 81.88082191780819</td></tr><tr><td>Skopje is the capital of Macedonia and its average temperature is 44.533582089552255</td></tr><tr><td>Paris is the capital of France and its average temperature is 52.08849315068489</td></tr><tr><td>Rome is the capital of Italy and its average temperature is 61.049315068493144</td></tr><tr><td>Singapore is the capital of Singapore and its average temperature is 81.16438356164382</td></tr><tr><td>Sofia is the capital of Bulgaria and its average temperature is 51.37616438356167</td></tr><tr><td>Nicosia is the capital of Cyprus and its average temperature is 66.32821917808215</td></tr><tr><td>Skopje is the capital of Macedonia and its average temperature is 55.32821917808217</td></tr><tr><td>Manila is the capital of Philippines and its average temperature is 81.66202185792353</td></tr><tr><td>Athens is the capital of Greece and its average temperature is 64.91863013698631</td></tr><tr><td>Hanoi is the capital of Vietnam and its average temperature is 73.58739726027397</td></tr><tr><td>Vienna is the capital of Austria and its average temperature is 52.17704918032788</td></tr><tr><td>Moscow is the capital of Russia and its average temperature is 43.39590163934426</td></tr><tr><td>Canberra is the capital of Australia and its average temperature is 56.417534246575364</td></tr><tr><td>Prague is the capital of Czech Republic and its average temperature is 49.51863013698624</td></tr><tr><td>Budapest is the capital of Hungary and its average temperature is 48.35178082191782</td></tr><tr><td>Oslo is the capital of Norway and its average temperature is 40.830601092896174</td></tr><tr><td>Minsk is the capital of Belarus and its average temperature is 46.96120218579237</td></tr><tr><td>Canberra is the capital of Australia and its average temperature is 55.262465753424635</td></tr><tr><td>Dublin is the capital of Ireland and its average temperature is 50.24684931506849</td></tr><tr><td>Skopje is the capital of Macedonia and its average temperature is 55.05081967213109</td></tr><tr><td>Oslo is the capital of Norway and its average temperature is 40.95491803278688</td></tr><tr><td>Bucharest is the capital of Romania and its average temperature is 53.6918032786885</td></tr><tr><td>Hanoi is the capital of Vietnam and its average temperature is 73.87232876712328</td></tr><tr><td>Canberra is the capital of Australia and its average temperature is 56.1983561643836</td></tr><tr><td>Minsk is the capital of Belarus and its average temperature is 24.514393939393926</td></tr><tr><td>Prague is the capital of Czech Republic and its average temperature is 48.11260273972602</td></tr><tr><td>Helsinki is the capital of Finland and its average temperature is 44.62295081967211</td></tr><tr><td>Budapest is the capital of Hungary and its average temperature is 51.323287671232876</td></tr><tr><td>Lisbon is the capital of Portugal and its average temperature is 61.11726027397258</td></tr><tr><td>Canberra is the capital of Australia and its average temperature is 55.479508196721305</td></tr><tr><td>Nicosia is the capital of Cyprus and its average temperature is 67.59890710382518</td></tr><tr><td>Budapest is the capital of Hungary and its average temperature is 50.56229508196717</td></tr><tr><td>Manila is the capital of Philippines and its average temperature is 82.07013698630142</td></tr><tr><td>Singapore is the capital of Singapore and its average temperature is 81.70849315068493</td></tr><tr><td>Singapore is the capital of Singapore and its average temperature is 82.67616438356166</td></tr><tr><td>Copenhagen is the capital of Denmark and its average temperature is 46.6764383561644</td></tr><tr><td>Rome is the capital of Italy and its average temperature is 52.67611940298508</td></tr><tr><td>Islamabad is the capital of Pakistan and its average temperature is 70.62356164383566</td></tr><tr><td>Canberra is the capital of Australia and its average temperature is 56.841530054644856</td></tr><tr><td>Dublin is the capital of Ireland and its average temperature is 49.6386301369863</td></tr><tr><td>Rome is the capital of Italy and its average temperature is 60.57671232876712</td></tr><tr><td>Seoul is the capital of South Korea and its average temperature is 54.84043715846998</td></tr><tr><td>Bangkok is the capital of Thailand and its average temperature is 85.05506849315066</td></tr><tr><td>Vienna is the capital of Austria and its average temperature is 51.817534246575406</td></tr><tr><td>Zagreb is the capital of Croatia and its average temperature is 54.85956284153007</td></tr><tr><td>Bangkok is the capital of Thailand and its average temperature is 82.7156164383562</td></tr><tr><td>Vienna is the capital of Austria and its average temperature is 51.36082191780821</td></tr><tr><td>Vienna is the capital of Austria and its average temperature is 51.911475409836065</td></tr><tr><td>Brussels is the capital of Belgium and its average temperature is 52.709315068493176</td></tr><tr><td>Dublin is the capital of Ireland and its average temperature is 48.94180327868844</td></tr><tr><td>Bucharest is the capital of Romania and its average temperature is 52.033606557377006</td></tr><tr><td>Tirana is the capital of Albania and its average temperature is 59.40109589041092</td></tr><tr><td>Sofia is the capital of Bulgaria and its average temperature is 52.9792349726776</td></tr><tr><td>Paris is the capital of France and its average temperature is 54.56219178082192</td></tr><tr><td>Paris is the capital of France and its average temperature is 53.061095890410954</td></tr><tr><td>Islamabad is the capital of Pakistan and its average temperature is 55.41654135338347</td></tr><tr><td>Vienna is the capital of Austria and its average temperature is 52.63961748633882</td></tr><tr><td>Athens is the capital of Greece and its average temperature is 64.84465753424652</td></tr><tr><td>Riga is the capital of Latvia and its average temperature is 44.24739726027398</td></tr><tr><td>Oslo is the capital of Norway and its average temperature is 42.11994535519124</td></tr><tr><td>Prague is the capital of Czech Republic and its average temperature is 48.335616438356155</td></tr><tr><td>Helsinki is the capital of Finland and its average temperature is 44.13387978142078</td></tr><tr><td>Athens is the capital of Greece and its average temperature is 63.27726027397264</td></tr><tr><td>Rome is the capital of Italy and its average temperature is 60.20819672131149</td></tr><tr><td>Lisbon is the capital of Portugal and its average temperature is 60.799180327868854</td></tr><tr><td>Skopje is the capital of Macedonia and its average temperature is 54.17185792349724</td></tr><tr><td>Islamabad is the capital of Pakistan and its average temperature is 72.0797260273972</td></tr><tr><td>Canberra is the capital of Australia and its average temperature is 55.24289617486339</td></tr><tr><td>Sofia is the capital of Bulgaria and its average temperature is 42.10820895522389</td></tr><tr><td>Moscow is the capital of Russia and its average temperature is 43.86092896174861</td></tr><tr><td>Zagreb is the capital of Croatia and its average temperature is 54.72739726027395</td></tr><tr><td>Zagreb is the capital of Croatia and its average temperature is 54.370136986301326</td></tr><tr><td>Budapest is the capital of Hungary and its average temperature is 51.536164383561626</td></tr><tr><td>Canberra is the capital of Australia and its average temperature is 55.715616438356165</td></tr><tr><td>Seoul is the capital of South Korea and its average temperature is 52.56191780821919</td></tr><tr><td>Sofia is the capital of Bulgaria and its average temperature is 49.13972602739721</td></tr><tr><td>Warsaw is the capital of Poland and its average temperature is 49.650410958904146</td></tr><tr><td>Bucharest is the capital of Romania and its average temperature is 53.35589041095888</td></tr><tr><td>Bratislava is the capital of Slovakia and its average temperature is 52.81775956284158</td></tr><tr><td>Bern is the capital of Switzerland and its average temperature is 48.887978142076534</td></tr><tr><td>Amman is the capital of Jordan and its average temperature is 68.17808219178085</td></tr><tr><td>Bratislava is the capital of Slovakia and its average temperature is 50.053424657534194</td></tr><tr><td>Ankara is the capital of Turkey and its average temperature is 49.66328767123287</td></tr><tr><td>Nassau is the capital of Bahamas and its average temperature is 76.98438356164384</td></tr><tr><td>Nassau is the capital of Bahamas and its average temperature is 76.20986301369854</td></tr><tr><td>Madrid is the capital of Spain and its average temperature is 60.0972602739726</td></tr><tr><td>Bridgetown is the capital of Barbados and its average temperature is 80.4469945355191</td></tr><tr><td>Abu Dhabi is the capital of United Arab Emirates and its average temperature is 83.29289617486346</td></tr><tr><td>La Paz is the capital of Bolivia and its average temperature is 44.65698630136985</td></tr><tr><td>Bridgetown is the capital of Barbados and its average temperature is 80.62931506849316</td></tr><tr><td>Amman is the capital of Jordan and its average temperature is 65.14986301369862</td></tr><tr><td>Beirut is the capital of Lebanon and its average temperature is 68.42438356164384</td></tr><tr><td>Ottawa is the capital of Canada and its average temperature is 45.97726027397255</td></tr><tr><td>Bridgetown is the capital of Barbados and its average temperature is 82.04273972602735</td></tr><tr><td>Madrid is the capital of Spain and its average temperature is 57.572677595628384</td></tr><tr><td>Bern is the capital of Switzerland and its average temperature is 49.14972677595629</td></tr><tr><td>Mexico City is the capital of Mexico and its average temperature is 62.73698630136983</td></tr><tr><td>Beirut is the capital of Lebanon and its average temperature is 69.42349726775956</td></tr><tr><td>Mexico City is the capital of Mexico and its average temperature is 65.18270676691732</td></tr><tr><td>Stockholm is the capital of Sweden and its average temperature is 47.27868852459015</td></tr><tr><td>Stockholm is the capital of Sweden and its average temperature is 45.47041095890408</td></tr><tr><td>Riyadh is the capital of Saudi Arabia and its average temperature is 79.09589041095893</td></tr><tr><td>Bratislava is the capital of Slovakia and its average temperature is 51.81315068493151</td></tr><tr><td>Damascus is the capital of Syria and its average temperature is 63.09836065573772</td></tr><tr><td>Damascus is the capital of Syria and its average temperature is 64.05150684931503</td></tr><tr><td>La Paz is the capital of Bolivia and its average temperature is 43.446301369863015</td></tr><tr><td>Manama is the capital of Bahrain and its average temperature is 80.97643835616437</td></tr><tr><td>Muscat is the capital of Oman and its average temperature is 69.45054644808745</td></tr><tr><td>Nassau is the capital of Bahamas and its average temperature is 76.5254794520548</td></tr><tr><td>Bridgetown is the capital of Barbados and its average temperature is 80.76575342465755</td></tr><tr><td>Manama is the capital of Bahrain and its average temperature is 79.51229508196724</td></tr><tr><td>Doha is the capital of Qatar and its average temperature is 84.36876712328761</td></tr><tr><td>Riyadh is the capital of Saudi Arabia and its average temperature is 78.77643835616443</td></tr><tr><td>Manama is the capital of Bahrain and its average temperature is 81.00547945205477</td></tr><tr><td>Muscat is the capital of Oman and its average temperature is 81.19616438356167</td></tr><tr><td>Buenos Aires is the capital of Argentina and its average temperature is 60.40712328767126</td></tr><tr><td>Bratislava is the capital of Slovakia and its average temperature is 53.53342465753425</td></tr><tr><td>La Paz is the capital of Bolivia and its average temperature is 46.15369863013698</td></tr><tr><td>Beirut is the capital of Lebanon and its average temperature is 70.00301369863013</td></tr><tr><td>Doha is the capital of Qatar and its average temperature is 83.26739726027397</td></tr><tr><td>Stockholm is the capital of Sweden and its average temperature is 45.733424657534236</td></tr><tr><td>Amman is the capital of Jordan and its average temperature is 54.119402985074615</td></tr><tr><td>Mexico City is the capital of Mexico and its average temperature is 63.14958904109591</td></tr><tr><td>Ottawa is the capital of Canada and its average temperature is 45.93205479452053</td></tr><tr><td>Muscat is the capital of Oman and its average temperature is 47.72547945205477</td></tr><tr><td>Abu Dhabi is the capital of United Arab Emirates and its average temperature is 82.07123287671237</td></tr><tr><td>Bridgetown is the capital of Barbados and its average temperature is 79.60136612021856</td></tr><tr><td>Amman is the capital of Jordan and its average temperature is 64.59397260273968</td></tr><tr><td>Mexico City is the capital of Mexico and its average temperature is 61.59123287671232</td></tr><tr><td>Bern is the capital of Switzerland and its average temperature is 50.86438356164383</td></tr><tr><td>La Paz is the capital of Bolivia and its average temperature is 48.049253731343285</td></tr><tr><td>Nassau is the capital of Bahamas and its average temperature is 76.41530054644808</td></tr><tr><td>Madrid is the capital of Spain and its average temperature is 58.5898630136986</td></tr><tr><td>Bridgetown is the capital of Barbados and its average temperature is 70.4334246575342</td></tr><tr><td>La Paz is the capital of Bolivia and its average temperature is 46.22876712328765</td></tr><tr><td>Muscat is the capital of Oman and its average temperature is 55.286849315068494</td></tr><tr><td>Mexico City is the capital of Mexico and its average temperature is 61.398360655737704</td></tr><tr><td>Mexico City is the capital of Mexico and its average temperature is 60.504918032786904</td></tr><tr><td>Buenos Aires is the capital of Argentina and its average temperature is 63.725136612021885</td></tr><tr><td>La Paz is the capital of Bolivia and its average temperature is 45.066301369863034</td></tr><tr><td>Bern is the capital of Switzerland and its average temperature is 49.494520547945214</td></tr><tr><td>Riyadh is the capital of Saudi Arabia and its average temperature is 78.97972602739729</td></tr><tr><td>Stockholm is the capital of Sweden and its average temperature is 44.596986301369824</td></tr><tr><td>Riyadh is the capital of Saudi Arabia and its average temperature is 77.66284153005466</td></tr><tr><td>Ottawa is the capital of Canada and its average temperature is 42.688797814207646</td></tr><tr><td>Bridgetown is the capital of Barbados and its average temperature is 78.61013698630136</td></tr><tr><td>Ankara is the capital of Turkey and its average temperature is 52.276438356164356</td></tr><tr><td>Ottawa is the capital of Canada and its average temperature is 46.545479452054764</td></tr><tr><td>Mexico City is the capital of Mexico and its average temperature is 62.124657534246616</td></tr><tr><td>Stockholm is the capital of Sweden and its average temperature is 45.6309589041096</td></tr><tr><td>Amman is the capital of Jordan and its average temperature is 64.76284153005467</td></tr><tr><td>Amman is the capital of Jordan and its average temperature is 65.00356164383561</td></tr><tr><td>Madrid is the capital of Spain and its average temperature is 60.827123287671206</td></tr><tr><td>Amman is the capital of Jordan and its average temperature is 64.19232876712329</td></tr><tr><td>Abu Dhabi is the capital of United Arab Emirates and its average temperature is 71.61940298507461</td></tr><tr><td>Ottawa is the capital of Canada and its average temperature is 42.80082191780823</td></tr><tr><td>La Paz is the capital of Bolivia and its average temperature is 45.314754098360595</td></tr><tr><td>Stockholm is the capital of Sweden and its average temperature is 45.18109589041101</td></tr><tr><td>Riyadh is the capital of Saudi Arabia and its average temperature is 78.52767123287671</td></tr><tr><td>Doha is the capital of Qatar and its average temperature is 82.30792349726771</td></tr><tr><td>Abu Dhabi is the capital of United Arab Emirates and its average temperature is 80.87041095890409</td></tr><tr><td>Abu Dhabi is the capital of United Arab Emirates and its average temperature is 81.84016393442622</td></tr><tr><td>Nassau is the capital of Bahamas and its average temperature is 76.4174863387978</td></tr><tr><td>Abu Dhabi is the capital of United Arab Emirates and its average temperature is 83.03688524590164</td></tr><tr><td>Hamilton is the capital of Bermuda and its average temperature is 69.79863013698635</td></tr><tr><td>Manama is the capital of Bahrain and its average temperature is 80.7784153005464</td></tr><tr><td>Beirut is the capital of Lebanon and its average temperature is 70.93205479452057</td></tr><tr><td>Riyadh is the capital of Saudi Arabia and its average temperature is 78.99287671232877</td></tr><tr><td>Nassau is the capital of Bahamas and its average temperature is 76.63041095890406</td></tr><tr><td>Damascus is the capital of Syria and its average temperature is 50.68582089552241</td></tr><tr><td>Abu Dhabi is the capital of United Arab Emirates and its average temperature is 82.35835616438357</td></tr><tr><td>Stockholm is the capital of Sweden and its average temperature is 42.040547945205475</td></tr><tr><td>Muscat is the capital of Oman and its average temperature is 63.02416107382553</td></tr><tr><td>Riyadh is the capital of Saudi Arabia and its average temperature is 78.81120218579235</td></tr><tr><td>Amman is the capital of Jordan and its average temperature is 63.92712328767123</td></tr><tr><td>Muscat is the capital of Oman and its average temperature is 75.59041095890412</td></tr><tr><td>Madrid is the capital of Spain and its average temperature is 58.578630136986256</td></tr><tr><td>Bern is the capital of Switzerland and its average temperature is 50.58054794520548</td></tr><tr><td>Riyadh is the capital of Saudi Arabia and its average temperature is 80.5328767123287</td></tr><tr><td>Riyadh is the capital of Saudi Arabia and its average temperature is 79.14547945205483</td></tr><tr><td>La Paz is the capital of Bolivia and its average temperature is 43.7627397260274</td></tr><tr><td>Manama is the capital of Bahrain and its average temperature is 81.3008219178082</td></tr><tr><td>Riyadh is the capital of Saudi Arabia and its average temperature is 76.98410958904108</td></tr><tr><td>Damascus is the capital of Syria and its average temperature is 66.69726027397256</td></tr><tr><td>Hamilton is the capital of Bermuda and its average temperature is 70.3835616438356</td></tr><tr><td>Madrid is the capital of Spain and its average temperature is 57.804371584699425</td></tr><tr><td>Buenos Aires is the capital of Argentina and its average temperature is 64.13780821917805</td></tr><tr><td>Doha is the capital of Qatar and its average temperature is 73.62014925373134</td></tr><tr><td>Damascus is the capital of Syria and its average temperature is 62.442191780821915</td></tr><tr><td>Ottawa is the capital of Canada and its average temperature is 45.86109589041093</td></tr><tr><td>Hamilton is the capital of Bermuda and its average temperature is 68.89098360655738</td></tr><tr><td>Beirut is the capital of Lebanon and its average temperature is 69.52868852459011</td></tr><tr><td>Abu Dhabi is the capital of United Arab Emirates and its average temperature is 82.95452054794525</td></tr><tr><td>Beirut is the capital of Lebanon and its average temperature is 70.87076502732238</td></tr><tr><td>Ankara is the capital of Turkey and its average temperature is 49.04918032786888</td></tr><tr><td>Mexico City is the capital of Mexico and its average temperature is 61.955342465753425</td></tr><tr><td>La Paz is the capital of Bolivia and its average temperature is 44.46054794520548</td></tr><tr><td>Madrid is the capital of Spain and its average temperature is 60.00684931506852</td></tr><tr><td>Doha is the capital of Qatar and its average temperature is 82.7961643835616</td></tr><tr><td>Manama is the capital of Bahrain and its average temperature is 81.68415300546445</td></tr><tr><td>Doha is the capital of Qatar and its average temperature is 82.98684931506853</td></tr><tr><td>Nassau is the capital of Bahamas and its average temperature is 75.13643835616439</td></tr><tr><td>Bratislava is the capital of Slovakia and its average temperature is 52.57232876712324</td></tr><tr><td>Stockholm is the capital of Sweden and its average temperature is 45.77704918032782</td></tr><tr><td>Doha is the capital of Qatar and its average temperature is 83.7991803278688</td></tr><tr><td>Mexico City is the capital of Mexico and its average temperature is 62.89479452054798</td></tr><tr><td>Damascus is the capital of Syria and its average temperature is 63.731693989071054</td></tr><tr><td>Bratislava is the capital of Slovakia and its average temperature is 51.98986301369862</td></tr><tr><td>Manama is the capital of Bahrain and its average temperature is 81.6229508196721</td></tr><tr><td>Doha is the capital of Qatar and its average temperature is 83.50630136986298</td></tr><tr><td>Nassau is the capital of Bahamas and its average temperature is 78.12246575342462</td></tr><tr><td>Muscat is the capital of Oman and its average temperature is 62.08142076502731</td></tr><tr><td>Ankara is the capital of Turkey and its average temperature is 50.71287671232876</td></tr><tr><td>Stockholm is the capital of Sweden and its average temperature is 44.179999999999986</td></tr><tr><td>Abu Dhabi is the capital of United Arab Emirates and its average temperature is 83.32712328767126</td></tr><tr><td>Amman is the capital of Jordan and its average temperature is 63.86256830601093</td></tr><tr><td>Buenos Aires is the capital of Argentina and its average temperature is 63.006301369863024</td></tr><tr><td>Madrid is the capital of Spain and its average temperature is 56.802459016393456</td></tr><tr><td>Bern is the capital of Switzerland and its average temperature is 49.69068493150682</td></tr><tr><td>Doha is the capital of Qatar and its average temperature is 84.45260273972603</td></tr><tr><td>La Paz is the capital of Bolivia and its average temperature is 45.21917808219179</td></tr><tr><td>Manama is the capital of Bahrain and its average temperature is 81.3230136986302</td></tr><tr><td>Abu Dhabi is the capital of United Arab Emirates and its average temperature is 84.86273972602733</td></tr><tr><td>Damascus is the capital of Syria and its average temperature is 63.218904109589054</td></tr><tr><td>Hamilton is the capital of Bermuda and its average temperature is 71.6079452054795</td></tr><tr><td>Bridgetown is the capital of Barbados and its average temperature is 80.63524590163935</td></tr><tr><td>Ottawa is the capital of Canada and its average temperature is 43.55643835616436</td></tr><tr><td>Manama is the capital of Bahrain and its average temperature is 82.63589041095887</td></tr><tr><td>Beirut is the capital of Lebanon and its average temperature is 69.7379781420765</td></tr><tr><td>Madrid is the capital of Spain and its average temperature is 56.18767123287673</td></tr><tr><td>Riyadh is the capital of Saudi Arabia and its average temperature is 77.71561643835615</td></tr><tr><td>Ankara is the capital of Turkey and its average temperature is 41.731343283582106</td></tr><tr><td>Bridgetown is the capital of Barbados and its average temperature is 82.06191780821915</td></tr><tr><td>Manama is the capital of Bahrain and its average temperature is 82.92684931506848</td></tr><tr><td>Buenos Aires is the capital of Argentina and its average temperature is 60.88219178082192</td></tr><tr><td>Damascus is the capital of Syria and its average temperature is 63.983561643835564</td></tr><tr><td>Mexico City is the capital of Mexico and its average temperature is 62.83907103825142</td></tr><tr><td>La Paz is the capital of Bolivia and its average temperature is 45.327595628415295</td></tr><tr><td>Amman is the capital of Jordan and its average temperature is 64.27178082191782</td></tr><tr><td>La Paz is the capital of Bolivia and its average temperature is 45.88087431693987</td></tr><tr><td>Damascus is the capital of Syria and its average temperature is 64.52054794520545</td></tr><tr><td>Buenos Aires is the capital of Argentina and its average temperature is 61.24904109589046</td></tr><tr><td>Ankara is the capital of Turkey and its average temperature is 51.78547945205478</td></tr><tr><td>Buenos Aires is the capital of Argentina and its average temperature is 62.31150684931508</td></tr><tr><td>Nassau is the capital of Bahamas and its average temperature is 75.5894736842105</td></tr><tr><td>Stockholm is the capital of Sweden and its average temperature is 44.27431693989073</td></tr><tr><td>Riyadh is the capital of Saudi Arabia and its average temperature is 79.53579234972678</td></tr><tr><td>Ankara is the capital of Turkey and its average temperature is 51.418904109589086</td></tr><tr><td>Madrid is the capital of Spain and its average temperature is 59.486849315068476</td></tr><tr><td>Manama is the capital of Bahrain and its average temperature is 79.97232876712333</td></tr><tr><td>Doha is the capital of Qatar and its average temperature is 82.41890410958908</td></tr><tr><td>Nassau is the capital of Bahamas and its average temperature is 78.88356164383559</td></tr><tr><td>Amman is the capital of Jordan and its average temperature is 65.7386301369863</td></tr><tr><td>Abu Dhabi is the capital of United Arab Emirates and its average temperature is 82.62240437158466</td></tr><tr><td>Hamilton is the capital of Bermuda and its average temperature is 69.89743589743593</td></tr><tr><td>Muscat is the capital of Oman and its average temperature is -6.6767759562841595</td></tr><tr><td>Damascus is the capital of Syria and its average temperature is 63.36557377049187</td></tr><tr><td>Nassau is the capital of Bahamas and its average temperature is 79.85095890410959</td></tr><tr><td>Bridgetown is the capital of Barbados and its average temperature is 77.39480874316943</td></tr><tr><td>Ankara is the capital of Turkey and its average temperature is 51.34438356164382</td></tr><tr><td>Madrid is the capital of Spain and its average temperature is 58.95178082191778</td></tr><tr><td>Ottawa is the capital of Canada and its average temperature is 44.84684931506851</td></tr><tr><td>Mexico City is the capital of Mexico and its average temperature is 62.386849315068524</td></tr><tr><td>Beirut is the capital of Lebanon and its average temperature is 70.04781420765026</td></tr><tr><td>Beirut is the capital of Lebanon and its average temperature is 69.54535519125686</td></tr><tr><td>Stockholm is the capital of Sweden and its average temperature is 44.8241095890411</td></tr><tr><td>Bern is the capital of Switzerland and its average temperature is 50.6715068493151</td></tr><tr><td>Damascus is the capital of Syria and its average temperature is 63.43013698630139</td></tr><tr><td>Buenos Aires is the capital of Argentina and its average temperature is 62.62595628415302</td></tr><tr><td>Stockholm is the capital of Sweden and its average temperature is 39.836567164179115</td></tr><tr><td>Damascus is the capital of Syria and its average temperature is 64.82520547945198</td></tr><tr><td>Ankara is the capital of Turkey and its average temperature is 53.08602739726031</td></tr><tr><td>Buenos Aires is the capital of Argentina and its average temperature is 69.98432835820897</td></tr><tr><td>Madrid is the capital of Spain and its average temperature is 58.35260273972605</td></tr><tr><td>Abu Dhabi is the capital of United Arab Emirates and its average temperature is 82.40219178082195</td></tr><tr><td>Buenos Aires is the capital of Argentina and its average temperature is 63.61369863013696</td></tr><tr><td>Manama is the capital of Bahrain and its average temperature is 80.92</td></tr><tr><td>Buenos Aires is the capital of Argentina and its average temperature is 62.895068493150724</td></tr><tr><td>Bridgetown is the capital of Barbados and its average temperature is 80.16657534246578</td></tr><tr><td>Muscat is the capital of Oman and its average temperature is 75.06958904109587</td></tr><tr><td>Muscat is the capital of Oman and its average temperature is 80.63890410958902</td></tr><tr><td>Riyadh is the capital of Saudi Arabia and its average temperature is 79.14630136986307</td></tr><tr><td>Buenos Aires is the capital of Argentina and its average temperature is 62.57095890410963</td></tr><tr><td>La Paz is the capital of Bolivia and its average temperature is 45.67205479452055</td></tr><tr><td>Bridgetown is the capital of Barbados and its average temperature is 78.76000000000002</td></tr><tr><td>Bratislava is the capital of Slovakia and its average temperature is 50.702459016393426</td></tr><tr><td>Nassau is the capital of Bahamas and its average temperature is 68.0939890710383</td></tr><tr><td>Stockholm is the capital of Sweden and its average temperature is 45.467123287671235</td></tr><tr><td>Muscat is the capital of Oman and its average temperature is 23.960273972602735</td></tr><tr><td>Nassau is the capital of Bahamas and its average temperature is 76.33835616438353</td></tr><tr><td>Bern is the capital of Switzerland and its average temperature is 49.841095890411</td></tr><tr><td>Amman is the capital of Jordan and its average temperature is 64.39123287671234</td></tr><tr><td>Buenos Aires is the capital of Argentina and its average temperature is 62.68794520547938</td></tr><tr><td>Bratislava is the capital of Slovakia and its average temperature is 52.71945205479454</td></tr><tr><td>Nassau is the capital of Bahamas and its average temperature is 78.0674863387978</td></tr><tr><td>Muscat is the capital of Oman and its average temperature is -99.0</td></tr><tr><td>Doha is the capital of Qatar and its average temperature is 81.38575342465751</td></tr><tr><td>Damascus is the capital of Syria and its average temperature is 63.0106849315069</td></tr><tr><td>Abu Dhabi is the capital of United Arab Emirates and its average temperature is 81.84301369863017</td></tr><tr><td>Madrid is the capital of Spain and its average temperature is 58.30437158469944</td></tr><tr><td>Ankara is the capital of Turkey and its average temperature is 48.33671232876715</td></tr><tr><td>Stockholm is the capital of Sweden and its average temperature is 45.04726775956285</td></tr><tr><td>Muscat is the capital of Oman and its average temperature is 76.20928961748632</td></tr><tr><td>Muscat is the capital of Oman and its average temperature is 69.05342465753422</td></tr><tr><td>Muscat is the capital of Oman and its average temperature is 22.001095890410955</td></tr><tr><td>Riyadh is the capital of Saudi Arabia and its average temperature is 79.82950819672126</td></tr><tr><td>Damascus is the capital of Syria and its average temperature is 58.06639344262294</td></tr><tr><td>Abu Dhabi is the capital of United Arab Emirates and its average temperature is 83.77978142076499</td></tr><tr><td>Madrid is the capital of Spain and its average temperature is 59.54575342465752</td></tr><tr><td>Ankara is the capital of Turkey and its average temperature is 50.32931506849315</td></tr><tr><td>Damascus is the capital of Syria and its average temperature is 62.10191780821915</td></tr><tr><td>Manama is the capital of Bahrain and its average temperature is 78.89479452054795</td></tr><tr><td>Manama is the capital of Bahrain and its average temperature is 80.14836065573775</td></tr><tr><td>Amman is the capital of Jordan and its average temperature is 63.46136986301374</td></tr><tr><td>Amman is the capital of Jordan and its average temperature is 64.34945355191262</td></tr><tr><td>Nassau is the capital of Bahamas and its average temperature is 79.17753424657536</td></tr><tr><td>Amman is the capital of Jordan and its average temperature is 64.18333333333328</td></tr><tr><td>Beirut is the capital of Lebanon and its average temperature is 61.464179104477616</td></tr><tr><td>Riyadh is the capital of Saudi Arabia and its average temperature is 79.5904109589041</td></tr><tr><td>Nassau is the capital of Bahamas and its average temperature is 78.61584699453556</td></tr><tr><td>Madrid is the capital of Spain and its average temperature is 56.16986301369865</td></tr><tr><td>Riyadh is the capital of Saudi Arabia and its average temperature is 78.19698630136983</td></tr><tr><td>Ottawa is the capital of Canada and its average temperature is 42.62950819672128</td></tr><tr><td>Bern is the capital of Switzerland and its average temperature is 49.79863013698628</td></tr><tr><td>Bratislava is the capital of Slovakia and its average temperature is 51.73479452054798</td></tr><tr><td>Stockholm is the capital of Sweden and its average temperature is 44.293169398907104</td></tr><tr><td>Muscat is the capital of Oman and its average temperature is 80.27506849315068</td></tr><tr><td>La Paz is the capital of Bolivia and its average temperature is 44.73945205479452</td></tr><tr><td>Muscat is the capital of Oman and its average temperature is 68.4887978142076</td></tr><tr><td>Bridgetown is the capital of Barbados and its average temperature is 19.64520547945204</td></tr><tr><td>Nassau is the capital of Bahamas and its average temperature is 78.25205479452055</td></tr><tr><td>Doha is the capital of Qatar and its average temperature is 82.26885245901634</td></tr><tr><td>Stockholm is the capital of Sweden and its average temperature is 46.66164383561644</td></tr><tr><td>Manama is the capital of Bahrain and its average temperature is 80.60601092896171</td></tr><tr><td>Beirut is the capital of Lebanon and its average temperature is 69.6526027397261</td></tr><tr><td>Muscat is the capital of Oman and its average temperature is 76.71912568306013</td></tr><tr><td>Damascus is the capital of Syria and its average temperature is 62.95054644808744</td></tr><tr><td>Ankara is the capital of Turkey and its average temperature is 51.49398907103823</td></tr><tr><td>Doha is the capital of Qatar and its average temperature is 82.71475409836069</td></tr><tr><td>Riyadh is the capital of Saudi Arabia and its average temperature is 70.73432835820897</td></tr><tr><td>La Paz is the capital of Bolivia and its average temperature is 44.564383561643865</td></tr><tr><td>Hamilton is the capital of Bermuda and its average temperature is 70.64164383561648</td></tr><tr><td>Bern is the capital of Switzerland and its average temperature is 49.133698630137</td></tr><tr><td>Madrid is the capital of Spain and its average temperature is 50.94477611940298</td></tr><tr><td>Damascus is the capital of Syria and its average temperature is 61.511780821917796</td></tr><tr><td>Ottawa is the capital of Canada and its average temperature is 31.720496894409948</td></tr><tr><td>Buenos Aires is the capital of Argentina and its average temperature is 60.787397260274005</td></tr><tr><td>Stockholm is the capital of Sweden and its average temperature is 45.28547945205478</td></tr><tr><td>Ankara is the capital of Turkey and its average temperature is 54.42575342465758</td></tr><tr><td>Bridgetown is the capital of Barbados and its average temperature is 79.21835616438358</td></tr><tr><td>Bridgetown is the capital of Barbados and its average temperature is 81.38575342465757</td></tr><tr><td>Doha is the capital of Qatar and its average temperature is 83.32575342465758</td></tr><tr><td>Ottawa is the capital of Canada and its average temperature is 42.91342465753423</td></tr><tr><td>Nassau is the capital of Bahamas and its average temperature is 80.40767123287678</td></tr><tr><td>Beirut is the capital of Lebanon and its average temperature is 64.13315068493152</td></tr><tr><td>Abu Dhabi is the capital of United Arab Emirates and its average temperature is 81.53917808219177</td></tr><tr><td>Abu Dhabi is the capital of United Arab Emirates and its average temperature is 81.13890410958906</td></tr><tr><td>Manama is the capital of Bahrain and its average temperature is 80.20931506849313</td></tr><tr><td>Amman is the capital of Jordan and its average temperature is 62.505479452054814</td></tr><tr><td>Abu Dhabi is the capital of United Arab Emirates and its average temperature is 83.80438356164385</td></tr><tr><td>Hamilton is the capital of Bermuda and its average temperature is 71.33661202185796</td></tr><tr><td>La Paz is the capital of Bolivia and its average temperature is 43.89699453551912</td></tr><tr><td>Amman is the capital of Jordan and its average temperature is 64.8131506849315</td></tr><tr><td>Ankara is the capital of Turkey and its average temperature is 50.2456284153006</td></tr><tr><td>Mexico City is the capital of Mexico and its average temperature is 61.016438356164414</td></tr><tr><td>La Paz is the capital of Bolivia and its average temperature is 44.4164383561644</td></tr><tr><td>Bern is the capital of Switzerland and its average temperature is 47.72493150684932</td></tr><tr><td>Damascus is the capital of Syria and its average temperature is 62.87424657534244</td></tr><tr><td>Damascus is the capital of Syria and its average temperature is 63.475956284152915</td></tr><tr><td>Abu Dhabi is the capital of United Arab Emirates and its average temperature is 82.42767123287672</td></tr><tr><td>Doha is the capital of Qatar and its average temperature is 82.03060109289612</td></tr><tr><td>Manama is the capital of Bahrain and its average temperature is 80.91013698630132</td></tr><tr><td>Buenos Aires is the capital of Argentina and its average temperature is 62.46857923497266</td></tr><tr><td>La Paz is the capital of Bolivia and its average temperature is 43.08306010928958</td></tr><tr><td>Stockholm is the capital of Sweden and its average temperature is 46.46967213114755</td></tr><tr><td>Mexico City is the capital of Mexico and its average temperature is 63.39315068493148</td></tr><tr><td>Ankara is the capital of Turkey and its average temperature is 50.608469945355175</td></tr><tr><td>Mexico City is the capital of Mexico and its average temperature is 60.25397260273973</td></tr><tr><td>Bern is the capital of Switzerland and its average temperature is 48.663835616438355</td></tr><tr><td>Beirut is the capital of Lebanon and its average temperature is 70.90547945205483</td></tr><tr><td>Mexico City is the capital of Mexico and its average temperature is 61.8819178082192</td></tr><tr><td>Beirut is the capital of Lebanon and its average temperature is 70.11972602739726</td></tr><tr><td>Beirut is the capital of Lebanon and its average temperature is 72.6569863013698</td></tr><tr><td>La Paz is the capital of Bolivia and its average temperature is 44.131232876712325</td></tr><tr><td>Madrid is the capital of Spain and its average temperature is 57.8893150684931</td></tr><tr><td>Muscat is the capital of Oman and its average temperature is 75.34438356164384</td></tr><tr><td>Manama is the capital of Bahrain and its average temperature is 80.48849315068492</td></tr><tr><td>Madrid is the capital of Spain and its average temperature is 59.7360655737705</td></tr><tr><td>Mexico City is the capital of Mexico and its average temperature is 60.88630136986301</td></tr><tr><td>Mexico City is the capital of Mexico and its average temperature is 61.2450819672131</td></tr><tr><td>Manama is the capital of Bahrain and its average temperature is 81.57780821917805</td></tr><tr><td>Beirut is the capital of Lebanon and its average temperature is 70.7506849315069</td></tr><tr><td>Buenos Aires is the capital of Argentina and its average temperature is 63.23534246575342</td></tr><tr><td>Nassau is the capital of Bahamas and its average temperature is 78.4292349726776</td></tr><tr><td>Doha is the capital of Qatar and its average temperature is 80.70191780821911</td></tr><tr><td>Doha is the capital of Qatar and its average temperature is 82.39972602739734</td></tr><tr><td>La Paz is the capital of Bolivia and its average temperature is 45.04684931506849</td></tr><tr><td>Manama is the capital of Bahrain and its average temperature is 81.20438356164384</td></tr><tr><td>Nassau is the capital of Bahamas and its average temperature is 71.53287671232877</td></tr><tr><td>Stockholm is the capital of Sweden and its average temperature is 45.89616438356161</td></tr><tr><td>Bern is the capital of Switzerland and its average temperature is 47.98410958904105</td></tr><tr><td>Ankara is the capital of Turkey and its average temperature is 51.20191256830599</td></tr><tr><td>Buenos Aires is the capital of Argentina and its average temperature is 60.87267759562841</td></tr><tr><td>Riyadh is the capital of Saudi Arabia and its average temperature is 77.8743169398907</td></tr><tr><td>Ankara is the capital of Turkey and its average temperature is 52.020821917808256</td></tr><tr><td>Mexico City is the capital of Mexico and its average temperature is 63.53890410958908</td></tr><tr><td>Bern is the capital of Switzerland and its average temperature is 43.40000000000001</td></tr><tr><td>Amman is the capital of Jordan and its average temperature is 63.7961643835617</td></tr><tr><td>Bern is the capital of Switzerland and its average temperature is 48.33442622950818</td></tr><tr><td>Beirut is the capital of Lebanon and its average temperature is 67.4265753424657</td></tr><tr><td>Abu Dhabi is the capital of United Arab Emirates and its average temperature is 80.50027322404367</td></tr><tr><td>Hamilton is the capital of Bermuda and its average temperature is 71.23424657534245</td></tr><tr><td>Bratislava is the capital of Slovakia and its average temperature is 52.181095890410944</td></tr><tr><td>Amman is the capital of Jordan and its average temperature is 62.16273972602745</td></tr><tr><td>Ottawa is the capital of Canada and its average temperature is 46.35437158469948</td></tr><tr><td>Abu Dhabi is the capital of United Arab Emirates and its average temperature is 82.68410958904114</td></tr><tr><td>Buenos Aires is the capital of Argentina and its average temperature is 61.04246575342465</td></tr><tr><td>Ottawa is the capital of Canada and its average temperature is 43.05726027397256</td></tr><tr><td>Bridgetown is the capital of Barbados and its average temperature is 78.32540983606557</td></tr><tr><td>Madrid is the capital of Spain and its average temperature is 59.22103825136618</td></tr><tr><td>Bern is the capital of Switzerland and its average temperature is 49.200821917808234</td></tr><tr><td>Riyadh is the capital of Saudi Arabia and its average temperature is 79.18493150684931</td></tr><tr><td>Buenos Aires is the capital of Argentina and its average temperature is 61.95519125683062</td></tr><tr><td>Beirut is the capital of Lebanon and its average temperature is 70.0112328767123</td></tr><tr><td>Buenos Aires is the capital of Argentina and its average temperature is 62.88054794520547</td></tr><tr><td>Riyadh is the capital of Saudi Arabia and its average temperature is 79.4467213114754</td></tr><tr><td>La Paz is the capital of Bolivia and its average temperature is 45.306557377049174</td></tr><tr><td>Bern is the capital of Switzerland and its average temperature is 50.486065573770524</td></tr><tr><td>Nassau is the capital of Bahamas and its average temperature is 78.17452054794518</td></tr><tr><td>Ankara is the capital of Turkey and its average temperature is 50.17950819672125</td></tr><tr><td>Riyadh is the capital of Saudi Arabia and its average temperature is 80.35041095890412</td></tr><tr><td>Buenos Aires is the capital of Argentina and its average temperature is 62.935792349726825</td></tr><tr><td>Bern is the capital of Switzerland and its average temperature is 50.8882191780822</td></tr><tr><td>Amman is the capital of Jordan and its average temperature is 65.63524590163934</td></tr><tr><td>Beirut is the capital of Lebanon and its average temperature is 67.85972602739727</td></tr><tr><td>Abu Dhabi is the capital of United Arab Emirates and its average temperature is 83.34246575342463</td></tr><tr><td>Mexico City is the capital of Mexico and its average temperature is 61.80846994535516</td></tr><tr><td>Muscat is the capital of Oman and its average temperature is 68.1232876712329</td></tr><tr><td>Doha is the capital of Qatar and its average temperature is 82.75452054794529</td></tr><tr><td>Hamilton is the capital of Bermuda and its average temperature is 71.09178082191781</td></tr><tr><td>Bridgetown is the capital of Barbados and its average temperature is 79.73606557377052</td></tr><tr><td>Beirut is the capital of Lebanon and its average temperature is 70.27123287671228</td></tr><tr><td>Doha is the capital of Qatar and its average temperature is 82.35698630136989</td></tr><tr><td>Ankara is the capital of Turkey and its average temperature is 52.77095890410957</td></tr><tr><td>Mexico City is the capital of Mexico and its average temperature is 62.285792349726805</td></tr><tr><td>Mexico City is the capital of Mexico and its average temperature is 63.30383561643839</td></tr><tr><td>Bratislava is the capital of Slovakia and its average temperature is 44.66940298507463</td></tr><tr><td>Bern is the capital of Switzerland and its average temperature is 50.42295081967218</td></tr><tr><td>Manama is the capital of Bahrain and its average temperature is 72.23880597014929</td></tr><tr><td>Ankara is the capital of Turkey and its average temperature is 53.39643835616435</td></tr><tr><td>Hamilton is the capital of Bermuda and its average temperature is 71.13661202185796</td></tr><tr><td>Doha is the capital of Qatar and its average temperature is 82.76958904109587</td></tr><tr><td>Stockholm is the capital of Sweden and its average temperature is 46.569041095890405</td></tr><tr><td>Beirut is the capital of Lebanon and its average temperature is 69.76054794520545</td></tr><tr><td>Stockholm is the capital of Sweden and its average temperature is 46.610958904109566</td></tr><tr><td>Bern is the capital of Switzerland and its average temperature is 47.51666666666663</td></tr><tr><td>Bridgetown is the capital of Barbados and its average temperature is 81.66904109589044</td></tr><tr><td>Bratislava is the capital of Slovakia and its average temperature is 52.688251366120205</td></tr><tr><td>Bratislava is the capital of Slovakia and its average temperature is 52.88387978142072</td></tr><tr><td>Madrid is the capital of Spain and its average temperature is 58.01808219178085</td></tr><tr><td>Amman is the capital of Jordan and its average temperature is 64.25956284153001</td></tr><tr><td>Damascus is the capital of Syria and its average temperature is 63.26657534246577</td></tr><tr><td>Bratislava is the capital of Slovakia and its average temperature is 53.0627397260274</td></tr><tr><td>Ankara is the capital of Turkey and its average temperature is 50.87178082191779</td></tr><tr><td>Ottawa is the capital of Canada and its average temperature is 43.6482191780822</td></tr><tr><td>Hamilton is the capital of Bermuda and its average temperature is 70.91534246575345</td></tr><tr><td>Madrid is the capital of Spain and its average temperature is 57.30356164383564</td></tr><tr><td>Doha is the capital of Qatar and its average temperature is 81.5371584699453</td></tr><tr><td>Damascus is the capital of Syria and its average temperature is 62.03068493150682</td></tr><tr><td>Ottawa is the capital of Canada and its average temperature is 42.84234972677597</td></tr><tr><td>Bern is the capital of Switzerland and its average temperature is 47.89287671232874</td></tr><tr><td>Guatemala City is the capital of Guatemala and its average temperature is 64.03224043715848</td></tr><tr><td>Panama City is the capital of Panama and its average temperature is 79.69561643835618</td></tr><tr><td>Paramaribo is the capital of Suriname and its average temperature is -5.2237704918032675</td></tr><tr><td>Caracas is the capital of Venezuela and its average temperature is 80.76849315068492</td></tr><tr><td>Georgetown is the capital of Guyana and its average temperature is -35.47814207650273</td></tr><tr><td>Lima is the capital of Peru and its average temperature is 67.28904109589038</td></tr><tr><td>Caracas is the capital of Venezuela and its average temperature is 80.26165413533833</td></tr><tr><td>Paramaribo is the capital of Suriname and its average temperature is 76.9043835616438</td></tr><tr><td>Paramaribo is the capital of Suriname and its average temperature is 78.56557377049178</td></tr><tr><td>Guatemala City is the capital of Guatemala and its average temperature is 66.8315068493151</td></tr><tr><td>Lima is the capital of Peru and its average temperature is 66.97726027397253</td></tr><tr><td>Santo Domingo is the capital of Dominican Republic and its average temperature is 78.98164383561655</td></tr><tr><td>Lima is the capital of Peru and its average temperature is 64.26958904109591</td></tr><tr><td>Paramaribo is the capital of Suriname and its average temperature is 79.42404371584702</td></tr><tr><td>Paramaribo is the capital of Suriname and its average temperature is 62.43114754098359</td></tr><tr><td>Paramaribo is the capital of Suriname and its average temperature is 79.08876712328768</td></tr><tr><td>Guatemala City is the capital of Guatemala and its average temperature is 62.17123287671231</td></tr><tr><td>Guatemala City is the capital of Guatemala and its average temperature is 66.59068493150683</td></tr><tr><td>Managua is the capital of Nicaragua and its average temperature is 77.2352459016393</td></tr><tr><td>Managua is the capital of Nicaragua and its average temperature is 81.49041095890406</td></tr><tr><td>Panama City is the capital of Panama and its average temperature is 80.72438356164385</td></tr><tr><td>Havana is the capital of Cuba and its average temperature is 70.8046448087431</td></tr><tr><td>Managua is the capital of Nicaragua and its average temperature is 78.46666666666665</td></tr><tr><td>Havana is the capital of Cuba and its average temperature is 74.90246575342462</td></tr><tr><td>Santo Domingo is the capital of Dominican Republic and its average temperature is 47.827671232876746</td></tr><tr><td>Tegucigalpa is the capital of Honduras and its average temperature is 69.90958904109588</td></tr><tr><td>Guatemala City is the capital of Guatemala and its average temperature is 66.11479452054786</td></tr><tr><td>Caracas is the capital of Venezuela and its average temperature is 70.88767123287674</td></tr><tr><td>Havana is the capital of Cuba and its average temperature is 75.31397260273974</td></tr><tr><td>Panama City is the capital of Panama and its average temperature is 80.93251366120218</td></tr><tr><td>Guatemala City is the capital of Guatemala and its average temperature is 64.94945355191254</td></tr><tr><td>Tegucigalpa is the capital of Honduras and its average temperature is 71.63123287671232</td></tr><tr><td>Georgetown is the capital of Guyana and its average temperature is -84.93315068493152</td></tr><tr><td>Panama City is the capital of Panama and its average temperature is 80.13342465753426</td></tr><tr><td>Paramaribo is the capital of Suriname and its average temperature is 72.1890410958904</td></tr><tr><td>Tegucigalpa is the capital of Honduras and its average temperature is 58.478195488721816</td></tr><tr><td>Panama City is the capital of Panama and its average temperature is 79.29260273972601</td></tr><tr><td>Tegucigalpa is the capital of Honduras and its average temperature is 70.88114754098362</td></tr><tr><td>Managua is the capital of Nicaragua and its average temperature is 81.20218579234968</td></tr><tr><td>Panama City is the capital of Panama and its average temperature is 77.65315068493152</td></tr><tr><td>Panama City is the capital of Panama and its average temperature is 80.40739726027392</td></tr><tr><td>Lima is the capital of Peru and its average temperature is 63.96027397260273</td></tr><tr><td>Paramaribo is the capital of Suriname and its average temperature is 40.08283378746594</td></tr><tr><td>Panama City is the capital of Panama and its average temperature is 79.94398907103825</td></tr><tr><td>Santo Domingo is the capital of Dominican Republic and its average temperature is 68.78169398907102</td></tr><tr><td>Tegucigalpa is the capital of Honduras and its average temperature is 66.10876712328765</td></tr><tr><td>Lima is the capital of Peru and its average temperature is 67.40219178082191</td></tr><tr><td>Managua is the capital of Nicaragua and its average temperature is 78.56967213114753</td></tr><tr><td>Tegucigalpa is the capital of Honduras and its average temperature is 68.82767123287668</td></tr><tr><td>Managua is the capital of Nicaragua and its average temperature is 81.4213698630137</td></tr><tr><td>Caracas is the capital of Venezuela and its average temperature is 80.75136612021853</td></tr><tr><td>Caracas is the capital of Venezuela and its average temperature is 82.28082191780815</td></tr><tr><td>Tegucigalpa is the capital of Honduras and its average temperature is 67.7478142076503</td></tr><tr><td>Santo Domingo is the capital of Dominican Republic and its average temperature is 66.12631578947365</td></tr><tr><td>Havana is the capital of Cuba and its average temperature is 75.81803278688521</td></tr><tr><td>Paramaribo is the capital of Suriname and its average temperature is 34.62164383561646</td></tr><tr><td>Caracas is the capital of Venezuela and its average temperature is 61.95765027322411</td></tr><tr><td>Havana is the capital of Cuba and its average temperature is 75.82876712328765</td></tr><tr><td>Georgetown is the capital of Guyana and its average temperature is 28.39616438356166</td></tr><tr><td>Havana is the capital of Cuba and its average temperature is 75.96767123287678</td></tr><tr><td>Santo Domingo is the capital of Dominican Republic and its average temperature is 80.13123287671242</td></tr><tr><td>Lima is the capital of Peru and its average temperature is 65.25191256830598</td></tr><tr><td>Paramaribo is the capital of Suriname and its average temperature is 79.22985074626867</td></tr><tr><td>Georgetown is the capital of Guyana and its average temperature is 27.54999999999998</td></tr><tr><td>Caracas is the capital of Venezuela and its average temperature is 82.32821917808208</td></tr><tr><td>Guatemala City is the capital of Guatemala and its average temperature is 66.83205479452054</td></tr><tr><td>Guatemala City is the capital of Guatemala and its average temperature is 64.95780821917808</td></tr><tr><td>Guatemala City is the capital of Guatemala and its average temperature is 66.50876712328767</td></tr><tr><td>Caracas is the capital of Venezuela and its average temperature is 81.45327868852459</td></tr><tr><td>Havana is the capital of Cuba and its average temperature is 75.34219178082188</td></tr><tr><td>Guatemala City is the capital of Guatemala and its average temperature is 64.16657534246578</td></tr><tr><td>Caracas is the capital of Venezuela and its average temperature is 80.91506849315064</td></tr><tr><td>Guatemala City is the capital of Guatemala and its average temperature is 63.49917808219171</td></tr><tr><td>Santo Domingo is the capital of Dominican Republic and its average temperature is 73.00710382513658</td></tr><tr><td>Guatemala City is the capital of Guatemala and its average temperature is 63.0795081967213</td></tr><tr><td>Panama City is the capital of Panama and its average temperature is 78.35655737704921</td></tr><tr><td>Panama City is the capital of Panama and its average temperature is 76.54672131147547</td></tr><tr><td>Managua is the capital of Nicaragua and its average temperature is 81.22849315068493</td></tr><tr><td>Havana is the capital of Cuba and its average temperature is 73.50164383561642</td></tr><tr><td>Santo Domingo is the capital of Dominican Republic and its average temperature is 75.61808219178084</td></tr><tr><td>Havana is the capital of Cuba and its average temperature is 75.91671232876712</td></tr><tr><td>Panama City is the capital of Panama and its average temperature is 78.47232876712329</td></tr><tr><td>Paramaribo is the capital of Suriname and its average temperature is 78.49589041095889</td></tr><tr><td>Managua is the capital of Nicaragua and its average temperature is 79.66767123287673</td></tr><tr><td>Havana is the capital of Cuba and its average temperature is 73.86191780821919</td></tr><tr><td>Tegucigalpa is the capital of Honduras and its average temperature is 67.41010928961754</td></tr><tr><td>Lima is the capital of Peru and its average temperature is 66.65917808219174</td></tr><tr><td>Paramaribo is the capital of Suriname and its average temperature is -15.690410958904119</td></tr><tr><td>Santo Domingo is the capital of Dominican Republic and its average temperature is 69.78219178082192</td></tr><tr><td>Paramaribo is the capital of Suriname and its average temperature is 72.61863013698634</td></tr><tr><td>Paramaribo is the capital of Suriname and its average temperature is 65.8997267759563</td></tr><tr><td>Panama City is the capital of Panama and its average temperature is 80.56630136986304</td></tr><tr><td>Georgetown is the capital of Guyana and its average temperature is 35.87369863013699</td></tr><tr><td>Havana is the capital of Cuba and its average temperature is 73.35109289617489</td></tr><tr><td>Tegucigalpa is the capital of Honduras and its average temperature is 67.19123287671233</td></tr><tr><td>Managua is the capital of Nicaragua and its average temperature is 81.57616438356169</td></tr><tr><td>Panama City is the capital of Panama and its average temperature is 78.43643835616442</td></tr><tr><td>Managua is the capital of Nicaragua and its average temperature is 80.62923497267761</td></tr><tr><td>Caracas is the capital of Venezuela and its average temperature is 79.80164383561649</td></tr><tr><td>Tegucigalpa is the capital of Honduras and its average temperature is 70.82</td></tr><tr><td>Georgetown is the capital of Guyana and its average temperature is -3.4051912568305993</td></tr><tr><td>Havana is the capital of Cuba and its average temperature is 74.11726027397262</td></tr><tr><td>Georgetown is the capital of Guyana and its average temperature is -13.730063291139249</td></tr><tr><td>Tegucigalpa is the capital of Honduras and its average temperature is 71.0155737704918</td></tr><tr><td>Panama City is the capital of Panama and its average temperature is 79.86767123287666</td></tr><tr><td>Havana is the capital of Cuba and its average temperature is 74.03890410958903</td></tr><tr><td>Havana is the capital of Cuba and its average temperature is 70.97232876712332</td></tr><tr><td>Guatemala City is the capital of Guatemala and its average temperature is 66.458904109589</td></tr><tr><td>Managua is the capital of Nicaragua and its average temperature is 80.69835616438363</td></tr><tr><td>Managua is the capital of Nicaragua and its average temperature is 80.59013698630125</td></tr><tr><td>Managua is the capital of Nicaragua and its average temperature is 82.916814159292</td></tr><tr><td>Santo Domingo is the capital of Dominican Republic and its average temperature is 77.32109589041089</td></tr><tr><td>Bridgetown is the capital of Barbados and its average temperature is 77.8857142857143</td></tr><tr><td>Guatemala City is the capital of Guatemala and its average temperature is 66.50109589041092</td></tr><tr><td>Panama City is the capital of Panama and its average temperature is 80.11835616438357</td></tr><tr><td>Lima is the capital of Peru and its average temperature is 69.61708074534167</td></tr><tr><td>Paramaribo is the capital of Suriname and its average temperature is 79.11671232876714</td></tr><tr><td>Santo Domingo is the capital of Dominican Republic and its average temperature is 74.74071038251367</td></tr><tr><td>Guatemala City is the capital of Guatemala and its average temperature is 65.33424657534246</td></tr><tr><td>Paramaribo is the capital of Suriname and its average temperature is 58.50520547945205</td></tr><tr><td>Managua is the capital of Nicaragua and its average temperature is 79.43945205479454</td></tr><tr><td>Caracas is the capital of Venezuela and its average temperature is 79.40876712328765</td></tr><tr><td>Havana is the capital of Cuba and its average temperature is 67.05983606557378</td></tr><tr><td>Lima is the capital of Peru and its average temperature is 66.30794520547947</td></tr><tr><td>Santo Domingo is the capital of Dominican Republic and its average temperature is 70.38360655737701</td></tr><tr><td>Santo Domingo is the capital of Dominican Republic and its average temperature is 22.55561643835617</td></tr><tr><td>Tegucigalpa is the capital of Honduras and its average temperature is 64.81780821917802</td></tr><tr><td>Panama City is the capital of Panama and its average temperature is 76.95479452054798</td></tr><tr><td>Paramaribo is the capital of Suriname and its average temperature is 73.36273972602744</td></tr><tr><td>Caracas is the capital of Venezuela and its average temperature is 80.14794520547945</td></tr><tr><td>Paramaribo is the capital of Suriname and its average temperature is -23.654644808743182</td></tr><tr><td>Caracas is the capital of Venezuela and its average temperature is 82.11205479452057</td></tr><tr><td>Tegucigalpa is the capital of Honduras and its average temperature is 70.26657534246573</td></tr><tr><td>Panama City is the capital of Panama and its average temperature is 81.26038251366126</td></tr><tr><td>Santo Domingo is the capital of Dominican Republic and its average temperature is 71.74808743169397</td></tr><tr><td>Managua is the capital of Nicaragua and its average temperature is 80.81726027397266</td></tr><tr><td>Managua is the capital of Nicaragua and its average temperature is 79.15835616438358</td></tr><tr><td>Panama City is the capital of Panama and its average temperature is 79.37232876712329</td></tr><tr><td>Panama City is the capital of Panama and its average temperature is 78.06092896174863</td></tr><tr><td>Tegucigalpa is the capital of Honduras and its average temperature is 63.99999999999996</td></tr><tr><td>Guatemala City is the capital of Guatemala and its average temperature is 68.16417910447763</td></tr><tr><td>Santo Domingo is the capital of Dominican Republic and its average temperature is 74.39369863013694</td></tr><tr><td>Panama City is the capital of Panama and its average temperature is 81.89402985074626</td></tr><tr><td>Santo Domingo is the capital of Dominican Republic and its average temperature is 74.76054794520547</td></tr><tr><td>Tegucigalpa is the capital of Honduras and its average temperature is 67.97753424657537</td></tr><tr><td>Lima is the capital of Peru and its average temperature is 68.47295081967206</td></tr><tr><td>Havana is the capital of Cuba and its average temperature is 74.42739726027399</td></tr><tr><td>Tegucigalpa is the capital of Honduras and its average temperature is 72.16393442622949</td></tr><tr><td>Havana is the capital of Cuba and its average temperature is 75.60356164383565</td></tr><tr><td>Lima is the capital of Peru and its average temperature is 66.5786885245902</td></tr><tr><td>Caracas is the capital of Venezuela and its average temperature is 81.48087431693988</td></tr><tr><td>Caracas is the capital of Venezuela and its average temperature is 70.99835616438355</td></tr><tr><td>Havana is the capital of Cuba and its average temperature is 75.05109289617485</td></tr><tr><td>Santo Domingo is the capital of Dominican Republic and its average temperature is 74.73551912568307</td></tr><tr><td>Lima is the capital of Peru and its average temperature is 64.98273972602735</td></tr><tr><td>Guatemala City is the capital of Guatemala and its average temperature is 65.6978142076502</td></tr><tr><td>Georgetown is the capital of Guyana and its average temperature is 46.002191780821896</td></tr><tr><td>Tegucigalpa is the capital of Honduras and its average temperature is 66.59315068493147</td></tr><tr><td>Lima is the capital of Peru and its average temperature is 67.07890410958902</td></tr><tr><td>Caracas is the capital of Venezuela and its average temperature is 72.614794520548</td></tr><tr><td>Lima is the capital of Peru and its average temperature is 66.15643835616444</td></tr><tr><td>Paramaribo is the capital of Suriname and its average temperature is -19.69835616438356</td></tr><tr><td>Guatemala City is the capital of Guatemala and its average temperature is 66.37103825136612</td></tr><tr><td>Tegucigalpa is the capital of Honduras and its average temperature is 69.7810958904109</td></tr><tr><td>Panama City is the capital of Panama and its average temperature is 80.17260273972605</td></tr><tr><td>Lima is the capital of Peru and its average temperature is 64.37726027397258</td></tr><tr><td>Tegucigalpa is the capital of Honduras and its average temperature is 71.04328767123289</td></tr><tr><td>Lima is the capital of Peru and its average temperature is 66.56803278688523</td></tr><tr><td>Caracas is the capital of Venezuela and its average temperature is 81.12684931506847</td></tr><tr><td>Santo Domingo is the capital of Dominican Republic and its average temperature is 72.76684931506846</td></tr><tr><td>Guatemala City is the capital of Guatemala and its average temperature is 63.587671232876744</td></tr><tr><td>Santo Domingo is the capital of Dominican Republic and its average temperature is 79.12876712328769</td></tr><tr><td>Paramaribo is the capital of Suriname and its average temperature is 75.21315068493152</td></tr><tr><td>Guatemala City is the capital of Guatemala and its average temperature is 65.89315068493154</td></tr><tr><td>Georgetown is the capital of Guyana and its average temperature is 13.200547945205484</td></tr><tr><td>Havana is the capital of Cuba and its average temperature is 75.2390977443609</td></tr><tr><td>Managua is the capital of Nicaragua and its average temperature is 80.41917808219182</td></tr><tr><td>Caracas is the capital of Venezuela and its average temperature is 81.23780821917806</td></tr><tr><td>Santo Domingo is the capital of Dominican Republic and its average temperature is 77.94821917808216</td></tr><tr><td>Tegucigalpa is the capital of Honduras and its average temperature is 71.36986301369873</td></tr><tr><td>Havana is the capital of Cuba and its average temperature is 74.04590163934421</td></tr><tr><td>Caracas is the capital of Venezuela and its average temperature is 78.7229508196721</td></tr><tr><td>Managua is the capital of Nicaragua and its average temperature is 81.91863013698625</td></tr><tr><td>Caracas is the capital of Venezuela and its average temperature is 77.98136986301365</td></tr><tr><td>Caracas is the capital of Venezuela and its average temperature is 79.98224043715857</td></tr><tr><td>Tegucigalpa is the capital of Honduras and its average temperature is 71.54630136986297</td></tr><tr><td>Managua is the capital of Nicaragua and its average temperature is 78.81589041095884</td></tr><tr><td>Managua is the capital of Nicaragua and its average temperature is 81.55452054794524</td></tr><tr><td>Santo Domingo is the capital of Dominican Republic and its average temperature is 76.71506849315071</td></tr><tr><td>Santo Domingo is the capital of Dominican Republic and its average temperature is 76.83945205479452</td></tr><tr><td>Managua is the capital of Nicaragua and its average temperature is 80.73961748633879</td></tr><tr><td>Havana is the capital of Cuba and its average temperature is 75.97205479452047</td></tr><tr><td>Guatemala City is the capital of Guatemala and its average temperature is 65.66939890710377</td></tr><tr><td>Paramaribo is the capital of Suriname and its average temperature is 27.72082191780822</td></tr></tbody></table></div>"
      ]
     },
     "metadata": {
      "application/vnd.databricks.v1+output": {
       "addedWidgets": {},
       "aggData": [],
       "aggError": "",
       "aggOverflow": false,
       "aggSchema": [],
       "aggSeriesLimitReached": false,
       "aggType": "",
       "arguments": {},
       "columnCustomDisplayInfos": {},
       "data": [
        [
         "Cairo is the capital of Egypt and its average temperature is 71.87999999999997"
        ],
        [
         "Vientiane is the capital of Laos and its average temperature is 80.4443835616438"
        ],
        [
         "Nouakchott is the capital of Mauritania and its average temperature is 77.83442622950817"
        ],
        [
         "Dakar is the capital of Senegal and its average temperature is 75.94383561643835"
        ],
        [
         "Pyongyang is the capital of North Korea and its average temperature is 51.5325136612022"
        ],
        [
         "Nairobi is the capital of Kenya and its average temperature is 55.10081967213115"
        ],
        [
         "Freetown is the capital of Sierra Leone and its average temperature is 3.239726027397261"
        ],
        [
         "Nouakchott is the capital of Mauritania and its average temperature is 74.31452054794518"
        ],
        [
         "Beijing is the capital of China and its average temperature is 53.6983606557377"
        ],
        [
         "Bissau is the capital of Guinea-Bissau and its average temperature is 73.53205479452053"
        ],
        [
         "Maputo is the capital of Mozambique and its average temperature is 69.2454794520549"
        ],
        [
         "Nairobi is the capital of Kenya and its average temperature is 8.015890410958905"
        ],
        [
         "Nouakchott is the capital of Mauritania and its average temperature is 78.93315068493155"
        ],
        [
         "Vientiane is the capital of Laos and its average temperature is 79.58688524590168"
        ],
        [
         "Nairobi is the capital of Kenya and its average temperature is 54.132602739726025"
        ],
        [
         "Nairobi is the capital of Kenya and its average temperature is -42.434699453551914"
        ],
        [
         "Lilongwe is the capital of Malawi and its average temperature is -39.43863013698636"
        ],
        [
         "Windhoek is the capital of Namibia and its average temperature is 64.91041095890408"
        ],
        [
         "Dakar is the capital of Senegal and its average temperature is 76.17431693989074"
        ],
        [
         "Bissau is the capital of Guinea-Bissau and its average temperature is 77.74794520547954"
        ],
        [
         "Windhoek is the capital of Namibia and its average temperature is 42.141917808219155"
        ],
        [
         "Maputo is the capital of Mozambique and its average temperature is 69.7419178082192"
        ],
        [
         "Algiers is the capital of Algeria and its average temperature is 62.347671232876685"
        ],
        [
         "Libreville is the capital of Gabon and its average temperature is 78.33251366120213"
        ],
        [
         "Maputo is the capital of Mozambique and its average temperature is 46.265846994535444"
        ],
        [
         "Vientiane is the capital of Laos and its average temperature is 80.62158469945359"
        ],
        [
         "Dakar is the capital of Senegal and its average temperature is 76.56438356164385"
        ],
        [
         "Antananarivo is the capital of Madagascar and its average temperature is 65.8358904109589"
        ],
        [
         "Windhoek is the capital of Namibia and its average temperature is 64.85327868852458"
        ],
        [
         "Dakar is the capital of Senegal and its average temperature is 76.36202185792351"
        ],
        [
         "Lusaka is the capital of Zambia and its average temperature is 66.27178082191777"
        ],
        [
         "Tokyo is the capital of Japan and its average temperature is 62.665846994535464"
        ],
        [
         "Algiers is the capital of Algeria and its average temperature is 64.08743169398907"
        ],
        [
         "Addis Ababa is the capital of Ethiopia and its average temperature is 23.27698630136985"
        ],
        [
         "Nairobi is the capital of Kenya and its average temperature is 51.21287671232875"
        ],
        [
         "Beijing is the capital of China and its average temperature is 55.310136986301345"
        ],
        [
         "Bissau is the capital of Guinea-Bissau and its average temperature is 71.698087431694"
        ],
        [
         "Tunis is the capital of Tunisia and its average temperature is 65.05178082191782"
        ],
        [
         "Tunis is the capital of Tunisia and its average temperature is 66.50846994535519"
        ],
        [
         "Algiers is the capital of Algeria and its average temperature is 64.99589041095896"
        ],
        [
         "Antananarivo is the capital of Madagascar and its average temperature is 66.6101369863014"
        ],
        [
         "Tokyo is the capital of Japan and its average temperature is 60.659726027397205"
        ],
        [
         "Lilongwe is the capital of Malawi and its average temperature is -99.0"
        ],
        [
         "Dhaka is the capital of Bangladesh and its average temperature is 34.58931506849317"
        ],
        [
         "Tokyo is the capital of Japan and its average temperature is 61.57704918032787"
        ],
        [
         "Pyongyang is the capital of North Korea and its average temperature is 52.3835616438356"
        ],
        [
         "Conakry is the capital of Guinea and its average temperature is 78.4320547945206"
        ],
        [
         "Libreville is the capital of Gabon and its average temperature is 80.13753424657536"
        ],
        [
         "Libreville is the capital of Gabon and its average temperature is 78.26301369863017"
        ],
        [
         "Bissau is the capital of Guinea-Bissau and its average temperature is -99.0"
        ],
        [
         "Windhoek is the capital of Namibia and its average temperature is 66.76794520547948"
        ],
        [
         "Banjul is the capital of Gambia and its average temperature is 78.99808743169402"
        ],
        [
         "Nouakchott is the capital of Mauritania and its average temperature is 74.12520547945205"
        ],
        [
         "Kuala Lumpur is the capital of Malaysia and its average temperature is 79.80136612021853"
        ],
        [
         "Kuala Lumpur is the capital of Malaysia and its average temperature is 81.98191780821918"
        ],
        [
         "Cairo is the capital of Egypt and its average temperature is 73.32191780821915"
        ],
        [
         "Nairobi is the capital of Kenya and its average temperature is 67.72089552238808"
        ],
        [
         "Kampala is the capital of Uganda and its average temperature is 30.586575342465775"
        ],
        [
         "Dhaka is the capital of Bangladesh and its average temperature is 40.75260273972604"
        ],
        [
         "Bangui is the capital of Central African Republic and its average temperature is 77.34016393442619"
        ],
        [
         "Kampala is the capital of Uganda and its average temperature is 72.87808219178083"
        ],
        [
         "Algiers is the capital of Algeria and its average temperature is 62.18082191780824"
        ],
        [
         "Nairobi is the capital of Kenya and its average temperature is 43.98"
        ],
        [
         "Windhoek is the capital of Namibia and its average temperature is 68.68493150684928"
        ],
        [
         "Kampala is the capital of Uganda and its average temperature is 39.948493150684946"
        ],
        [
         "Lusaka is the capital of Zambia and its average temperature is 65.01174863387982"
        ],
        [
         "Kuala Lumpur is the capital of Malaysia and its average temperature is 82.33534246575341"
        ],
        [
         "Addis Ababa is the capital of Ethiopia and its average temperature is 55.12410958904113"
        ],
        [
         "Tunis is the capital of Tunisia and its average temperature is 66.82876712328766"
        ],
        [
         "Bangui is the capital of Central African Republic and its average temperature is 76.05178082191783"
        ],
        [
         "Cairo is the capital of Egypt and its average temperature is 70.63095890410956"
        ],
        [
         "Nouakchott is the capital of Mauritania and its average temperature is 74.6877049180328"
        ],
        [
         "Dhaka is the capital of Bangladesh and its average temperature is -19.79098360655736"
        ],
        [
         "Tokyo is the capital of Japan and its average temperature is 61.625205479452035"
        ],
        [
         "Algiers is the capital of Algeria and its average temperature is 62.29698630136982"
        ],
        [
         "Bangui is the capital of Central African Republic and its average temperature is 62.85260273972601"
        ],
        [
         "Libreville is the capital of Gabon and its average temperature is 63.71092896174868"
        ],
        [
         "Antananarivo is the capital of Madagascar and its average temperature is 66.20657534246575"
        ],
        [
         "Windhoek is the capital of Namibia and its average temperature is 64.47459016393441"
        ],
        [
         "Vientiane is the capital of Laos and its average temperature is 80.73643835616444"
        ],
        [
         "Libreville is the capital of Gabon and its average temperature is 78.99672131147537"
        ],
        [
         "Windhoek is the capital of Namibia and its average temperature is 66.9254098360656"
        ],
        [
         "Conakry is the capital of Guinea and its average temperature is 63.526229508196714"
        ],
        [
         "Windhoek is the capital of Namibia and its average temperature is 62.9731506849315"
        ],
        [
         "Dakar is the capital of Senegal and its average temperature is 76.58082191780818"
        ],
        [
         "Tunis is the capital of Tunisia and its average temperature is 67.49260273972604"
        ],
        [
         "Jakarta is the capital of Indonesia and its average temperature is -66.67267759562841"
        ],
        [
         "Tokyo is the capital of Japan and its average temperature is 61.79917808219173"
        ],
        [
         "Pyongyang is the capital of North Korea and its average temperature is 34.47753424657533"
        ],
        [
         "Banjul is the capital of Gambia and its average temperature is 79.41716417910446"
        ],
        [
         "Kampala is the capital of Uganda and its average temperature is 69.8309589041096"
        ],
        [
         "Bujumbura is the capital of Burundi and its average temperature is -77.40819672131148"
        ],
        [
         "Addis Ababa is the capital of Ethiopia and its average temperature is -48.32219178082191"
        ],
        [
         "Banjul is the capital of Gambia and its average temperature is 77.82191780821923"
        ],
        [
         "Bishkek is the capital of Kyrgyzstan and its average temperature is 54.153698630137"
        ],
        [
         "Bangui is the capital of Central African Republic and its average temperature is 81.41343283582091"
        ],
        [
         "Banjul is the capital of Gambia and its average temperature is 63.83196721311479"
        ],
        [
         "Kampala is the capital of Uganda and its average temperature is 64.34821917808216"
        ],
        [
         "Kampala is the capital of Uganda and its average temperature is 54.38497267759564"
        ],
        [
         "Algiers is the capital of Algeria and its average temperature is 63.70465753424658"
        ],
        [
         "Cairo is the capital of Egypt and its average temperature is 75.51150684931515"
        ],
        [
         "Tunis is the capital of Tunisia and its average temperature is 67.30219178082193"
        ],
        [
         "Addis Ababa is the capital of Ethiopia and its average temperature is -1.9795081967213164"
        ],
        [
         "Tunis is the capital of Tunisia and its average temperature is 67.81671232876712"
        ],
        [
         "Rabat is the capital of Morocco and its average temperature is 62.972602739726085"
        ],
        [
         "Tokyo is the capital of Japan and its average temperature is 61.61452054794516"
        ],
        [
         "Kuala Lumpur is the capital of Malaysia and its average temperature is 80.7882191780822"
        ],
        [
         "Lilongwe is the capital of Malawi and its average temperature is 51.22136986301373"
        ],
        [
         "Jakarta is the capital of Indonesia and its average temperature is 83.18345864661653"
        ],
        [
         "Bujumbura is the capital of Burundi and its average temperature is -99.0"
        ],
        [
         "Rabat is the capital of Morocco and its average temperature is 64.20931506849317"
        ],
        [
         "Freetown is the capital of Sierra Leone and its average temperature is -99.0"
        ],
        [
         "Kampala is the capital of Uganda and its average temperature is 70.86475409836069"
        ],
        [
         "Beijing is the capital of China and its average temperature is 54.14356164383562"
        ],
        [
         "Kuala Lumpur is the capital of Malaysia and its average temperature is 82.97950819672128"
        ],
        [
         "Addis Ababa is the capital of Ethiopia and its average temperature is 58.07568306010927"
        ],
        [
         "Maputo is the capital of Mozambique and its average temperature is 72.91147540983607"
        ],
        [
         "Lusaka is the capital of Zambia and its average temperature is 65.45260273972602"
        ],
        [
         "Lusaka is the capital of Zambia and its average temperature is 62.68224043715847"
        ],
        [
         "Windhoek is the capital of Namibia and its average temperature is 64.60983606557375"
        ],
        [
         "Cairo is the capital of Egypt and its average temperature is 71.86027397260276"
        ],
        [
         "Nouakchott is the capital of Mauritania and its average temperature is 76.85890410958905"
        ],
        [
         "Dhaka is the capital of Bangladesh and its average temperature is -4.695355191256832"
        ],
        [
         "Lusaka is the capital of Zambia and its average temperature is 55.88579234972675"
        ],
        [
         "Kuala Lumpur is the capital of Malaysia and its average temperature is 79.53424657534245"
        ],
        [
         "Libreville is the capital of Gabon and its average temperature is 80.36630136986297"
        ],
        [
         "Tunis is the capital of Tunisia and its average temperature is 67.13698630136986"
        ],
        [
         "Tunis is the capital of Tunisia and its average temperature is 67.28879781420764"
        ],
        [
         "Windhoek is the capital of Namibia and its average temperature is 72.19850746268656"
        ],
        [
         "Lusaka is the capital of Zambia and its average temperature is 68.27424657534249"
        ],
        [
         "Nairobi is the capital of Kenya and its average temperature is 60.38246575342463"
        ],
        [
         "Maputo is the capital of Mozambique and its average temperature is 69.38602739726025"
        ],
        [
         "Dhaka is the capital of Bangladesh and its average temperature is 47.048181818181774"
        ],
        [
         "Bishkek is the capital of Kyrgyzstan and its average temperature is 52.36994535519127"
        ],
        [
         "Kuala Lumpur is the capital of Malaysia and its average temperature is 83.42794520547947"
        ],
        [
         "Bujumbura is the capital of Burundi and its average temperature is -8.80250000000001"
        ],
        [
         "Algiers is the capital of Algeria and its average temperature is 63.51612021857921"
        ],
        [
         "Dakar is the capital of Senegal and its average temperature is 75.57397260273967"
        ],
        [
         "Beijing is the capital of China and its average temperature is 56.32438356164386"
        ],
        [
         "Banjul is the capital of Gambia and its average temperature is 78.74191780821917"
        ],
        [
         "Conakry is the capital of Guinea and its average temperature is 82.5105263157895"
        ],
        [
         "Nairobi is the capital of Kenya and its average temperature is 54.690958904109564"
        ],
        [
         "Maputo is the capital of Mozambique and its average temperature is 65.21967213114756"
        ],
        [
         "Kampala is the capital of Uganda and its average temperature is 72.39043715846994"
        ],
        [
         "Kuala Lumpur is the capital of Malaysia and its average temperature is 81.74617486338795"
        ],
        [
         "Libreville is the capital of Gabon and its average temperature is 77.6709589041096"
        ],
        [
         "Antananarivo is the capital of Madagascar and its average temperature is 66.2049315068493"
        ],
        [
         "Banjul is the capital of Gambia and its average temperature is 58.57841530054645"
        ],
        [
         "Maputo is the capital of Mozambique and its average temperature is 64.54684931506848"
        ],
        [
         "Kampala is the capital of Uganda and its average temperature is -45.04180327868849"
        ],
        [
         "Bishkek is the capital of Kyrgyzstan and its average temperature is 52.65561643835621"
        ],
        [
         "Kuala Lumpur is the capital of Malaysia and its average temperature is 81.46775956284155"
        ],
        [
         "Bujumbura is the capital of Burundi and its average temperature is -50.64876712328761"
        ],
        [
         "Conakry is the capital of Guinea and its average temperature is 38.73497267759564"
        ],
        [
         "Tunis is the capital of Tunisia and its average temperature is 67.51260273972602"
        ],
        [
         "Beijing is the capital of China and its average temperature is 55.92027397260275"
        ],
        [
         "Bangui is the capital of Central African Republic and its average temperature is 79.36164383561645"
        ],
        [
         "Kampala is the capital of Uganda and its average temperature is 35.456010928961746"
        ],
        [
         "Cairo is the capital of Egypt and its average temperature is 72.58520547945211"
        ],
        [
         "Tokyo is the capital of Japan and its average temperature is 61.12383561643826"
        ],
        [
         "Kuala Lumpur is the capital of Malaysia and its average temperature is 80.42622950819667"
        ],
        [
         "Pyongyang is the capital of North Korea and its average temperature is 49.63397260273972"
        ],
        [
         "Lilongwe is the capital of Malawi and its average temperature is -99.0"
        ],
        [
         "Bishkek is the capital of Kyrgyzstan and its average temperature is 53.82767123287671"
        ],
        [
         "Maputo is the capital of Mozambique and its average temperature is 57.940000000000005"
        ],
        [
         "Vientiane is the capital of Laos and its average temperature is 78.41452054794519"
        ],
        [
         "Bangui is the capital of Central African Republic and its average temperature is 68.13808219178084"
        ],
        [
         "Tunis is the capital of Tunisia and its average temperature is 66.46721311475405"
        ],
        [
         "Bangui is the capital of Central African Republic and its average temperature is 75.35698630136991"
        ],
        [
         "Cairo is the capital of Egypt and its average temperature is 73.64739726027393"
        ],
        [
         "Bishkek is the capital of Kyrgyzstan and its average temperature is 54.89643835616442"
        ],
        [
         "Pyongyang is the capital of North Korea and its average temperature is 52.25452054794521"
        ],
        [
         "Bangui is the capital of Central African Republic and its average temperature is 68.64672131147542"
        ],
        [
         "Nouakchott is the capital of Mauritania and its average temperature is 72.43616438356169"
        ],
        [
         "Maputo is the capital of Mozambique and its average temperature is 73.01616438356163"
        ],
        [
         "Dakar is the capital of Senegal and its average temperature is 75.17671232876705"
        ],
        [
         "Tokyo is the capital of Japan and its average temperature is 59.35369863013701"
        ],
        [
         "Vientiane is the capital of Laos and its average temperature is 80.7754098360655"
        ],
        [
         "Lilongwe is the capital of Malawi and its average temperature is -87.35808219178082"
        ],
        [
         "Maputo is the capital of Mozambique and its average temperature is -23.073698630137006"
        ],
        [
         "Maputo is the capital of Mozambique and its average temperature is 77.71865671641794"
        ],
        [
         "Rabat is the capital of Morocco and its average temperature is 61.643989071038284"
        ],
        [
         "Maputo is the capital of Mozambique and its average temperature is 73.71393442622957"
        ],
        [
         "Freetown is the capital of Sierra Leone and its average temperature is 41.46273972602741"
        ],
        [
         "Pyongyang is the capital of North Korea and its average temperature is 50.95054644808742"
        ],
        [
         "Bujumbura is the capital of Burundi and its average temperature is -98.50602739726027"
        ],
        [
         "Beijing is the capital of China and its average temperature is 56.39753424657534"
        ],
        [
         "Jakarta is the capital of Indonesia and its average temperature is 82.98575342465755"
        ],
        [
         "Bangui is the capital of Central African Republic and its average temperature is 74.44207650273223"
        ],
        [
         "Rabat is the capital of Morocco and its average temperature is 64.0693150684932"
        ],
        [
         "Beijing is the capital of China and its average temperature is 44.68358208955224"
        ],
        [
         "Libreville is the capital of Gabon and its average temperature is 75.94438356164382"
        ],
        [
         "Banjul is the capital of Gambia and its average temperature is 59.051506849315004"
        ],
        [
         "Dakar is the capital of Senegal and its average temperature is 76.93041095890412"
        ],
        [
         "Vientiane is the capital of Laos and its average temperature is 80.24712328767123"
        ],
        [
         "Dhaka is the capital of Bangladesh and its average temperature is -1.0745205479452054"
        ],
        [
         "Jakarta is the capital of Indonesia and its average temperature is 83.06246575342472"
        ],
        [
         "Pyongyang is the capital of North Korea and its average temperature is 34.877808219178064"
        ],
        [
         "Cairo is the capital of Egypt and its average temperature is 72.6803278688525"
        ],
        [
         "Cairo is the capital of Egypt and its average temperature is 72.03142076502735"
        ],
        [
         "Addis Ababa is the capital of Ethiopia and its average temperature is 50.28142076502729"
        ],
        [
         "Freetown is the capital of Sierra Leone and its average temperature is -99.0"
        ],
        [
         "Tunis is the capital of Tunisia and its average temperature is 67.15178082191777"
        ],
        [
         "Bishkek is the capital of Kyrgyzstan and its average temperature is 53.78958904109593"
        ],
        [
         "Pyongyang is the capital of North Korea and its average temperature is 51.050410958904145"
        ],
        [
         "Antananarivo is the capital of Madagascar and its average temperature is 69.439552238806"
        ],
        [
         "Dakar is the capital of Senegal and its average temperature is 74.16065573770499"
        ],
        [
         "Cairo is the capital of Egypt and its average temperature is 74.0241095890411"
        ],
        [
         "Conakry is the capital of Guinea and its average temperature is 55.4178082191781"
        ],
        [
         "Maputo is the capital of Mozambique and its average temperature is 72.40630136986302"
        ],
        [
         "Bishkek is the capital of Kyrgyzstan and its average temperature is 54.21612021857921"
        ],
        [
         "Lusaka is the capital of Zambia and its average temperature is 64.2517808219178"
        ],
        [
         "Bangui is the capital of Central African Republic and its average temperature is 70.40027397260276"
        ],
        [
         "Banjul is the capital of Gambia and its average temperature is 41.95437158469942"
        ],
        [
         "Tokyo is the capital of Japan and its average temperature is 52.78955223880599"
        ],
        [
         "Pyongyang is the capital of North Korea and its average temperature is 45.046575342465765"
        ],
        [
         "Algiers is the capital of Algeria and its average temperature is 65.04273972602736"
        ],
        [
         "Rabat is the capital of Morocco and its average temperature is 63.39672131147545"
        ],
        [
         "Vientiane is the capital of Laos and its average temperature is 78.44328767123285"
        ],
        [
         "Bujumbura is the capital of Burundi and its average temperature is -99.0"
        ],
        [
         "Dakar is the capital of Senegal and its average temperature is 75.64316939890706"
        ],
        [
         "Bishkek is the capital of Kyrgyzstan and its average temperature is 53.92595628415296"
        ],
        [
         "Algiers is the capital of Algeria and its average temperature is 64.66986301369867"
        ],
        [
         "Dakar is the capital of Senegal and its average temperature is 72.58328767123291"
        ],
        [
         "Addis Ababa is the capital of Ethiopia and its average temperature is -76.80819672131149"
        ],
        [
         "Beijing is the capital of China and its average temperature is 54.234426229508166"
        ],
        [
         "Jakarta is the capital of Indonesia and its average temperature is 30.722191780821923"
        ],
        [
         "Tokyo is the capital of Japan and its average temperature is 62.229041095890445"
        ],
        [
         "Kuala Lumpur is the capital of Malaysia and its average temperature is 81.65917808219181"
        ],
        [
         "Bangui is the capital of Central African Republic and its average temperature is 73.27890410958905"
        ],
        [
         "Addis Ababa is the capital of Ethiopia and its average temperature is -12.593424657534227"
        ],
        [
         "Freetown is the capital of Sierra Leone and its average temperature is 67.88191780821923"
        ],
        [
         "Beijing is the capital of China and its average temperature is 53.4665753424658"
        ],
        [
         "Jakarta is the capital of Indonesia and its average temperature is -74.42219178082193"
        ],
        [
         "Maputo is the capital of Mozambique and its average temperature is 66.59972602739724"
        ],
        [
         "Windhoek is the capital of Namibia and its average temperature is 48.36010928961748"
        ],
        [
         "Vientiane is the capital of Laos and its average temperature is 78.01338797814199"
        ],
        [
         "Cairo is the capital of Egypt and its average temperature is 72.6860273972603"
        ],
        [
         "Libreville is the capital of Gabon and its average temperature is 79.34520547945203"
        ],
        [
         "Bissau is the capital of Guinea-Bissau and its average temperature is 75.62931506849316"
        ],
        [
         "Rabat is the capital of Morocco and its average temperature is 61.527397260274036"
        ],
        [
         "Jakarta is the capital of Indonesia and its average temperature is 73.18797814207655"
        ],
        [
         "Algiers is the capital of Algeria and its average temperature is 64.29043715846997"
        ],
        [
         "Nouakchott is the capital of Mauritania and its average temperature is 77.13972602739732"
        ],
        [
         "Tunis is the capital of Tunisia and its average temperature is 66.2350684931507"
        ],
        [
         "Beijing is the capital of China and its average temperature is 56.563287671232885"
        ],
        [
         "Algiers is the capital of Algeria and its average temperature is 64.25972602739726"
        ],
        [
         "Algiers is the capital of Algeria and its average temperature is 64.96082191780816"
        ],
        [
         "Conakry is the capital of Guinea and its average temperature is 77.63780821917813"
        ],
        [
         "Beijing is the capital of China and its average temperature is 54.77431693989073"
        ],
        [
         "Beijing is the capital of China and its average temperature is 54.46"
        ],
        [
         "Bishkek is the capital of Kyrgyzstan and its average temperature is 54.137260273972586"
        ],
        [
         "Bangui is the capital of Central African Republic and its average temperature is 70.75917808219178"
        ],
        [
         "Conakry is the capital of Guinea and its average temperature is -11.979508196721325"
        ],
        [
         "Lusaka is the capital of Zambia and its average temperature is 68.36448087431695"
        ],
        [
         "Cairo is the capital of Egypt and its average temperature is 70.77185792349732"
        ],
        [
         "Bissau is the capital of Guinea-Bissau and its average temperature is -99.0"
        ],
        [
         "Beijing is the capital of China and its average temperature is 54.78465753424655"
        ],
        [
         "Bangui is the capital of Central African Republic and its average temperature is 71.9717808219178"
        ],
        [
         "Tunis is the capital of Tunisia and its average temperature is 66.88109589041098"
        ],
        [
         "Jakarta is the capital of Indonesia and its average temperature is 72.7731506849315"
        ],
        [
         "Antananarivo is the capital of Madagascar and its average temperature is 64.19808219178086"
        ],
        [
         "Bangui is the capital of Central African Republic and its average temperature is 72.6843835616438"
        ],
        [
         "Bissau is the capital of Guinea-Bissau and its average temperature is 78.57095890410957"
        ],
        [
         "Conakry is the capital of Guinea and its average temperature is 78.57369863013702"
        ],
        [
         "Rabat is the capital of Morocco and its average temperature is 62.86092896174871"
        ],
        [
         "Tunis is the capital of Tunisia and its average temperature is 67.02301369863012"
        ],
        [
         "Cairo is the capital of Egypt and its average temperature is 72.73726027397261"
        ],
        [
         "Addis Ababa is the capital of Ethiopia and its average temperature is 11.768493150684929"
        ],
        [
         "Conakry is the capital of Guinea and its average temperature is 48.03315068493151"
        ],
        [
         "Windhoek is the capital of Namibia and its average temperature is -0.03424657534246852"
        ],
        [
         "Kampala is the capital of Uganda and its average temperature is 66.57650273224047"
        ],
        [
         "Vientiane is the capital of Laos and its average temperature is 80.8813698630137"
        ],
        [
         "Kuala Lumpur is the capital of Malaysia and its average temperature is 80.71863013698632"
        ],
        [
         "Kuala Lumpur is the capital of Malaysia and its average temperature is 82.15315068493148"
        ],
        [
         "Maputo is the capital of Mozambique and its average temperature is 59.325956284153065"
        ],
        [
         "Freetown is the capital of Sierra Leone and its average temperature is 60.1109589041096"
        ],
        [
         "Conakry is the capital of Guinea and its average temperature is 77.74602739726033"
        ],
        [
         "Kampala is the capital of Uganda and its average temperature is -34.60767123287671"
        ],
        [
         "Lusaka is the capital of Zambia and its average temperature is 65.98191780821918"
        ],
        [
         "Tokyo is the capital of Japan and its average temperature is 62.22493150684935"
        ],
        [
         "Banjul is the capital of Gambia and its average temperature is 76.90519125683056"
        ],
        [
         "Bissau is the capital of Guinea-Bissau and its average temperature is 76.09234972677598"
        ],
        [
         "Vientiane is the capital of Laos and its average temperature is 79.9073972602739"
        ],
        [
         "Bujumbura is the capital of Burundi and its average temperature is -99.0"
        ],
        [
         "Cairo is the capital of Egypt and its average temperature is 71.77978142076502"
        ],
        [
         "Conakry is the capital of Guinea and its average temperature is 69.25136612021856"
        ],
        [
         "Antananarivo is the capital of Madagascar and its average temperature is 65.35382513661202"
        ],
        [
         "Windhoek is the capital of Namibia and its average temperature is 62.10327868852457"
        ],
        [
         "Dhaka is the capital of Bangladesh and its average temperature is 38.05397260273975"
        ],
        [
         "Pyongyang is the capital of North Korea and its average temperature is 47.916712328767126"
        ],
        [
         "Bissau is the capital of Guinea-Bissau and its average temperature is -99.0"
        ],
        [
         "Lusaka is the capital of Zambia and its average temperature is 62.46876712328768"
        ],
        [
         "Addis Ababa is the capital of Ethiopia and its average temperature is -98.10602739726026"
        ],
        [
         "Lilongwe is the capital of Malawi and its average temperature is -98.53852459016393"
        ],
        [
         "Beijing is the capital of China and its average temperature is 54.889863013698616"
        ],
        [
         "Windhoek is the capital of Namibia and its average temperature is 63.000821917808196"
        ],
        [
         "Addis Ababa is the capital of Ethiopia and its average temperature is 19.28387978142077"
        ],
        [
         "Dakar is the capital of Senegal and its average temperature is 71.65452054794521"
        ],
        [
         "Algiers is the capital of Algeria and its average temperature is 64.93041095890408"
        ],
        [
         "Banjul is the capital of Gambia and its average temperature is 57.77835616438358"
        ],
        [
         "Nouakchott is the capital of Mauritania and its average temperature is 70.25"
        ],
        [
         "Beijing is the capital of China and its average temperature is 53.943561643835594"
        ],
        [
         "Tokyo is the capital of Japan and its average temperature is 60.55452054794516"
        ],
        [
         "Tokyo is the capital of Japan and its average temperature is 61.19999999999999"
        ],
        [
         "Algiers is the capital of Algeria and its average temperature is 64.18278688524586"
        ],
        [
         "Banjul is the capital of Gambia and its average temperature is 75.35780821917805"
        ],
        [
         "Kampala is the capital of Uganda and its average temperature is 71.88328767123284"
        ],
        [
         "Lusaka is the capital of Zambia and its average temperature is 31.056164383561633"
        ],
        [
         "Jakarta is the capital of Indonesia and its average temperature is -3.5054794520547845"
        ],
        [
         "Jakarta is the capital of Indonesia and its average temperature is 82.18986301369856"
        ],
        [
         "Bissau is the capital of Guinea-Bissau and its average temperature is 81.46015037593988"
        ],
        [
         "Pyongyang is the capital of North Korea and its average temperature is 50.75972602739723"
        ],
        [
         "Bangui is the capital of Central African Republic and its average temperature is 79.10054644808746"
        ],
        [
         "Antananarivo is the capital of Madagascar and its average temperature is 65.31584699453546"
        ],
        [
         "Nouakchott is the capital of Mauritania and its average temperature is 75.68661202185791"
        ],
        [
         "Rabat is the capital of Morocco and its average temperature is 62.62868852459014"
        ],
        [
         "Windhoek is the capital of Namibia and its average temperature is 66.27205479452056"
        ],
        [
         "Libreville is the capital of Gabon and its average temperature is 79.01010928961749"
        ],
        [
         "Cairo is the capital of Egypt and its average temperature is 70.9928767123288"
        ],
        [
         "Bissau is the capital of Guinea-Bissau and its average temperature is -38.47459016393442"
        ],
        [
         "Maputo is the capital of Mozambique and its average temperature is 73.80655737704916"
        ],
        [
         "Jakarta is the capital of Indonesia and its average temperature is -77.773698630137"
        ],
        [
         "Conakry is the capital of Guinea and its average temperature is 73.52493150684933"
        ],
        [
         "Windhoek is the capital of Namibia and its average temperature is 62.47671232876711"
        ],
        [
         "Bishkek is the capital of Kyrgyzstan and its average temperature is 51.06301369863013"
        ],
        [
         "Conakry is the capital of Guinea and its average temperature is 69.18493150684931"
        ],
        [
         "Addis Ababa is the capital of Ethiopia and its average temperature is 60.44508196721313"
        ],
        [
         "Dakar is the capital of Senegal and its average temperature is 76.30136986301369"
        ],
        [
         "Banjul is the capital of Gambia and its average temperature is 77.41530054644808"
        ],
        [
         "Jakarta is the capital of Indonesia and its average temperature is -75.10109589041096"
        ],
        [
         "Vientiane is the capital of Laos and its average temperature is 81.95397260273981"
        ],
        [
         "Kampala is the capital of Uganda and its average temperature is 60.3953424657534"
        ],
        [
         "Addis Ababa is the capital of Ethiopia and its average temperature is 65.17819548872181"
        ],
        [
         "Rabat is the capital of Morocco and its average temperature is 62.47287671232877"
        ],
        [
         "Freetown is the capital of Sierra Leone and its average temperature is 71.48114754098364"
        ],
        [
         "Dakar is the capital of Senegal and its average temperature is 77.35369863013693"
        ],
        [
         "Libreville is the capital of Gabon and its average temperature is 79.62493150684925"
        ],
        [
         "Nouakchott is the capital of Mauritania and its average temperature is 75.77103825136605"
        ],
        [
         "Jakarta is the capital of Indonesia and its average temperature is 82.46821917808208"
        ],
        [
         "Conakry is the capital of Guinea and its average temperature is 47.75534246575343"
        ],
        [
         "Nairobi is the capital of Kenya and its average temperature is 42.251639344262315"
        ],
        [
         "Tunis is the capital of Tunisia and its average temperature is 66.71643835616442"
        ],
        [
         "Cairo is the capital of Egypt and its average temperature is 72.03780821917809"
        ],
        [
         "Jakarta is the capital of Indonesia and its average temperature is 80.56904109589043"
        ],
        [
         "Nairobi is the capital of Kenya and its average temperature is -92.23934426229506"
        ],
        [
         "Rabat is the capital of Morocco and its average temperature is 63.08958904109587"
        ],
        [
         "Dakar is the capital of Senegal and its average temperature is 77.87232876712325"
        ],
        [
         "Bishkek is the capital of Kyrgyzstan and its average temperature is 54.25683060109289"
        ],
        [
         "Bishkek is the capital of Kyrgyzstan and its average temperature is 52.67232876712328"
        ],
        [
         "Dakar is the capital of Senegal and its average temperature is 76.18032786885246"
        ],
        [
         "Cairo is the capital of Egypt and its average temperature is 72.27021857923499"
        ],
        [
         "Conakry is the capital of Guinea and its average temperature is 73.592602739726"
        ],
        [
         "Bissau is the capital of Guinea-Bissau and its average temperature is 73.87397260273968"
        ],
        [
         "Nairobi is the capital of Kenya and its average temperature is 67.12328767123283"
        ],
        [
         "Rabat is the capital of Morocco and its average temperature is 59.73150684931507"
        ],
        [
         "Dakar is the capital of Senegal and its average temperature is 75.7887671232876"
        ],
        [
         "Beijing is the capital of China and its average temperature is 54.263287671232874"
        ],
        [
         "Bishkek is the capital of Kyrgyzstan and its average temperature is 52.73196721311477"
        ],
        [
         "Algiers is the capital of Algeria and its average temperature is 65.19589041095887"
        ],
        [
         "Bishkek is the capital of Kyrgyzstan and its average temperature is 44.90075187969924"
        ],
        [
         "Addis Ababa is the capital of Ethiopia and its average temperature is -6.162465753424657"
        ],
        [
         "Banjul is the capital of Gambia and its average temperature is -18.72246575342466"
        ],
        [
         "Nairobi is the capital of Kenya and its average temperature is 0.9000000000000009"
        ],
        [
         "Bishkek is the capital of Kyrgyzstan and its average temperature is 52.15205479452061"
        ],
        [
         "Vientiane is the capital of Laos and its average temperature is 76.42410958904114"
        ],
        [
         "Bangui is the capital of Central African Republic and its average temperature is 79.23917808219181"
        ],
        [
         "Beijing is the capital of China and its average temperature is 54.449999999999974"
        ],
        [
         "Maputo is the capital of Mozambique and its average temperature is 69.03808219178086"
        ],
        [
         "Tunis is the capital of Tunisia and its average temperature is 65.85601092896175"
        ],
        [
         "Jakarta is the capital of Indonesia and its average temperature is -47.279234972677585"
        ],
        [
         "Bishkek is the capital of Kyrgyzstan and its average temperature is 52.423287671232856"
        ],
        [
         "Pyongyang is the capital of North Korea and its average temperature is 50.29672131147539"
        ],
        [
         "Antananarivo is the capital of Madagascar and its average temperature is 65.53671232876721"
        ],
        [
         "Antananarivo is the capital of Madagascar and its average temperature is 65.42794520547946"
        ],
        [
         "Pyongyang is the capital of North Korea and its average temperature is 28.719726027397282"
        ],
        [
         "Rabat is the capital of Morocco and its average temperature is 63.36931506849315"
        ],
        [
         "Windhoek is the capital of Namibia and its average temperature is 48.0358904109589"
        ],
        [
         "Tunis is the capital of Tunisia and its average temperature is 65.46136986301373"
        ],
        [
         "Kampala is the capital of Uganda and its average temperature is 67.06191780821916"
        ],
        [
         "Beijing is the capital of China and its average temperature is 53.15698630136992"
        ],
        [
         "Bangui is the capital of Central African Republic and its average temperature is 78.27808219178088"
        ],
        [
         "Antananarivo is the capital of Madagascar and its average temperature is 64.12273972602746"
        ],
        [
         "Antananarivo is the capital of Madagascar and its average temperature is 65.4249315068493"
        ],
        [
         "Tunis is the capital of Tunisia and its average temperature is 64.67041095890413"
        ],
        [
         "Libreville is the capital of Gabon and its average temperature is 79.43397260273974"
        ],
        [
         "Bissau is the capital of Guinea-Bissau and its average temperature is 77.52958904109589"
        ],
        [
         "Windhoek is the capital of Namibia and its average temperature is 49.45068493150687"
        ],
        [
         "Nairobi is the capital of Kenya and its average temperature is 63.225205479452086"
        ],
        [
         "Windhoek is the capital of Namibia and its average temperature is 58.9964383561644"
        ],
        [
         "Jakarta is the capital of Indonesia and its average temperature is 81.08715846994536"
        ],
        [
         "Tokyo is the capital of Japan and its average temperature is 60.187945205479465"
        ],
        [
         "Tunis is the capital of Tunisia and its average temperature is 59.53208955223882"
        ],
        [
         "Bujumbura is the capital of Burundi and its average temperature is -74.82027397260273"
        ],
        [
         "Pyongyang is the capital of North Korea and its average temperature is 40.838345864661655"
        ],
        [
         "Addis Ababa is the capital of Ethiopia and its average temperature is 38.248219178082216"
        ],
        [
         "Maputo is the capital of Mozambique and its average temperature is 69.53452054794518"
        ],
        [
         "Tokyo is the capital of Japan and its average temperature is 61.645205479452045"
        ],
        [
         "Pyongyang is the capital of North Korea and its average temperature is 49.57753424657534"
        ],
        [
         "Libreville is the capital of Gabon and its average temperature is 79.66821917808224"
        ],
        [
         "Conakry is the capital of Guinea and its average temperature is 81.92786885245899"
        ],
        [
         "Dakar is the capital of Senegal and its average temperature is 77.29178082191781"
        ],
        [
         "Bishkek is the capital of Kyrgyzstan and its average temperature is 52.75506849315074"
        ],
        [
         "Addis Ababa is the capital of Ethiopia and its average temperature is 57.472328767123344"
        ],
        [
         "Bissau is the capital of Guinea-Bissau and its average temperature is -99.0"
        ],
        [
         "Nairobi is the capital of Kenya and its average temperature is -24.772054794520557"
        ],
        [
         "Antananarivo is the capital of Madagascar and its average temperature is 64.63506849315067"
        ],
        [
         "Nouakchott is the capital of Mauritania and its average temperature is 76.81315068493157"
        ],
        [
         "Lusaka is the capital of Zambia and its average temperature is 59.502739726027436"
        ],
        [
         "Algiers is the capital of Algeria and its average temperature is 58.034328358208924"
        ],
        [
         "Rabat is the capital of Morocco and its average temperature is 63.16986301369864"
        ],
        [
         "Antananarivo is the capital of Madagascar and its average temperature is 64.46657534246579"
        ],
        [
         "Kampala is the capital of Uganda and its average temperature is 39.52767123287667"
        ],
        [
         "Rabat is the capital of Morocco and its average temperature is 61.195342465753384"
        ],
        [
         "Beijing is the capital of China and its average temperature is 55.58306010928962"
        ],
        [
         "Dakar is the capital of Senegal and its average temperature is 74.88715846994529"
        ],
        [
         "Kampala is the capital of Uganda and its average temperature is 70.49150684931506"
        ],
        [
         "Antananarivo is the capital of Madagascar and its average temperature is 63.85956284152999"
        ],
        [
         "Algiers is the capital of Algeria and its average temperature is 63.53224043715848"
        ],
        [
         "Bishkek is the capital of Kyrgyzstan and its average temperature is 53.37506849315075"
        ],
        [
         "Kuala Lumpur is the capital of Malaysia and its average temperature is 82.09262295081963"
        ],
        [
         "Beijing is the capital of China and its average temperature is 54.906301369862994"
        ],
        [
         "Cairo is the capital of Egypt and its average temperature is 71.97978142076502"
        ],
        [
         "Bishkek is the capital of Kyrgyzstan and its average temperature is 53.404918032786846"
        ],
        [
         "Addis Ababa is the capital of Ethiopia and its average temperature is 60.24109589041093"
        ],
        [
         "Banjul is the capital of Gambia and its average temperature is 68.56082191780816"
        ],
        [
         "Tokyo is the capital of Japan and its average temperature is 60.821857923497305"
        ],
        [
         "Kuala Lumpur is the capital of Malaysia and its average temperature is 83.80970149253731"
        ],
        [
         "Conakry is the capital of Guinea and its average temperature is 62.41530054644809"
        ],
        [
         "Nouakchott is the capital of Mauritania and its average temperature is 77.21315068493152"
        ],
        [
         "Banjul is the capital of Gambia and its average temperature is 23.682739726027393"
        ],
        [
         "Banjul is the capital of Gambia and its average temperature is 78.44191780821923"
        ],
        [
         "Kampala is the capital of Uganda and its average temperature is 62.42273972602744"
        ],
        [
         "Pyongyang is the capital of North Korea and its average temperature is 52.27677595628414"
        ],
        [
         "Antananarivo is the capital of Madagascar and its average temperature is 54.404098360655574"
        ],
        [
         "Banjul is the capital of Gambia and its average temperature is 78.90739726027397"
        ],
        [
         "Kuala Lumpur is the capital of Malaysia and its average temperature is 79.98109589041104"
        ],
        [
         "Libreville is the capital of Gabon and its average temperature is 77.28383561643834"
        ],
        [
         "Nouakchott is the capital of Mauritania and its average temperature is 67.12164383561647"
        ],
        [
         "Lilongwe is the capital of Malawi and its average temperature is -30.364931506849306"
        ],
        [
         "Jakarta is the capital of Indonesia and its average temperature is 81.00931506849315"
        ],
        [
         "Tokyo is the capital of Japan and its average temperature is 60.29726775956285"
        ],
        [
         "Vientiane is the capital of Laos and its average temperature is 82.05027322404366"
        ],
        [
         "Algiers is the capital of Algeria and its average temperature is 64.26821917808216"
        ],
        [
         "Addis Ababa is the capital of Ethiopia and its average temperature is 53.857650273224024"
        ],
        [
         "Maputo is the capital of Mozambique and its average temperature is 71.17534246575342"
        ],
        [
         "Vientiane is the capital of Laos and its average temperature is 80.20819672131145"
        ],
        [
         "Rabat is the capital of Morocco and its average temperature is 63.35245901639344"
        ],
        [
         "Conakry is the capital of Guinea and its average temperature is 75.43095890410957"
        ],
        [
         "Nouakchott is the capital of Mauritania and its average temperature is 77.89508196721309"
        ],
        [
         "Maputo is the capital of Mozambique and its average temperature is 73.00464480874317"
        ],
        [
         "Kampala is the capital of Uganda and its average temperature is 48.56301369863016"
        ],
        [
         "Addis Ababa is the capital of Ethiopia and its average temperature is 60.764657534246574"
        ],
        [
         "Libreville is the capital of Gabon and its average temperature is 82.79253731343283"
        ],
        [
         "Freetown is the capital of Sierra Leone and its average temperature is 54.27726027397257"
        ],
        [
         "Dakar is the capital of Senegal and its average temperature is 73.56301369863013"
        ],
        [
         "Tunis is the capital of Tunisia and its average temperature is 66.44071038251361"
        ],
        [
         "Bissau is the capital of Guinea-Bissau and its average temperature is -99.0"
        ],
        [
         "Bissau is the capital of Guinea-Bissau and its average temperature is 55.911780821917795"
        ],
        [
         "Antananarivo is the capital of Madagascar and its average temperature is 54.80081967213114"
        ],
        [
         "Bishkek is the capital of Kyrgyzstan and its average temperature is 52.842191780821885"
        ],
        [
         "Antananarivo is the capital of Madagascar and its average temperature is 66.65999999999994"
        ],
        [
         "Jakarta is the capital of Indonesia and its average temperature is 82.16912568306019"
        ],
        [
         "Vientiane is the capital of Laos and its average temperature is 80.03205479452052"
        ],
        [
         "Kuala Lumpur is the capital of Malaysia and its average temperature is 81.41534246575337"
        ],
        [
         "Libreville is the capital of Gabon and its average temperature is 77.58684931506855"
        ],
        [
         "Nairobi is the capital of Kenya and its average temperature is -57.93306010928962"
        ],
        [
         "Nouakchott is the capital of Mauritania and its average temperature is 60.956830601092946"
        ],
        [
         "Kuala Lumpur is the capital of Malaysia and its average temperature is 83.10027397260275"
        ],
        [
         "Lilongwe is the capital of Malawi and its average temperature is 60.234905660377336"
        ],
        [
         "Maputo is the capital of Mozambique and its average temperature is 71.29150684931516"
        ],
        [
         "Tokyo is the capital of Japan and its average temperature is 60.314246575342516"
        ],
        [
         "Libreville is the capital of Gabon and its average temperature is 79.26082191780824"
        ],
        [
         "Rabat is the capital of Morocco and its average temperature is 63.956164383561706"
        ],
        [
         "Rabat is the capital of Morocco and its average temperature is 62.07534246575344"
        ],
        [
         "Freetown is the capital of Sierra Leone and its average temperature is 55.84849315068492"
        ],
        [
         "Jakarta is the capital of Indonesia and its average temperature is 81.86502732240442"
        ],
        [
         "Rabat is the capital of Morocco and its average temperature is 62.81666666666663"
        ],
        [
         "Antananarivo is the capital of Madagascar and its average temperature is 64.73387978142074"
        ],
        [
         "Bangui is the capital of Central African Republic and its average temperature is 75.0632876712329"
        ],
        [
         "Banjul is the capital of Gambia and its average temperature is 73.47917808219175"
        ],
        [
         "Bissau is the capital of Guinea-Bissau and its average temperature is 81.90383561643836"
        ],
        [
         "Freetown is the capital of Sierra Leone and its average temperature is 48.33879781420764"
        ],
        [
         "Dhaka is the capital of Bangladesh and its average temperature is -1.2486338797814207"
        ],
        [
         "Tokyo is the capital of Japan and its average temperature is 60.912876712328796"
        ],
        [
         "Pyongyang is the capital of North Korea and its average temperature is 49.059016393442576"
        ],
        [
         "Kuala Lumpur is the capital of Malaysia and its average temperature is 83.06739726027394"
        ],
        [
         "Antananarivo is the capital of Madagascar and its average temperature is 64.36465753424662"
        ],
        [
         "Dhaka is the capital of Bangladesh and its average temperature is 1.7278688524590098"
        ],
        [
         "Banjul is the capital of Gambia and its average temperature is 8.26602739726028"
        ],
        [
         "Bissau is the capital of Guinea-Bissau and its average temperature is 79.44016393442628"
        ],
        [
         "Rabat is the capital of Morocco and its average temperature is 57.94253731343289"
        ],
        [
         "Freetown is the capital of Sierra Leone and its average temperature is -93.54876712328762"
        ],
        [
         "Kampala is the capital of Uganda and its average temperature is 71.4578947368421"
        ],
        [
         "Algiers is the capital of Algeria and its average temperature is 62.91342465753426"
        ],
        [
         "Bissau is the capital of Guinea-Bissau and its average temperature is 15.906557377049173"
        ],
        [
         "Lilongwe is the capital of Malawi and its average temperature is 23.962841530054675"
        ],
        [
         "Lilongwe is the capital of Malawi and its average temperature is 45.104098360655726"
        ],
        [
         "Vientiane is the capital of Laos and its average temperature is 81.5694029850746"
        ],
        [
         "Addis Ababa is the capital of Ethiopia and its average temperature is 38.22657534246578"
        ],
        [
         "Bissau is the capital of Guinea-Bissau and its average temperature is -99.0"
        ],
        [
         "Lusaka is the capital of Zambia and its average temperature is 67.90219178082191"
        ],
        [
         "Nairobi is the capital of Kenya and its average temperature is 56.633333333333404"
        ],
        [
         "Nouakchott is the capital of Mauritania and its average temperature is 76.70739726027398"
        ],
        [
         "Tokyo is the capital of Japan and its average temperature is 60.87158469945352"
        ],
        [
         "Libreville is the capital of Gabon and its average temperature is 71.46284153005458"
        ],
        [
         "Conakry is the capital of Guinea and its average temperature is 61.13068493150687"
        ],
        [
         "Beijing is the capital of China and its average temperature is 55.21748633879779"
        ],
        [
         "Libreville is the capital of Gabon and its average temperature is 78.31698630136988"
        ],
        [
         "Conakry is the capital of Guinea and its average temperature is 61.438904109589025"
        ],
        [
         "Cairo is the capital of Egypt and its average temperature is 72.32876712328766"
        ],
        [
         "Libreville is the capital of Gabon and its average temperature is 74.39315068493151"
        ],
        [
         "Tokyo is the capital of Japan and its average temperature is 61.44535519125674"
        ],
        [
         "Dakar is the capital of Senegal and its average temperature is 73.61268656716415"
        ],
        [
         "Freetown is the capital of Sierra Leone and its average temperature is 26.315342465753425"
        ],
        [
         "Pyongyang is the capital of North Korea and its average temperature is 50.684426229508226"
        ],
        [
         "Pyongyang is the capital of North Korea and its average temperature is 50.792602739726064"
        ],
        [
         "Bangui is the capital of Central African Republic and its average temperature is 73.24153005464478"
        ],
        [
         "Libreville is the capital of Gabon and its average temperature is 77.9691256830601"
        ],
        [
         "Nouakchott is the capital of Mauritania and its average temperature is 78.57698630136989"
        ],
        [
         "Nouakchott is the capital of Mauritania and its average temperature is 75.6254794520548"
        ],
        [
         "Kampala is the capital of Uganda and its average temperature is 66.44246575342464"
        ],
        [
         "Dhaka is the capital of Bangladesh and its average temperature is 11.475068493150683"
        ],
        [
         "Bishkek is the capital of Kyrgyzstan and its average temperature is 50.33616438356167"
        ],
        [
         "Vientiane is the capital of Laos and its average temperature is 80.38082191780818"
        ],
        [
         "Kuala Lumpur is the capital of Malaysia and its average temperature is 82.25808219178087"
        ],
        [
         "Pyongyang is the capital of North Korea and its average temperature is 48.50928961748635"
        ],
        [
         "Cairo is the capital of Egypt and its average temperature is 72.10767123287673"
        ],
        [
         "Jakarta is the capital of Indonesia and its average temperature is 75.072602739726"
        ],
        [
         "Jakarta is the capital of Indonesia and its average temperature is 81.78410958904102"
        ],
        [
         "Bissau is the capital of Guinea-Bissau and its average temperature is 64.4841095890411"
        ],
        [
         "Lusaka is the capital of Zambia and its average temperature is 56.945454545454545"
        ],
        [
         "Dhaka is the capital of Bangladesh and its average temperature is 7.574246575342467"
        ],
        [
         "Algiers is the capital of Algeria and its average temperature is 64.04781420765025"
        ],
        [
         "Lusaka is the capital of Zambia and its average temperature is 64.6709589041096"
        ],
        [
         "Kuala Lumpur is the capital of Malaysia and its average temperature is 81.93534246575337"
        ],
        [
         "Algiers is the capital of Algeria and its average temperature is 63.166849315068504"
        ],
        [
         "Vientiane is the capital of Laos and its average temperature is 81.41479452054793"
        ],
        [
         "Bangui is the capital of Central African Republic and its average temperature is 77.2196721311476"
        ],
        [
         "Rabat is the capital of Morocco and its average temperature is 63.72383561643836"
        ],
        [
         "Windhoek is the capital of Namibia and its average temperature is 65.51780821917806"
        ],
        [
         "Tunis is the capital of Tunisia and its average temperature is 67.11967213114758"
        ],
        [
         "Bangui is the capital of Central African Republic and its average temperature is 73.26438356164387"
        ],
        [
         "Cairo is the capital of Egypt and its average temperature is 63.63880597014926"
        ],
        [
         "Nairobi is the capital of Kenya and its average temperature is 64.67561643835617"
        ],
        [
         "Vientiane is the capital of Laos and its average temperature is 80.51178082191778"
        ],
        [
         "Rabat is the capital of Morocco and its average temperature is 61.42301369863015"
        ],
        [
         "Pyongyang is the capital of North Korea and its average temperature is 51.49534246575345"
        ],
        [
         "Conakry is the capital of Guinea and its average temperature is 60.45136612021861"
        ],
        [
         "Antananarivo is the capital of Madagascar and its average temperature is 65.41150684931506"
        ],
        [
         "Lilongwe is the capital of Malawi and its average temperature is 23.09153005464481"
        ],
        [
         "Addis Ababa is the capital of Ethiopia and its average temperature is 30.338356164383573"
        ],
        [
         "Windhoek is the capital of Namibia and its average temperature is 19.304109589041097"
        ],
        [
         "Vientiane is the capital of Laos and its average temperature is 79.23698630136978"
        ],
        [
         "Hanoi is the capital of Vietnam and its average temperature is 75.25628415300542"
        ],
        [
         "Paris is the capital of France and its average temperature is 53.58524590163939"
        ],
        [
         "Warsaw is the capital of Poland and its average temperature is 49.20547945205477"
        ],
        [
         "Helsinki is the capital of Finland and its average temperature is 41.52849315068495"
        ],
        [
         "Oslo is the capital of Norway and its average temperature is 41.175890410958914"
        ],
        [
         "Bucharest is the capital of Romania and its average temperature is 51.17424657534248"
        ],
        [
         "Bratislava is the capital of Slovakia and its average temperature is 50.71945205479452"
        ],
        [
         "Bangkok is the capital of Thailand and its average temperature is 82.64876712328766"
        ],
        [
         "Dublin is the capital of Ireland and its average temperature is 50.11863013698632"
        ],
        [
         "Dublin is the capital of Ireland and its average temperature is 48.16830601092896"
        ],
        [
         "Bucharest is the capital of Romania and its average temperature is 52.781967213114775"
        ],
        [
         "Skopje is the capital of Macedonia and its average temperature is 55.03743169398911"
        ],
        [
         "Minsk is the capital of Belarus and its average temperature is 11.465479452054783"
        ],
        [
         "Prague is the capital of Czech Republic and its average temperature is 46.626301369862986"
        ],
        [
         "Lisbon is the capital of Portugal and its average temperature is 60.471311475409784"
        ],
        [
         "Manila is the capital of Philippines and its average temperature is 83.27972602739727"
        ],
        [
         "Vienna is the capital of Austria and its average temperature is 52.93561643835609"
        ],
        [
         "Sofia is the capital of Bulgaria and its average temperature is 50.41808219178082"
        ],
        [
         "Islamabad is the capital of Pakistan and its average temperature is 70.36885245901635"
        ],
        [
         "Minsk is the capital of Belarus and its average temperature is 44.62219178082191"
        ],
        [
         "Brussels is the capital of Belgium and its average temperature is 46.91567164179104"
        ],
        [
         "Copenhagen is the capital of Denmark and its average temperature is 47.95479452054794"
        ],
        [
         "Oslo is the capital of Norway and its average temperature is 43.63415300546447"
        ],
        [
         "Warsaw is the capital of Poland and its average temperature is 48.36821917808219"
        ],
        [
         "Moscow is the capital of Russia and its average temperature is 41.05643835616438"
        ],
        [
         "Tashkent is the capital of Uzbekistan and its average temperature is 51.388059701492544"
        ],
        [
         "Tirana is the capital of Albania and its average temperature is 60.56876712328763"
        ],
        [
         "Minsk is the capital of Belarus and its average temperature is 44.71994535519125"
        ],
        [
         "Minsk is the capital of Belarus and its average temperature is 46.319999999999965"
        ],
        [
         "Singapore is the capital of Singapore and its average temperature is 81.86465753424655"
        ],
        [
         "Seoul is the capital of South Korea and its average temperature is 52.37568306010932"
        ],
        [
         "Vienna is the capital of Austria and its average temperature is 51.27945205479456"
        ],
        [
         "Paris is the capital of France and its average temperature is 53.40767123287677"
        ],
        [
         "Riga is the capital of Latvia and its average temperature is 45.970958904109594"
        ],
        [
         "Bucharest is the capital of Romania and its average temperature is 53.758469945355216"
        ],
        [
         "Copenhagen is the capital of Denmark and its average temperature is 48.409289617486294"
        ],
        [
         "Oslo is the capital of Norway and its average temperature is 41.73972602739725"
        ],
        [
         "Moscow is the capital of Russia and its average temperature is 42.47068493150683"
        ],
        [
         "Tbilisi is the capital of Georgia and its average temperature is 57.17896174863391"
        ],
        [
         "Budapest is the capital of Hungary and its average temperature is 50.0315068493151"
        ],
        [
         "Seoul is the capital of South Korea and its average temperature is 52.145205479452024"
        ],
        [
         "Hanoi is the capital of Vietnam and its average temperature is 73.17589041095886"
        ],
        [
         "Hanoi is the capital of Vietnam and its average temperature is 75.39369863013695"
        ],
        [
         "Zagreb is the capital of Croatia and its average temperature is 54.82438356164386"
        ],
        [
         "Warsaw is the capital of Poland and its average temperature is 46.95315068493153"
        ],
        [
         "Islamabad is the capital of Pakistan and its average temperature is 72.15863013698633"
        ],
        [
         "Rome is the capital of Italy and its average temperature is 60.28109589041099"
        ],
        [
         "Lisbon is the capital of Portugal and its average temperature is 59.58876712328772"
        ],
        [
         "Prague is the capital of Czech Republic and its average temperature is 47.369945355191284"
        ],
        [
         "Prague is the capital of Czech Republic and its average temperature is 48.05683060109288"
        ],
        [
         "Copenhagen is the capital of Denmark and its average temperature is 47.56939890710384"
        ],
        [
         "Helsinki is the capital of Finland and its average temperature is 40.110410958904076"
        ],
        [
         "Paris is the capital of France and its average temperature is 45.7731506849315"
        ],
        [
         "Paris is the capital of France and its average temperature is 49.32014925373133"
        ],
        [
         "Riga is the capital of Latvia and its average temperature is 43.52923497267759"
        ],
        [
         "Seoul is the capital of South Korea and its average temperature is 54.13534246575351"
        ],
        [
         "Zagreb is the capital of Croatia and its average temperature is 53.93671232876703"
        ],
        [
         "Athens is the capital of Greece and its average temperature is -29.856284153005458"
        ],
        [
         "Dublin is the capital of Ireland and its average temperature is 48.88657534246575"
        ],
        [
         "Vienna is the capital of Austria and its average temperature is 50.869672131147546"
        ],
        [
         "Brussels is the capital of Belgium and its average temperature is 52.475616438356184"
        ],
        [
         "Riga is the capital of Latvia and its average temperature is 45.72219178082192"
        ],
        [
         "Lisbon is the capital of Portugal and its average temperature is 59.29452054794525"
        ],
        [
         "Paris is the capital of France and its average temperature is 52.743013698630136"
        ],
        [
         "Paris is the capital of France and its average temperature is 52.38169398907109"
        ],
        [
         "Bucharest is the capital of Romania and its average temperature is 53.82759562841522"
        ],
        [
         "Seoul is the capital of South Korea and its average temperature is 53.32712328767123"
        ],
        [
         "Bangkok is the capital of Thailand and its average temperature is 83.73452054794524"
        ],
        [
         "Vienna is the capital of Austria and its average temperature is 50.603005464480894"
        ],
        [
         "Minsk is the capital of Belarus and its average temperature is 46.42109589041094"
        ],
        [
         "Riga is the capital of Latvia and its average temperature is 39.82686567164178"
        ],
        [
         "Warsaw is the capital of Poland and its average temperature is 48.2827397260274"
        ],
        [
         "Copenhagen is the capital of Denmark and its average temperature is 46.86493150684927"
        ],
        [
         "Prague is the capital of Czech Republic and its average temperature is 47.43879781420764"
        ],
        [
         "Paris is the capital of France and its average temperature is 55.00191780821926"
        ],
        [
         "Bangkok is the capital of Thailand and its average temperature is 82.2975409836066"
        ],
        [
         "Sofia is the capital of Bulgaria and its average temperature is 51.455616438356145"
        ],
        [
         "Zagreb is the capital of Croatia and its average temperature is 52.64849315068494"
        ],
        [
         "Copenhagen is the capital of Denmark and its average temperature is 49.47369863013699"
        ],
        [
         "Tbilisi is the capital of Georgia and its average temperature is 54.58383561643839"
        ],
        [
         "Oslo is the capital of Norway and its average temperature is 42.338251366120204"
        ],
        [
         "Seoul is the capital of South Korea and its average temperature is 51.413972602739754"
        ],
        [
         "Canberra is the capital of Australia and its average temperature is 55.04890710382511"
        ],
        [
         "Prague is the capital of Czech Republic and its average temperature is 48.76465753424658"
        ],
        [
         "Helsinki is the capital of Finland and its average temperature is 44.53606557377052"
        ],
        [
         "Oslo is the capital of Norway and its average temperature is 43.8512328767123"
        ],
        [
         "Seoul is the capital of South Korea and its average temperature is 52.728142076502735"
        ],
        [
         "Tashkent is the capital of Uzbekistan and its average temperature is 60.78633879781424"
        ],
        [
         "Sofia is the capital of Bulgaria and its average temperature is 52.861095890410965"
        ],
        [
         "Dublin is the capital of Ireland and its average temperature is 47.27205479452054"
        ],
        [
         "Helsinki is the capital of Finland and its average temperature is 42.81698630136985"
        ],
        [
         "Budapest is the capital of Hungary and its average temperature is 51.51945205479453"
        ],
        [
         "Lisbon is the capital of Portugal and its average temperature is 62.88849315068494"
        ],
        [
         "Brussels is the capital of Belgium and its average temperature is 48.835616438356155"
        ],
        [
         "Budapest is the capital of Hungary and its average temperature is 50.0997260273972"
        ],
        [
         "Rome is the capital of Italy and its average temperature is 60.5652054794521"
        ],
        [
         "Oslo is the capital of Norway and its average temperature is 37.045522388059716"
        ],
        [
         "Tirana is the capital of Albania and its average temperature is 59.935616438356156"
        ],
        [
         "Minsk is the capital of Belarus and its average temperature is 45.367123287671234"
        ],
        [
         "Tashkent is the capital of Uzbekistan and its average temperature is 58.438630136986326"
        ],
        [
         "Skopje is the capital of Macedonia and its average temperature is 53.053698630136985"
        ],
        [
         "Vienna is the capital of Austria and its average temperature is 52.75956284153006"
        ],
        [
         "Prague is the capital of Czech Republic and its average temperature is 49.08196721311477"
        ],
        [
         "Rome is the capital of Italy and its average temperature is 61.3778082191781"
        ],
        [
         "Bucharest is the capital of Romania and its average temperature is 53.27095890410961"
        ],
        [
         "Bucharest is the capital of Romania and its average temperature is 45.7410447761194"
        ],
        [
         "Tashkent is the capital of Uzbekistan and its average temperature is 59.08273972602739"
        ],
        [
         "Canberra is the capital of Australia and its average temperature is 55.90986301369865"
        ],
        [
         "Zagreb is the capital of Croatia and its average temperature is 52.23835616438351"
        ],
        [
         "Zagreb is the capital of Croatia and its average temperature is 55.572054794520554"
        ],
        [
         "Copenhagen is the capital of Denmark and its average temperature is 47.066939890710415"
        ],
        [
         "Bucharest is the capital of Romania and its average temperature is 52.78547945205481"
        ],
        [
         "Canberra is the capital of Australia and its average temperature is 55.98465753424661"
        ],
        [
         "Tirana is the capital of Albania and its average temperature is 60.413150684931466"
        ],
        [
         "Brussels is the capital of Belgium and its average temperature is 52.140273972602735"
        ],
        [
         "Brussels is the capital of Belgium and its average temperature is 51.39095890410961"
        ],
        [
         "Prague is the capital of Czech Republic and its average temperature is 48.05013698630136"
        ],
        [
         "Warsaw is the capital of Poland and its average temperature is 42.59776119402985"
        ],
        [
         "Tashkent is the capital of Uzbekistan and its average temperature is 61.3172602739726"
        ],
        [
         "Rome is the capital of Italy and its average temperature is 60.301366120218574"
        ],
        [
         "Rome is the capital of Italy and its average temperature is 61.185245901639334"
        ],
        [
         "Lisbon is the capital of Portugal and its average temperature is 60.55287671232883"
        ],
        [
         "Lisbon is the capital of Portugal and its average temperature is 63.052328767123285"
        ],
        [
         "Bratislava is the capital of Slovakia and its average temperature is 50.69424657534244"
        ],
        [
         "Seoul is the capital of South Korea and its average temperature is 53.1079452054794"
        ],
        [
         "Tirana is the capital of Albania and its average temperature is 60.89013698630136"
        ],
        [
         "Moscow is the capital of Russia and its average temperature is 42.09369863013696"
        ],
        [
         "Manila is the capital of Philippines and its average temperature is 81.82931506849319"
        ],
        [
         "Riga is the capital of Latvia and its average temperature is 45.1082191780822"
        ],
        [
         "Manila is the capital of Philippines and its average temperature is 82.05765027322398"
        ],
        [
         "Tirana is the capital of Albania and its average temperature is 60.09016393442632"
        ],
        [
         "Nicosia is the capital of Cyprus and its average temperature is 66.42958904109585"
        ],
        [
         "Lisbon is the capital of Portugal and its average temperature is 62.21917808219184"
        ],
        [
         "Bratislava is the capital of Slovakia and its average temperature is 51.80767123287674"
        ],
        [
         "Tirana is the capital of Albania and its average temperature is 10.75041095890412"
        ],
        [
         "Helsinki is the capital of Finland and its average temperature is 41.710655737704904"
        ],
        [
         "Riga is the capital of Latvia and its average temperature is 45.72732240437155"
        ],
        [
         "Riga is the capital of Latvia and its average temperature is 45.16054794520549"
        ],
        [
         "Islamabad is the capital of Pakistan and its average temperature is 72.28770491803276"
        ],
        [
         "Manila is the capital of Philippines and its average temperature is 81.32794520547945"
        ],
        [
         "Singapore is the capital of Singapore and its average temperature is 80.32438356164383"
        ],
        [
         "Hanoi is the capital of Vietnam and its average temperature is 70.75074626865674"
        ],
        [
         "Manila is the capital of Philippines and its average temperature is 83.81567164179106"
        ],
        [
         "Tbilisi is the capital of Georgia and its average temperature is 55.818356164383566"
        ],
        [
         "Sofia is the capital of Bulgaria and its average temperature is 52.65397260273972"
        ],
        [
         "Zagreb is the capital of Croatia and its average temperature is 54.45945205479454"
        ],
        [
         "Rome is the capital of Italy and its average temperature is 59.00958904109588"
        ],
        [
         "Skopje is the capital of Macedonia and its average temperature is 53.228415300546445"
        ],
        [
         "Seoul is the capital of South Korea and its average temperature is 43.53805970149256"
        ],
        [
         "Sofia is the capital of Bulgaria and its average temperature is 53.48493150684929"
        ],
        [
         "Nicosia is the capital of Cyprus and its average temperature is 67.96958904109584"
        ],
        [
         "Nicosia is the capital of Cyprus and its average temperature is 18.527049180327854"
        ],
        [
         "Lisbon is the capital of Portugal and its average temperature is 62.83068493150683"
        ],
        [
         "Minsk is the capital of Belarus and its average temperature is 44.88657534246575"
        ],
        [
         "Skopje is the capital of Macedonia and its average temperature is 54.86904109589045"
        ],
        [
         "Islamabad is the capital of Pakistan and its average temperature is 72.41666666666667"
        ],
        [
         "Seoul is the capital of South Korea and its average temperature is 53.10218579234973"
        ],
        [
         "Bangkok is the capital of Thailand and its average temperature is 79.70710382513666"
        ],
        [
         "Minsk is the capital of Belarus and its average temperature is 45.14493150684931"
        ],
        [
         "Minsk is the capital of Belarus and its average temperature is 47.444808743169396"
        ],
        [
         "Sofia is the capital of Bulgaria and its average temperature is 48.79643835616437"
        ],
        [
         "Lisbon is the capital of Portugal and its average temperature is 63.633698630136976"
        ],
        [
         "Hanoi is the capital of Vietnam and its average temperature is 75.8783561643835"
        ],
        [
         "Hanoi is the capital of Vietnam and its average temperature is 74.40657534246577"
        ],
        [
         "Islamabad is the capital of Pakistan and its average temperature is -21.031232876712334"
        ],
        [
         "Minsk is the capital of Belarus and its average temperature is 15.344109589041109"
        ],
        [
         "Skopje is the capital of Macedonia and its average temperature is 54.31506849315065"
        ],
        [
         "Brussels is the capital of Belgium and its average temperature is 50.675068493150675"
        ],
        [
         "Prague is the capital of Czech Republic and its average temperature is 47.35424657534247"
        ],
        [
         "Warsaw is the capital of Poland and its average temperature is 47.6601092896175"
        ],
        [
         "Moscow is the capital of Russia and its average temperature is 41.36821917808219"
        ],
        [
         "Tashkent is the capital of Uzbekistan and its average temperature is 62.28465753424662"
        ],
        [
         "Brussels is the capital of Belgium and its average temperature is 49.85534246575341"
        ],
        [
         "Manila is the capital of Philippines and its average temperature is 79.57287671232876"
        ],
        [
         "Helsinki is the capital of Finland and its average temperature is 41.65917808219178"
        ],
        [
         "Athens is the capital of Greece and its average temperature is 65.80218579234972"
        ],
        [
         "Bratislava is the capital of Slovakia and its average temperature is 50.97459016393443"
        ],
        [
         "Hanoi is the capital of Vietnam and its average temperature is 74.33890410958904"
        ],
        [
         "Islamabad is the capital of Pakistan and its average temperature is 64.16136986301379"
        ],
        [
         "Vienna is the capital of Austria and its average temperature is 50.302191780821964"
        ],
        [
         "Tbilisi is the capital of Georgia and its average temperature is -55.93388888888888"
        ],
        [
         "Hanoi is the capital of Vietnam and its average temperature is 74.37814207650271"
        ],
        [
         "Canberra is the capital of Australia and its average temperature is 54.41885245901637"
        ],
        [
         "Moscow is the capital of Russia and its average temperature is 40.98301369863015"
        ],
        [
         "Canberra is the capital of Australia and its average temperature is 55.107945205479425"
        ],
        [
         "Canberra is the capital of Australia and its average temperature is 56.023287671232865"
        ],
        [
         "Helsinki is the capital of Finland and its average temperature is 42.68356164383561"
        ],
        [
         "Budapest is the capital of Hungary and its average temperature is 52.22164383561643"
        ],
        [
         "Budapest is the capital of Hungary and its average temperature is 43.4082089552239"
        ],
        [
         "Dublin is the capital of Ireland and its average temperature is 49.004644808743144"
        ],
        [
         "Brussels is the capital of Belgium and its average temperature is 51.62978142076503"
        ],
        [
         "Helsinki is the capital of Finland and its average temperature is 41.353278688524625"
        ],
        [
         "Paris is the capital of France and its average temperature is 52.20821917808223"
        ],
        [
         "Athens is the capital of Greece and its average temperature is 63.395890410958934"
        ],
        [
         "Athens is the capital of Greece and its average temperature is 64.65491803278688"
        ],
        [
         "Budapest is the capital of Hungary and its average temperature is 51.44027397260275"
        ],
        [
         "Nicosia is the capital of Cyprus and its average temperature is 28.196712328767138"
        ],
        [
         "Helsinki is the capital of Finland and its average temperature is 43.63972602739723"
        ],
        [
         "Lisbon is the capital of Portugal and its average temperature is 60.51232876712328"
        ],
        [
         "Dublin is the capital of Ireland and its average temperature is 50.20904109589038"
        ],
        [
         "Riga is the capital of Latvia and its average temperature is 45.147397260274"
        ],
        [
         "Lisbon is the capital of Portugal and its average temperature is 62.293424657534246"
        ],
        [
         "Islamabad is the capital of Pakistan and its average temperature is 71.2038356164384"
        ],
        [
         "Singapore is the capital of Singapore and its average temperature is 80.6153424657535"
        ],
        [
         "Vienna is the capital of Austria and its average temperature is 51.23534246575341"
        ],
        [
         "Zagreb is the capital of Croatia and its average temperature is 52.730601092896165"
        ],
        [
         "Tashkent is the capital of Uzbekistan and its average temperature is 59.10986301369866"
        ],
        [
         "Brussels is the capital of Belgium and its average temperature is 49.9155737704918"
        ],
        [
         "Rome is the capital of Italy and its average temperature is 60.82136986301364"
        ],
        [
         "Bucharest is the capital of Romania and its average temperature is 52.03041095890415"
        ],
        [
         "Canberra is the capital of Australia and its average temperature is 55.79616438356163"
        ],
        [
         "Tirana is the capital of Albania and its average temperature is 59.91863013698633"
        ],
        [
         "Minsk is the capital of Belarus and its average temperature is 44.822950819672144"
        ],
        [
         "Moscow is the capital of Russia and its average temperature is 43.31835616438356"
        ],
        [
         "Tashkent is the capital of Uzbekistan and its average temperature is 59.355068493150654"
        ],
        [
         "Warsaw is the capital of Poland and its average temperature is 46.33561643835618"
        ],
        [
         "Tirana is the capital of Albania and its average temperature is 58.98688524590167"
        ],
        [
         "Budapest is the capital of Hungary and its average temperature is 51.13232876712327"
        ],
        [
         "Islamabad is the capital of Pakistan and its average temperature is 71.14575342465758"
        ],
        [
         "Hanoi is the capital of Vietnam and its average temperature is 73.64262295081969"
        ],
        [
         "Manila is the capital of Philippines and its average temperature is 81.9043715846994"
        ],
        [
         "Tashkent is the capital of Uzbekistan and its average temperature is 60.4649315068493"
        ],
        [
         "Tirana is the capital of Albania and its average temperature is 60.21561643835616"
        ],
        [
         "Paris is the capital of France and its average temperature is 54.33770491803271"
        ],
        [
         "Athens is the capital of Greece and its average temperature is 64.99808743169399"
        ],
        [
         "Manila is the capital of Philippines and its average temperature is 82.26301369863006"
        ],
        [
         "Bangkok is the capital of Thailand and its average temperature is 82.70739726027395"
        ],
        [
         "Tashkent is the capital of Uzbekistan and its average temperature is 60.38661202185796"
        ],
        [
         "Vienna is the capital of Austria and its average temperature is 51.42630136986303"
        ],
        [
         "Sofia is the capital of Bulgaria and its average temperature is 50.17205479452053"
        ],
        [
         "Zagreb is the capital of Croatia and its average temperature is 54.37786885245895"
        ],
        [
         "Riga is the capital of Latvia and its average temperature is 42.66"
        ],
        [
         "Warsaw is the capital of Poland and its average temperature is 47.0682191780822"
        ],
        [
         "Singapore is the capital of Singapore and its average temperature is 81.57404371584707"
        ],
        [
         "Tashkent is the capital of Uzbekistan and its average temperature is 61.55726027397264"
        ],
        [
         "Zagreb is the capital of Croatia and its average temperature is 53.21671232876718"
        ],
        [
         "Zagreb is the capital of Croatia and its average temperature is 47.549624060150386"
        ],
        [
         "Budapest is the capital of Hungary and its average temperature is 48.69672131147543"
        ],
        [
         "Warsaw is the capital of Poland and its average temperature is 47.43780821917806"
        ],
        [
         "Singapore is the capital of Singapore and its average temperature is 82.23989071038253"
        ],
        [
         "Bangkok is the capital of Thailand and its average temperature is 84.49232876712318"
        ],
        [
         "Paris is the capital of France and its average temperature is 53.43497267759561"
        ],
        [
         "Budapest is the capital of Hungary and its average temperature is 53.127049180327866"
        ],
        [
         "Riga is the capital of Latvia and its average temperature is 45.66986301369866"
        ],
        [
         "Warsaw is the capital of Poland and its average temperature is 50.17622950819669"
        ],
        [
         "Moscow is the capital of Russia and its average temperature is 42.826301369863"
        ],
        [
         "Minsk is the capital of Belarus and its average temperature is 46.17513661202185"
        ],
        [
         "Budapest is the capital of Hungary and its average temperature is 52.08410958904109"
        ],
        [
         "Tashkent is the capital of Uzbekistan and its average temperature is 60.7260273972603"
        ],
        [
         "Dublin is the capital of Ireland and its average temperature is 48.41120218579234"
        ],
        [
         "Bucharest is the capital of Romania and its average temperature is 52.44986301369866"
        ],
        [
         "Manila is the capital of Philippines and its average temperature is 81.17041095890406"
        ],
        [
         "Brussels is the capital of Belgium and its average temperature is 52.32383561643834"
        ],
        [
         "Paris is the capital of France and its average temperature is 53.94493150684927"
        ],
        [
         "Budapest is the capital of Hungary and its average temperature is 52.86904109589036"
        ],
        [
         "Hanoi is the capital of Vietnam and its average temperature is 75.97945205479446"
        ],
        [
         "Minsk is the capital of Belarus and its average temperature is 44.60410958904108"
        ],
        [
         "Prague is the capital of Czech Republic and its average temperature is 46.99369863013692"
        ],
        [
         "Singapore is the capital of Singapore and its average temperature is 81.98821917808219"
        ],
        [
         "Prague is the capital of Czech Republic and its average temperature is 47.93561643835614"
        ],
        [
         "Copenhagen is the capital of Denmark and its average temperature is 48.22684931506845"
        ],
        [
         "Paris is the capital of France and its average temperature is 53.256557377049155"
        ],
        [
         "Dublin is the capital of Ireland and its average temperature is 49.83945205479451"
        ],
        [
         "Bangkok is the capital of Thailand and its average temperature is 84.70273224043717"
        ],
        [
         "Vienna is the capital of Austria and its average temperature is 49.25068493150686"
        ],
        [
         "Dublin is the capital of Ireland and its average temperature is 44.664179104477604"
        ],
        [
         "Singapore is the capital of Singapore and its average temperature is 81.58027397260271"
        ],
        [
         "Paris is the capital of France and its average temperature is 51.64821917808218"
        ],
        [
         "Riga is the capital of Latvia and its average temperature is 45.17295081967211"
        ],
        [
         "Skopje is the capital of Macedonia and its average temperature is 54.41178082191789"
        ],
        [
         "Canberra is the capital of Australia and its average temperature is 57.12246575342469"
        ],
        [
         "Singapore is the capital of Singapore and its average temperature is 81.30300546448089"
        ],
        [
         "Seoul is the capital of South Korea and its average temperature is 54.021917808219214"
        ],
        [
         "Minsk is the capital of Belarus and its average temperature is 46.51178082191784"
        ],
        [
         "Brussels is the capital of Belgium and its average temperature is 50.01342465753426"
        ],
        [
         "Moscow is the capital of Russia and its average temperature is 42.130958904109576"
        ],
        [
         "Tbilisi is the capital of Georgia and its average temperature is 51.16767123287672"
        ],
        [
         "Warsaw is the capital of Poland and its average temperature is 49.36575342465753"
        ],
        [
         "Minsk is the capital of Belarus and its average temperature is 45.16767123287672"
        ],
        [
         "Prague is the capital of Czech Republic and its average temperature is 46.970136986301355"
        ],
        [
         "Dublin is the capital of Ireland and its average temperature is 48.324931506849325"
        ],
        [
         "Sofia is the capital of Bulgaria and its average temperature is 50.53961748633877"
        ],
        [
         "Zagreb is the capital of Croatia and its average temperature is 54.16164383561641"
        ],
        [
         "Warsaw is the capital of Poland and its average temperature is 49.12"
        ],
        [
         "Moscow is the capital of Russia and its average temperature is 42.58852459016393"
        ],
        [
         "Hanoi is the capital of Vietnam and its average temperature is 76.18383561643842"
        ],
        [
         "Copenhagen is the capital of Denmark and its average temperature is 46.4803278688525"
        ],
        [
         "Athens is the capital of Greece and its average temperature is 66.22191780821923"
        ],
        [
         "Rome is the capital of Italy and its average temperature is 58.55150684931504"
        ],
        [
         "Riga is the capital of Latvia and its average temperature is 45.69178082191779"
        ],
        [
         "Riga is the capital of Latvia and its average temperature is 45.48109589041091"
        ],
        [
         "Oslo is the capital of Norway and its average temperature is 37.09999999999997"
        ],
        [
         "Singapore is the capital of Singapore and its average temperature is 81.75369863013697"
        ],
        [
         "Tirana is the capital of Albania and its average temperature is 61.87232876712332"
        ],
        [
         "Vienna is the capital of Austria and its average temperature is 52.59260273972602"
        ],
        [
         "Nicosia is the capital of Cyprus and its average temperature is 11.40683060109287"
        ],
        [
         "Prague is the capital of Czech Republic and its average temperature is 49.4019178082192"
        ],
        [
         "Rome is the capital of Italy and its average temperature is 59.215068493150675"
        ],
        [
         "Oslo is the capital of Norway and its average temperature is 41.80301369863012"
        ],
        [
         "Tashkent is the capital of Uzbekistan and its average temperature is 61.095342465753426"
        ],
        [
         "Riga is the capital of Latvia and its average temperature is 45.46931506849313"
        ],
        [
         "Skopje is the capital of Macedonia and its average temperature is 52.05835616438356"
        ],
        [
         "Oslo is the capital of Norway and its average temperature is 41.73342465753427"
        ],
        [
         "Manila is the capital of Philippines and its average temperature is 80.48164383561645"
        ],
        [
         "Bangkok is the capital of Thailand and its average temperature is 85.13972602739727"
        ],
        [
         "Copenhagen is the capital of Denmark and its average temperature is 46.90164383561643"
        ],
        [
         "Oslo is the capital of Norway and its average temperature is 39.71616438356164"
        ],
        [
         "Moscow is the capital of Russia and its average temperature is 43.459452054794546"
        ],
        [
         "Seoul is the capital of South Korea and its average temperature is 54.16904109589037"
        ],
        [
         "Tashkent is the capital of Uzbekistan and its average temperature is 60.76410958904115"
        ],
        [
         "Skopje is the capital of Macedonia and its average temperature is 55.56575342465754"
        ],
        [
         "Lisbon is the capital of Portugal and its average temperature is 61.34054794520546"
        ],
        [
         "Zagreb is the capital of Croatia and its average temperature is 55.79561643835618"
        ],
        [
         "Copenhagen is the capital of Denmark and its average temperature is 47.11150684931507"
        ],
        [
         "Copenhagen is the capital of Denmark and its average temperature is 47.11232876712333"
        ],
        [
         "Budapest is the capital of Hungary and its average temperature is 52.56174863387979"
        ],
        [
         "Rome is the capital of Italy and its average temperature is 61.882465753424654"
        ],
        [
         "Copenhagen is the capital of Denmark and its average temperature is 47.833150684931525"
        ],
        [
         "Moscow is the capital of Russia and its average temperature is 43.42219178082191"
        ],
        [
         "Islamabad is the capital of Pakistan and its average temperature is 71.08931506849315"
        ],
        [
         "Manila is the capital of Philippines and its average temperature is 83.10246575342462"
        ],
        [
         "Seoul is the capital of South Korea and its average temperature is 52.02684931506849"
        ],
        [
         "Bangkok is the capital of Thailand and its average temperature is 81.58815789473684"
        ],
        [
         "Moscow is the capital of Russia and its average temperature is 41.48934426229506"
        ],
        [
         "Tashkent is the capital of Uzbekistan and its average temperature is 60.44617486338802"
        ],
        [
         "Minsk is the capital of Belarus and its average temperature is 45.111748633879756"
        ],
        [
         "Helsinki is the capital of Finland and its average temperature is 43.711780821917806"
        ],
        [
         "Islamabad is the capital of Pakistan and its average temperature is 70.02575342465755"
        ],
        [
         "Brussels is the capital of Belgium and its average temperature is 52.132328767123305"
        ],
        [
         "Zagreb is the capital of Croatia and its average temperature is 53.04726775956282"
        ],
        [
         "Sofia is the capital of Bulgaria and its average temperature is 53.203551912568265"
        ],
        [
         "Brussels is the capital of Belgium and its average temperature is 52.05589041095888"
        ],
        [
         "Sofia is the capital of Bulgaria and its average temperature is 52.537431693989085"
        ],
        [
         "Nicosia is the capital of Cyprus and its average temperature is -86.94684931506849"
        ],
        [
         "Prague is the capital of Czech Republic and its average temperature is 48.665753424657524"
        ],
        [
         "Rome is the capital of Italy and its average temperature is 60.90219178082182"
        ],
        [
         "Warsaw is the capital of Poland and its average temperature is 47.60136986301368"
        ],
        [
         "Islamabad is the capital of Pakistan and its average temperature is 71.36438356164382"
        ],
        [
         "Singapore is the capital of Singapore and its average temperature is 83.0589552238806"
        ],
        [
         "Seoul is the capital of South Korea and its average temperature is 52.625205479452084"
        ],
        [
         "Tashkent is the capital of Uzbekistan and its average temperature is 58.93825136612021"
        ],
        [
         "Sofia is the capital of Bulgaria and its average temperature is 52.71917808219179"
        ],
        [
         "Brussels is the capital of Belgium and its average temperature is 51.06994535519125"
        ],
        [
         "Moscow is the capital of Russia and its average temperature is 41.583060109289605"
        ],
        [
         "Riga is the capital of Latvia and its average temperature is 45.67205479452051"
        ],
        [
         "Lisbon is the capital of Portugal and its average temperature is 62.213934426229464"
        ],
        [
         "Bucharest is the capital of Romania and its average temperature is 53.04383561643838"
        ],
        [
         "Riga is the capital of Latvia and its average temperature is 46.08606557377049"
        ],
        [
         "Oslo is the capital of Norway and its average temperature is 42.47315068493148"
        ],
        [
         "Warsaw is the capital of Poland and its average temperature is 48.90136612021858"
        ],
        [
         "Dublin is the capital of Ireland and its average temperature is 49.204109589041146"
        ],
        [
         "Skopje is the capital of Macedonia and its average temperature is 55.26383561643837"
        ],
        [
         "Seoul is the capital of South Korea and its average temperature is 53.238356164383525"
        ],
        [
         "Hanoi is the capital of Vietnam and its average temperature is 75.24426229508201"
        ],
        [
         "Vienna is the capital of Austria and its average temperature is 50.82301369863017"
        ],
        [
         "Dublin is the capital of Ireland and its average temperature is 49.88196721311479"
        ],
        [
         "Dublin is the capital of Ireland and its average temperature is 47.38602739726026"
        ],
        [
         "Bucharest is the capital of Romania and its average temperature is 53.39972602739727"
        ],
        [
         "Tashkent is the capital of Uzbekistan and its average temperature is 60.59068493150686"
        ],
        [
         "Canberra is the capital of Australia and its average temperature is 55.44945355191257"
        ],
        [
         "Vienna is the capital of Austria and its average temperature is 51.49506849315072"
        ],
        [
         "Helsinki is the capital of Finland and its average temperature is 42.01205479452054"
        ],
        [
         "Skopje is the capital of Macedonia and its average temperature is 53.416164383561586"
        ],
        [
         "Lisbon is the capital of Portugal and its average temperature is 63.05835616438352"
        ],
        [
         "Manila is the capital of Philippines and its average temperature is 80.56575342465754"
        ],
        [
         "Brussels is the capital of Belgium and its average temperature is 50.75737704918034"
        ],
        [
         "Copenhagen is the capital of Denmark and its average temperature is 47.11561643835618"
        ],
        [
         "Skopje is the capital of Macedonia and its average temperature is 53.74986301369865"
        ],
        [
         "Hanoi is the capital of Vietnam and its average temperature is 74.75519125683067"
        ],
        [
         "Riga is the capital of Latvia and its average temperature is 47.236338797814206"
        ],
        [
         "Riga is the capital of Latvia and its average temperature is 45.11150684931506"
        ],
        [
         "Riga is the capital of Latvia and its average temperature is 44.94547945205482"
        ],
        [
         "Oslo is the capital of Norway and its average temperature is 41.874520547945195"
        ],
        [
         "Islamabad is the capital of Pakistan and its average temperature is 72.78849315068486"
        ],
        [
         "Tashkent is the capital of Uzbekistan and its average temperature is 61.92950819672129"
        ],
        [
         "Moscow is the capital of Russia and its average temperature is 36.78283582089553"
        ],
        [
         "Bratislava is the capital of Slovakia and its average temperature is 51.43643835616442"
        ],
        [
         "Islamabad is the capital of Pakistan and its average temperature is 72.48520547945206"
        ],
        [
         "Tashkent is the capital of Uzbekistan and its average temperature is 59.783879781420836"
        ],
        [
         "Minsk is the capital of Belarus and its average temperature is 45.9564383561644"
        ],
        [
         "Copenhagen is the capital of Denmark and its average temperature is 46.36273972602738"
        ],
        [
         "Bucharest is the capital of Romania and its average temperature is 51.490958904109604"
        ],
        [
         "Singapore is the capital of Singapore and its average temperature is 81.92273972602752"
        ],
        [
         "Hanoi is the capital of Vietnam and its average temperature is 74.3054794520548"
        ],
        [
         "Canberra is the capital of Australia and its average temperature is 54.83863013698636"
        ],
        [
         "Athens is the capital of Greece and its average temperature is 64.27342465753425"
        ],
        [
         "Moscow is the capital of Russia and its average temperature is 41.6275956284153"
        ],
        [
         "Islamabad is the capital of Pakistan and its average temperature is 43.55491803278686"
        ],
        [
         "Helsinki is the capital of Finland and its average temperature is 36.508955223880605"
        ],
        [
         "Dublin is the capital of Ireland and its average temperature is 48.77322404371586"
        ],
        [
         "Rome is the capital of Italy and its average temperature is 61.05999999999997"
        ],
        [
         "Skopje is the capital of Macedonia and its average temperature is 54.24739726027397"
        ],
        [
         "Manila is the capital of Philippines and its average temperature is 82.17479452054793"
        ],
        [
         "Sofia is the capital of Bulgaria and its average temperature is 51.72759562841535"
        ],
        [
         "Lisbon is the capital of Portugal and its average temperature is 63.18027397260279"
        ],
        [
         "Lisbon is the capital of Portugal and its average temperature is 55.2902985074627"
        ],
        [
         "Bucharest is the capital of Romania and its average temperature is 54.30273972602739"
        ],
        [
         "Manila is the capital of Philippines and its average temperature is 80.46530054644809"
        ],
        [
         "Singapore is the capital of Singapore and its average temperature is 81.70792349726776"
        ],
        [
         "Rome is the capital of Italy and its average temperature is 60.395890410958906"
        ],
        [
         "Rome is the capital of Italy and its average temperature is 60.57213114754101"
        ],
        [
         "Bratislava is the capital of Slovakia and its average temperature is 51.12"
        ],
        [
         "Seoul is the capital of South Korea and its average temperature is 52.293698630136966"
        ],
        [
         "Rome is the capital of Italy and its average temperature is 59.942896174863485"
        ],
        [
         "Paris is the capital of France and its average temperature is 54.36794520547941"
        ],
        [
         "Oslo is the capital of Norway and its average temperature is 43.43239831697054"
        ],
        [
         "Singapore is the capital of Singapore and its average temperature is 81.98032786885247"
        ],
        [
         "Prague is the capital of Czech Republic and its average temperature is 48.32240437158474"
        ],
        [
         "Tirana is the capital of Albania and its average temperature is 59.790710382513666"
        ],
        [
         "Helsinki is the capital of Finland and its average temperature is 41.38876712328768"
        ],
        [
         "Helsinki is the capital of Finland and its average temperature is 41.507650273224066"
        ],
        [
         "Dublin is the capital of Ireland and its average temperature is 49.970684931506845"
        ],
        [
         "Islamabad is the capital of Pakistan and its average temperature is 70.81232876712333"
        ],
        [
         "Copenhagen is the capital of Denmark and its average temperature is 44.386575342465754"
        ],
        [
         "Tirana is the capital of Albania and its average temperature is 51.1597014925373"
        ],
        [
         "Nicosia is the capital of Cyprus and its average temperature is -97.90058139534885"
        ],
        [
         "Skopje is the capital of Macedonia and its average temperature is 54.46857923497271"
        ],
        [
         "Seoul is the capital of South Korea and its average temperature is 53.08575342465748"
        ],
        [
         "Athens is the capital of Greece and its average temperature is 63.9602739726027"
        ],
        [
         "Bucharest is the capital of Romania and its average temperature is 51.918032786885306"
        ],
        [
         "Canberra is the capital of Australia and its average temperature is 56.650958904109544"
        ],
        [
         "Sofia is the capital of Bulgaria and its average temperature is 50.724109589041085"
        ],
        [
         "Helsinki is the capital of Finland and its average temperature is 40.78164383561643"
        ],
        [
         "Skopje is the capital of Macedonia and its average temperature is 55.22301369863019"
        ],
        [
         "Oslo is the capital of Norway and its average temperature is 40.435616438356156"
        ],
        [
         "Budapest is the capital of Hungary and its average temperature is 53.27315068493153"
        ],
        [
         "Minsk is the capital of Belarus and its average temperature is 44.93890410958903"
        ],
        [
         "Budapest is the capital of Hungary and its average temperature is 52.225683060109276"
        ],
        [
         "Moscow is the capital of Russia and its average temperature is 43.32602739726026"
        ],
        [
         "Moscow is the capital of Russia and its average temperature is 41.14219178082195"
        ],
        [
         "Zagreb is the capital of Croatia and its average temperature is 55.56366120218577"
        ],
        [
         "Athens is the capital of Greece and its average temperature is 66.14054794520544"
        ],
        [
         "Warsaw is the capital of Poland and its average temperature is 49.37295081967212"
        ],
        [
         "Moscow is the capital of Russia and its average temperature is 43.50493150684934"
        ],
        [
         "Tirana is the capital of Albania and its average temperature is 60.38465753424662"
        ],
        [
         "Lisbon is the capital of Portugal and its average temperature is 62.27650273224043"
        ],
        [
         "Sofia is the capital of Bulgaria and its average temperature is 50.73369863013699"
        ],
        [
         "Helsinki is the capital of Finland and its average temperature is 43.187397260274"
        ],
        [
         "Tirana is the capital of Albania and its average temperature is 59.467123287671185"
        ],
        [
         "Copenhagen is the capital of Denmark and its average temperature is 42.32761194029851"
        ],
        [
         "Bucharest is the capital of Romania and its average temperature is 53.59835616438359"
        ],
        [
         "Hanoi is the capital of Vietnam and its average temperature is 75.84904109589034"
        ],
        [
         "Canberra is the capital of Australia and its average temperature is 63.372388059701514"
        ],
        [
         "Tbilisi is the capital of Georgia and its average temperature is 55.84465753424652"
        ],
        [
         "Rome is the capital of Italy and its average temperature is 61.075136612021915"
        ],
        [
         "Islamabad is the capital of Pakistan and its average temperature is 70.75546448087434"
        ],
        [
         "Bucharest is the capital of Romania and its average temperature is 51.52630136986301"
        ],
        [
         "Canberra is the capital of Australia and its average temperature is 57.22602739726028"
        ],
        [
         "Tirana is the capital of Albania and its average temperature is 58.56904109589039"
        ],
        [
         "Sofia is the capital of Bulgaria and its average temperature is 53.12602739726023"
        ],
        [
         "Warsaw is the capital of Poland and its average temperature is 48.01205479452053"
        ],
        [
         "Singapore is the capital of Singapore and its average temperature is 80.34821917808218"
        ],
        [
         "Sofia is the capital of Bulgaria and its average temperature is 51.70765027322405"
        ],
        [
         "Zagreb is the capital of Croatia and its average temperature is 54.00000000000003"
        ],
        [
         "Oslo is the capital of Norway and its average temperature is 43.17397260273973"
        ],
        [
         "Moscow is the capital of Russia and its average temperature is 40.29041095890409"
        ],
        [
         "Singapore is the capital of Singapore and its average temperature is 82.51369863013694"
        ],
        [
         "Vienna is the capital of Austria and its average temperature is 50.21561643835616"
        ],
        [
         "Brussels is the capital of Belgium and its average temperature is 51.58739726027402"
        ],
        [
         "Riga is the capital of Latvia and its average temperature is 44.59535519125679"
        ],
        [
         "Bucharest is the capital of Romania and its average temperature is 52.81123287671232"
        ],
        [
         "Hanoi is the capital of Vietnam and its average temperature is 75.07589041095896"
        ],
        [
         "Prague is the capital of Czech Republic and its average temperature is 49.36356164383561"
        ],
        [
         "Skopje is the capital of Macedonia and its average temperature is 54.07978142076503"
        ],
        [
         "Hanoi is the capital of Vietnam and its average temperature is 74.33342465753418"
        ],
        [
         "Tirana is the capital of Albania and its average temperature is 54.7579234972678"
        ],
        [
         "Seoul is the capital of South Korea and its average temperature is 54.34480874316938"
        ],
        [
         "Seoul is the capital of South Korea and its average temperature is 53.777049180327936"
        ],
        [
         "Copenhagen is the capital of Denmark and its average temperature is 47.742739726027395"
        ],
        [
         "Bratislava is the capital of Slovakia and its average temperature is 53.20191256830598"
        ],
        [
         "Tirana is the capital of Albania and its average temperature is 59.88442622950815"
        ],
        [
         "Hanoi is the capital of Vietnam and its average temperature is 73.28005464480874"
        ],
        [
         "Tirana is the capital of Albania and its average temperature is 61.0852459016393"
        ],
        [
         "Budapest is the capital of Hungary and its average temperature is 52.36054794520547"
        ],
        [
         "Vienna is the capital of Austria and its average temperature is 52.533150684931506"
        ],
        [
         "Manila is the capital of Philippines and its average temperature is 82.02021857923489"
        ],
        [
         "Sofia is the capital of Bulgaria and its average temperature is 52.239452054794555"
        ],
        [
         "Nicosia is the capital of Cyprus and its average temperature is 63.99452054794519"
        ],
        [
         "Helsinki is the capital of Finland and its average temperature is 43.189589041095886"
        ],
        [
         "Canberra is the capital of Australia and its average temperature is 57.30794520547943"
        ],
        [
         "Copenhagen is the capital of Denmark and its average temperature is 48.188767123287654"
        ],
        [
         "Vienna is the capital of Austria and its average temperature is 52.35150684931506"
        ],
        [
         "Warsaw is the capital of Poland and its average temperature is 47.23825136612019"
        ],
        [
         "Seoul is the capital of South Korea and its average temperature is 53.14328767123286"
        ],
        [
         "Tashkent is the capital of Uzbekistan and its average temperature is 61.28410958904114"
        ],
        [
         "Zagreb is the capital of Croatia and its average temperature is 52.39041095890409"
        ],
        [
         "Prague is the capital of Czech Republic and its average temperature is 42.094029850746274"
        ],
        [
         "Paris is the capital of France and its average temperature is 51.122950819672184"
        ],
        [
         "Dublin is the capital of Ireland and its average temperature is 48.69315068493149"
        ],
        [
         "Skopje is the capital of Macedonia and its average temperature is 54.23753424657536"
        ],
        [
         "Manila is the capital of Philippines and its average temperature is 81.57479452054797"
        ],
        [
         "Tirana is the capital of Albania and its average temperature is 59.88931506849319"
        ],
        [
         "Minsk is the capital of Belarus and its average temperature is 32.97753424657535"
        ],
        [
         "Zagreb is the capital of Croatia and its average temperature is 54.22054794520546"
        ],
        [
         "Vienna is the capital of Austria and its average temperature is 44.924626865671655"
        ],
        [
         "Brussels is the capital of Belgium and its average temperature is 51.73095890410962"
        ],
        [
         "Rome is the capital of Italy and its average temperature is 61.091506849315024"
        ],
        [
         "Skopje is the capital of Macedonia and its average temperature is 54.202191780821934"
        ],
        [
         "Paris is the capital of France and its average temperature is 53.57205479452048"
        ],
        [
         "Oslo is the capital of Norway and its average temperature is 42.87999999999999"
        ],
        [
         "Oslo is the capital of Norway and its average temperature is 39.80958904109592"
        ],
        [
         "Warsaw is the capital of Poland and its average temperature is 47.099178082191784"
        ],
        [
         "Nicosia is the capital of Cyprus and its average temperature is 31.49754098360656"
        ],
        [
         "Budapest is the capital of Hungary and its average temperature is 52.29726027397263"
        ],
        [
         "Manila is the capital of Philippines and its average temperature is 82.40983606557384"
        ],
        [
         "Hanoi is the capital of Vietnam and its average temperature is 76.20794520547946"
        ],
        [
         "Prague is the capital of Czech Republic and its average temperature is 49.546721311475416"
        ],
        [
         "Paris is the capital of France and its average temperature is 53.65041095890415"
        ],
        [
         "Singapore is the capital of Singapore and its average temperature is 81.06803278688527"
        ],
        [
         "Tashkent is the capital of Uzbekistan and its average temperature is 60.16767123287672"
        ],
        [
         "Brussels is the capital of Belgium and its average temperature is 51.101366120218614"
        ],
        [
         "Helsinki is the capital of Finland and its average temperature is 42.44684931506848"
        ],
        [
         "Dublin is the capital of Ireland and its average temperature is 48.91369863013695"
        ],
        [
         "Bucharest is the capital of Romania and its average temperature is 52.98794520547949"
        ],
        [
         "Islamabad is the capital of Pakistan and its average temperature is 71.66584699453553"
        ],
        [
         "Islamabad is the capital of Pakistan and its average temperature is 70.98328767123292"
        ],
        [
         "Helsinki is the capital of Finland and its average temperature is 44.211780821917806"
        ],
        [
         "Warsaw is the capital of Poland and its average temperature is 48.23852459016394"
        ],
        [
         "Manila is the capital of Philippines and its average temperature is 82.36082191780815"
        ],
        [
         "Oslo is the capital of Norway and its average temperature is 40.830684931506816"
        ],
        [
         "Copenhagen is the capital of Denmark and its average temperature is 46.79535519125686"
        ],
        [
         "Tbilisi is the capital of Georgia and its average temperature is 56.671311475409816"
        ],
        [
         "Athens is the capital of Greece and its average temperature is 67.12876712328763"
        ],
        [
         "Warsaw is the capital of Poland and its average temperature is 49.20657534246575"
        ],
        [
         "Lisbon is the capital of Portugal and its average temperature is 61.88306010928965"
        ],
        [
         "Singapore is the capital of Singapore and its average temperature is 82.0432876712329"
        ],
        [
         "Brussels is the capital of Belgium and its average temperature is 50.849589041095875"
        ],
        [
         "Prague is the capital of Czech Republic and its average temperature is 45.986301369862986"
        ],
        [
         "Paris is the capital of France and its average temperature is 54.19972602739725"
        ],
        [
         "Tirana is the capital of Albania and its average temperature is 41.51287671232874"
        ],
        [
         "Dublin is the capital of Ireland and its average temperature is 50.48904109589042"
        ],
        [
         "Manila is the capital of Philippines and its average temperature is 80.58191780821919"
        ],
        [
         "Brussels is the capital of Belgium and its average temperature is 52.31502732240441"
        ],
        [
         "Zagreb is the capital of Croatia and its average temperature is 55.007923497267775"
        ],
        [
         "Copenhagen is the capital of Denmark and its average temperature is 48.314754098360645"
        ],
        [
         "Bangkok is the capital of Thailand and its average temperature is 84.15232876712318"
        ],
        [
         "Budapest is the capital of Hungary and its average temperature is 52.768306010928974"
        ],
        [
         "Lisbon is the capital of Portugal and its average temperature is 60.611748633879735"
        ],
        [
         "Singapore is the capital of Singapore and its average temperature is 81.88082191780819"
        ],
        [
         "Skopje is the capital of Macedonia and its average temperature is 44.533582089552255"
        ],
        [
         "Paris is the capital of France and its average temperature is 52.08849315068489"
        ],
        [
         "Rome is the capital of Italy and its average temperature is 61.049315068493144"
        ],
        [
         "Singapore is the capital of Singapore and its average temperature is 81.16438356164382"
        ],
        [
         "Sofia is the capital of Bulgaria and its average temperature is 51.37616438356167"
        ],
        [
         "Nicosia is the capital of Cyprus and its average temperature is 66.32821917808215"
        ],
        [
         "Skopje is the capital of Macedonia and its average temperature is 55.32821917808217"
        ],
        [
         "Manila is the capital of Philippines and its average temperature is 81.66202185792353"
        ],
        [
         "Athens is the capital of Greece and its average temperature is 64.91863013698631"
        ],
        [
         "Hanoi is the capital of Vietnam and its average temperature is 73.58739726027397"
        ],
        [
         "Vienna is the capital of Austria and its average temperature is 52.17704918032788"
        ],
        [
         "Moscow is the capital of Russia and its average temperature is 43.39590163934426"
        ],
        [
         "Canberra is the capital of Australia and its average temperature is 56.417534246575364"
        ],
        [
         "Prague is the capital of Czech Republic and its average temperature is 49.51863013698624"
        ],
        [
         "Budapest is the capital of Hungary and its average temperature is 48.35178082191782"
        ],
        [
         "Oslo is the capital of Norway and its average temperature is 40.830601092896174"
        ],
        [
         "Minsk is the capital of Belarus and its average temperature is 46.96120218579237"
        ],
        [
         "Canberra is the capital of Australia and its average temperature is 55.262465753424635"
        ],
        [
         "Dublin is the capital of Ireland and its average temperature is 50.24684931506849"
        ],
        [
         "Skopje is the capital of Macedonia and its average temperature is 55.05081967213109"
        ],
        [
         "Oslo is the capital of Norway and its average temperature is 40.95491803278688"
        ],
        [
         "Bucharest is the capital of Romania and its average temperature is 53.6918032786885"
        ],
        [
         "Hanoi is the capital of Vietnam and its average temperature is 73.87232876712328"
        ],
        [
         "Canberra is the capital of Australia and its average temperature is 56.1983561643836"
        ],
        [
         "Minsk is the capital of Belarus and its average temperature is 24.514393939393926"
        ],
        [
         "Prague is the capital of Czech Republic and its average temperature is 48.11260273972602"
        ],
        [
         "Helsinki is the capital of Finland and its average temperature is 44.62295081967211"
        ],
        [
         "Budapest is the capital of Hungary and its average temperature is 51.323287671232876"
        ],
        [
         "Lisbon is the capital of Portugal and its average temperature is 61.11726027397258"
        ],
        [
         "Canberra is the capital of Australia and its average temperature is 55.479508196721305"
        ],
        [
         "Nicosia is the capital of Cyprus and its average temperature is 67.59890710382518"
        ],
        [
         "Budapest is the capital of Hungary and its average temperature is 50.56229508196717"
        ],
        [
         "Manila is the capital of Philippines and its average temperature is 82.07013698630142"
        ],
        [
         "Singapore is the capital of Singapore and its average temperature is 81.70849315068493"
        ],
        [
         "Singapore is the capital of Singapore and its average temperature is 82.67616438356166"
        ],
        [
         "Copenhagen is the capital of Denmark and its average temperature is 46.6764383561644"
        ],
        [
         "Rome is the capital of Italy and its average temperature is 52.67611940298508"
        ],
        [
         "Islamabad is the capital of Pakistan and its average temperature is 70.62356164383566"
        ],
        [
         "Canberra is the capital of Australia and its average temperature is 56.841530054644856"
        ],
        [
         "Dublin is the capital of Ireland and its average temperature is 49.6386301369863"
        ],
        [
         "Rome is the capital of Italy and its average temperature is 60.57671232876712"
        ],
        [
         "Seoul is the capital of South Korea and its average temperature is 54.84043715846998"
        ],
        [
         "Bangkok is the capital of Thailand and its average temperature is 85.05506849315066"
        ],
        [
         "Vienna is the capital of Austria and its average temperature is 51.817534246575406"
        ],
        [
         "Zagreb is the capital of Croatia and its average temperature is 54.85956284153007"
        ],
        [
         "Bangkok is the capital of Thailand and its average temperature is 82.7156164383562"
        ],
        [
         "Vienna is the capital of Austria and its average temperature is 51.36082191780821"
        ],
        [
         "Vienna is the capital of Austria and its average temperature is 51.911475409836065"
        ],
        [
         "Brussels is the capital of Belgium and its average temperature is 52.709315068493176"
        ],
        [
         "Dublin is the capital of Ireland and its average temperature is 48.94180327868844"
        ],
        [
         "Bucharest is the capital of Romania and its average temperature is 52.033606557377006"
        ],
        [
         "Tirana is the capital of Albania and its average temperature is 59.40109589041092"
        ],
        [
         "Sofia is the capital of Bulgaria and its average temperature is 52.9792349726776"
        ],
        [
         "Paris is the capital of France and its average temperature is 54.56219178082192"
        ],
        [
         "Paris is the capital of France and its average temperature is 53.061095890410954"
        ],
        [
         "Islamabad is the capital of Pakistan and its average temperature is 55.41654135338347"
        ],
        [
         "Vienna is the capital of Austria and its average temperature is 52.63961748633882"
        ],
        [
         "Athens is the capital of Greece and its average temperature is 64.84465753424652"
        ],
        [
         "Riga is the capital of Latvia and its average temperature is 44.24739726027398"
        ],
        [
         "Oslo is the capital of Norway and its average temperature is 42.11994535519124"
        ],
        [
         "Prague is the capital of Czech Republic and its average temperature is 48.335616438356155"
        ],
        [
         "Helsinki is the capital of Finland and its average temperature is 44.13387978142078"
        ],
        [
         "Athens is the capital of Greece and its average temperature is 63.27726027397264"
        ],
        [
         "Rome is the capital of Italy and its average temperature is 60.20819672131149"
        ],
        [
         "Lisbon is the capital of Portugal and its average temperature is 60.799180327868854"
        ],
        [
         "Skopje is the capital of Macedonia and its average temperature is 54.17185792349724"
        ],
        [
         "Islamabad is the capital of Pakistan and its average temperature is 72.0797260273972"
        ],
        [
         "Canberra is the capital of Australia and its average temperature is 55.24289617486339"
        ],
        [
         "Sofia is the capital of Bulgaria and its average temperature is 42.10820895522389"
        ],
        [
         "Moscow is the capital of Russia and its average temperature is 43.86092896174861"
        ],
        [
         "Zagreb is the capital of Croatia and its average temperature is 54.72739726027395"
        ],
        [
         "Zagreb is the capital of Croatia and its average temperature is 54.370136986301326"
        ],
        [
         "Budapest is the capital of Hungary and its average temperature is 51.536164383561626"
        ],
        [
         "Canberra is the capital of Australia and its average temperature is 55.715616438356165"
        ],
        [
         "Seoul is the capital of South Korea and its average temperature is 52.56191780821919"
        ],
        [
         "Sofia is the capital of Bulgaria and its average temperature is 49.13972602739721"
        ],
        [
         "Warsaw is the capital of Poland and its average temperature is 49.650410958904146"
        ],
        [
         "Bucharest is the capital of Romania and its average temperature is 53.35589041095888"
        ],
        [
         "Bratislava is the capital of Slovakia and its average temperature is 52.81775956284158"
        ],
        [
         "Bern is the capital of Switzerland and its average temperature is 48.887978142076534"
        ],
        [
         "Amman is the capital of Jordan and its average temperature is 68.17808219178085"
        ],
        [
         "Bratislava is the capital of Slovakia and its average temperature is 50.053424657534194"
        ],
        [
         "Ankara is the capital of Turkey and its average temperature is 49.66328767123287"
        ],
        [
         "Nassau is the capital of Bahamas and its average temperature is 76.98438356164384"
        ],
        [
         "Nassau is the capital of Bahamas and its average temperature is 76.20986301369854"
        ],
        [
         "Madrid is the capital of Spain and its average temperature is 60.0972602739726"
        ],
        [
         "Bridgetown is the capital of Barbados and its average temperature is 80.4469945355191"
        ],
        [
         "Abu Dhabi is the capital of United Arab Emirates and its average temperature is 83.29289617486346"
        ],
        [
         "La Paz is the capital of Bolivia and its average temperature is 44.65698630136985"
        ],
        [
         "Bridgetown is the capital of Barbados and its average temperature is 80.62931506849316"
        ],
        [
         "Amman is the capital of Jordan and its average temperature is 65.14986301369862"
        ],
        [
         "Beirut is the capital of Lebanon and its average temperature is 68.42438356164384"
        ],
        [
         "Ottawa is the capital of Canada and its average temperature is 45.97726027397255"
        ],
        [
         "Bridgetown is the capital of Barbados and its average temperature is 82.04273972602735"
        ],
        [
         "Madrid is the capital of Spain and its average temperature is 57.572677595628384"
        ],
        [
         "Bern is the capital of Switzerland and its average temperature is 49.14972677595629"
        ],
        [
         "Mexico City is the capital of Mexico and its average temperature is 62.73698630136983"
        ],
        [
         "Beirut is the capital of Lebanon and its average temperature is 69.42349726775956"
        ],
        [
         "Mexico City is the capital of Mexico and its average temperature is 65.18270676691732"
        ],
        [
         "Stockholm is the capital of Sweden and its average temperature is 47.27868852459015"
        ],
        [
         "Stockholm is the capital of Sweden and its average temperature is 45.47041095890408"
        ],
        [
         "Riyadh is the capital of Saudi Arabia and its average temperature is 79.09589041095893"
        ],
        [
         "Bratislava is the capital of Slovakia and its average temperature is 51.81315068493151"
        ],
        [
         "Damascus is the capital of Syria and its average temperature is 63.09836065573772"
        ],
        [
         "Damascus is the capital of Syria and its average temperature is 64.05150684931503"
        ],
        [
         "La Paz is the capital of Bolivia and its average temperature is 43.446301369863015"
        ],
        [
         "Manama is the capital of Bahrain and its average temperature is 80.97643835616437"
        ],
        [
         "Muscat is the capital of Oman and its average temperature is 69.45054644808745"
        ],
        [
         "Nassau is the capital of Bahamas and its average temperature is 76.5254794520548"
        ],
        [
         "Bridgetown is the capital of Barbados and its average temperature is 80.76575342465755"
        ],
        [
         "Manama is the capital of Bahrain and its average temperature is 79.51229508196724"
        ],
        [
         "Doha is the capital of Qatar and its average temperature is 84.36876712328761"
        ],
        [
         "Riyadh is the capital of Saudi Arabia and its average temperature is 78.77643835616443"
        ],
        [
         "Manama is the capital of Bahrain and its average temperature is 81.00547945205477"
        ],
        [
         "Muscat is the capital of Oman and its average temperature is 81.19616438356167"
        ],
        [
         "Buenos Aires is the capital of Argentina and its average temperature is 60.40712328767126"
        ],
        [
         "Bratislava is the capital of Slovakia and its average temperature is 53.53342465753425"
        ],
        [
         "La Paz is the capital of Bolivia and its average temperature is 46.15369863013698"
        ],
        [
         "Beirut is the capital of Lebanon and its average temperature is 70.00301369863013"
        ],
        [
         "Doha is the capital of Qatar and its average temperature is 83.26739726027397"
        ],
        [
         "Stockholm is the capital of Sweden and its average temperature is 45.733424657534236"
        ],
        [
         "Amman is the capital of Jordan and its average temperature is 54.119402985074615"
        ],
        [
         "Mexico City is the capital of Mexico and its average temperature is 63.14958904109591"
        ],
        [
         "Ottawa is the capital of Canada and its average temperature is 45.93205479452053"
        ],
        [
         "Muscat is the capital of Oman and its average temperature is 47.72547945205477"
        ],
        [
         "Abu Dhabi is the capital of United Arab Emirates and its average temperature is 82.07123287671237"
        ],
        [
         "Bridgetown is the capital of Barbados and its average temperature is 79.60136612021856"
        ],
        [
         "Amman is the capital of Jordan and its average temperature is 64.59397260273968"
        ],
        [
         "Mexico City is the capital of Mexico and its average temperature is 61.59123287671232"
        ],
        [
         "Bern is the capital of Switzerland and its average temperature is 50.86438356164383"
        ],
        [
         "La Paz is the capital of Bolivia and its average temperature is 48.049253731343285"
        ],
        [
         "Nassau is the capital of Bahamas and its average temperature is 76.41530054644808"
        ],
        [
         "Madrid is the capital of Spain and its average temperature is 58.5898630136986"
        ],
        [
         "Bridgetown is the capital of Barbados and its average temperature is 70.4334246575342"
        ],
        [
         "La Paz is the capital of Bolivia and its average temperature is 46.22876712328765"
        ],
        [
         "Muscat is the capital of Oman and its average temperature is 55.286849315068494"
        ],
        [
         "Mexico City is the capital of Mexico and its average temperature is 61.398360655737704"
        ],
        [
         "Mexico City is the capital of Mexico and its average temperature is 60.504918032786904"
        ],
        [
         "Buenos Aires is the capital of Argentina and its average temperature is 63.725136612021885"
        ],
        [
         "La Paz is the capital of Bolivia and its average temperature is 45.066301369863034"
        ],
        [
         "Bern is the capital of Switzerland and its average temperature is 49.494520547945214"
        ],
        [
         "Riyadh is the capital of Saudi Arabia and its average temperature is 78.97972602739729"
        ],
        [
         "Stockholm is the capital of Sweden and its average temperature is 44.596986301369824"
        ],
        [
         "Riyadh is the capital of Saudi Arabia and its average temperature is 77.66284153005466"
        ],
        [
         "Ottawa is the capital of Canada and its average temperature is 42.688797814207646"
        ],
        [
         "Bridgetown is the capital of Barbados and its average temperature is 78.61013698630136"
        ],
        [
         "Ankara is the capital of Turkey and its average temperature is 52.276438356164356"
        ],
        [
         "Ottawa is the capital of Canada and its average temperature is 46.545479452054764"
        ],
        [
         "Mexico City is the capital of Mexico and its average temperature is 62.124657534246616"
        ],
        [
         "Stockholm is the capital of Sweden and its average temperature is 45.6309589041096"
        ],
        [
         "Amman is the capital of Jordan and its average temperature is 64.76284153005467"
        ],
        [
         "Amman is the capital of Jordan and its average temperature is 65.00356164383561"
        ],
        [
         "Madrid is the capital of Spain and its average temperature is 60.827123287671206"
        ],
        [
         "Amman is the capital of Jordan and its average temperature is 64.19232876712329"
        ],
        [
         "Abu Dhabi is the capital of United Arab Emirates and its average temperature is 71.61940298507461"
        ],
        [
         "Ottawa is the capital of Canada and its average temperature is 42.80082191780823"
        ],
        [
         "La Paz is the capital of Bolivia and its average temperature is 45.314754098360595"
        ],
        [
         "Stockholm is the capital of Sweden and its average temperature is 45.18109589041101"
        ],
        [
         "Riyadh is the capital of Saudi Arabia and its average temperature is 78.52767123287671"
        ],
        [
         "Doha is the capital of Qatar and its average temperature is 82.30792349726771"
        ],
        [
         "Abu Dhabi is the capital of United Arab Emirates and its average temperature is 80.87041095890409"
        ],
        [
         "Abu Dhabi is the capital of United Arab Emirates and its average temperature is 81.84016393442622"
        ],
        [
         "Nassau is the capital of Bahamas and its average temperature is 76.4174863387978"
        ],
        [
         "Abu Dhabi is the capital of United Arab Emirates and its average temperature is 83.03688524590164"
        ],
        [
         "Hamilton is the capital of Bermuda and its average temperature is 69.79863013698635"
        ],
        [
         "Manama is the capital of Bahrain and its average temperature is 80.7784153005464"
        ],
        [
         "Beirut is the capital of Lebanon and its average temperature is 70.93205479452057"
        ],
        [
         "Riyadh is the capital of Saudi Arabia and its average temperature is 78.99287671232877"
        ],
        [
         "Nassau is the capital of Bahamas and its average temperature is 76.63041095890406"
        ],
        [
         "Damascus is the capital of Syria and its average temperature is 50.68582089552241"
        ],
        [
         "Abu Dhabi is the capital of United Arab Emirates and its average temperature is 82.35835616438357"
        ],
        [
         "Stockholm is the capital of Sweden and its average temperature is 42.040547945205475"
        ],
        [
         "Muscat is the capital of Oman and its average temperature is 63.02416107382553"
        ],
        [
         "Riyadh is the capital of Saudi Arabia and its average temperature is 78.81120218579235"
        ],
        [
         "Amman is the capital of Jordan and its average temperature is 63.92712328767123"
        ],
        [
         "Muscat is the capital of Oman and its average temperature is 75.59041095890412"
        ],
        [
         "Madrid is the capital of Spain and its average temperature is 58.578630136986256"
        ],
        [
         "Bern is the capital of Switzerland and its average temperature is 50.58054794520548"
        ],
        [
         "Riyadh is the capital of Saudi Arabia and its average temperature is 80.5328767123287"
        ],
        [
         "Riyadh is the capital of Saudi Arabia and its average temperature is 79.14547945205483"
        ],
        [
         "La Paz is the capital of Bolivia and its average temperature is 43.7627397260274"
        ],
        [
         "Manama is the capital of Bahrain and its average temperature is 81.3008219178082"
        ],
        [
         "Riyadh is the capital of Saudi Arabia and its average temperature is 76.98410958904108"
        ],
        [
         "Damascus is the capital of Syria and its average temperature is 66.69726027397256"
        ],
        [
         "Hamilton is the capital of Bermuda and its average temperature is 70.3835616438356"
        ],
        [
         "Madrid is the capital of Spain and its average temperature is 57.804371584699425"
        ],
        [
         "Buenos Aires is the capital of Argentina and its average temperature is 64.13780821917805"
        ],
        [
         "Doha is the capital of Qatar and its average temperature is 73.62014925373134"
        ],
        [
         "Damascus is the capital of Syria and its average temperature is 62.442191780821915"
        ],
        [
         "Ottawa is the capital of Canada and its average temperature is 45.86109589041093"
        ],
        [
         "Hamilton is the capital of Bermuda and its average temperature is 68.89098360655738"
        ],
        [
         "Beirut is the capital of Lebanon and its average temperature is 69.52868852459011"
        ],
        [
         "Abu Dhabi is the capital of United Arab Emirates and its average temperature is 82.95452054794525"
        ],
        [
         "Beirut is the capital of Lebanon and its average temperature is 70.87076502732238"
        ],
        [
         "Ankara is the capital of Turkey and its average temperature is 49.04918032786888"
        ],
        [
         "Mexico City is the capital of Mexico and its average temperature is 61.955342465753425"
        ],
        [
         "La Paz is the capital of Bolivia and its average temperature is 44.46054794520548"
        ],
        [
         "Madrid is the capital of Spain and its average temperature is 60.00684931506852"
        ],
        [
         "Doha is the capital of Qatar and its average temperature is 82.7961643835616"
        ],
        [
         "Manama is the capital of Bahrain and its average temperature is 81.68415300546445"
        ],
        [
         "Doha is the capital of Qatar and its average temperature is 82.98684931506853"
        ],
        [
         "Nassau is the capital of Bahamas and its average temperature is 75.13643835616439"
        ],
        [
         "Bratislava is the capital of Slovakia and its average temperature is 52.57232876712324"
        ],
        [
         "Stockholm is the capital of Sweden and its average temperature is 45.77704918032782"
        ],
        [
         "Doha is the capital of Qatar and its average temperature is 83.7991803278688"
        ],
        [
         "Mexico City is the capital of Mexico and its average temperature is 62.89479452054798"
        ],
        [
         "Damascus is the capital of Syria and its average temperature is 63.731693989071054"
        ],
        [
         "Bratislava is the capital of Slovakia and its average temperature is 51.98986301369862"
        ],
        [
         "Manama is the capital of Bahrain and its average temperature is 81.6229508196721"
        ],
        [
         "Doha is the capital of Qatar and its average temperature is 83.50630136986298"
        ],
        [
         "Nassau is the capital of Bahamas and its average temperature is 78.12246575342462"
        ],
        [
         "Muscat is the capital of Oman and its average temperature is 62.08142076502731"
        ],
        [
         "Ankara is the capital of Turkey and its average temperature is 50.71287671232876"
        ],
        [
         "Stockholm is the capital of Sweden and its average temperature is 44.179999999999986"
        ],
        [
         "Abu Dhabi is the capital of United Arab Emirates and its average temperature is 83.32712328767126"
        ],
        [
         "Amman is the capital of Jordan and its average temperature is 63.86256830601093"
        ],
        [
         "Buenos Aires is the capital of Argentina and its average temperature is 63.006301369863024"
        ],
        [
         "Madrid is the capital of Spain and its average temperature is 56.802459016393456"
        ],
        [
         "Bern is the capital of Switzerland and its average temperature is 49.69068493150682"
        ],
        [
         "Doha is the capital of Qatar and its average temperature is 84.45260273972603"
        ],
        [
         "La Paz is the capital of Bolivia and its average temperature is 45.21917808219179"
        ],
        [
         "Manama is the capital of Bahrain and its average temperature is 81.3230136986302"
        ],
        [
         "Abu Dhabi is the capital of United Arab Emirates and its average temperature is 84.86273972602733"
        ],
        [
         "Damascus is the capital of Syria and its average temperature is 63.218904109589054"
        ],
        [
         "Hamilton is the capital of Bermuda and its average temperature is 71.6079452054795"
        ],
        [
         "Bridgetown is the capital of Barbados and its average temperature is 80.63524590163935"
        ],
        [
         "Ottawa is the capital of Canada and its average temperature is 43.55643835616436"
        ],
        [
         "Manama is the capital of Bahrain and its average temperature is 82.63589041095887"
        ],
        [
         "Beirut is the capital of Lebanon and its average temperature is 69.7379781420765"
        ],
        [
         "Madrid is the capital of Spain and its average temperature is 56.18767123287673"
        ],
        [
         "Riyadh is the capital of Saudi Arabia and its average temperature is 77.71561643835615"
        ],
        [
         "Ankara is the capital of Turkey and its average temperature is 41.731343283582106"
        ],
        [
         "Bridgetown is the capital of Barbados and its average temperature is 82.06191780821915"
        ],
        [
         "Manama is the capital of Bahrain and its average temperature is 82.92684931506848"
        ],
        [
         "Buenos Aires is the capital of Argentina and its average temperature is 60.88219178082192"
        ],
        [
         "Damascus is the capital of Syria and its average temperature is 63.983561643835564"
        ],
        [
         "Mexico City is the capital of Mexico and its average temperature is 62.83907103825142"
        ],
        [
         "La Paz is the capital of Bolivia and its average temperature is 45.327595628415295"
        ],
        [
         "Amman is the capital of Jordan and its average temperature is 64.27178082191782"
        ],
        [
         "La Paz is the capital of Bolivia and its average temperature is 45.88087431693987"
        ],
        [
         "Damascus is the capital of Syria and its average temperature is 64.52054794520545"
        ],
        [
         "Buenos Aires is the capital of Argentina and its average temperature is 61.24904109589046"
        ],
        [
         "Ankara is the capital of Turkey and its average temperature is 51.78547945205478"
        ],
        [
         "Buenos Aires is the capital of Argentina and its average temperature is 62.31150684931508"
        ],
        [
         "Nassau is the capital of Bahamas and its average temperature is 75.5894736842105"
        ],
        [
         "Stockholm is the capital of Sweden and its average temperature is 44.27431693989073"
        ],
        [
         "Riyadh is the capital of Saudi Arabia and its average temperature is 79.53579234972678"
        ],
        [
         "Ankara is the capital of Turkey and its average temperature is 51.418904109589086"
        ],
        [
         "Madrid is the capital of Spain and its average temperature is 59.486849315068476"
        ],
        [
         "Manama is the capital of Bahrain and its average temperature is 79.97232876712333"
        ],
        [
         "Doha is the capital of Qatar and its average temperature is 82.41890410958908"
        ],
        [
         "Nassau is the capital of Bahamas and its average temperature is 78.88356164383559"
        ],
        [
         "Amman is the capital of Jordan and its average temperature is 65.7386301369863"
        ],
        [
         "Abu Dhabi is the capital of United Arab Emirates and its average temperature is 82.62240437158466"
        ],
        [
         "Hamilton is the capital of Bermuda and its average temperature is 69.89743589743593"
        ],
        [
         "Muscat is the capital of Oman and its average temperature is -6.6767759562841595"
        ],
        [
         "Damascus is the capital of Syria and its average temperature is 63.36557377049187"
        ],
        [
         "Nassau is the capital of Bahamas and its average temperature is 79.85095890410959"
        ],
        [
         "Bridgetown is the capital of Barbados and its average temperature is 77.39480874316943"
        ],
        [
         "Ankara is the capital of Turkey and its average temperature is 51.34438356164382"
        ],
        [
         "Madrid is the capital of Spain and its average temperature is 58.95178082191778"
        ],
        [
         "Ottawa is the capital of Canada and its average temperature is 44.84684931506851"
        ],
        [
         "Mexico City is the capital of Mexico and its average temperature is 62.386849315068524"
        ],
        [
         "Beirut is the capital of Lebanon and its average temperature is 70.04781420765026"
        ],
        [
         "Beirut is the capital of Lebanon and its average temperature is 69.54535519125686"
        ],
        [
         "Stockholm is the capital of Sweden and its average temperature is 44.8241095890411"
        ],
        [
         "Bern is the capital of Switzerland and its average temperature is 50.6715068493151"
        ],
        [
         "Damascus is the capital of Syria and its average temperature is 63.43013698630139"
        ],
        [
         "Buenos Aires is the capital of Argentina and its average temperature is 62.62595628415302"
        ],
        [
         "Stockholm is the capital of Sweden and its average temperature is 39.836567164179115"
        ],
        [
         "Damascus is the capital of Syria and its average temperature is 64.82520547945198"
        ],
        [
         "Ankara is the capital of Turkey and its average temperature is 53.08602739726031"
        ],
        [
         "Buenos Aires is the capital of Argentina and its average temperature is 69.98432835820897"
        ],
        [
         "Madrid is the capital of Spain and its average temperature is 58.35260273972605"
        ],
        [
         "Abu Dhabi is the capital of United Arab Emirates and its average temperature is 82.40219178082195"
        ],
        [
         "Buenos Aires is the capital of Argentina and its average temperature is 63.61369863013696"
        ],
        [
         "Manama is the capital of Bahrain and its average temperature is 80.92"
        ],
        [
         "Buenos Aires is the capital of Argentina and its average temperature is 62.895068493150724"
        ],
        [
         "Bridgetown is the capital of Barbados and its average temperature is 80.16657534246578"
        ],
        [
         "Muscat is the capital of Oman and its average temperature is 75.06958904109587"
        ],
        [
         "Muscat is the capital of Oman and its average temperature is 80.63890410958902"
        ],
        [
         "Riyadh is the capital of Saudi Arabia and its average temperature is 79.14630136986307"
        ],
        [
         "Buenos Aires is the capital of Argentina and its average temperature is 62.57095890410963"
        ],
        [
         "La Paz is the capital of Bolivia and its average temperature is 45.67205479452055"
        ],
        [
         "Bridgetown is the capital of Barbados and its average temperature is 78.76000000000002"
        ],
        [
         "Bratislava is the capital of Slovakia and its average temperature is 50.702459016393426"
        ],
        [
         "Nassau is the capital of Bahamas and its average temperature is 68.0939890710383"
        ],
        [
         "Stockholm is the capital of Sweden and its average temperature is 45.467123287671235"
        ],
        [
         "Muscat is the capital of Oman and its average temperature is 23.960273972602735"
        ],
        [
         "Nassau is the capital of Bahamas and its average temperature is 76.33835616438353"
        ],
        [
         "Bern is the capital of Switzerland and its average temperature is 49.841095890411"
        ],
        [
         "Amman is the capital of Jordan and its average temperature is 64.39123287671234"
        ],
        [
         "Buenos Aires is the capital of Argentina and its average temperature is 62.68794520547938"
        ],
        [
         "Bratislava is the capital of Slovakia and its average temperature is 52.71945205479454"
        ],
        [
         "Nassau is the capital of Bahamas and its average temperature is 78.0674863387978"
        ],
        [
         "Muscat is the capital of Oman and its average temperature is -99.0"
        ],
        [
         "Doha is the capital of Qatar and its average temperature is 81.38575342465751"
        ],
        [
         "Damascus is the capital of Syria and its average temperature is 63.0106849315069"
        ],
        [
         "Abu Dhabi is the capital of United Arab Emirates and its average temperature is 81.84301369863017"
        ],
        [
         "Madrid is the capital of Spain and its average temperature is 58.30437158469944"
        ],
        [
         "Ankara is the capital of Turkey and its average temperature is 48.33671232876715"
        ],
        [
         "Stockholm is the capital of Sweden and its average temperature is 45.04726775956285"
        ],
        [
         "Muscat is the capital of Oman and its average temperature is 76.20928961748632"
        ],
        [
         "Muscat is the capital of Oman and its average temperature is 69.05342465753422"
        ],
        [
         "Muscat is the capital of Oman and its average temperature is 22.001095890410955"
        ],
        [
         "Riyadh is the capital of Saudi Arabia and its average temperature is 79.82950819672126"
        ],
        [
         "Damascus is the capital of Syria and its average temperature is 58.06639344262294"
        ],
        [
         "Abu Dhabi is the capital of United Arab Emirates and its average temperature is 83.77978142076499"
        ],
        [
         "Madrid is the capital of Spain and its average temperature is 59.54575342465752"
        ],
        [
         "Ankara is the capital of Turkey and its average temperature is 50.32931506849315"
        ],
        [
         "Damascus is the capital of Syria and its average temperature is 62.10191780821915"
        ],
        [
         "Manama is the capital of Bahrain and its average temperature is 78.89479452054795"
        ],
        [
         "Manama is the capital of Bahrain and its average temperature is 80.14836065573775"
        ],
        [
         "Amman is the capital of Jordan and its average temperature is 63.46136986301374"
        ],
        [
         "Amman is the capital of Jordan and its average temperature is 64.34945355191262"
        ],
        [
         "Nassau is the capital of Bahamas and its average temperature is 79.17753424657536"
        ],
        [
         "Amman is the capital of Jordan and its average temperature is 64.18333333333328"
        ],
        [
         "Beirut is the capital of Lebanon and its average temperature is 61.464179104477616"
        ],
        [
         "Riyadh is the capital of Saudi Arabia and its average temperature is 79.5904109589041"
        ],
        [
         "Nassau is the capital of Bahamas and its average temperature is 78.61584699453556"
        ],
        [
         "Madrid is the capital of Spain and its average temperature is 56.16986301369865"
        ],
        [
         "Riyadh is the capital of Saudi Arabia and its average temperature is 78.19698630136983"
        ],
        [
         "Ottawa is the capital of Canada and its average temperature is 42.62950819672128"
        ],
        [
         "Bern is the capital of Switzerland and its average temperature is 49.79863013698628"
        ],
        [
         "Bratislava is the capital of Slovakia and its average temperature is 51.73479452054798"
        ],
        [
         "Stockholm is the capital of Sweden and its average temperature is 44.293169398907104"
        ],
        [
         "Muscat is the capital of Oman and its average temperature is 80.27506849315068"
        ],
        [
         "La Paz is the capital of Bolivia and its average temperature is 44.73945205479452"
        ],
        [
         "Muscat is the capital of Oman and its average temperature is 68.4887978142076"
        ],
        [
         "Bridgetown is the capital of Barbados and its average temperature is 19.64520547945204"
        ],
        [
         "Nassau is the capital of Bahamas and its average temperature is 78.25205479452055"
        ],
        [
         "Doha is the capital of Qatar and its average temperature is 82.26885245901634"
        ],
        [
         "Stockholm is the capital of Sweden and its average temperature is 46.66164383561644"
        ],
        [
         "Manama is the capital of Bahrain and its average temperature is 80.60601092896171"
        ],
        [
         "Beirut is the capital of Lebanon and its average temperature is 69.6526027397261"
        ],
        [
         "Muscat is the capital of Oman and its average temperature is 76.71912568306013"
        ],
        [
         "Damascus is the capital of Syria and its average temperature is 62.95054644808744"
        ],
        [
         "Ankara is the capital of Turkey and its average temperature is 51.49398907103823"
        ],
        [
         "Doha is the capital of Qatar and its average temperature is 82.71475409836069"
        ],
        [
         "Riyadh is the capital of Saudi Arabia and its average temperature is 70.73432835820897"
        ],
        [
         "La Paz is the capital of Bolivia and its average temperature is 44.564383561643865"
        ],
        [
         "Hamilton is the capital of Bermuda and its average temperature is 70.64164383561648"
        ],
        [
         "Bern is the capital of Switzerland and its average temperature is 49.133698630137"
        ],
        [
         "Madrid is the capital of Spain and its average temperature is 50.94477611940298"
        ],
        [
         "Damascus is the capital of Syria and its average temperature is 61.511780821917796"
        ],
        [
         "Ottawa is the capital of Canada and its average temperature is 31.720496894409948"
        ],
        [
         "Buenos Aires is the capital of Argentina and its average temperature is 60.787397260274005"
        ],
        [
         "Stockholm is the capital of Sweden and its average temperature is 45.28547945205478"
        ],
        [
         "Ankara is the capital of Turkey and its average temperature is 54.42575342465758"
        ],
        [
         "Bridgetown is the capital of Barbados and its average temperature is 79.21835616438358"
        ],
        [
         "Bridgetown is the capital of Barbados and its average temperature is 81.38575342465757"
        ],
        [
         "Doha is the capital of Qatar and its average temperature is 83.32575342465758"
        ],
        [
         "Ottawa is the capital of Canada and its average temperature is 42.91342465753423"
        ],
        [
         "Nassau is the capital of Bahamas and its average temperature is 80.40767123287678"
        ],
        [
         "Beirut is the capital of Lebanon and its average temperature is 64.13315068493152"
        ],
        [
         "Abu Dhabi is the capital of United Arab Emirates and its average temperature is 81.53917808219177"
        ],
        [
         "Abu Dhabi is the capital of United Arab Emirates and its average temperature is 81.13890410958906"
        ],
        [
         "Manama is the capital of Bahrain and its average temperature is 80.20931506849313"
        ],
        [
         "Amman is the capital of Jordan and its average temperature is 62.505479452054814"
        ],
        [
         "Abu Dhabi is the capital of United Arab Emirates and its average temperature is 83.80438356164385"
        ],
        [
         "Hamilton is the capital of Bermuda and its average temperature is 71.33661202185796"
        ],
        [
         "La Paz is the capital of Bolivia and its average temperature is 43.89699453551912"
        ],
        [
         "Amman is the capital of Jordan and its average temperature is 64.8131506849315"
        ],
        [
         "Ankara is the capital of Turkey and its average temperature is 50.2456284153006"
        ],
        [
         "Mexico City is the capital of Mexico and its average temperature is 61.016438356164414"
        ],
        [
         "La Paz is the capital of Bolivia and its average temperature is 44.4164383561644"
        ],
        [
         "Bern is the capital of Switzerland and its average temperature is 47.72493150684932"
        ],
        [
         "Damascus is the capital of Syria and its average temperature is 62.87424657534244"
        ],
        [
         "Damascus is the capital of Syria and its average temperature is 63.475956284152915"
        ],
        [
         "Abu Dhabi is the capital of United Arab Emirates and its average temperature is 82.42767123287672"
        ],
        [
         "Doha is the capital of Qatar and its average temperature is 82.03060109289612"
        ],
        [
         "Manama is the capital of Bahrain and its average temperature is 80.91013698630132"
        ],
        [
         "Buenos Aires is the capital of Argentina and its average temperature is 62.46857923497266"
        ],
        [
         "La Paz is the capital of Bolivia and its average temperature is 43.08306010928958"
        ],
        [
         "Stockholm is the capital of Sweden and its average temperature is 46.46967213114755"
        ],
        [
         "Mexico City is the capital of Mexico and its average temperature is 63.39315068493148"
        ],
        [
         "Ankara is the capital of Turkey and its average temperature is 50.608469945355175"
        ],
        [
         "Mexico City is the capital of Mexico and its average temperature is 60.25397260273973"
        ],
        [
         "Bern is the capital of Switzerland and its average temperature is 48.663835616438355"
        ],
        [
         "Beirut is the capital of Lebanon and its average temperature is 70.90547945205483"
        ],
        [
         "Mexico City is the capital of Mexico and its average temperature is 61.8819178082192"
        ],
        [
         "Beirut is the capital of Lebanon and its average temperature is 70.11972602739726"
        ],
        [
         "Beirut is the capital of Lebanon and its average temperature is 72.6569863013698"
        ],
        [
         "La Paz is the capital of Bolivia and its average temperature is 44.131232876712325"
        ],
        [
         "Madrid is the capital of Spain and its average temperature is 57.8893150684931"
        ],
        [
         "Muscat is the capital of Oman and its average temperature is 75.34438356164384"
        ],
        [
         "Manama is the capital of Bahrain and its average temperature is 80.48849315068492"
        ],
        [
         "Madrid is the capital of Spain and its average temperature is 59.7360655737705"
        ],
        [
         "Mexico City is the capital of Mexico and its average temperature is 60.88630136986301"
        ],
        [
         "Mexico City is the capital of Mexico and its average temperature is 61.2450819672131"
        ],
        [
         "Manama is the capital of Bahrain and its average temperature is 81.57780821917805"
        ],
        [
         "Beirut is the capital of Lebanon and its average temperature is 70.7506849315069"
        ],
        [
         "Buenos Aires is the capital of Argentina and its average temperature is 63.23534246575342"
        ],
        [
         "Nassau is the capital of Bahamas and its average temperature is 78.4292349726776"
        ],
        [
         "Doha is the capital of Qatar and its average temperature is 80.70191780821911"
        ],
        [
         "Doha is the capital of Qatar and its average temperature is 82.39972602739734"
        ],
        [
         "La Paz is the capital of Bolivia and its average temperature is 45.04684931506849"
        ],
        [
         "Manama is the capital of Bahrain and its average temperature is 81.20438356164384"
        ],
        [
         "Nassau is the capital of Bahamas and its average temperature is 71.53287671232877"
        ],
        [
         "Stockholm is the capital of Sweden and its average temperature is 45.89616438356161"
        ],
        [
         "Bern is the capital of Switzerland and its average temperature is 47.98410958904105"
        ],
        [
         "Ankara is the capital of Turkey and its average temperature is 51.20191256830599"
        ],
        [
         "Buenos Aires is the capital of Argentina and its average temperature is 60.87267759562841"
        ],
        [
         "Riyadh is the capital of Saudi Arabia and its average temperature is 77.8743169398907"
        ],
        [
         "Ankara is the capital of Turkey and its average temperature is 52.020821917808256"
        ],
        [
         "Mexico City is the capital of Mexico and its average temperature is 63.53890410958908"
        ],
        [
         "Bern is the capital of Switzerland and its average temperature is 43.40000000000001"
        ],
        [
         "Amman is the capital of Jordan and its average temperature is 63.7961643835617"
        ],
        [
         "Bern is the capital of Switzerland and its average temperature is 48.33442622950818"
        ],
        [
         "Beirut is the capital of Lebanon and its average temperature is 67.4265753424657"
        ],
        [
         "Abu Dhabi is the capital of United Arab Emirates and its average temperature is 80.50027322404367"
        ],
        [
         "Hamilton is the capital of Bermuda and its average temperature is 71.23424657534245"
        ],
        [
         "Bratislava is the capital of Slovakia and its average temperature is 52.181095890410944"
        ],
        [
         "Amman is the capital of Jordan and its average temperature is 62.16273972602745"
        ],
        [
         "Ottawa is the capital of Canada and its average temperature is 46.35437158469948"
        ],
        [
         "Abu Dhabi is the capital of United Arab Emirates and its average temperature is 82.68410958904114"
        ],
        [
         "Buenos Aires is the capital of Argentina and its average temperature is 61.04246575342465"
        ],
        [
         "Ottawa is the capital of Canada and its average temperature is 43.05726027397256"
        ],
        [
         "Bridgetown is the capital of Barbados and its average temperature is 78.32540983606557"
        ],
        [
         "Madrid is the capital of Spain and its average temperature is 59.22103825136618"
        ],
        [
         "Bern is the capital of Switzerland and its average temperature is 49.200821917808234"
        ],
        [
         "Riyadh is the capital of Saudi Arabia and its average temperature is 79.18493150684931"
        ],
        [
         "Buenos Aires is the capital of Argentina and its average temperature is 61.95519125683062"
        ],
        [
         "Beirut is the capital of Lebanon and its average temperature is 70.0112328767123"
        ],
        [
         "Buenos Aires is the capital of Argentina and its average temperature is 62.88054794520547"
        ],
        [
         "Riyadh is the capital of Saudi Arabia and its average temperature is 79.4467213114754"
        ],
        [
         "La Paz is the capital of Bolivia and its average temperature is 45.306557377049174"
        ],
        [
         "Bern is the capital of Switzerland and its average temperature is 50.486065573770524"
        ],
        [
         "Nassau is the capital of Bahamas and its average temperature is 78.17452054794518"
        ],
        [
         "Ankara is the capital of Turkey and its average temperature is 50.17950819672125"
        ],
        [
         "Riyadh is the capital of Saudi Arabia and its average temperature is 80.35041095890412"
        ],
        [
         "Buenos Aires is the capital of Argentina and its average temperature is 62.935792349726825"
        ],
        [
         "Bern is the capital of Switzerland and its average temperature is 50.8882191780822"
        ],
        [
         "Amman is the capital of Jordan and its average temperature is 65.63524590163934"
        ],
        [
         "Beirut is the capital of Lebanon and its average temperature is 67.85972602739727"
        ],
        [
         "Abu Dhabi is the capital of United Arab Emirates and its average temperature is 83.34246575342463"
        ],
        [
         "Mexico City is the capital of Mexico and its average temperature is 61.80846994535516"
        ],
        [
         "Muscat is the capital of Oman and its average temperature is 68.1232876712329"
        ],
        [
         "Doha is the capital of Qatar and its average temperature is 82.75452054794529"
        ],
        [
         "Hamilton is the capital of Bermuda and its average temperature is 71.09178082191781"
        ],
        [
         "Bridgetown is the capital of Barbados and its average temperature is 79.73606557377052"
        ],
        [
         "Beirut is the capital of Lebanon and its average temperature is 70.27123287671228"
        ],
        [
         "Doha is the capital of Qatar and its average temperature is 82.35698630136989"
        ],
        [
         "Ankara is the capital of Turkey and its average temperature is 52.77095890410957"
        ],
        [
         "Mexico City is the capital of Mexico and its average temperature is 62.285792349726805"
        ],
        [
         "Mexico City is the capital of Mexico and its average temperature is 63.30383561643839"
        ],
        [
         "Bratislava is the capital of Slovakia and its average temperature is 44.66940298507463"
        ],
        [
         "Bern is the capital of Switzerland and its average temperature is 50.42295081967218"
        ],
        [
         "Manama is the capital of Bahrain and its average temperature is 72.23880597014929"
        ],
        [
         "Ankara is the capital of Turkey and its average temperature is 53.39643835616435"
        ],
        [
         "Hamilton is the capital of Bermuda and its average temperature is 71.13661202185796"
        ],
        [
         "Doha is the capital of Qatar and its average temperature is 82.76958904109587"
        ],
        [
         "Stockholm is the capital of Sweden and its average temperature is 46.569041095890405"
        ],
        [
         "Beirut is the capital of Lebanon and its average temperature is 69.76054794520545"
        ],
        [
         "Stockholm is the capital of Sweden and its average temperature is 46.610958904109566"
        ],
        [
         "Bern is the capital of Switzerland and its average temperature is 47.51666666666663"
        ],
        [
         "Bridgetown is the capital of Barbados and its average temperature is 81.66904109589044"
        ],
        [
         "Bratislava is the capital of Slovakia and its average temperature is 52.688251366120205"
        ],
        [
         "Bratislava is the capital of Slovakia and its average temperature is 52.88387978142072"
        ],
        [
         "Madrid is the capital of Spain and its average temperature is 58.01808219178085"
        ],
        [
         "Amman is the capital of Jordan and its average temperature is 64.25956284153001"
        ],
        [
         "Damascus is the capital of Syria and its average temperature is 63.26657534246577"
        ],
        [
         "Bratislava is the capital of Slovakia and its average temperature is 53.0627397260274"
        ],
        [
         "Ankara is the capital of Turkey and its average temperature is 50.87178082191779"
        ],
        [
         "Ottawa is the capital of Canada and its average temperature is 43.6482191780822"
        ],
        [
         "Hamilton is the capital of Bermuda and its average temperature is 70.91534246575345"
        ],
        [
         "Madrid is the capital of Spain and its average temperature is 57.30356164383564"
        ],
        [
         "Doha is the capital of Qatar and its average temperature is 81.5371584699453"
        ],
        [
         "Damascus is the capital of Syria and its average temperature is 62.03068493150682"
        ],
        [
         "Ottawa is the capital of Canada and its average temperature is 42.84234972677597"
        ],
        [
         "Bern is the capital of Switzerland and its average temperature is 47.89287671232874"
        ],
        [
         "Guatemala City is the capital of Guatemala and its average temperature is 64.03224043715848"
        ],
        [
         "Panama City is the capital of Panama and its average temperature is 79.69561643835618"
        ],
        [
         "Paramaribo is the capital of Suriname and its average temperature is -5.2237704918032675"
        ],
        [
         "Caracas is the capital of Venezuela and its average temperature is 80.76849315068492"
        ],
        [
         "Georgetown is the capital of Guyana and its average temperature is -35.47814207650273"
        ],
        [
         "Lima is the capital of Peru and its average temperature is 67.28904109589038"
        ],
        [
         "Caracas is the capital of Venezuela and its average temperature is 80.26165413533833"
        ],
        [
         "Paramaribo is the capital of Suriname and its average temperature is 76.9043835616438"
        ],
        [
         "Paramaribo is the capital of Suriname and its average temperature is 78.56557377049178"
        ],
        [
         "Guatemala City is the capital of Guatemala and its average temperature is 66.8315068493151"
        ],
        [
         "Lima is the capital of Peru and its average temperature is 66.97726027397253"
        ],
        [
         "Santo Domingo is the capital of Dominican Republic and its average temperature is 78.98164383561655"
        ],
        [
         "Lima is the capital of Peru and its average temperature is 64.26958904109591"
        ],
        [
         "Paramaribo is the capital of Suriname and its average temperature is 79.42404371584702"
        ],
        [
         "Paramaribo is the capital of Suriname and its average temperature is 62.43114754098359"
        ],
        [
         "Paramaribo is the capital of Suriname and its average temperature is 79.08876712328768"
        ],
        [
         "Guatemala City is the capital of Guatemala and its average temperature is 62.17123287671231"
        ],
        [
         "Guatemala City is the capital of Guatemala and its average temperature is 66.59068493150683"
        ],
        [
         "Managua is the capital of Nicaragua and its average temperature is 77.2352459016393"
        ],
        [
         "Managua is the capital of Nicaragua and its average temperature is 81.49041095890406"
        ],
        [
         "Panama City is the capital of Panama and its average temperature is 80.72438356164385"
        ],
        [
         "Havana is the capital of Cuba and its average temperature is 70.8046448087431"
        ],
        [
         "Managua is the capital of Nicaragua and its average temperature is 78.46666666666665"
        ],
        [
         "Havana is the capital of Cuba and its average temperature is 74.90246575342462"
        ],
        [
         "Santo Domingo is the capital of Dominican Republic and its average temperature is 47.827671232876746"
        ],
        [
         "Tegucigalpa is the capital of Honduras and its average temperature is 69.90958904109588"
        ],
        [
         "Guatemala City is the capital of Guatemala and its average temperature is 66.11479452054786"
        ],
        [
         "Caracas is the capital of Venezuela and its average temperature is 70.88767123287674"
        ],
        [
         "Havana is the capital of Cuba and its average temperature is 75.31397260273974"
        ],
        [
         "Panama City is the capital of Panama and its average temperature is 80.93251366120218"
        ],
        [
         "Guatemala City is the capital of Guatemala and its average temperature is 64.94945355191254"
        ],
        [
         "Tegucigalpa is the capital of Honduras and its average temperature is 71.63123287671232"
        ],
        [
         "Georgetown is the capital of Guyana and its average temperature is -84.93315068493152"
        ],
        [
         "Panama City is the capital of Panama and its average temperature is 80.13342465753426"
        ],
        [
         "Paramaribo is the capital of Suriname and its average temperature is 72.1890410958904"
        ],
        [
         "Tegucigalpa is the capital of Honduras and its average temperature is 58.478195488721816"
        ],
        [
         "Panama City is the capital of Panama and its average temperature is 79.29260273972601"
        ],
        [
         "Tegucigalpa is the capital of Honduras and its average temperature is 70.88114754098362"
        ],
        [
         "Managua is the capital of Nicaragua and its average temperature is 81.20218579234968"
        ],
        [
         "Panama City is the capital of Panama and its average temperature is 77.65315068493152"
        ],
        [
         "Panama City is the capital of Panama and its average temperature is 80.40739726027392"
        ],
        [
         "Lima is the capital of Peru and its average temperature is 63.96027397260273"
        ],
        [
         "Paramaribo is the capital of Suriname and its average temperature is 40.08283378746594"
        ],
        [
         "Panama City is the capital of Panama and its average temperature is 79.94398907103825"
        ],
        [
         "Santo Domingo is the capital of Dominican Republic and its average temperature is 68.78169398907102"
        ],
        [
         "Tegucigalpa is the capital of Honduras and its average temperature is 66.10876712328765"
        ],
        [
         "Lima is the capital of Peru and its average temperature is 67.40219178082191"
        ],
        [
         "Managua is the capital of Nicaragua and its average temperature is 78.56967213114753"
        ],
        [
         "Tegucigalpa is the capital of Honduras and its average temperature is 68.82767123287668"
        ],
        [
         "Managua is the capital of Nicaragua and its average temperature is 81.4213698630137"
        ],
        [
         "Caracas is the capital of Venezuela and its average temperature is 80.75136612021853"
        ],
        [
         "Caracas is the capital of Venezuela and its average temperature is 82.28082191780815"
        ],
        [
         "Tegucigalpa is the capital of Honduras and its average temperature is 67.7478142076503"
        ],
        [
         "Santo Domingo is the capital of Dominican Republic and its average temperature is 66.12631578947365"
        ],
        [
         "Havana is the capital of Cuba and its average temperature is 75.81803278688521"
        ],
        [
         "Paramaribo is the capital of Suriname and its average temperature is 34.62164383561646"
        ],
        [
         "Caracas is the capital of Venezuela and its average temperature is 61.95765027322411"
        ],
        [
         "Havana is the capital of Cuba and its average temperature is 75.82876712328765"
        ],
        [
         "Georgetown is the capital of Guyana and its average temperature is 28.39616438356166"
        ],
        [
         "Havana is the capital of Cuba and its average temperature is 75.96767123287678"
        ],
        [
         "Santo Domingo is the capital of Dominican Republic and its average temperature is 80.13123287671242"
        ],
        [
         "Lima is the capital of Peru and its average temperature is 65.25191256830598"
        ],
        [
         "Paramaribo is the capital of Suriname and its average temperature is 79.22985074626867"
        ],
        [
         "Georgetown is the capital of Guyana and its average temperature is 27.54999999999998"
        ],
        [
         "Caracas is the capital of Venezuela and its average temperature is 82.32821917808208"
        ],
        [
         "Guatemala City is the capital of Guatemala and its average temperature is 66.83205479452054"
        ],
        [
         "Guatemala City is the capital of Guatemala and its average temperature is 64.95780821917808"
        ],
        [
         "Guatemala City is the capital of Guatemala and its average temperature is 66.50876712328767"
        ],
        [
         "Caracas is the capital of Venezuela and its average temperature is 81.45327868852459"
        ],
        [
         "Havana is the capital of Cuba and its average temperature is 75.34219178082188"
        ],
        [
         "Guatemala City is the capital of Guatemala and its average temperature is 64.16657534246578"
        ],
        [
         "Caracas is the capital of Venezuela and its average temperature is 80.91506849315064"
        ],
        [
         "Guatemala City is the capital of Guatemala and its average temperature is 63.49917808219171"
        ],
        [
         "Santo Domingo is the capital of Dominican Republic and its average temperature is 73.00710382513658"
        ],
        [
         "Guatemala City is the capital of Guatemala and its average temperature is 63.0795081967213"
        ],
        [
         "Panama City is the capital of Panama and its average temperature is 78.35655737704921"
        ],
        [
         "Panama City is the capital of Panama and its average temperature is 76.54672131147547"
        ],
        [
         "Managua is the capital of Nicaragua and its average temperature is 81.22849315068493"
        ],
        [
         "Havana is the capital of Cuba and its average temperature is 73.50164383561642"
        ],
        [
         "Santo Domingo is the capital of Dominican Republic and its average temperature is 75.61808219178084"
        ],
        [
         "Havana is the capital of Cuba and its average temperature is 75.91671232876712"
        ],
        [
         "Panama City is the capital of Panama and its average temperature is 78.47232876712329"
        ],
        [
         "Paramaribo is the capital of Suriname and its average temperature is 78.49589041095889"
        ],
        [
         "Managua is the capital of Nicaragua and its average temperature is 79.66767123287673"
        ],
        [
         "Havana is the capital of Cuba and its average temperature is 73.86191780821919"
        ],
        [
         "Tegucigalpa is the capital of Honduras and its average temperature is 67.41010928961754"
        ],
        [
         "Lima is the capital of Peru and its average temperature is 66.65917808219174"
        ],
        [
         "Paramaribo is the capital of Suriname and its average temperature is -15.690410958904119"
        ],
        [
         "Santo Domingo is the capital of Dominican Republic and its average temperature is 69.78219178082192"
        ],
        [
         "Paramaribo is the capital of Suriname and its average temperature is 72.61863013698634"
        ],
        [
         "Paramaribo is the capital of Suriname and its average temperature is 65.8997267759563"
        ],
        [
         "Panama City is the capital of Panama and its average temperature is 80.56630136986304"
        ],
        [
         "Georgetown is the capital of Guyana and its average temperature is 35.87369863013699"
        ],
        [
         "Havana is the capital of Cuba and its average temperature is 73.35109289617489"
        ],
        [
         "Tegucigalpa is the capital of Honduras and its average temperature is 67.19123287671233"
        ],
        [
         "Managua is the capital of Nicaragua and its average temperature is 81.57616438356169"
        ],
        [
         "Panama City is the capital of Panama and its average temperature is 78.43643835616442"
        ],
        [
         "Managua is the capital of Nicaragua and its average temperature is 80.62923497267761"
        ],
        [
         "Caracas is the capital of Venezuela and its average temperature is 79.80164383561649"
        ],
        [
         "Tegucigalpa is the capital of Honduras and its average temperature is 70.82"
        ],
        [
         "Georgetown is the capital of Guyana and its average temperature is -3.4051912568305993"
        ],
        [
         "Havana is the capital of Cuba and its average temperature is 74.11726027397262"
        ],
        [
         "Georgetown is the capital of Guyana and its average temperature is -13.730063291139249"
        ],
        [
         "Tegucigalpa is the capital of Honduras and its average temperature is 71.0155737704918"
        ],
        [
         "Panama City is the capital of Panama and its average temperature is 79.86767123287666"
        ],
        [
         "Havana is the capital of Cuba and its average temperature is 74.03890410958903"
        ],
        [
         "Havana is the capital of Cuba and its average temperature is 70.97232876712332"
        ],
        [
         "Guatemala City is the capital of Guatemala and its average temperature is 66.458904109589"
        ],
        [
         "Managua is the capital of Nicaragua and its average temperature is 80.69835616438363"
        ],
        [
         "Managua is the capital of Nicaragua and its average temperature is 80.59013698630125"
        ],
        [
         "Managua is the capital of Nicaragua and its average temperature is 82.916814159292"
        ],
        [
         "Santo Domingo is the capital of Dominican Republic and its average temperature is 77.32109589041089"
        ],
        [
         "Bridgetown is the capital of Barbados and its average temperature is 77.8857142857143"
        ],
        [
         "Guatemala City is the capital of Guatemala and its average temperature is 66.50109589041092"
        ],
        [
         "Panama City is the capital of Panama and its average temperature is 80.11835616438357"
        ],
        [
         "Lima is the capital of Peru and its average temperature is 69.61708074534167"
        ],
        [
         "Paramaribo is the capital of Suriname and its average temperature is 79.11671232876714"
        ],
        [
         "Santo Domingo is the capital of Dominican Republic and its average temperature is 74.74071038251367"
        ],
        [
         "Guatemala City is the capital of Guatemala and its average temperature is 65.33424657534246"
        ],
        [
         "Paramaribo is the capital of Suriname and its average temperature is 58.50520547945205"
        ],
        [
         "Managua is the capital of Nicaragua and its average temperature is 79.43945205479454"
        ],
        [
         "Caracas is the capital of Venezuela and its average temperature is 79.40876712328765"
        ],
        [
         "Havana is the capital of Cuba and its average temperature is 67.05983606557378"
        ],
        [
         "Lima is the capital of Peru and its average temperature is 66.30794520547947"
        ],
        [
         "Santo Domingo is the capital of Dominican Republic and its average temperature is 70.38360655737701"
        ],
        [
         "Santo Domingo is the capital of Dominican Republic and its average temperature is 22.55561643835617"
        ],
        [
         "Tegucigalpa is the capital of Honduras and its average temperature is 64.81780821917802"
        ],
        [
         "Panama City is the capital of Panama and its average temperature is 76.95479452054798"
        ],
        [
         "Paramaribo is the capital of Suriname and its average temperature is 73.36273972602744"
        ],
        [
         "Caracas is the capital of Venezuela and its average temperature is 80.14794520547945"
        ],
        [
         "Paramaribo is the capital of Suriname and its average temperature is -23.654644808743182"
        ],
        [
         "Caracas is the capital of Venezuela and its average temperature is 82.11205479452057"
        ],
        [
         "Tegucigalpa is the capital of Honduras and its average temperature is 70.26657534246573"
        ],
        [
         "Panama City is the capital of Panama and its average temperature is 81.26038251366126"
        ],
        [
         "Santo Domingo is the capital of Dominican Republic and its average temperature is 71.74808743169397"
        ],
        [
         "Managua is the capital of Nicaragua and its average temperature is 80.81726027397266"
        ],
        [
         "Managua is the capital of Nicaragua and its average temperature is 79.15835616438358"
        ],
        [
         "Panama City is the capital of Panama and its average temperature is 79.37232876712329"
        ],
        [
         "Panama City is the capital of Panama and its average temperature is 78.06092896174863"
        ],
        [
         "Tegucigalpa is the capital of Honduras and its average temperature is 63.99999999999996"
        ],
        [
         "Guatemala City is the capital of Guatemala and its average temperature is 68.16417910447763"
        ],
        [
         "Santo Domingo is the capital of Dominican Republic and its average temperature is 74.39369863013694"
        ],
        [
         "Panama City is the capital of Panama and its average temperature is 81.89402985074626"
        ],
        [
         "Santo Domingo is the capital of Dominican Republic and its average temperature is 74.76054794520547"
        ],
        [
         "Tegucigalpa is the capital of Honduras and its average temperature is 67.97753424657537"
        ],
        [
         "Lima is the capital of Peru and its average temperature is 68.47295081967206"
        ],
        [
         "Havana is the capital of Cuba and its average temperature is 74.42739726027399"
        ],
        [
         "Tegucigalpa is the capital of Honduras and its average temperature is 72.16393442622949"
        ],
        [
         "Havana is the capital of Cuba and its average temperature is 75.60356164383565"
        ],
        [
         "Lima is the capital of Peru and its average temperature is 66.5786885245902"
        ],
        [
         "Caracas is the capital of Venezuela and its average temperature is 81.48087431693988"
        ],
        [
         "Caracas is the capital of Venezuela and its average temperature is 70.99835616438355"
        ],
        [
         "Havana is the capital of Cuba and its average temperature is 75.05109289617485"
        ],
        [
         "Santo Domingo is the capital of Dominican Republic and its average temperature is 74.73551912568307"
        ],
        [
         "Lima is the capital of Peru and its average temperature is 64.98273972602735"
        ],
        [
         "Guatemala City is the capital of Guatemala and its average temperature is 65.6978142076502"
        ],
        [
         "Georgetown is the capital of Guyana and its average temperature is 46.002191780821896"
        ],
        [
         "Tegucigalpa is the capital of Honduras and its average temperature is 66.59315068493147"
        ],
        [
         "Lima is the capital of Peru and its average temperature is 67.07890410958902"
        ],
        [
         "Caracas is the capital of Venezuela and its average temperature is 72.614794520548"
        ],
        [
         "Lima is the capital of Peru and its average temperature is 66.15643835616444"
        ],
        [
         "Paramaribo is the capital of Suriname and its average temperature is -19.69835616438356"
        ],
        [
         "Guatemala City is the capital of Guatemala and its average temperature is 66.37103825136612"
        ],
        [
         "Tegucigalpa is the capital of Honduras and its average temperature is 69.7810958904109"
        ],
        [
         "Panama City is the capital of Panama and its average temperature is 80.17260273972605"
        ],
        [
         "Lima is the capital of Peru and its average temperature is 64.37726027397258"
        ],
        [
         "Tegucigalpa is the capital of Honduras and its average temperature is 71.04328767123289"
        ],
        [
         "Lima is the capital of Peru and its average temperature is 66.56803278688523"
        ],
        [
         "Caracas is the capital of Venezuela and its average temperature is 81.12684931506847"
        ],
        [
         "Santo Domingo is the capital of Dominican Republic and its average temperature is 72.76684931506846"
        ],
        [
         "Guatemala City is the capital of Guatemala and its average temperature is 63.587671232876744"
        ],
        [
         "Santo Domingo is the capital of Dominican Republic and its average temperature is 79.12876712328769"
        ],
        [
         "Paramaribo is the capital of Suriname and its average temperature is 75.21315068493152"
        ],
        [
         "Guatemala City is the capital of Guatemala and its average temperature is 65.89315068493154"
        ],
        [
         "Georgetown is the capital of Guyana and its average temperature is 13.200547945205484"
        ],
        [
         "Havana is the capital of Cuba and its average temperature is 75.2390977443609"
        ],
        [
         "Managua is the capital of Nicaragua and its average temperature is 80.41917808219182"
        ],
        [
         "Caracas is the capital of Venezuela and its average temperature is 81.23780821917806"
        ],
        [
         "Santo Domingo is the capital of Dominican Republic and its average temperature is 77.94821917808216"
        ],
        [
         "Tegucigalpa is the capital of Honduras and its average temperature is 71.36986301369873"
        ],
        [
         "Havana is the capital of Cuba and its average temperature is 74.04590163934421"
        ],
        [
         "Caracas is the capital of Venezuela and its average temperature is 78.7229508196721"
        ],
        [
         "Managua is the capital of Nicaragua and its average temperature is 81.91863013698625"
        ],
        [
         "Caracas is the capital of Venezuela and its average temperature is 77.98136986301365"
        ],
        [
         "Caracas is the capital of Venezuela and its average temperature is 79.98224043715857"
        ],
        [
         "Tegucigalpa is the capital of Honduras and its average temperature is 71.54630136986297"
        ],
        [
         "Managua is the capital of Nicaragua and its average temperature is 78.81589041095884"
        ],
        [
         "Managua is the capital of Nicaragua and its average temperature is 81.55452054794524"
        ],
        [
         "Santo Domingo is the capital of Dominican Republic and its average temperature is 76.71506849315071"
        ],
        [
         "Santo Domingo is the capital of Dominican Republic and its average temperature is 76.83945205479452"
        ],
        [
         "Managua is the capital of Nicaragua and its average temperature is 80.73961748633879"
        ],
        [
         "Havana is the capital of Cuba and its average temperature is 75.97205479452047"
        ],
        [
         "Guatemala City is the capital of Guatemala and its average temperature is 65.66939890710377"
        ],
        [
         "Paramaribo is the capital of Suriname and its average temperature is 27.72082191780822"
        ]
       ],
       "datasetInfos": [],
       "dbfsResultPath": null,
       "isJsonSchema": true,
       "metadata": {},
       "overflow": false,
       "plotOptions": {
        "customPlotOptions": {},
        "displayType": "table",
        "pivotAggregation": null,
        "pivotColumns": null,
        "xColumns": null,
        "yColumns": null
       },
       "removedWidgets": [],
       "schema": [
        {
         "metadata": "{}",
         "name": "Output",
         "type": "\"string\""
        }
       ],
       "type": "table"
      }
     },
     "output_type": "display_data"
    }
   ],
   "source": [
    "from pyspark.sql import SparkSession\n",
    "from pyspark.sql.functions import col, udf, broadcast\n",
    "from pyspark.sql.types import IntegerType, StringType\n",
    "\n",
    "# Initialize Spark session\n",
    "spark = SparkSession.builder.appName(\"AvgTemperatureByCountryUDF\").getOrCreate()\n",
    "\n",
    "# Load city temperature data\n",
    "temperature_file_path = \"/FileStore/tables/city_temperature.csv\"\n",
    "temperature_df = spark.read.csv(temperature_file_path, header=True, inferSchema=True)\n",
    "\n",
    "# Load country capitals data\n",
    "capitals_file_path = \"/FileStore/tables/country_list-2.csv\"\n",
    "capitals_df = spark.read.csv(capitals_file_path, header=True, inferSchema=True)\n",
    "\n",
    "# Define the UDF to filter years (Year >= 2000)\n",
    "filter_year_udf = udf(lambda year: year if year >= 2000 else None, IntegerType())\n",
    "\n",
    "# Define the UDF to format the output\n",
    "format_output_udf = udf(lambda capital, country, avg_temp: f\"{capital} is the capital of {country} and its average temperature is {avg_temp}\", StringType())\n",
    "\n",
    "# Apply the UDF to create a new column \"FilteredYear\"\n",
    "temperature_df = temperature_df.withColumn(\"FilteredYear\", filter_year_udf(\"Year\"))\n",
    "\n",
    "# Broadcast the capitals data\n",
    "broadcast_capitals = broadcast(capitals_df)\n",
    "\n",
    "# Join the temperature data with the broadcasted country capitals data\n",
    "joined_df = temperature_df.join(broadcast_capitals, on=\"Country\")\n",
    "\n",
    "# Register the joined DataFrame as a temporary table to use Spark SQL\n",
    "joined_df.createOrReplaceTempView(\"joined_temperature_table\")\n",
    "\n",
    "# Use Spark SQL to find the capital, filtered year, and average temperature for each country\n",
    "avg_temp_by_country = spark.sql(\n",
    "    \"SELECT Country, Capital, FilteredYear, AVG(AvgTemperature) AS AvgTemperature \"\n",
    "    \"FROM joined_temperature_table \"\n",
    "    \"WHERE City = Capital AND FilteredYear IS NOT NULL \"\n",
    "    \"GROUP BY Country, Capital, FilteredYear\"\n",
    ")\n",
    "\n",
    "# Apply the UDF to create a new column \"Output\"\n",
    "avg_temp_by_country = avg_temp_by_country.withColumn(\"Output\", format_output_udf(\"Capital\", \"Country\", \"AvgTemperature\"))\n",
    "\n",
    "display(avg_temp_by_country.select(\"Output\"))\n",
    "# display(avg_temp_by_country.select(\"Output\").show(truncate=False))\n"
   ]
  }
 ],
 "metadata": {
  "application/vnd.databricks.v1+notebook": {
   "dashboards": [],
   "language": "python",
   "notebookMetadata": {
    "pythonIndentUnit": 4
   },
   "notebookName": "HW 4, Question 1",
   "widgets": {}
  }
 },
 "nbformat": 4,
 "nbformat_minor": 0
}
